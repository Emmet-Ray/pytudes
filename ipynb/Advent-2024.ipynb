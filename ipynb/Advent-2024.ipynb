{
 "cells": [
  {
   "cell_type": "markdown",
   "id": "4f0ef1f2-0c73-4ef5-b430-48fe4ce450c0",
   "metadata": {},
   "source": [
    "<div style=\"text-align: right\" align=\"right\"><i>Peter Norvig, December 2024</i></div>\n",
    "\n",
    "# Advent of Code 2024\n",
    "\n",
    "I  enjoy doing the [**Advent of Code**](https://adventofcode.com/) (AoC) programming puzzles, so here we go for 2024! This is the 10th year, so congratulations to puzzle creator [**Eric Wastl**](https://adventofcode.com/2024/about). Our old friend [**Gary Grady**](https://find.sciences.social/search/accounts/@garygrady@mastodon.social) is here to provide illustrations:\n",
    "\n",
    "<a href=\"https://x.com/garyjgrady\"><img src=\"https://pbs.twimg.com/media/Gdp709FW8AAq2_m?format=jpg&name=medium\" width=400 alt=\"GaryJGrady cartoon\"></a>\n",
    "\n",
    "Even before December 1st I can start by loading up my [**AdventUtils.ipynb**](AdventUtils.ipynb) notebook (same as last time except for the `current_year`):"
   ]
  },
  {
   "cell_type": "code",
   "execution_count": 668,
   "id": "ed82ed5b-a42d-468b-8f6e-288d3c2de20b",
   "metadata": {},
   "outputs": [
    {
     "name": "stdout",
     "output_type": "stream",
     "text": [
      "3.12.7 | packaged by Anaconda, Inc. | (main, Oct  4 2024, 08:22:19) [Clang 14.0.6 ]\n"
     ]
    }
   ],
   "source": [
    "%run AdventUtils.ipynb\n",
    "current_year = 2024\n",
    "\n",
    "print(sys.version)"
   ]
  },
  {
   "cell_type": "markdown",
   "id": "dfecffd7-6955-45ba-9dc2-1ec805baba85",
   "metadata": {},
   "source": [
    "Each day's solution consists of three parts, making use of my `parse` and `answer` utilities:\n",
    "- **Reading the input**. Parse the input file with, e.g. `pairs = parse(1, ints)`. \n",
    "- **Solving Part One**. Find the solution and record it with, e.g., `answer(1.1, 4, lambda: 2 + 2)`.\n",
    "- **Solving Part Two**. Find the solution and record it with, e.g., `answer(1.2, 9, lambda: 3 * 3)`.\n",
    "\n",
    "The function `parse` assumes that the input is a sequence of sections (default one per line), each of which should be parsed in some way and then returned as a tuple.  The parsing method  `ints` says to treat each section as a tuple of integers. The function `answer` checks that the correct answer is computed (useful for regression testing), and records the run time (that's why a `lambda:` is used). You can read the [**AdventUtils.ipynb**](AdventUtils.ipynb) notebook for more on these functions (and the other utilities used throughout this notebook, such as the `Grid` class).\n",
    "\n",
    "To fully understand each day's puzzle, and to follow along the drama involving Santa, the elves, the reindeer, some elephants, the Chief Historian, and all the rest, you need to read the puzzle descriptions on the [**AoC**](https://adventofcode.com/) site, as linked in the header for each day's solutions (e.g. [**Day 1**](https://adventofcode.com/2023/day/1) below).  "
   ]
  },
  {
   "cell_type": "markdown",
   "id": "4c6120a1-3129-44ff-935c-30c1d81ae028",
   "metadata": {},
   "source": [
    "# [Day 1](https://adventofcode.com/2024/day/1) Historian Hysteria\n",
    "\n",
    "According to the narrative, North Pole Historians created two lists of **location IDs**. We can parse them as a sequence of pairs of integers, and then use the transpose function, `T`, from my [AdventUtils](AdventUtils.ipynb) to get two lists of ID numbers:"
   ]
  },
  {
   "cell_type": "code",
   "execution_count": 671,
   "id": "22e5d621-a152-4712-866f-f8b962b5dd14",
   "metadata": {},
   "outputs": [
    {
     "name": "stdout",
     "output_type": "stream",
     "text": [
      "────────────────────────────────────────────────────────────────────────────────────────────────────\n",
      "Puzzle input ➜ 1000 strs:\n",
      "────────────────────────────────────────────────────────────────────────────────────────────────────\n",
      "38665   13337\n",
      "84587   21418\n",
      "93374   50722\n",
      "68298   57474\n",
      "54771   18244\n",
      "49242   83955\n",
      "66490   44116\n",
      "65908   51323\n",
      "...\n",
      "────────────────────────────────────────────────────────────────────────────────────────────────────\n",
      "Parsed representation ➜ 1000 tuples:\n",
      "────────────────────────────────────────────────────────────────────────────────────────────────────\n",
      "(38665, 13337)\n",
      "(84587, 21418)\n",
      "(93374, 50722)\n",
      "(68298, 57474)\n",
      "(54771, 18244)\n",
      "(49242, 83955)\n",
      "(66490, 44116)\n",
      "(65908, 51323)\n",
      "...\n"
     ]
    }
   ],
   "source": [
    "left, right = location_ids = T(parse(1, ints))"
   ]
  },
  {
   "cell_type": "markdown",
   "id": "63cf2940-e251-49e4-8bc9-f1bcd599f8f4",
   "metadata": {},
   "source": [
    "<img src=\"https://pbs.twimg.com/media/GdvPVOpXcAEZ34_?format=jpg&name=medium\" width=400>\n",
    "\n",
    "### Part 1: What is the total distance between your lists?\n",
    "\n",
    "The **distance** between two numbers is defined as the absolute value of their difference, and the **total distance** between two lists is the sum of the distances between respective pairs, where \"respective\" means to sort each list and then take the distance between the first element of each list, plus the distance between the second element of each list, and so on. (I use the transpose utility function, `T`, to turn the input sequence of 1000 pairs into two lists, each of 1000 integers.)"
   ]
  },
  {
   "cell_type": "code",
   "execution_count": 673,
   "id": "8d6bc9f5-5fa1-4dad-bd43-d957833d8ea9",
   "metadata": {},
   "outputs": [],
   "source": [
    "def total_distance(left: Ints, right: Ints) -> int:\n",
    "    \"\"\"Total distance between respective list elements, after sorting.\"\"\"\n",
    "    return sum(abs(a - b) for a, b in zip(sorted(left), sorted(right)))"
   ]
  },
  {
   "cell_type": "code",
   "execution_count": 674,
   "id": "6ada5e5b-2fb7-4198-a5bb-7b2af4b9270a",
   "metadata": {},
   "outputs": [
    {
     "data": {
      "text/plain": [
       "Puzzle  1.1:   .000 seconds, answer 1830467           ok"
      ]
     },
     "execution_count": 674,
     "metadata": {},
     "output_type": "execute_result"
    }
   ],
   "source": [
    "answer(1.1, 1830467, lambda:\n",
    "       total_distance(left, right))"
   ]
  },
  {
   "cell_type": "markdown",
   "id": "88e26234-f1d2-4a62-86b0-2ad9251215eb",
   "metadata": {},
   "source": [
    "### Part 2: What is their similarity score?\n",
    "\n",
    "The **similarity score** is defined as the sum of each element of the left list times the number of times that value appears in the right list."
   ]
  },
  {
   "cell_type": "code",
   "execution_count": 676,
   "id": "0131e096-38d1-4c13-9e9c-b0d09839a5cf",
   "metadata": {},
   "outputs": [],
   "source": [
    "def similarity_score(left: Ints, right: Ints) -> int:\n",
    "    \"\"\"The sum of each x in `left` times the number of times x appears in `right`.\"\"\"\n",
    "    counts = Counter(right)\n",
    "    return sum(x * counts[x] for x in left)"
   ]
  },
  {
   "cell_type": "code",
   "execution_count": 677,
   "id": "6f6c298a-53a1-4d80-8747-7dd713d4d4f0",
   "metadata": {},
   "outputs": [
    {
     "data": {
      "text/plain": [
       "Puzzle  1.2:   .000 seconds, answer 26674158          ok"
      ]
     },
     "execution_count": 677,
     "metadata": {},
     "output_type": "execute_result"
    }
   ],
   "source": [
    "answer(1.2, 26674158, lambda:\n",
    "       similarity_score(left, right))"
   ]
  },
  {
   "cell_type": "markdown",
   "id": "b9fa4fe0-4194-47d7-b815-b571af98caee",
   "metadata": {},
   "source": [
    "# [Day 2](https://adventofcode.com/2024/day/2): Red-Nosed Reports\n",
    "\n",
    "Today's input is a sequence of **reports**, each of which is a sequence of integers:"
   ]
  },
  {
   "cell_type": "code",
   "execution_count": 679,
   "id": "10e1ab83-a6ec-4143-ad9a-eaae220adcde",
   "metadata": {},
   "outputs": [
    {
     "name": "stdout",
     "output_type": "stream",
     "text": [
      "────────────────────────────────────────────────────────────────────────────────────────────────────\n",
      "Puzzle input ➜ 1000 strs:\n",
      "────────────────────────────────────────────────────────────────────────────────────────────────────\n",
      "74 76 78 79 76\n",
      "38 40 43 44 44\n",
      "1 2 4 6 8 9 13\n",
      "65 68 70 72 75 76 81\n",
      "89 91 92 95 93 94\n",
      "15 17 16 18 19 17\n",
      "46 47 45 48 51 52 52\n",
      "77 78 79 82 79 83\n",
      "...\n",
      "────────────────────────────────────────────────────────────────────────────────────────────────────\n",
      "Parsed representation ➜ 1000 tuples:\n",
      "────────────────────────────────────────────────────────────────────────────────────────────────────\n",
      "(74, 76, 78, 79, 76)\n",
      "(38, 40, 43, 44, 44)\n",
      "(1, 2, 4, 6, 8, 9, 13)\n",
      "(65, 68, 70, 72, 75, 76, 81)\n",
      "(89, 91, 92, 95, 93, 94)\n",
      "(15, 17, 16, 18, 19, 17)\n",
      "(46, 47, 45, 48, 51, 52, 52)\n",
      "(77, 78, 79, 82, 79, 83)\n",
      "...\n"
     ]
    }
   ],
   "source": [
    "reports = parse(2, ints)"
   ]
  },
  {
   "cell_type": "markdown",
   "id": "5dfd72c2-06c6-4c71-ae37-0c2c84074091",
   "metadata": {},
   "source": [
    "### Part 1: How many reports are safe?\n",
    "\n",
    "A report is **safe** if it is  monotonically strictly increasing or strictly decreasing, and if no difference between adjacent numbers is greater than 3 in absolute value."
   ]
  },
  {
   "cell_type": "code",
   "execution_count": 681,
   "id": "0f6b6744-e93d-47cf-accd-daab9f3650d0",
   "metadata": {},
   "outputs": [],
   "source": [
    "def is_safe(report: Ints) -> bool:\n",
    "    \"\"\"A report is safe if all adjacent-number-differences are either in {1, 2, 3} or in {-1, -2, -3}.\"\"\"\n",
    "    deltas = diffs(report)\n",
    "    return deltas.issubset({1, 2, 3}) or deltas.issubset({-1, -2, -3})\n",
    "    \n",
    "def diffs(report: Ints) -> Set[int]:\n",
    "    \"\"\"The set of differences between adjacent numbers in the report.\"\"\"\n",
    "    return {report[i] - report[i - 1] for i in range(1, len(report))}"
   ]
  },
  {
   "cell_type": "markdown",
   "id": "5625ad98-f571-4451-ad19-8614833dfb10",
   "metadata": {},
   "source": [
    "Here are examples of how these functions work:"
   ]
  },
  {
   "cell_type": "code",
   "execution_count": 683,
   "id": "c0cc052b-e9ef-4757-a860-4cd34dd00fb8",
   "metadata": {},
   "outputs": [],
   "source": [
    "assert diffs((7, 6, 4, 2, 1)) == {-1, -2}\n",
    "assert is_safe((7, 6, 4, 2, 1))  == True"
   ]
  },
  {
   "cell_type": "markdown",
   "id": "051c71b7-4375-4812-b7cc-0c50adf20a09",
   "metadata": {},
   "source": [
    "And here is the answer to the puzzle:"
   ]
  },
  {
   "cell_type": "code",
   "execution_count": 685,
   "id": "e662bf10-4d6a-40f1-95ce-dfc39f5b3fc2",
   "metadata": {},
   "outputs": [
    {
     "data": {
      "text/plain": [
       "Puzzle  2.1:   .000 seconds, answer 257               ok"
      ]
     },
     "execution_count": 685,
     "metadata": {},
     "output_type": "execute_result"
    }
   ],
   "source": [
    "answer(2.1, 257, lambda:\n",
    "       quantify(reports, is_safe))"
   ]
  },
  {
   "cell_type": "markdown",
   "id": "ee48bf63-8a67-407b-9a73-df097811eabc",
   "metadata": {},
   "source": [
    "Note: I used my [AdventUtils](AdventUtils.ipynb) function `quantify`, where `quantify(reports, is_safe)` means the number of items in `reports` for which `is_safe` is true.\n",
    "\n",
    "### Part 2: How many reports are safe using the Problem Dampener?\n",
    "\n",
    "The **problem dampener** says that a report is safe if there is some way to drop one element and get a safe report."
   ]
  },
  {
   "cell_type": "code",
   "execution_count": 687,
   "id": "67ba1d53-95b7-4811-b225-2ff15d6bdc5c",
   "metadata": {},
   "outputs": [],
   "source": [
    "def is_safe_with_dampener(report: Ints) -> bool:\n",
    "    \"\"\"Is there any way to drop one element of `report` to get a safe report?\"\"\"\n",
    "    return any(map(is_safe, drop_one(report)))\n",
    "\n",
    "def drop_one(seq: Sequence) -> Iterable:\n",
    "    \"\"\"All ways of dropping one element of the input sequence.\"\"\"\n",
    "    return (seq[:i] + seq[i + 1:] for i in range(len(seq)))\n",
    "\n",
    "assert set(drop_one('1234')) == {'234', '134', '124', '123'}"
   ]
  },
  {
   "cell_type": "code",
   "execution_count": 688,
   "id": "d1b9ffb5-af7a-465f-a063-c31df2d0605c",
   "metadata": {},
   "outputs": [
    {
     "data": {
      "text/plain": [
       "Puzzle  2.2:   .002 seconds, answer 328               ok"
      ]
     },
     "execution_count": 688,
     "metadata": {},
     "output_type": "execute_result"
    }
   ],
   "source": [
    "answer(2.2, 328, lambda:\n",
    "       quantify(reports, is_safe_with_dampener))"
   ]
  },
  {
   "cell_type": "markdown",
   "id": "54d6a0c2-a8ed-404d-abc0-72aa28a49f5d",
   "metadata": {},
   "source": [
    "# [Day 3](https://adventofcode.com/2024/day/3): Mull It Over\n",
    "\n",
    "Today's input is a computer program with some corrupted characters. The program has multiple lines, but newlines don't matter in this programming language, so I will concatenate them into one big string:"
   ]
  },
  {
   "cell_type": "code",
   "execution_count": 690,
   "id": "78080200-0f9f-4492-9bee-c936737ee96f",
   "metadata": {},
   "outputs": [
    {
     "name": "stdout",
     "output_type": "stream",
     "text": [
      "────────────────────────────────────────────────────────────────────────────────────────────────────\n",
      "Puzzle input ➜ 6 strs:\n",
      "────────────────────────────────────────────────────────────────────────────────────────────────────\n",
      "where(536,162)~'what()what()how(220,399){ mul(5,253);mul(757,101)$where()@why()who()&when()from( ...\n",
      "}?~who()select()-mul(316,505)&%*how()mul(363,589)>?%-:)where()~{{mul(38,452)select()%>[{]%>%mul( ...\n",
      "?>where(911,272)'mul(894,309)~+%@#}@#why()mul(330,296)what()mul(707,884)mul;&}<{>where()$why()]m ...\n",
      "> (when()[where()/#!/usr/bin/perl,@;mul(794,217)select():'])select()mul(801,192)why()&]why()/:]* ...\n",
      ",+who():mul(327,845)/ >@[>@}}mul(86,371)!~&&~how(79,334)mul(637,103)why()mul(358,845)-#~?why(243 ...\n",
      "where()#{*,!?:$mul(204,279)what()!{ what()mul(117,94)!select()>:mul(665,432)#don't()!!<!? mul(50 ...\n"
     ]
    }
   ],
   "source": [
    "program = cat(parse(3))"
   ]
  },
  {
   "cell_type": "markdown",
   "id": "5327e631-502f-4687-83d5-84a4e4012ccf",
   "metadata": {},
   "source": [
    "<a href=\"https://x.com/garyjgrady\"><img src=\"https://pbs.twimg.com/media/Gd5ZSI9XEAAAzQh?format=jpg&name=small\" width=400 alt=\"GaryJGrady cartoon\"></a>\n",
    "\n",
    "\n",
    "### Part 1: What do you get if you add up all of the results of the multiplications?\n",
    "\n",
    "For Part 1, just look for instructions of the form \"mul(*digits*,*digits*)\", using a regular expression and `re.findall`. Perform each of these multiplications and add them up, and ignore all other characters/instructions:"
   ]
  },
  {
   "cell_type": "code",
   "execution_count": 1119,
   "id": "bf6366b1-6952-47d8-8b3c-09f8d05ec093",
   "metadata": {},
   "outputs": [],
   "source": [
    "def execute(program: str) -> int:\n",
    "    \"\"\"The sum of the results of the multiply instructions.\"\"\"\n",
    "    return sum(prod(ints(m)) for m in all_multiplications(program))\n",
    "\n",
    "all_multiplications = re.compile(r'mul\\(\\d+,\\d+\\)').findall"
   ]
  },
  {
   "cell_type": "code",
   "execution_count": 1121,
   "id": "2032c903-5f23-4c16-ba68-410b6c1750e1",
   "metadata": {},
   "outputs": [
    {
     "data": {
      "text/plain": [
       "Puzzle  3.1:   .002 seconds, answer 156388521         ok"
      ]
     },
     "execution_count": 1121,
     "metadata": {},
     "output_type": "execute_result"
    }
   ],
   "source": [
    "answer(3.1, 156388521, lambda: \n",
    "       execute(program))"
   ]
  },
  {
   "cell_type": "markdown",
   "id": "d39477c7-5c81-41a9-83a3-5b1bfdef273a",
   "metadata": {},
   "source": [
    "Here's an example of `all_multiplications`:"
   ]
  },
  {
   "cell_type": "code",
   "execution_count": 1124,
   "id": "85844f51-1396-4299-ba5b-c61064ee02b6",
   "metadata": {},
   "outputs": [],
   "source": [
    "assert all_multiplications(\"mul(1,2) + mul(34,5) - mul(67,89] / mul(x,15)\") == ['mul(1,2)', 'mul(34,5)']"
   ]
  },
  {
   "cell_type": "markdown",
   "id": "622d7010-145e-422a-a592-d4b446afcc0f",
   "metadata": {},
   "source": [
    "### Part 2: What do you get if you add up all of the results of just the enabled multiplications?\n",
    "\n",
    "For Part 2, the instruction \"`don't()`\"  says to **disable** (ignore) following multiply instructions until a \"`do()`\" instruction **enables** them again. I will define the function `enabled`, which returns the part of the program that is enabled, by susbstituting a space for the \"`don't()...do()`\" sequence (or a \"`don't()...`\" sequence that goes to the end of the file)."
   ]
  },
  {
   "cell_type": "code",
   "execution_count": 697,
   "id": "4525d01a-bac0-41c2-92b8-baf0fd395e88",
   "metadata": {},
   "outputs": [],
   "source": [
    "def enabled_part(program: str) -> str:\n",
    "    \"\"\"Just the part of the program that is enabled; remove \"don't()...do()\" text.\"\"\"\n",
    "    return re.sub(r\"don't\\(\\).*?(do\\(\\)|$)\", \" \", program)"
   ]
  },
  {
   "cell_type": "code",
   "execution_count": 698,
   "id": "ce40f258-ca76-48c3-9965-27a6979a4243",
   "metadata": {},
   "outputs": [
    {
     "data": {
      "text/plain": [
       "Puzzle  3.2:   .000 seconds, answer 75920122          ok"
      ]
     },
     "execution_count": 698,
     "metadata": {},
     "output_type": "execute_result"
    }
   ],
   "source": [
    "answer(3.2, 75920122, lambda:\n",
    "       execute(enabled_part(program)))"
   ]
  },
  {
   "cell_type": "markdown",
   "id": "e1448343-6488-45ad-b03d-d7928feb75cd",
   "metadata": {},
   "source": [
    "# [Day 4](https://adventofcode.com/2024/day/4): Ceres Search\n",
    "\n",
    "Today's puzzle is a 2D word-search puzzle:"
   ]
  },
  {
   "cell_type": "code",
   "execution_count": 700,
   "id": "a0d903b9-018e-4861-9314-cafed59055fd",
   "metadata": {},
   "outputs": [
    {
     "name": "stdout",
     "output_type": "stream",
     "text": [
      "────────────────────────────────────────────────────────────────────────────────────────────────────\n",
      "Puzzle input ➜ 140 strs:\n",
      "────────────────────────────────────────────────────────────────────────────────────────────────────\n",
      "MASAMXMSSXXMAMXXMXMASXMASXMMSMSMMMAXMASASMMSSMSXAXMASMMSMMMSSMSASMSSSSMSMSMXXMXMAXAMXMSMSSXSAMXM ...\n",
      "MASMMXMASAXASMSMMMSAMXSMSAMXAAAAAXAMXASXAMAAAAMMSMMMMMASXAAAAMMAMAMMASAAAAXMXMSSSSSSMMSAMAXAXXSM ...\n",
      "MMXAXMMMSXMAMAAXAAXAAAXXSMMSMSMSMXAXMXSMMMMSSMXAMXAAXMAMMMMSSMMAMAMMAMMMMMXSAAXAAMMAXXSAMXMSMAXM ...\n",
      "SXSAMASASMSXMSMSMSSMMMMMMXAMXMMXMASMMMMAXXAAAMMMSSSSSMASXXAAXASMSXXMXSXSXSASMSMMSMSAMMMAMXAAMASX ...\n",
      "AAAXXXMASASXMXMAXXMMASAASMXSASASXAAAAMSSMMMSXMAAMMMMMXAXMMMMSAMXAMASAMXSAMASXXAXAAMAMXSAMXSXSMMA ...\n",
      "MSMMXXMMMAMAMMMMMMXSAXXAMMMMXSAXMMXXAMXAAMMXMASXMAAASMMXAAMXAXAMMMAMAMAMAMXMASXMMXMAAXMAXMAMXMSA ...\n",
      "MXAXAMXXMMMMSAMAASMMMSMMASASAMAMAXMSXMSMMXAMXAXMMSSXSASXSSSMAMSMXMXSAMSSSMAMXMXAMAXXMMSAXAXMMXMA ...\n",
      "ASXMMXSAMXAASXXMXSAAAXASAMMMASMSSSMAAMMXMMSSMASAMAMMMAMMAXMAXMASXMAXMSAAASASAMXSSMXSAAXSSMXAAXXA ...\n",
      "...\n"
     ]
    }
   ],
   "source": [
    "xmas_grid = Grid(parse(4))"
   ]
  },
  {
   "cell_type": "markdown",
   "id": "16d56872-be2c-4e9d-8821-a0fe9f66970b",
   "metadata": {},
   "source": [
    "### Part 1: How many times does XMAS appear?\n",
    "\n",
    "We just have to find how many times the word \"XMAS\" appears in the grid, horizontally, vertically, or diagonally, forwards or backwards.  The variable `directions8` contains those eight directions (as (delta-x, delta-y) pairs). So examine each square of the grid and if it contains \"X\", see in how many of the directions it spells \"XMAS\". (Note that locations in the grid are denoted by `(x, y)` coordinates, as are directions (e.g., `(1, 0)` is the `East` direction. The functions `add2` and `mul2` do addition and scalar multiplication on these 2D vectors.)"
   ]
  },
  {
   "cell_type": "code",
   "execution_count": 702,
   "id": "72d48abb-7a82-452f-b91d-838b3836a90f",
   "metadata": {},
   "outputs": [],
   "source": [
    "def word_search(grid: Grid, word='XMAS') -> int:\n",
    "    \"\"\"How many times does the given word appear in the grid?\"\"\"\n",
    "    return quantify(grid_can_spell(grid, start, dir, word) \n",
    "                    for start in grid \n",
    "                    if grid[start] == word[0]\n",
    "                    for dir in directions8)\n",
    "\n",
    "def grid_can_spell(grid, start, dir, word):\n",
    "    \"\"\"Does `word` appear in grid starting at `start` and going in direction `dir`?\"\"\"\n",
    "    return all(grid[add2(start, mul2(dir, i))] == word[i] \n",
    "               for i in range(len(word)))"
   ]
  },
  {
   "cell_type": "code",
   "execution_count": 703,
   "id": "6175362b-d8b4-45d1-b70c-d8575a0fe188",
   "metadata": {},
   "outputs": [
    {
     "data": {
      "text/plain": [
       "Puzzle  4.1:   .022 seconds, answer 2401              ok"
      ]
     },
     "execution_count": 703,
     "metadata": {},
     "output_type": "execute_result"
    }
   ],
   "source": [
    "answer(4.1, 2401, lambda:\n",
    "       word_search(xmas_grid))"
   ]
  },
  {
   "cell_type": "markdown",
   "id": "eabe90c4-b668-4d9e-a345-b09f4b8ee42b",
   "metadata": {},
   "source": [
    "### Part 2: How many times does an X-MAS appear?\n",
    "\n",
    "Upon further review, the goal is not to find \"XMAS\" byt rather X-\"MAS\"; that is, two \"MAS\" words in an X pattern. The pattern can be any of these four:\n",
    "\n",
    "     M.S     S.M     M.M     S.S\n",
    "     .A.     .A.     .A.     .A.\n",
    "     M.S     S.M     S.S     M.M\n",
    "\n",
    "I decided to find these by first looking for each the middle letter (\"A\") in the grid, and then, for each \"A\" and for each of the four pairs of diagonal directions, see if the target word (\"MAS\") can be spelled in both directions:"
   ]
  },
  {
   "cell_type": "code",
   "execution_count": 705,
   "id": "3d8a051f-cf7b-4e8c-b0fb-78c3f089989d",
   "metadata": {},
   "outputs": [],
   "source": [
    "diagonal_pairs = ([SE, NE], [SW, NW],  [SE, SW], [NE, NW])\n",
    "\n",
    "def x_search(grid: Grid, word='MAS') -> int:\n",
    "    \"\"\"How many times does an X-MAS appear in the grid?\"\"\"\n",
    "    A = word[1] # The letter in the middle of the cross\n",
    "    return quantify((grid_can_spell(grid, sub2(mid_pos, dir1), dir1, word) and\n",
    "                     grid_can_spell(grid, sub2(mid_pos, dir2), dir2, word))\n",
    "                    for mid_pos in grid.findall(A) # All positions where A appears\n",
    "                    for dir1, dir2 in diagonal_pairs)"
   ]
  },
  {
   "cell_type": "code",
   "execution_count": 706,
   "id": "64cde1d9-f58c-4633-b5da-87908a02f76d",
   "metadata": {},
   "outputs": [
    {
     "data": {
      "text/plain": [
       "Puzzle  4.2:   .016 seconds, answer 1822              ok"
      ]
     },
     "execution_count": 706,
     "metadata": {},
     "output_type": "execute_result"
    }
   ],
   "source": [
    "answer(4.2, 1822, lambda:\n",
    "       x_search(xmas_grid))"
   ]
  },
  {
   "cell_type": "markdown",
   "id": "0249ce80-e649-44b3-8c02-613fc7652110",
   "metadata": {},
   "source": [
    "# [Day 5](https://adventofcode.com/2024/day/5): Print Queue\n",
    "\n",
    "Today's puzzle involves some **sleigh launch safety manuals** that need to be updated with new printings. The day's input is in two sections: the first a set of **rules** such as \"47|53\", which means that if an update prints both page 47 and page 53, then it must print 47 sometime before 53. The second section is a list of **updates** of the form \"75,47,61,53,29\", meaning that for one version of the safety manual, those are the pages that need to be printed, and that is the suggested order of printing.\n",
    "\n",
    "<img src=\"https://pbs.twimg.com/media/GeEU0XgWAAARMw-?format=jpg&name=medium\" width=400>\n",
    "\n",
    "I mostly like my `parse` function: it is easy to tell it how to break the input into sections and how to parse every section. But I admit my `parse` is not ideal when an input file has sections with two different formats. I'll parse the two sections as paragraphs, and then call `parse` again on each paragraph:"
   ]
  },
  {
   "cell_type": "code",
   "execution_count": 708,
   "id": "b77a5a1f-a43b-4ce8-a60c-94d69a595505",
   "metadata": {},
   "outputs": [
    {
     "name": "stdout",
     "output_type": "stream",
     "text": [
      "────────────────────────────────────────────────────────────────────────────────────────────────────\n",
      "Puzzle input ➜ 1366 strs:\n",
      "────────────────────────────────────────────────────────────────────────────────────────────────────\n",
      "48|39\n",
      "39|84\n",
      "39|23\n",
      "95|51\n",
      "95|76\n",
      "95|61\n",
      "14|52\n",
      "14|49\n",
      "...\n",
      "────────────────────────────────────────────────────────────────────────────────────────────────────\n",
      "Parsed representation ➜ 2 strs:\n",
      "────────────────────────────────────────────────────────────────────────────────────────────────────\n",
      "48|39\n",
      "39|84\n",
      "39|23\n",
      "95|51\n",
      "95|76\n",
      "95|61\n",
      "14|52\n",
      "14|49\n",
      "14|39\n",
      "14|53\n",
      "85|19\n",
      "85|25\n",
      "85|61\n",
      "85|35\n",
      "85|58\n",
      "74|86\n",
      " ...\n",
      "61,58,51,32,12,14,71\n",
      "58,25,54,14,12,94,32,76,39\n",
      "35,53,26,77,14,71,25,76,85,55,51,49,95\n",
      "32,91,76, ...\n"
     ]
    }
   ],
   "source": [
    "manual  = parse(5, sections=paragraphs)\n",
    "rules   = set(parse(manual[0], ints))\n",
    "updates = parse(manual[1], ints)"
   ]
  },
  {
   "cell_type": "markdown",
   "id": "c6e4d0b6-c69e-4284-9757-cf3ce51b196c",
   "metadata": {},
   "source": [
    "Here I show what the rules and updates look like:"
   ]
  },
  {
   "cell_type": "code",
   "execution_count": 710,
   "id": "4c85a23e-686a-4129-a14c-ff6f6a88b9ac",
   "metadata": {},
   "outputs": [],
   "source": [
    "assert (48, 39) in rules # `rules` is a set of (earlier, later) page number pairs\n",
    "assert updates[0] == (61, 58, 51, 32, 12, 14, 71) # `updates` is a sequence of page number tuples"
   ]
  },
  {
   "cell_type": "markdown",
   "id": "d6b6d374-cbe9-4b84-a1dd-d9df927c7182",
   "metadata": {},
   "source": [
    "### Part 1: What do you get if you add up the middle page number from the correctly-ordered updates?\n",
    "\n",
    "An update is correct if no combination of two pages in the update violates any of the rules. I'll define `is_correct` to implement this check, and `sum_of_correct_middles` to add up the middle numbers of the correct updates:"
   ]
  },
  {
   "cell_type": "code",
   "execution_count": 712,
   "id": "78898d37-46ff-4367-9d89-b2a107a90aa1",
   "metadata": {},
   "outputs": [],
   "source": [
    "def sum_of_correct_middles(rules: Set[Ints], updates: Tuple[Ints]) -> int:\n",
    "    \"\"\"The sum of the middle elements of each update that is correct.\"\"\"\n",
    "    return sum(middle(update) for update in updates if is_correct(update, rules))\n",
    "\n",
    "def is_correct(update: Ints, rules: Set[Ints]) -> bool:\n",
    "    \"\"\"An update is correct if no pair of pages violates a rule in the rules set.\"\"\"\n",
    "    return not any((second, first) in rules for (first, second) in combinations(update, 2))\n",
    "\n",
    "def middle(seq: Sequence) -> object: return seq[len(seq) // 2]"
   ]
  },
  {
   "cell_type": "code",
   "execution_count": 713,
   "id": "b1c87359-1d2d-4a90-8305-9d152ce5d547",
   "metadata": {},
   "outputs": [
    {
     "data": {
      "text/plain": [
       "Puzzle  5.1:   .001 seconds, answer 5762              ok"
      ]
     },
     "execution_count": 713,
     "metadata": {},
     "output_type": "execute_result"
    }
   ],
   "source": [
    "answer(5.1, 5762, lambda:\n",
    "       sum_of_correct_middles(rules, updates))"
   ]
  },
  {
   "cell_type": "markdown",
   "id": "80da4fd9-b11e-4dbb-8d22-2071d1a89827",
   "metadata": {},
   "source": [
    "### Part 2: What do you get if you add up the middle page numbers of the correction of each incorrect update?\n",
    "\n",
    "In Part 2 we have to find the incorrect updates, re-order them into a correct order, and sum the middle page numbers of just these corrected updates.\n",
    "Since I have already defined `is_correct`, I could just generate all permutations of each update and find one that `is_correct`. That would work great if the longest update consists of only 5 pages, as it does in the example input. But what is the longest update in *my* input?"
   ]
  },
  {
   "cell_type": "code",
   "execution_count": 715,
   "id": "d8718c3e-0b3b-49ce-8cca-abd82aa788d7",
   "metadata": {},
   "outputs": [
    {
     "data": {
      "text/plain": [
       "23"
      ]
     },
     "execution_count": 715,
     "metadata": {},
     "output_type": "execute_result"
    }
   ],
   "source": [
    "max(map(len, updates))"
   ]
  },
  {
   "cell_type": "markdown",
   "id": "4449200f-dd19-48f1-94b2-7304daa9fa00",
   "metadata": {},
   "source": [
    "That's not great. With 23 page numbers there are 23! permutations, which is over 25 sextillion. So instead, here's my strategy:\n",
    "\n",
    "- Instead of generating all permutations, `correction` will **sort** an update, returning a corrected reordering that obeys all the rules. This is a [topological sort](https://en.wikipedia.org/wiki/Topological_sorting) and is guaranteed to give a correct reordering (unless the rules contain a contradiction like \"2 must be before 3 and 3 must be before 2\"). There may be multiple correct orderings (for example, if there are no rules involving the pages in the update, then any ordering is correct). It used to be that Python's `sort` method allowed a `cmp` keyword to compare two values; there is vestigial support for this with the `functools.cmp_to_key` function. I will sort each update so that page *m* comes before page *n* if (*m*, *n*) is in the rules, and *m* comes after *n* if (*n*, *m*) is in the rules. Sorting will be about a sextillion times faster than enumerating permutations.\n",
    "- `corrected` will find all the incorrect updates and correct them."
   ]
  },
  {
   "cell_type": "code",
   "execution_count": 1135,
   "id": "7222dc1c-067f-4bb5-84e1-3c2fc72fd53a",
   "metadata": {},
   "outputs": [],
   "source": [
    "def correction(update: Ints, rules) -> Ints:\n",
    "    \"\"\"Reorder the update to make it correctly obey all the rules.\"\"\"\n",
    "    def rule_lookup(m, n): return +1 if (m, n) in rules else -1 if (n, m) in rules else 0\n",
    "    return sorted(update, key=functools.cmp_to_key(rule_lookup))\n",
    "\n",
    "def corrected(updates, rules) -> List[Ints]:\n",
    "    \"\"\"Returns a list of corrected versions of all the incorrect rules.\"\"\"\n",
    "    return [correction(update, rules) for update in updates if not is_correct(update, rules)]"
   ]
  },
  {
   "cell_type": "code",
   "execution_count": 1137,
   "id": "494cda6e-6b07-4054-9b03-45f61bd4f973",
   "metadata": {},
   "outputs": [
    {
     "data": {
      "text/plain": [
       "Puzzle  5.2:   .003 seconds, answer 4130              ok"
      ]
     },
     "execution_count": 1137,
     "metadata": {},
     "output_type": "execute_result"
    }
   ],
   "source": [
    "answer(5.2, 4130, lambda:\n",
    "       sum_of_correct_middles([], corrected(updates, rules)))"
   ]
  },
  {
   "cell_type": "markdown",
   "id": "53b1ccbc-01ae-43d0-a75f-3f9389fdd3c9",
   "metadata": {},
   "source": [
    "I have to say, I'm pleased that this day I got both parts right with no errors (and in fact, the same for the previous days). I was worried I might have my `+1` and `-1` backwards in `cmp_to_key`, but so far, everything has gone smoothly. (However, even if I started solving the moment that the puzzles are released, I wouldn't show up on the leaderboard;  I'm still *way* slower than the skilled contest programmers."
   ]
  },
  {
   "cell_type": "markdown",
   "id": "38258423-e3b8-4bae-8aeb-28f07f0d5a35",
   "metadata": {},
   "source": [
    "# [Day 6](https://adventofcode.com/2024/day/6): Guard Gallivant\n",
    "\n",
    "Today's input is a 2D map of the manufacturing lab, with \"`.`\" indicating an empty space, \"`#`\" indicating an obstruction, and \"`^`\" indicating the position of the security guard."
   ]
  },
  {
   "cell_type": "code",
   "execution_count": 721,
   "id": "6ec71cf8-c43d-457e-8e14-0e9eb99b956a",
   "metadata": {},
   "outputs": [
    {
     "name": "stdout",
     "output_type": "stream",
     "text": [
      "────────────────────────────────────────────────────────────────────────────────────────────────────\n",
      "Puzzle input ➜ 130 strs:\n",
      "────────────────────────────────────────────────────────────────────────────────────────────────────\n",
      "........#........................................#......#........#.............................. ...\n",
      "....................................#......#.....#............#.............#..........#........ ...\n",
      "......................#.......................................................#................. ...\n",
      ".......#..#..#....#...#...#....#..............#......#.......#...#................#.......#..... ...\n",
      "......................#....##...#.......#....#.......................................#.......... ...\n",
      "...#............................#........................................#...................... ...\n",
      "....................#............#...............#......#.........#...........#................. ...\n",
      "............................#......#...#................#.............#......................... ...\n",
      "...\n"
     ]
    }
   ],
   "source": [
    "lab_grid = Grid(parse(6))"
   ]
  },
  {
   "cell_type": "markdown",
   "id": "4ba233f4-90aa-4249-9569-10288c34940d",
   "metadata": {},
   "source": [
    "### Part 1: How many distinct positions will the guard visit before leaving the mapped area?\n",
    "\n",
    "The guard follows this protocol: \n",
    "- If there is something directly in front of you, turn right 90 degrees.\n",
    "- Otherwise, take a step forward.\n",
    "\n",
    "I'll define `follow_path` to output a list of all the positions the guard occupies. I realize the puzzle is only asking for a *count* of the positions, but the path might be useful for Part 2, or for debugging, so I'll return it. I worried that it is also possible for a path to become a loop, but the puzzle statement specifically says that can't happen (the guard will always march off the grid), so I won't test for it."
   ]
  },
  {
   "cell_type": "code",
   "execution_count": 1146,
   "id": "95f0b409-a6d6-47bc-8ce5-1c2df80f2b18",
   "metadata": {},
   "outputs": [],
   "source": [
    "def follow_path(grid: Grid, guard='^', facing=North) -> List[Point]:\n",
    "    \"\"\"A list of all points in the path followed by the guard.\n",
    "    The guard turns right when there is an obstacle ahead, otherwise goes forward.\"\"\"\n",
    "    path = grid.findall(guard) # A one-element list of positions, e.g. [(3, 4)]\n",
    "    while (ahead := add2(path[-1], facing)) in grid:\n",
    "        if grid[ahead] == '#':\n",
    "            facing = make_turn(facing, 'R')\n",
    "        else:\n",
    "            path.append(ahead)\n",
    "    return path"
   ]
  },
  {
   "cell_type": "code",
   "execution_count": 724,
   "id": "f4be3d1f-7f24-4d55-8221-df0026178e1e",
   "metadata": {},
   "outputs": [
    {
     "data": {
      "text/plain": [
       "Puzzle  6.1:   .002 seconds, answer 5329              ok"
      ]
     },
     "execution_count": 724,
     "metadata": {},
     "output_type": "execute_result"
    }
   ],
   "source": [
    "answer(6.1, 5329, lambda: \n",
    "       len(set(follow_path(lab_grid))))"
   ]
  },
  {
   "cell_type": "markdown",
   "id": "eaf72ac3-ade0-4479-a090-1d0f292ecc27",
   "metadata": {},
   "source": [
    "I initially had a **bug**; I returned for the length of the **path**, not the length of the **set** of positions in the path. Since the path crosses itself these two numbers are different.\n",
    "                                  \n",
    "### Part 2: How many different positions could you choose for an obstruction to put the guard in a loop?\n",
    "\n",
    "The historians would like to place a single obstacle so that the guard *will* get stuck in a loop, rather than exiting the grid. They want to know all possible positions for the obstacle. What do we know about such positions?\n",
    "- An obstacle  position must be somewhere on the guard's path, otherwise it would have no effect.\n",
    "- The instructions say it can't be the guard's initial position.\n",
    "- A loop is when the guard's path returns to the same position with the same facing. This means my Part 1 solution, which returns the list of visited positions, is not helpful: it is not a loop if the guard is in position *p* facing East and then later returns to position *p* facing South. \n",
    "- Thus, I can detect a loop by keeping a set of previously visited position/facing pairs.\n",
    "- I can make slightly less work by only storing the *corners* of the path: the places where the guard turns. \n",
    "- The simplest approach for finding obstacle positions is to temporarily place an obstacle on each point on the path, one at a time, and see if it leads to a loop.\n",
    "- There are 5,329 positions on the path, so the runtime should be about 5,000 times longer than Part 1; on the order of 10 seconds or so. I'll try it, and if it seems too slow, I'll try to think of something better."
   ]
  },
  {
   "cell_type": "code",
   "execution_count": 726,
   "id": "1718fecb-aa3e-4162-9948-1c06d4ec5e8a",
   "metadata": {},
   "outputs": [],
   "source": [
    "def is_loopy_path(grid: Grid, guard_pos, facing=North) -> bool:\n",
    "    \"\"\"Does the path followed by the guard form a loop?\"\"\"\n",
    "    path = {(guard_pos, facing)}\n",
    "    while (ahead := add2(guard_pos, facing)) in grid:\n",
    "        if grid[ahead] == '#':\n",
    "            facing = make_turn(facing, 'R')\n",
    "            if (guard_pos, facing) in path:\n",
    "                return True\n",
    "            path.add((guard_pos, facing))\n",
    "        else:\n",
    "            guard_pos = ahead\n",
    "    return False\n",
    "    \n",
    "def find_loopy_obstacles(grid: Grid) -> Iterable[Point]:\n",
    "    \"\"\"All positions in which placing an obstacle would result in a loopy path for the guard.\"\"\"\n",
    "    guard_pos = the(grid.findall('^'))\n",
    "    for pos in set(follow_path(grid)) - {guard_pos}:\n",
    "        grid[pos] = '#' # Temporarily place an obstacle \n",
    "        if is_loopy_path(grid, guard_pos):\n",
    "            yield pos\n",
    "        grid[pos] = '.' # Remove the temporarily-placed obstacle"
   ]
  },
  {
   "cell_type": "code",
   "execution_count": 727,
   "id": "36196264-eb33-4fc0-95d5-06c985105ebf",
   "metadata": {},
   "outputs": [
    {
     "data": {
      "text/plain": [
       "Puzzle  6.2:  1.976 seconds, answer 2162              ok"
      ]
     },
     "execution_count": 727,
     "metadata": {},
     "output_type": "execute_result"
    }
   ],
   "source": [
    "answer(6.2, 2162, lambda:\n",
    "       quantify(find_loopy_obstacles(lab_grid)))"
   ]
  },
  {
   "cell_type": "markdown",
   "id": "9f3ee6f9-7ec7-4248-ae52-1804fdc81dbd",
   "metadata": {},
   "source": [
    "That was my first run time over a second, but still faster than I thought it would be. I guess many of the obstacles force the guard into a small, fast loop, or an early exit from the grid. Note that in `the(grid.findall('^'))`, `findall` is a method from my `Grid` class that finds all locations where a `'^'` character resides, and `the` is my utility function that returns the first element of a one-element list (and raises an error if there is not exactly one element).\n",
    "\n",
    "I had a **bug** initially, and never figured out what it was; it went away when I refactored to make the program nicer."
   ]
  },
  {
   "cell_type": "markdown",
   "id": "9eae8cf2-8c97-418e-b00b-3ea0187da526",
   "metadata": {},
   "source": [
    "# [Day 7](https://adventofcode.com/2024/day/7): Bridge Repair\n",
    "\n",
    "The narrative for today involves fixing a bridge, and each line of our input represents a **calibration equation** for the bridge. Unfortunately, some nearby elephants stole all the operators from the equations, so all that is left are the integers:"
   ]
  },
  {
   "cell_type": "code",
   "execution_count": 730,
   "id": "c1c6cee8-122c-43c9-8c7d-ed8980ea2b76",
   "metadata": {},
   "outputs": [
    {
     "name": "stdout",
     "output_type": "stream",
     "text": [
      "────────────────────────────────────────────────────────────────────────────────────────────────────\n",
      "Puzzle input ➜ 850 strs:\n",
      "────────────────────────────────────────────────────────────────────────────────────────────────────\n",
      "202998336: 686 9 7 62 2 673\n",
      "19275222: 361 3 7 170 65 5 223\n",
      "23101: 7 694 916 4 6\n",
      "2042426: 6 34 2 423 3\n",
      "40369523: 8 880 91 45 23\n",
      "46629044796: 990 471 4 4 796\n",
      "1839056: 3 42 2 4 3 258 703 4 8\n",
      "26205: 2 9 5 9 9 4 3 7 44 5 8 7\n",
      "...\n",
      "────────────────────────────────────────────────────────────────────────────────────────────────────\n",
      "Parsed representation ➜ 850 tuples:\n",
      "────────────────────────────────────────────────────────────────────────────────────────────────────\n",
      "(202998336, 686, 9, 7, 62, 2, 673)\n",
      "(19275222, 361, 3, 7, 170, 65, 5, 223)\n",
      "(23101, 7, 694, 916, 4, 6)\n",
      "(2042426, 6, 34, 2, 423, 3)\n",
      "(40369523, 8, 880, 91, 45, 23)\n",
      "(46629044796, 990, 471, 4, 4, 796)\n",
      "(1839056, 3, 42, 2, 4, 3, 258, 703, 4, 8)\n",
      "(26205, 2, 9, 5, 9, 9, 4, 3, 7, 44, 5, 8, 7)\n",
      "...\n"
     ]
    }
   ],
   "source": [
    "equations = parse(7, ints)"
   ]
  },
  {
   "cell_type": "markdown",
   "id": "be207b67-a970-4f79-85be-5d62b7cedd9f",
   "metadata": {},
   "source": [
    "<img src=\"https://pbs.twimg.com/media/GeOKVYiX0AAwNMy?format=jpg&name=medium\" width=400> "
   ]
  },
  {
   "cell_type": "markdown",
   "id": "2e31d28f-97b1-4a3d-a298-18fcad297150",
   "metadata": {},
   "source": [
    "### Part 1: What is the total calibration result of possibly true equations?\n",
    "\n",
    "Our task is to find operators to balance each equation. The input \"`3267: 81 40 27`\" can be made into the equation \"`3267 = 81 + 40 * 27`\", with the understanding that all evaluations are done left-to-right, so this is \"`3267 = ((81 + 40) * 27)`\". The two allowable operators are addition and multiplication. Our task is to compute the sum of all the equations that can be balanced.\n",
    "\n",
    "The straightforward approach is to try both operators on every number. If there are *n* numbers in an equation, then there are *n* - 1 numbers on the right-hand side, and *n* - 2 missing operators, so there will be 2<sup>*n*-2</sup> possible equations. Is that going to be a problem?"
   ]
  },
  {
   "cell_type": "code",
   "execution_count": 733,
   "id": "6fa3907c-0e1a-4d4a-9fc3-f809b9325674",
   "metadata": {},
   "outputs": [
    {
     "data": {
      "text/plain": [
       "13"
      ]
     },
     "execution_count": 733,
     "metadata": {},
     "output_type": "execute_result"
    }
   ],
   "source": [
    "max(map(len, equations))"
   ]
  },
  {
   "cell_type": "markdown",
   "id": "e0d9b0b2-fe1e-434e-b84e-c044da3d3673",
   "metadata": {},
   "source": [
    "No problem! With 13 numbers on a line there are just 2<sup>11</sup> = 2048 equations; a small number.  I'll define `can_be_calibrated` to try all possible operator combinations. It goes left-to-right, one number at a time, keeping a list of partial `results` which is updated for each new number in the equation. \n",
    "\n",
    "Although the puzzle instructions are a bit vague, it appears that when they say \"numbers\" they mean \"positive integers\". Therefore, neither addition nor multiplication can cause a partal result to decrease, so once a partial result exceeds the target, we can drop it."
   ]
  },
  {
   "cell_type": "code",
   "execution_count": 1207,
   "id": "5dfe0edf-cf29-4623-bb2c-6180f832f4d7",
   "metadata": {},
   "outputs": [],
   "source": [
    "def can_be_calibrated(equation: ints, operators=(operator.add, operator.mul)) -> bool:\n",
    "    \"\"\"Can the equation be balanced using '+' and '*' operators?\"\"\"\n",
    "    target, first, *rest = equation\n",
    "    results = [first] # A list of all possible results of the partial computation\n",
    "    for y in rest:\n",
    "        results = [op(x, y) for x in results if x <= target for op in operators]\n",
    "    return target in results\n",
    "\n",
    "def lhs(equation) -> int: \"Left-hand side\"; return equation[0]"
   ]
  },
  {
   "cell_type": "code",
   "execution_count": 1209,
   "id": "3085596d-f5ec-4ba8-b05a-cf70cf276a0c",
   "metadata": {},
   "outputs": [
    {
     "data": {
      "text/plain": [
       "Puzzle  7.1:   .026 seconds, answer 1985268524462     ok"
      ]
     },
     "execution_count": 1209,
     "metadata": {},
     "output_type": "execute_result"
    }
   ],
   "source": [
    "answer(7.1, 1985268524462, lambda:\n",
    "    sum(lhs(equation) for equation in equations if can_be_calibrated(equation)))"
   ]
  },
  {
   "cell_type": "markdown",
   "id": "62a5fe5f-e23f-4420-87a8-47d8be02fbc0",
   "metadata": {},
   "source": [
    "### Part 2: What is the total calibration result of possibly true equations, allowing concatenation?\n",
    "\n",
    "In Part 2, a third operator is allowed: concatentation. The equation \"`192: 17 8 14`\" can be balanced by concatenated 17 and 8 to get 178, and then adding 14 to get 192: \"`192 = ((17 || 8) + 14)`\". With three operators, the equation with 11 operators now has 3<sup>11</sup> = 177,147 possibilities, almost 100 times more than Part 1, so this will take longer:"
   ]
  },
  {
   "cell_type": "code",
   "execution_count": 1219,
   "id": "393a50cf-f136-446a-a97e-c501669ce89f",
   "metadata": {},
   "outputs": [],
   "source": [
    "operators3 = (operator.add, operator.mul, lambda x, y: int(str(x) + str(y)))    "
   ]
  },
  {
   "cell_type": "code",
   "execution_count": 1221,
   "id": "f8e75ea3-e8ba-4b33-8efe-8bf74357e35d",
   "metadata": {},
   "outputs": [
    {
     "data": {
      "text/plain": [
       "Puzzle  7.2:   .807 seconds, answer 150077710195188   ok"
      ]
     },
     "execution_count": 1221,
     "metadata": {},
     "output_type": "execute_result"
    }
   ],
   "source": [
    "answer(7.2, 150077710195188, lambda:\n",
    "       sum(lhs(equation) for equation in equations if can_be_calibrated(equation, operators3)))"
   ]
  },
  {
   "cell_type": "markdown",
   "id": "128b4857-ed3e-49f5-97f5-9d9afd46408d",
   "metadata": {},
   "source": [
    "That was easy, but it is the second-slowest runtime so far. I can make it faster by implementing concatenation by multiplying and adding rather than by string operations."
   ]
  },
  {
   "cell_type": "code",
   "execution_count": 1223,
   "id": "6fe6adad-a3a6-49b8-b49e-6098b27e3a44",
   "metadata": {},
   "outputs": [],
   "source": [
    "operators3 = (operator.add, operator.mul, lambda x, y: (x * 10 ** num_digits(y)) + y)\n",
    "\n",
    "def num_digits(n: int) -> int:\n",
    "    \"\"\"The number of digits in a positive integer.\"\"\"\n",
    "    if n < 10:     return 1 ## Three special cases cover most calls\n",
    "    elif n < 100:  return 2\n",
    "    elif n < 1000: return 3\n",
    "    result = 1\n",
    "    while n >= 10:\n",
    "        result += 1\n",
    "        n /= 10\n",
    "    return result"
   ]
  },
  {
   "cell_type": "code",
   "execution_count": 1225,
   "id": "ffb673f1-af9d-4d15-8f8d-92e29489dd78",
   "metadata": {},
   "outputs": [
    {
     "data": {
      "text/plain": [
       "Puzzle  7.2:   .616 seconds, answer 150077710195188   ok"
      ]
     },
     "execution_count": 1225,
     "metadata": {},
     "output_type": "execute_result"
    }
   ],
   "source": [
    "answer(7.2, 150077710195188, lambda:\n",
    "       sum(numbers[0] for numbers in equations if can_be_calibrated(numbers, operators3)))"
   ]
  },
  {
   "cell_type": "markdown",
   "id": "2e5693b7-dab8-4f89-a000-c69ee75a11c9",
   "metadata": {},
   "source": [
    "# [Day 8](https://adventofcode.com/2024/day/8): Resonant Collinearity\n",
    "\n",
    "Another grid input, this one a map of antenna locations. Each different non-\"`.`\" character denotes an antenna of a given frequency."
   ]
  },
  {
   "cell_type": "code",
   "execution_count": 744,
   "id": "cf6361a7-e3bc-42ec-ae16-f9eec166055e",
   "metadata": {},
   "outputs": [
    {
     "name": "stdout",
     "output_type": "stream",
     "text": [
      "────────────────────────────────────────────────────────────────────────────────────────────────────\n",
      "Puzzle input ➜ 50 strs:\n",
      "────────────────────────────────────────────────────────────────────────────────────────────────────\n",
      "..................................................\n",
      ".................................C................\n",
      ".e..........7O....................................\n",
      ".....................................z............\n",
      "......................t.........C.......k.........\n",
      "............h................................9....\n",
      ".............5.7....O.............9C..............\n",
      ".......5.O................T.......................\n",
      "...\n"
     ]
    }
   ],
   "source": [
    "antennas = Grid(parse(8))"
   ]
  },
  {
   "cell_type": "markdown",
   "id": "c8e1006d-37bc-432e-bf1f-7a639287382a",
   "metadata": {},
   "source": [
    "### Part 1: How many unique locations within the bounds of the map contain an antinode?\n",
    "\n",
    "An **antinode** is defined as a point that is perfectly in line with two antennas of the same frequency, but only when one of the antennas is twice as far away as the other.\n",
    "\n",
    "That means that if two antennas are at points *A* and *B*, then the two antinodal points are at 2*A* - *B* and 2*B* - A. If there are three or more antennas with the same frequency then we consider each pair of them in turn. So all we have to do is group the antennas by frequency, compute the antinodes for each pair with the same frequency, and determine which of those antinodal points are on the grid."
   ]
  },
  {
   "cell_type": "code",
   "execution_count": 1229,
   "id": "22180ce8-5d03-4aee-8c73-62f2afbddf71",
   "metadata": {},
   "outputs": [],
   "source": [
    "def antinodes(antennas: Grid) -> Set[Point]:\n",
    "    \"\"\"The set of all antinodal points in the grid.\n",
    "    (That is, points that are of distance d and 2d from same frequency antennas.)\"\"\"\n",
    "    groups = [antennas.findall(f) for f in set(antennas.values()) if f != '.']\n",
    "    return union(antinodes2(A, B, antennas)\n",
    "                 for points in groups\n",
    "                 for A, B in combinations(points, 2))\n",
    "\n",
    "def antinodes2(A: Point, B: Point, antennas: Grid) -> Set[Point]:\n",
    "    \"\"\"The set of antinodal points for two antenna points, A and B.\"\"\"\n",
    "    return {P for P in {sub(mul(A, 2), B), sub(mul(B, 2), A)}\n",
    "              if P in antennas}"
   ]
  },
  {
   "cell_type": "code",
   "execution_count": 1231,
   "id": "dd173ce9-cbbb-4282-b43f-c7cff662bd90",
   "metadata": {},
   "outputs": [
    {
     "data": {
      "text/plain": [
       "Puzzle  8.1:   .004 seconds, answer 220               ok"
      ]
     },
     "execution_count": 1231,
     "metadata": {},
     "output_type": "execute_result"
    }
   ],
   "source": [
    "answer(8.1, 220, lambda:\n",
    "       len(antinodes(antennas)))"
   ]
  },
  {
   "cell_type": "markdown",
   "id": "ff79d605-813a-46ac-8473-a1198be0e99f",
   "metadata": {},
   "source": [
    "### Part 2: How many unique locations within the bounds of the map contain an updated antinode?\n",
    "\n",
    "For Part 2, an **updated antinode**  can now occur at *any* point that is exactly on line with two antennas of the same frequency, regardless of distance. So if the two antennas are *A* and *B* then the antinodal points can be found by starting at *A* and going step by step in the direction of the vector *A* - *B* and also in the direction *B* - *A*, going as far as you can while staying on the grid. The `Grid.follow_line` method facilitates that.\n",
    "\n",
    "I'll refactor `antinodes` to take an `antinodes2` parameter so it can handle both parts:"
   ]
  },
  {
   "cell_type": "code",
   "execution_count": 1237,
   "id": "d30f8ce9-f186-46a0-a2e7-f74eceae6905",
   "metadata": {},
   "outputs": [],
   "source": [
    "def antinodes(antennas: Grid, antinodes2=antinodes2) -> Set[Point]:\n",
    "    \"\"\"The set of all antinodal points in the grid, according to the `antinode2` function.\"\"\"\n",
    "    groups = [antennas.findall(f) for f in set(antennas.values()) if f != '.']\n",
    "    return union(antinodes2(A, B, antennas)\n",
    "                 for points in groups\n",
    "                 for A, B in combinations(points, 2))\n",
    "\n",
    "def updated_antinodes2(A: Point, B: Point, antennas: Grid) -> Set[Point]:\n",
    "    \"\"\"The set of updated antinodal points for two antenna points, A and B.\"\"\"\n",
    "    return (set(antennas.follow_line(A, sub(A, B))) | \n",
    "            set(antennas.follow_line(A, sub(B, A))))"
   ]
  },
  {
   "cell_type": "code",
   "execution_count": 1239,
   "id": "6bf85b57-8b8f-4196-9903-6d5fe082f404",
   "metadata": {},
   "outputs": [
    {
     "data": {
      "text/plain": [
       "Puzzle  8.1:   .004 seconds, answer 220               ok"
      ]
     },
     "execution_count": 1239,
     "metadata": {},
     "output_type": "execute_result"
    }
   ],
   "source": [
    "answer(8.1, 220, lambda:\n",
    "       len(antinodes(antennas)))"
   ]
  },
  {
   "cell_type": "code",
   "execution_count": 1241,
   "id": "f232952c-5fc6-4696-a8b1-d0b54137ac02",
   "metadata": {},
   "outputs": [
    {
     "data": {
      "text/plain": [
       "Puzzle  8.2:   .006 seconds, answer 813               ok"
      ]
     },
     "execution_count": 1241,
     "metadata": {},
     "output_type": "execute_result"
    }
   ],
   "source": [
    "answer(8.2, 813, lambda:\n",
    "       len(antinodes(antennas, updated_antinodes2)))"
   ]
  },
  {
   "cell_type": "markdown",
   "id": "9696a986-b6a2-4530-b55b-9db959ef7485",
   "metadata": {},
   "source": [
    "I got both of these right the first time (except for some simple typos: a misplaced paren and typing `grid` when I meant the grid called `antennas`)."
   ]
  },
  {
   "cell_type": "markdown",
   "id": "d4835cad-7777-4636-b9af-52cc9782b2b8",
   "metadata": {},
   "source": [
    "# [Day 9](https://adventofcode.com/2024/day/9): Disk Fragmenter\n",
    "\n",
    "Today we're confronted with a computer disk that needs to be compressed to gain some contiguous free space. The contents of the disk is represented in the **disk map** format: a string of digits, where the digits alternate between the number of blocks of a file, followed by the number of blocks of free space. We'll parse that as a tuple of digits:"
   ]
  },
  {
   "cell_type": "code",
   "execution_count": 754,
   "id": "0e944f9e-5c16-440c-b12e-178058a87048",
   "metadata": {},
   "outputs": [
    {
     "name": "stdout",
     "output_type": "stream",
     "text": [
      "────────────────────────────────────────────────────────────────────────────────────────────────────\n",
      "Puzzle input ➜ 1 str:\n",
      "────────────────────────────────────────────────────────────────────────────────────────────────────\n",
      "692094513253604282899448234539616972499153261626907217394161512944107098953354935354419233821564 ...\n",
      "────────────────────────────────────────────────────────────────────────────────────────────────────\n",
      "Parsed representation ➜ 1 tuple:\n",
      "────────────────────────────────────────────────────────────────────────────────────────────────────\n",
      "(6, 9, 2, 0, 9, 4, 5, 1, 3, 2, 5, 3, 6, 0, 4, 2, 8, 2, 8, 9, 9, 4, 4, 8, 2, 3, 4, 5, 3, 9, 6, 1, ...\n"
     ]
    }
   ],
   "source": [
    "disk_map = the(parse(9, digits))"
   ]
  },
  {
   "cell_type": "markdown",
   "id": "99d40379-65e1-4872-8c68-17ba4925c24e",
   "metadata": {},
   "source": [
    "<img src=\"https://pbs.twimg.com/media/GeYt7iuWIAAHxhT?format=jpg&name=medium\" width=400>\n",
    "\n",
    "### Part 1: Compress the hard drive. What is the resulting filesystem checksum? \n",
    "\n",
    "We will deal with two formats to represent disks. Consider this **disk map** format:\n",
    "\n",
    "     1, 2, 3, 4, 5  ## Disk map format\n",
    "\n",
    "This means that there is 1 block for the first file (which has ID number 0), followed by 2 empty blocks, then 3 blocks for the second file (with ID number 1), followed by 4 empty blocks, and finally 5 blocks for the third file (with ID number 2).  \n",
    "\n",
    "It makes sense to convert this into a **disk layout** format:  which would be \"`\", where \"`.`\" represents an empty block.\n",
    "\n",
    "     0..111....22222  ## Disk layout format\n",
    "\n",
    "Here the integers represent file ID numbers, and the `.` indicates an empty block.\n",
    "\n",
    "To **compress** a disk layout, move file blocks one at a time starting by taking the rightmost non-empty block and moving it to the leftmost empty position; repeat until no more moves are possible.  For the example above, that would give us:\n",
    "\n",
    "     022111222......  ## Disk layout format (compressed)\n",
    "\n",
    "The final answer to the puzzle is a **checksum** of the compressed disk: the sum of the product of the block position times the file ID number for all non-empty blocks."
   ]
  },
  {
   "cell_type": "code",
   "execution_count": 1273,
   "id": "76e8454d-a2f3-4b6b-92df-182116cf46e0",
   "metadata": {},
   "outputs": [],
   "source": [
    "empty = -1 # An empty block\n",
    "\n",
    "def disk_layout(disk_map: Ints) -> list:\n",
    "    \"\"\"Convert a disk map into a disk layout.\"\"\"\n",
    "    def empties(j) -> int: return (disk_map[j] if j < len(disk_map) else 0)\n",
    "    return append(disk_map[i] * [id] + empties(i + 1) * [empty]\n",
    "                  for id, i in enumerate(range(0, len(disk_map), 2)))\n",
    "\n",
    "def compress_layout(layout: list) -> list:\n",
    "    \"\"\"Mutate layout by moving blocks one at a time from the end to the leftmost free space.\"\"\"\n",
    "    N    = len(layout)\n",
    "    free = -1  # Start looking for free space from the left\n",
    "    end  = N   # Start looking for non-empty blocks from the right\n",
    "    while True:\n",
    "        free = first(i for i in range(free + 1, N)    if layout[i] is empty)\n",
    "        end  = first(i for i in range(end - 1, 0, -1) if layout[i] is not empty)\n",
    "        if free is None or free >= end:\n",
    "            return layout\n",
    "        layout[free], layout[end] = layout[end], empty\n",
    "\n",
    "def checksum(layout: list) -> list:\n",
    "    \"\"\"The sum of the product of the block position times the file ID number for all non-empty blocks.\"\"\"\n",
    "    return sum(i * id for i, id in enumerate(layout) if id is not empty)"
   ]
  },
  {
   "cell_type": "code",
   "execution_count": 1275,
   "id": "2aa7e2b9-844e-49ed-b41b-4a4cecff86b7",
   "metadata": {},
   "outputs": [
    {
     "data": {
      "text/plain": [
       "Puzzle  9.1:   .036 seconds, answer 6332189866718     ok"
      ]
     },
     "execution_count": 1275,
     "metadata": {},
     "output_type": "execute_result"
    }
   ],
   "source": [
    "answer(9.1, 6332189866718, lambda:\n",
    "       checksum(compress_layout(disk_layout(disk_map))))"
   ]
  },
  {
   "cell_type": "markdown",
   "id": "2c05a497-cc66-4698-b88b-25c33eea224a",
   "metadata": {},
   "source": [
    "### Part 2: Compress the hard drive with the new method. What is the resulting filesystem checksum? \n",
    "\n",
    "In Part 2, there is a new method of compressing the disk, where we move full files rather than a block at a time. Again we start on the right, and try to move a file to the leftmost position where it will fit. If there is no such position, the file doesn't move. `compress_layout2`  implements this new method, performing a move by swapping two [**slices**](https://docs.python.org/3/library/functions.html#slice) of the disk layout: \n",
    "\n",
    "    layout[file], layout[free] = layout[free], layout[file]`\n",
    "\n",
    "To find all the slices that indicate files, it is easier to run through the disk map than the disk layout. The function `file_slices` quickly finds all such slices.\n",
    "\n",
    "Finding a free space for a file is more difficult, because we need to find one that is big enough. I'll run through the whole layout from left-to-right each time. This will make it *O*(*n*<sup>2</sup>) rather than *O*(*n*), but hopefully it won't be too slow. (If I wanted to speed it up I could have an array of starting positions for each desired size of free space.)"
   ]
  },
  {
   "cell_type": "code",
   "execution_count": 1277,
   "id": "fcf4d832-3d7d-4987-aa57-e6e0f1df16bf",
   "metadata": {},
   "outputs": [],
   "source": [
    "def compress_layout2(disk_map: Ints) -> list:\n",
    "    \"\"\"Mutate layout by moving files one at a time from the end to the leftmost free space.\"\"\"\n",
    "    layout = disk_layout(disk_map)\n",
    "    for file in file_slices(disk_map):\n",
    "        if free := find_freespace(layout, file):\n",
    "            layout[file], layout[free] = layout[free], layout[file]\n",
    "    return layout\n",
    "\n",
    "def file_slices(disk_map: Ints) -> List[slice]:\n",
    "    \"\"\"Given a disk map, find all the slice positions of files in the disk layout (last one first).\"\"\"\n",
    "    slices = []\n",
    "    block = 0\n",
    "    for i, length in enumerate(disk_map):\n",
    "        if i % 2 == 0:\n",
    "            slices.append(slice(block, block + length))\n",
    "        block += length\n",
    "    slices.reverse()\n",
    "    return slices\n",
    "\n",
    "def find_freespace(layout, file_slice) -> Optional[slice]:\n",
    "    \"\"\"Find a slice position big enough to fit the given file slice, or return None if there is no position.\"\"\"\n",
    "    length = file_slice.stop - file_slice.start\n",
    "    run = 0\n",
    "    for i in range(layout.index(empty), len(layout)):\n",
    "        if i >= file_slice.start:\n",
    "            return None # We only want to move a file left, not right\n",
    "        elif layout[i] is empty:\n",
    "            run += 1\n",
    "            if run == length:\n",
    "                return slice(i + 1 - length, i + 1)\n",
    "        else:\n",
    "            run = 0\n",
    "    return None"
   ]
  },
  {
   "cell_type": "code",
   "execution_count": 1279,
   "id": "e3036875-88d0-496e-9d2f-facd0e80a5b2",
   "metadata": {},
   "outputs": [
    {
     "data": {
      "text/plain": [
       "Puzzle  9.2:  2.424 seconds, answer 6353648390778     ok"
      ]
     },
     "execution_count": 1279,
     "metadata": {},
     "output_type": "execute_result"
    }
   ],
   "source": [
    "answer(9.2, 6353648390778, lambda:\n",
    "       checksum(compress_layout2(disk_map)))"
   ]
  },
  {
   "cell_type": "markdown",
   "id": "24c0e7d7-6ac7-4e4b-9557-bd4e215ad0a9",
   "metadata": {},
   "source": [
    "I got the right answer, but I confess I had an off-by-one **bug** in `find_freespace` on the first try, and another bug where I was moving a large file to the right (thereby uncompressing the disk) rather than leaving it in place."
   ]
  },
  {
   "cell_type": "markdown",
   "id": "7a900425-fe22-4d2f-8d1d-46c319c109e9",
   "metadata": {},
   "source": [
    "# [Day 10](https://adventofcode.com/2024/day/10): Hoof It\n",
    "\n",
    "Today's input is a topological map of hiking paths on Lava Island, with digits indicating the elevation of each terrain position."
   ]
  },
  {
   "cell_type": "code",
   "execution_count": 1283,
   "id": "5804fb03-05f3-402f-b6cc-6804c5d22512",
   "metadata": {},
   "outputs": [
    {
     "name": "stdout",
     "output_type": "stream",
     "text": [
      "────────────────────────────────────────────────────────────────────────────────────────────────────\n",
      "Puzzle input ➜ 60 strs:\n",
      "────────────────────────────────────────────────────────────────────────────────────────────────────\n",
      "432109865210212123765432101234321098543289654320132112121058\n",
      "045678774324301012892343023445456787650198763013241001034569\n",
      "187678789465692321001056014896234986456787012894653212123678\n",
      "296589921056789433217837895687145675323891233765784589238987\n",
      "345437835434576544786921278761010014210710321212098676521067\n",
      "032126546323465435695430789760121223121653450303145125430678\n",
      "123010567810156543212345699859834321056544067654236012321589\n",
      "543213498987657665401030787348765430187432198765987622345432\n",
      "...\n",
      "────────────────────────────────────────────────────────────────────────────────────────────────────\n",
      "Parsed representation ➜ 60 tuples:\n",
      "────────────────────────────────────────────────────────────────────────────────────────────────────\n",
      "(4, 3, 2, 1, 0, 9, 8, 6, 5, 2, 1, 0, 2, 1, 2, 1, 2, 3, 7, 6, 5, 4, 3, 2, 1, 0, 1, 2, 3, 4, 3, 2, ...\n",
      "(0, 4, 5, 6, 7, 8, 7, 7, 4, 3, 2, 4, 3, 0, 1, 0, 1, 2, 8, 9, 2, 3, 4, 3, 0, 2, 3, 4, 4, 5, 4, 5, ...\n",
      "(1, 8, 7, 6, 7, 8, 7, 8, 9, 4, 6, 5, 6, 9, 2, 3, 2, 1, 0, 0, 1, 0, 5, 6, 0, 1, 4, 8, 9, 6, 2, 3, ...\n",
      "(2, 9, 6, 5, 8, 9, 9, 2, 1, 0, 5, 6, 7, 8, 9, 4, 3, 3, 2, 1, 7, 8, 3, 7, 8, 9, 5, 6, 8, 7, 1, 4, ...\n",
      "(3, 4, 5, 4, 3, 7, 8, 3, 5, 4, 3, 4, 5, 7, 6, 5, 4, 4, 7, 8, 6, 9, 2, 1, 2, 7, 8, 7, 6, 1, 0, 1, ...\n",
      "(0, 3, 2, 1, 2, 6, 5, 4, 6, 3, 2, 3, 4, 6, 5, 4, 3, 5, 6, 9, 5, 4, 3, 0, 7, 8, 9, 7, 6, 0, 1, 2, ...\n",
      "(1, 2, 3, 0, 1, 0, 5, 6, 7, 8, 1, 0, 1, 5, 6, 5, 4, 3, 2, 1, 2, 3, 4, 5, 6, 9, 9, 8, 5, 9, 8, 3, ...\n",
      "(5, 4, 3, 2, 1, 3, 4, 9, 8, 9, 8, 7, 6, 5, 7, 6, 6, 5, 4, 0, 1, 0, 3, 0, 7, 8, 7, 3, 4, 8, 7, 6, ...\n",
      "...\n"
     ]
    }
   ],
   "source": [
    "topo = Grid(parse(10, digits))"
   ]
  },
  {
   "cell_type": "markdown",
   "id": "d951807a-3611-445f-84ee-352221a25968",
   "metadata": {},
   "source": [
    "### Part 1: What is the sum of the scores of all trailheads on your topographic map?\n",
    "\n",
    "A **trailhead** is any position with elevation  0, and a **peak** is any position with elevation 9. The **score** of a trailhead is the number of peaks that can be reached by following a path where each step increases the elevation by exactly 1. All steps are in one of the four cardinal directions (north/south/east/west).\n",
    "\n",
    "I'll keep a set of points on the frontier of possible paths, updating this set on each iteratation from 1 to 9, by looking at each point on the frontier and seeing which of the neighboring points `p` have the right elevation:"
   ]
  },
  {
   "cell_type": "code",
   "execution_count": 765,
   "id": "76b5379e-ee19-4607-91b8-88ec7b38023f",
   "metadata": {},
   "outputs": [],
   "source": [
    "def score(topo: Grid, trailhead: Point) -> int:\n",
    "    \"\"\"How many peaks can be reached from this trailhead?\"\"\"\n",
    "    frontier = {trailhead}\n",
    "    for elevation in range(1, 10):\n",
    "        frontier = {p for p in union(map(topo.neighbors, frontier))\n",
    "                    if topo[p] == elevation}\n",
    "    return len(frontier)"
   ]
  },
  {
   "cell_type": "code",
   "execution_count": 766,
   "id": "97cf05f7-fa56-4a90-b2d8-2cd4d9b81f95",
   "metadata": {},
   "outputs": [
    {
     "data": {
      "text/plain": [
       "Puzzle 10.1:   .005 seconds, answer 744               ok"
      ]
     },
     "execution_count": 766,
     "metadata": {},
     "output_type": "execute_result"
    }
   ],
   "source": [
    "answer(10.1, 744, lambda:\n",
    "       sum(score(topo, trailhead) for trailhead in topo.findall([0])))"
   ]
  },
  {
   "cell_type": "markdown",
   "id": "4656eb08-b12a-4a02-92b8-ac23f2361387",
   "metadata": {},
   "source": [
    "### Part 2: What is the sum of the ratings of all trailheads?\n",
    "\n",
    "The **rating** of a trailhead is the number of distinct paths from the trailhead to a peak.\n",
    "\n",
    "As in Part 1, I'll keep a frontier and update it on each iteration from 1 to 9, but this time the frontier will be a counter of `{position: count}` where the count indicates the number of paths to that position. On each iteration I'll look at each point `f` on the frontier and see which of the neighboring points `p` have the right elevation, and increment the counts for those points by the count for `f`. This approach is linear in the number of positions, whereas if I followed all possible paths depth-first there could be an exponential number of paths."
   ]
  },
  {
   "cell_type": "code",
   "execution_count": 768,
   "id": "b763450f-a565-4936-bee4-e531c2eeebdb",
   "metadata": {},
   "outputs": [],
   "source": [
    "def rating(topo: Grid, trailhead: Point) -> int:\n",
    "    \"\"\"How many distinct paths are there from this trailhead to any peak?\"\"\"\n",
    "    frontier = Counter({trailhead: 1})\n",
    "    for elevation in range(1, 10):\n",
    "        frontier = accumulate((p, frontier[f]) \n",
    "                              for f in frontier\n",
    "                              for p in topo.neighbors(f) \n",
    "                              if topo[p] == elevation)\n",
    "    return sum(frontier.values())"
   ]
  },
  {
   "cell_type": "markdown",
   "id": "bfb4ae54-db59-44df-a76d-12e155fd1e5e",
   "metadata": {},
   "source": [
    "(Note my [utility function](AdventUtils.ipynb) `accumulate` takes as input an iterable of (key, count) pairs, and returns a Counter of the total count for each key.)\n"
   ]
  },
  {
   "cell_type": "code",
   "execution_count": 1294,
   "id": "f8a87032-6556-4fc9-9bb8-573611aee8dc",
   "metadata": {},
   "outputs": [
    {
     "data": {
      "text/plain": [
       "Puzzle 10.2:   .014 seconds, answer 1651              ok"
      ]
     },
     "execution_count": 1294,
     "metadata": {},
     "output_type": "execute_result"
    }
   ],
   "source": [
    "answer(10.2, 1651, lambda:\n",
    "       sum(rating(topo, trailhead) for trailhead in topo.findall([0])))"
   ]
  },
  {
   "cell_type": "markdown",
   "id": "af410d30-7096-4be6-bb20-904b3c8e2f59",
   "metadata": {},
   "source": [
    "Today I went pretty fast (for me); I started a few minutes late and finished in 15 minutes. From the point of view of a competitive coder I did foolish things like write docstrings and use variables of more than one letter, so while this time was fast for me, it placed well out of the top 1000.\n",
    "\n",
    "Here's a visualization of the map:"
   ]
  },
  {
   "cell_type": "code",
   "execution_count": 1309,
   "id": "eea7e277-4687-48a9-85b5-a031a9d4b6e1",
   "metadata": {},
   "outputs": [],
   "source": [
    "def plot_topo(topo: Grid):\n",
    "    \"\"\"Show the map with a colormap from blue to red.\"\"\"\n",
    "    plt.figure()\n",
    "    scatter = plt.scatter(Xs(topo), Ys(topo), c=list(topo.values()), \n",
    "                          cmap='coolwarm', marker='s', s=12)\n",
    "    plt.colorbar(scatter, label='Elevation')\n",
    "    plt.axis('square')\n",
    "    plt.axis('off')\n",
    "\n",
    "plot_topo(topo)"
   ]
  },
  {
   "cell_type": "markdown",
   "id": "3e01d7f5-d0f0-4e7b-8cab-eef2afc02f6b",
   "metadata": {},
   "source": [
    "# [Day 11](https://adventofcode.com/2024/day/11): Plutonian Pebbles\n",
    "\n",
    "Today's narrative involves a straight line of stones, each of which has a number enscribed on it. The input is a single line of these numbers:"
   ]
  },
  {
   "cell_type": "code",
   "execution_count": 1292,
   "id": "76b68cef-d8de-4145-b65c-b254fedf1671",
   "metadata": {},
   "outputs": [
    {
     "name": "stdout",
     "output_type": "stream",
     "text": [
      "────────────────────────────────────────────────────────────────────────────────────────────────────\n",
      "Puzzle input ➜ 1 str:\n",
      "────────────────────────────────────────────────────────────────────────────────────────────────────\n",
      "0 27 5409930 828979 4471 3 68524 170\n",
      "────────────────────────────────────────────────────────────────────────────────────────────────────\n",
      "Parsed representation ➜ 1 tuple:\n",
      "────────────────────────────────────────────────────────────────────────────────────────────────────\n",
      "(0, 27, 5409930, 828979, 4471, 3, 68524, 170)\n"
     ]
    }
   ],
   "source": [
    "stones = the(parse(11, ints))"
   ]
  },
  {
   "attachments": {},
   "cell_type": "markdown",
   "id": "a7302dc5-5163-4f0b-bdcc-8c00e367391c",
   "metadata": {},
   "source": [
    "### Part 1: How many stones will you have after blinking 25 times?\n",
    "\n",
    "Every time you **blink**, the stones appear to change, according to these rules:\n",
    "- A stone marked 0 changes to 1.\n",
    "- Otherwise, a stone with an even number of digits splits into two stones, with the first and second halves of those digits.\n",
    "- Otherwise, the stone's number is multiplied by 2024.\n",
    "\n",
    "<img src=\"https://pbs.twimg.com/media/GejUQBgWIAAUtDf?format=jpg&name=medium\" width=400>\n",
    "\n",
    "\n",
    "I'll define `blink` to simulate the effect of a given number of blinks, and `change_stone` to change a single stone, returning a list of either one or two stones (the two stones computed by `split_stone`):"
   ]
  },
  {
   "cell_type": "code",
   "execution_count": 775,
   "id": "1513df56-3d6f-42cf-8aec-1bdbeb991d90",
   "metadata": {},
   "outputs": [],
   "source": [
    "def blink(stones: Ints, blinks=25) -> List[int]:\n",
    "    \"\"\"Simulate the changes in the list of stones after blinking `blinks` times.\"\"\"\n",
    "    for _ in range(blinks):\n",
    "        stones = append(map(change_stone, stones))\n",
    "    return stones\n",
    "    \n",
    "def change_stone(stone: int) -> List[int]:\n",
    "    \"\"\"Change a single stone into one or two, according to the rules.\"\"\"\n",
    "    digits = str(stone)\n",
    "    return ([1]                 if stone == 0           else\n",
    "            split_stone(digits) if len(digits) % 2 == 0 else\n",
    "            [stone * 2024])\n",
    "\n",
    "def split_stone(digits: str) -> List[int]:\n",
    "    \"\"\"Split a stone into two halves.\"\"\"\n",
    "    half = len(digits) // 2\n",
    "    return [int(digits[:half]), int(digits[half:])]"
   ]
  },
  {
   "cell_type": "code",
   "execution_count": 776,
   "id": "eff17cd0-a2c7-4d69-bc55-c0ef97917915",
   "metadata": {},
   "outputs": [
    {
     "data": {
      "text/plain": [
       "Puzzle 11.1:   .062 seconds, answer 194482            ok"
      ]
     },
     "execution_count": 776,
     "metadata": {},
     "output_type": "execute_result"
    }
   ],
   "source": [
    "answer(11.1, 194482, lambda:\n",
    "       len(blink(stones, 25)))"
   ]
  },
  {
   "cell_type": "markdown",
   "id": "2f65e94f-43e8-4f08-85df-827928c57e0b",
   "metadata": {},
   "source": [
    "### Part 2: How many stones would you have after blinking a total of 75 times?\n",
    "\n",
    "It looks like the number of stones is roughly doubling every 1 or 2 blinks, so for 75 blinks we could have trillions of stones. I'd like something more efficient. I note that:\n",
    "- Although the puzzle makes it clear that the stones are in a line, it turns out their position in the line is irrelevant.\n",
    "- Because all the even-digit numbers get split in half, it seems like many small numbers will appear multiple times.\n",
    "  - (In the given example, after 6 blinks the number 2 appears 4 times.)\n",
    "- Therefore, I'll keep a `Counter` of stones rather than a `list` of stones."
   ]
  },
  {
   "cell_type": "code",
   "execution_count": 778,
   "id": "707b5a97-0296-48df-bdab-e34064cc67c2",
   "metadata": {},
   "outputs": [],
   "source": [
    "def blink2(stones: Ints, blinks=25) -> Counter:\n",
    "    \"\"\"Simulate the changes after blinking `blinks` times and return a Counter of stones.\"\"\"\n",
    "    counts = Counter(stones)\n",
    "    for _ in range(blinks):\n",
    "        counts = accumulate((s, counts[stone]) \n",
    "                            for stone in counts \n",
    "                            for s in change_stone(stone))\n",
    "    return counts"
   ]
  },
  {
   "cell_type": "markdown",
   "id": "f5bf07ce-b48e-40db-8992-b9b571e66554",
   "metadata": {},
   "source": [
    "Now we can re-run Part 1 (it should be slightly faster), and run Part 2 without fear of having trillion-element lists:"
   ]
  },
  {
   "cell_type": "code",
   "execution_count": 780,
   "id": "efdcdbf8-e8ec-4a85-9d09-90a20e08c66a",
   "metadata": {},
   "outputs": [
    {
     "data": {
      "text/plain": [
       "Puzzle 11.1:   .002 seconds, answer 194482            ok"
      ]
     },
     "execution_count": 780,
     "metadata": {},
     "output_type": "execute_result"
    }
   ],
   "source": [
    "answer(11.1, 194482, lambda:\n",
    "       total(blink2(stones, 25)))"
   ]
  },
  {
   "cell_type": "code",
   "execution_count": 781,
   "id": "657b1f13-ffcc-44c6-84f1-398fa2fcdac7",
   "metadata": {},
   "outputs": [
    {
     "data": {
      "text/plain": [
       "Puzzle 11.2:   .055 seconds, answer 232454623677743   ok"
      ]
     },
     "execution_count": 781,
     "metadata": {},
     "output_type": "execute_result"
    }
   ],
   "source": [
    "answer(11.2, 232454623677743, lambda:\n",
    "       total(blink2(stones, 75)))"
   ]
  },
  {
   "cell_type": "markdown",
   "id": "ce377749-b3e2-4ca4-b50d-e7c3d2e7201a",
   "metadata": {},
   "source": [
    "I'm glad I used the `Counter`; it would have taken a petabyte of storage (and a long, long time) to represent that many stones as a list.\n",
    "\n",
    "Again, I did pretty well, with no errors, and moving at what I thought was a good pace, but I didn't even crack the top 2000 on the leaderboard. "
   ]
  },
  {
   "cell_type": "markdown",
   "id": "391cec1e-32fe-4e6e-81c2-4e38469b15e3",
   "metadata": {},
   "source": [
    "# [Day 12](https://adventofcode.com/2024/day/12): Garden Groups\n",
    "\n",
    "Today's input is yet another 2D map. This one depicts different garden plots on a farm, each plot planted with a crop, indicated by a letter. Perhaps \"I\" is iceberg lettuce and \"O\" is okra, and so on."
   ]
  },
  {
   "cell_type": "code",
   "execution_count": 784,
   "id": "8161ee7e-76e3-499a-abf8-a607991c9602",
   "metadata": {},
   "outputs": [
    {
     "name": "stdout",
     "output_type": "stream",
     "text": [
      "────────────────────────────────────────────────────────────────────────────────────────────────────\n",
      "Puzzle input ➜ 140 strs:\n",
      "────────────────────────────────────────────────────────────────────────────────────────────────────\n",
      "IIIIIIIIIIIIIIIIIIIIIUUUUUUUUJLLLLAAAAAAMMMAUUUUPPXPZZZZZZZZZZZXXXXXXXXXXXXXXXXXXXXXFFFFFFFFFFZZ ...\n",
      "IIIIIIIIIIIIIIIIIIIIUUUUUUUUUJALEAAAAAAAAAAAAUUUUPXPPZZZZZHHHHHHXHXXXXXXXXXXXXXXXXXXFXFFFFFFFFZZ ...\n",
      "IIIIIIIIIIIIIIIIIIIIUUUUUUUUUJAAAAAAAAAAAAAAUUPPPPPPPZZZZZZZHHHHHHHXXXXXXXXXXXXXXXXXXXFFFFFFFFFZ ...\n",
      "IIIIIIIIIIIAAIIIIIIIIIUUUUUUUJJAAAAAAAAAAAAAAVVPPPPPPPPZHHHHHHHHHHHXXXXXXXXXXXXXXXXXFFFFFFFFFFFZ ...\n",
      "IOOIIIIIIIIAAIIIIIIIIIIUUUQVUJJAAAAAAAAAAAAAEVVZPPPPPPPHHHHHHHHHHHHXXXXXXXXXXXXXXXXXXXXFFFFFFLLL ...\n",
      "OOOOOOOOIIAAAAAIIIIIIIIUQQQQVQJAAAAAAAAAAAAAAVVPPPPPIIHHHHHHHHHHHHHXXXXXUXXXXXXUUXXBBBSFFFLLLLLL ...\n",
      "OOOOOOOOIAAAAAAIIIIIIQQQQQQQQQQQEADDAAAAAAAAHHVVPPPIIIIHHHHHHHHHHHHHXXXUUUUUXXUUUXXBBBSFFFLLELLL ...\n",
      "OOOOOOOOIIIAAIIIIIQQQQQQQQQQTQJQEEDDDAAAAAAHHVVVVPIIIIIHHHHHHHHHHHHHXUUUUUUUUUUUMMXBBBSSSFFFLLLL ...\n",
      "...\n"
     ]
    }
   ],
   "source": [
    "farm = Grid(parse(12))"
   ]
  },
  {
   "cell_type": "markdown",
   "id": "bb95a10b-1f83-4940-a68b-b94696c3aab3",
   "metadata": {},
   "source": [
    "### Part 1: What is the total price of fencing all regions on your map?\n",
    "\n",
    "We are asked to calculate the cost of putting fences around each **region** (a region is a set of garden plots with the same crop that abut each other horizontally or vertically). The price of the fence for a region is defined as the product of the region's area and its perimeter. If we represent a region as a set of (x, y) points, then the area is easy: it is just the number of points. The perimeter length can be computed by, for each plot point in the region, looking at each of the four directions and counting cases where the adjacent plot in that direction is *not* in the region. (Initially I had a **bug** in that I looked at the `farm.neighbors` of each plot. That doesn't work because a plot on the edge of the grid should count as part of the perimeter, so we have to explicitly check all four directions.)"
   ]
  },
  {
   "cell_type": "code",
   "execution_count": 1316,
   "id": "79f91f38-e325-44f2-9e53-b64ce12d9d35",
   "metadata": {},
   "outputs": [],
   "source": [
    "Region = Set[Point]\n",
    "region_area = len\n",
    "\n",
    "def fence_price(farm: Grid) -> int:\n",
    "    \"\"\"Total price of fences for all the regions in the farm.\"\"\"\n",
    "    return sum(map(region_price, all_regions(farm)))\n",
    "\n",
    "def region_price(region) -> int: return region_area(region) * perimeter_length(region)\n",
    "\n",
    "def perimeter_length(region: Region) -> int:\n",
    "    \"\"\"The number of sides on the perimeter of the region: \n",
    "    ones where the adjacent position in some direction is not in the region.\"\"\"\n",
    "    return quantify(add2(plot, d) not in region \n",
    "                    for plot in region for d in directions4)"
   ]
  },
  {
   "cell_type": "markdown",
   "id": "9524ee15-c378-4cd4-a79b-14fb99b17cb3",
   "metadata": {},
   "source": [
    "To find all the regions I'll start at a point and do a [flood fill](https://en.wikipedia.org/wiki/Flood_fill) to neighboring points with the same region letter, keeping track of points that have already been found so as to not duplicate them. The function `all_regions` iterates over all points to make sure it finds every region, and `flood_fill` recursively expands to all points that neighbor `p` and have the same crop (letter). `flood_fill` mutates the set `already_found` as it goes (and also mutates the `region` it is building up)."
   ]
  },
  {
   "cell_type": "code",
   "execution_count": 1319,
   "id": "1fbabbfb-50c8-4197-8517-e7cee9582765",
   "metadata": {},
   "outputs": [],
   "source": [
    "def all_regions(farm: Grid) -> List[Region]:\n",
    "    \"\"\"Find all the regions in the farm.\"\"\"\n",
    "    already_found = set() # Set of plots already accounted for\n",
    "    return [flood_fill(p, farm, set(), already_found) \n",
    "            for p in farm if p not in already_found]\n",
    "\n",
    "def flood_fill(p: Point, grid: Grid, region: set, already_found: set) -> set:\n",
    "    \"\"\"Starting at point p, recursively add all neighboring points to `region`, keeping track of `already_found`.\"\"\"\n",
    "    if p not in already_found:\n",
    "        region.add(p)\n",
    "        already_found.add(p)\n",
    "        for p2 in grid.neighbors(p):\n",
    "            if farm[p2] == farm[p]:\n",
    "                flood_fill(p2, grid, region, already_found)\n",
    "    return region"
   ]
  },
  {
   "cell_type": "code",
   "execution_count": 1321,
   "id": "cdaf655b-d12c-4973-b19b-3132e5e691c6",
   "metadata": {},
   "outputs": [
    {
     "data": {
      "text/plain": [
       "Puzzle 12.1:   .053 seconds, answer 1402544           ok"
      ]
     },
     "execution_count": 1321,
     "metadata": {},
     "output_type": "execute_result"
    }
   ],
   "source": [
    "answer(12.1, 1402544, lambda:\n",
    "       fence_price(farm))"
   ]
  },
  {
   "cell_type": "markdown",
   "id": "b3383560-2bbc-4dfc-b643-feb103876823",
   "metadata": {},
   "source": [
    "### Part 2: What is the new total price of fencing all regions on your map, with the bulk discount?\n",
    "\n",
    "In Part 2 we get a **bulk discount** on the fencing; we only need to pay for the number of straight line sides on the perimeter, not the total length of the perimeter. For example, a 10 x 10 square has perimeter 40, but has only 4 sides. That's a 90% discount!\n",
    "\n",
    "It took me a while to figure out a good approach for this. At first I was reminded of the Convex Hull problem, for which I have [a notebook](https://github.com/norvig/pytudes/blob/main/ipynb/Convex%20Hull.ipynb). But that's not really appropriate here; our regions could be non-convex, and the set of sides in a region are not the same as the vertexes of a polygon (e.g., a region with one point has 4 sides, not 0).\n",
    "\n",
    "A better idea is to start with the perimeter length and subtract one for every case in which a points has an edge in one direction (e.g., an edge to the North) and also has a neighbor with the same edge. To be precise, I'll look for four cases:\n",
    "- A point with an edge to the North whose neighbor to the East also has an edge to the North\n",
    "- A point with an edge to the East whose neighbor to the South also has an edge to the East\n",
    "- A point with an edge to the South whose neighbor to the West also has an edge to the South\n",
    "- A point with an edge to the West whose neighbor to the North also has an edge to the West\n",
    "\n",
    "Here are two diagrams of two regions with two kinds of crop, \"`X`\" and \"`W`\", with a \"`-`\" marking each place where a perimeter piece would be subtracted.\n",
    "\n",
    "     .X-...    .-------..\n",
    "     -X-.X-    .WWWWWWWW-\n",
    "     -XXXX-    -WWWWWWWW-\n",
    "     ..XXX.    -WWWWWWWW.\n",
    "     ...--.    ..-------.\n",
    "\n",
    "I'll refactor `fence_price` to take a `region_price` parameter, and show that the change is backwards compatible to Part 1:"
   ]
  },
  {
   "cell_type": "code",
   "execution_count": 1323,
   "id": "38c30e15-3a33-40c2-b734-163a15af7a8a",
   "metadata": {},
   "outputs": [],
   "source": [
    "def fence_price(farm: Grid, region_price=region_price) -> int:\n",
    "    \"\"\"Total price of fences for all the regions in the farm, given the price function for a region.\"\"\"\n",
    "    return sum(map(region_price, all_regions(farm)))\n",
    "\n",
    "def discount_region_price(region) -> int: return region_area(region) * region_sides(region)\n",
    "    \n",
    "def region_sides(region):\n",
    "    \"\"\"How many straight-line sides does this region have?\"\"\"\n",
    "    def has_edge(p: Point, d: Vector): return p in region and add2(p, d) not in region\n",
    "    def neighbor(p: Point, d: Vector): return add2(p, make_turn(d, 'R'))\n",
    "    subtract = quantify(has_edge(p, d) and has_edge(neighbor(p, d), d)\n",
    "                        for p in region\n",
    "                        for d in directions4)\n",
    "    return perimeter_length(region) - subtract"
   ]
  },
  {
   "cell_type": "code",
   "execution_count": 1325,
   "id": "72175812-dcd0-4f1b-9efa-0dceeeafa609",
   "metadata": {},
   "outputs": [
    {
     "data": {
      "text/plain": [
       "Puzzle 12.1:   .054 seconds, answer 1402544           ok"
      ]
     },
     "execution_count": 1325,
     "metadata": {},
     "output_type": "execute_result"
    }
   ],
   "source": [
    "answer(12.1, 1402544, lambda:\n",
    "       fence_price(farm))"
   ]
  },
  {
   "cell_type": "code",
   "execution_count": 1327,
   "id": "9defcd35-91bc-41d4-a16f-bb7a4ede75e7",
   "metadata": {},
   "outputs": [
    {
     "data": {
      "text/plain": [
       "Puzzle 12.2:   .069 seconds, answer 862486            ok"
      ]
     },
     "execution_count": 1327,
     "metadata": {},
     "output_type": "execute_result"
    }
   ],
   "source": [
    "answer(12.2, 862486, lambda: \n",
    "       fence_price(farm, discount_region_price))"
   ]
  },
  {
   "cell_type": "markdown",
   "id": "faa9d750-a619-40dc-965c-a9a8e2543e32",
   "metadata": {},
   "source": [
    "# [Day 13](https://adventofcode.com/2024/day/13): Claw Contraption\n",
    "\n",
    "Today's puzzle involves arcade claw machines. Each input paragraph describes a machine with two buttons, **A** and **B**; every push of a button moves the claw a specified amount in the X and Y directions. The prize is at a specified location. We can parse the input by defining a `parse_claw` function and a `Claw` datatype to represent a claw machine.\n",
    "\n",
    "<img src=\"https://files.mastodon.social/media_attachments/files/113/647/741/325/081/329/small/30d98922146765ad.jpg\" width=400>"
   ]
  },
  {
   "cell_type": "code",
   "execution_count": 795,
   "id": "e78f45c0-c420-4661-aad2-14e122b4473b",
   "metadata": {},
   "outputs": [
    {
     "name": "stdout",
     "output_type": "stream",
     "text": [
      "────────────────────────────────────────────────────────────────────────────────────────────────────\n",
      "Puzzle input ➜ 1279 strs:\n",
      "────────────────────────────────────────────────────────────────────────────────────────────────────\n",
      "Button A: X+24, Y+19\n",
      "Button B: X+32, Y+86\n",
      "Prize: X=1072, Y=2062\n",
      "\n",
      "Button A: X+70, Y+12\n",
      "Button B: X+11, Y+43\n",
      "Prize: X=3400, Y=3872\n",
      "\n",
      "...\n",
      "────────────────────────────────────────────────────────────────────────────────────────────────────\n",
      "Parsed representation ➜ 320 Claws:\n",
      "────────────────────────────────────────────────────────────────────────────────────────────────────\n",
      "Claw(A=(24, 19), B=(32, 86), Prize=(1072, 2062))\n",
      "Claw(A=(70, 12), B=(11, 43), Prize=(3400, 3872))\n",
      "Claw(A=(48, 77), B=(34, 12), Prize=(6510, 1583))\n",
      "Claw(A=(76, 60), B=(29, 88), Prize=(5506, 6300))\n",
      "Claw(A=(16, 75), B=(68, 20), Prize=(17148, 13490))\n",
      "Claw(A=(46, 13), B=(33, 63), Prize=(15572, 9644))\n",
      "Claw(A=(21, 79), B=(44, 32), Prize=(2433, 5147))\n",
      "Claw(A=(13, 45), B=(36, 11), Prize=(4612, 19164))\n",
      "...\n"
     ]
    }
   ],
   "source": [
    "Claw = namedtuple('Claw', 'A, B, Prize') # A claw machine\n",
    "\n",
    "def parse_claw(text: str) -> Claw:\n",
    "    \"\"\"Parse a description into a Claw object.\"\"\"\n",
    "    ax, ay, bx, by, px, py = ints(text)\n",
    "    return Claw((ax, ay), (bx, by), (px, py))\n",
    "    \n",
    "claws = parse(13, parse_claw, sections=paragraphs)"
   ]
  },
  {
   "cell_type": "markdown",
   "id": "7f6da888-9288-42f1-bc51-2eb2a66d34a1",
   "metadata": {},
   "source": [
    "### Part 1: What is the fewest tokens you would have to spend to win all possible prizes?\n",
    "\n",
    "We are told that for some machines it is possible to reach the prize and others it is impossible. We are also told that you need to spend 3 tokens to  press  the **A** button and 1 token to press the **B** button. There is a hint that no button will need to be pushed more than 100 times. It is usually a good idea to accept the hint, so I will  do the following:\n",
    "- Exhaustively try from every number from 0 to 100 presses of the **A** button.\n",
    "- For each number, figure out what the resulting position of the claw would be after those presses.\n",
    "- Calculate how many presses of the **B** button would be required to get to the prize's X location.\n",
    "- If the number of presses is an integer, and would also arrive at the prize's Y location, then yield that solution.\n",
    "- Out of these solutions, the cheapest solution is  the one that needs the fewest tokens.\n",
    "- (If there are no solutions, `cheapest_solution` will return 0, whcih is convenient for adding the results up, but is worrisome because it doesn't distinguish between an impossible-to-reach prize and a prize at the origin. On this puzzle, that's ok, but it is still worrisome.)"
   ]
  },
  {
   "cell_type": "code",
   "execution_count": 797,
   "id": "c2c4bbc9-42cd-483d-8da2-97cf051e93fe",
   "metadata": {},
   "outputs": [],
   "source": [
    "def solve_claw(claw: Claw, limit=100) -> Iterable[Tuple[int, int]]:\n",
    "    \"\"\"All possible (A-presses, B-presses) solutions to reach the prize on this machine.\"\"\"\n",
    "    A, B, Prize = claw\n",
    "    for Apresses in range(limit + 1):\n",
    "        pos = mul(A, Apresses)\n",
    "        if X_(pos) > X_(Prize) or Y_(pos) > Y_(Prize):\n",
    "            return\n",
    "        diff = sub2(Prize, pos)\n",
    "        Bpresses = X_(diff) / X_(B)\n",
    "        if Bpresses.is_integer() and Bpresses * Y_(B) == Y_(diff):\n",
    "            yield (Apresses, int(Bpresses))\n",
    "\n",
    "def cheapest_solution(claw: Claw) -> int: \n",
    "    \"\"\"The minimum cost out of every possible solution to this claw machine.\"\"\"\n",
    "    return min((3 * A + B for (A, B) in solve_claw(claw)), default=0)"
   ]
  },
  {
   "cell_type": "code",
   "execution_count": 798,
   "id": "f5638ed4-1e59-4b9f-b1fc-427d2eb0d036",
   "metadata": {},
   "outputs": [
    {
     "data": {
      "text/plain": [
       "Puzzle 13.1:   .010 seconds, answer 29598             ok"
      ]
     },
     "execution_count": 798,
     "metadata": {},
     "output_type": "execute_result"
    }
   ],
   "source": [
    "answer(13.1, 29598, lambda:\n",
    "       sum(map(cheapest_solution, claws)))"
   ]
  },
  {
   "cell_type": "markdown",
   "id": "3a36e76c-dd5b-4d80-ae88-9980e7d274ac",
   "metadata": {},
   "source": [
    "### Part 2: What is the fewest tokens you would have to spend to win all possible prizes, now?\n",
    "\n",
    "In Part 2, we discover that the prize is actually much farther away, by 10,000,000,000,000 (ten trillion) steps in both the X and Y coordinates. Theoretically, we could still use `solve_claw` with a bigger `limit`, but that would take a *long* time.\n",
    "\n",
    "Instead I can solve each claw machine *mathematically* rather than by trial and error. I know that an equation over the integers is called a [Diophantine equation](https://en.wikipedia.org/wiki/Diophantine_equation), but I don't remember much about them.  What are the equations of a claw machine? For my first machine, \n",
    "\n",
    "     Button A: X+24, Y+19\n",
    "     Button B: X+32, Y+86\n",
    "     Prize: X=1072, Y=2062\n",
    "\n",
    "there are two linear equations to solve simultaneously:\n",
    "\n",
    "     24 A + 32 B = 1072\n",
    "     19 A + 86 B = 2062\n",
    "\n",
    "In general, two linear equations in two unknowns can have zero solutions (if the lines are parallel), an infinite number of solutions (if the lines are the same), or exactly one solution (otherwise). The further constraint that *A* and *B* have to be non-negative integers may rule out some of these solutions, but mostly we are looking for the one point where two lines intersect.\n",
    "\n",
    "I defined `solve_claw` to yield multiple solutions, but let's see how many solutions each claw machine yields:"
   ]
  },
  {
   "cell_type": "code",
   "execution_count": 800,
   "id": "df8da2ae-52f9-409b-a54f-ad7d21b32e45",
   "metadata": {},
   "outputs": [
    {
     "data": {
      "text/plain": [
       "Counter({0: 168, 1: 152})"
      ]
     },
     "execution_count": 800,
     "metadata": {},
     "output_type": "execute_result"
    }
   ],
   "source": [
    "Counter(quantify(solve_claw(c)) for c in claws)"
   ]
  },
  {
   "cell_type": "markdown",
   "id": "f0f97d47-5741-4c6e-ae96-5b3161ee2e56",
   "metadata": {},
   "source": [
    "This says that 168 claw machines have no solution and 152 have exactly one. None of them have more than one solution.\n",
    "\n",
    "So, what is the intersection point of two lines? You could [look it up](https://www.wolframalpha.com/input?i=solve+for+a%2C+b%3A+p+*+a+%2B+q+*+b+%3D+r++and+++s+*+a+%2B+t+*+b+%3D+u) or work it out by hand, or [call a function](https://numpy.org/doc/2.1/reference/generated/numpy.linalg.solve.html). Given the two equations over the two variables *a* and *b*:\n",
    "\n",
    "    p * a + q * b = r\n",
    "    s * a + t * b = u\n",
    "\n",
    "The solution is:\n",
    "\n",
    "    a = (r * t - q * u) / (p * t - q * s)\n",
    "    b = (r * s - p * u) / (q * s - p * t)\n",
    "\n",
    "So we can rewrite `solve_claw` to use this:"
   ]
  },
  {
   "cell_type": "code",
   "execution_count": 802,
   "id": "6bbd0934-d962-4c93-940b-810651e9e568",
   "metadata": {},
   "outputs": [],
   "source": [
    "def solve_claw(claw: Claw) -> Iterable[Tuple[int, int]]:\n",
    "    \"\"\"All possible (A-presses, B-presses) solutions to reach the prize on this machine.\"\"\"\n",
    "    ((p, s), (q, t), (r, u)) = claw\n",
    "    a = (r * t - q * u) / (p * t - q * s)\n",
    "    b = (r * s - p * u) / (q * s - p * t)\n",
    "    if a >= 0 and b >= 0 and a.is_integer() and b.is_integer():\n",
    "        yield (int(a), int(b))"
   ]
  },
  {
   "cell_type": "markdown",
   "id": "af52d98e-50e9-4c4d-875f-1ed2b3dc8111",
   "metadata": {},
   "source": [
    "We'll need a function to move the claws further away, then we're ready to answer Part 2:"
   ]
  },
  {
   "cell_type": "code",
   "execution_count": 804,
   "id": "dd38ba4c-44ba-426b-b1c8-0e10adbdd642",
   "metadata": {},
   "outputs": [],
   "source": [
    "def move_prize(claw, delta=(10**13, 10**13)) -> Claw:\n",
    "    \"\"\"Move the claw's prize by the given displacement, delta.\"\"\"\n",
    "    return claw._replace(Prize=(add(claw.Prize, delta)))"
   ]
  },
  {
   "cell_type": "code",
   "execution_count": 805,
   "id": "9f578b3e-6b6d-4eb0-9228-c98122a84747",
   "metadata": {},
   "outputs": [
    {
     "data": {
      "text/plain": [
       "Puzzle 13.2:   .000 seconds, answer 93217456941970    ok"
      ]
     },
     "execution_count": 805,
     "metadata": {},
     "output_type": "execute_result"
    }
   ],
   "source": [
    "answer(13.2, 93217456941970, lambda:\n",
    "       sum(cheapest_solution(move_prize(claw)) for claw in claws))"
   ]
  },
  {
   "cell_type": "markdown",
   "id": "db917eed-07e5-4409-a92d-b26534a1fcd4",
   "metadata": {},
   "source": [
    "The refactored `solve_claw` is compatible with Part 1, and should be  faster:"
   ]
  },
  {
   "cell_type": "code",
   "execution_count": 807,
   "id": "609ed4ce-548c-4af4-8e09-c621aca0124e",
   "metadata": {},
   "outputs": [
    {
     "data": {
      "text/plain": [
       "Puzzle 13.1:   .000 seconds, answer 29598             ok"
      ]
     },
     "execution_count": 807,
     "metadata": {},
     "output_type": "execute_result"
    }
   ],
   "source": [
    "answer(13.1, 29598, lambda:\n",
    "       sum(map(cheapest_solution, claws)))"
   ]
  },
  {
   "cell_type": "markdown",
   "id": "741bd221-cda4-432b-8ad2-b8c6950c7dc3",
   "metadata": {},
   "source": [
    "I could have recognized in Part 1 that we have a system of two linear equations in two unknowns, and gone straight to the Part 2 solution. But I have no regrets; I took the hint that trial-and-test for 100 trials was a good idea, and I saved the complicated algebra for when I really needed it in Part 2. Having two independent implementations give the answer incrreases my confidence in both of them."
   ]
  },
  {
   "cell_type": "markdown",
   "id": "2576ce68-3f1e-4887-ab0b-62fa94cbe55a",
   "metadata": {},
   "source": [
    "# [Day 14](https://adventofcode.com/2024/day/14 ): Restroom Redoubt\n",
    "\n",
    "Today's narratives involve multiple robots roaming around a restroom. Each line of the input describes a robot's position and velocity in two dimensions:"
   ]
  },
  {
   "cell_type": "code",
   "execution_count": 810,
   "id": "1a5f5875-426d-47ea-a35a-405c39ced5dd",
   "metadata": {},
   "outputs": [
    {
     "name": "stdout",
     "output_type": "stream",
     "text": [
      "────────────────────────────────────────────────────────────────────────────────────────────────────\n",
      "Puzzle input ➜ 500 strs:\n",
      "────────────────────────────────────────────────────────────────────────────────────────────────────\n",
      "p=62,20 v=85,-14\n",
      "p=88,18 v=-70,97\n",
      "p=51,21 v=35,-22\n",
      "p=19,56 v=2,45\n",
      "p=93,11 v=-87,26\n",
      "p=90,67 v=44,-13\n",
      "p=99,34 v=82,57\n",
      "p=55,42 v=82,22\n",
      "...\n",
      "────────────────────────────────────────────────────────────────────────────────────────────────────\n",
      "Parsed representation ➜ 500 tuples:\n",
      "────────────────────────────────────────────────────────────────────────────────────────────────────\n",
      "(62, 20, 85, -14)\n",
      "(88, 18, -70, 97)\n",
      "(51, 21, 35, -22)\n",
      "(19, 56, 2, 45)\n",
      "(93, 11, -87, 26)\n",
      "(90, 67, 44, -13)\n",
      "(99, 34, 82, 57)\n",
      "(55, 42, 82, 22)\n",
      "...\n"
     ]
    }
   ],
   "source": [
    "robots = parse(14, ints)"
   ]
  },
  {
   "cell_type": "markdown",
   "id": "818a939d-2038-4574-a20b-c1194d403f2c",
   "metadata": {},
   "source": [
    "### Part 1: What will the safety factor be after exactly 100 seconds have elapsed?\n",
    "\n",
    "Each second the  robots move according to their velocity, and they wrap around when they reach the edge of their world, which has width 101 and height 103. They can pass through each other. We're asked to figure out where they are after 100 seconds. I can see that it is not necessary to step the robots each time step; we can just multiply their velocity by time, add it to their initial position, and then take the result modulo the width or height. That's done in `robot_dance`. We're asked to figure out how many robots end up in each **quadrant**. There are four quadrants, but a robot that is exactly on a middle line, either horizontally or vertically, doesn't count). Finally, the **safety factor** is the product of the count of robots in each quadrant."
   ]
  },
  {
   "cell_type": "code",
   "execution_count": 812,
   "id": "be22ac94-7401-4cf6-ab83-e43775536af7",
   "metadata": {},
   "outputs": [],
   "source": [
    "def robot_dance(robots, steps=100, width=101, height=103) -> List[Point]:\n",
    "    \"\"\"Move each robot for `steps` number of steps.\"\"\"\n",
    "    return [((x + steps * dx) % width, (y + steps * dy) % height)\n",
    "            for (x, y, dx, dy) in robots]\n",
    "\n",
    "def quadrant_counts(positions, w=101//2, h=103//2) -> Counter:\n",
    "    \"\"\"How many robots are in each quadrant? Ignore robots exactly in the middle.\"\"\"\n",
    "    return Counter((sign(x - w), sign(y - h)) \n",
    "                   for (x, y) in positions if x != w and y != h)\n",
    "\n",
    "def safety_factor(robots) -> int:\n",
    "    \"\"\"The product of the counts in each of the four quadrants.\"\"\"\n",
    "    return prod(quadrant_counts(robot_dance(robots)).values())"
   ]
  },
  {
   "cell_type": "code",
   "execution_count": 813,
   "id": "69093001-79aa-463a-b801-51cd5b4de4eb",
   "metadata": {},
   "outputs": [
    {
     "data": {
      "text/plain": [
       "Puzzle 14.1:   .000 seconds, answer 216027840         ok"
      ]
     },
     "execution_count": 813,
     "metadata": {},
     "output_type": "execute_result"
    }
   ],
   "source": [
    "answer(14.1, 216027840, lambda:\n",
    "       safety_factor(robots))"
   ]
  },
  {
   "cell_type": "markdown",
   "id": "a0cb27ad-82ff-4dcb-85cf-596b16ae9875",
   "metadata": {},
   "source": [
    "### Part 2: What is the fewest number of seconds that must elapse for the robots to display a picture of a Christmas Tree?\n",
    "\n",
    "I was so sure Part 2 was going to ask for 10 trillion steps. But I was wrong. \n",
    "\n",
    "Instead they ask the very vague question of when a picture emerges. They gave the hint that \"*very rarely, most of the robots should arrange themselves into a picture of a Christmas tree.*\" Since I don't know exactly how to specify a Christmas tree picture, I see three options:\n",
    "- I could build an animation, and watch as each frame is displayed, stopping when I see something that looks like a tree.\n",
    "- The phrase \"*most of the robots should arrange themselves*\" suggests that most of the robots are in one area. I could check for that.\n",
    "- Generate an image for each time step and send it off to an image recognition service. That would be iffy, and possibly expensive. \n",
    "\n",
    "I'll try the animation approach first. Google and Stack Overflow led me to the `matplotlib.animation.FuncAnimation` function:"
   ]
  },
  {
   "cell_type": "code",
   "execution_count": 815,
   "id": "664c686e-0c3d-43b8-970f-88c0bf47dbf6",
   "metadata": {},
   "outputs": [],
   "source": [
    "import matplotlib.animation\n",
    "\n",
    "def animate_robots(robots, times: Ints):\n",
    "    \"\"\"Animate the robot dance over the given time steps.\"\"\"\n",
    "    plt.rcParams[\"animation.html\"] = \"jshtml\"\n",
    "    plt.rcParams['figure.dpi'] = 150  \n",
    "    plt.ioff()\n",
    "    fig, ax = plt.subplots()\n",
    "    def animate(t: int):\n",
    "        points = robot_dance(robots, t)\n",
    "        plt.cla()\n",
    "        ax.yaxis.set_inverted(True)\n",
    "        plt.plot(*T(points), 'go')\n",
    "        plt.title(f'{t} seconds')\n",
    "    return matplotlib.animation.FuncAnimation(fig, animate, frames=times)"
   ]
  },
  {
   "cell_type": "markdown",
   "id": "92048f28-a6a4-4c12-847f-62884177dec5",
   "metadata": {},
   "source": [
    "Here's what it looks like:"
   ]
  },
  {
   "cell_type": "code",
   "execution_count": 817,
   "id": "87843969-cb37-4fa5-9788-6a1b71c43521",
   "metadata": {},
   "outputs": [
    {
     "data": {
      "text/html": [
       "\n",
       "<link rel=\"stylesheet\"\n",
       "href=\"https://maxcdn.bootstrapcdn.com/font-awesome/4.4.0/css/font-awesome.min.css\">\n",
       "<script language=\"javascript\">\n",
       "  function isInternetExplorer() {\n",
       "    ua = navigator.userAgent;\n",
       "    /* MSIE used to detect old browsers and Trident used to newer ones*/\n",
       "    return ua.indexOf(\"MSIE \") > -1 || ua.indexOf(\"Trident/\") > -1;\n",
       "  }\n",
       "\n",
       "  /* Define the Animation class */\n",
       "  function Animation(frames, img_id, slider_id, interval, loop_select_id){\n",
       "    this.img_id = img_id;\n",
       "    this.slider_id = slider_id;\n",
       "    this.loop_select_id = loop_select_id;\n",
       "    this.interval = interval;\n",
       "    this.current_frame = 0;\n",
       "    this.direction = 0;\n",
       "    this.timer = null;\n",
       "    this.frames = new Array(frames.length);\n",
       "\n",
       "    for (var i=0; i<frames.length; i++)\n",
       "    {\n",
       "     this.frames[i] = new Image();\n",
       "     this.frames[i].src = frames[i];\n",
       "    }\n",
       "    var slider = document.getElementById(this.slider_id);\n",
       "    slider.max = this.frames.length - 1;\n",
       "    if (isInternetExplorer()) {\n",
       "        // switch from oninput to onchange because IE <= 11 does not conform\n",
       "        // with W3C specification. It ignores oninput and onchange behaves\n",
       "        // like oninput. In contrast, Microsoft Edge behaves correctly.\n",
       "        slider.setAttribute('onchange', slider.getAttribute('oninput'));\n",
       "        slider.setAttribute('oninput', null);\n",
       "    }\n",
       "    this.set_frame(this.current_frame);\n",
       "  }\n",
       "\n",
       "  Animation.prototype.get_loop_state = function(){\n",
       "    var button_group = document[this.loop_select_id].state;\n",
       "    for (var i = 0; i < button_group.length; i++) {\n",
       "        var button = button_group[i];\n",
       "        if (button.checked) {\n",
       "            return button.value;\n",
       "        }\n",
       "    }\n",
       "    return undefined;\n",
       "  }\n",
       "\n",
       "  Animation.prototype.set_frame = function(frame){\n",
       "    this.current_frame = frame;\n",
       "    document.getElementById(this.img_id).src =\n",
       "            this.frames[this.current_frame].src;\n",
       "    document.getElementById(this.slider_id).value = this.current_frame;\n",
       "  }\n",
       "\n",
       "  Animation.prototype.next_frame = function()\n",
       "  {\n",
       "    this.set_frame(Math.min(this.frames.length - 1, this.current_frame + 1));\n",
       "  }\n",
       "\n",
       "  Animation.prototype.previous_frame = function()\n",
       "  {\n",
       "    this.set_frame(Math.max(0, this.current_frame - 1));\n",
       "  }\n",
       "\n",
       "  Animation.prototype.first_frame = function()\n",
       "  {\n",
       "    this.set_frame(0);\n",
       "  }\n",
       "\n",
       "  Animation.prototype.last_frame = function()\n",
       "  {\n",
       "    this.set_frame(this.frames.length - 1);\n",
       "  }\n",
       "\n",
       "  Animation.prototype.slower = function()\n",
       "  {\n",
       "    this.interval /= 0.7;\n",
       "    if(this.direction > 0){this.play_animation();}\n",
       "    else if(this.direction < 0){this.reverse_animation();}\n",
       "  }\n",
       "\n",
       "  Animation.prototype.faster = function()\n",
       "  {\n",
       "    this.interval *= 0.7;\n",
       "    if(this.direction > 0){this.play_animation();}\n",
       "    else if(this.direction < 0){this.reverse_animation();}\n",
       "  }\n",
       "\n",
       "  Animation.prototype.anim_step_forward = function()\n",
       "  {\n",
       "    this.current_frame += 1;\n",
       "    if(this.current_frame < this.frames.length){\n",
       "      this.set_frame(this.current_frame);\n",
       "    }else{\n",
       "      var loop_state = this.get_loop_state();\n",
       "      if(loop_state == \"loop\"){\n",
       "        this.first_frame();\n",
       "      }else if(loop_state == \"reflect\"){\n",
       "        this.last_frame();\n",
       "        this.reverse_animation();\n",
       "      }else{\n",
       "        this.pause_animation();\n",
       "        this.last_frame();\n",
       "      }\n",
       "    }\n",
       "  }\n",
       "\n",
       "  Animation.prototype.anim_step_reverse = function()\n",
       "  {\n",
       "    this.current_frame -= 1;\n",
       "    if(this.current_frame >= 0){\n",
       "      this.set_frame(this.current_frame);\n",
       "    }else{\n",
       "      var loop_state = this.get_loop_state();\n",
       "      if(loop_state == \"loop\"){\n",
       "        this.last_frame();\n",
       "      }else if(loop_state == \"reflect\"){\n",
       "        this.first_frame();\n",
       "        this.play_animation();\n",
       "      }else{\n",
       "        this.pause_animation();\n",
       "        this.first_frame();\n",
       "      }\n",
       "    }\n",
       "  }\n",
       "\n",
       "  Animation.prototype.pause_animation = function()\n",
       "  {\n",
       "    this.direction = 0;\n",
       "    if (this.timer){\n",
       "      clearInterval(this.timer);\n",
       "      this.timer = null;\n",
       "    }\n",
       "  }\n",
       "\n",
       "  Animation.prototype.play_animation = function()\n",
       "  {\n",
       "    this.pause_animation();\n",
       "    this.direction = 1;\n",
       "    var t = this;\n",
       "    if (!this.timer) this.timer = setInterval(function() {\n",
       "        t.anim_step_forward();\n",
       "    }, this.interval);\n",
       "  }\n",
       "\n",
       "  Animation.prototype.reverse_animation = function()\n",
       "  {\n",
       "    this.pause_animation();\n",
       "    this.direction = -1;\n",
       "    var t = this;\n",
       "    if (!this.timer) this.timer = setInterval(function() {\n",
       "        t.anim_step_reverse();\n",
       "    }, this.interval);\n",
       "  }\n",
       "</script>\n",
       "\n",
       "<style>\n",
       ".animation {\n",
       "    display: inline-block;\n",
       "    text-align: center;\n",
       "}\n",
       "input[type=range].anim-slider {\n",
       "    width: 374px;\n",
       "    margin-left: auto;\n",
       "    margin-right: auto;\n",
       "}\n",
       ".anim-buttons {\n",
       "    margin: 8px 0px;\n",
       "}\n",
       ".anim-buttons button {\n",
       "    padding: 0;\n",
       "    width: 36px;\n",
       "}\n",
       ".anim-state label {\n",
       "    margin-right: 8px;\n",
       "}\n",
       ".anim-state input {\n",
       "    margin: 0;\n",
       "    vertical-align: middle;\n",
       "}\n",
       "</style>\n",
       "\n",
       "<div class=\"animation\">\n",
       "  <img id=\"_anim_img371f62c512dc43638cafc61e9bb8bb48\">\n",
       "  <div class=\"anim-controls\">\n",
       "    <input id=\"_anim_slider371f62c512dc43638cafc61e9bb8bb48\" type=\"range\" class=\"anim-slider\"\n",
       "           name=\"points\" min=\"0\" max=\"1\" step=\"1\" value=\"0\"\n",
       "           oninput=\"anim371f62c512dc43638cafc61e9bb8bb48.set_frame(parseInt(this.value));\">\n",
       "    <div class=\"anim-buttons\">\n",
       "      <button title=\"Decrease speed\" aria-label=\"Decrease speed\" onclick=\"anim371f62c512dc43638cafc61e9bb8bb48.slower()\">\n",
       "          <i class=\"fa fa-minus\"></i></button>\n",
       "      <button title=\"First frame\" aria-label=\"First frame\" onclick=\"anim371f62c512dc43638cafc61e9bb8bb48.first_frame()\">\n",
       "        <i class=\"fa fa-fast-backward\"></i></button>\n",
       "      <button title=\"Previous frame\" aria-label=\"Previous frame\" onclick=\"anim371f62c512dc43638cafc61e9bb8bb48.previous_frame()\">\n",
       "          <i class=\"fa fa-step-backward\"></i></button>\n",
       "      <button title=\"Play backwards\" aria-label=\"Play backwards\" onclick=\"anim371f62c512dc43638cafc61e9bb8bb48.reverse_animation()\">\n",
       "          <i class=\"fa fa-play fa-flip-horizontal\"></i></button>\n",
       "      <button title=\"Pause\" aria-label=\"Pause\" onclick=\"anim371f62c512dc43638cafc61e9bb8bb48.pause_animation()\">\n",
       "          <i class=\"fa fa-pause\"></i></button>\n",
       "      <button title=\"Play\" aria-label=\"Play\" onclick=\"anim371f62c512dc43638cafc61e9bb8bb48.play_animation()\">\n",
       "          <i class=\"fa fa-play\"></i></button>\n",
       "      <button title=\"Next frame\" aria-label=\"Next frame\" onclick=\"anim371f62c512dc43638cafc61e9bb8bb48.next_frame()\">\n",
       "          <i class=\"fa fa-step-forward\"></i></button>\n",
       "      <button title=\"Last frame\" aria-label=\"Last frame\" onclick=\"anim371f62c512dc43638cafc61e9bb8bb48.last_frame()\">\n",
       "          <i class=\"fa fa-fast-forward\"></i></button>\n",
       "      <button title=\"Increase speed\" aria-label=\"Increase speed\" onclick=\"anim371f62c512dc43638cafc61e9bb8bb48.faster()\">\n",
       "          <i class=\"fa fa-plus\"></i></button>\n",
       "    </div>\n",
       "    <form title=\"Repetition mode\" aria-label=\"Repetition mode\" action=\"#n\" name=\"_anim_loop_select371f62c512dc43638cafc61e9bb8bb48\"\n",
       "          class=\"anim-state\">\n",
       "      <input type=\"radio\" name=\"state\" value=\"once\" id=\"_anim_radio1_371f62c512dc43638cafc61e9bb8bb48\"\n",
       "             >\n",
       "      <label for=\"_anim_radio1_371f62c512dc43638cafc61e9bb8bb48\">Once</label>\n",
       "      <input type=\"radio\" name=\"state\" value=\"loop\" id=\"_anim_radio2_371f62c512dc43638cafc61e9bb8bb48\"\n",
       "             checked>\n",
       "      <label for=\"_anim_radio2_371f62c512dc43638cafc61e9bb8bb48\">Loop</label>\n",
       "      <input type=\"radio\" name=\"state\" value=\"reflect\" id=\"_anim_radio3_371f62c512dc43638cafc61e9bb8bb48\"\n",
       "             >\n",
       "      <label for=\"_anim_radio3_371f62c512dc43638cafc61e9bb8bb48\">Reflect</label>\n",
       "    </form>\n",
       "  </div>\n",
       "</div>\n",
       "\n",
       "\n",
       "<script language=\"javascript\">\n",
       "  /* Instantiate the Animation class. */\n",
       "  /* The IDs given should match those used in the template above. */\n",
       "  (function() {\n",
       "    var img_id = \"_anim_img371f62c512dc43638cafc61e9bb8bb48\";\n",
       "    var slider_id = \"_anim_slider371f62c512dc43638cafc61e9bb8bb48\";\n",
       "    var loop_select_id = \"_anim_loop_select371f62c512dc43638cafc61e9bb8bb48\";\n",
       "    var frames = new Array(3);\n",
       "    \n",
       "  frames[0] = \"data:image/png;base64,iVBORw0KGgoAAAANSUhEUgAAA8AAAALQCAYAAABfdxm0AAAAOXRFWHRTb2Z0d2FyZQBNYXRwbG90\\\n",
       "bGliIHZlcnNpb24zLjkuMiwgaHR0cHM6Ly9tYXRwbG90bGliLm9yZy8hTgPZAAAACXBIWXMAABcS\\\n",
       "AAAXEgFnn9JSAADPn0lEQVR4nOzdf3xU1Z0//tcEJjESCD+0ECGI0dbY+gOCbXH9QUQmBT+N2tbd\\\n",
       "tmvdEtMGt7tbBHcfGyGf7ypt/GC7yGbXz6eOMSSr3W27te1WtoUShKBV6BZC6k/UGqLDj4xKJBAY\\\n",
       "IJD5/sFOSMj8uPfMufeec+7r+Xj4eLRk7tz3Pfecc+/JzH0lEI/H4yAiIiIiIiIyXI7XBRARERER\\\n",
       "ERG5gQtgIiIiIiIi8gUugImIiIiIiMgXuAAmIiIiIiIiX+ACmIiIiIiIiHyBC2AiIiIiIiLyBS6A\\\n",
       "iYiIiIiIyBe4ACYiIiIiIiJf4AKYiIiIiIiIfIELYCIiIiIiIvIFLoCJiIiIiIjIF7gAJiIiIiIi\\\n",
       "Il/gApiIiIiIiIh8gQtgIiIiIiIi8gUugImIiIiIiMgXuAAmIiIiIiIiX+ACmIiIiIiIiHyBC2Ai\\\n",
       "IiIiIiLyBS6AiYiIiIiIyBe4ACYiIiIiIiJf4AKYiIiIiIiIfIELYCIiIiIiIvIFLoCJiIiIiIjI\\\n",
       "F7gAJiIiIiIiIl/gApiIiIiIiIh8gQtgIiIiIiIi8gUugImIiIiIiMgXuAAmIiIiIiIiX+ACmIiI\\\n",
       "iIiIiHyBC2AiIiIiIiLyBS6AiYiIiIiIyBe4ACYiIiIiIiJf4AKYiIiIiIiIfIELYCIiIiIiIvIF\\\n",
       "LoCJiIiIiIjIF7gAJiIiIiIiIl/gApiIiIiIiIh8gQtgIiIiIiIi8gUugImIiIiIiMgXuAAmIiIi\\\n",
       "IiIiX+ACmIiIiIiIiHyBC2AiIiIiIiLyBS6AiYiIiIiIyBe4ACYiIiIiIiJf4AKYiIiIiIiIfIEL\\\n",
       "YCIiIiIiIvIFLoCJiIiIiIjIF7gAJiIiIiIiIl/gApiIiIiIiIh8gQtgIiIiIiIi8gUugImIiIiI\\\n",
       "iMgXuAAmIiIiIiIiX+ACmIiIiIiIiHyBC2AiIiIiIiLyBS6AiYiIyBFtbW0IBAIIBAJel0JERASA\\\n",
       "C2AiItLYkSNH8OCDD+Kqq65CQUEBCgsL8elPfxqrV6/GyZMnvS6PiIiIFBOIx+Nxr4sgIiKy6913\\\n",
       "30V5eTm6uroAAOeffz5Onz6NEydOAABmzZqF5557DhMmTPCwSn9ra2vDzTffDADg7QYREamAnwAT\\\n",
       "EZF2Tp8+jcrKSnR1daGoqAitra04evQojh07hh//+McYO3Ysdu3ahbvuusvrUomIiEghXAATEZF2\\\n",
       "Wlpa8MorrwAAfvazn2H+/PkAgJycHHz5y19GOBwGAKxfvx7PPfecZ3USERGRWrgAJiIi7fzrv/4r\\\n",
       "AODmm2/GddddN+LnX/nKV3DJJZcAAJ566inb73/q1Ck88cQTKC8vxwUXXIBgMIhJkybh8ssvx5e/\\\n",
       "/GWsXbs25bbd3d2ora3FNddcg8LCQpx33nkoKSnBN77xDbz++utp9zswMID/+I//wB133IGpU6ci\\\n",
       "Ly8PF154IWbPno3a2lq8+uqrSbd755138Jd/+Zf4+Mc/jvz8fIwbNw5lZWVYuXIlDh8+nHSbcwOq\\\n",
       "/vjHP+Kee+5BcXEx8vLyMG3aNHzzm9/Evn370ta8e/du3HXXXZgyZcrgsf7N3/wNotFo2u0A4He/\\\n",
       "+x3uuusuXHLJJTjvvPMwZswYXHzxxZg7dy6+853vYO/evRnfg4iIyJY4ERGRRo4ePRrPycmJA4h/\\\n",
       "73vfS/m6v/zLv4wDiE+ZMsXW+586dSoeCoXiAAb/KywsjOfl5Q37t2TWrVsXLygoGHxNMBiMjxkz\\\n",
       "ZvD/5+bmxv/1X/816bYffPBB/Kabbhqx32AwOPj/b7/99hHb/eQnPxlW29ixY4f9/+Li4vjrr78+\\\n",
       "YrstW7YMvmbz5s2DdY8dOzY+evTowZ9ddNFF8b179yatef369cP2VVBQED/vvPPiAOJFRUXxtWvX\\\n",
       "pmyvlpaWeCAQGPx5Xl5efNy4ccOOv7m5OfWJIiIiEsBPgImISCtvvPEGBgYGAABXXnllytclftbd\\\n",
       "3Y2enh7L7/+jH/0Ira2tOO+88/Dkk0/iyJEjOHToEGKxGKLRKH7+85/jS1/60ojt/vu//xtf+tKX\\\n",
       "0NfXh8WLF+ONN95ALBZDX18f3n33XXzrW9/CyZMnUV1djR07dgzb9tSpU7jjjjvw/PPPIy8vD488\\\n",
       "8gjef//9wf3u2bMH4XAYn/zkJ4dt197ejq997Ws4ceIErr/+evzhD3/A4cOHcezYMTz77LMoKipC\\\n",
       "JBJBZWUl+vr6Uh7zl770JcybNw9vvPEGDh8+jKNHj+InP/kJxo4di/379+OBBx4Ysc3evXvx5S9/\\\n",
       "GSdOnMDVV1+N3/3udzhy5AiOHj2K9evXY9SoUVi2bFnS/R07dgx/8zd/g3g8jq997Wv44x//iOPH\\\n",
       "j6O3txd9fX3YsWMH/u7v/g4f+9jHrJwyIiIi67xegRMREdnx7LPPDn5C+Ic//CHl6/7zP/9z8HWv\\\n",
       "vPKK5fdPfHJcU1Njq65Pf/rTcQDx//2//3fK13z7299O+knuk08+GQcQDwQC8V/96leW97lgwYI4\\\n",
       "gPhll10WP3r06Iift7e3D36a+/3vf3/Yz4Z+AnzzzTfHT58+PWL7f/7nf44DiOfn58f7+/uH/SzR\\\n",
       "TpMmTYpHo9ER277yyivDPr0e6ne/+10cQHzMmDEj3peIiMhJ/ASYiIi0cuTIkcH/ff7556d83dCf\\\n",
       "Dd0mk/HjxwM488mxVX/4wx/w+9//HsFgEPfff3/K1/3FX/wFAGDTpk04ffr04L8nnim+9dZbceut\\\n",
       "t1ra56FDh/Cb3/wGAPB3f/d3Sdti1qxZ+OIXvwjgzCfbqSxfvhw5OSNvCW6//XYAQCwWw9tvvz34\\\n",
       "7/F4HD/5yU8AAPfee2/ST2qvvPJK3HnnnUn3l2jjkydP4uDBgynrIiIiko0LYCIioiFuvfVWBAIB\\\n",
       "PPvss1i4cCF+9KMfYf/+/Wm3+e1vfwvgTIjV5ZdfjilTpiT9b8GCBQCAo0ePDi78Tp06hd///vcA\\\n",
       "gMrKSst1tre3D/5t3UQKdjKhUAgA8PLLL6O/vz/paz772c8m/feLLrpo8H8P/Rr5nj17Bv//vHnz\\\n",
       "Uu471c8uvfRSlJaWor+/H5/97GfxyCOPoKOjY9gvBYiIiJzABTAREWll7Nixg//72LFjKV839GdD\\\n",
       "t8nkhhtuwCOPPILc3Fxs2LABf/7nf46pU6eiuLgYVVVV2LJly4htEgvk06dPIxqNpvzvww8/HFHf\\\n",
       "wYMHBxemF198seU633///cH/PXXq1JSvmzZtGoAzC+1Uz0Knap/Ro0cP/u+hi2e7+z7XqFGj8OMf\\\n",
       "/xiXXHIJ3n33XdTW1mLWrFkYN24cQqEQfvCDH6Q9t0RERKK4ACYiIq0M/VQy3Z/oGfqzodtY8Xd/\\\n",
       "93fYs2cP1qxZgzvuuAMf+9jHsHfvXrS0tGDevHn40z/902ELwsQnl6WlpYjH45b+mzFjxoj9Jv4k\\\n",
       "kVOceH/R97zmmmuwe/du/OxnP0NNTQ2uvPJKxGIxbNq0Cd/61rdQWlo6+LeeiYiIZOECmIiItHLF\\\n",
       "FVcMPq+a6u/iDv3ZlClTMHHiRNv7ueiii3DffffhF7/4BaLRKF5++WV84xvfAAA888wz+MEPfjD4\\\n",
       "2ilTpgAAOjs7cfToUVv7mTRpEoLBIACgq6vL8nZDn7tN9/dyEz8bPXo0JkyYYKu2bPed6W8I5+bm\\\n",
       "4otf/CLC4TBeeeUVfPDBB3j88ccxceJERCIRfP3rX5dSLxERUQIXwEREpJXzzz8f119/PQBgw4YN\\\n",
       "SV8Tj8cHA6IqKiqk7Peqq65CY2Pj4L5bW1sHf5b4t5MnT+IXv/iFrfcdPXo0PvOZzwAA1q1bZ3m7\\\n",
       "srKywV8EPPfccylft2nTJgBnPnFNLLSzdckllwz+UiHZV8ITNm/ebOt9J02ahMWLF+ORRx4BAOza\\\n",
       "tYshWUREJBUXwEREpJ3EJ4NbtmzB7373uxE//+lPf4rOzk4AZ5OXrTpx4kTan+fn5wM48xxrwrXX\\\n",
       "XotZs2YBAFasWIEPPvgg7Xuc+yxudXU1AODXv/41fv3rX1uqc/z48fjc5z4HAPj+97+f9JnZP/zh\\\n",
       "D/jZz34GAPjqV79q6X2tCAQC+LM/+zMAwOOPPz7s2eaE119/Hc8880zS7a22MTC8nYmIiLLFBTAR\\\n",
       "EWnn61//Oq666irE43F86UtfGvwEdGBgAD/96U/xzW9+EwCwcOFC3HLLLbbe+4477sA999yD9evX\\\n",
       "49ChQ4P/3tPTg+9+97uD+xr654oCgQAef/xx5OXl4b333sNnP/tZPPPMM8MWpfv27cMPf/hDhEIh\\\n",
       "/P3f//2wfd5999244YYbBo/n+9///uCi8vTp0+jq6sKaNWtGbFdfX49gMIg//vGP+NznPjf4zOzA\\\n",
       "wAB+/etf49Zbb8WpU6dw6aWXYvHixbbaIZMHHngAY8eOxYcffohQKIQdO3YAOPPp+8aNG7Fw4cKU\\\n",
       "f6bqxz/+Ma6//nqEw+HBX1QkjvU3v/kNamtrAQDXXXfd4J9MIiIiksL9Pz1MRESUvT179sRnzJgR\\\n",
       "BxAHED///PPj55133uD/nzVrVrynp8f2+86dO3fwPQDEx40bFx83btywf7vzzjvjp0+fHrHtxo0b\\\n",
       "45MmTRp83ahRo+KTJk2Kn3/++cO2/8Y3vjFi2w8++CB+4403Dr4mEAjEx48fHw8Gg4P/dvvtt4/Y\\\n",
       "7sc//nE8Nzd3WL1D26G4uDj++uuvj9huy5Ytg69JJ/GaLVu2jPjZf/3Xf8Xz8vIGXzN27Nh4fn5+\\\n",
       "HEC8qKgovnbt2qT7aG5uHtYeeXl58UmTJsVzcnIG/+2iiy6Kv/HGG2lrIyIisisQj//PHxEkIiLS\\\n",
       "zJEjR/CP//iP+PnPf449e/YgJycHn/jEJ/DVr34Vf/M3f4Pc3Fzb7/nKK69g/fr12Lp1K95++210\\\n",
       "d3fj+PHjuPDCC3Httdfi61//Or74xS+m3P7QoUN4/PHH8atf/Qqvv/46ent7kZ+fj+nTp+O6667D\\\n",
       "7bffjlAohPPOO2/EtgMDA/jRj36Ef/u3f8POnTvx0UcfYcKECSguLkYoFMLdd9+NT37ykyO2++Mf\\\n",
       "/4h//Md/xKZNm7B3714Eg0Fcdtll+MIXvoD77rsP48aNG7FNW1sbbr75ZgBAuluBRMrzli1bUF5e\\\n",
       "PuLnr7/+Or7zne9g8+bN6O3tRVFRET7/+c+jrq4Ob7zxRtJ99PT04Fe/+hW2bNmC9vZ2HDhwAD09\\\n",
       "PRgzZgwuv/xyVFZW4q//+q/56S8REUnHBTARERERERH5Ap8BJiIiIiIiIl/gApiIiIiIiIh8gQtg\\\n",
       "IiIiIiIi8gUugImIiIiIiMgXuAAmIiIiIiIiX+ACmIiIiIiIiHyBC2AiIiIiIiLyBS6AiYiIiIiI\\\n",
       "yBe4ACYiIiIiIiJf4AKYiIiIiIiIfGG01wWQc6ZMmYKjR49i+vTpXpdCREREROR77733HsaMGYPu\\\n",
       "7m6vS/EtfgJssKNHj6K/v9/rMoiIiIiICEB/fz+OHj3qdRm+xk+ADZb45Pe1117zuBIiIiIiIvrU\\\n",
       "pz7ldQm+x0+AiYiIiIiIyBe4ACYiIiIiIiJf4AKYiIiIiIiIfIELYCIiIiIiIvIFLoCJiIiIiIjI\\\n",
       "F7gAJiIiIiIiIl/gApiIiIiIiIh8gQtgIiIiIiIi8gUugImIiIiIiMgXuAAmIiIiIiIiX+ACmIiI\\\n",
       "iIiIiHyBC2AiIiIiIiLyBS6AiYiIiIiIyBe4ACYiIiIiIiJf4AKYiIiIiIiIfIELYCIiIiIiIvIF\\\n",
       "LoA9dvz4cfzDP/wDPvGJT+C8887DRRddhHvuuQd79+71ujQiIiIiIiKjjPa6AD87fvw4brnlFrz0\\\n",
       "0ksoKirC7bffjq6uLjQ3N+O//uu/sG3bNlx66aVel2msaF8UT7Y/ia3vbsWRk0cwNncsymeUo3pW\\\n",
       "NSYXTPa6PEqC54yIiLzGaxGR3gLxeDzudRF+9f/9f/8fvvOd7+C6667Dxo0bUVBQAAB49NFHcf/9\\\n",
       "9+Omm27C1q1bhd//U5/6FADgtddek1KvKWL9MSzZsAQtHS3oH+gf8fNgThBVM6vQsLAB540+z4MK\\\n",
       "6Vw8Z0RE5DVei0gG3p97jwtgj/T39+NjH/sYDh06hPb2dsyaNWvYz6+55hq8/PLL2LFjB2bPni20\\\n",
       "Dw6wkWL9MSz8t4XY+m7mXyzMvXgu1t+1HvnBfBcqo1R4zoiIyGu8FpEsvD/3Hp8B9shvf/tbHDp0\\\n",
       "CJdeeumIxS8A3HnnnQCAdevWuV2a0ZZsWGLp4gUAW9/divs23OdsQZQRzxkREXmN1yIic3AB7JE/\\\n",
       "/OEPAICysrKkP0/8e+J1lL3uvm60dLTY2qa5oxnRvqgzBVFGPGdEROQ1XouIzMIQLI+89957AIBp\\\n",
       "06Yl/Xni3xOvo+w1tTclfWYnnf6BfjTtasLyG5c7VBWlw3OWGkNYiH1ALzxf+uK1iMgsXAB7pK+v\\\n",
       "DwBw/vnnJ/35mDFjhr0uncSzBOd65513mCI9hNWvLp2rrauNFzCP8JyNlC6EpbWzFQ+2PcgQFsOx\\\n",
       "D+iF50t/vBYRmYULYI8ksscCgUDan5M8R04ecXU7yh7P2XBWQlj6B/rxRPsTePPgmwxhMRD7gF54\\\n",
       "vszAaxGRWfgMsEfGjh0LADh69GjSnx87dgwABv80UjqvvfZa0v/46e9wY3PHurodZY/nbDiGsBD7\\\n",
       "gF54vszAaxGRWbgA9sj06dMBAHv37k3688S/J15H2Zt78Vyh7cpnlMsthCzjOTuLISzEPqAXni9z\\\n",
       "8FpEZBZ+Bdoj11xzDQCgvb096c8T/3711Ve7VpPpqsuq8dDWh2wFWQRzgqieVe1gVXSuoUExPbEe\\\n",
       "BBBAHNYfCTD1nDGERW+iAUhDt9v94W4l+4AK4U4q1HAuWWNWxWPzg6HtfjB2kNciIoME4nzY1BMn\\\n",
       "T57Exz72MfT29qK9vX3E3wK+5ppr8PLLL+O///u/8elPf1poH/xD2yPVrKtBY3uj9deX1SBcGXaw\\\n",
       "IkpIFxRjh6nnrOLpCrR2ttreLlQSwsa7NzpQEVmRqV8Hc4JJA5BkjQfAuT4gemym1ZBKtmNW5WMz\\\n",
       "Ga9F5DTen3uPX4H2SG5uLv76r/8aAPDXf/3Xw54FfvTRR/Hyyy/jhhtuEF78UnINCxosf5Vp7sVz\\\n",
       "0bCwweGKCDgbFNPY3pjVDYfJ54whLPqx0q8TAUgLfrgAsf6Y5e3scKIPiB6baTWkk82YVf3YTMVr\\\n",
       "EZE/cAHsobq6Onz2s5/FSy+9hI9//OP48pe/jDlz5uD+++/HpEmT0Nzc7HWJxskP5mP9XetRU1aD\\\n",
       "YE4w6WuCOUHUlNVgw9c28LfqLrETFJOMH84ZQ1j0IxqAlO14OJcTfUCFcCcVakgnmzGr+rGZitci\\\n",
       "In/gV6A9FovF8H/+z//Bv//7vyMSiWDChAlYsGABvvOd76C4uDir9+ZXLNKL9kXRtKsJbV1tfK7K\\\n",
       "Q9193Zi+Zrqt37YHEMCsolmYlD/JN+es/vl61G2ps7/dvHo+A+wBkX4dzAliZ81OzH5itpRPfhNk\\\n",
       "9wHRY4ssjUgbpyrUkInomK29vhart61W+thMJHotKisqw8T8ib65FlH2eH/uPYZgeSw/Px8rV67E\\\n",
       "ypUrvS7FdyYXTMbyG5cnvTHUPXREhfqt1iASFBNHHF+64kuWbupVaAsZGOKmF9EApGUbl0ld/DrR\\\n",
       "B0SP7Ya1N6BqVtVgPdmMSy9D4azOKaJjNlGrHQy8y57oteiLV3zRmHbX+Xqpc+3kPn4CbDD+hsk+\\\n",
       "3UNHVKjfbg1OhTup0BayMcRNH6L9emL+RPTEeqTV4UQfED22hAACCAQCGIgPjPiZ1XHpRSicyJwi\\\n",
       "Mmb3HNrDwDsP+DloUOfrpY618/7ce3wGmOh/6B46okL9IjU4Ee6kQls4gSFu+hDt1ydPn5RWg1N9\\\n",
       "INtQrTjiSRe/gPVx6XYonOicIjJmGXjnDb+2u87XS51rJ29xAUz0P3QPHVGhfpEanAh3UqEtnMAQ\\\n",
       "N32I9uvcUblZ79vpPuBGsFqmcel2KJzonCIyZhl45w2/trvO10udaydvcQFMhDPhFy0dLba2ae5o\\\n",
       "RrQv6kxBNqlQv2gNs4tmC+2vfEa51DpUOZeZ5AfzEa4MI7I0gvp59QiVhDBn2hyESkKon1ePyNII\\\n",
       "wpVhLn49ZvVTv3NdeeGVQttdNPYi1/qA6LHZlW5citaQat5IJ9s5xe6YdfPY6Cw/trvO10udayfv\\\n",
       "cQFMhOwCVVSgQv2iNQBI+clIKumCfVRoi2SifVHUP1+PiqcrcF3Tdah4ugIPv/Cw8MU4EeK28e6N\\\n",
       "2Fa9DRvv3ojlNy5n2Iciqsuqhfr11ZOvFtrf16/5umt9QOTYRKQbl6LtKxIIJmtOsTpm3Tw2p8me\\\n",
       "95xkUrtbper10gqdayfvcQFMBAj/3b+2rja5hQhSoX7RGnYe2IlFMxfZ2qZqZlXKm3wV2mKoWH8M\\\n",
       "NetqULymGHVb6tDa2Yrte7ejtbMVKzavQPGaYixetxjHTx13ZP/kjSkFU4T69ZsH3xTa3479O4S2\\\n",
       "EyFybKJSjUvR9hX55YDbc4qbx+YUHec9E9rdLtWul3boXDt5jwtgIugffqFC/dnUIDPcSYW2SGBA\\\n",
       "h7+ZHIBk59iyke643AqF8+Kc6Bx4p/O8p3O7i9BlvpFZgwq1k/e4ACaC/uEXKtSfTQ0yw51UaIsE\\\n",
       "BnT4m8kBSFaOTYZ0x+VWKJwX50TnwDud5z2d212ELvONzBpUqJ28N9rrAohUMPfiuUJ//0+V8AsV\\\n",
       "6s+2hkRQzMqbV6JpVxPautqE/pj95ZMuF6rjiguusL1NOqIBHStvXqn1V+poOLv9WoWxbNW5x7Z2\\\n",
       "11q889E7UveR6bhkzRvpeHVO3Dg22UyY93Rsd1E6zTfn0rl28l4gHo/HvS6CnME/tH1GtC+KJ9uf\\\n",
       "xNZ3t6a8iHX3dWP6mum2AhWCOUFElkYcvRBaqR1Qo34VagCAm9behBciL9jfbvpN2Fol9kxRMvXP\\\n",
       "16NuS5397ebVY/mNy6XVQXpRZRyJEKk9HZ2PK4AAyorKMDF/oieLJqvXDtk47+nFb/ONKrXz/tx7\\\n",
       "/Ao0GctOCIdq4Rd2A0RUqF+FGgDgtQ/FLiivfvCq1DoY0EEiVBlHImSHY+l8XHHEsfPATtdDn7wO\\\n",
       "n+K8pxe/zTeq1E7e4wKYjCQSwqFK+IVogIgK9atQw8nTJ13dLhUGdJAoFcaRKFnhWKYdlxuhTyqE\\\n",
       "T3He049f5hvVaidvcQFMRhIJ4VAl/EI0QESF+lWoIXdUrqvbpcKADhKlwjgSZaX2HOQgJ5D89kPn\\\n",
       "47LCydAnFcKnOO/px/T5RtXayVt8Bthgfn3GQMZzIdG+qCfhF7KeafGq/qG8qiH0VAib9myyv11J\\\n",
       "CBvv3iitDj4LRzKoMJZFpasdgBHHdTB2ELsO7EIc1m+lnHgOUZXnITnv6c3U+Ua12v16f64SLoAN\\\n",
       "puMAkxHcodsFeOgx7/5wNyKHI7bfgzcPZ70cfRnXPH6N7e1eufcVXDn5Sml1qHJDSuQVr4KY3KTK\\\n",
       "9UaVOjjv+aPfU3Z0vD83Db8CTUqQGdyhSwhHsmMWWfwCDBAZ6urJV6N0UqmtbUovKJW6+AUY0EH+\\\n",
       "5XUQk5tUud6oUoef5z0/9Xsi3XEBTJ6THdyhQwiHlWO2gwEiw714z4sozCu09NrCvEJsq97mSB0M\\\n",
       "6CC/USGIyU2qXG9UqQMAVt2yytb8u2r+Kuk1uM1v/Z5Id1wAk+dkB3foEMJh55itYIDIcBPPn4jO\\\n",
       "b3ei9IL0nwSXXlCKrvu6MP688Y7UwYAO8hsVgpjcpMr1RpU6AKD2uVr0nui19NreE72o3VQrvQa3\\\n",
       "+a3fE+mOC2DyVHdfN1o6Wmxt09zRjGhfNOXPRf9URfmMcqHt7BI55kyuvehaqe9ngonnT8Qbf/UG\\\n",
       "Xrn3FYRKQpiYPxEFuQWYmD8RoZIQXrn3FbzxV284tvhNyA/mI1wZRmRpBPXz6hEqCWHOtDkIlYRQ\\\n",
       "P68ekaURhCvDXPyS9pyYz1WnyvVGlTr82Af8eMxEuhvtdQHkb03tTba/Atw/0I+mXU0pgzuqy6rx\\\n",
       "0NaHbIdwJJJJnSZyzHSGSLjIlZOvlJruLGpywWQsv3G50mFlIu3LwBdKcGI+V9HQPt8T60EAAdsp\\\n",
       "0LKvN6pc90zqA1bnNpOO2VS8TtG5uAAmT2UT3JHqwpEI4Whsb7T8fm6GcMj86nPCjv07pL+nSmL9\\\n",
       "MSzZsAQtHS0jbjRaO1vxYNuDqJpZhYaFDfwkVYBI+/Kc0LmcmM9Vkq7P2+HE9UaV654JfcDu3GbC\\\n",
       "MZuK1ylKhQtg8pRTwR0NCxrw1sG3LF2Y3A4fciJ0xOQQrES4SLpzmQgXefPgm1h/13rkB/NdrFBv\\\n",
       "Iu0LgOeERlApiEk2K+PECievNypc93TvAyLzoe7HbCreO1A6fAaYPOVUcIfK4UNOhI6YHILFcBFn\\\n",
       "ibQvzwklo1IQk2zZBhe6cb1R4bqnex8Qmdt0P2ZT8TpF6XABTJ5yMrhD1fAh0WNOx60AL7cxXMRZ\\\n",
       "Iu27dtdanhNKSpUgJtlExkkAAZQVlbl+vfH6uqdzHxC93swumi20PxWO2VS8d6BM+BVo8pQbwR2q\\\n",
       "hQ+JHHM6dtrDiSAIJ8MlGC7iLJH2PRU/BRt5PwB4TvxClSAm2UTGSRxxfOmKL3nW57267uncB0Sv\\\n",
       "N8CZY/DimBnulBzvHSgTfgJMnkoEd9jhZmCVE0SOOR0r7RHrj6FmXQ2K1xSjbksdWjtbsX3vdrR2\\\n",
       "tmLF5hUoXlOMxesW4/ip45b368R7niubcBHKzIlAtlR4Tsxn6nzOecg6nfuA6HneeWCn68fsxvVX\\\n",
       "ZxyzlAkXwOS5hgUNlr825XZglVPsHHM6VtojEQTR2N6Y8jeiiSCIBT9cgFh/LON+nXjPZBgu4iw3\\\n",
       "24nnxB9MnM85D9mjax/I5jy7ecxuXX91xjFLmXABTJ5TIbjDbVaOOSeQg5wUQ9ROezgRBOFWuATD\\\n",
       "RZzlZjvxnPiDifM55yF7dO0D2ZxnN4+Z4U6ZccxSJnwGmJSQCO5YefNKNO1qQltXm/HPs1g5ZgBZ\\\n",
       "tYdoEMTKm1emfH8n3jOVuRfPRWtnq61tAIaLWCXaviJ4TvzDtPmc85B9OvaBbM+zG8fs5vVXZxyz\\\n",
       "lEkgHo/bjDMhXXzqU58CALz22mseV0JeqX++HnVb6uxvN68+ZRCEE++ZSndfN6avmW47XCSyNOKr\\\n",
       "i70okfYdHRiNQCDAcyKRbuF0fiMyThIp0BPzJyrX7uwbyelwvXHz+qsz1c8l78+9x69AExnMiSAI\\\n",
       "N8MldA5U0YFI+94z6x6eE0l0DafzG5FxEkccOw/sVKrd2TfS0+F6w3Ana3Q4l+QtLoCJDOZEEITb\\\n",
       "4RK6BqroQqR9V92yCoV5hZa2KcwrxKr5q7Ip0Ug6h9P5UbbBhV63O/uGNapfbxjuZJ3q55K8xQUw\\\n",
       "kcGcCIJwO1xC10AVXYi0b+1zteg90Wvp/XtP9KJ2U63Mko2gczidH1kZJ1Z41e7sG9aofr1huJN1\\\n",
       "qp9L8hafATYYnzEg3Z8BPle0L6pNoIqOrLSv6s9W6cCJNuR5cc/QcXIwdhC7DuxCHNZvpdxud/YN\\\n",
       "MSpeb2pba/HIS4/Y3u6BGx7Aw7c87EBFelDtXPL+3HtcABuMA4x4o+2uV6OvYulvlqK9ux0nT59E\\\n",
       "7qhczC6ajUcrHsWVk6/0ujwpVA1h0SnYx7RfTPmZDu2uQ41kTe2mWjzyoj4LYDfnZZ2uAbw/9x6/\\\n",
       "Ak1kMCeCIBguMVLPsR5c8dgVuOrxq7Bpzyb0xHrQd7IPPbEetHa24qrHr8IV//cKHDp+yOtSs6Za\\\n",
       "CIuOwT66h9PRWTq0uw41kjXtB9qFttuxf4fkStJzc17W8RpA3uMCmMhwTgRBMFzirJ5jPSj55xLs\\\n",
       "Prg77et2f7gbM/5pBnqO9bhUmTNUCmHRNdjHhHA6OkOHdtehRrJGh3Pp5rys6zWAvMcFMJHhnAiC\\\n",
       "YLjEWdevvd5WINT1zdc7XJGzVAph0TXYx4RwOjpDh3bXoUayRodz6ea8rOs1gLw32usCyFw6PY/h\\\n",
       "JTfaKT+Yj3BlGCtvXiktCMKJ99TNy9GXM37ye67dH+7Gq9FXtX0muKyoDK2drba3u/aia6XW0d3X\\\n",
       "jZaOFlvbNHc0Y+XNKz3vl3MvnivUhuUzyl19T7+zMjd72e5Wrx3sG2qQca1Xvb+5OS/rfA0g7zEE\\\n",
       "y2BePWQf649hyYYlaOloSfqVlGBOEFUzq9CwsMHoTwYzYTvpL/RUCJv2bLK/XUkIG+/e6EBFzlMl\\\n",
       "hVTnYB+G06nNztx86Pgh19vd7rWDfcNbMq/1XpxLO/Wvfmm1a/OyztcAhmB5j1+BJqn4PIY1bCcz\\\n",
       "tHeLBZLsPLBTciXuET1m2SEsOgf7MJxOXXbn5sK8QlfbXeTawb7hHdnXerfPpd36t3RtEdqPyLys\\\n",
       "8zWAvMcFMEnF5zGsYTuZ4eTpk65upwJVQlhUqUMUw+nUJDI3u9nuotcO9g1vOHGtV7m/vfL+K0L7\\\n",
       "EZmXdb8GkLe4ACZpRJ/HiPZFnSlIUWwnc+SOynV1OxWoEsKSmyPY9oLbycZwOvWIzs2HTxx2pd2z\\\n",
       "uXawb7jPqWu9W+dSpP4Pjn4gtC+R64Mq1yLSE0OwSJqm9iZbz6UAZ74607SryfPnMdykYzsx0Cy5\\\n",
       "sillQs8Azy6a7UA17lAlUEf0lwh5o/Ok1pENhtOpJdu52el2z7Y+9g13OXmtd+NcitQfh1iskMj1\\\n",
       "QZVrEemJIVgGc/sh+4qnK4QmI50DgUTo1E4M6krv5ejLuObxa2xv98q9r2ibAq1KoM7clrl4/t3n\\\n",
       "7W938Vy0LWqTVgeZQ/W5WfX6aDjdz5do/XaJXh9UuRaJYAiW9/gVaJKGz2NYo0s7Magrs6snX43S\\\n",
       "SaW2tim9oFTbxS+gTtiS6HPUJ06fkFoHmUP1uVn1+mg43c+XW3WIXh9UuRaRnrgAJmn4PIY1urQT\\\n",
       "g7qsefGeF1GYV2jptYV5hdhWvc3hipynQqCOLuOI9KF6n1K9PhpO9/PlRh3ZXh9UuBaRnrgAJmms\\\n",
       "TkLn8tvzGDq0E4O6rJt4/kR0frsTpRek/yS49IJSdN3XhfHnjXenMAepEKijwzgivajep1Svj4bT\\\n",
       "/XyJ1m+FrOuDCtci0hOfATaY288YqPo8hmoBTqq201A6/4F5L70afRXLNi7DzgM7cfL0SeSOysXs\\\n",
       "otl4tOJRZb72LHs8RPuingTq6DCOvKTavKcD1fuU6vXRcDqer6HzRk+sB+0H2oWDrZK5bMJlqJpV\\\n",
       "5cg85NW1SASfAfYeF8AG82KA1ayrQWN7o/XXl9UgXBl2pBaVA5xUaqdkdA/voJFUHg+iVB9HXjDx\\\n",
       "PLtJ9T6len00nC7nK9O8IQvvEc7gAth7/Ao0SaXK8xiqBzip0k6p6B7eQcOpPh5EqT6O3GbqeXaT\\\n",
       "6n1K9fpoOB3Ol5V5QxbeI5AquAAmqVR5HkP1ACdV2ikV3cM7aDjVx4Mo1ceR20w9z25SvU+pXh8N\\\n",
       "p8P5sjNvZIv3CKQKfgXaYF5/xYLPBlqj4nMrfAbYHLqNB1EqjiM3+eU8u0n1PqV6fTSciudLZN4I\\\n",
       "IICigiLs79tve3+8RzjD6/tz4gLYaF4PMK9CWLh4yx5vps3B8SBGtxApnmciGsrKHCY6b9TeUIvV\\\n",
       "L63mPYIgr+/PiV+BJgfE+mOoWVeD4jXFqNtSh9bOVmzfux2tna1YsXkFitcUY/G6xTh+6rgj+xf9\\\n",
       "Kk9bV5vcQjTGPzBvDo4He7yev0TxPBMRYG8OE503du7fyXsE0tporwsgsyTCFNJNqokQljcPvon1\\\n",
       "d61HfjBfag0McJKjYUED3jr4lqULJMNW1MXxYJ0K85conmcisjuHxU6JBeEdOXmE9wikNX4CTFKp\\\n",
       "EMLCACc5dAjvoMw4HqxTYf4SxfNMRHbnsH2H9wntZ2zuWN4jkNa4ACZpuvu60dLRYmub5o5mRPui\\\n",
       "Uuuw+icHzlU+o1xqHSbID+YjXBlGZGkE9fPqESoJYc60OQiVhFA/rx6RpRGEK8O8sCmM48EaVeYv\\\n",
       "UTzPRP4mMocd6DsgtK/EvMF7BNIVQ7AM5vZD9qqEsDgd4KRKOI4qdaiAbZEaA82sUWX+EsXzrAY/\\\n",
       "zkV+PGYVic5hOYEcDMQHLL+e80b2GILlPS6ADeb2AKt4ugKtna22twuVhLDx7o1Sa6lZV4PG9kbr\\\n",
       "ry+rQbgynPY1sf4YlmxYgpaOlqQ3mcGcIKpmVqFhYYOjv+1UpQ4VsC2scWI8mEal+UsUz7N3/DgX\\\n",
       "+fGYVSY6h00dOxX7jlj/KjTnjexxAew9fgWapFEphKVhQYPlrwRaCWdIBEs0tjem/IQlESyx4IcL\\\n",
       "EOsXC5bIRJU6VMC2sE72eDCRSvOXKJ5nb/hxLvLjMatOdC6aOm4q5w3yHS6ASRqVQlhkhzOoEo6j\\\n",
       "Sh0qYFtYx7CSzFSav0TxPHvDj3ORH49ZdaJzUWFeIecN8h1+Bdpgfn0G+FzRviiadjWhratN6Pkk\\\n",
       "VZ6tU6UOFbAtxGU7Hkyl6vwliufZHX6ci/x4zDqQMYdx3nAHvwLtPf4dYJKmuqwaD219yPZFsXpW\\\n",
       "tYNVAZMLJmP5jcuFb1Kb2ptsHRNw5qtfTbuapN4Yi9bx6cZPo/SCUm0uYlYCVbw8J7oHvmQ7Hkyl\\\n",
       "6vyVDbu/39a9b3tBleuDm/x4zDqQMYfJvj5wTiFV8RNgg3nxGyYTQ1hUCccRrWMolUNJ7ASq3Paj\\\n",
       "21w/Jwx8MZ8J85dIP2XfFqfK9cFNfjxmXagyh3FOSY+fAHuPzwCTVCaGsKgSjiPj/VQNJbEbqNJ7\\\n",
       "oldoP6JtyMAXf9B9/hLpp+zb2VHl+uAmPx6zLlSYwzinkA64ACapTAxhUSUcR+b7qRZKYjdQZd9h\\\n",
       "63+yYSjRNmTgiz/oPn+J9FP27eyocn1wkx+PWRcqzGGcU0gHXACTdPnBfIQrw4gsjaB+Xj1CJSHM\\\n",
       "mTYHoZIQ6ufVI7I0gnBlWLmbx1Ss/jb1XOUzypWoI5XmjmZE+6JS31NEd183WjpabG1zoO+A0L5E\\\n",
       "zolIfaq0Ldmn6/wl2k+bdzXb3oZ9+yxVrg9u8uMx68TLOYzXS9IFnwE2GJ8xkEOVxEuROjJRIcFW\\\n",
       "NLnSLtFzYmI6MENJzOPWOALU7dteUOX6cC4nx7mqx0zWpOsbALLqN6ZdL53C+3PvMQWaKIMpBVOw\\\n",
       "aOYiW8ESVTOrpF/oRerIpK2rzfOLjtWvSmVL9JyI1qdC2w6VLpSktbMVD7Y96OtQEt25NY4A9fq2\\\n",
       "l1S5PiS4Mc5VO2ayJlPfqNtch0AggIH4wIifWe03plwvyXz8CjSRBSoES9itwwoVQkncqKEwrxCr\\\n",
       "5q8S2taEwBeGkpjPzf6mUt9WgSrXBzfHuSrHTNZY6RtxxEcsfhOs9hsTrpfkD1wAE1mgQrCE1Trs\\\n",
       "UCGUxI0aek/0onZTrdC2JgS+MJTEfG72N5X6tgpUuT64Oc5VOWayxk7fSCdTvzHhekn+wAUwkUWq\\\n",
       "hOMkq6N4XLHQe6kQSiI73CsV0aAN3QNfGEriD26NI0Cdvq0Sr68PXoxzr4+ZrBHpG+mk6ze6Xy/J\\\n",
       "PxiCZTA+ZO8MFUOEdA4lcSLcKxWRoA2d2xbQL5RExfGlA9F+Go/HcSp+ytY2qvRtOku3cQ5wrFuV\\\n",
       "bTs5EZCXqt/ofr10C+/PvcdPgIksivXHULOuBsVrilG3pQ6tna3Yvnc7WjtbsWLzChSvKcbidYtx\\\n",
       "/NRx12tLhJLYoUooiUjtotq62mxvo3PbAtmFkrhJ5fGlA9F+WjWryvY2qvRtOkuXcQ5wrFslq52c\\\n",
       "CMhL1W90v16Sf3ABTGSBDiFCOoeSyA73SkU0aEPnttUhlESH8aUDkX6qc9+ms3QY5wDHulUy28mJ\\\n",
       "c5zuPTmnkA64ACayQIcQIZ1DSWSHe6UiGrShc9vqEEqiw/jSgUg/1blv01k6jHOAY90qme3kxDlO\\\n",
       "956cU0gHfAbYYHzGQA4dn2mJ9kXRtKsJbV1t2j1bNbT23R/uRuRwRNp7y3jeTbe2Vf3ZQB3Hlw5E\\\n",
       "+qlufZvOUn2cAxzrVsluJyeeAX7ghgfw8C0PZ3wd55TkeH/uPS6ADcYBJocONxbnMiVcRGZAlhs3\\\n",
       "Uiq2u0gbBhBAWVEZJuZPRPmMctz2idvwyzd/6chx6Ti+iFSjw+KSY90a2e3kRNCk1QUwJcf7c+/x\\\n",
       "K9BEGTBcxDsyA7KcDNpQud1F2jCOOHYe2DlY/1WPX+XYcek0vohUpUP4EMe6NbLbyYmgyR37d0h9\\\n",
       "PyK3cQFMlAHDRbwlIyDLyaANHdrdqZAxGcely/giUp3q4UMc69Y40U6yrwF+OydkHi6AiTJguIi3\\\n",
       "sgnIciNoQ4d2dzpkLJvj0mV8EalO9fAhjnVrnGgn2dcAv50TMg8XwFk6duwY/vM//xPV1dW4+uqr\\\n",
       "MW7cOIwZMwbXXHMNVq5cib6+vpTbPvXUU/jMZz6DgoICTJw4EbfeeiteeuklF6snK0R/a1o+o1xu\\\n",
       "IWl093WjpaPF1jbNHc2I9kWdKUiy/GA+wpVhRJZGUD+vHqGSEOZMm4NQSQj18+rxyr2vJP33yNII\\\n",
       "wpVhx270dGr3ZG1YVlSGAAJS3l/0uHQYX0S6yDRXOj0npsOxbo1T7ZSsbxSPK3ZkX0SqYwhWlp58\\\n",
       "8kl885vfBHDmofZPfvKTOHz4MF566SUcOXIEpaWl2Lp1Kz72sY8N227ZsmVYs2YN8vPzUVFRgePH\\\n",
       "j+O5555DPB7HT3/6U3zhC1/IujY+ZC8Hw0UoFd3bXXY6qMhx6TC+SG+qhNO5WYcqxzwUx7o1strJ\\\n",
       "Sh/wyzlRbTzw/tx7XABn6amnnsL27duxdOlSfPzjHx/89wMHDuB//a//hV27duGrX/0q/v3f/33w\\\n",
       "Z5s3b8Ytt9yCSZMmYdu2bYPbbdu2DeXl5cjPz8eePXswYcKErGrjAJOnZl0NGtsbrb++rAbhyrCD\\\n",
       "FQ1X8XQFWjtbbW8XKglh490bHajIH3Rvd9H6UxE9LtXHF+kp1h/Dkg1L0NLRkvQGP5gTRNXMKjQs\\\n",
       "bHD0E1E361DlmFPhWLcmm3ay2wdMPieqjgfen3uPX4HO0l/8xV/g//2//zds8QsARUVF+L//9/8C\\\n",
       "AH7+85/j5MmTgz9bvXo1AKCurm7Ydtdddx3uvfde9Pb2Yu3atS5UT1YxXISS0b3dZdch+n6qjy/S\\\n",
       "jyrhdG7Wocoxp8Oxbo1oO4n0AVPPiQ7jgbzDBbCDrrnmGgDAiRMncPDgQQAY/KozANx5550jtkn8\\\n",
       "27p161yqkqxguAglo3u7y65D9P1UH1+kH1XC6dysQ5VjTodj3RrRdhLpA6aeEx3GA3mHX4F20Kuv\\\n",
       "voqrrroKwWAQR44cQV5eHjo6OjBr1ixceOGFeP/990dsc/ToURQUFGDChAno6enJav/8ioUzon1R\\\n",
       "NO1qQltXmxLPkgD6P4uqK93bXYVngM+l4vgivajyXKObdahyzHZwrFtjtZ1k9AFTzonq44H3594b\\\n",
       "7XUBJmtoOPM1kQULFiAvLw8A8N577wEApk2blnSbMWPGYPz48fjoo49w5MgRjB2rxidFdNbkgslY\\\n",
       "fuNyJRYwCdVl1Xho60O2J/vqWdUOVmU+p9v91eirWPqbpWjvbsfJ0yeROyoXs4tm49GKR3Hl5CtF\\\n",
       "yx4kUn8qdvtTqlCS2z5xG9z6vaxqwSjJpKsRgPL1e6Gpvcl2n+4f6EfTriap87qsOqz0U1WO2Q4V\\\n",
       "r6VOEp1vrLaTjD6Qbl86zJcJOo4Hchc/AXbIr3/9a3z+85/H6NGj8fvf/37w69D//u//jrvuugvX\\\n",
       "X389fvvb3ybddtq0adi3bx/279+PoqKijPtK/CbpXO+88w4uvfRS/obJJ0wOslCZE+3ec6wH16+9\\\n",
       "HrsP7k75mtILSrGtehvGnzfe8r6T1mOz/pTvY7E/ZQolScVPQUFA5hpzAjlAHBjAwIifqVC/l1QJ\\\n",
       "p8u2Djv99LYf3abEMdNIbs03TvV7HebLc6kyB6TCT4C9x2eAHfDGG2/ga1/7GuLxOL7//e8PLn4B\\\n",
       "DH6yEQik/tub/J0EiTA1yEJ1stu951gPSv65JO3iFwB2f7gbM/5pBnqOZfeohJ36U7Han6yEkqTi\\\n",
       "p6AgKzUOxAeSLn4B7+v3mirhdNnUYbef9p7odbVGssbN+caJfq/DfJmMKnMAqYsLYMn27t2LBQsW\\\n",
       "4KOPPsKyZcuwZMmSYT9PfKX56NGjKd/j2LFjAICCggJL+3zttdeS/nfppZcKHgXpyNQgC9XJbvfr\\\n",
       "115v+Wa290Qvrm++3nbNQ1mpPxW7/clOKEkqfggKktFOgH+DXVQJp8umDrv9dN/hfcL7Iue4Od84\\\n",
       "0e91mC+TUWUOIHVxASzRhx9+iFAohPfeew9VVVX4x3/8xxGvmT59OoAzC+Vkjh49ikOHDmH8+PF8\\\n",
       "/pdsyw/mI1wZRmRpBPXz6hEqCWHOtDkIlYRQP68ekaURhCvDXPxKJqvdX46+nPGT33Pt/nA3Xo2+\\\n",
       "mk35Get/5d5Xsu5P3X3daOloyarOhOaOZkT7ora3E6lBdF+iZLYT4H79KiibUia03bUXXSu1DtFv\\\n",
       "Vsy+aLbtPnCg74DQvspnlAttR5m5Pd/I7vc6zJepiI49jgf/YAiWJEeOHMHChQuxe/dufPGLX0Rj\\\n",
       "Y2PSrzlffvnlyMvLwwcffIC9e/eOCMNqb28HAFx99dWu1E1m8lu4iBNEAj+ybff7f3O/0HbLNi6T\\\n",
       "8txSuvqvnHxlVv1JJJQklf6Bfny68dMovaDUVgiLm6FEomS2EyDeVnaoEI4ztIbX3lfjuTrRkDzE\\\n",
       "YbsPDMQHMCowCqfjp23tS0YQogrnX0WuBzGlfrJOiM5BUgwGpUz4CbAEJ06cwO23344dO3bgc5/7\\\n",
       "HH70ox9h1KhRSV+bn5+PefPmAQCeeeaZET9P/NvnP/955womopRi/THUrKtB8Zpi1G2pQ2tnK7bv\\\n",
       "3Y7Wzlas2LwCxWuKsXjdYhw/dVz6vtu724W223lgp+RK5JPxld6hIocjts+JaA1tXW0A3OkbstsJ\\\n",
       "EGsrK7wcK+lq2N+3X+i9duzfIbW2KQVTsGjmIlvbVM2sEh7PUwqm2N5XNgtUFc6/yrKdb+xqPyB2\\\n",
       "/UjV792uXybRsefnX9j4DRfAWTp9+jS++tWvYsuWLbjxxhvx85//HLm5uWm3WbZsGQDgu9/9Lt5+\\\n",
       "++3Bf9+2bRvC4TDGjRuH6mr+ForIbV4Hfpw8fdLV7dzkZLiI1XPiZiiRaN9wOoTFpDCxbELVknGi\\\n",
       "7UVC8kTrmDpuqmtBiCqcf9W5HcQkezvdg6QYDErpcAGcpcceewy/+MUvAAAXXHABvvWtb2HRokUj\\\n",
       "/vvwww8Ht5k/fz6WLFmCgwcPYubMmbjjjjtw66234qabbkJ/fz/Wrl2LiRMnenVIRL7ldeBH7qj0\\\n",
       "vzyTvZ2b3AgXyXRO3AwlEu0bboWwmBAmJissLMGJthcJyROtozCv0LUgRBXOv+rcDmKSvZ3uQVIM\\\n",
       "BqV0uADO0kcffTT4v3/xi1/gX//1X5P+19fXN2y7f/qnf0JzczOuuOIKtLa24qWXXsItt9yCrVu3\\\n",
       "4ktf+pLbh0HkeyoEfoiGmMwumi2tBqdk+6eWrEp3ToRDiYrshxKJ9g232gnQO0xMdlgY4FwAjt2Q\\\n",
       "vGwCfNwIQlTh/OvA7SAm2fszIUiKwaCUSiDOPzprLP6hbf0xXMRZQ9t394e7ETkcsf0e9fPqpQV+\\\n",
       "vBx9Gdc8fk3mF57jlXtfwZWTr5RSg1O6+7oxfc10qQFPqaQ6JyI1BHOCuP+6+7HqxVXS6kjHzXYC\\\n",
       "xGqsf74edVvqXNmX7BpSCeYEEVka8WxeHToXHYwdxK4DuxCH9dszN+tX4fzrQGQsBxDArKJZmJQ/\\\n",
       "afBaD8DSfYDo/Jaq38h+v3P5+f6G9+fe4yfARApiuIizkrWvyOIXkBv4cfXkq1E6qdTWNqUXlCq/\\\n",
       "+AXEQklEpTonbocSifQNN9sJEKtRhXAc2WFhXgXgJJuL2g+021r8Au7Wr8L514HIWI4jjvYD7YPX\\\n",
       "+qLVRbjo0Yss3QfIDn5yKkiK9zekAi6AiRTDcBFnqR6c8+I9L6Iwr9DSawvzCrGtepvU/TvJTihJ\\\n",
       "NtKdEzdDiUS3c6udALEaVQjHkfleXgXgyJqL3K5fhfOvi2zHchxxDMQHkv4s2X2A7OAn2e/H+xtS\\\n",
       "BRfARIphuIizVA/OmXj+RHR+uxOlF6T/JLj0glJ03deF8eeNl7p/J1kJJZEh3TlxM5RIdDsrNeYE\\\n",
       "cpAj4RIuUqMK4Tgy3svrAJxs5yKv6lfh/OvCjTlv6H2A7OAn2e/H+xtSBZ8BNhifMdCP08/c+J0T\\\n",
       "z1c+cMMDePiWh6W931CvRl/Fso3LsPPATpw8fRK5o3Ixu2g2Hq14VIuvPacT7YuiaVcT2rrahj3/\\\n",
       "ddsnbsOzbz2Ltq42x5/LTlXDuc+gefnMY7oaAQz+zM1n2FV4BlS0huJxxSi9oNTzZw1Fnw8tKyrD\\\n",
       "xPyJntavwvnX0dCx3BPrEfqqeyrJ7gOszm8i9Yu8H+9vzuL9ufe4ADYYB5h+eGPhLNnBOYCzC2C/\\\n",
       "U+WGSZU60nGzRhXaQ4UasqHzXK9721vlZEiTE9eic/uGaiFTsvq8asclgvfn3uNXoIkUwnARZ8kO\\\n",
       "zgGAHft3SH9POsOpEBZd60jHzRpVaA8VasiGznO97m2fiRshTU5cixJ9Q9WQqWz7vKrHRXriAphI\\\n",
       "IQwXcZYT7cS2d5bsEBbd60jHzRpVaA8VahCl+1yvc9un41ZIk1PXIpVDprLp8yofF+mJC2AihTBc\\\n",
       "xFlOtBPb3lmyQ1h0ryMdN2tUoT1UqEGU7nO9zm2fjlshTU5di1QOmcqmz6t8XKQnPgNsMD5joB+d\\\n",
       "nwvTgRvPXZFzZIe66F5HOm7WqEJ7qFCDHSbN9bq1fSpuPtvsxLWo9oZarH5ptbLPZoses+rHJYL3\\\n",
       "597jAthgHGD68Uu4iFdkp0Cz7c0IJCFyG+f61ETnlGznIjd/KeHEtej+6+7HqhdX2d72sgmXoWpW\\\n",
       "leNztmifFz0uFX9ZlMD7c+/xK9BECjE9XMRrIu2bjp/bnoEkROI4148kOqfImovcDCZz4lq088BO\\\n",
       "oW3/+NEfXZmzRfu86HGpEBhH6uICmEgxpoaLqMJO+6bj57ZnIAlR9jjXnyU6p8ici9wOJpN9Lco2\\\n",
       "WMuNOVukz+seGEdq4gKYSDGmhouowkr75iAHOYHk0yPb3r2gGCKTca4/S3ROkTkXuR1MJvtaJCtY\\\n",
       "y8k5W6TP6x4YR2riM8AG4zMG+jMlXERV6doXANs+CT67SCSfn+d60TllZ81OzH5itrS5yMtgMhnX\\\n",
       "IpnBWm7M2Vb7vEmBcQm8P/ceF8AG4wAjSo8BTtYMbafdH+5G5HDE9nuofDPiNa9Cf4icZqWPii5w\\\n",
       "CvMK0Xui1/Z2qeYi3X+5JztYS5U5W/fzkgzvz73HBbDBOMCIkov1x7BkwxK0dLQkvagGc4KomlmF\\\n",
       "hoUNRn/tMJNM7WRHqCSEjXdvlFSZGUT7Ifsvqc5OH73tR7ehtbPVtdrSzUU162rQ2N5o+b1qymoQ\\\n",
       "rgzLKi1rdutPR6U5W/fzci7en3tvtNcFEBG5KRGaku65sUQYyJsH38T6u9YjP5jvYoVqsNJOdjCQ\\\n",
       "ZDjRfsj+S6qz20djp9wNyUs3FzUsaMBbB9+yNO+pGExmp/5MVJqzdT8vpB6GYBGRrzDAyRo77WQF\\\n",
       "A0mGUyH0h8gJdvvovsP7HK5ouHRzke7BZFbqt0qlOVv380Lq4VegDcavWBANZ+KzRE6Q/SwZoM7z\\\n",
       "ZCpQJfSHSDaRvp0TyMFAfMDBqoazOhfpHkyWqH/trrV456N3bG+v6pyt+3kBeH+uAn4FmrTBwBd/\\\n",
       "EDnPVrdpam+yvajrH+hH064mJW8EnCLSTukEc4KDaaYk3g+X/WYZ+6+LeM2xT6RvD8QHXFsE25mL\\\n",
       "JhdMxvIblycdOzr0jUT998y6R+gXbirP2fzsjrLFT4ANZspvmBj44g8i59nuNhVPVwiFragUBuIG\\\n",
       "0XZKRfVAEreJtu/E/InoifXY3s5v/TdbvOaIE+3bU8dOxb4jzn8VOtu5SNe+YUKIlK5tn4wp9+c6\\\n",
       "4zPApLREmEZje2PK314mwjQW/HABYv3uhmmQHCLnWWQb0VAPlcJA3CDzeBlIMpJo+548fdLV/fkR\\\n",
       "rznZEe1rU8dNxdyL50quZrhs5yKd+0bDggbL7avinK1z25OauAAmpTHwxR9EzrPINqKhHiqFgbhB\\\n",
       "xvEykCQ10fbNHZXr6v78iNec7Ij2tcK8QmnhTeeSNRfp3Dd0D5HSue1JTVwAk7K6+7rR0tFia5vm\\\n",
       "jmZE+6LOFESOED3PzbuabW9z+aTLbW2TcO1F1wptpyvRT2KKxxUjVBJC/bx6RJZGEK4MK3cjpQLR\\\n",
       "9i2bUia0XfmMcqHt/IbXnOyJ9u3yGeXID+YjXBlGZGkE9fPqESoJoXhcsdD7yZ6LTOgbydp3zrQ5\\\n",
       "ys/ZJrQ9qYchWKQsBhb5g+h5tqt/oB9/6P6D7e38qLqsGg9tfch2aMrvv/l7ZQJgVCbSvgEE8P7R\\\n",
       "9xFAAHFYj+5QPcxGJU5fc3QITkrFau2ic8fQPjo0fEo0MV32XGTS/Ui6cC8VmdT2pA5+AkzKEv0b\\\n",
       "pG1dbXILIUfJ/Fuzmbz2oVjgxI79OyRXorYpBVOwaOYiW9tUzaxS/iZeFSLtG0ccL7//sq3FL8Dz\\\n",
       "YodT15xYfww162pQvKYYdVvq0NrZiu17t6O1sxUrNq9A8ZpiLF63GMdPHRfav5Ps1i577lBlLuL9\\\n",
       "iHfY9uQELoBJWQws8gc3zxdDhKzTPTRFdXbaVxTPiz1OXHN0Du8RrV323KHCXMT7Ee+w7ckJXACT\\\n",
       "shhY5A9uni+GCFmne2iK6qy0ryieFzFOXHN0Du8RrV323KHCXMT7Ee+w7ckJfAaYlDX34rlCf0+Q\\\n",
       "gS96ET3PIsqmlGHTnk22t/Nrn0qEpqy8eSWadjWhratNu2cXVZasfXtiPWg/0G7rq84BBDCraBYm\\\n",
       "5U/iecmC7GuOaHjPyptXen7+sq1d9tzh9VzE+xHvsO3JCYF4PG7vgSLShu5/aFs0/CKyNOL5zQNZ\\\n",
       "J3Ke7QYBAWf6xs6anZj9xGz2KcrIq8Ci+ufrUbelzv528+oZ+JIl2dccnc+lzrU7gfcj3jGx7XW/\\\n",
       "PzcBvwJNylIl/IKcJRoIZFfVzCpcNfkq9ilKy+vAIga+eEf2NUfnc6lz7U7g/Yh32PbkBC6ASWkq\\\n",
       "hF+Q81bdsgqFeYWOvf/QvsE+RamoEFjEwBdvyZwfdD6XOtfuFF47vMO2J9m4ACalqRB+Qc6rfa4W\\\n",
       "vSd6pb9vsr7BPkWpqBBYxMAXb8mcH3Q+lzrX7hReO7zDtifZ+AywwUx7xiDaF2UQj4FEnu9JJ4AA\\\n",
       "brr4JlRcWpGxb7BPUYIqz5nx2Ut1ZDs/6Hwuda7dDbx2eMeEtjft/lxHXAAbjAOMdCB6o5X2PTW7\\\n",
       "CRMJXPIqpElV2baHKjf8qizEKXs6n0tVazd13jP1uCg53p97jwtgg3GAkQ4qnq6Q/meQQiUhbLx7\\\n",
       "o9T3dEKsP4YlG5agpaMl6Y1mMCeIqplVaFjYMPiVLpFtTCarPUT7oRN9rWZdDRrbG62/vqwG4cqw\\\n",
       "1BpIDp3PpUq1mzrvmXpclB7vz73HZ4CJyFNOhKboEMQiErikQkiTSmS2h0qhPwx8MYfO59JOOGFh\\\n",
       "XiFWzV/lSB2mznumHheRDrgAJiJPORGaokMQi0jgkgohTSqR2R4qhf4w8MUcOp9LO+GEvSd6Ubup\\\n",
       "1pE6TJ33TD0uIh3wK9AG41csSAd+fAZY9Pm6eDyOU/FTtrZR4XlCJ8h+RlGVZ4DPZULgC52h07lU\\\n",
       "5RlgVeqQzdTjImt4f+690V4XQERiTAnNqC6rxkNbH5KaAv2bP/7mzHsr2hZN7U22j1ekffoH+tG0\\\n",
       "q0npXwaIEm3DVO0h0g+DOUFUz6q2VYNdkwsmY/mNy408h36j07kUHV+fbvw0Si8olXYtkj3OVWHq\\\n",
       "cRHpgl+BJtJMrD+GmnU1KF5TjLotdWjtbMX2vdvR2tmKFZtXoHhNMRavW4zjp457XaolUwqmYNHM\\\n",
       "RdLeL444nn/veaXbwurX3mRo62pzbV9uEm3DVO0h0g+rZlYp+QsWomyJjq/I4YjUa5Hsca4KU4+L\\\n",
       "SBdcABNpxNTQDDtBMXao2hZuhnTpEAgmwonQKp0Di4hkkjFvyJh/VQqnk8nU4yLSBRfARBoxNTTD\\\n",
       "SlBMTiAHOYJTlmpt4WZIlw6BYCKcCK3SObCISCaZ80Y2869K4XQymXpcRLrgAphIE9193WjpaLG1\\\n",
       "TXNHM6J9UWcKkiw/mI9wZRiRpRHUz6tHqCSEOdPmIFQSQv28euxfth/779+P+nn1uOnimxBAwNb7\\\n",
       "q9QWZVPKXNtX+Yxy1/blJtFvDGRqj0z9MLI0gnBlmItfMprsb+SIzr9OjXOvmXpcRLpgCrTB/JQy\\\n",
       "Z0ogVDqqptR6QdW2sNoPazfV4pEXH3GsjgRZqaEqji+mqJJuZI8jJ8elyPjKRGT+NXWcm3pcZI2f\\\n",
       "7s9VxQWwwfwwwGL9MSzZsAQtHS1JLyTBnCCqZlahYWGD9p/YVDxdgdbOVtvbhUpC2Hj3Rgcq8o5q\\\n",
       "bWG3H4rWb1dNWQ3ClWHh7VUfXzXratDY3mj99Vm2B5EI2ePIrXFpd3xlIjr/mjrOTT0uyswP9+eq\\\n",
       "41egSVumBkKlwtCMs1RqC5F+6MY5yTakSYfxxdAqUp3sceTmuJQdTig675k6zk09LiIdcAFM2jI1\\\n",
       "ECoVhmacpVJbiPRDJ8+JrJAmHcYXQ6tIdbLHkZvj0sr4skN03jN1nJt6XEQ64FegDWbyVyz8+PyM\\\n",
       "qs+9ekGVthDth/dfdz9WvbhKWh3F44pRekGpp8//eT2+on1RNO1qQltXmzLPKZO/yR5HXo7LoeNr\\\n",
       "94e7ETkcsf0eMuZfU8e5qcdFyZl8f66L0V4XQP6UbXhHU3uT7XCO/oF+NO1qUiIESUR1WTUe2vqQ\\\n",
       "7Zuf6lnVWe1XRaq0hWg/TNQjI2AmmBPE77/5e6k3SaqOr3QmF0zG8huX29p/uvEKQLngL1IzkC0V\\\n",
       "2ePIy3E5dHyJLsRlzL8i41wXIp9HqTIeVKmDyCp+AmwwFX/DJCu8Q/cQJFEMzThLhbbIph/OGD9D\\\n",
       "SsCMaselQ+BapvEaQACBQAAD8YERP/M6+MuvVA9kS0b2OFJpXKow/5pAtF+rMh5UqUM3Kt6f+w2f\\\n",
       "ASbXyAzv0D0ESRRDM85SoS2y6YcyAmYK8wqxar68r1InqDS+ZLMyXuOIJ138At4Hf/mRDoFsycge\\\n",
       "RyqNSxXmX92J9mtVxoMqdRCJ4AKYXCMzvEP3ECRRDM04S4W2yKYfygiY6T3Ri9pNtULbpqPS+JLN\\\n",
       "znhNx4RgPV3oEMiWjOxxpNK4VGH+1Z1ov1ZlPKhSB5EILoDJFd193WjpaLG1TXNHM6J90aQ/E/3k\\\n",
       "rHxGudB2qcg+Livyg/kIV4YRWRpB/bx6hEpCmDNtDkIlIdTPq0dkaQThyrAvbji8bots++G59d90\\\n",
       "8U0IIGDrvbLtT8mUFZUJbXftRddKrUM2kfGajhNtT8N5McfKIvs6pcp1L8Hr+Vdnov36legrSowH\\\n",
       "ncclEcAQLHKJ7PAO3UOQZIeS+J1XbSGrHybqj8fjeP7d523V4Ej4lKHJECLjNR2vg7/8QMdAtgTZ\\\n",
       "1yk3rnsiYUa8Ftkn2q+X/WaZEuPBy3GZqo/e9onb8Ms3f8kgLrKEnwCTK0S/ctjW1Zb036cUTMGi\\\n",
       "mYtsvVfVzCrpk6Ds4yK9yO6HqvSn9u52oe127N8htQ7ZZHz1+Vwcy85SZUyIkD0/OHndi/XHULOu\\\n",
       "BsVrilG3pQ6tna3Yvnc7WjtbsWLzChSvKcbidYtx/NRxW/un5ET7tejcLHs8eDEuM/XRqx6/in2X\\\n",
       "LOMCmFzhRHiHCiEcKoWSkDdk9kNV+pMqdcjmRH2qH7PudO+Lsq9TTlz3GGbkPtH+efL0SVf3J/v9\\\n",
       "RLez0kdTYd+lZLgAJlc4Ed6hQgiHSqEk5A2Z/VCV/qRKHbI5UZ/qx6w73fui7OuUE9c9hhm5T7R/\\\n",
       "5o7KdXV/st9PdDsZ4YXsuzQUF8DkCqfCO7wO4VAtlIS8IasfqtKfVKlDtmz/7FQyqh+z7kzoi7Kv\\\n",
       "UzLfj2FG3hDt12VTxAIKdb5GyAwvZN+lhEA8Hjc07oRU+kPb3X3dmL5muu3wjsjSiNLhBaYeF3lD\\\n",
       "lf6kSh2yiRxXOjocs+5M7YuqqH++HnVb6uxvN6+eoVdZEO3XO2t2YvYTsz0fD26OS9E+mvL9FOi7\\\n",
       "Kt2f+xU/ASZXqBJaJZupx0XeUKU/qVKHbCLHlY4Ox6w7U/uiKnQOGdOZaL++avJVSowHN8el7PBC\\\n",
       "9l0CuAAmF6kQWuUEU4+LvKFKf1KlDtnsHFc6hXmFWDV/lYSKKBNT+6IKdA8Z05lov1ZlPLhVhyoB\\\n",
       "XmQWLoDJNSqEVjnB1OMib6jSn1SpQzYrx2VF74le1G6qlVgZpWJqX1SB7iFjOhPt16qMB7fqUCXA\\\n",
       "i8zCZ4ANpvIzBtG+KJp2NaGtq82oP1hu6nGRN1TpT6rUIdvQ4zoYO4hdB3YhDuuXRD5r6j5T+6JX\\\n",
       "+AywGkT7tSrjwck6+AwwOYELYINxgNG5on1RPNn+JLa+u9Xxi6Wb+yL9qNY/uBDwJ9X6odsYMkaq\\\n",
       "kxleqErf5f2597gANhgHGCXE+mNYsmEJWjpakl5EgjlBVM2sQsPChqy/LuXmvkg/qvaPiqcr0NrZ\\\n",
       "anu7UEkIG+/e6EBF5CRV+6EXatbVoLG90frry2oQrgw7WBHRcHb7aMr3UaTv8v7ce3wGmMhwsf4Y\\\n",
       "Fv7bQjS2N6b8DWr/QD+eaH8CC364ALH+mBb7Iv2o3D8YBuQfKvdDL6gSqkSUiozwQvZdGooLYCLD\\\n",
       "LdmwxPKfEdj67lbct+E+LfZF+lG5fzAMyD9U7odeUCVUiSiVbMIL2XcpGX4F2mD8igW5+XwXnyWj\\\n",
       "dFTvH3wG2B9U74deUyVUiSiVVH30tk/chmffelaLvsv7c++N9roAInJOU3uT7eCI/oF+NO1qsn1T\\\n",
       "7+a+SD+q94/qsmo8tPUh2wuj6lnVDlZFsqnaD1UJ45pcMBnLb1zumzlZlXYn69L10SsnX+mbvkvZ\\\n",
       "4VegiQxm9Wt+52rralN6X6Qf1fvHlIIpWDRzka1tqmZW8SZZM6r1w1h/DDXralC8phh1W+rQ2tmK\\\n",
       "7Xu3o7WzFSs2r0DxmmIsXrcYx08dd2T/fsV2J/I3LoCJDOZmsA9DhCgdHfrHqltWoTCv0NJrC/MK\\\n",
       "sWr+KocrItlU6ocM4/IG252IuAAmMpibwT4MEaJ0dOgftc/VovdEr6XX9p7oRe2mWocrItlU6ocM\\\n",
       "4/IG252IuAAmMpjonw0on1Fue5uyKWVC+7r2omuFtiO9uNkXRXT3daOlo8XWNs0dzYj2RZ0piByh\\\n",
       "Sj9kf/MG252IAC6AiYxWXVYt9CcDhIJ9AvY3IbVE+6Kof74eFU9X4Lqm61DxdAUefuFhKTd/rvZF\\\n",
       "AdmEI5H3rPZdVfqhaH/7dOOnB4/t1eirjo1XU3GcExHAFGgioyWCfRrbGy1vIxrs036g3fY2ALBj\\\n",
       "/w6h7UieWH8MSzYsQUtHy4ibw9bOVjzY9iCqZlahYWGD8N9RdLMvisgmHImpo96x23dV6Yei/S1y\\\n",
       "OILI4chgWNO5ZI1XU3GcExHAT4CJjNewoMHy1/7mXjwXDQsbhPajUrgMWedmIIxbfVEE+69+RPuu\\\n",
       "Cv3QyX7DAKfUOM6JCOACmMh4+cF8rL9rPWrKalJ+9S+YE0RNWQ02fG2D8CcGKoXLkHVuBsK41RdF\\\n",
       "sP/qR7TvqtAP3eg3DHAaieOciAAugIl8IT+Yj3BlGJGlEdTPq0eoJIQ50+YgVBJC/bx6RJZGEK4M\\\n",
       "Z3Wjp0q4DFnnRSCMG31RBPuvXrLtu173Q9H+ZhcDnIbjOCciAAjE4/G410WQMz71qU8BAF577TWP\\\n",
       "K/FWtC+KJ9ufxNZ3t+LIySMYmzsW5TPKUT2r2rXnC/2gu68b09dMtxUwEswJIrI0kvV54DkWU/98\\\n",
       "Peq21Nnfbl69cc/Dedl/yT7d+65IfxOlyjGrgOOcVMD7c+/xE2AyVqw/hpp1NSheU4y6LXVo7WzF\\\n",
       "9r3bB8NDitcUY/G6xTh+6rjXpRohES5jR7bhMjzH2ckmEMY0XvRfEqd73xXpb6JUOWYVcJwTEcAF\\\n",
       "MBnKzWAfOsvNcBme4+wxEGY4FcKRyBoT+q6d/pYNlY5ZBRznRMQFMBnJzWAfOsvNcBme4+wxEGY4\\\n",
       "FcKRyBoT+q6V/iaDSsesAo5zIuIzwA7o6elBaWkpPvjgA1x++eXYvXt3ytc+9dRTeOyxx/D6668j\\\n",
       "NzcXc+bMQV1dHf7kT/4k6zr8+owBn/FRQ7QviqZdTWjrapP+XC7PsRy6P0fpJCf7L2XPtL47tL/t\\\n",
       "/nA3Iocj0t5b1WNWAcc5ecGv9+cq4QLYAYsWLcJTTz2FeDyedgG8bNkyrFmzBvn5+aioqMDx48fx\\\n",
       "3HPPIR6P46c//Sm+8IUvZFWHnwbY0BAk0ZsHJ28S3A5pMj0UyrSbX9msnn+//CJB9fGgen0qMrnv\\\n",
       "ygzI0uWYncYxRirx0/25qrgAluy5557D/PnzUVNTgyeeeCLlAnjz5s245ZZbMGnSJGzbtg0f//jH\\\n",
       "AQDbtm1DeXk58vPzsWfPHkyYMEG4Fj8MsFh/DEs2LEFLR0vWNwuhkhA23r1RUmVnZKovmBNE1cwq\\\n",
       "NCxskPI1K7f355WKpyvQ2tlqezsnzrFKRM5/zboaNLY3Wt5HTVkNwpVhaTU7SfXxoHp9qjO579o9\\\n",
       "tpTvo9ExO4FjjFTkh/tz1fEZYIlisRjuvfdefPKTn8Tf/u3fpn3t6tWrAQB1dXWDi18AuO6663Dv\\\n",
       "vfeit7cXa9eudbRe3VkJQbJDdlCI2yFNfgqFMiEARzbR829qIIzq40H1+nRgat8F5ARk6XbMsnGM\\\n",
       "EVEqXABL9NBDD+Gdd97BD37wAwSDqQMtEl91BoA777xzxM8T/7Zu3TpnCjWEnRAkK2QHhbgd0uSn\\\n",
       "UCgTAnBkEz3/pgbCqD4eVK9PB6b2XSC7gCxdj1k2jjEiSoVfgZbk5ZdfxuzZs/EXf/EXaGpqQldX\\\n",
       "Fy655JKkX4Hu6OjArFmzcOGFF+L9998f8V5Hjx5FQUEBJkyYgJ6eHuGaTP6KhcxnpBJkPh/q9vNp\\\n",
       "Jj8PlwyfAR5O1vk3JRBG9fGgen06MqXvJpPq2G77xG149q1njTzmbHGMkcpMvj/XxWivCzDBwMAA\\\n",
       "vvnNb2L8+PH43ve+l/H17733HgBg2rRpSX8+ZswYjB8/Hh999BGOHDmCsWPN/dRKVFN7k9TFbwAB\\\n",
       "bHznzLOhMm4eROrrH+hH064moQWa2/vzWnVZNR7a+pDtm5vqWdUOViWf1eAWWed/csFkLL9xuZZ9\\\n",
       "YijVx4Pq9enK1N/npxuXV06+kn0iCY4xNTB8jFTFr0BL8C//8i/47//+b3z/+9/HpEmTMr6+r68P\\\n",
       "AHD++eenfM2YMWOGvTadT33qU0n/e+eddywegX5kfvUZAOKIY+u7W7Fi8woUrynG4nWLcfzUceH3\\\n",
       "E62vratNi/15bUrBFCyaucjWNlUzq7S54Mb6Y6hZV4PiNcWo21KH1s5WbN+7Ha2drUn7qN/Ofyaq\\\n",
       "t4fq9enE7lghf+AY8xbHJamOC+AsRSIR1NXVYe7cuVi0aJGlbRK/pQ4EAhlfQ8k5GWYkIxTD7ZAm\\\n",
       "P4ZCmRqAIxLc4sfzn47q7aF6fbpgyBGlwjHmHY5L0gEXwFn61re+hZMnT+IHP/iB5W0SX2k+evRo\\\n",
       "ytccO3YMAFBQUJDx/V577bWk/1166aWWa9KNG2FG2YRiuB3S5MdQKFMDcESCW/x4/tNRvT1Ur08X\\\n",
       "DDmiVDjGvMNxSTrgAjhL//Vf/4Xzzz8ff/mXf4ny8vLB/77yla8AOPO8b+LfEl9nnj59OgBg7969\\\n",
       "Sd/z6NGjOHToEMaPH8/nf1PI9s9DWNXc0YxoX9T2dqL1lc8oF9rO7f2pIj+Yj3BlGJGlEdTPq0eo\\\n",
       "JIQ50+YgVBJC/bx6RJZGEK4Ma7P47e7rRktHi61tmjuaMbtottD+dD//qag+HlSvTweiY0VkPif9\\\n",
       "cIx5g+OSdMEU6Cyl+xrzuT766COMHz8esVgMEyZMwIkTJxCJREaEYb3wwgu46aabcNNNN2HrVvFn\\\n",
       "XU1OmRNJeMwJ5GAgPmB7XyLJwUyBJhGi6da1N9Ri9Uuref7/h+rjQaS+AAKYVTQLk/IneRIio1qY\\\n",
       "DZPgzSWjr6k+B5iK49Iak+/PdcFPgLMUj8eT/rdnzx4AwOWXXz74b+PHjwcA5OfnY968eQCAZ555\\\n",
       "ZsR7Jv7t85//vDsHoSGREKSigiKhfYmEYrgd0mR6KJRfiAa37Ny/k+d/CNXHg0h9ccTRfqDd9RAZ\\\n",
       "VcNsGHJkHpl9TfU5wFQcl6QLLoA9smzZMgDAd7/7Xbz99tuD/75t2zaEw2GMGzcO1dV6/ckWt9kN\\\n",
       "QZo6bqrQfkRDMdwOaTI1FMpPsglu4fkfTvX2sFNfMm6EyKgcZsOQI7M40ddUnwNMxHFJuuAC2CPz\\\n",
       "58/HkiVLcPDgQcycORN33HEHbr31Vtx0003o7+/H2rVrMXHiRK/LVJrdEKTCvEKh/YiGYrgd0mRq\\\n",
       "KJSfZBPcwvM/nOrtYaU+K5wMkVE5zIYhR2Zxoq+pPgeYiOOSdMFngB3S1dWFSy65BJdffjl2796d\\\n",
       "8nUtLS147LHH8MYbbyAYDGLOnDmoq6vDDTfckHUNfnrGINoXRdOuJrR1taV8ZsjLZ1Os1CeT2/sj\\\n",
       "OWT1UZ7/4VRvj6H19cR60H6gHXFYvzQ78eyi6s9Q8llDc7jR11SfA0xRu6kWj7z4iO3tHrjhATx8\\\n",
       "y8MOVKQmP92fq4oLYINxgJ2RCNTY+M5GvPDeC57fWBKlovqig5ynysJOlTpSkTVWVAv3Mo2V9lW9\\\n",
       "r+nKi75d21qLR17iAjgT3p97b7TXBRA5JdYfw5INS9DS0WLrJmkohmKQmxLBLY3tjZa3YR81SzYh\\\n",
       "MjIXA6rUkUq2YyXd9aG1sxUPtj2IqplVaFjYwK/GCrDTvqr3Nd142bfbu9uFttuxf4fUOogy4QKY\\\n",
       "jJQI1BC9sAIMxSBvNCxowFsH37LUd9lHzaNKiIwqdaQjOlasXB8SgUtvHnwT6+9aj/xgvrS6TWe3\\\n",
       "fWOnxMLTGJw0ktd9W4d5gwhgCBYZyk6gxrkYikFeYnCLv6kSIqNKHemIjhWVw71MYLd99x3eJ7Qf\\\n",
       "BieN5HXf1mHeIAL4CTAZqLuvGy0dLba2CSCAmy6+CRWXVvDZL/JcfjAf4cowVt68ksEtPjP34rlo\\\n",
       "7Wy1vV35jHIj68jE7lgRuT40dzRj5c0rOeYsEGnfA30HhPbldl9TnQp9W5d5g4ghWAbz60P2DNQg\\\n",
       "Il05HYRmNRhHpI4AAigrKsPE/InK/qKG1wdnw5FE23dUYBROx09bfj3D/0ZSoW97GeSoU6CdX+/P\\\n",
       "VcKvQJNxsgnUICLyUiLcyQ4rQWix/hhq1tWgeE0x6rbUobWzFdv3bkdrZytWbF6B4jXFWLxuMY6f\\\n",
       "Oi5cRxxx7DywM+V7qsDP1we7fUCEaPtOKZhi6/UM/xtJhb7t1PyVjhv9mszDBTAZhyEMRKSzhgUN\\\n",
       "mHvxXEuvtRKElgjGaWxvTPnJTCIYZ8EPFyDWH7Ndh9X39Jpfrw+ifcAu0XaaOm6q1D7vR6r0bdnz\\\n",
       "Vzpu9WsyDxfAZByGMBCRzmQHoYkG41ipw+57es2v1we3wpFE26kwr5Dhf1lSpW+7GeTodegX6YsL\\\n",
       "YDKO6CcWDGEgIlUkwp0iSyOon1ePUEkIc6bNQagkhPp59YgsjSBcGc548ygajBPti6aso6yoDAEE\\\n",
       "hN/TS368PmTbB+zIpn1l9Xm/Uqlvu3Eu3ezXZB6GYBnMrw/ZexnCQESkEieCcVQI2xHll5Ceofva\\\n",
       "/eFuRA5HbL+H1fM1dF8HYwex68AuxGH91tLL6++r0Vex9DdL0d7djpOnTyJ3VC5mF83GoxWP4srJ\\\n",
       "V7peTzb8du+j8zzk1/tzlfATYDKOFyEMREQqciIYR4WwHVGmh/Qk25fI4hfIfL6S7av9QLutxS/g\\\n",
       "zfW351gPrnjsClz1+FXYtGcTemI96DvZh55YD1o7W3HV41fhiv97BQ4dP+RqXdnw272PzvMQeY8L\\\n",
       "YDKSmyEMRESqciIYR5WwHVGmhvRY2Zcd6c6XrH15cf3tOdaDkn8uwe6Du9O+bveHuzHjn2ag51iP\\\n",
       "S5Vlz0/3PrrPQ+QtLoDJSG6GMBARqcqJYBxVwnZEmRrSY2dfVqQ7X9nuy8vr7/Vrr0fviV5Lr+09\\\n",
       "0Yvrm693uCJ5/HTvo/s8RN4a7XUBRE5JhDCsvHklmnY1oa2rTfk/jk5EJNPci+eitbPV9nbpgnGc\\\n",
       "eE+3uXF9EA3pWXnzStv7FtlXJqnOl8i+AgigrKgME/Mnenr9fTn6csZPfs+1+8PdeDX6qjbPBPvl\\\n",
       "3qdsSpnQPHTtRdc6UA3phgtg8oSbYSCTCyZj+Y3LPQ89ICJyW3VZNR7a+pDtYJzqWdWuvqdXnLw+\\\n",
       "NLU32f56cP9AP5p2NdmuR2Rf6aQ7XyL7iiOOL17xRUevw1buK+7/zf1C771s4zJsvHujzHIdp/q9\\\n",
       "T9b3gfaC6ImG4QKYXBXrj2HJhiVo6WgZcQFt7WzFg20PompmFRoWNmj91RwiIhUkgnEa2xstb5Mp\\\n",
       "GMeJ9zRRNiE9dhctMr/6DKQ/X24elxV27ivau9uF9rHzwE4ZpRLk3Qe2HxA7lzv27xDajszCBTC5\\\n",
       "JhGake7imQgDefPgm1h/13rkB/NdrJCIyDwNCxrw1sG3LC1crAbjOPGepnEzpEdmsE+m86VS+JDd\\\n",
       "+4oTp04I7efk6ZOiJdIQMu8DVeqHpB+GYJFr3AwDISKiM5wIxvFT2I4oN0N6ZAT7WD1fKoUP2b2v\\\n",
       "ODVwSmg/uaNyhbaj4WTeB6rUD0k//ASYXOFmGAgREQ3nRDCOX8J2RLkZFia6r+JxxSi9oNTW+VIl\\\n",
       "BE3kvkL0k9zZRbOFtqOzZN8HqtIPSU9cAJMr3AwDISKi1OLxeNJ/Fw2lUT1sxytuhoWJ7uv33/y9\\\n",
       "7V9SqBKCJhrGJeLRikeFtvMLK3OH7PtAVfoh6YkLYHKFaqEZRER+kil45n9v+d9AHBjAwIifMZxQ\\\n",
       "jJthYabuKx3R+4rzg+fjWP8xy68vvaBUmz+B5DY7gVay7wNV6YekJz4DTK5gWAERkTcSwTON7Y0p\\\n",
       "Py0ZiA+MWPwmJEJpFvxwAWL9MSdLNU7DggbMvXiupddmGxZm6r5SEb0/+OSFn0RhXqGl1xbmFWJb\\\n",
       "9Tah/ZjOyrwydO7oPdErtJ9051mFfkh64gKYXMGwAiIib9gJnkmH4YT2uRkWZuq+UhG9P5hw3gR0\\\n",
       "frsTpReUpn1d6QWl6LqvC+PPGy+0H9PZDbTad3if0H7SnWcV+iHpKRBP9TAQae9Tn/oUAOC1117z\\\n",
       "uBKg/vl61G2ps7/dvHp+BZqISFB3Xzemr5lu+9m7VII5QUSWRvg1QgHRvqhrYWGm7msoGfcVr0Zf\\\n",
       "xbKNy7DzwE6cPH0SuaNyMbtoNh6teJRfe05DZF7JCeRgIJ78WybpWL0P9KofilDp/tyvuAA2mEoD\\\n",
       "TGSy5I0WEVF2RBcJad/ToF9MigZ/qb4vUTrUmMD7Cu+Izit2F8Gmni+V7s/9iiFY5AqGFRARuU/G\\\n",
       "V5/PZUI4oZ3wnmy/Nunmvkyu8Vy8r/CO6LxSVFCEfUesfxWa54ucwmeAyTUMKyAicpcTQYK6hxPa\\\n",
       "De/JJvjLzX2J0qHGVHhf4Q3ROWDquKk8X6QELoDJNQwrICJylxNBgrqHE9oN78km+MvNfYnSocZU\\\n",
       "eF/hDdE5oDCvkOeLlMBngA2m8jMGOoUVEBHpis8AD+fmc6M6PKOqQ41W8b7CPTICyPx8vlS+P/cL\\\n",
       "LoAN5qcB9mr0VSz9zVK0d7czyZEcpVNIDBFToIdz8y8S6PDXD3So0SumzvUyjsukX5x4wU/356ri\\\n",
       "AthgfhhgPcd6cP3a67H74O6Urym9oBTbqrfxb/lRVtKFxABnLu6qhcQQAUDNuhpbQUFp36usBuHK\\\n",
       "sJT38kLF0xVo7Wy1vV2oJISNd29Udl+idKjRbabO9bKPy+68ovvcIZMf7s9Vx2eASVs9x3pQ8s8l\\\n",
       "aRe/ALD7w92Y8U8z0HOsx6XKyDQ6h8QQ2QkKSseEUBrR8B6R7dzclygdanSTqXO9E8fFADLSGRfA\\\n",
       "pK3r116P3hO9ll7be6IX1zdf73BFZCqdQ2KIrAQF5QRykJPilsCkUBrR8B6R7dzclygdanSTqXO9\\\n",
       "E8fFADLSGRfApKWXoy9n/OT3XLs/3I1Xo686VBGZqruvGy0dLba2ae5oRrQv6kxBRALyg/kIV4YR\\\n",
       "WRpB/bx6hEpCmDNtDkIlIdTPq8f+Zfux//79SX8WWRpBuDJsxA2s6Cfh5TPKld6XKB1qdIupc72T\\\n",
       "x5VpXjFp7iCz8Blgg6n8jEG2IQyhp0LYtGeT7f0W5hXiM1M/Y0SQBbmDITFE5vBLCrTVa6zTNeoU\\\n",
       "JGXqXK/jccnuN6r1Q5Xvz/2CC2CDqTjAZIUwTPreJPTEsnumV9cgC3IXQ2KIzOJmeI/bQUEi11gn\\\n",
       "atQxSMrUuV6n45Ldb1Tthyren/sNvwJNrpEZwnDy9Mms69ExyILcx5AYIrO4Gd7j5r5Er7Gya9Q1\\\n",
       "SMrUuV6X45Ldb3Tth+QOLoDJNTJDGHJH5UqqSq8gC3IfQ2KIzOJmeI+b+xK9xsquUdcgKVPnel2O\\\n",
       "S3a/0bUfkjv4FWiDqfQVC9nPGYk+AyyyL/I3HZ+fIiJron1RNO1qQltXm+PPBjq5L1nX2Gxr9PK5\\\n",
       "52yZOtfrcFyy+43q/VCl+3O/4gLYYF4PsKGhA7s/3I3I4Yjt9xg6AQ99v+6+brzy/itS61X9IiaD\\\n",
       "KkEQqtRhhcwbS12OWRY/HrMItpOadDovqixyVKlDhA6hZSLvufGdjXjhvRcQh/Xbfbd/KSG736je\\\n",
       "D72+PycugI3m1QDLFDpgR6gkhF9+5ZfS3i/TvlQOssiGKkEQqtRhVzYhMboeczb8eMwi2E5q0vG8\\\n",
       "qBJ0pEodonQILcv2Pa3I9rjskt1vVO+HXAB7b7TXBZBZEqEDVp+7yKT3RK/U90tH9SALUVbOSSII\\\n",
       "4s2Db2L9XeuRH8w3tg4RDQsa8NbBtyz1w6EhMTofsyg/HrMItpOadD0vqgQdqVKHKNG5XoQTfU3G\\\n",
       "PVi2xyVCdr/RvR+S8xiCRVLZCR2wYt/hfa4sfgH1gyxEqRIEoUodIkRDYnQ+ZlF+PGYRbCc16Xpe\\\n",
       "VAk6UqUOUTqElsl6z3PJOi4RsvuN7v2QnMcFMEnT3deNlo4Wqe95oO+A7W1SXbQyKZ9RLrSdykTO\\\n",
       "SXNHM6J9USPryEZ+MB/hyjAiSyOon1ePUEkIc6bNQagkhPp59YgsjSBcGR68cTDhmO3y4zGLYDup\\\n",
       "SefzYvXPGJ1L9nVPlTqyYXeuF+FEXxN5zwACmHvxXGnHJUp2vymbUib0ftdedK3QdqQfLoBJmqb2\\\n",
       "JqnP6OYEcjAQH7C93f3X3W97ERzMCaJ6VrXtfalO5Jz0D/SjaVeTkXXIMLlgMpbfuBwb796IbdXb\\\n",
       "sPHujVh+4/IRYSEmHbNVTh9ztC+K+ufrUfF0Ba5rug4VT1fg4RceVmIBYocf+4YOdD4v1WXVSlz3\\\n",
       "VKlDBqtzvQgn+prIe8YRR8WlFdKOS5T0fhOQUBQZjQtgkkb2V5WLCoqEttt5YCcWzVxka5uqmVXK\\\n",
       "pXrKIHpO2rrajKzDTTxm6zIdc6w/hpp1NSheU4y6LXVo7WzF9r3b0drZihWbV6B4TTEWr1uM46eO\\\n",
       "C+3fbX7sGzrQ+bxMKZiixHVPlTpU50RfY/89q/1Au1AdO/bvENqO9MMFMEkjMzxg7sVzMXXcVOE6\\\n",
       "GhY0WP5KjReBD25RJQhClTrcxGOWs10i1KWxvTHlpxuJoJgFP1yAWH9MqAY3+bFv6ED386LKdU+V\\\n",
       "OlTmRF/Tvf+uumUVCvMKLb22MK8Qq+avSvlz3duCnMcFMEkjIzxgaAiD1YkwWR1uBlmoTJUgCFXq\\\n",
       "cBOPWc52uoYSpePHvqED3c+LKtc9VepQmRN9Tff+W/tcLXpP9Fp6be+JXtRuqk35c93bgpzHBTBJ\\\n",
       "IxpiUDyuOGm4RLahCG4EWahOlUASVepwE4/ZulTHrHMoUTp+7Bs6MOG8qHLdU6UOVTnR13Tuv7Ln\\\n",
       "ep3bgtwRiMfjca+LIGe4/Ye2u/u6MX3NdFshDMGcICJLI4PPcUT7oniy/UlsfXcrDsYOYteBXYjD\\\n",
       "ehc99/38TsY5yWToOTty8gjG5o5F+YxyVM+qHnwPN+pQDY/ZmnTHXP98Peq21Nmuo35ePZbfuNz2\\\n",
       "dm5RZVzScH4cs+QNJ/qazv1X9lyvelu4fX9OI/ETYJImmxCDZCE37QfabS1+h74fneFkIImdYCI/\\\n",
       "BqPwmK1Jd8w6h7qko8q4pOH8OGbJG070NZ37r+y5Xue2IHdwAUxSiYRfWAm5sfN+NJwTgSQiwUR+\\\n",
       "DEbhMaeX6ZhNDjJRZVzScH4cs+QNJ/qarv3Xible17Ygd3ABTFKJhF/YCbmx8n40nBOBJCLBRH4M\\\n",
       "RuExZ3fMJgeZqDIuaTg/jlnyhhN9Tdf+68Rcr2tbkDv4DLDBvH7GINoXRdOuJrR1tUl9NjSAAMqK\\\n",
       "yjAxfyKfabPJyjnJRNaz3tnWoRses/1jNvUZ4HOpMi5pOD+OWfKGE31Np/7r9FyvWlt4fX9OXAAb\\\n",
       "TYcB5pcbXB1YDc3hOVODH0KOvFzU6da+HJfq061PUWpunks/9Bu//QJPh/tz03EBbDAdBljF0xVo\\\n",
       "7Wy1vV2oJISNd290oCL/ifXHsGTDErR0tCS9+ARzgqiaWYWGhQ04b/R5PGces3u+dFezrgaN7Y3W\\\n",
       "X19Wg3BlWHh/urYvx6W6dO1TNJKb59Jv/cbtud5LOtyfm47PAJOnTA650YFIaA7PmXf8GHLkZpCJ\\\n",
       "zu3LcakmnfsUDefmufRjv2FoFbmJC2DylMkhNzoQCc3hOfOOH0OO3Awy0bl9OS7VpHOfouHcPJd+\\\n",
       "7DcMrSI3cQFMnrL6275zlc8ol1uID3X3daOlo8XWNs0dzZhdNFtofzxn2RE9X9G+qDMFuSg/mI9w\\\n",
       "ZRiRpRHUz6tHqCSEOdPmIFQSQv28ekSWRhCuDGd1Q6R7+3IuVY/ufYrOcvNc+rnfuDHXEwHAaK8L\\\n",
       "IHNZCW6oLqvGQ1sfsp0C/fM3fo62rjYjgiBejb6Kpb9Zivbudpw8fRK5o3Ixu2g2Hq14FFdOvtKx\\\n",
       "/Ta1N9n+u8uJ1wdzgrbDKqpnVdvaFw0fQ7s/3C10vpp2NRkTcjS5YDKW37jckeMRHQ+qtK/IXKrq\\\n",
       "uDQl9Ef3PuUHVvuam+eS/Ub+XG/KnELyMATLYF49ZG83uMFu8EGm99NFz7EeXL/2euw+uDvla0ov\\\n",
       "KMW26m0Yf9546fvPJjRnxvgZvgmr8EKmMWQHQ46sMSFESvcQGdNCf0zoU6ZSOfyR/UYeVecUhmB5\\\n",
       "j1+BJqlEghvsBB9YeT8d9BzrQck/l6Rd/ALA7g93Y8Y/zUDPsR7pNWQTmsOwCudYGUN2MOTIGhNC\\\n",
       "pHQelyaG/pjQp0ykevgj+40cJs4pJA8XwCSVSHCDleADO++ng+vXXo/eE72WXtt7ohfXN18vvYZs\\\n",
       "QnMYVuEcO2PICoYcWWNCiJTO49LE0B8T+pSJVA9/ZL+Rw8Q5heThApikySa4IVnwQVlRGQIICL2f\\\n",
       "yl6Ovpzxk99z7f5wN16Nviq1jmxDcxhWIZ/IGMqEIUfWmBIipeO4NDX0x5Q+ZRIdwh/Zb7Jn6pxC\\\n",
       "8vAZYIO5/YxB/fP1qNtSZ3+7efVJgw5kv58s6cIUAGQMWgg9FcKmPZts71f28z3dfd2Yvma67dCc\\\n",
       "yNKIpdAIhk7YJ9rnU7FzvvzO6fFAw50b8BY5HLH9Hl7O9VbOOfuUekTn2NobarH6pdWunEsv+40p\\\n",
       "121V7x8T+Ayw95gCTdKIfm2zrast6YQj+/2ylS5MobWzFXWb6xAIBDAQHxjxswfbHhwMWmjvbhfa\\\n",
       "/84DO4VrT2ZKwRQsmrnIVmhO1cyqjBfBTO00tC1U+hRKBTK/+gxYO190hlPjgYaTGfDm1VxvdQ5j\\\n",
       "n1KP6By7c/9O186lF/3GtOu2avePpB5+BZqkkR3coFIQhJUwhTjiIxa/CUODFk6cOiFUw8nTJ4W2\\\n",
       "S0d2aA5DJ7Ijs++qFnKkA51DpHSgQ8Cb7DmMfUotuoQ/urkvE6/bKt0/kpq4ACZpZAc3qBQEISuY\\\n",
       "aOu7W3Fq4JTQtrmjcrPe/7lkh+YwdCI7MvquqiFHOtA5REoHOgS8yZ7D2KfUokv4o5v7MvG6rdL9\\\n",
       "I6mJX4EmaeZePFfob9elCm6Q/X6iZAcTiX6SKxrCkUkiNGflzSvRtKsJbV1tws+7iYROrLx5Jb/y\\\n",
       "9z9E+3zxuGKUXlCq5bNaqpE1Hmg4HQLenJrD2KfUke19hZvn0o19mXrdVuX+kdTFECyDuf2Qvezg\\\n",
       "BlUCRGQHE4l65d5XcOXkKz3Zt5VgDNVDJ3SgSp8nc8JgVKFqwJsOYVypsI9al2irje9sxAvvvYA4\\\n",
       "rN/6BhDArKJZmJQ/ybj2NfW6rfq1lCFY3uMnwCSN7OAGVQJEZAcTAcD5wfNxrP+Y5deXXlDqyeLX\\\n",
       "TjAGQyeyp0qf9zPTwmBUoVrAmw5hXKmwj1on4zzHEUf7gTPhlaa1r6nXbV5LKRM+A0xSyQ5uUCFA\\\n",
       "xIlQhE9e+EkU5hVaem1hXiG2VW+TXkMmdoMxek/0Cu2HoRPDqdDn/crEMBhVqBTwpkMYVyrso9bJ\\\n",
       "Ps8JJrWvyWFRvJZSOlwAk1SygxtUCBBxIhRhwnkT0PntTpReUJr2daUXlKLrvi6MP2+89BoysRuM\\\n",
       "se/wPqH9MHRiOBX6vF+ZGAajCpUC3nQI40qFfdQ62ef5XCa0r8lhUbyWUjp8BthgXj9jEO2LSg1u\\\n",
       "kP1+VjnxDPDQ52dejb6KZRuXYeeBnTh5+iRyR+VidtFsPFrxqGfP/Io8P5MTyEn5Z6DSUf1ZIi95\\\n",
       "1ef9SPVnxnQnOo/KDngTOc+ZuDWHsY9aJ3qeAwjYej5Y9/Y19Rngc6l2LfX6/py4ADYaB5gcsm+Y\\\n",
       "dLhgil4U7S6C3WgLBsWQFX65EfSKKos3VcO4rGAftc7N8Mpz21ena44q49JveH/uPX4FmiiDRJiC\\\n",
       "LDoELYh+bayooMjW651si1h/DDXralC8phh1W+rQ2tmK7Xu3o7WzFSs2r0DxmmIsXrcYx08dd2T/\\\n",
       "pJdswmAoM5F5VIdQQzfnc/ZR65z86vO5Eu2r4zVHlXFJ5DYugIkssBOmkI4uQQuiARdTx01VInSC\\\n",
       "QTFkl8lhMKpQIZRGpTAuu9hHrXPzmI+cPKL1NUeFcUnkNi6AiSywEqaQgxzkBJIPKd2CFkQDLgrz\\\n",
       "CpUInWBQDNllchiMKlQIpVEpjMsu9lHr3Dzmsbljtb7mqDAuidzGvwNMZFF+MB/hyjBW3rwyZZgC\\\n",
       "AKWCFkTNvXguWjtbbW9XPqPcUjs52Rbdfd1o6WixtU1zRzNW3rxSq3NEcmXT58k6r+cH0fMsO4xL\\\n",
       "BPuodaJtJWL2RbOx+qXVtrZR7Zrj9bgkchtDsAxm2kP2OgVL6E7nYAwGxZAIkT4fQABlRWWYmD+R\\\n",
       "c5EmnJ7bnLxO6Twvu02krUYHRiMQCNhu3/uvux+rXlxlu8ah1xze3/iLaffnOuJXoEl5OgZL6E7n\\\n",
       "YAwGxZAIkT4fRxw7D+zkXKQRp+Y2N65TOs/LbhNpq3tm3SPUvjsP7LS1TUJbVxvvb4g8wgUwKU3n\\\n",
       "YAnd6RqMwaAYEpVt2B3nIj3IntvcvE7pOi97QaStRLYRvXb0nujl/Q2RR7gAJqXpHCyhO12DMRgU\\\n",
       "Q6Ks9HkrOBepTfbc5uZ1Std52QsibSWyjei1Y9/hfby/IfIInwGWqLu7G4888gh+9atfIRKJID8/\\\n",
       "H5dccgluueUWfO973xvx+qeeegqPPfYYXn/9deTm5mLOnDmoq6vDn/zJn0ipR/dnDPi8kzqifVFt\\\n",
       "gjFqW2vxyEuP2N7ugRsewMO3POxARaSjoX3+YOwgdh3YhTisXy45F+kh27nNy+uUTvOy10Tayuo2\\\n",
       "orkTOYEcDMQHLL+ec4o5dL8/NwEXwJJs27YNt956Kw4dOoRPfvKTuPLKK3HkyBG8/vrr2Lt3L06d\\\n",
       "OjXs9cuWLcOaNWuQn5+PiooKHD9+HM899xzi8Th++tOf4gtf+ELWNek+wBhmRCJqN9XikRfNXwAz\\\n",
       "NMU9nIsoFfaN9PwwT4n8EsTu4jfBL/3GdLrfn5uAX4GWYP/+/bj11ltx4sQJ/PznP8drr72Gn/zk\\\n",
       "J/j1r3+Nrq4uvPTSS8Nev3nzZqxZswaTJk3CH/7wB/znf/4nNmzYgOeffx6jRo1CVVUVPvroI4+O\\\n",
       "Rh0MMyIR7QfahbbbsX+H5EqcwdAU93EuolTYN5Lz0zwlErhVVFAktC/T+w2RW7gAlqC2thaHDh3C\\\n",
       "9773vaSf3H7mM58Z9v9Xrz7z9+Lq6urw8Y9/fPDfr7vuOtx7773o7e3F2rVrnS1aAwwzIhEm9xuG\\\n",
       "wnnD5D5F2WHfGMmP85Td8Kyp46YK7cfkfkPkJi6As/TRRx/hP/7jP1BYWIhvfOMbGV+f+KozANx5\\\n",
       "550jfp74t3Xr1sktVEMMMyIRJvcbhsJ5w+Q+Rdlh3xjJj/OU3fCswrxCof2Y3G+I3MQFcJZefPFF\\\n",
       "nDhxAjfccAOCwSCeeeYZ3Hffffirv/or/Mu//Aui0eiw1+/evRsnTpzAhRdeiGnTpo14v7KyMgDA\\\n",
       "yy+/7Er9KhP9cyTlM8rlFkJaKSsqE9ru2ouulVyJXN193WjpaLG1TXNHM6J90cwvpLQ4F1Eq7BvD\\\n",
       "+Xmeyg/mI1wZRmRpBPXz6hEqCWHOtDkIlYRQP68ekaURhCvDOG/0eew3RB4b7XUBuks8wD558mTc\\\n",
       "eOON2LZt27CfP/DAA2hubsaf/umfAgDee+89AEi6+AWAMWPGYPz48fjoo49w5MgRjB3rr9/2DQ3M\\\n",
       "OBg7iAACtpNXq2dVO1ghKc/QWL+m9iZbISvAma8ZNu1qYmhKlqrLqvHQ1odsJ/1yLjIf+8ZwnKeA\\\n",
       "yQWTsfzG5SOOJ9oXRf3z9cL3NwEE8LM3foa2rrbBIDEAxoeMETmBC+AsJcKqnnrqKeTl5aGpqQm3\\\n",
       "3XYb+vr68C//8i949NFH8bWvfQ2XX345rr76avT19QEAzj///JTvOWbMGBw6dAh9fX2WFsCJNLlz\\\n",
       "vfPOO7j00ksFjsp9sf4YlmxYgpaOFtsXz6GqZlZx0ve59m4zQ7CyCdsx5cbSK4mQm8b2RsvbcC7y\\\n",
       "B/aN4ThPjSTr/iaO+GDIY2tnK+o21yEQCIxIk27tbMWDbQ+iamYVGhY2+PpvQROlwq9AZ+n06dMA\\\n",
       "gFOnTuHRRx/FPffcgwsuuAAzZszA6tWrceedd+LkyZODfwc48VenAoFAyvf021+mshKYYcXci+ei\\\n",
       "YWGDxMpIR6aG0ph6XLqwG3LDucg/2DfO4jw1nKz7m2TiiKf8U0qmhYwRycYFcJYSn9Dm5OTg61//\\\n",
       "+oif33PPPQCAtra2Ya8/evRoyvc8duwYAKCgoMBSDa+99lrS/3T59NdOYEYyQ4Ml+JtOMjWUxtTj\\\n",
       "0oXdkBvORf7BvnEW56nhsr2/yZYpIWNEsvEr0FmaMWMGAGDKlCnIy8tL+fP3338fADB9+nQAwN69\\\n",
       "e5O+39GjR3Ho0CGMHz/eF8//igRmBBBAWVEZJuZP5LMuNMLci+eitbPV9naqh4uYelw6SYTcrLx5\\\n",
       "JZp2NaGtq43P3REA9o0EzlNnid7fXDX5KrwSfcXW88HpNHc0Y+XNK33R/4is4gI4S7NmzQJw5lng\\\n",
       "eDw+4qvNBw8eBHD209zLL78ceXl5+OCDD7B3794RYVjt7Wee77j66qudLl0JIoEZccTxxSu+6Nnz\\\n",
       "QkODury8wVGlDtWYFErDUDg1pQq5IfJ73zBp/s2W6P3Nx8Z8TNriFzAvZIxIBn4FOktXXXUVLrnk\\\n",
       "EsRiMfzud78b8fPEV58Tf94oPz8f8+bNAwA888wzI16f+LfPf/7zDlWslmwCM9wW64+hZl0NitcU\\\n",
       "o25LHVo7W7F973a0drZixeYVKF5TjMXrFuP4qeO+qENViVAaO1QLpUl2jtsPtNu+KVLtuIjIbCbM\\\n",
       "v7KI3t8kgq5k8uKeiUhlXABL8Pd///cAgG9/+9v48MMPB/99586dWL16NQDg3nvvHfz3ZcuWAQC+\\\n",
       "+93v4u233x78923btiEcDmPcuHGorjbvt6HJ6BKYYSXIwo3QCVXqUJ3OoTQMhSMinek8/8okep9y\\\n",
       "8vRJyZWYGzJGJIoLYAm++c1v4k//9E/x+9//HpdffjkqKytx880340/+5E9w6NAhfPOb38Sdd945\\\n",
       "+Pr58+djyZIlOHjwIGbOnIk77rgDt956K2666Sb09/dj7dq1mDhxoodH5B5dAjPsBFk4GTqhSh2q\\\n",
       "0zmUhqFwRKQznedfmUTvU3JH5UquxNyQMSJRgbjf/uaOQwYGBvD444/jySefxJtvvolAIIBrrrkG\\\n",
       "9957L+6+++6k27S0tOCxxx7DG2+8gWAwiDlz5qCurg433HCDlJoSfx/4tddek/J+TqhtrcUjLz1i\\\n",
       "e7sHbngAD9/ysAMVjdTd143pa6bbfqYpsjQi9WtdqtShm2hfVJtQGpFzzFA4IlKVTvOvbPXP16Nu\\\n",
       "S53t7eaXzMemzk1ya5lXz2eAFaLD/bnpuAA2mA4DrHZTLR550dkFsEhY1NBtdn+4G5HDEds1yr7g\\\n",
       "iF5M/XDh0z0QLFF/c0cz3vnoHdvbm3SOdT+XRESA+C+td9bsxOwnZkv7u8Gq/iLcz3O9DvfnpuMC\\\n",
       "2GA6DLCKpyuE/mRCqCSEjXdvTPuaWH8MSzYsQUtHS9ILSTAniKqZVWhY2DD4FaxM28iu0Q4n20pX\\\n",
       "IudYJbL6mwnnWPdzSUR0rpp1NWhsb7T++rIahCvDtrez8p6q4Fyvx/256fhnkMhTToVgJYKE0j1L\\\n",
       "mQiLevPgm1h/13oAyLiNzBrdej9Twy9EznF+MN/FCtOzUr9Vup9j3c8lEVEyDQsa8NbBtyzN80MD\\\n",
       "wexsZ/U9VcC5nlTBECzylFMhWCJhUdmGD51LduiELoFhbtE9EExmf9P9HOt+LomIkhENBLOyXQ5y\\\n",
       "kBNIfhuvasgY53pSBT8BJk/NvXiu0Nd6y2eUp/xZd183WjpabL1fc0czZD8NkK5GEU60la5Ez/HK\\\n",
       "m1cq8WyRSP3p6HyOdT+XRETp5AfzEa4MY+XNK20FglnZDoA2IWOc60klfAbYYDo8YyCaejuraBYm\\\n",
       "5U9KOtGLhkXJxBRoZ+keCCazj+p+jnU8l34Ob9ERz5c5eC71peNc7xQd7s9Nx69Ak6emFEzBopmL\\\n",
       "bG0TRxztB9rR2tmKFZtXoHhNMRavW4zjp44DgNSvMYuqmlkl/WIs0lZO1KEC0XPc1tUmtxBBMvuo\\\n",
       "7udYp3MZ64+hZl0NitcUo25LHVo7W7F97/aUcxF5i+fLHDyX+tNprifzcQFMnmtY0IC5F88V3j4R\\\n",
       "mLDghwsQ6495HgjkZOiEnbZSLfxCJt0DwWTVYcI51uVcJsJbGtsbU34L49y5iLzD82UOnksz6DLX\\\n",
       "kz9wAUyesxL2YEUiMMGrQCA3QidEAzVMo3sgWLZ1mHSOdTmXDG/RC8+XOXguzaDLXE/+wAUwKSER\\\n",
       "9hBZGkH9vHqESkKYXTQbAQRsvU9zRzNmF812qMqRiscVI1QSQv28ekSWRhCuDDu+IEnWVnOmzXG9\\\n",
       "Di+JfmNAlbAo0fovm3CZcedYh3MpGt4S7Ys6UxClxfNlDp5Lc+gw15N/MATLYLo/ZC8amFB7Qy1W\\\n",
       "v7TadlhUPB7HqfgpW9s4HT6kc+BHutoBZHVcugeC6V6/TDq0BcNb9CLrfInMvzrP2Spyeuzpfr50\\\n",
       "ql+Hud4tut+fm4ALYIPpPsAqnq4Q+rM/oZIQZoyfgcb2Rsvb1JTVII647W3ClWHb9VkR649hyYYl\\\n",
       "aOloSXqxCOYEUTWzCg0LG5T7FDBT7TmBHCAODGBgxM/sHFfNuhplzpcI3euXSfW2yGYu2nj3Rgcq\\\n",
       "onSyPV8i86/Oc7bKnBp7up8vXetXfa53i+735ybgV6BJWdkEJoiERakSMKVz4IeV2gfiA0kXv4C9\\\n",
       "41LlfInSvX6ZVG8LhrfoJZvzJTL/6jxnq86Jsaf7+dK5/n+46R8wKjDK0mtHBUbhH+b+g8MVkV9x\\\n",
       "AUzKyiYwQSQsSpWAKZ0DP+zUno6V41LlfInSvX6ZVG8LhrfoJZvzJTL/6jxnq86Jsaf7+dK5/vlP\\\n",
       "z8fp+GlLrz0dP41bnr7F4YrIr/gVaIPp/hULmc9xNe1qQltXm63nuOxuI4POz8iI1J6OnePy6nzJ\\\n",
       "onv9MqnYFnwGWC/MjzCH7LGn8zUW0Lv+l6Mv45rHr7G93Sv3voIrJ1/pQEXe0f3+3ARcABtM9wGm\\\n",
       "80QvSucbbdHa076nAsdF5Me5SGei5+v+6+7HqhdXOVjZWTICt5yQqo7bPnEbfvnmL12vT/bY0/ka\\\n",
       "C+hdf+ipEDbt2WR/OwOzFHS/PzcBvwJNyppSMAWLZi6ytU3VzCqtbzhFvz7c1tUmtxABMr76fC4V\\\n",
       "jovIj3ORzkTP184DO50pKInE3Bbrj6FmXQ2K1xSjbksdWjtbsX3vdrR2tmLF5hUoXlOMxesW4/ip\\\n",
       "447Wk6mOqx6/ypP6ZI89na+xgN71t3e3C23n5rgk/+ACmJSmejiObDqH7ThRgwrHRQT4by7Sncj5\\\n",
       "cnO+EQ3ccoKVOlJxoz6ZY0/nayygd/0nT590dTuidLgAJqWpHo4jm85hO07UoMJxEQH+m4t0J3K+\\\n",
       "3JxvRAO3nCAjvNDJ+mSOPZ2vsYDe9eeOynV1O6J0RntdAFEm+cF8hCvDWHnzSuXCcWSbe/Fcob95\\\n",
       "WD6jXH4xNonWno4Kx0WU4Ke5yAR2z1fZlDLpc1gqs4tmY/W21ba2ae5oxsqbV0rtY9193WjpaJHy\\\n",
       "Xk7UlyBr7Ime42svulakbOl0vkcom1Im9Azw7KLZDlRDfscQLIPxIfszVAkXsULnsB0vU6CJVKfT\\\n",
       "PORXtZtq8ciLj9jeLgc5Kf+2eTLZBG7JDjOSHV6oQthSOqLn+IEbHsDDtzzsQEX2iFxnAwhgVtEs\\\n",
       "TMqflNWck+0cxhTos3h/7j1+BZqMpUq4iB06h+2I1J6OKsdFlA0d5yG/aj8gFtJTNLbI1uuzCdyS\\\n",
       "HWYkO7xQhbCldETP8Y79OyRXIkbkOhtHHO0H2oXnHFlz2NWTr0bppFJbtZdeUGrc4pfUwAUwGUmV\\\n",
       "cBEROoft2Kk9HdWOi0iEzvOQH4kGBU0dN9W1wC3ZYUaqv59sqrR7NrK9ztqZc2TPYS/e8yIK8wot\\\n",
       "1VmYV4ht1dssvZbILi6AyUiqhIuI0Dlsx0rtOYEc5KSYelQ9LiIROs9DfiQaFFSYV+ha4JbsMCPV\\\n",
       "3082Vdo9G1aus1ZYmXNkz2ETz5+Izm93ovSC9J8El15Qiq77ujD+vPGW9k1kF58BNphfnzHQ+Tna\\\n",
       "c0X7otqG7aSrHYC2x0VkhUnzkF+IPg879LlXq3O2jH3J4LdngFVpd1mG9reeWA/aD7QjDuu39enm\\\n",
       "HKfnsFejr2LZxmXYeWAnTp4+idxRuZhdNBuPVjxq/Nee/Xp/rhIugA3m1wFm2gWOiPTDeUg/bv7S\\\n",
       "Qsa+ZASryQwv1OEXOCb/Ykr2nMM5zDl+vT9XCb8CTcYRDfVQPbyDiPTBeUg/boYQZrMvmcFqMsML\\\n",
       "dQgu1DloMhPZcw7nMDIZF8BkHBNCLohIb5yH9ORmCKHIvpwIVpMRXqhTcKHOQZPpyJ5zOIeRybgA\\\n",
       "JuOYEHJBRHrjPKQnN0MIRfblRLBaNqFKOgYX6hw0mY7sOYdzGJlstNcFEMlWNqUMrZ2ttre79qJr\\\n",
       "HaiGiPxo7sVzheah8hnl8oshW/KD+QhXhrHy5pWOh/XZ2Vd3XzdaOlpsvX9zRzNW3rwyY72Z6rjt\\\n",
       "E7fh2beeNSa40M1z7BbZcw7nMDIZQ7AM5teH7Gs31eKRFx+xvd0DNzyAh2952IGKiNQhIziHMjM5\\\n",
       "bIe8oWMokez5hvNXarLnHN3mMJ36hl/vz1XCBbDB/DrAKp6uEPqtZagkhI13b3SgIiLvxfpjWLJh\\\n",
       "CVo6WpLe0ARzgqiaWYWGhQ3afOVPdTXratDY3mj99WU1CFeGHayIdKbTtU32fMP5yxrZc44Oc5iO\\\n",
       "fcOv9+cq4TPAZBwGNxAN50RwDmVmatgOeUOXa5vs+Ybzl3Wy5xzV5zD2DRLFBTAZh8ENRMM5EZxD\\\n",
       "mZkatkPe0OXaJnu+4fxlnew5R/U5jH2DRPEr0Abz61csdHxOisgpuj3HZapoX9SYsB3yhg7XNr8/\\\n",
       "h6oS2XOOanOYzn3Dr/fnKuEC2GB+HWA6T4qkPjeDNmTsS8ZNc7o6AGgTPGIanUJfKHs6XNtkL9K9\\\n",
       "XPS7Oe+pMpZVqcMKHX4hlIpf789VwgWwwfw8wHQIbiC9uBm0IXNf2QTn/PIrv0xbRwABBAIBDMQH\\\n",
       "sqqR7NEx9IXkUP3aJjuoy4vgr0zjKyeQA8SBAWQ/76kyllWpww6dQuHO5ef7c1XwGWAykurBDaQX\\\n",
       "N4M2ZO9LNACn90RvxjriiCdd/Nqtkaxj6Iu/qX5tkx3U5Xbwl5XxNRAfSLr4BfQM91KlDrt0CYUj\\\n",
       "NXEBTEZSPbiB9OJm0IbsfYkG4Ow7vM9yHekweEQuhr74m+rXNtlBXW4Hf9kZX+noFO6lSh126RIK\\\n",
       "R2riApiMlR/MR7gyjMjSCOrn1SNUEsKcaXMQKgmhfl49IksjCFeGufiltLr7utHS0WJrm+aOZkT7\\\n",
       "okrsy+qnRclqkUW0PWg4N/siqUvla5vofFM+o9yV90tHZHylk27sqTKWValDhJt9g8wz2usCiJw2\\\n",
       "uWAylt+43PPQA1PpFJphR+K4mjuabYXOAGe+Lta0q8l2n2tqb5K+r+qyajy09SHb73s6ftrW69MR\\\n",
       "bQ8azon+4XciQUe3feI2/PLNX9qe82TPlU5c27KtUWS+CeYEB9vb6fdLR2R8pZNu7KkyllWpQ4Sb\\\n",
       "fYPMwxAsg/Ehe3KSjqEZVmQ6LqtEgjacCvWwG5zjBBWCR3Snc+iLajKN83QBb6mkmvN0mCtl1ig7\\\n",
       "qMut4C/R8ZWOSuFeyahShyjVQ+FS4f259/gVaCKyTdfQjEysHJdVIkEbToV62AnOcQqDR7LH0Bc5\\\n",
       "rIzzdAFvqSSb83SYK2XXKDuoy63gLyfGiSrhXrLfT5U5RfVQOFIXF8BEZJuuoRmZyApAAcSCNpwK\\\n",
       "9bASnOM0Bo9kj6Evcsgc58kMnfN0mCtl1yg7qMut4C8nxokq4V6y30+VOUX1UDhSFxfARGSLzqEZ\\\n",
       "6cgOQBEJ2nAy1CNZcE5ZURkCCAjt0y4Gj2SPoS/Zkz3OU2nuaMYr0VeUnyudms9lB3W5EfzlxLdk\\\n",
       "VAj3SkeVOrKhcigcqYvPABuMzxiQE+qfr0fdljrb21024TJUzapSNhxL9LiSCeYEEVkasX2c3X3d\\\n",
       "mL5muu1QDzv7Ghpys/vD3YgcjtiqUYRoe9BwbvQPXVkNb5I5zjOZf8l8bNqzyfZ29fPqHQ0YkjEH\\\n",
       "OF2jF0TGVzrpxp4qY1mVOvyG9+fe4yfARGSL6FcH//jRH7Fi8woUrynG4nWLcfzUccmVZUfmVyKr\\\n",
       "ZlYJ3RxMKZiCRTMXObKvWH8MNetqULymGHVb6tDa2erK4hcQbw8azsn+oatk/Xr73u1o7WxNOt84\\\n",
       "+dXnc7V3twtt19bVJreQ/yFzDnCqRi+JjK900o09VcayKnUQuY0LYCKyJdvwC68DX1KRFeqRbdCG\\\n",
       "E6EeMsO97GLwiFwMfTlLJLzJzfCek6dPCm3nRI2y5wBVQpBkkxUYqFK4Vyaq1EHkJi6AicgWWeEX\\\n",
       "qoVjZXtcsoI2nAj1cCr0Jwc5yAkkv4wweMQZDH05SyS8yc3wntxRuULbOVGj7DlAlRAk2ayMr5xA\\\n",
       "DnJS3D6rGO6ViSp1ELmJzwAbjM8YkBNUeFbWCSo+2xzti6JpVxPautrSPteYjuzn2oDhxwwg6xpJ\\\n",
       "jIz+oSvRZxfvv+5+rHpxlYOVnaXKM8BOzAEmPgN8rnTjC5A776kyllWpw3S8P/ceF8AG4wAzm9XQ\\\n",
       "F9lk30y5GfiSrp1MDQORHfqjwzGT+UT7de0NtVj90mrHHwUI5gSxs2YnZj8x29a+AgigrKgME/Mn\\\n",
       "ZpzPvQr+8nIO8Oq6RyQT78+9xwWwwTjAzBTrj2HJhiVo6WhJemMVzAmiamYVGhY2OPZVpZp1NWhs\\\n",
       "b5TyXqGSEDbevVHKew0l0k52j6umrAbhyrC0mp1Q8XQFWjtbpb2fDsdM5hPt16GSEGaMnyFt/kol\\\n",
       "MU6ynSuTzVN25zYT5gAVrntEsvD+3Ht8BphIIyKhL06QFRQCeBf4kqydTAwDkdm+uhwzmU+0Xx85\\\n",
       "eUTq/JXM0HGS7b7Onae8Dv7yYg5Q5bpHRObgAphIIyKhL06wEpphldeBL0PbycQwEBntq9sxk/lE\\\n",
       "+/XY3LHWgo7SBLylkmycyJorE/OUV8FfXs4Bqlz3iMgc/Aq0wfgVC7Oo+oxqIjRj7a61eOejd2xv\\\n",
       "r0LgS7J2MiUMRPT5v+JxxSi9oFTLYybzifbrc+cbkaCj2z5xG55961nbc8PQfR2MHcSuA7sQh/Vb\\\n",
       "sNGB0QgEAq4Ff6kwB6h63SPKBu/PvccFsME4wM4wJTRDxg2fk22hyo0KF3zDqXJenJaubwMwYg5w\\\n",
       "mk5zpe79WnYwVToiwV+qtBXnczIR78+9xwWwwfw+wEwLzcgm9OWXX/mlK22hQoiUjMAX3fpGJiqc\\\n",
       "F6dkGucBBBAIBDAQHxjxM9POsyhd50qd+7XsYKp0RIK/VGkrzudkIr/fn6uAzwCTkUwMzRANMuk9\\\n",
       "0etaW6gQIiUj8EW3vpGJCufFCVbGeRzxpItfwLzzLELnuVLnfu1E+F+6fenaVpzPicgJXACTkUwM\\\n",
       "zRANMtl3eJ9rbaFCiJTMUC1d+kYmKpwXJ9gZ5+mYcp5F6DxX6tyvnQj/S7cvXduK8zkROYFfgTaY\\\n",
       "X79iofuzYamIPgs1KjAKp+OnLb9eVlt4FSIl+9k6HfqGHaaEe4mM83RMO89WmDRX6tav3XwG2E7w\\\n",
       "l2ptxfmcTOTX+3OVcAFsML8OMFnpoKoRuVnNCeSk/PpnOqq3xbmGhveIpKtmolt7+IETCwi/nWcv\\\n",
       "50qdArecIDKfi6ZA67zgk/2LLsCsce7mODJ1X17w6/25SrgANphfB1g2YVEb797oQEXy2A19mTp2\\\n",
       "KvYd2Wd7Pzq0BZA5vEcWXdrDT5wIEfLbefZirtQ1cMsJIiFeccS1DLPKht12ysSEce7mODJ1X17y\\\n",
       "6/25SkZ7XQCRbKKhGW6GkohqWNCAtw6+ZemZvbkXz0XsVExoAaxDWyTCe2Q8A5qJDu3hN06cE7+d\\\n",
       "Z7fnSitjNhFY9ObBN7H+rvXID+YL7UsHdufzhoUNiMfjtrfRnZ12skL3ce7mODJ1X0QMwSLjiIZm\\\n",
       "uBlKIspukElhXqHQfnRoC1kBSFbo0B5+48Q58dt5dnuu1DlwywkiwVS6hlllw8ox26H7OHdzHJm6\\\n",
       "LyIugMk4Vv/Uw7nKZ5TLLcQh+cF8hCvDiCyNoH5ePUIlIcyZNgehkhDq59UjsjSCcGUY540+z9i2\\\n",
       "6O7rRktHi61tAgjgorEXCe1P9fbwI9G+nY7fzrOb84PImG3uaEa0L2p7XzqxM59ns43ukh1z8bhi\\\n",
       "offSeZy7OY5M3RcRwGeAjabyMwZOBhyYlGyaLVPbQjS8p/aGWqx+abVx7eFHTIHOnkgbBhDArKJZ\\\n",
       "mJQ/ydacrWM4Yarr1G2fuA2/fPOXxgb06MLU61s6bo4jGfuyeq+n4/yQDZXvz/2CnwCTq2L9MdSs\\\n",
       "q0HxmmLUbalDa2crtu/djtbOVqzYvALFa4qxeN1iHD91XHgfUwqmYNHMRba2qZpZpe0FMR1T20L0\\\n",
       "q8879+80sj38SKRvp+PH8yzShnHE0X6g3facLTpm27rahLbLRqbr1FWPX+XY9YusM/X6lo6b4yib\\\n",
       "fdm919NpfiAzcAFMrkkEHDS2N6b8jW0i4GDBDxcg1h8T3lfDggbLX+8zJSgkFRPbIpvwHhPbw6/s\\\n",
       "nMt0/Hyes21Dq3O2LuGEVq5Tqci6fpF1fpvP3RxHovvqPdFr+15Pl/mBzMEFMLnGzYADPwaFpGJi\\\n",
       "W2QT3mNie/iVlXOZgxzkBJJf6nie5QUMZZqzdQknlBGux4Ae9/htPndzHInua9/hfbbv9XSZH8gc\\\n",
       "fAbYYCo9Y+DlszrRviiadjWhravN989rmdIWsp4XMqU9KP25BMDzbMHQNuyJ9aD9QDvisH6LkG7O\\\n",
       "1uEZP5nPlev+rKmO/DCfuzmOaltr8chLj9jeVwAB2/PG4tmL8djvH7O9rwdueAAP3/Kw7e28ptL9\\\n",
       "uV9xAWwwlQaY6KR92YTLUDWryqgLGGXPjV+oOBnUJoPq9WWie/2mk32jrUNgkegxp3w/TQN67OJY\\\n",
       "do+b46h2Uy0eedH+AljEjcU34oXIC7a34wKYRHEBbDCVBljF0xVo7WwV3j6YE0TVzCo0LGzQ/itM\\\n",
       "JEfNuho0tjdaf31ZDcKV4Yyvi/XHsGTDErR0tCS9yfC6L6peXya61+8XonN2qCSEjXdvTPozp8as\\\n",
       "LNlep86Vri1MwLHsDbfGkezxkM7E/InoifXY3k7XMabS/blf8RlgckW2QQUMF6FzORF+4mZQmwjV\\\n",
       "68tE9/r9xIlQGtUDi2QH6pgc0MOx7B23xpGb/ffk6ZNC25k8xshZXACTK2QFFTBchBKcCD9xM6hN\\\n",
       "hOr1ZaJ7/X7iRCiN6oFFsgN1TA7o4Vj2jlvjyM3+mzsqV2g7k8cYOYsLYHKFjD9VktDc0YxoX1Ta\\\n",
       "+5G+8oP5CFeGEVkaQf28eoRKQpgzbQ5CJSHUz6tHZGkE4cqwpRuA7r5utHS02Nq/m31R9foy0b1+\\\n",
       "vxGds8tnlKf9ucwxK5vM6xSQuS10xbHsPTfGkezxkE7ZlDKh7UwdY+Q8PgNsMJWeMZCZrgkkT/N1\\\n",
       "K4TDj4EffjhmFYPahrb77g93I3I4Yvs9VAni0SEF2O+G9reDsYPYdWCXtBRoHTAF2hqOZX8QDdyK\\\n",
       "x+M4FT9la5udNTsx+4nZSofkyaTS/blf8RNgcsWUgilYNHORtPdr62oDcOY5pJp1NSheU4y6LXVo\\\n",
       "7WzF9r3b0drZihWbV6B4TTEWr1uM46eOZ71PN/elCj8ds+jf/vzjR390pa+JLH6Bs2PFa6Ltq0r9\\\n",
       "JkvW3+z+CSQAqJpZpeXNaILM65TubZEOx7I/iIyHqplVqJpVZXubqyZfJbQvU8cYOY8LYHKNneCG\\\n",
       "TI6cPOJqCIcfAz/8dsyqBLVZaXc7VAkJcSJUibInq795EVrlBBnXqcK8Qqyav0pSRerhWPYPkcAt\\\n",
       "0ZAu1UPyyCxcAJNrrAQ3WDU2d6yrIRx+DPzw2zGrEtRmp92tUCUkxIlQJcpetv3Ny9AqJ8i4TvWe\\\n",
       "6EXtplrJlamDY9k/RAK3REO6VA/JI7PwGWCDqfyMQbQviqZdTVi7ay3e+egd29vX3lCL1S+tduV5\\\n",
       "ETf/8Lwq/HjMtZtq8ciLj0h5Lzf7WiaqPHfH5wbVI9LfAgigrKgME/MnGpcDcK7Edeo37/wGL7z7\\\n",
       "gq+eh06HY9mfEuOhravNchaIyDbZbKcLle/P/WK01wWQP00umIzlNy7HPbPuEVpoIQ7bi4T+gX40\\\n",
       "7WqyfQFuam9ybV+q8OMx23zcMS03+1o6wZwgqmdVS3u/bFSXVeOhrQ/ZHuuq1K+ibMPpRPpbHHF8\\\n",
       "8Yov6jvObUhcp+LxOJ5/93lb22o/H6bBsexPifFgp0+LbJPNdkRW8SvQ5CnRkIWdB3YK7U8khMOP\\\n",
       "gR9+POb27nap7+dmX0tFpZAQ0bGuSv0qkRVO58dxLoLtNBzHMhHpjgtg8pxI8IGbIRx+DPzgMXvz\\\n",
       "fjJrUDEkhCEn2ZMZTufHcS6C7TQSxzIR6YwLYPKcSPCBmyEcfgz84DF7834yalA5JIQhJ9mTGU7n\\\n",
       "x3Eugu00EscyEemMC2BJtm/fji996UuYMmUKgsEgJk6ciFtuuQXPPPNMym2eeuopfOYzn0FBQQEm\\\n",
       "TpyIW2+9FS+99JKLVasjP5iPcGUYkaUR1M+rR6gkhDnT5iBUEkL9vHpElkYQrgwPXkRF/0xF+Yxy\\\n",
       "29u4uS9V8Jiz52ZfKx5XnHKsqMbuWKezuvu60dLRYmub5o5mRPuiSX/mx3Eugu2UHMcyEemKKdAS\\\n",
       "/PSnP8VXvvIVDAwM4Nprr8Wll16K/fv348UXX8TAwAD+/u//HqtWDf+bgMuWLcOaNWuQn5+PiooK\\\n",
       "HD9+HM899xzi8Th++tOf4gtf+ELWdamcMpdteIubKcV+TETmMWeHfY2cIDt9l/3NGraTubK9F/G6\\\n",
       "DlXqJ3tUvj/3Cy6As3Tq1ClcdNFF+OCDD/DjH/8YX/7ylwd/tm3bNsybNw8nTpzA22+/jUsvvRQA\\\n",
       "sHnzZtxyyy2YNGkStm3bho9//OODry8vL0d+fj727NmDCRMmZFWbigMs1h/Dkg1L0NLRkvRmIpgT\\\n",
       "RNXMKjQsbMj4W+OadTVobG+0vO+ashqEK8O2a3Z7X6rgMWfxPuxr5ICKpyvQ2tlqe7tQSQgb796Y\\\n",
       "9Gfsb9awncwi817EizpUqZ/EqHh/7jf8CnSWdu/ejQ8++AClpaXDFr8AcN111+Fzn/sc4vE4du48\\\n",
       "m1q8evVqAEBdXd3g4jfx+nvvvRe9vb1Yu3atOwfgIpnhLYC7IRyrblmFwrxCS68tzCvEqvmrMr9Q\\\n",
       "cX4MObFzzKlk2xZ+bHeyxokwJvY3a9hO5pB9L+J2HarUT6QzLoCzlJeXZ+l1EydOBIDBrzoDwJ13\\\n",
       "3jnidYl/W7dunaQK1SEzvAVwN4Sj9rla9J7otfTa3hO9qN1UK7wvVfgx5MTKMaciqy382O5kjRNh\\\n",
       "TOxv1rCdzCH7XsTtOlSpn0hn/Ap0lk6fPo1PfOIT6OzsxE9+8hP82Z/92eDPEl+BLioqwu7du5Gb\\\n",
       "m4uOjg7MmjULF154Id5///0R73f06FEUFBRgwoQJ6Onpyao2lb5i4fQzVNG+KJp2NaGtq036czB8\\\n",
       "/svZ9lVVqmO+7RO34dm3nnWlLfzY7pSa7GeAz8X+Zg3bSV+qXM9F69hZsxOzn5jtef2UHZXuz/2K\\\n",
       "C2AJXnjhBVRWVqK3t3cwBOvAgQP47W9/i8985jN4+umncdlllwEAnn32Wdx+++2YNWsW2tvbk77f\\\n",
       "hAkTcOjQIRw+fBhjx4r/GQWVBpjTN25O8rJ2BlwQOUe38aXKzTulpluf8htV7kVE65h/yXxs2rPJ\\\n",
       "/v4UuJfykmrjUqX7c78a7XUBJrjxxhuxdetWfOELX8COHTuwY8cOAMDYsWMxf/58XHTRRYOv7evr\\\n",
       "AwCcf/75Kd9vzJgxOHToEPr6+iwtgBMD6VzvvPPOYPCW16x+XedcbV1tnk/aXtSeLuCitbMVD7Y9\\\n",
       "yIALIkG6jq8pBVOwaOYiW2FMVTOruPByga59ym9UuRcRraO9O/kHJ5mocC/lBY5LSoXPAEvwox/9\\\n",
       "CJ/97Gcxffp0/O53v0NfXx/eeustfPWrX8V3v/tdzJ8/H/39ZwZe4gP3QCCQ8v1M/FDeifAWt7hd\\\n",
       "OwMuiJyj+/hiGJN6dO9TfqLKvYjo+508fdLV/emM45LS4QI4S2+//Ta+/vWv48ILL8SvfvUrfOYz\\\n",
       "n8GYMWPw8Y9/HOFwGJWVldi2bRuam5sBYPAT3aNHj6Z8z2PHjgEACgoKLNXw2muvJf1PlU9/AWfC\\\n",
       "W9zidu0MuCByju7ji2FM6tG9T/mJKvciou+XOyrX1f3pjOOS0uECOEs//vGP0d/fjwULFmDMmDEj\\\n",
       "fp4IxWprawMATJ8+HQCwd+/epO939OhRHDp0COPHj8/q+V/ViP5pmfIZ5XILEeBm7d193WjpaLG1\\\n",
       "TXNHM6J9Udv7IvIbU8ZXfjAf4cowIksjqJ9Xj1BJCHOmzUGoJIT6efWILI0gXBnm4tcFpvQpv1Dl\\\n",
       "XkS0jrIpZULbqXAv5SaOS8qEzwBnKbGQHTduXNKfJ/49keh8+eWXIy8vDx988AH27t2LadOmDXt9\\\n",
       "Ihjr6quvdqpkT1SXVeOhrQ/ZDm+pnlXtYFXWOF370HCG3R/utrUf4MxXeJp2Nfny+R4yj2hYiZXt\\\n",
       "mtqbHB9fboatTC6YjOU3LufY95AbfYrk8fJeZOjccDB2EAEEEIf1R96COUE8+rlHhVKgVbiXskNk\\\n",
       "HuW9FNnBBXCWpkyZAgCDwVfn+v3vfw8AmDFjBgAgPz8f8+bNw/r16/HMM8/gvvvuG/b6Z555BgDw\\\n",
       "+c9/3pmCPaJzeItTtacLZ7DLrwEXZA7RsBI72zkZgMOwFX9SJVSJrPHiXkTWtb5qZhWumnyVtvdS\\\n",
       "VojMo7yXIhH8CnSWbr/9dgDA888/jx/84AfDfrZ9+3asWbMGAHDnnXcO/vuyZcsAAN/97nfx9ttv\\\n",
       "D/77tm3bEA6HMW7cOFRX6/XbOit0Dm+RXbuVcAY7/BhwQeYQDSuxu13viV6h+jKNL4at+JcqoUpk\\\n",
       "nZv3IrKu9UPr0PleKh2ReZT3UiSKC+AslZWV4W//9m8BAN/61rdw5ZVX4s/+7M9www034Prrr8fR\\\n",
       "o0dRU1OD+fPnD24zf/58LFmyBAcPHsTMmTNxxx134NZbb8VNN92E/v5+rF27FhMnTvTqkByjc3iL\\\n",
       "7NrthDNY4ceACzKHaFiJ3e32Hd4nVF+m8cWwFf9SJVSJrHPzXiTba32yOnS+l0pHZB7lvRSJCsRN\\\n",
       "/Js7HvjFL36Bxx9/HDt37kRvby/Gjh2LmTNn4hvf+Ab+/M//POk2LS0teOyxx/DGG28gGAxizpw5\\\n",
       "qKurww033CClJpX/0Ha0L4qmXU1o62pT4o+S25Ft7d193Zi+ZrqU31Ym+P2P3JO+RMZDMCeInTU7\\\n",
       "bT8LlxPIwUB8wHaN6caXaP2RpRHl5zrKrP75etRtqbO/HedsJTh5LyIyNwQQQFlRGSbmT7ScfaDr\\\n",
       "vdRQIm01OjAagUBAy3sple/P/YILYIN5PcCyDTHQeTJPR/SGKRXeTKfnhz6lM9HxMP+S+di0Z5Pt\\\n",
       "7UYFRuF0/LTl12caX1wApWbq2Bt6XD2xHrQfaLcdZsQ5W33Z9l/ODdbJvi8S4ea49Pr+nBiCRQ6Q\\\n",
       "HWJgWoCMzK/rAHoFXLjJT31KZ6Ljob27XWi7KQVTsO+I9a9CZxpfDEEaydSxJzPMiHO2umT1X84N\\\n",
       "1sm+LxLBcekvXACTVIlAgnSTWSLE4M2Db2L9XesBwPY2+cF86bW7RWbIgk4BF24S6Yc69ymdiY6H\\\n",
       "k6dPCm03ddxUXDbxMks3XFbGF0OQhjN17Fk5Lis4Z6tNZv/l3GCd18fMcek/DMEiqZwOMTAhQEZG\\\n",
       "yIKOARdu8luf0pnoeMgdlSu0XWFeodQAGYYgDWfq2HMizIjUI7P/cm6wzqtj5rj0Ly6ASZruvm60\\\n",
       "dLTY2mbtrrW2t2nuaEa0L2prG5VY/fMF5yoeV4xQSQj18+oRWRpBuDLMCTsJkX6oe5/Smeh4KJtS\\\n",
       "JrRd+Yxy5AfzEa4MI7I0gvp59QiVhDBn2hyh8SVaf/mMcqHtVGbq2BM5rkSYEedsfcjuv5wbrBNt\\\n",
       "KxG8lyKAIVhGc/shezdDDHQOiWBqbPpwEQCeBI8UjytG6QWljoX0+CEQyK1UdNEUaCfGkWjS600X\\\n",
       "34SKSyu0P/9DmRr6o+pxmTqneEX2tYPXeuvcSoFWpX0ZguU9LoAN5vYAq3i6Aq2dra7sK1QSwsa7\\\n",
       "N7qyLyfUrKtBY3uj9deX1SBcGXawIndkCpHJCeQAcWAAI/9UTTAnaCl4REY/tLovKzIds8x9uUnm\\\n",
       "cYmOB1XGkd06htL1/CcjOvZUn89VOy5T5xSvOXHtUGWO0oFIW8UR17J9uQD2Hr8CTdK4GWLgdWBC\\\n",
       "thoWNFj+yo8p4QyJcJHG9saUv7EdiA8kXfwCZ4NHFvxwAWL9sZT7kdE3rO4rEyvHLGtfbpJ9XKLj\\\n",
       "QZVxZKeOc+l4/lMxNfRHpeMydU5RgRPXDlXmKB2ItBXbl0RxAUzSuBlioHtIRH4wX2oQjw6yDZFJ\\\n",
       "cCp4RGRfmTAQyNpxiY4HVcaRlToy0en8p2Jq6I9Kx2XqnKICJ64dqsxROhBpK7YvieJXoA3GZ4D1\\\n",
       "EO2LomlXE9q62ox9jkvk+Z500j3HI7sfij4zZOrzX04fl+h4UGUcJer4zR9/gxfeewFxWL/E6nD+\\\n",
       "01H1WdlsqXJcps4pqnD62qHKHKUDkbbSqX35FWjvcQFsMLcHmN9CDMg6J345kurmUvZi+9x9WQ2e\\\n",
       "kXHTrGLIjSqLAdWpGsbmJC8XaE6MlcR7bnxnoxK/zFB17Kk4T4lw+tqRjiltSNZwAew9LoAN5sUA\\\n",
       "81OIAVnnREBauoCZbEKJUu3rl1/5pa3gmWyCc+zuy02qBQKpSrUwNre4HfrjRCBUpve0wonrlGpj\\\n",
       "z8QwLieuHena3sQ2pMy4APYenwEmqRhiQMk4EQaT7j2zCSVKpvdEr+3gGdFjFtmXm1QKBFKZSmFs\\\n",
       "bnJzPnciEMrKe2bi1HVKpbFnahiX7GtHurY3tQ2JdMAFMEnFEANKxokwmHTvKSOUaKh9h/fZDp4R\\\n",
       "PWaRfblJpUAglakUxuYmN+dzJwKhsgnrc/o6pdLYMzWMS/a1I13bm9qGRDrgV6AN5vVXLEwPMSDr\\\n",
       "3HwG+FxD+9TuD3cjcjhie1+jAqNwOn7a8uuDOUHcf939WPXiKtv7ygnkYCCe/E9BpdqXm8/Eq/oc\\\n",
       "ompUCWPzkpPzuRPPG4u8ZwAB3HTxTai4tMLx65QqY88vYVwyrh0ysyp0bENKzuv7c+IC2Gh+GmAM\\\n",
       "kFCbmynQsuuwuyBNqL2hFqtfWu3KvtwMTuKNmzVeBur4gROLQVUWmKmoMvZUbycnyG57P7YhneWn\\\n",
       "+3NV8SvQpLVYfww162pQvKYYdVvq0NrZiu17t6O1sxUrNq9A8ZpiLF63GMdPHfe6VF+bUjAFi2Yu\\\n",
       "kvZ+VTOrhG7oROooKiiyvR8A2Ll/p2v7ihyOuNbnRdpQ9HzpTHafB4C2rjap76cz0a8pp2tDJ95T\\\n",
       "JlXGnurt5ATZbe/HNiRSCRfApC0GSOhFVrhItgEzdkN6po6bKrSfIyePuLavodzo8wyus8bNQB2/\\\n",
       "cSIQSqWQqVRUGHs6tJMTZLa9X9uQSBVcAJO2GCChFyvhIjmBHOSkmJZkBczYDekpzCsU2s/Y3LGu\\\n",
       "7SsZJ/s8g+uscTNQx2+cCIRSKWQqFRXGng7t5ASZbe/XNiRSxWivCyAS0d3XjZaOFlvbNHc0Y+XN\\\n",
       "K333VUyV5AfzEa4MY+XNK1OG4wBwPAjNSh2Jfc29eK7Q394sn1Hu2r5ScbLP2zkuP0vWTqKBOok+\\\n",
       "RdmPS7fe0wlejz1d2skJstrez21IpAKGYBnM5IfsVQ2QYBiXedwMnmFwkjNUG5eqhBmdS7V2SkeV\\\n",
       "FOhz31OHNsy2Rqf7L9swOdPCBHU4z04x+f5cF1wAG8zkAVbxdIXQb09DJSFsvHuj9Hpi/TEs2bAE\\\n",
       "LR0tSS9owZwgqmZWoWFhg2+/DqqzmnU1aGxvtP76shqEK8Ou7CsTp/q8DlQel272qUxUbqd0nGhD\\\n",
       "0ffUoQ1l1uhE27MN03NyDnCTDufZaSbfn+uCC2CDmTzArmu6Dtv3bre93Zxpc7CtepvUWhJhXFae\\\n",
       "R5578Vysv2s98oP5UmsgZ9k9x9k8e2dnX1Y40ed1oPq47DnWg5J/LkHvid6Mry3MK8SeJXswIX+C\\\n",
       "9DpUb6d0nBiXIu8Zj8eVb0PZ51l22+vQD1VvQx3ocJ7dYPL9uS4YgkVaUilAgmFc5nMzeIbBSXKo\\\n",
       "Pi5rn6u1tPgFgN4TvajdVOtIHaq3UzpOjEuR99ShDWXXKLvt2Yb+CBPU4TyTP/ATYIOZ/BsmVZ4B\\\n",
       "5nM8/hPti7oWPDN0X6LBSX58Blj1calKfarUIYMT49LKe+rQhm48s5tN27MN3b2ueEWH8+wWk+/P\\\n",
       "dcEUaNJSdVk1Htr6kO2JNJEynI1Xo69i6W+Wor27HX0n+2wHFvUP9KNpV5PvFiWmmFwwGctvXO7a\\\n",
       "+Uv8jvLCMRdi7+G9iMP67yxl9XndNLU3KT0uValPlTpkcGJcWnlPHdpQRo2ZAouyaXu/tGE6bl9X\\\n",
       "vKDDeSb/4FegSUtTCqZg0cxFtrapmlmV1W8Re4714IrHrsBVj1+FTXs2oSfWg5OnTwq9V1tXm3Ad\\\n",
       "ZL5Yfww162pQvKYYdVvq0NrZivYD7bYWv0D2fV5Xos9PuzUuValPlTp0pkMbZlNjsrlo+97taO1s\\\n",
       "xYrNK1C8phiL1y3G8VPHPanPLTrUqDq2IamEnwCTthoWNOCtg29ZDlNoWNggvC87gTVWHDl5RMr7\\\n",
       "kHlkhWBl2+d1Jjq+3BqXqtSnSh0606ENRffVe6I341zUP9CPJ9qfwJsH3xQOLDK5DTlWzmIbkkr4\\\n",
       "CTBpy80AievXXi9t8Qv4N5iIMrMTEpKMaaEpIlQKyZO5H9n1qVKHznRoQ9F97Tu8z5XAIpPbkGPl\\\n",
       "LLYhqYQLYNJafjAf4cowIksjqJ9Xj1BJCHOmzUGoJIT6efWILI0gXBnOaiHwcvRl7D64W2LVQPmM\\\n",
       "cqnvR2bo7utGS0eLrW0CCGB20WypfV53cy+eK7SdW+NSlfpUqUNnZUVlQttde9G1kitJTfQ8d/d1\\\n",
       "23p9c0czon1R2/vRoR/qUKPq2IakEqZAG4wpc3KEngph055N0t7P1FRDyp4q6eZ2ZArH8YLqaaOq\\\n",
       "1KdKHTqrba3FIy89Ynu7B254AA/f8rADFY0kcp5zAjkYiA/Y3lfxuGKUXlDKFGhwrJyLbXgW78+9\\\n",
       "x0+AiTJo726X+n5+DSaizHQKCXEjHEeUFyF5dqhSnyp16Ez0+rBj/w7JlaQmcp6LCoqE9hU5HLE9\\\n",
       "B+jQD3WoUXVsQ1IJF8BEGYgmPSfj52AiykyXkJBEUFdje2PK3+YnwnEW/HABYv0xV+sDzoTkWf3K\\\n",
       "nRfjUpX6VKlDV7qMWbvneeq4qVnv084coEM/1KFG1bENSRVcABNlkDsqN+v3YDARWaFLSIidoK5s\\\n",
       "wnGy4WZIns71qVKHrnQZs3bPc2FeobR9W5kDdOiHOtSoOrYhqYLPABuMzxjIIfoMcGFeIT4z9TOe\\\n",
       "Pw9J+tDhGWAdn+OK9kXRtKsJbV1tyjynrGJ9qtShEx3G7LmsnGfR40rFzhygQz/UoUbV+bkNeX/u\\\n",
       "PS6ADcYBJsfL0ZdxzePX2N7ulXtfwZWTr3SgInEqBhbZoXv9meiwuNTxhp/IKTqMWREix5UJ54DU\\\n",
       "TL+20XC8P/ceF8AG4wCT54rHrrD1p5BKLyjFG3/1hoMV2RPrj2HJhiVo6WhJekMTzAmiamYVGhY2\\\n",
       "KPmVI93rt6NmXQ0a2xutv76sBuHKsIMVDVfxdAVaO1ttbxcqCWHj3RsdqIjIW6qPWVF2jysTzgEj\\\n",
       "+enaRmfx/tx7fAaYyIIX73nR8jNRhXmF2Fa9zeGKrNMhsCgd3eu3S/WQEF1Cf4jcovqYFWXnuKzg\\\n",
       "HDCc365tRCrhApjIgonnT0TntztRekFp2teVXlCKrvu6MP688e4UZoEOgUXp6F6/XaqHhOgS+kPk\\\n",
       "FtXHrCgrx2UH54Dh/HZtI1IJvwJtMH7FwhmvRl/Fso3LsPPATpw8fRK5o3Ixu2g2Hq14VLlnfnV/\\\n",
       "Pk33+rOlYkgInwEmSk3FMSvD0OPa/eFuRA5HbL8H54Cz/H5t8zven3uPC2CDcYCR7osV3es3EW/c\\\n",
       "iPyNc0D2eG3zN96fe49fgSYymNWvV52rratNbiGCdK/fRFMKpmDRzEW2tqmaWcUbXyJDcA7IHq9t\\\n",
       "RN7iApjIYLoHFulev6lMDf0hIms4B2SH1zYib3EBTGQw3QOLdK/fVKaG/hCRNZwDssNrG5G3Rntd\\\n",
       "ABE5Z+7Fc4X+Zmv5jHL5xQjQvX6T5QfzEa4MY+XNK40M/SGi9DgHiOO1jchbDMEyGB+yJ93DSnSv\\\n",
       "n4j8JdoXxZPtT2Lru1u5GKSUeG2TT6exx/tz7/ETYCKDJcJKGtsbLW+jUliJ7vUTkT/E+mNYsmEJ\\\n",
       "WjpaRixqWjtb8WDbg6iaWYWGhQ38OjDx2iYRxx6J4CfABuNvmAg4c3FY+G8LLaVOzr14rnLPa+le\\\n",
       "PxGZze4ctf6u9cgP5rtQGamM17bs6Tr2eH/uPYZgERlO97AS3esnIrMt2bDE8p+12fruVty34T5n\\\n",
       "CyIt8NqWPY49EsVPgA3G3zDRuaJ9Ua3DSnSvn4jMwmc5SQZe2+zTeezx/tx7XAAbjAOMdKRTkAWR\\\n",
       "btKNLwAcezbVP1+Pui119rebV4/lNy4f/P+c94jskTX2vMD7c+9xAWwwDjDSSbogC+DMb24ZZEEk\\\n",
       "JtP4ygnkAHFgAAMjfsaxl1rF0xVCf84mVBLCxrs3ct4jEpTt2PMS78+9xxRoIvKclSCL/oF+PNH+\\\n",
       "BN48+KYyQRZEOrAyvgbiIxe+CRx7qR05eUR4O857ROKyGXtEDMEiIs8xyILIOXbGVzoceyONzR0r\\\n",
       "vB3nPSJx2Yw9Ii6AichT3X3daOlosbVNc0czon1RZwoiMojI+EqHY2+4uRfPFdpu9kWzOe8RZUF0\\\n",
       "7JXPKJdbCGmJX4EmxzDUwztutn22+2pqb7KV4gic+Vpg064mS0EW7IeUiirjBBALn7JSv8j4SsfO\\\n",
       "2POD6rJqPLT1IdtJtIjD0XmP/MHP1zfRsZeYc8nfGIJlMK8esmeoh3fcbHtZ+3IqyIL9kFJRaZyI\\\n",
       "hE/Zqf+2H90mNL7SUSFERiU162rQ2N5o/fVlNdhzaI+2AT7kPV7fzhAZe+HKsIMVWcMQLO/xK9Ak\\\n",
       "VSLUo7G9MeVv5RKhHgt+uACx/pjLFZrLzbaXuS8ngizYDykV1cbJQHwg6eI3VR126+890StcfyoM\\\n",
       "kRmuYUGD5a9jzr14LhoWNjDAh4Tx+naWyNgjArgAJskY6uEdN9te5r6cCLJgP6RUVB0nVuuwW/++\\\n",
       "w/uy3v+5GCIzXH4wH+vvWo+aspozX29OIpgTRE1ZDTZ8bQPOG30eA3xIGK9vZ4mMPSKAX4E2mttf\\\n",
       "seju68b0NdNtP48RWRox/lkVp7nZ9rL3JfuP2bMfUiqqj5NMdeys2YnZT8y29Z45gZy0f+JIRKqx\\\n",
       "R2eeyWza1YS2rra0z2TWttbikZcesf3+D9zwAB6+5WGZJZNGeH1LzerYUwG/Au09hmCRNE6HGVFq\\\n",
       "bra9jH0NDe7oifUggADisP67uHODLIa+3+4PdxvTD90OODE9UEX1cZKpjmUbl9l+z4H4AEYFRuF0\\\n",
       "/LSUOhgik97kgslYfuPyzP0l4E49ZBbeZ6VmeewRgQtgkkj0q35tXW2csLLkZttns6+lc5amDe6w\\\n",
       "qmpmFSYXTM4YBGK3PlX6Ybrjau1sxYNtD0oNOHF7f17RYZyk036gXWi7KQVTsO+InK9CJ8YeZUf0\\\n",
       "XO7Yv0NyJaQT3mcRycEFMEnDUA/vuNn2ovvqPdGLhf+2MOuFQSLIIhEEImuhoUo/tHJciYCTNw++\\\n",
       "ifV3rUd+MF+b/XlJh3GSzsnTJ4W2mzpuKi6beJm0sUfZ4/WSRLDfEMnBECyShqEe3nGz7UX3te/w\\\n",
       "vqxuwM8NspAVMJSgSj90O+DET4EqOoyTdHJH5QptV5hXmDEoJieQg5wUtwQMkZGP10sSwX5DJAcX\\\n",
       "wCSN1Sj6c5XPKJdbiA+52fai++ru67b1+gACKCsqQ6gkhPp59YgsjSBcGcZ5o89Dd183WjpahOpI\\\n",
       "RYV+KHJczR3NiPZFtdif13QYJ+mUFZUJbVc+oxz5wXyEK8OILI2gfl49QiUhzJk2Z3B87V+2H/vv\\\n",
       "35/0Z0PHHsnB6yWJYL8hkoMp0AZjCrR/qJ5uK5pEmyptVjQ5OhVV+qHsRGzV9jeU7MAtK++n+jjJ\\\n",
       "VIdICrQqfdsOU8PYhh7XwdhB7Dqwy3b4n27nkuQSmVcCCGBW0SxMyp9kxDgyAVOgvcdPgEmaKQVT\\\n",
       "sGjmIlvbMFBFDjfbXmRfRQVFtvcDnAnuSEZ2wJAq/TCbgBMd9geceea4Zl0NitcUo25LHVo7W7F9\\\n",
       "73a0drZixeYVKF5TjMXrFuP4qePS30/1cZKpjqsmX2X0HCu7b6gi2XG1H2i3tfgF9DqX5AyReSWO\\\n",
       "ONoPtGs/johk4gKYpGpY0GD5KzoMVJHLzba3u6+p46YK7SdVcIfMQA+V+qHbASdub5cI3Gpsb0z5\\\n",
       "CUYicGvBDxcg1h+T/n6qjhOrdZg6x8ruG6qwclxW6HQuyVnZzis6jiMi2bgAJqnyg/kZw1YYqOIM\\\n",
       "N9ve7r4K8wqF9pMquENGoIeK/dDtgBO3t5MduCXyfqqNE7vhU6bOsaaGsWUb1qfjuSRnWZkDrNBp\\\n",
       "HBHJxmeADeb1MwbRviiadjWhravNqOe4dOBm21vZl+xnTUXfr3hcMUovKFW2H5r8DLDs529lvJ8q\\\n",
       "4wSAUB2mzLGm5keIPq9ZVlSGifkTtTyX5K6hc0BPrMf2V+t1GEcm8vr+nLgANhoHGKlCxcWPitw+\\\n",
       "Ljf35/dfgpga7CSDl2FsTjL1uEhN7G/64P259/gVaCJynOzwIVMD19w+Ljf3JztwS/T9IocjrobB\\\n",
       "mBrsJJMXYWxuMPW4SE3sb0TWcQFMRK6QHd5jahiQ28fl1v5kB27JCEJzOgzG1GAn2dwOY3OLqcdF\\\n",
       "amJ/I7KOC2AicoXs8B5Tw4DcPi639ic7cEtGEFqCU2EwpgY7yeZ2GJtbTD0uUhP7G5F1o70ugIj8\\\n",
       "Iz+Yj3BlGCtvXiklvEf2+6nC7eNyY39zL56L1s5W29uVzyiX+n6pNHc0Y+XNK6W1a3dfN1o6Wjyt\\\n",
       "QRey+4YqTD0uUhP7G5F1DMEyGB+yJ1KH30OQZKU2J9pQJPE0k8smXIaqWVVSzomfAmlE+vbQbQ7G\\\n",
       "DmLXgV3GpdeaGtZHamJ/0wfvz73HBbDBOMCIvBfrj2HJhiVo6WhJemMSzAmiamYVGhY2aPM1bVE1\\\n",
       "62rQ2N5o/fVlNQhXhjO2oWwyzknF0xVCn8aESkLYePdGoX26TaRvyzqXib6huv+/vXsPjqq8/zj+\\\n",
       "2cDmtrmRSI2XH3LTUGiBQAkWgQSCAgEmcgnWqR0ElBnrDLd2aKfF2lqcoQIipdVSCgjzc1QIiBLU\\\n",
       "lssPqE2kDZFSmVIgYoG2hAgJkBsJ+Pz+YHbLksuGzd7P+zWTP/Kc82y+5znfPed8s+c8623OA94g\\\n",
       "38ID1+fBxzPAAOAnTILkzpsJt9ozhr7mi30S6RPSeJPbvtqXTGoHtIx8A9qHAhgA/IRJkNx5M+HW\\\n",
       "7Yyhr3Vkn0T6hDTe5HZH9yWT2gFtI9+A9uEW6AjGLRZA8PA8Vtsqaio8TrjlzRjaZFN6Qrr+U/Mf\\\n",
       "n8Tp7T6J5GeAvc1tY4yumWvt7mOTTYPuGqTUuNSIeF6+PTkP+Ar5Frq4Pg8+CuAIxhsMCJ5ILoAC\\\n",
       "xdsx/OFDP9SKkhU+u2Xam30Syf8A8Xa/ePW3eD8AiDBcnwcft0ADgB94e6vnvs/3+TaQMObtGB76\\\n",
       "zyE9OfBJn8XhzT5JT0i/7RhmDpwZ8sWv5P1+8QbvBwCAr1EAA4AfRPokSIHQkTG8nclg/BVHpE5I\\\n",
       "E8gc5f0AAPA1CmAA8INInwQpEDoyhu2ZDMbfcUTqhDSBzFHeDwAAX6MAvsWhQ4e0dOlSTZkyRffc\\\n",
       "c49sNptiYz1flGzatElZWVlKSEhQamqq8vLyVFxc3Gaf4uJi5eXlKTU1VQkJCcrKytLGjRt9tSkA\\\n",
       "gsjbTx9zuuf4NpAw1tExjLPHac2kNTqz4IxeHP2ienXp1aHX88atMTzc82E9eO+Derjnw3px9Is6\\\n",
       "s+CM1kxaEzbFr+T9fvEG7wcAgK8xCdYtHn30Ub377rtubTExMWpoaGi1z8KFC7Vy5UrFxcXpkUce\\\n",
       "UUNDg/bs2SNjjLZs2aLJkyc36/POO++ooKBAX375pUaOHKk77rhDe/bsUXV1tRYsWKCXX365w9vC\\\n",
       "Q/YIRxU1Ffpd2e+0/5/7w3rmylCdBCmcxtfXYxiq+yTcBGoWaMYegC+E2nmP6/PgowC+xS9+8QvV\\\n",
       "1dVpyJAhGjJkiNLT09ssgPfu3avc3FylpaWppKRE999/vySppKREOTk5iouL06lTp9SlSxdXn6qq\\\n",
       "KvXo0UOXLl3S1q1bNWXKFElSRUWFhg8frpMnT2rv3r0aNWpUh7aFNxjCSX1TveZ9OE+vH369xQtr\\\n",
       "e5RdMwfO1Krxq8Lm07I5O+Zobdna9q8/aI7WTFrjl1jCdXx9PYahtE/CmTfjaGQYewABE6rnPa7P\\\n",
       "g48C2AObzdZmATxhwgS9//77WrlypebPn++2bN68efrlL3+p5cuX63vf+56rfdmyZVq0aJHy8/O1\\\n",
       "fft2tz7vvPOOpkyZookTJ2rHjh0dip03GMJFfVO9xr8xvl2zy2bfl60Pvv2B4uxxAYisY253u/z1\\\n",
       "HGg4j6+vxzBU9km482YcjTGMPYCACOXzHtfnwcczwB3gvNVZkqZNm9ZsubPt1kK2qKio1T4TJkxQ\\\n",
       "bGysdu/e3eZt10AkmffhvHZ/tcr+f+7X/A/n+zcgHwmVSZDCeXx9PYahsk/CnTfjyNgDCJRwPu/B\\\n",
       "//gE2IO2PgE+fPiwMjMz1bVrV50/f77Z8traWiUkJKhLly66ePGiq71Lly6qrq7W0aNH1bdv32b9\\\n",
       "hgwZotLSUh0+fFgDBgzwOnb+w4RwYJXnMitqKrTuk3Xa9/m+gD6DFEnj6+sxDNY+iTTejCNjD8Bf\\\n",
       "Qv28x/V58FEAe9BWAfzee+8pPz9fmZmZKisra7G/s9i9fPmyEhMTdfnyZSUnJ0uSLl26pKSkpGZ9\\\n",
       "Jk+erO3bt+u9997TpEmTvI6dNxhuR7AmiXjxwIta/H+Lb7vf/yT9j/rc0YeLZg+8Hd8XR7+oH434\\\n",
       "kR8iAnwv1Ca5iTSML8JJqJ/3uD4Pvs7BDiCc1dTUSJLi4+NbXcfhcKi6ulo1NTVKTEx09Wmrn8Ph\\\n",
       "cHt9T5xvpFuVl5erVy/vvvYD1tHWJBG7Ptuln+77qV8niWjvLUq3OnP5jM5cPhOQGMOZt+O77/N9\\\n",
       "FMAIecE+fkU6xhfhiPMePOEZ4A5wfnhus9k8rtPa7+3pA/iLc5KItWVrW71VqOnLJv227Lca97/j\\\n",
       "VN9U7/MYrjRe6fBr+DvGcObt+PpivwD+FArHr0jG+CJccd6DJxTAHZCYmCjpxrO+ramrq5MkJSQk\\\n",
       "uPW5eZmnPp4cPXq0xR8+/YUnoTBJRGJ0oueV2omJLJrzdnx9uV8AfwiF41ckY3wRrjjvwRMK4A7o\\\n",
       "1q2bJOns2bMtLq+trVV1dbVSUlJchW9SUpLrGeDW+jnbna8P+MO5mnN6/fDrt9Vnw+ENqqip8Gkc\\\n",
       "2fdl+/T1/BFjOPN2fHO65/g2EMCHQuX4FakYX4QzznvwhAK4AzIyMhQTE6PKysoWi1nnxFj9+/d3\\\n",
       "a3fO7NzSxFlNTU369NNPFRMTo4yMDD9EDdywrmzdbc2QKN243W3dJ+t8GsfsQbNb/UoUb/gjxnDm\\\n",
       "zfjao+yanTnbTxEBHRcqx69IxfginHHegycUwB0QFxen0aNHS5IKCwubLXe2TZw40a19woQJrfYp\\\n",
       "KipSQ0ODcnNzFRvLhBLwn45MEuFL6QnpenLgkz59TV/HGM68Gd+ZA2cysytCWqgcvyIV44twxnkP\\\n",
       "nlAAd9DChQslSUuWLNGJEydc7SUlJVqzZo2SkpI0e7b7f5SeeuopJSUl6d1339W2bdtc7efPn9ei\\\n",
       "RYvcXhfwl1CaJGLVuFU+vRWaiSzc3c74Zt+XrVXjV/k5IqBjQun4FYkYX4Q7zntoCwXwLXbu3KkH\\\n",
       "H3zQ9SNJjY2Nbm07d+50rT9mzBjNmzdPFy5c0MCBA/Xoo48qLy9PI0eOVFNTk9avX6/U1FS3v5Ga\\\n",
       "mqr169crKipK06ZN06hRo1RQUKCMjAydPHlSc+fOVW5ubkC3G9YTSpNExNnj9MG3P9CcQXN8cjs0\\\n",
       "E1m4a8/42qPsmjNojj584kO+zgQhL5SOX5GI8UW447yHtvA9wLeorKzUwYMH3dqMMW5tlZWVbstf\\\n",
       "eeUVDRw4UL/61a+0a9cu2e125ebmavHixRo+fHiLf2fq1Kk6cOCAlixZoo8//liNjY366le/qmef\\\n",
       "fVYzZ870/YYBt8i+L1u7Ptt12/38NUlEnD1Oayat0QujXtC6T9Zp3+f7dOyLYzpz+cxtvxYTWTTX\\\n",
       "0vheabyixOhE5XTP0ezM2dz+hbARasevSMP4IhJw3kNrbIYvnY1Y/fr1k3Tja5KAW52rOaduK7vd\\\n",
       "1kQn9ii7ziw4E7ATRjjECCDwODb4F+ML+A/X58HHLdCARYXDJBHhECOAwOPY4F+ML4BIRgEMWFg4\\\n",
       "TBIRDjECCDyODf7F+AKIVBTAgIWFwyQR4RAjgMDj2OBfjC+ASMUzwBGMZwxwOypqKkJ+kohwiBFA\\\n",
       "4HFs8C/GF/Adrs+DjwI4gvEGAwAAAEIH1+fBxy3QAAAAAABLoAAGAAAAAFgCBTAAAAAAwBIogAEA\\\n",
       "AAAAlkABDAAAAACwBApgAAAAAIAlUAADAAAAACyBAhgAAAAAYAkUwAAAAAAAS6AABgAAAABYAgUw\\\n",
       "AAAAAMASKIABAAAAAJZAAQwAAAAAsAQKYAAAAACAJVAAAwAAAAAswWaMMcEOAv6RmJiopqYm9erV\\\n",
       "K9ihAAAAAJZXXl4uu92uK1euBDsUy+IT4AjmcDhkt9uDHYbKy8tVXl4e7DAQgsgNtIbcQFvID7SG\\\n",
       "3EBrQiU37Ha7HA5HsMOwND4Bht/169dPknT06NEgR4JQQ26gNeQG2kJ+oDXkBlpDbsCJT4ABAAAA\\\n",
       "AJZAAQwAAAAAsAQKYAAAAACAJVAAAwAAAAAsgQIYAAAAAGAJzAINAAAAALAEPgEGAAAAAFgCBTAA\\\n",
       "AAAAwBIogAEAAAAAlkABDAAAAACwBApgAAAAAIAlUAADAAAAACyBAhh+09DQoOeff14PPPCAYmNj\\\n",
       "dffdd2vWrFk6e/ZssEODH9XV1Wn79u2aPXu2+vfvr6SkJDkcDg0YMEAvvPCCampqWu27adMmZWVl\\\n",
       "KSEhQampqcrLy1NxcXEAo0egXbx4UV/5yldks9nUp0+fNtclP6zj3LlzWrBggR544AHFxcUpNTVV\\\n",
       "gwcP1qJFi1pcn9ywho8//lhTp05Venq67Ha7UlNTlZubq8LCwlb7kBuR49ChQ1q6dKmmTJmie+65\\\n",
       "RzabTbGxsR77eZMDxcXFysvLU2pqqhISEpSVlaWNGzf6alMQbAbwg/r6ejNs2DAjydx1111m+vTp\\\n",
       "Jisry0gyXbt2NSdPngx2iPCTtWvXGklGkunXr58pKCgwY8eONYmJiUaS6dOnj6moqGjWb8GCBUaS\\\n",
       "iYuLM/n5+Wbs2LGmc+fOplOnTmbbtm1B2BIEwowZM4zNZjOSTEZGRqvrkR/WUVxcbFJSUowk07dv\\\n",
       "XzN9+nQzfvx4c99995lOnTo1W5/csIbNmzebqKgoI8l84xvfMI899pgZMWKEq+0HP/hBsz7kRmTJ\\\n",
       "z893XV84f2JiYtrs400ObNu2zXTq1MnYbDaTnZ1tpk6d6jomLViwwB+bhgCjAIZfPPfcc0aS+eY3\\\n",
       "v2muXLnial+xYoWRZEaOHBnE6OBPGzduNM8884w5fvy4W/u///1vk5mZaSSZxx9/3G3Znj17jCST\\\n",
       "lpbm1q+4uNhER0eb5ORkc/HixYDEj8DZvXu3kWTmzJnTZgFMfljHv/71L5OSkmLi4uJavDg9ePCg\\\n",
       "2+/khjU0NTWZrl27GknmrbfecltWXFxsYmNjjc1mc/vnOrkReZYuXWp+8pOfmB07dphz5855LIC9\\\n",
       "yYGLFy+a5ORkI8ls3brV1X7u3DnTu3dvI8ns3bvX9xuHgKIAhs81Nja6/lNWVlbWbHn//v2NJFNa\\\n",
       "WhqE6BBMxcXFrhPW1atXXe15eXlGklm5cmWzPnPnzjWSzPLlywMYKfytrq7O9O7d2/Tt29ccP368\\\n",
       "zQKY/LCO73znO0aSWb16dbvWJzes4W9/+5vrDqKWOD8ZfPvtt11t5Ebk81QAe5MDL730kpFk8vPz\\\n",
       "m/XZtm2bkWQmTpzY0dARZDwDDJ/76KOPVF1drV69eikzM7PZ8mnTpkmSduzYEejQEGQDBgyQJF29\\\n",
       "elUXLlyQdONZ8T179kj6b27cjHyJTD/72c9UXl6u1157TXa7vdX1yA/rqKqq0ubNm5WcnKynnnrK\\\n",
       "4/rkhnXExMS0a73U1FRJ5Aa8z4GioqJW+0yYMEGxsbHavXu3GhoafB0yAogCGD7317/+VZI0aNCg\\\n",
       "Fpc7253rwTo+++wzSXJNXiJJx44d09WrV9W1a1fde++9zfo48+XIkSOBCxR+deTIEa1YsUIzZ87U\\\n",
       "yJEj21yX/LCOP/3pT7p69aqGDx8uu92uwsJCzZ8/X88++6xWr16tiooKt/XJDevo2bOnevbsqWPH\\\n",
       "jmnz5s1uy0pKSvT73/9ePXr0cB1PyA14mwPO31u6ho2OjtbXvvY1NTQ06B//+IcfokagUADD506f\\\n",
       "Pi1JLR5wbm53rgfrWLVqlSRp3Lhxrv/oe8oXh8OhlJQUVVVV6cqVK4EJFH7z5Zdf6umnn1ZKSope\\\n",
       "euklj+uTH9Zx9OhRSdKdd96pESNGqKCgQKtWrdKrr76quXPnqlevXtqyZYtrfXLDOjp16qTXX39d\\\n",
       "ycnJeuyxxzRkyBB961vfUnZ2toYPH66BAwfqD3/4g6KjoyWRG/AuBy5fvqzq6uo2+3ENGxkogOFz\\\n",
       "zq+5iY+Pb3G5w+FwWw/W8P7772vdunWy2+36+c9/7mr3lC8SORNJVq9erT//+c9atmyZ0tLSPK5P\\\n",
       "flhHVVWVpBtfWXLkyBGtW7dOlZWVOnXqlBYuXKja2lo98cQTrk9oyA1rGTFihPbv368ePXqotLRU\\\n",
       "b7/9tg4cOCCHw6ExY8bo7rvvdq1LbsCbHLg5F7iGjWwUwPA5Y4wkyWaztbkc1vH3v/9dTzzxhIwx\\\n",
       "WrZsmetZYMlzvty8DsLbmTNntHjxYmVnZ+vJJ59sVx/ywzquX78uSbp27ZpefvllzZo1S3fccYe6\\\n",
       "d++uFStWaNq0aWpsbHTdOUBuWMubb76poUOHqlu3bjp48KBqamp0/PhxPf7441qyZInGjBmjpqYm\\\n",
       "SeQGvMuB9uQEeRMZKIDhc4mJiZKk2traFpfX1dVJkhISEgIWE4Ln7NmzGjdunKqqqrRw4ULNmzfP\\\n",
       "bbmnfJHImUjx3e9+V42NjXrttdfa3Yf8sA7nvo6KitKMGTOaLZ81a5Ykad++fW7rkxuR78SJE5ox\\\n",
       "Y4a6du2qnTt3KisrSw6HQ/fff7/WrFmjSZMmqaSkRBs2bJBEbsC7HHD2uXmZpz4IT52DHQAiT7du\\\n",
       "3STdKHxa4mx3rofI9cUXX+jhhx/W6dOnNXPmTC1fvrzZOp7ypba2VtXV1UpJSXE7OSH8FBUVKSUl\\\n",
       "Rc8884xbu3M2zdOnTysnJ8e1bkJCAvlhId27d5ckpaentzjrr3P5+fPnJXHssJK33npLTU1NGjdu\\\n",
       "nOsW1JtNnz5dO3bs0L59+zRnzhxyA17lQFJSkpKTk3Xp0iWdPXtWffv2bdaPa9jIQAEMn3Pe3lpW\\\n",
       "Vtbicmd7//79AxYTAu/KlSsaP368jh07pilTpmjt2rUt3oqUkZGhmJgYVVZW6uzZs80mniBfIkt1\\\n",
       "dbX279/f4rL6+nrXsmvXrkkiP6zE+bV5VVVVMsY0O144vzrN+ckLuWEdzqIjKSmpxeXO9osXL0oi\\\n",
       "N+B9DgwYMEAHDhxQWVlZswK4qalJn376qWJiYpSRkeHfDYBfcQs0fO6hhx5ScnKyysvL9cknnzRb\\\n",
       "XlhYKEmaOHFioENDgFy9elX5+fkqLS3V2LFj9eabb6pTp04trhsXF6fRo0dL+m9u3Ix8iRzGmBZ/\\\n",
       "Tp06JenGBYuzLSUlRRL5YSVf//rX1aNHD9XX1+vgwYPNljtvfXZ+PQm5YR3p6emSpNLS0haX/+Uv\\\n",
       "f5H037sEyA14mwMTJkxotU9RUZEaGhqUm5ur2NhYX4eMQDKAH/z4xz82ksywYcNMTU2Nq33FihVG\\\n",
       "khk+fHgQo4M/Xbt2zUyePNlIMiNGjDC1tbUe++zatctIMmlpaeb48eOu9uLiYhMTE2OSkpLMhQsX\\\n",
       "/Bk2gujUqVNGksnIyGhxOflhHb/5zW+MJDNkyBBTWVnpai8tLTUpKSlGktmyZYurndywhkOHDhlJ\\\n",
       "RpJ59dVX3ZaVlJQYh8NhJJldu3a52smNyCfJxMTEtLrcmxy4cOGCSUpKMpLM1q1bXe0VFRWmd+/e\\\n",
       "RpLZvXu37zcGAUUBDL+or683Q4cONZLMXXfdZaZPn+76PS0tzZw4cSLYIcJPXnnlFdeFyuTJk82M\\\n",
       "GTNa/Ln54tYYY+bNm2ckmfj4eJOfn2/Gjx9vOnfubKKiokxhYWGQtgaB4KkANob8sIrr16+bgoIC\\\n",
       "I8mkpqaaiRMnmpycHBMdHW0kmaeffrpZH3LDGr7//e+7zi39+vUzBQUF5qGHHjJRUVFGkpkzZ06z\\\n",
       "PuRGZCkqKjJDhw51/UgyNpvNra2oqMitjzc5UFhYaKKioozNZjM5OTlm2rRprn/AzZ07NxCbCj+j\\\n",
       "AIbf1NXVmeeee8706tXLREdHmzvvvNPMmDHDnD59OtihwY+ef/5510VKWz+nTp1q1nfDhg1m8ODB\\\n",
       "Jj4+3iQnJ5uxY8eaP/7xj4HfCARUewpgY8gPq7h+/br59a9/bTIzM018fLxxOBxm2LBhZtOmTa32\\\n",
       "ITesYdu2beaRRx4xaWlppnPnzqZLly5m1KhR5o033mi1D7kROTZs2ODx2mLDhg0t9rvdHPjoo4/M\\\n",
       "uHHjTEpKiomPjzeDBw8269ev99OWIdBsxvCFVgAAAACAyMckWAAAAAAAS6AABgAAAABYAgUwAAAA\\\n",
       "AMASKIABAAAAAJZAAQwAAAAAsAQKYAAAAACAJVAAAwAAAAAsgQIYAAAAAGAJFMAAAAAAAEugAAYA\\\n",
       "AAAAWAIFMAAAAADAEiiAAQAAAACWQAEMAAAAALAECmAAAAAAgCVQAAMAAAAALIECGAAAAABgCRTA\\\n",
       "AAAAAABLoAAGAAAAAFgCBTAAAAAAwBIogAEAAAAAlkABDAAAAACwBApgAAAAAIAlUAADAAAAACyB\\\n",
       "AhgAAAAAYAkUwAAAAAAAS6AABgAAAABYAgUwAAAAAMASKIABAAAAAJZAAQwAAAAAsAQKYAAAAACA\\\n",
       "JVAAAwAAAAAsgQIYAAAAAGAJFMAAAAAAAEugAAYAAAAAWAIFMAAAAADAEiiAAQAAAACWQAEMAAAA\\\n",
       "ALAECmAAAAAAgCVQAAMAAAAALIECGAAAAABgCRTAAAAAAABLoAAGAAAAAFgCBTAAAAAAwBIogAEA\\\n",
       "AAAAlkABDAAAAACwBApgAAAAAIAlUAADAAAAACyBAhgAAAAAYAn/DzLCaJ0dwcYHAAAAAElFTkSu\\\n",
       "QmCC\\\n",
       "\"\n",
       "  frames[1] = \"data:image/png;base64,iVBORw0KGgoAAAANSUhEUgAAA8AAAALQCAYAAABfdxm0AAAAOXRFWHRTb2Z0d2FyZQBNYXRwbG90\\\n",
       "bGliIHZlcnNpb24zLjkuMiwgaHR0cHM6Ly9tYXRwbG90bGliLm9yZy8hTgPZAAAACXBIWXMAABcS\\\n",
       "AAAXEgFnn9JSAADT10lEQVR4nOzde3hV1YE3/u8JnIRoIBCwgBDBWNtYUUKwFn6IQeSk4jRqW2fa\\\n",
       "jmVKTA1OO1ME5xIh70yljYPtK5S289aIIRnp9DK102o6FROEgNXQVkIKWNJpjdgg5FSJBAIhCeT8\\\n",
       "/qCBXM5l73XW3nuttb+f5/F5WnL22Wuv294r56xvApFIJAIiIiIiIiIiw6V4XQAiIiIiIiIiN3AB\\\n",
       "TERERERERL7ABTARERERERH5AhfARERERERE5AtcABMREREREZEvcAFMREREREREvsAFMBERERER\\\n",
       "EfkCF8BERERERETkC1wAExERERERkS9wAUxERERERES+wAUwERERERER+QIXwEREREREROQLXAAT\\\n",
       "ERERERGRL3ABTERERERERL7ABTARERERERH5AhfARERERERE5AtcABMREREREZEvcAFMRERERERE\\\n",
       "vsAFMBEREREREfkCF8BERERERETkC1wAExERERERkS9wAUxERERERES+wAUwERERERER+QIXwERE\\\n",
       "REREROQLXAATERERERGRL3ABTERERERERL7ABTARERERERH5AhfARERERERE5AtcABMREREREZEv\\\n",
       "cAFMREREREREvsAFMBEREREREfkCF8BERERERETkC1wAExERERERkS9wAUxERERERES+wAUwERER\\\n",
       "ERER+QIXwEREREREROQLXAATERERERGRL3ABTERERERERL7ABTARERERERH5AhfARERERERE5Atc\\\n",
       "ABMREREREZEvcAFMREREREREvsAFMBEREREREfkCF8BERERERETkC1wAExERERERkS9wAUxERERE\\\n",
       "RES+wAUwERERERER+QIXwEREREREROQLXAATERERERGRL3ABTERERERERL7ABTARERERERH5AhfA\\\n",
       "RERERERE5AtcABMREREREZEvcAFMREREREREvsAFMBERETmioaEBgUAAgUDA66IQEREB4AKYiIg0\\\n",
       "dObMGbzwwgv46le/ik984hOYMWPGxYXWl7/8Za+LR0RERIoa7XUBiIiI7PrVr36FO++80+tiEBER\\\n",
       "kWa4ACYiIi1NmDAB+fn5F/9btWoV2tvbvS4WERERKYwLYCIi0s7ChQvR0dEx5N/Kyso8Kg0RERHp\\\n",
       "gnuAiYhIO6NGjXL0/c+dO4ennnoKixYtwqRJkxAMBjFx4kR88IMfxKc+9Sls2bIl5rHt7e0oKyvD\\\n",
       "7NmzkZmZiTFjxiAnJwef//zn8dvf/jbuefv7+/Ff//VfuOeeezBt2jSkpaXhiiuuwNy5c1FWVoaD\\\n",
       "Bw9GPe6NN97A3/7t3+Laa69Feno6xo0bh/z8fKxbtw4nT56MeszwgKo//OEPuP/++5GdnY20tDRM\\\n",
       "nz4dDzzwAN5+++24ZW5pacF9992HKVOmXLzWv//7v0c4HI57HAD88pe/xH333Yerr74aY8aMweWX\\\n",
       "X44ZM2agoKAAX/nKV3DkyJGE70FERGRLhIiIyAAzZsyIAIj867/+a1Lvc+7cuUgoFIoAuPhfZmZm\\\n",
       "JC0tbci/RVNbWxvJyMi4+JpgMBi5/PLLL/7/1NTUyH/8x39EPfadd96J3HrrrSPOGwwGL/7/u+++\\\n",
       "e8RxP/zhD4eUbezYsUP+f3Z2duS3v/3tiON27tx58TU7duy4WO6xY8dGRo8effFnV155ZeTIkSNR\\\n",
       "y/zCCy8MOVdGRkZkzJgxEQCRqVOnRrZs2RKzvmpqaiKBQODiz9PS0iLjxo0bcv3V1dWxG4qIiEgA\\\n",
       "PwEmIiIa5Pvf/z7q6+sxZswYPP300zh16hROnDiB7u5uhMNh/Pd//zc++clPjjjuV7/6FT75yU+i\\\n",
       "q6sLK1aswKFDh9Dd3Y2uri689dZb+MIXvoDe3l6UlJTgtddeG3LsuXPncM8992D37t1IS0vD448/\\\n",
       "jj/96U8Xz/vmm2+isrISH/rQh4Yc19TUhM9+9rPo6enBggUL8Jvf/AYnT57EmTNn8Pzzz2Pq1Klo\\\n",
       "a2tDUVERurq6Yl7zJz/5SSxevBiHDh3CyZMncfr0afzwhz/E2LFjcfToUTzyyCMjjjly5Ag+9alP\\\n",
       "oaenBzfeeCN++ctf4tSpUzh9+jReeOEFjBo1CqtXr456vjNnzuDv//7vEYlE8NnPfhZ/+MMfcPbs\\\n",
       "WXR2dqKrqwuvvfYa/vEf/xHve9/7rDQZERGRdV6vwImIiGSQ9Qnw3/7t30YAREpLS20d9+EPfzgC\\\n",
       "IPJ//s//ifmaL33pS1E/yX366acjACKBQCDyP//zP5bPeccdd0QARN7//vdHTp8+PeLnTU1NFz/N\\\n",
       "/frXvz7kZ4M/Ab7tttsi58+fH3H8N7/5zQiASHp6eqSvr2/IzwbqaeLEiZFwODzi2AMHDgz59Hqw\\\n",
       "X/7ylxEAkcsvv3zE+xIRETmJnwATERENMn78eACwlSj9m9/8Br/+9a8RDAbx8MMPx3zd3/zN3wAA\\\n",
       "tm/fjvPnz1/894E9xXfeeaflP+904sQJvPjiiwCAf/zHf8Rll1024jVz5szBJz7xCQAXPtmOZc2a\\\n",
       "NUhJGflIcPfddwMAuru78fvf//7iv0ciEfzwhz8EADz44INRP6mdNWsW7r333qjnG6jj3t5eHD9+\\\n",
       "PGa5iIiIZOMCmIiIaJA777wTgUAAzz//PJYuXYrvf//7OHr0aNxjfvGLXwC4EGL1wQ9+EFOmTIn6\\\n",
       "3x133AEAOH369MWF37lz5/DrX/8aAFBUVGS5nE1NTYhEIgCAJUuWxHxdKBQCAOzfvx99fX1RX/OR\\\n",
       "j3wk6r9feeWVF//34NTtN9988+L/X7x4ccxzx/rZNddcg9zcXPT19eEjH/kIHn/8cTQ3Nw/5pQAR\\\n",
       "EZETuAAmIiIa5JZbbsHjjz+O1NRUbNu2DX/913+NadOmITs7G8XFxdi5c+eIYwYWyOfPn0c4HI75\\\n",
       "37vvvnvxmDNnzgAAjh8/fnFhOmPGDMvl/NOf/nTxf0+bNi3m66ZPnw7gwkJ7+J+OGjB27Nio/z56\\\n",
       "9KW/ljh48Wz33MONGjUKP/jBD3D11VfjrbfeQllZGebMmYNx48YhFArhO9/5zsX6ISIikokLYCIi\\\n",
       "omH+8R//EW+++SY2btyIe+65B+973/tw5MgR1NTUYPHixfjLv/zLIQvCgU8uc3NzEYlELP03c+bM\\\n",
       "Eecd+JNETnHi/UXfc/bs2WhpacGPf/xjlJaWYtasWeju7sb27dvxhS98Abm5uThw4IDk0hIRkd9x\\\n",
       "AUxERBTFlVdeiYceegg/+clPEA6HsX//fnz+858HADz77LP4zne+c/G1U6ZMAQC0trbi9OnTts4z\\\n",
       "ceJEBINBAMDhw4ctHzd43228v5c78LPRo0djwoQJtsqW7LkT/Q3h1NRUfOITn0BlZSUOHDiAd955\\\n",
       "B08++SSysrLQ1taGz33uc1LKS0RENIALYCIiIgtuuOEGbN68GQsWLAAA1NfXX/zZwL/19vbiJz/5\\\n",
       "ia33HT16NG6++WYAQG1treXj8vPzLwZXvfTSSzFft337dgAXPnEdWGgn6+qrr0ZWVhYARP1K+IAd\\\n",
       "O3bYet+JEydixYoVePzxxwEA+/btY0gWERFJxQUwERHRID09PXF/np6eDuDCPtYBN910E+bMmQMA\\\n",
       "WLt2Ld5555247zF8L25JSQkA4Oc//zl+/vOfWyrn+PHj8dGPfhQA8PWvfz3qntnf/OY3+PGPfwwA\\\n",
       "+MxnPmPpfa0IBAL4q7/6KwDAk08+OWRv84Df/va3ePbZZ6Meb7WOgaH1TERElCwugImISEvvvfce\\\n",
       "3n333Yv/9ff3A7gQLjX437u6umy97z333IP7778fL7zwAk6cOHHx3zs6OvDVr3714qetg/9cUSAQ\\\n",
       "wJNPPom0tDT88Y9/xEc+8hE8++yzQxalb7/9Nr773e8iFArhn//5n4ecc9myZbjlllsQiUTwyU9+\\\n",
       "El//+tcvLirPnz+Pw4cPY+PGjSOOq6ioQDAYxB/+8Ad89KMfvbhntr+/Hz//+c9x55134ty5c7jm\\\n",
       "mmuwYsUKW/WQyCOPPIKxY8fi3XffRSgUwmuvvQbgwp9Iqqurw9KlS6P+aSYA+MEPfoAFCxagsrIS\\\n",
       "ra2tF//9/PnzePHFF1FWVgYAmD9//sU/mURERCSFF398mIiIKFkzZsyIAEj43+c+9zlb71tQUDDk\\\n",
       "+HHjxkXGjRs35N/uvffeyPnz50ccW1dXF5k4ceLF140aNSoyceLEyGWXXTbk+M9//vMjjn3nnXci\\\n",
       "CxcuvPiaQCAQGT9+fCQYDF78t7vvvnvEcT/4wQ8iqampQ8o7ZsyYi/8/Ozs78tvf/nbEcTt37rz4\\\n",
       "mngGXrNz584RP/vZz34WSUtLu/iasWPHRtLT0yMAIlOnTo1s2bIl6jmqq6uH1EdaWlpk4sSJkZSU\\\n",
       "lIv/duWVV0YOHToUt2xERER28RNgIiKiQb71rW/h8ccfx5133olrr70WkUgE3d3duPLKK3HXXXfh\\\n",
       "xz/+MX70ox9d3H87WCgUwh/+8Af827/9G2655RZkZmbixIkTSElJwYc+9CGUlJTg+eefx7e+9a0R\\\n",
       "x06aNAkNDQ347ne/i6VLl+KKK67A6dOnMWHCBMydOxdlZWV47LHHRhz3qU99Cq+//jpWrFiBa665\\\n",
       "Bj09PRg9ejTy8vLw6KOP4uDBg7juuuscqau/+Iu/QFNTEz796U/jfe97H3p7ezF58mT83d/9Hfbt\\\n",
       "24err7466nF33XUXnnnmGRQXF2P27NnIzMxEZ2cnxo4di5tvvhlf+cpX8PrrryM3N9eRchMRkX8F\\\n",
       "IpFIxOtCEBERERERETmNnwATERERERGRL3ABTERERERERL7ABTARERERERH5AhfARERERERE5Atc\\\n",
       "ABMREREREZEvcAFMREREREREvsAFMBEREREREfkCF8BERERERETkC1wAExERERERkS9wAUxERERE\\\n",
       "RES+MNrrApBzpkyZgtOnT+Oqq67yuihERERERL73xz/+EZdffjna29u9Lopv8RNgg50+fRp9fX1e\\\n",
       "F4OIiIiIiAD09fXh9OnTXhfD1/gJsMEGPvl9/fXXPS4JERERERFdf/31XhfB9/gJMBEREREREfkC\\\n",
       "F8BERERERETkC1wAExERERERkS9wAUxERERERES+wAUwERERERER+QIXwEREREREROQLXAATERER\\\n",
       "ERGRL3ABTERERERERL7ABTARERERERH5AhfARERERERE5AtcABMREREREZEvcAFMREREREREvsAF\\\n",
       "MBEREREREfkCF8BERERERETkC1wAExERERERkS9wAUxERERERES+wAWwx86ePYt//dd/xQc+8AGM\\\n",
       "GTMGV155Je6//34cOXLE66IREREREREZZbTXBfCzs2fP4vbbb8err76KqVOn4u6778bhw4dRXV2N\\\n",
       "n/3sZ2hsbMQ111zjdTGJiFwT7grj6aanseutXTjVewpjU8di0cxFKJlTAgAxfzY5Y7LHJafh4rUl\\\n",
       "24tIPRyz5BeBSCQS8boQfvUv//Iv+MpXvoL58+ejrq4OGRkZAIANGzbg4Ycfxq233opdu3YJv//1\\\n",
       "118PAHj99dellJeIyCndfd1YuW0lappr0NffN+LnAQQQCATQH+kf8bNgShDFecXYtHQTxowe40Zx\\\n",
       "KY5Ebcn2IlILx6y7+HzuPS6APdLX14f3ve99OHHiBJqamjBnzpwhP589ezb279+P1157DXPnzhU6\\\n",
       "BwcYEemgu68bS/9zKXa9Jf4LPwAomFGAF+57AenBdEklI7vstCXbi8h7HLPu4/O597gH2CO/+MUv\\\n",
       "cOLECVxzzTUjFr8AcO+99wIAamtr3S4aEZGrVm5bmfTiFwB2vbULD217KPkCkTA7bcn2IvIexyz5\\\n",
       "ERfAHvnNb34DAMjPz4/684F/H3gdEZGJ2rvaUdNcI+39qpurEe4KS3s/sk6kLdleRN7hmCW/4gLY\\\n",
       "I3/84x8BANOnT4/684F/H3idacJdYVTsrkDh1kLMr5qPwq2FeOzlx1ydVFUoA5HfVTVVRd1zJqqv\\\n",
       "vw9V+6qkvR9ZJ9KWbC8i73DMkl8xBdojXV1dAIDLLrss6s8vv/zyIa+LZ2AvwXBvvPGGcinS8YIW\\\n",
       "6lvr8eWGLzsetKBCGYjoAhlffR6u4XAD1ixcI/19KT7RtmR7EXmDY5b8igtgjwxkjwUCgbg/N4mV\\\n",
       "oIW+/j481fQUfnf8d44ELahQBiK65FTvKS3ekxITrXe2F5E3OGbJr7gA9sjYsWMBAKdPn4768zNn\\\n",
       "zgDAxT+NFE+sFLlYnwx7RSRoobKo0rgyENElY1PHavGelJhovbO9iLzBMUt+xQWwR6666ioAwJEj\\\n",
       "R6L+fODfB16nO9GghXW3rZP2x9dVKINb+MfsSRcFMwpQ31ov9T0XzVwk9f3IGtG2ZHuRH7h9X7Zy\\\n",
       "Po5Z8iuGYHlk9uzZAICmpqaoPx/49xtvvNG1MjlJhaAFFcrgtO6+bpTWliJ7YzbKd5ajvrUee47s\\\n",
       "QX1rPdbuWIvsjdlYUbsCZ8+d9bqoRACAkvwSBFOC0t4vmBJEyZwSae9H1om0JduLTOf2fdnO+Thm\\\n",
       "ya+4APbIggULkJmZiTfeeAP79u0b8fNnn30WAPCxj33M7aI5IpmgBZPK4KSB/c2bmzbHXOgP7G++\\\n",
       "47t3oLuv2+USEo00JWMKluctl/Z+xXnF/JaDR0Taku1FJnP7vmz3fJlpmRyz5EtcAHskNTUVf/d3\\\n",
       "fwcA+Lu/+7she4E3bNiA/fv345ZbbsGHP/xhr4oolQpBCyqUwUn8Y/akq013bELBjIKk36dgRgE2\\\n",
       "Ld0koUQkyk5bsr3IdG7fl0XOxzFLfsQFsIfKy8vxkY98BK+++iquvfZafOpTn8K8efPw8MMPY+LE\\\n",
       "iaiurva6iNKoELSgQhmcwj9mTzpLD6bjhfteQGl+acyv46UgBSmB6LesYEoQpfml2PbZbfzTZR6z\\\n",
       "0pZsL/IDt+/Louc72XOSY5Z8hyFYHhozZgx27tyJf/u3f8P3vvc9/PSnP8WECRPwuc99Dl/5yleQ\\\n",
       "nZ3tdRGlUSFoQYUyOCWZ/c06/S2/g+GDWPXiKjS1N6H3fC9SR6Vi7tS52FC4AbMmz5J6LgaJuSs9\\\n",
       "mI7Kokqsu20dqvZVoeFww4h6BxDzZ2wTdVhpS9H24rgkmZzsT27fl5M9n1NjlkhFgYiJf3CWAFz6\\\n",
       "M0ix/kySm9q72nHVxqtsTc7BlCDaVrVJTYH2ugxOKdxaKLS4D+WEULeszoESydVxpgMLtixAy/GW\\\n",
       "mK/JnZSLxpJGjB8zPqlzdfd1Y+W2lahpronaV4IpQRTnFWPT0k38TTiRSzguSSY3+pPb92XTnwNM\\\n",
       "otLzuV/xK9DkChXCUVQog1NM3t/ccaYDOd/Mibv4BYCWd1sw8xsz0XGmQ/hcDBIjUg/HJcnkVn9y\\\n",
       "+75s8nMAkWxcAJNrVAhaUKEMTjB5f/OCLQvQ2dNp6bWdPZ1YUL1A+FwMEiNSD8clyeRWf3L7vmzy\\\n",
       "cwCRbFwAk2tUCEdRoQxOEE3QVX1/8/7w/oSf/A7X8m4LDoYP2j4Xg8SI1MNxSTK52Z/cvi+b+hxA\\\n",
       "5ATuATaYynsMwl1hz4MWVCiDLKbubw49E8L2N7fbP05gT1PF7gqU7yy3fa6KxRVaBYnpjAFIydOt\\\n",
       "DjkuSSY3+5Pb92VTnwNMpPLzuV9wAWwwDjB/Ka0txeamzdZfn1+KyqJKB0uUvIlfm4iObvt7erPS\\\n",
       "s3D8n47bOoYBIupiAFLydK1DjkuSye3+5PZ92cTnABPx+dx7/Ao0kSFM3N/ce77XteMYIKImBiAl\\\n",
       "T+c65LgkmdzuT27fl018DiByAhfARIYwcX9z6qhU145jgIiaGICUPJ3rkOOSZHK7P7l9XzbxOYDI\\\n",
       "CaO9LgARyZMeTDfqj9nnT8kX2gM8d+pc28cUzCgQ+mocA0ScIxpYs+62dVr1cyfpXocclySTF/3J\\\n",
       "7fuyac8BRE7gHmCDcY8B6W5/eD9mPznb9nEHHjyAWZNn2TqGASLq0TEASbWQKR3rcDCOS3ep0H+d\\\n",
       "LAP7U3wqtL8f8Pnce1wAG4wDjExw3bevs/WnkHIn5eLQFw8JnYsBImrRKQBJ1ZApneowFo5L56nQ\\\n",
       "f90qA/vTSCq0v5/w+dx73ANMREp75f5XkJmWaem1mWmZaCxpFD4XA0TUoksAksohU7rUYTwcl85S\\\n",
       "of+6WQb2p6FUaH8it3EBTERKy7osC61fakXupNy4r8udlIvDDx3G+DHjhc/FABG16BKApHLIlC51\\\n",
       "GA/HpbNU6L9uloH9aSgV2p/IbfwKtMH4FQsyzcHwQayuW429x/ai93wvUkelYu7UudhQuMH2nt9E\\\n",
       "wl1hBoh4TIf9q6rvKdShDu3guJRLhf7rZRn83p9UaH8/4vO595gCTUTamDV5ltR9iYkCP9YsXKPk\\\n",
       "IsBkg9vkePdxBBBABNZ/TxtMCaJkTomDJRxaxpZ3W2w9PAIXvk5Yta/Klb5Vkl+CR3c9avsB104d\\\n",
       "uh2cw9/bXyCj3quaqhztv1bK6HQZ4vH7PO9l3RN5iZ8AG4y/YSKKjoEf6knUJlY5GVgjq4yAuyFT\\\n",
       "ToX+uDmOOGYvkVkXToWk2SnjXd+/S/ugNl2ZEJKnIz6fe4+fABORrwwEfsTb8zQQ+PG747/DC/e9\\\n",
       "gPRguosl9B8rbWKFk4E1sso4wM2QqU13bML/Hv9fS2W3WodujiOO2Utk14UTIWl2y9h9TixUSaWg\\\n",
       "Nl2ZEJJHJIIhWETkKwz8UI+dNonGjcCaZMs4nJshU06E/rg5jjhmL5FdF06EpNkt49sn35ZeBrLG\\\n",
       "hJA8IhFcABORb7R3taOmucbWMdXN1Qh3hZ0pEAm1SQABzJ06F6GcECoWV6BtVRsqiyodW/yKlDGR\\\n",
       "RTMXSX2/RNKD6agsqkTbqjZULK5AKCeEedPnCdWhm+OIY/YSJ+rC6p8DGi5W/xUp47GuY1LLQNbJ\\\n",
       "bn8iXfAr0ETkG34J/HA7lCgZIm0SQQSfuO4TrrWJSBnjcSOoKxYZoT9ujiOO2Qv95Ommp1HdXC29\\\n",
       "LmSHpIm0V3+kHymBFPRH+qWUgaxzIySPSEX8BJiIfEP0K6wNhxvkFsQh3X3dKK0tRfbGbJTvLEd9\\\n",
       "az32HNmD+tZ6rN2xFtkbs7GidgXOnjvrdVEv0qFNZH71GQCK84qV+0WEHW62mQ79IxmJxuzUJ6bi\\\n",
       "yg1XonxnOd547w2hc8SriykZU7A8b7mt94vXf0Xba2rGVGllIOtktz+RLrgAJiLfMDnwYyB4ZnPT\\\n",
       "5pi/zR8Inrnju3egu08seEY2HdpE5rmcDOpyi5ttpkP/EGVlzEYQsfXJaDSJ6mLTHZssfxU2Uf8V\\\n",
       "rfdp46ZJKwPZI7P9iXTBBTAR+YbJgR+6BgXp0CYyzuVGUJdb3GwzHfqHKNnBarEkqguZIWmi9Z6Z\\\n",
       "lik9qI2scSIkj0h13ANMRL5RMKNA6G8eqh74IRqOs+62dZ5/lU2HNhEtY/a4bOROylV2/7UoN9tM\\\n",
       "h/4hwolgtVis1MVASNq629ahal8VGg43COUHJNNesspA9rHuyW8CkUgk4nUhyBn8Q9v+JTsESadQ\\\n",
       "pXjau9px1carbAd+tK1q8+Q6rdZ7xe4KlO8st/3+FYsrPA8K0qFNvCyjimPPzfrQoX+IEB2zdvlp\\\n",
       "rMim4tgjM/D53Hv8BJjIIN193Vi5bSVqmmtGPIDUt9bjyw1fRnFeMTYt3WTpa0yy389rA4Efm5s2\\\n",
       "Wz7Gi8APu/WeTFCQ1wtgHdrEizKqPPbcrA8d+ocIN776DPhjrMim8tgjIjn4CbDB+BsmfxkIVLHy\\\n",
       "YFUwowAv3PcC0oPprr2fKuxel9t7nkTqffEzi7HnyB7b55o3fR4aSxpFiimV6m0CuFtGHcZex5kO\\\n",
       "5HwzB509nQlfm5mWiTdXvokJ6ROEzqVD/7BrftV8oTFrhx/Gimw6jD3SH5/PvccQLCJDyA5B0jVU\\\n",
       "KRHVAz9E6l33oCDV2wRwt4w6jL2yl8osLX4BoLOnE2Xby4TPpUP/sMvJsed1XejcXjqMPSJKHj8B\\\n",
       "Nhh/w+QfsvddmbSPK55wV1ipwA/Ren94/sNY/8p62+dTYQ/wcKq1STROllGHsef1nmjV+4cVTuwB\\\n",
       "fv+E96N4TrFSdaFTe+kw9sgMfD73HhfABuMA8w/Rh6lYD0w6hyrpTLTeyxaU4YnGJ/jgJpFXAThO\\\n",
       "jz0Z16Xb/KBimJHIYiseHcezamGNuvVrt6k4jnTF53PvcQFsMA4w/yjcWij0pycGBFOCQ0I9RN8v\\\n",
       "lBNC3bI64XL4XTL1PnP8TFvBM6X5pagsqrR9LtPFC8ABRo4V2ZwaezKvS5f5weu2TKS0ttTWmI37\\\n",
       "XhqNZ9ntIuv9dOnXblN9HOmIz+fe4x5gIgOc6j2V1PF9/X14qukp3PHdO9Dd1y38fsmWw++SqfdN\\\n",
       "d2xCwYwCS68vmFGATUs3CZ3LZAMBOJubNsf8ZG74WJHNibEn+7p0mB9UaMtE7IzZeHQaz7LbReb7\\\n",
       "6dCv3abDOCISwQUwkQFkBaqYEqqkq2TqXefgGVWoEIDjxNiTfV06zA8qtGUiVsZsClKQEoj+qKbj\\\n",
       "eFY5rFGHfu02HcYRkQgugIkMIONThAHVzdWYO3Wu0LGLZi6SVg4/Em3HgXpPD6ajsqgSbavaULG4\\\n",
       "AqGcEOZNn4dQTggViyvQtqoNlUWV2jwsu6m9qx01zTW2jqlurka4Kyy1HMn2geGcuC7ZZZRNlba0\\\n",
       "ItGYPfrwURxdfdSI8Sy7XWS/n+r92m06jSMiu7gAJjJASX5JzE8Q7Br4mpPd9wumBFEyp0RKGfxK\\\n",
       "pB2j1fvkjMlYs3AN6pbVobGkEXXL6rBm4Rqjg0oOhg8i9EwIE782EWP/bSwmfm0iCrcW4mD4oKXj\\\n",
       "q5qqbAcS9fX3oWpflUhxY5LVBwY4cV2yyyibKm1pR7wxa8p4lt0ust9P9X4dTbgrjIrdFSjcWoj5\\\n",
       "VfNRuLUQj738mJRFqI7jiMgqLoCJDDAlYwqW5y2X9n57j+21/X7FecXaPZCpRqQd/V7vHWc6cN23\\\n",
       "r8MNT96A7W9uR0d3B7p6u9DR3YH61nrc8OQNuO7fr8OJsyfivo/Vr/kN13C4Qei4WGT3ASeuS/V+\\\n",
       "qkpb0lCy20X2+6nerwfr7utGaW0psjdmo3xnOepb67HnyB7Ut9Zj7Y61yN6YjRW1K3D23Fnhc3Ac\\\n",
       "kcm4ACYyhKxAFYChSl5ivVvXcaYDOd/MQcvxlriva3m3BTO/MRMdZzpivkalAByZfcCp61K5n6rU\\\n",
       "lnSJ7HZxop1V7tcD3Aqm4jgik3EBTGQIK4EqVjFUyTusd+sWbFmAzp5OS6/t7OnEguoFMX+uUgCO\\\n",
       "zD7g1HWp3E9Vaku6RHa7ONHOKvfrAW4FU3EckclGe10AIpJnIFBl3W3rULWvClv2bcEb771h+32G\\\n",
       "hyoNvF/D4Qac6j2FsaljsWjmIpTMKfH112+dwnpPbH94f8JPfodrebcFB8MHMWvyrBE/K5hRIPQ3\\\n",
       "QJ0KwJHVB5y8LlX7qWptSRfIbhen2lnVfg2IB1Otu22d7TJzHJHJApFIJOJ1IcgZ/EPb1N7Vjqs2\\\n",
       "XmUryCKYEkTbqjbfL7BIbaFnQtj+5nb7x+WEULesbsS/yxor4a4wnm56Grve2qXEQ7Mf5wA/XrMO\\\n",
       "ZLeLH9u5YncFyneW2z9ucQXWLFxj6xg/1q9b+HzuPX4FmshgOoV6ENnR1N4kdNzeY3uj/nuyY8WN\\\n",
       "UBoRfpwD/HjNOpDdLn5sZzeDqfxYv+QfXAATGU6HUA8iu3rP90o/bv3t65GZlmnpfTLTMrF+yXoA\\\n",
       "7oXSiPLjHODHa9aB7HbxWzu7HUzlt/ol/+ACmMhwOoR6ENmVOipV+nFlL5XZCtUq214GwL1QGlF+\\\n",
       "nAP8eM06kN0ufmtnt4Op/Fa/5B/cA2ww7jGg4cJdYeVCPYhEqLIHeG/pXsx9aq42++T8OAf48Zp1\\\n",
       "ILtd/NDObu4BHs4P9esWPp97jwtgg3GAxadaWI2uWI/khf3h/Zj95Gzbxx148EDUFGjRB8slOUuw\\\n",
       "vdX+QlzGA6mpROYUzkPmYFsONbg+jncfx75j+xCB9Ud3r3/hxrYcic/n3uMC2GAcYNF193Vj5baV\\\n",
       "qGmuifqpTTAliOK8Ymxauolf54mD9Uheu+7b19n6U0i5k3Jx6IuHov6scGuh0J/8yErPQkd3h+3j\\\n",
       "Yn0S7WcicwrnIXOwLYdKVB9WleaXorKoUmLJEmNbxsfnc+9xAWwwDrCRBsJqrOzXK5hRgBfuewHp\\\n",
       "wXQXSqYX1iOpoONMB3K+mWNp325mWiYOP3QY48eMj/rz+VXzsefIHttlyEjNQFdvl+3j5k2fh8aS\\\n",
       "RtvHmUpkTgHAecgQvKcMZac+4imYUeD63ly2ZWJ8PvceQ7DIV1QPq9EF65FUkHVZFlq/1IrcSblx\\\n",
       "X5c7KTfu4hcQD4kRDeMSPZ+pROYUzkPmYFsOZac+ovEymIptSTrgJ8AG42+YhuIfdZeD9UgqOhg+\\\n",
       "iNV1q7H32F70nu9F6qhUzJ06FxsKN0Td8zsc9wB7R3ROiUQiOBc5Z+sYzkPq4T1lKJH6CCCA/Kn5\\\n",
       "yErP8nSPLdvSGj6fe4+fAJNvVDVV2d5H09ffh6p9VUmfO9wVRsXuChRuLcT8qvko3FqIx15+DOGu\\\n",
       "cNLv7TYv65EollmTZ6FuWR2O/9NxnHrkFI7/03HULauztPgFgJL8kph/5iOWYEoQGwo3CB1XMqfE\\\n",
       "1jFec3IOE51T7Cx+B47hPKQe3lOGEqmPCCL4xHWfQN2yOqxZuMazxSTbknTBBTD5hujXiRoONwif\\\n",
       "s7uvG6W1pcjemI3yneWob63HniN7UN9aj7U71iJ7YzZW1K7A2XNnhc/hNi/qkchpUzKmYHneclvH\\\n",
       "FOcV44bJNwgdp8unHW7MYcnuc7SD85B6eE8ZSuf60Lns5C9cAJNvnOo95epxA0EQm5s2x/yNaF9/\\\n",
       "H55qegp3fPcOdPd1C53HbW7XI5FbNt2xCQUzCiy9tmBGATYt3ZTUcapzaw5zc27gPKQe3lOG0rk+\\\n",
       "dC47+QsXwOQboqEzoseZGgThdj0SuSU9mI4X7nsBpfmlMb/WHC1cRvQ41bk1h7k5N3AeUg/vKUPp\\\n",
       "XB86l538hQtg8g2rn9AMt2jmItvHtHe1o6a5xtYx1c3VWuwJdrMeidyWHkxHZVEl2la1oWJxBUI5\\\n",
       "IcybPg+hnBAqFlegbVUbKosqRyxiRY9TlZtzmOicIoLzkHp4TxlK5/rQuezkL0yBNhhT5oZyM51Q\\\n",
       "NFFWh2RYpjwSmc/NOUxkThHBeUgt4a4wnm56GnWtdXj5rZcRgfXHUTfacqB8u97ahVO9pzA2dawr\\\n",
       "Ccs632N1Lrub+HzuPX4CTL4hGnIjMimbHAThZj0SkTfcnMNE5hQRnIfUMDxYbfdbu20tfgFn29Lr\\\n",
       "8Eqd77E6l538hQtg8hW3wmpMD4IwNfSHiC5wew6zM6eI4DykBivBaok42ZaqhFfqfI/VuezkH1wA\\\n",
       "k6+4FVZjehCEqaE/RHSB23OYlTlFBOchtdgJVhvOjbZUJbxS53uszmUn/+AeYINxj0F84a4wqvZV\\\n",
       "oeFwg/T9PSbvAR7OyXokIm94OYcNnlNa3m1B28k22+/x/gnvR/GcYs5DChHZHxpAAAuvWoiPvv+j\\\n",
       "vt17q/M9VueyO4nP597jAthgXg8wrwIkVKDqjZSS5+d+bZebdaVKu6hSjmSpMoepUg6KzWqfV/0X\\\n",
       "w6qXj8zh9fM5cQFsNK8GWHdfN1ZuW4ma5pqoDy3BlCCK84qxaekmo7/6Ulpbis1Nm62/Pr8UlUWV\\\n",
       "DpaIksF+bZ2bdaVKu6hSDplUmcNUKQcNZbfPF24tRH1rve3zhHJCqFtWJ6PIcalePjIHF8De4x5g\\\n",
       "kkqVAAkVMAjCHOzX1rlZV6q0iyrlkE2VOWz97euRmZZp6bWZaZlYv2S9I+WgS0T6vOrhkKqXj4jk\\\n",
       "4QKYpFIlQEIFDIIwB/u1dW7WlSrtoko5ZFNlDit7qQydPZ2WXtvZ04my7WWOlIMuEenzqodDql4+\\\n",
       "IpKHX4E2mNtfseBerdgYBKEv9mvr3KwrVdpFlXI4zas5zC/1qxPRNnl4/sNY/4r9T+e5B5hMw69A\\\n",
       "e2+01wUgc1Q1Vdn+u359/X2o2ldl/M1jcsZkrFm4xvjrNJFp/drJkCbRuvrw5g8jd1KurXKo0i6i\\\n",
       "5bh609W45apbsKFwA2ZNniWtPE7xag5TpZ3pEtE2AS4shO0unEvmlNg6l6iS/BI8uuvRpMuncxCe\\\n",
       "zmUnsoNfgSZpRP+2X8PhBrkFIZLIlH7d3deN0tpSZG/MRvnOctS31mPPkT2ob63H2h1rkb0xGytq\\\n",
       "V+DsubPC5xCtq7aTbbbLoUq7iJaj+1w36lvrccOTN+C6f78OJ86ekFouU6jSznSJaJvsPbYXy/OW\\\n",
       "2zqmOK/YtYXXlIwpSZXPjTnWKTqXnUgEF8AkDQMkyEQm9Gu3QppkXLPVcqjSLjLer+XdFsz8xkx0\\\n",
       "nOmQUCKzqNLOdEkybaJKsFosouXTOQhP57ITieICmKRhgASZyIR+7VZIk8xrTlQOVdpF1vt19nRi\\\n",
       "QfUCKe9lElXamS5Jpk1UCVaLRbR8Ogfh6Vx2IlFcAJM0Vn9rOtyimYvkFoRIIt37dXtXO2qaa2wd\\\n",
       "U91cjXBX2Pa5ROtKpByqtIvMa255twUHwwelvZ8JVGlnuiTZNkkPpqOyqBJtq9pQsbgCoZwQ5k2f\\\n",
       "h1BOCBWLK9C2qg2VRZWe/WUEu+Vzc46VTeeyEyWDKdAG0yEFOoAA5kydg4npE5UKWpAdBMFgCX3p\\\n",
       "nkLrZrKpSF2JlkOVdpF9zaGcEOqW1Ul5LxOo0s5Oc/Mekey5dGyTWNd81wfuwnO/ey6petc5Pdrp\\\n",
       "svPZJzqmQHuPC2CDeTHASmtLsblps/DxwZQgivOKsWnpJk9++9vd142V21aiprkm6s3dbvlkvx95\\\n",
       "w26/Ls0vRWVRpYMlsq5wayHqW+ttHye6EEt2DrBTDlXaReY1Z6Vn4fg/HZfyXqZQpZ2d4OY9Qua5\\\n",
       "dGmTRNcci526cHuOlcmpsvPZJz4ugL3Hr0CTVHYCJKLxMmhBdhAEgyXMoXpwSzxuhwglOwfYKYcq\\\n",
       "7SLzmnvP90p5H5Osv309MtMyLb02My0T65fY/1uzXnDzHiH7XKqMvXisXHMsdupC56A2J8rOZx/S\\\n",
       "ARfAJJWVAAkrvAhakB0EwWAJc6ge3BKP2yFCsuYAK+VQpV1kXnPqqFRJpTJH2Utl6OzptPTazp5O\\\n",
       "lG0vc7hEcrh5j5B9LlXGXjx2rjkWK3Whc1CbE2Xnsw/pgF+BNpjXX7EId4VRta8KDYcb0NHdgaZj\\\n",
       "TYjAendzc8+Q7D1NOu6RImsG92sd9jSVbS/D4688bvu4R255BI/d/lhS5x5cVy3vtqDtZJvt97Cz\\\n",
       "10yFdhkoxxOvPoGOs/b/rJEKX4tUialzqZvX5fS5VBl7g8ncm5+oLrgH+BJTx6tsXj+fEz8BJgdN\\\n",
       "zpiMNQvXoG5ZHT6e+3Fbi1/gwldkqvZVOVS6oaqaqoS+IhWrfLLfT2XhrjAqdlegcGsh5lfNR+HW\\\n",
       "Qjz28mPGpkQO7teNJY2oW1aHNQvXYHLGZDXrwsNfcQ6uq1898Cvbn44GU4IomVNi+1zD28VNA+XY\\\n",
       "uXyn0PEbCjdILpF3ZIwHU+dSN6/L6XOpMvYGE7nmWBLVRUl+iaNzm5Nkl93U8Urm4QKYXCH6NaSG\\\n",
       "ww1yCxKD7PKpfr0ydPd1o7S2FNkbs1G+sxz1rfXYc2QP6lvrsXbHWmRvzMaK2hU4e+6s10V1nMp1\\\n",
       "0dTeJHTca0dfk1qOKRlTsDxvua1jivOKtf1U4MbJNyJ3Yq6tY3In5WLW5FkOlcg9MseDqXOpm9dl\\\n",
       "ah3Gk+xXn4eLVxc6z22yy+7HvkZ64gKYXKF6SITs8ql+vcliyMUlqteFSn1Rh+AcmV65/xVb4U2N\\\n",
       "JY0Ol8h5sseDSv1XJjevy9Q6jEd22RO9n85zm8yy+7GvkZ64ACZXqB4SIbt8ql9vshhycYnqdaFS\\\n",
       "X9QhOEemrMuy0PqlVuROiv9JcO6kXBx+6DDGjxnvTsEcJHs8qNR/ZXLzukytw3hklz3R++k8t8ks\\\n",
       "ux/7GumJC2ByheifCFk0c5HcgsQgu3yqX69dg/fy3fTUTXi66Wlbx1c3Vxu5J7i9qx01zTW2jpFV\\\n",
       "F1b3V8roiwfDBxF6JoSJX5uIsf82FhO/NhGFWwtxMHzQ9vumB9NRWVSJtlVtqFhcgVBOCPOmz0Mo\\\n",
       "J4SKxRVoW9WGyqJKpR4Qk5F1WRYOffEQDjx4AKGcELLSs5CRmoGs9CyEckI48OABHPriISMWv06M\\\n",
       "B9Pm0gFuXlf+1Hyhc9105U1Cx6lA5p9iA6zV+8Dc1lTahCVXLxkx1ptKm5Sd22TNy16OVyUzOEhZ\\\n",
       "TIE2mEopc6onAzIFOrpEf8zeDhUSL2XzIv0zUZsEU4IozivGpqWbMGb0mKT6YjAliAVbFqDleEvM\\\n",
       "1+ZOykVjSaMRCzhKjhPjwZS5dDg3r6usvgyPv+pNErxX3EyBHmB3bjaRF+NVx3pX6fncr/gJMLlC\\\n",
       "9ZAI2eVT/XqtsLKXzw4TQy7cDvwQ2V8p2heDKUHkfDMn7uIXAFrebcHMb8xExxn7f/KHzOLEeDBh\\\n",
       "Lo3GzetSJQjPTSL1G4uVelc9C8Itbo9X1juJ4gKYXKN6SITs8ql+vYnY2ctnhYkhF24HfojurxTp\\\n",
       "iwu2LEBnT6elYzp7OrGgeoGl15K5nBoPus+lsbh1XX4NJrJTv7FYrXfVsyDc5OZ4Zb2TKC6Ak3Tm\\\n",
       "zBn89Kc/RUlJCW688UaMGzcOl19+OWbPno1169ahq6sr5rHPPPMMbr75ZmRkZCArKwt33nknXn31\\\n",
       "VRdL7y7VQyJkl0/1641HZC9fIiaGXLgZ+JHM/kq7ffF/j/9vwk9+h2t5t0VoTzCZw6nxoPNcGo9b\\\n",
       "1+XXYCIr9RuLnXr3MgtCRW71a9Y7JYN7gJP09NNP44EHHgBw4Tv9H/rQh3Dy5Em8+uqrOHXqFHJz\\\n",
       "c7Fr1y68733vG3Lc6tWrsXHjRqSnp6OwsBBnz57FSy+9hEgkgh/96Ef4+Mc/nnTZVN5jEO4Ko2pf\\\n",
       "FRoON+BU7ymMTR2LRTMXoWROiRJfXZNdPtWvdzjRvXxx35N7gC8dJ1AXss5lpS+Gnglh+5vbbZ8r\\\n",
       "lBNC3bI628fpJtwVxtNNT2PXW7scH89unitZboyHg+GDWPXiKjS1N6H3fC9SR6Vi7tS52FC4Qeu/\\\n",
       "oezkPcKLrIJkONHnY9XvXR+4C8//7/NJ1btu9esm9uvoVH4+9wsugJP0zDPPYM+ePVi1ahWuvfba\\\n",
       "i/9+7Ngx/MVf/AX27duHz3zmM/je97538Wc7duzA7bffjokTJ6KxsfHicY2NjVi0aBHS09Px5ptv\\\n",
       "YsKECUmVjQOMRBVuLUR9a72099MhlEaEm4Efom0isiid+LWJ6Oi2v6c3Kz0Lx//puO3jdOFm2IqO\\\n",
       "wS5Ojgcd60MVugSJ6drGbs7NdInO9c7nc+/xK9BJ+pu/+Rv8v//3/4YsfgFg6tSp+Pd//3cAwH//\\\n",
       "93+jt7f34s+eeOIJAEB5efmQ4+bPn48HH3wQnZ2d2LJliwulJ4pO9t4vHUJpRLgZ+OHmPr7e872J\\\n",
       "XyTxOB24Gbaia7CLU+NB1/pQhQ5BYjq3sV/3WHuN9U7J4ALYQbNnzwYA9PT04PjxC5+KDHzVGQDu\\\n",
       "vffeEccM/Fttba1LpSQaSebeL51CaUS4Ffjh5j6+1FGpQucSPU4Hboat6Bzs4sR40Lk+VKF6kJjO\\\n",
       "bezXPdZeY71TMrgAdlBraysAIBgMIisrCwDQ0tKCnp4eXHHFFZg+ffqIY/LzL/zB+v3797tXUKJh\\\n",
       "kk3OBPQMpRHhVuCHaJssmrnI9jH5U/KFzjV36lyh41TnZtiK7sEusseD7vWhCpWDxHRvYzfnZrqE\\\n",
       "9U7J4B5gBz3wwAN4+umnUVRUhOeffx4A8Pzzz+Puu+/GnDlz0NQU/W/zTZgwASdOnMDJkycxdqz4\\\n",
       "b6q4x4BEiewZCyCAOVPnYGL6RNdDelQJCnIy8MPNfXz7w/sx+8nZdouIAw8eUDKIKNn+4XTYyuDy\\\n",
       "tbzbgraTbY6dy00yxoPOQTeqUi2UUfc21mWPtWl0rnc+n3uPC2CH/PznP8fHPvYxjB49Gr/+9a8v\\\n",
       "fh36e9/7Hu677z4sWLAAv/jFL6IeO336dLz99ts4evQopk6dmvBcAwNpuDfeeAPXXHMNBxgJKa0t\\\n",
       "xeamzdZfn1+KyqJKB0s0kq6hKaLcbJPrvn2drT+FlDspF4e+eEjoXE6R1T+cCltJVD6Z59KVzkE3\\\n",
       "ZI0JbazD/dJEutY7F8De41egHXDo0CF89rOfRSQSwde//vWLi18AGPh9QyAQiHk8fydBKlB9z5jO\\\n",
       "oSmi3GyTV+5/BZlpmZZem5mWicaSRuFzOUFm/3AibMVK+WSdS2cMujGfCW2s+v3SVKx3EsUFsGRH\\\n",
       "jhzBHXfcgffeew+rV6/GypUrh/x84CvNp0+fjvkeZ86cAQBkZGRYOufrr78e9b9rrrlG8CqI1N4z\\\n",
       "BugdmiLKzTbJuiwLrV9qRe6k3Livy52Ui8MPHcb4MeOFz+UEmf3DibAVO+VL9lw6Y9CN+UxoY9Xv\\\n",
       "l6ZivZOo0V4XwCTvvvsuQqEQ/vjHP6K4uBj/9//+3xGvueqqqwBcWChHc/r0aZw4cQLjx49Pav8v\\\n",
       "kQzpwXRUFlVi3W3rlNozJhqasu62dZ7v/UmWm22SdVkWDn3xEA6GD2J13WrsPbYXved7kToqFXOn\\\n",
       "zsWGwg1K7vmV3T8KZhQIfUUzVtiKSPlEz6U72XVP6jGljVW9X5qO9U4iuACW5NSpU1i6dClaWlrw\\\n",
       "iU98Aps3b476NecPfvCDSEtLwzvvvIMjR46MSIIeCMa68cYbXSk3kVUqfTW/qqnK9tdG+/r7ULWv\\\n",
       "SonQFBkmZ0zGmoVrXLmeWZNnKbPXzgrZ/aMkvwSP7nrUdthKyZwSaeUTPZeOBoeCdXR3IIAAIrA+\\\n",
       "/5hWH6aTPb7scCJA0c25mS5hvZMd/Aq0BD09Pbj77rvx2muv4aMf/Si+//3vY9SoUVFfm56ejsWL\\\n",
       "FwMAnn322RE/H/i3j33sY84VmMii7r5ulNaWIntjNsp3lqO+tR57juxBfWs91u5Yi+yN2VhRuwJn\\\n",
       "z511tVyiXx1tONwgtyCkJNn9Y0rGFCzPW27rvYrzimM+QMv86nOic+kk2nyz99heW4tfwJz68AvZ\\\n",
       "48sKVe9tROQOLoCTdP78eXzmM5/Bzp07sXDhQvz3f/83UlNT4x6zevVqAMBXv/pV/P73v7/4742N\\\n",
       "jaisrMS4ceNQUsLfXpO3VA6ZMiE0hZzjRP+QGbYisx+aEuwiKxTMlPrwGzfDjFS+txGRO7gATtK3\\\n",
       "v/1t/OQnPwEATJo0CV/4whewfPnyEf+9++67F49ZsmQJVq5ciePHjyMvLw/33HMP7rzzTtx6663o\\\n",
       "6+vDli1bkJWV5dUlEQFQO2TKhNAUco4T/UNm2IqMfmhasEuyoWCm1YffuBlmpPK9jYjcwT3ASXrv\\\n",
       "vfcu/u+BhXA0X/7ylzFp0qSL//8b3/gG8vLy8O1vfxv19fUIBoO4/fbbUV5ejltuucXRMhMlonrI\\\n",
       "lCmhKeQMp/qHrLAV0fJlj8tG7qRc44JdROabAAKYM3UOJqZPNK4+/MqNMCPV721E5I5ARKVkG5LK\\\n",
       "T39oW3aQhRPBGDqp2F2B8p3l9o9bXOFKAEV7Vzuu2niV7dCUtlVtvmg/nckYezL6h5NzAPvvUKrO\\\n",
       "N6rfB1Qvn4pU7WvkL356PlcVF8AG88MA6+7rxsptK1HTXBP1YTKYEkRxXjE2Ld1k6StTst9PV4Vb\\\n",
       "C4U+oQrlhFxLCy6tLcXmps3WX59fisqiSgdLRMmQPfZE+4dbcwD77yWqzTeq3wdUL5/KVOtr5E9+\\\n",
       "eD5XHfcAk7ZkB1kwGOMSHUKm3AxNIWc5MfZE+oebcwD77yUqzTeq3wdUL5/qVOprROQdLoBJW7KD\\\n",
       "LBiMcYkOIVNuhqaQs5wYeyL9w805gP33EpXmG9XvA6qXT3Uq9TUi8g6/Am0wk79iIXsPHffkDaXb\\\n",
       "PqlwV9ix0BRylhtjz0r/8HIO8Hv/VWW+Uf0+oHr5dKBKXyN/M/n5XBdMgSYtVTVV2f5bkX39faja\\\n",
       "VxX1Jib7/WTxKuSkJL8Ej+561PaDVskcb/5+9eSMyVizcE3UtnCzDv0YSpPsNcsae4nKEat/yC6H\\\n",
       "CCvlM5kq842q94EBqpfPLi/mS1X6mqr8eA8jf+InwAYz+TdMsoMsVAvGUCHkRPeQHjfrUIX2cpus\\\n",
       "a0527KlSDkqOCvON6n1A9fJZ5fV8qUJfU43XbeI3Jj+f64J7gElLsoMsVArGUCXkROeQHjfrUJX2\\\n",
       "cpPMa05m7KlSDkqeCvON6n1A9fJZocJ8uf729chMy7T02sy0TKxfsl56GVSiQpsQuY0LYNKS7CAL\\\n",
       "lYIxVAk50Tmkx806VKW93CTzmpMZe6qUg5Knwnyjeh9QvXxWqDBflr1Uhs6eTkuv7ezpRNn2Mull\\\n",
       "UIkKbULkNi6ASUtWPykYbtHMRa68n6j2rnbUNNfYOqa6uRrhrrDUcgxID6ajsqgSbavaULG4AqGc\\\n",
       "EOZNn4dQTggViyvQtqoNlUWVSi1+3axD1drLDbKvWXTszZ06V4lyyJ4D/Mzr+Ub1PqB6+RJRYb5U\\\n",
       "oQwqYX2QX3EBTFoqyS+J+SlBLPGCLGS/n6hkQk6cNBDSU7esDo0ljahbVoc1C9coGYrhZh2q2l5O\\\n",
       "Er3mD2/+MAq3FuKxlx8b8vAkOvYG3tduOWLVvSpzAHk33zjdB8JdYVTsrkDh1kLMr5ofdTx4WT6n\\\n",
       "qTBfqlAGlbA+yK+4ACYtTcmYguV5y20dU5xXHPMBSvb7ibL6NaThGg43SC2HztysQz+2l+g1t51s\\\n",
       "Q31rPdbuWIvsjdlYUbsCZ8+dFR57e4/tFSpHrLpXZQ4g7zjVB7r7ulFaW4rsjdko31mO+tZ67Dmy\\\n",
       "J+p48KJ8blFhvlShDCphfZBfcQFM2pIdmsIQFjO4WYd+bC8ZZR8eqCIy9pyoexXmAPKW7D4gO2BI\\\n",
       "5wAnFeZLFcqgEtYH+RUXwKQt2aEpDGExg5t16Mf2kln2gUAVkbHnRN2rMAeQt2T3AdkBQzoHOKkw\\\n",
       "X6pQBpWwPsivRntdAKJkDISmrLttHar2VaHhcENSf7xd9vvZVTCjQOjvPKoScqICN+vQj+0les2x\\\n",
       "VDdXY91t6zA5Y7KtsedU3Xs9B5D3ZPUB0YChgfHg9Pu5TYX5UoUyqIT1QX4ViEQiEa8LQc7gH9rW\\\n",
       "T3tXO67aeJWtUIpgShBtq9qUeMBRgUgdBhBA/tR8ZKVn2X7A9Vt7iVxzIhWLK7Bm4RrHy6F73ZMa\\\n",
       "wl1hPN30NHa9tSvuwrhidwXKd5bbfv9Y40H2+8litT5UGLMqlEElsurDah+gC/h87j1+BZpIIbqH\\\n",
       "nKhApA4jiGDvsb2+C6URIXLNiYgEqvix7slbdsOsZAcMqRZYZLc+VBizKpRBJcnWh6yANyK3cQFM\\\n",
       "pBgG8STPTh1GYyeUxo/tlWz9DicaqOLHuidviIRZyQ4YUimwSDTcS4Uxq0IZVCJaH7ID3ojcxAUw\\\n",
       "kWIYxJM8K3VohZVQGj+2l6z6HSAaqOLHuidviIRZyQ4YUimwSDTcS4Uxq0IZVCJaH7ID3ojcxD3A\\\n",
       "BuMeA/2Fu8IM4knS4Do83n0c+47tQwTWpz07+7/82F6Dr7nl3Ra0nWyz/R4y9ij6se7JHaL7JB+e\\\n",
       "/zDWv2L/zxCpvgdY5r5Rr8esCmVQidX64F7q5PD53HtcABuMA4xoKFUeIE3FhyJ3+TF4xotrFp03\\\n",
       "ym4pwxOvPiFtPKgyvkyaR/04hmQwqQ94gc/n3uNXoInIN1QLkTENA2bc4cfgGS+vWXTe2Ht0r9Tx\\\n",
       "oMr4MmEe9eMYksmEPkD+xgUwEfmGSiEypmLAjLP8GDzj9TUnM2/IHg8qjC/d51Gv+5MJdO8DRFwA\\\n",
       "E5FvqBQiYyoGzDjLj8EzXl9zMvOG7PGgwvjSfR71uj+ZQPc+QMQFMBH5huif7lk0c5HcghguPZiO\\\n",
       "yqJKtK1qQ8XiCoRyQpg3fR5COSFULK5A26o2VBZVcvFrU3tXO2qaa2wdU91cjXBX2JkCuUCFa052\\\n",
       "3pA9HrweXzrPoyr0JxPo3AeIAIZgGY2b7MUxGGMoU+pDlRAZIhEygmd0G8sqhO14PW+o1mYi9RFA\\\n",
       "AHOmzsHE9Imell2F/iSTV33D6zGhOz6fe48LYINxgNnX3deNldtWoqa5JurEHkwJojivGJuWbvLF\\\n",
       "p1cm1kdpbSk2N222/vr8UlQWVTpYIiJrCrcWor613vZxoZwQnvv0c1qO5WSuuW5ZnbRyeDFvqDz/\\\n",
       "2q2P4bwquyr9KVkq9A3eS8Xx+dx7/Ao00Z8xGGMoU+tDhRAZIhGiATKdPZ3ajmVVwnbcnjdUn3/t\\\n",
       "1Ec0XpVdlf6UDFX6Bu+lpDMugIn+jMEYQ5laHyqEyBCJEA2Qefvk29qOZVXCdtyeN1Sff63UhxVu\\\n",
       "l12V/pQMVfoG76WkM34F2mD8ioV13M8ylF/qI9wVRtW+KjQcblBibx1RPKL7F0cFRuF85Lzl16s0\\\n",
       "llXcs+n0vKHb/Du4Pjq6O9B0rAkRWH+0dLPsKvYnO1TtG7yX2sPnc+9xAWwwDjDrVL0pehVwoWp9\\\n",
       "EPmZyMNvSiAF/ZF+2+dSZSyr+sDvJJ3nX9XLrnt/Ur1+yRo+n3uPX4EmAix/nWi4hsMNcgvyZ919\\\n",
       "3SitLUX2xmyU7yxHfWs99hzZg/rWeqzdsRbZG7OxonYFzp4768j5VasPIgKmZEzB8rzlto6ZmjFV\\\n",
       "6FyqjGWRay7OK1ZisSJK5/lX9bLr3p9Ur18iXXABTAS1gjFUCLhQqT6I6BK7wTPTxk0TOo9KY9lv\\\n",
       "YTs6z786lF3n/qRD/RLpgAtgIqgVjKFCwIVK9UFEl9gNnslMyxQ6j0pj2W9hOzrPvzqUXef+pEP9\\\n",
       "EulgtNcFIFJBwYwCob8NuGjmIqnlaO9qR01zja1jqpurse62dVK/oqVKfRDRSOnBdFQWVWLdbesS\\\n",
       "Bs+YMpbtXLPudG4zXcqua3/SpX6JVMcQLINxk711soIxkg2tEg24yB6XjdxJudJu3LoFhXgVFuYl\\\n",
       "Va5ZlXLoLF4dAkiqfnUby+R8m8kes4PfT/UUaN3pNp55f4iOz+fe4wLYYBxg9pTWlmJz02brr88v\\\n",
       "RWVRJYAL+3ZXbluJmuaaqDemYEoQxXnF2LR0U9yvUxVuLRT67a7IuRJJpj7cIqvedaLKNatSDp0l\\\n",
       "qsOUQAoQAfoxMsXZTv3qMJZpKCfaTPaYTfR+MstOl+gwnnl/iI/P597jAthgHGD2DIRPWdl/WzCj\\\n",
       "4OLeILvHvXDfC0gPpkf9+fyq+dhzZI/tsoucKxHR+nCLzHrXhSrXrEo5dGanDuOxUr+qj2UaSXab\\\n",
       "yR6zMvsv+5s9qo9n3h8S4/O59xiCRfRnosEYMkOrZAZVJBuQpXpQiAphYW5T5ZpVKYfO7NRhPFbq\\\n",
       "V/WxTCPJbjPZYzbZ/sv+Jk718cz7A+mAnwAbjL9hEhfuClsKxpC9H0d0D7DIueywWh9u0W0flAyq\\\n",
       "XLMq5dCZSB3GY3f/p0pjmRJLts1kj1mR9wsggDlT52Bi+kT2N4lUG8+8P1jD53PvMQWaKIrJGZOx\\\n",
       "ZuEarFm4Ju7rqpqqbD/E9vX3oWpfVdT3LskvwaO7HpX2YBzvXHZYrQ+3iNb7hzd/WGpY2HBOBn7I\\\n",
       "7mu6l8NpqrVlPHbqV7WxrLJYfeCuD9yF5373nO2+Idqnkm0z2WNW5P0iiOCT132S/U4y1cazX+4P\\\n",
       "pD9+Amww/obJeaKhVaGcEOqW1UX9md2Ai2TOpSuVwsIAdwI/nOhrOpfDKSq3ZTy61K8ORMOdYvUN\\\n",
       "rwOBZI9Z0+cAEse+YQ2fz73HPcBESTjVe0r6cZvu2ISCGQWiRbJ1Ll3JuKa+/j481fQU7vjuHeju\\\n",
       "6xZ+n4HAj81Nm2M+LMs4lxN9TedyOEH1tnT7Pf3ISh+IJVrfcKtPxSN7zJo8B1By2DdIF1wAEyVB\\\n",
       "NLQq3nFWAi5knUtXKoWFuRX44URf07kcTlC9Ld1+Tz+SEU42uG+oEAgke8yaPAdQctg3SBdcABMl\\\n",
       "QfST2kUzF8X9eXowHZVFlWhb1YaKxRUI5YSQPS7bkXPpSOYn5ABQ3VyNcFfY9nHtXe2oaa5x5VxO\\\n",
       "9TVdyyGbDm0Zj+r1qwORPhBLdXM1DoQPuNan4pE9Zk2dAyh57BukCy6AiZJQkl9i+1PaYEoQJXNK\\\n",
       "LL12IOCiblkdfvXArxw9lw7CXWFU7K5AXWsdAghIe9+BEA67kgn8sMvpvqZbOWRTvS3j0aF+nTYw\\\n",
       "NxRuLcT8qvko3FqIx15+zNZiUmY4WV9/H1bXrXatT8Uje8yaOgfoSEa/l0nVvqFaPZH3uAAmSsKU\\\n",
       "jClYnrfc1jHFecVCKbJunks13X3dKK0tRfbGbJTvLMfut3YjArn5fQ2HG2wfI/pVSZFzqdL+qpRD\\\n",
       "NtXbMh4d6tcpw+eG+tZ67DmyB/Wt9Vi7Yy2yN2ZjRe0KnD13NuF7yfi7zIM1HWsSOk6kT8Uje8ya\\\n",
       "OgfoRGa/l0m1vqFqPZH3uAAmSpKd0KqCGQXYtHSTFudSRTKhNHaIhHC4HfihSvurUg6ZVG7LeHSp\\\n",
       "XyfIDpiSHcTTe75X6DgnAoFkj1kT5wBdqBCsFo8qfUP1eiJvcQFMlCQroVXBlCBK80ux7bPbkvoz\\\n",
       "F26eSxUyQmmsEAnhcDvwQ5X2V6UcMqnYlimBFKTEuE3rVr9OkB0wJTuIJ3VUqtBxTgQCyR6zJs4B\\\n",
       "ulAhWC0eVfqG6vVE3uLfATYY/86Y+8JdYVTtq0LD4Qac6j2FsaljsWjmIpTMKZH+FR83z+WV9q52\\\n",
       "XLXxKkc/+R1QsbgCaxausXfM7gqU7yx35VzDqdL+qpQjWaq2JQAj6lc2kbkhmBJE26q2mPUm2gdi\\\n",
       "WZKzBNtbt9s+Tkafikf2mDVlDtCBE/3eSV71DdXric/n3uMC2GCmDbBwVxhPNz2NXW/t4k3WYIPb\\\n",
       "ueXdFrSdbLP9HimBFPRH+i2/PtqNz0p/U/0mS9axLfXixC8sZP7CLZgSxN7SvZj71Fz2KZLGy1/U\\\n",
       "ifDquU31ejLt+VxH/Ao0KY8hBv4QrZ1FFr8AMDVjqq3XDw7hsNPfVAv8IHFsS704EVomM5ysOK8Y\\\n",
       "N0y+gX2KpHIzrC8ZXj+36VJP5B0ugElpDDHwB9lBV9PGTRMK4RDpb6oEflDy2Jb6cCq0TEY42eC+\\\n",
       "wT5FMrkd1idChec2HeqJvMUFMCmNIQb+IDvoKjMtUyiEQ6S/qRL4QcljW+rDqdAyK30glmh9g32K\\\n",
       "ZHI7rE+ECs9tOtQTeYt7gA2m+x4D7snzByeCrgbv47EawiGjvzEMxhxsS7W5sccvVh+46wN34fn/\\\n",
       "fd5232CfomSpvrdVlec21etJ9+dzE3ABbDDdB5jqExjJITt51c7NVEbglt/CRbykyjWrUg7ZdLou\\\n",
       "VR60h9OpDlXFOoxN1X4/QJXnNtXrSffncxNwAWww3QdY4dZC1LfW2z4ulBNC3bI6B0pEThBt51hK\\\n",
       "80tRWVQZ9zXdfd1YuW0lapprkv7k2e3+lqjswZQgivOKsWnpJmO+TqnKNatSDtl0va7S2lJsbtps\\\n",
       "/fUW5gZRutahSliH1qjU74dT6blN5XrS/fncBNwDTMpiiIE/yGwvKyEysgO3/BYu4jZVrlmVcsim\\\n",
       "83WpEjClcx2qgnVonSr9PhqVnttUrifyHhfApCyGGPiDjPayEyIjO3DLb+EiblPlmlUph2w6X5cq\\\n",
       "AVM616EqWIfWqdLvo1HpuU3leiLv8SvQBtP9Kxaq7CUhZ4m2c/a4bOROyrW1N8zpwC0nqb6nyQmq\\\n",
       "XLMq5ZDNpOvyKmDKpDr0CutQnGrBaqo+t6lWT7o/n5tgtNcFIIqlJL8Ej+561PZNsWROiYOlItlE\\\n",
       "2/nXD/za9o2rqqlK6uLXzf4mUva+/j5U7auylXqrUviMG9esUzlkM+m6JmdMxpqFa1wvl0l16BXW\\\n",
       "oTiv+n0sqj63qVZP5D1+BZqUNSVjCpbnLbd1THFese9/I6wbN9tZ5lefkymHCNGyNxxuSPia7r5u\\\n",
       "lNaWIntjNsp3lqO+tR57juxBfWs91u5Yi+yN2VhRuwJnz50VKoMoJ69Zx3LIZup1uYl1mDzWoTn4\\\n",
       "3Ea64AKYlMYQA39wq53dDtySyalwEZXDZ1QJVFGlHLKZel1uYh0mj3VoFj63kQ64ACalMcTAH9xq\\\n",
       "Z7cDt2RyKlxE5fAZVQJVVCmHbKZel5tYh8ljHZqFz22kA+4BJsfI2k+YHkxHZVEl1t22TqkQA5Wp\\\n",
       "tpfTCjfauWBGgdDfKBQJ3JJNtOyLZi6K+bP2rnbUNNfYer/q5mqsu22dK3XgxDXrXI7hkh3nql6X\\\n",
       "TliHyWMdxsf7OZF8TIE2mFcpc/xj9t5h3cenc9qoE2VXNbFzgCrtpUo5Bsga56pdl45Yh8ljHUbH\\\n",
       "+7m5mALtPX4FmqRSeT+h6Vj3iekc0OFE2VUPn1GlvVQpByB3nKt0XbpiHSaPdTgS7+dEzuICmKRS\\\n",
       "eT+h6Vj31ugc0CG77DqEz6jSXqqUQ/Y4V+W6dMY6TB7rcCjez4mcxQUwSSO6nzDcFXamQD7CurdO\\\n",
       "54AO2WXXIXxGlfZSoRxOjHMVrkt3rMPksQ4v4f2cyHncA2wwt/cYqLqfMFaAxF0fuAvP/e45rYIl\\\n",
       "YlG17lUX7gprG9Aho+y69Zt41wzAdlCMaLiMV/3G6fbSfTyoEBTkRB2qcm1u0bkfyqDbvEz2cQ+w\\\n",
       "97gANpjbA6xwa6FQkmMoJ4S6ZXXSy5MoQCIWHYMlVKt70oMJ4TMiQTG6hstwnI+ka1taYfK1UWwc\\\n",
       "5+bjAth7/Ao0SaPSfkIrARKx6BgsoVLdkz50D58RCYrROVyG43wondsyEZOvjeLjOCdyHhfAJI1K\\\n",
       "+wntBEjEolOwhEp1T3rROXxGJChG53AZjvOhdG7LREy+NoqP45zIeVwAkzRWH6KHk/3H7EUCJGLR\\\n",
       "JVhClbon/egaPiMyzrfs26J1uAzH+SUmBwWZfG2UGMc5kfO4B9hgbu8xENlPGEAAc6bOwcT0idJC\\\n",
       "LkQDJGK+n41gCa/CSlTcy+m34BYT6BQ+I3ucx5M9Lhu5k3I9rwsVx7nbBuaV6uZqvPHeG7aP1yEo\\\n",
       "SMUQJM7n7uE4N7+/cQ+w97gANpgXA6y0thSbmzYLHy8j1EM0QCIWK8ESKoSV2K370vxSVBZVSi+H\\\n",
       "CnVB5pM9zq3yuv+qMs7dJhpqOJwOQUEqhSBxPvcGx7nZ/Y0LYO/xK9AklZ39hNHICPWQHQSR6P1U\\\n",
       "CStRYS+nKnVB5vMq8MXr/qvCOHdbMqGGw+kQFKRKCBLnc+9wnLO/kbO4ACaprOwntCKZUA/ZQRCJ\\\n",
       "3k+VsBIV9nKqUhdkPq8DX7zqvyqMc7fJCDUc4HW/sUKVECTO597hOI+P/Y2Sxa9AG8zrr1gM3k/Y\\\n",
       "0d2BpmNNiMB6dxPd0+LmHmBV9+p4sZdT1bogM7m5BzgWr/uvTnu2RYnMK/FwD7A1nM/VwXEenc79\\\n",
       "zevnc+IC2GgqDTA3b+gyH5gSTbAqPKiowrS6MD2EQ3ci43x0YDQCgYC0xRSgbv81hcxfdOjywKzC\\\n",
       "YsC0+Vw2He4POpRxgN/6m0rP537Fr0CTK0S/vtZwuMH2MVMypmB53nKh8w1XnFcc90bh5nWpzpS6\\\n",
       "6O7rRmltKbI3ZqN8ZznqW+ux58ge1LfWY+2OtcjemI0VtStw9txZr4vqayLj/P4590ubGwao1n9N\\\n",
       "I+urz0Di+VwVIn1b9rWZMp/LpsP9QYcyDsf+Rm7jAphc4XaoR7JhXIC1YAlVwkpUYEJdMIRDL+tv\\\n",
       "X4/MtExLr81My8T6JeulzA2DqdR/TSSrfnULCvI6BMmE+Vw2He4POpQxGvY3chsXwOQKt0M9kgnj\\\n",
       "shMsoUpYiQpMqAuGcOil7KUydPZ0WnptZ08nyraXSQvqG6BS/zVRsvWra1CQ1yFIJsznsulwf9Ch\\\n",
       "jNGwv5HbuAB2QEdHB973vvchEAggNzc37mufeeYZ3HzzzcjIyEBWVhbuvPNOvPrqqy6V1D2in7gs\\\n",
       "mrlI+JzpwXRUFlWibVUbKhZXIJQTwrzp8xDKCaFicQUOPHgg6r+3rWpDZVGlpQcKL65LVbrXRXtX\\\n",
       "O2qaa2wdU91cjXBX2JkCUVzJtFe0uSF7XLZQOVTpv6YSnVfeP+H9tudz1SS6hzl5bbrP57LpcH/Q\\\n",
       "oYyxsL+R2xiC5YDly5fjmWeeQSQSwQc/+EG0tLREfd3q1auxceNGpKeno7CwEGfPnsVLL72ESCSC\\\n",
       "H/3oR/j4xz+eVDlU2mSvQqiHE0y9LhG614XfQjhUZTW4RXZ76d5/TeWXdlEtsEhWvat2XaJ0uD/o\\\n",
       "UMZY/DLOB6j0fO5X/ARYspdeegn/8R//gQceeCDu63bs2IGNGzdi4sSJ+M1vfoOf/vSn2LZtG3bv\\\n",
       "3o1Ro0ahuLgY7733nkuldp4KoR5OMPW6ROheFwzh8Jbd4BbZ7aV7/zWV6e2iamBRsvWu6nWJ0uH+\\\n",
       "oEMZYzF9nJN6uACWqLu7Gw8++CA+9KEP4R/+4R/ivvaJJ54AAJSXl+Paa6+9+O/z58/Hgw8+iM7O\\\n",
       "TmzZssXR8rrN61APp5h6XSJ0rguGcHhHJLjFifbSuf+azNR2UT2wSLTeVb8uETrcH3QoYzymjnNS\\\n",
       "ExfAEj366KN444038J3vfAfBYOxwlYGvOgPAvffeO+LnA/9WW1vrTEE94nWoh1NMvS4ROtcFQzi8\\\n",
       "IxLc4kR76dx/TWZqu6geWCRa76pflwgd7g86lDEeU8c5qYl7gCXZv38/5s6di7/5m79BVVUVDh8+\\\n",
       "jKuvvjrqHuDm5mbMmTMHV1xxBf70pz+NeK/Tp08jIyMDEyZMQEdHh3CZVN5jEO4Ko2pfFRoON2i9\\\n",
       "L2g4U69LhG51ofP+KZ2J7v16eP7DWP/Ketvns9peuvVfvzClXXTb82i13nW7Lqt0uD/oUEarTBnn\\\n",
       "saj8fO4XXABL0N/fj/nz56O1tRUtLS2YOHFi3AXw888/j7vvvhtz5sxBU1NT1PecMGECTpw4gZMn\\\n",
       "T2LsWLHfznGAEVmn24PbwfBBrHpxFZram9B7vhepo1Ixd+pcbCjcgFmTZwm9pxeBNaIPbWW3lOGJ\\\n",
       "V5/Qpr1ITbL7vFchbqow6boGt2VHdweajjUhAuuPzG7PN7rdw/yMz+feG+11AUzwrW99C7/61a9Q\\\n",
       "XV2NiRMnJnx9V1cXAOCyyy6L+ZrLL78cJ06cQFdXV8IF8MBAGu6NN97ANddck7A8RHQphGNz02bL\\\n",
       "x3gRwtFxpgMLtixAy/GR6fL1rfW44ckbkDspF40ljRg/Zryl9+zu68bKbStR01wz4uGpvrUeX274\\\n",
       "MorzirFp6SbpXzsTDW7Ze3SvFu1FapLd5+2+XzKBRaotFAcz4britaUdbs83utzDiFTAPcBJamtr\\\n",
       "Q3l5OQoKCrB8+XJLxwx86B4IBBK+hojco3oIR8eZDuR8Myfq4newlndbMPMbM9FxJvEWCq8Da5IJ\\\n",
       "blG9vUhNsvu8KiFuKtD9uqy0pRVezTecE4ms4QI4SV/4whfQ29uL73znO5aPGfhE9/Tp0zFfc+bM\\\n",
       "GQBARkZGwvd7/fXXo/7HT3+J7FE9hGPBlgXo7Om09NrOnk4sqF6Q8HVeB9YkE9yienuRmmT3eVVC\\\n",
       "3FSg+3XZactovJ5vOCcSWcM9wEkKBAIYP348Zs+ePeTfz549i1/+8pdIT0/HzTffDAD42c9+hoyM\\\n",
       "DMshWOPHj0/qbwFzjwGRONVCOPaH92P2k7MTv3CYAw8eiLknWIU9Y7L2DKrWXqQm2X1e1RA3r+i8\\\n",
       "B1ikLQMIYM7UOZiYPlG5+YZzorr4fO49LoCTFO9rzMO99957GD9+PLq7uzFhwgT09PSgra0N06dP\\\n",
       "H/K6l19+GbfeeituvfVW7Nol/ptIDjAidzkZIhV6JoTtb263f1xOCHXL6qL+TIWHVRUW4SaK1Rfv\\\n",
       "+sBdeO53z7kadKYS2X3etBC3ZOcwncezzF/GuR0mSHrh87n3GIKVpFi/P4iXAp2eno7FixfjhRde\\\n",
       "wLPPPouHHnpoyM+fffZZAMDHPvYxR8pMRHK5ESLV1B49MT6Rvcf2xvyZCoE1DG6RK1FfXLtj7Yhj\\\n",
       "nA46U4nsPm9KiJusOUzn8Zxs3/AyTJCI7OEeYI+sXr0aAPDVr34Vv//97y/+e2NjIyorKzFu3DiU\\\n",
       "lJR4VTwissitEKne873Sj1MlsIbBLXIkE+DjZNCZSmT3eRNC3GTPYapcl13JtKXXYYJEZA8XwB5Z\\\n",
       "smQJVq5ciePHjyMvLw/33HMP7rzzTtx6663o6+vDli1bkJWV5XUxiSgBt0KkUkelSj9OlcAaBrfI\\\n",
       "kWyAD+BM0JlKZPd5E0LcZM9hqlyXXcm0pddhgkRkDxfAHvrGN76B6upqXHfddaivr8err76K22+/\\\n",
       "Hbt27cInP/lJr4tHRAm0d7WjprnG1jHVzdUId4Vtnyt/Sr7tYwBg7tS5MX9m9VOa4RbNXCR0XDzp\\\n",
       "wXRUFlWibVUbKhZXIJQTwrzp8xDKCaFicQXaVrWhsqhSmYdl1Yj0xVhE+6gOZPf5ZN/P637v1Bzm\\\n",
       "9XWJEG3LuVPnunYfICI5GIJlMG6yJ3KWmyFSpqZAkxyifTHm+ymQyusEVVKgVRlDKgThDedViJSq\\\n",
       "id5u1gcDvNzB53Pv8RNgIiJByYSm2HXj5BuROzHX1jG5k3JjLn6BS4E1dqgSWENDJfvV5+FE+qgO\\\n",
       "ZPd53ceQm3NYIt193SitLUX2xmyU7yxHfWs99hzZczG8LXtjNlbUrsDZc2elnxsQb8t4QYPxJKpD\\\n",
       "N+vD67onchsXwEREgtwOkXrl/leQmZZp6bWZaZloLGlM+DpdA2toKNnBZLLfTyWy+/z629fbGpfr\\\n",
       "l9j/tNApqgThqRIiJdI3nKhDN+tDlbonchMXwEREgtwOkcq6LAutX2pF7qT4nwTnTsrF4YcOY/yY\\\n",
       "8QnfU9fAGhpKdjCZ7PdTiew+X/ZSGTp7Oi2du7OnE2Xby2yX2SmqBOGpEiIl0jecqEM360OVuidy\\\n",
       "ExfARESCvAiRyrosC4e+eAgHHjyAUE4IWelZyEjNQFZ6FkI5IRx48AAOffGQpcXvAB0Da2go0b4Y\\\n",
       "ixNBZyqR1efdDMJzggpBeKrVod2+IbsO3awP1eqeyC0MwTIYN9nrT+dACtGy63TNugfgkDlE+mIs\\\n",
       "OvZRr+YNFUOk7FBhDtOxDgf3t+Pdx7Hv2D5EYP1xOl4dulkfOta9Cfh87r3RXheAiEbq7uvGym0r\\\n",
       "UdNcM+LBpL61Hl9u+DKK84qxaekm5T6VEy27jtc8EJqyuWmz5WNUCsAhc4j0xVh06qNezxvJhEip\\\n",
       "sIBQYQ7TqQ7j9Tc74tWhm/WhU90TycSvQBMpRudACtGy63zNDJEiVdjpi7Ho1EdVmDdUCZFKhtdz\\\n",
       "mC51aKW/WZGoDt2sD13qnkg2LoCJFKNzIIVo2XW+ZoZIkSqs9MVYdOyjKswbqoRIJcPrOUyXOrTT\\\n",
       "36KxWodu1ocudU8kG78CTaQQ0UCKdbet8/wri6Jl/7ub/07bax4wEJqy7rZ1qNpXhYbDDcrvXyYz\\\n",
       "JeqLd33gLjz/v89r30dVmSsLZhSgvrXe9nGqhYx5OYfpUIci/S2AAPKn5iMrPctWHbpZHzrUPZET\\\n",
       "GIJlMG6y14/OgRSiZV9y9RJsf3O7/fMpcM3kTzoFtZlKlblShRAp3YnUoejiUpSb/c3NPsX+6w0+\\\n",
       "n3uPX4EmUkgygRReEy17U3uT0HEqXDP5S3dfN0prS5G9MRvlO8tR31qPPUf2oL61Hmt3rEX2xmys\\\n",
       "qF2Bs+fOel1U46kyVw6ESNmhU8iYG0TqMIII9h7b69rYc7O/udmn2H/Jr7gAJlKIzoEUomXoPd/r\\\n",
       "6vmIRKgQuESXqDRXeh0iZYJkA9xMCztzs0+tv309MtMyLb02My0T65esFz4XkSq4ACZSiM6BFKJl\\\n",
       "SB2V6ur5iESoELhEl6g0V3odImWCZALcBjMl7MzNPlX2Uhk6ezotvbazpxNl28uEz0WkCi6AiRQi\\\n",
       "+htwFQIpRMuePyVf6DgVrpn8QTRwKdwVdqZApNxcORAi1baqDRWLKxDKCWHe9HkI5YRQsbgCbava\\\n",
       "UFlUycVvHNHqMH9qPgII2HofJ8aeF/3NjT7FuY38iiFYBuMme/3oHEghWva9pXsx96m5Wl4z+YOM\\\n",
       "ABwGZ8ml81xJ1jkdPmV1XJra31QJk/MbPp97j58AEylE50AK0bLfMPkGba+Z/CGZABwGZzlD57mS\\\n",
       "rHMqfMruuDS1v6kSJkfkNi6AiRSjc6CKaNl1vmYyn2iQTWdPJ4OzHMR5w3xOhE+JBtqZ2N9UCpMj\\\n",
       "chMXwESK0TlQRbTsOl8zmU80yObtk28zOMtBnDfM50T4lGignYn9TaUwOSI3cQ+wwbjHQH/hrjCq\\\n",
       "9lWh4XCDdvsGRcuu8zWTmUT3yaUEUtAf6bf8eh32DKqK84aZyraX4fFXHrd93CO3PILHbn9sxL/L\\\n",
       "2strSn/jHmBv8Pnce1wAG4wDjMhcuocq6VR+kYdmu4vfAXywJBl0Gl/xlNWX4fFX5S2AueAbystw\\\n",
       "L1P6qAg+n3uPC2CDcYARmae7rxsrt61ETXNN1IeWYEoQxXnF2LR0k5JfwdO1/KW1pdjctNny66eN\\\n",
       "nYa3T71t+zyhnBDqltXZPo4I0Hd8xVK4tRD1rfW2j4s1jmS/nwnszm2l+aWoLKoUPp9pfVQEn8+9\\\n",
       "xz3ARESaEA1vUYXO5bcbgDNt3DSh8zBchkTpPL5ikR3SxNCnkdwM9zKxj5KeuAAmItKEaHiLKnQu\\\n",
       "v90AnMy0TKHzMFyGROk8vmKRHdLE0KeR3Az3MrGPkp64ACYi0kB7VztqmmtsHVPdXI1wV9iZAtmk\\\n",
       "e/mBCw+KlUWVaFvVhorFFQjlhDBv+jyEckKoWFyBtlVtqCyqxJjRYyx/ojLcopmL5BaafMGE8RWN\\\n",
       "7HGUPyVf6P1uuvImoeN0YWduE2VqHyU9jfa6AES6USW4QaQcOpfd76qaqmwFlQAXvkpWta9KifAW\\\n",
       "0fLfsuUWFM8pVqpvTM6YjDUL18St15L8Ejy661Hb4TIlc0qG/BvHClmh6vyQbP+VNY4uClh+myH+\\\n",
       "4zf/gdeOvmb82LMyt4lStY+SPzEEy2DcZC+XKsENIuXQuex0ge7hLaLlH6Bj30gmXIZjhexQbX6Q\\\n",
       "2X9lhjQlOw8BHHuiVOujXuLzuff4FWgiC1QJbhAph85lp0t0D29Jthw69g3RcBmOFbJLpflBdv+V\\\n",
       "GdIk43o59sSo1EeJuAAmskCV4AaRcuhcdrpE9/AWWeXQqW+IhstwrJBdKs0PsvuvzJAmmdfLsWeP\\\n",
       "Sn2UiAtgogRUCW4QLUf1vmrbx6hSdoZfXKJ7qJJo+aPRqW/YDZfhWCERqswPTvVfWSFNMuchgGPP\\\n",
       "DlX6KBHAPcBG03GPgYqBLxW7K1C+s9z2cdnjspE7KVda+UXLIXSuxRVSQydEyy6jHCr2KRHtXe24\\\n",
       "auNVtsNg2la1KXGdIuWPR3YfVYWXY0VnOoxzJ8uoyvygyv0yFtnzEODt2NOh3w9QpY+qQMfnc9Nw\\\n",
       "AWwwnQaYyoEvqoRmyCiHVbJDJ7wIv1C5T4mSGQbjBbvlj8fEYBSAQTF26TDO3SqjCvODKvfLeGTO\\\n",
       "Q4A3Y0+Hfh+NCn1UBTo9n5uKX4Emz6ke+KJKaIabQRCyz+V2+IXqfUqUzDAYL9gpfyKmBqMwKMY6\\\n",
       "Hca5m2VUYX5Q5X4Zj8x5CHB/7OnQ72NRoY8SAVwAkwJUD3xRJTTDzSAI2edyO/xC9T4lSmYYjBes\\\n",
       "lN8qU4NRGBRjnQ7j3M0yqjA/qHK/jEfmPAS4P/Z06PexqNBHiQAugMljOgS+qBKaIbsc8cgOnXAz\\\n",
       "/EKHPpUMWWEwXhle/msmXCP0PqYGozAoxhodxrkXZfR6flDlfplItHrKHpct9F5ujj0d+n0iXvdR\\\n",
       "IoB7gI2mwx4DVQNfBgdLdHR3oOlYEyKQN1REyu9EeEc0ToROuBl+oUOfUj2sxE0MRhnKy/rQqY+q\\\n",
       "Os6HnEuDMsqmc8iUDmPPj33KRDo8n5uOnwCTp6x+jWe4hsMNcgvyZ9193SitLUX2xmyU7yxHfWs9\\\n",
       "9h7bK3XxC4iVf0rGFCzPWy61HNEU5xVLf9gVKbtoOXToU3uO7EF9az3W7liL7I3ZWFG7AmfPnXXk\\\n",
       "/Kpzs2/owIv60LGPqjbOo9GhjLI5cZ9yqz50GHt+7FNETuACmDylUuCLlWAJWUTLLzu8YzgnQyfc\\\n",
       "Cr/QrU+pGlbiJgajDOVmfejaR1Ua57LPpXugmc4hU6qPPb/2KSLZuAAmT6kU+GInWCJZouWXHd4x\\\n",
       "wI3QCbfCL3TtU6qFlbiJwShDuVkfuvZRlca57HPpHmimc8iU6mPPr32KSLbRXheA/K1gRoHQ3wyU\\\n",
       "HTohEiyRjGTKPxAgse62dajaV4WGww1oebcFbSfbbL/X+ye8H8Vzil3b4xet7LL3Gurcp6qbq7Hu\\\n",
       "tnXGfr03Hjf6hk7cqA+d+6gq4zweHcroFJn3KbfrQ+Wx9/D8h33bp4hkYgiWwXTYZK9KAI5osIQI\\\n",
       "VUKmAghg4VUL8dH3f9SoxYXufcovYSU6BS6ZSuc+qso4j0eHMrpJRn3InjcOhg9i1Yur0NTehN7z\\\n",
       "vUgdlYq5U+diQ+EGzJo8y/b7WS2j6NgrW1CGJxqfYJ/SnA7P56bjV6DJU6oE4Lj11WdAnZCpCCLY\\\n",
       "/cfdyobciNK9T5keVqJj4JKpdO6jqozzeHQoo5uSqQ/Z80bHmQ5c9+3rcMOTN2D7m9vR0d2Brt4u\\\n",
       "dHR3oL61Hjc8eQOu+/frcOLsCctltVNG0bG399he9ikiCbgAJs+pEIDjVkCEKiFTw6kYcpMMnfuU\\\n",
       "yWElugYumUr3PqrCOE9EhzK6af3t65GZlmnptZlpmVi/ZL30eaPjTAdyvpmDluMtcV/X8m4LZn5j\\\n",
       "JjrOdCQsq90ydvZ0JnzPaE71nmKfIpKAC2DynAoBOE4HRKgSMpWISiE3ydC5T5kcVqJr4JKpdO+j\\\n",
       "KozzRHQoo5vKXiqzvPjr7OlE2fYy6fPGgi0LbJVhQfWChK+zW8a3T75t6bXDjU0dyz5FJAH3ABtM\\\n",
       "xz0G4a6wJwE4TuwBzh6XjdxJuZ7saxyoxxffeBEvv/Wyrb9jbNp+Id36lAr7K53A/ZDqMamPejXO\\\n",
       "7dChjE4SnQMikQjORc7ZOibWvLE/vB+zn5xt+b0GHHjwQMw9wSLXlRJIQX+k33Y5ho89v/cpXen4\\\n",
       "fG4aLoANxgFmncgNLB5VHtxNesDVjY4LPieDqXTri34I6dKxj5K+3AybjDVvhJ4JYfub222/Xygn\\\n",
       "hLpldRf//+D5QTTd2u4imGPPHHw+9x6/Ak0EsXCOeFQJndA55EZ3OgXguBFMpUtf9FNIl059lPTn\\\n",
       "ZthkrHmjqb1J6P32HtsLIPr8ILL4BYCpGVNtvZ5jj0geLoCJ/iyZEKnBVAqd0D3kRnc6hJW4FUyl\\\n",
       "Q1/0Y0iXDn2UzODmWI51rt7zvULv13u+19L8YMe0cdM49og8wgUw0Z9ZCZZIQQpSAtGHjYqhE7qH\\\n",
       "3OhOh7ASt4KpdOiLfgzp0qGPkhncHMuxzpU6KlXo/VJHpdqaH6zITMvk2CPyyGivC0A0mNf77tKD\\\n",
       "6agsqsS629bFDJYAoE3oRMGMAtS31ts+btHMRUP+v9ftootY9bTutnVx+5RXddje1Y6a5hpbx1Q3\\\n",
       "V2Pdbetsl1lWXxRhpf+6WReqsTLvqX6NnKPkcLIeRecAEbHmjfwp+UJ7gGddMcv2/JDIopmLLD9z\\\n",
       "PPHqE+zbRBIxBMtgOm2y7+7rxsptK1HTXBP1q0XBlCCK84qxaekm/hbUhmRDbtgu1uhaT24GU3kR\\\n",
       "uGSnXZ549QmtQrroAl3HnmrcqEedU6D//sN/j2/9+lu2j4vFytzGvm0unZ7PTcWvQJPn/Ljvzi3J\\\n",
       "hNywXazRuZ7cDKZyO3DJbrvsPLxT6DwMjPOOzmNPJW7Vo+gcUDyn2PYxseaNGyffiNyJubbeL3dS\\\n",
       "LlqOt9g6JpFEcxv7NpGzuAAmz/lx352bRENu2C7W6FxPbgdTuRm4ZLddDvzpgNB5GBjnHZ3Hnkrc\\\n",
       "rEeROUD2vPHK/a8gMy3T0vtlpmWisaRR6ji3Ukb2bSJncQFMnhLddxfuCjtTIAOJhNywXazRvZ7c\\\n",
       "DqZyK3BJpF3eOf2O0LkYGOcN3ceeKtyuR5E5QPa8kXVZFlq/1IrcSfE/Cc6dlIvDDx3G+DHjpYxz\\\n",
       "q2Vk3yZyHkOwyFNVTVW2/5xAX38fqvZVcd+dDXZDbtgu1qhaT1aDbLwIpnIjcEmkXSIQi8OQEdJF\\\n",
       "Q1npv6Jj78ObP4zcSbkMEfozL+YwkTlA9ryRdVkWDn3xEA6GD2J13WrsPbYXved7kToqFXOnzsWG\\\n",
       "wg2YNXnWxdeLzpXZ47Jt9zdV7ytEJmEIlsF02GRfuLVQ6KYSygmhblmdAyUigO1ilWr1ZDc0xYtg\\\n",
       "KjeItksAAVsLYR3qQid2+u9d378r6URhhgipN4epys25km1iPh2ez03Hr0CTp9zeg0jWsF2sUame\\\n",
       "REJT3A6mcoto/V5x+RW2Xq9DXejCbv/t7OlM+pwMEVJrDlOZm3Ml24TIeVwAk6fc3oNI1rBdrFGp\\\n",
       "nkRDU9wMpnKLaP3OumKWcXWhC7v99+2Tb0s7t59DhFSaw1Tn1lzJNiFyHhfA5CmrN5PhuO/OWWwX\\\n",
       "a1Spp2RCU9wKpnKTaLvcnnO7cXWhA5H+e6zrmNQy+DVESJU5TAduzZX5U/OFjrvpypuEjiPyI+4B\\\n",
       "NpgOewy83INoNSjIj0zdGyqbKvVUsbsC5TvL7R+3uGJIaEq4K+xYMJWbZLSLKXWhA9H+mxJIQX+k\\\n",
       "X145ho0HVTh5r1JlDtPNwfBBrHpxFZram+KGZ4koqy/D468+bvu4R255BI/d/lhS59aBk3XvFh2e\\\n",
       "z03HBbDBdBlgpbWl2Ny02frr80tRWVQpfD67QUF+5Xa76EqFemJoykgqtAtZI9p/p42dhrdPyfsq\\\n",
       "tGrjwa17FceKdW60Cefz6DrOdGDBlgVoOd4S8zW5k3LRWNKI8WPGu1cwAbo8n5uMX4Emz7m5B1Ek\\\n",
       "KMivTNwb6oT1t69HZlqmpddmpmVi/ZL10svA0JSR2H/1IdoPp42bJvwVXpnlcIKb9yqOFWvcahPO\\\n",
       "5yN1nOlAzjdz4i5+AaDl3RbM/MZMdJzpcKlkpCsugMlzbu5BFA0K8iMT94Y6oeylMsuJtJ09nSjb\\\n",
       "Xia9DAxNGYn9Vx+i/TAzLTNhG7tRDie4ea/iWLHGrTbhfD7Sgi0LbN1nF1QvcLhEpDt+BdpgOn7F\\\n",
       "wsl9d9zrJI77IaNTpU/J2gNsKvZftcnov4PbuOXdFrSdbEvq/bzkdTYGx8pIbrYJ5/Oh9of3Y/aT\\\n",
       "s20fd+DBA8ruCdbx+dw0XAAbTMcB5mTYB28qJJsqfUqVhbhfMEBPLtn9V/fxoMq8Qpe42Sa691/Z\\\n",
       "Qs+EsP3N7faPG7QnWrU5W8fnc9PwK9CkhO6+bpTWliJ7YzbKd5ajvrUee47sQX1rPdbuWIvsjdlY\\\n",
       "UbsCZ8+dFT6H1a8uDddwuEH4nGQ2VfrUlIwpWJ633NYxxXnFRj4sOcmNecqPZPdf3ceDKvMKXeJm\\\n",
       "m+jef2Vram8SOm7vsb2csykmLoDJcwyWIF2p1KcYZOMsBug5S3b/1Xk8qDSv0AVut4nO/Ve23vO9\\\n",
       "Qsf1nOvhnE0xcQFMnmOwBOlKpT7FIBtnMUDPWbL7r87jQaV5hS5wu0107r+ypY5KFTruXP85ztkU\\\n",
       "02ivC0D+1t7VjprmGlvHVDdXY91t62x/3adgRoHQ39ZbNHOR7WPIH1TrU+nBdFQWVWLdbesYZCOR\\\n",
       "m/OUn8nuv7qOB9XmFfKmTXTtv7LlT8kX2gNs95Njztn+whAsg+mwyZ7BEqQz9il/EJ2nssdlI3dS\\\n",
       "rhEPq6qFyJiM84p62CbeEU2BFuFWkJwOz+em41egyVMMliCdsU/5g+g81XayTfuwFYbIuI/zinrY\\\n",
       "Jt65cfKNyJ2Ya+uYy4KXCZ2LQXL+wQUweYrBEqQ79inzyQgX0jFshcFf3uG8oh62iXdeuf8VZKZl\\\n",
       "WnptZlomPnTFh4TOwyA5/+ACmDzFYAnSHfuU+WSGC+kUtsLgL+9wXlEP28Q7WZdlofVLrcidFP+T\\\n",
       "4NxJuTj80GFMGDNB6DwMkvMP7gE2mA57DNzcAzxcuCvs62AJko99ykyi81QsOuwN5J5HdXBeUQ/b\\\n",
       "xDsHwwexum419h7bi97zvUgdlYq5U+diQ+EGzJo8C4C3z5ZW6PB8bjougA2mwwDjQxaRP+kUqiQy\\\n",
       "TyVi9UHLq3pS/QHSNDqNB9KD3/rU4Os93n0c+47tQwTWlzhuPlvq8HxuOi6ADabLACutLcXmps3W\\\n",
       "X59fisqiSgdLRERO6e7rxsptK1HTXBN1QRlMCaI4rxiblm5S6iuEduepREI5IdQtq4v5c6/rqXBr\\\n",
       "odCffUl0XTSU1+1M5vFbn0p0vVa5+Wypy/O5ybgHmDzHYAkif9A5VMnOPGVFvLAVFerJ7YBCP1Kh\\\n",
       "ncksfutTVq7Xisy0TKxfsl5iyUh1XACT5xgsQeQPOocqWZmn7IgXtqJCPbkdUOhHKrQzmcVvfcrO\\\n",
       "9cbT2dOJsu1lEkpEuuBXoA2m41csGCxBZCaT9vsPnqda3m1B28k22+8Ra6+sKvXEPcDOUqWdyRx+\\\n",
       "61Oysxm4B9hf+AkwKWVyxmSsWbgGdcvq0FjSiLpldVizcI2WkzPRYOGuMCp2V6BwayHmV81H4dZC\\\n",
       "PPbyYwh3hb0umiuqmqpsP6j09fehal+VQyUSN3ie+tUDv7L9iXAwJYiSOSVRf6ZKPZXkl0i9LhpK\\\n",
       "lXam2HSbs/3Wp0SuNx6d64Ls4wKYiMhB3X3dKK0tRfbGbJTvLEd9az32HNmD+tZ6rN2xFtkbs7Gi\\\n",
       "dgXOnjvrdVEdJfo1tYbDDXILItmUjClYnrfc1jHFecUxf6mnSj3Jvi4aSpV2ppF0nbP91qdkfPV5\\\n",
       "OF3rguzjApiIyCF+CySJx+RQJZlBfirVEwMKnaNSO9MlOs/ZfutTTpRb17og+7gAJiJyiN8CSeIx\\\n",
       "OVRJZpCfSvXEgELnqNTOdInOc7bf+pQT5da1Lsg+LoAlam9vx6pVq/CBD3wA6enpyMrKwty5c/FP\\\n",
       "//RPUV//zDPP4Oabb0ZGRgaysrJw55134tVXX3W51ETkhPaudtQ019g6prq5Wtn9ZckS/RNCi2Yu\\\n",
       "klsQh6QH01FZVIm2VW2oWFyBUE4I86bPQygnhIrFFWhb1YbKosqEi0TV6knWddFQqrUz6T9n+61P\\\n",
       "yfyzdANuuvIm6e9JamIKtCSNjY248847ceLECXzoQx/CrFmzcOrUKfz2t7/FkSNHcO7cuSGvX716\\\n",
       "NTZu3Ij09HQUFhbi7NmzeOmllxCJRPCjH/0IH//4x5MuE1PmLgh3hfF009PY9dYuJktT0uL1JwAX\\\n",
       "fyYjHdjquez0a6/Gg9MJpaaMc78lufoV21k9uief+22OlZ0CDQCP3PIIHrv9MWnvFwufz73HBbAE\\\n",
       "R48exfXXX4+enh7853/+54jF669+9SvcfPPNF///jh07cPvtt2PixIlobGzEtddeC+DCInrRokVI\\\n",
       "T0/Hm2++iQkTJiRVLr8PsO6+bqzcthI1zTVRJ8hgShDFecXYtHQTP72ghBL1pwACCAQC6I/0J3We\\\n",
       "UE4Iz336OeFzxerXKoyH0tpSbG7abP31+aWoLKqM+xoVrks2J+qJ1MN2Vkvh1kLUt9bbPi6UE0Ld\\\n",
       "sjoHSmSf3+ZYu9ebiFtt6ffncxXwK9ASlJWV4cSJE/ja174W9ZPbwYtfAHjiiScAAOXl5RcXvwAw\\\n",
       "f/58PPjgg+js7MSWLVucLbThdA6yIPVY6U8RRJJe/AJAZ09nUueK1q9VGQ+yQ5VUuS7ZGD7lD2xn\\\n",
       "tZgQIrX+9vXITMu09NrMtEysX7I+7mtUn2PtjCErVGpLchYXwEl677338F//9V/IzMzE5z//+YSv\\\n",
       "H/iqMwDce++9I34+8G+1tbVyC+ozOgdZkHrs9KdkvX3ybSnnGtyvVRkPskOVVLku2Rg+5Q9sZ7WY\\\n",
       "ECJV9lIZOns6Lb22s6cTZdvL4r5G9TnWyhiyQ6W2JGfxK9BJ+tnPfoaioiL8xV/8BZ577jn85Cc/\\\n",
       "wS9+8Qv09fUhNzcXf/VXf4XJky/tjWhubsacOXNwxRVX4E9/+tOI9zt9+jQyMjIwYcIEdHR0JFU2\\\n",
       "v37FgnurSCYn9hnFkxJIkfJJMnChX+8t3Yu5T81VbjyEu8Ko2leFhsMNQvvJ/DLOk60n0gPb2Xvc\\\n",
       "A+zs+zlt8BiSkcHhJL8+n6tktNcF0N1A5508eTIWLlyIxsbGIT9/5JFHUF1djb/8y78EAPzxj38E\\\n",
       "AEyfPj3q+11++eUYP3483nvvPZw6dQpjx/K3UXZVNVXZXqz09fehal+VEjcxUotIf0qGrMUvcKFf\\\n",
       "r65breR4mJwxGWsWrhE+h1/GebL1RHpgO3uvJL8Ej+561PaCbyCU0Guy50Td5tjBY0h08a5KW5Lz\\\n",
       "+BXoJL333nsALvxJo/3796OqqgrvvPMO3nzzTaxevRqnT5/GZz/7Wezfvx8A0NXVBQC47LLLYr7n\\\n",
       "5ZdfPuS1iVx//fVR/3vjjTeSuTRtiX59tOFwg9yCkBHc+uqzU5qONQkdp/p44DgnIpmmZEzB8rzl\\\n",
       "to4pzitW5hN62XOiznOs7m1JzuMCOEnnz58HAJw7dw4bNmzA/fffj0mTJmHmzJl44okncO+996K3\\\n",
       "txdf+9rXAAAD3zgPBAIx35PfSk+OCUEWpA7d+0Xv+V6h41S/bo5zIpJN52Ay2XOi7nOszm1JzuMC\\\n",
       "OEkDX1FOSUnB5z73uRE/v//++wEADQ0NQ15/+vTpmO955swZAEBGRoalMrz++utR/7vmmmssX4dJ\\\n",
       "TAiyIHXo3i9SR6UKHaf6dXOcE5FsOgeTyZ4TdZ9jdW5Lch4XwEmaOXMmAGDKlClIS0uL+fOBwKur\\\n",
       "rroKAHDkyJGo73f69GmcOHEC48eP5/5fQaKR+ItmLpJbEDKCzD+x4IX8qflCx6k+HjjOicgJ6cF0\\\n",
       "VBZVom1VGyoWVyCUE8K86fMQygmhYnEF2la1obKoUrkFk+w50YQ5Vte2JOcxBTpJBw4cwI033oj0\\\n",
       "9HScPn16xFebf/GLX2DhwoUXU527u7sxYcIE9PT0oK2tbUQY1ssvv4xbb70Vt956K3btSm7voV9T\\\n",
       "5nRLLiS1uZkCPTowGoFAQNq5VE6BThbHORFZFe4K4+mmp7HrrV3GpmyrmALth3oX4dfnc5XwE+Ak\\\n",
       "3XDDDbj66qvR3d2NX/7ylyN+PvDV5/z8C5/CpKenY/HixQCAZ599dsTrB/7tYx/7mEMlNh/DD0gm\\\n",
       "kf4k6v4590s9V3FeMW6YfIOR44HjnIgS6e7rRmltKbI3ZqN8ZznqW+ux58ge1LfWY+2OtcjemI0V\\\n",
       "tStw9txZr4uaNNlzYjLv56d6Jz3xE2AJKisr8eCDD+LDH/4wfv7zn2PSpEkAgL1792LJkiU4ceIE\\\n",
       "fvSjH+Hee+8FAGzfvh2hUAgTJ05EY2Mjrr32WgBAY2MjbrvtNqSlpeHNN99EVlZWUuXy82+Yuvu6\\\n",
       "sfQ/l1pKMSyYUcD9HxSXnf4kaqAfRiIRKeca3K9NHQ+mXhcRJc/u/PDCfS8gPZjuQsmcI3tOFHk/\\\n",
       "O/cwU+rdLj8/n6uCnwBL8MADD+Av//Iv8etf/xof/OAHUVRUhNtuuw3/3//3/+HEiRN44IEHLi5+\\\n",
       "AWDJkiVYuXIljh8/jry8PNxzzz248847ceutt6Kvrw9btmxJevHrdww/IJms9KcUpCAlEH1KTQmk\\\n",
       "ICXGdDu8HyZ7rmj92tTxYOp1EVHyVm5bafkXibve2oWHtj3kbIFcIHtOFHk/P9Y76YefAEvS39+P\\\n",
       "J598Ek8//TR+97vfIRAIYPbs2XjwwQexbNmyqMfU1NTg29/+Ng4dOoRgMIh58+ahvLwct9xyi5Qy\\\n",
       "8TdMF4S7wqjaV4WGww3cg0JJi9efAAj9LFY/FD1XvH5t6ngw9bqIyD5mBMifE628H+vdGj6fe48L\\\n",
       "YINxgIljcIN1rKtLWBdDidSHH+vQj9fsJt3rV/fye6FidwXKd5bbP25xBdYsXONAifyB9W4Nn8+9\\\n",
       "xwWwwTjA7Ovu68bKbStR01wT9TeYwZQgivOKsWnpJt9/nZJ1dQnrYiiR+vBjHfrxmt2ke/3qXn4v\\\n",
       "FW4tRH1rve3jQjkh1C2rc6BE/sB6t4bP594b7XUBiFRhJeyhr78PTzU9hd8d/50vgxsGsK4uYV0M\\\n",
       "JVIfAHxXh+w3ztK9fnUvv9dO9Z5y9Ti6gPVOumAIFtGfMbjBOtbVJayLoUTqw4916MdrdpPu9at7\\\n",
       "+b02NnWsq8fRBax30gUXwES4ENxQ01xj65jq5mqEu8LOFEhhrKtLWBdDidZH9b5q28foXIfsN87S\\\n",
       "vX51L78KCmYUCB23aOYiuQXxGdY76YILYHJMuCuMit0VKNxaiPlV81G4tRCPvfyYkjfpqqYqW6mF\\\n",
       "wIWvn1Xtq3KoROpiXV3il7qwOpZF6+Nc5JztY3Srw8F07Dfx+oBqc72O9TuY7uVXQUl+Scw/2xNL\\\n",
       "MCV4MWGfxLDeSRdcAJN03X3dKK0tRfbGbJTvLEd9az32HNmD+tZ6rN2xFtkbs7GidgXOnjvrdVEv\\\n",
       "svpVs+EaDjfILYgGWFeXmF4XdseyaH2I0KUOo9Gp3yTqA1duuBJXPnGlUnO9TvUbje7lV8GUjClY\\\n",
       "nrfc1jHFecVM1U4S6510wQUwSTUQ3LG5aXPM32APBHfc8d070N3X7XIJo2Nwg3Wsq0tMrguRsezm\\\n",
       "delQh7Ho0m+s9IH+SD/60R/1Z17N9brUbyy6l18Vm+7YZPkruQUzCrBp6SaHS+QPrHfSARfAJJWu\\\n",
       "wR0MbrCOdXWJyXUhMpbdvC4d6jAWXfqNnT4Qj9tzvS71G4vu5VdFejAdL9z3AkrzS2N+LTeYEkRp\\\n",
       "fim2fXYb/5SUJKx30gEXwCSNzsEdDG6wjnV1ial1ITqW506d60yBolC9DuPRod+I9IF43Jzrdajf\\\n",
       "eHQvv0rSg+moLKpE26o2VCyuQCgnhHnT5yGUE0LF4gq0rWpDZVElF2GSsd5JdYFIJBLxuhDkDLf/\\\n",
       "0HbF7gqU7yy3fVz2uGzkTsrFopmLUDKnxJO9IO1d7bhq41W2gkeCKUG0rWrz3d4V1tUlXtZFuCuM\\\n",
       "p5uexq63duFU7ymMTR17cQwBiPkzK+cVHctXZlyJY13HEIH120owJYhIJGIrCEv3/qTDGBLtA3Hf\\\n",
       "c3EF1ixcAyB+/032GnWo33h0Lz8Rxef28zmNxE+ASRrRr8q1nWzzPDSFwQ3Wsa4u8aIuEoUSTX1i\\\n",
       "Kq7ckFwokehYPtp11NbiF7hQH8Vzim0fo3N/0mEMORFo1nC4wZWQRB3qNx7dy09EpDougEkaGQEc\\\n",
       "XgZkMbjBuvW3r0dmWqal12amZWL9kvUOl8g7bvYbK6FEEUTQH0kulMitMJ2B+vDj2FP9mp3oA509\\\n",
       "na6FJKpev4noXn4iIpVxAUzSyAzg8CIgi8EN1pW9VIbOnk5Lr+3s6UTZ9jKHS+QdN/uNW6FETofp\\\n",
       "DK8PP4491a/ZiT7w9sm3XQtJVL1+E9G9/EREKuMeYIPpsgc4Fi/3NIW7wqjaV4WGww3S96fpjvvT\\\n",
       "YnOy34jUezzx2kT2WA4ggPyp+chKz0pYH34ceypesxN7gEcFRuF85Lzl18vcL69a/dqhe/mJaCju\\\n",
       "AfYeF8AGc3uAyX5AB4aGprjJyYAW3Yk+GHvVlqZwYkEyPIAOuBCeVddah5ffetn2ft542P7uSnYO\\\n",
       "kz2fpwRSYn41Px72G/IDPnP4CxfA3uMC2GBeDLDS2lJsbtos7f1COSHULauT9n6JdPd1Y+W2lahp\\\n",
       "ron64BdMCaI4rxiblm7y7VfOCrcWor613vZxbrelaUTr3aqUQAoQAfphf5FiBdvfHTLnMJnz+bSx\\\n",
       "0/D2qbdtH8d+QybjM4c/cQHsPe4BJqnsBHdY4VYYD2AtYMjLkC5ViLaJm21pIqfrrz/S79jiF2D7\\\n",
       "u0H2HCZrPi+YUYBp46YJHct+Q6biMweRd7gAJqmsBHfY4XQYz2B2Aoa8COlShWibuNmWJtK9/nQv\\\n",
       "vw5kz2FW5vOUQApSYjxKDA5pspoaPxz7DZmKzxxE3uECmKRLD6ajsqgSbavaULG4AqGcELLHZQu9\\\n",
       "16KZi+QWLob2rnbUNNfYOqa6uRrhrrAzBVKY6CdCbrWlqWR+s8ILbH9nOTWHRZvP502fh1BOCBWL\\\n",
       "K3B09VEcffho1J+1rWpDZVElxowew3mDaBA+cxB5i3uADabSHgMVk4MHh060vNuCtpNttt/DjwEt\\\n",
       "Trclw0CicyJkTpTdQCO/pIAD3vVf1cPpVLwHkFl0uneoPl7JWSo9n/sVPwEmV0zJmILlecttHVOc\\\n",
       "V+zITau7rxultaXI3piN8p3lqG+tF1r8AkDD4Qa5hdOAU20ZrV32HNmD+tZ6rN2xFtkbs7GidgXO\\\n",
       "njubROn1JVLvTpmaMdXW650ayyrxuv+K/n1ot+Ywle4BZBavx54I1ccrkem4ACbX2AlUKZhRgE1L\\\n",
       "N0kvg5XQCTv8GtAiuy0ZBmKN7JA5UdPGTfN8LKtEhf6rQzidCvcAMosKY0+EDuOVyGRcAJNrrASq\\\n",
       "DA5NcSLy307ohBV+DWiR3ZYMA7HGUigRUi78SSMHZaZlej6WVaJC/9UhnE6FewCZRYWxJ0KH8Upk\\\n",
       "Mu4BNpjKewzCXWFU7atCw+EG1/bqOLGHkvtxkm9L7g0UE6/eAVz8mej+9ngG93svxrJKVOm/uu0p\\\n",
       "9Hu/oeSpMvZElNWX4fFXH7d93CO3PILHbn/MgRKRm1R+PvcLLoANxgE2lOgDYiyq3Eh1p9uDu25k\\\n",
       "/+KH/X4oVfqvzosB3egUtmQyGWPPq7Ys216Gx18xZwEsUo9+Hkd8PvfeaK8LQOQWmV99BhjQIksy\\\n",
       "YSBcACc2ED60uWmzlPdjvx9Klf4r0s5sS3u6+7qxcttK1DTXjPhFQ31rPb7c8GUU5xVj09JN/Pq2\\\n",
       "C5IZe6vmrfK0LZuONQkd99rR1ySXJDkiY4LjiFTAPcDkGzLDIxjQIg/DQJwnKzyL/X4klfovQ6ac\\\n",
       "o2vYkslEx1BnT6fnbanSvCFKZExwHJEquAAm35ARHsGAFvkYBuI8S+FZgRSkxLglsN/HplL/ZciU\\\n",
       "c3QNWzKZ6Bh6++TbnrelSvOGKJExwXFEquBXoMk3CmYUoL613vZx2eOykTsp1zd7U9wm2i6LZi6S\\\n",
       "XxiDpQfTUVlUiXW3rbMUnuW3PVmiVOu/VtqZbWlPe1c7apprbB1T3VyNdbetY107SHTsHes6Zuv1\\\n",
       "TrSlavOGXSJjYsu+LQgEAraO4TgipzAEy2DcZD8UQ2LU5Jd28XPgRzQq1IeMMvil//qZKkFnqvJq\\\n",
       "LIuMvZRACvoj/bbPpWponVd1LztUNO65DBxHfD73HhfABuMAG6m0ttRWSExpfikqiyodLBEBZrdL\\\n",
       "vMAP4MJDjZ8CP1SoD9llMLn/ElC4tVDo07pQTgh1y+ocKJEaVBjLdsfetLHT8Papt22fx4m2TGbe\\\n",
       "8LruRceECBPHEZ/Pvcc9wOQrDIlRk6ntwsCPoVSoDyfKYGr/pQtMCCySTYWxDNgfe9PGTRM6j0qh\\\n",
       "dSrUvZt92+RxRN7hAph8hSExajK1XRj4MZQK9eFEGUztv3SBCYFFsqkwlgH7Yy8zLVPoPCqF1qlQ\\\n",
       "9272bZPHEXmHX4E2GL9iEV+4K8yQGAXJbhed9qeZvDdUhfpwowycV8zDPcBDqTCWo7Ey9kTb0ukw\\\n",
       "zHhlB3DxHna8+zj2HduHCKw/ujtR99wDnBw+n3uPC2CDcYCRn3m9R4oPzUOpUB8qlIH0o+qCzys6\\\n",
       "jyORthzOrdyGRPcwO1QI8RJh6jji87n3+BVoIjKOCnukrH5FbbiGww1yC6IIFepDhTKQfqZkTMHy\\\n",
       "vOW2jinOKzbuoX2AzuNIpC2Hc2Nvs5V7mB2y615GPVph8jgib3EBTETGUWGPFINzhlKhPlQoA+mJ\\\n",
       "QWeX6D6O7LRlPE7ubbZzD7PC6xAvEaaPI/IWF8BEZJT2rnbUNNfYOqa6uRrhrrDUcjA4ZygV6kOF\\\n",
       "MpCeGHR2ie7jyEpbWuXEvUPkHpaIVyFeIvwyjshbo70uAJnLq/Ah8reqpirbXxnr6+9D1b6qpPdI\\\n",
       "De7zLe+2CL3HopmLkiqDqgpmFAj93UiZ9aFCGfzEtHtAejAdlUWVWHfbOl8HnZkwjqK1Zcu7LWg7\\\n",
       "2WbrfWTdOwYTuYcl0vJuCwq3Fkrvp8Prccu+LXjjvTdsv4/TIWNEwzEEy2BebbL3OnyI/K1wa6HQ\\\n",
       "w1koJ4S6ZXVC55QVVmJq4AegRpCQCmXwA94DzGbqOPLi3iGzHFY5Of5M7RuyMQTLe/wKNEmlQvgQ\\\n",
       "+Zvb+9NkhpWYHPihQpCQCmUwHe8B5jN1HKmyt9npvdJOjj9T+waZhwtgkkqF8CHyN7f3p8kKK/FD\\\n",
       "4IcKQUIqlMFkvAf4g4njSJW9zW7tlXZq/JnYN8g8XACTNKqED5G/iaZSiuxPkxFW4qfADxWChFQo\\\n",
       "g6l4D/APE8eRm/cOJ8ohwonxZ2LfIPNwD7DB3N5jULG7AuU7y+0fJ/kPtJO/ubkHSbTPM/DjQkCS\\\n",
       "10FCKpTBJLwH6O9g+CBWvbgKTe1N6D3fi9RRqZg7dS42FG7ArMmzoh5jyjhSZf+qSDkCCGDq2Kk4\\\n",
       "euqo7fM5Of5M6RuycQ+w97gANpjbA0yVAAmi0tpSbG7abP31+aWoLKq0fR72eaJLOB701XGmAwu2\\\n",
       "LEDL8djp9bmTctFY0ojxY8a7VzCXuXXvcKIcb554k+NPE1wAe49fgSZpVAmQIHJrDxL7PNElHA96\\\n",
       "6jjTgZxv5sRd/AIX/pTOzG/MRMeZDpdK5j5V9q+KlIPjj8g6LoBJGlUCJIjc2oPEPk90CceDnhZs\\\n",
       "WYDOnk5Lr+3s6cSC6gUOl8g7quxfFSkHxx+RdaO9LgCZo2BGgdDXb2QHSBABFx4gKosqse62dY7t\\\n",
       "QWKfJ7qE40E/+8P7E37yO1zLuy04GD4Yc0+w7ty4dzhRDo4/Iuu4B9hgbu8xUCVAwkvhrjCebnoa\\\n",
       "u97a5WnggyrlMB37PNElfhkPJs2voWdC2P7mdvvH+WDfqG7t7JfxZwLuAfYeF8AG82KAqRIg4bbu\\\n",
       "vm6s3LYSNc01UW8+wZQgivOKsWnpJkcj/1Uph5/4tc8TRWPyeDBxfp34tYno6La/pzcrPQvH/+m4\\\n",
       "AyXyns7tbPL4MwkXwN7jAthgXgyw7r5uLP3Ppdj11q6Ery2YUWDE34Cze80v3PcC0oPpxpbDb/zY\\\n",
       "54liMXU8mDq/jv23sejq7bJ9XEZqBk49Yl54ku7tbOr4Mw0XwN5jCBZJpUqAhJtWbltp6WYDALve\\\n",
       "2oWHtj1kdDn8xo99nigWU8eDqfNr6qhUV49Tne7tbOr4I5KNnwAbzOvfMPnhD6CrsudGlXL4nR/6\\\n",
       "PJFVpowHk+dX7gG+xLR2NmX8mcjr53PiAthoHGDOq9hdgfKd5faPW1yBNQvXGFcOIiLTmDy/7g/v\\\n",
       "x+wnZ9s+7sCDBy6mQIuGRakWMmVyO5Na+HzuPX4FmigJVr8qNVzD4QYjy0FEZBqT59cbJ9+I3Im5\\\n",
       "to7JnZSLWZNnobuvG6W1pcjemI3yneWob63HniN7UN9aj7U71iJ7YzZW1K7A2XNnhxwvepzTTG5n\\\n",
       "IhqKC2CiJJzqFQsBET1O9XIQEZnG9Pn1lftfQWZapqXXZqZlorGk8WLY0uamzTG/MtzX34enmp7C\\\n",
       "Hd+9A9193QAgfJwbTG9nIrqEC2CiJIxNHevqcaqXg4jINKbPr1mXZaH1S63InRT/k+DcSbk4/NBh\\\n",
       "jB8zXjgsSuWQKdPbmYgu4QKYKAkFMwqEjls0c5GR5SAiMk3+1Hyh42668ibJJXFO1mVZOPTFQzjw\\\n",
       "4AGEckLISs9CRmoGstKzEMoJ4cCDB3Doi4cwfsx4tHe1o6a5xtb7VzdX40D4gNBx4a6wrWNE8T5K\\\n",
       "5B+jvS4Akc5K8kvw6K5HbadGlswp8bwcAQTw4h9evHC8ZmElRESu8VFU6KzJsxKmO1c1Vdm61wAX\\\n",
       "vta8um610HG3bLkFxXOKHb/fqHI/H473XyL5mAJtMKbMuaO0thSbmzZbf31+KSqLKj0vx2DBlCCK\\\n",
       "84qxaemmIX8XsLuvGyu3rURNc03Uh4JYxxERmaJwayHqW+ttH2finwoCxOsjKz0LHd0dwud1436j\\\n",
       "yv0c4P3XZHw+9x6/Ak2UpE13bLL81amCGQXYtHST5+UYTrewEiIitzAcaSjR6+o935vUed2436hy\\\n",
       "P+f9l8hZXAATJSk9mI4X7nsBpfmlCKYEo74mmBJEaX4ptn12m2O/qbVSjkR0CSshInILw5GGEr2u\\\n",
       "1FGpUs7v5P1Glfs5779EzuJXoA3Gr1i4L9wVRtW+KjQcbvB0r85AOV5840W8/NbLiNjYxBZMCWJv\\\n",
       "6V7MfWqu7b1QbavauCeJiIxSsbsC5TvL7R+3uAJrFq5xoETeKttehsdfedz2cbfOuBW739otpQxu\\\n",
       "3G+8up+3d7Xjqo1X8f5rMD6fe48hWEQSTc6YjDUL13j+0DNQjkgkYvuBo6+/D6tfFAsrqdpXdfHa\\\n",
       "VQnuEC2HKuXXtXxkHdtSbaqGI3lG8GOT2ZNno7Gt0fa9JZrh9xsneHU/Fw0Zc7o+4jkYPohVL65C\\\n",
       "U3sTes/3InVUKuZOnYsNhRswa/IsT8pEFA8/ATYYf8NEboeVhHJCeO7TzykR3CEaIKJ68Ijq5SPr\\\n",
       "2Jb6UCkcyWvJhILNHD9TOKwx2vsxZOwSL+qj40wHFmxZgJbjLTFfkzspF40ljRg/Zrx7BVMcn8+9\\\n",
       "xz3ARAZzO6yks6dTieAO0QAR1YNHVC8fWce21Isq4UgqSCYULJmwRlnlUJ0uoWsdZzqQ882cuItf\\\n",
       "AGh5twUzvzETHWfEE8CJZOMCmMhgboeVvH3ybSWCO0QDRFQPHlG9fGQd21IvqoQjqSCZUDAZYY3J\\\n",
       "lkN1uoSuLdiyAJ09nZZe29nTiQXVCxwuEZF1XAATGUz0N+35U/KFjmvvarf1+urmaoS7wkLnileG\\\n",
       "muYa2+U4ED4gdJzs8sciel1ulY+sY1vqKT2YjsqiSrStakPF4gqEckKYN30eQjkhVCyuQNuqNlQW\\\n",
       "VRq9+AXE7yuLZi4CMLIer5lwTVLvZ5pk69cN+8P7E37yO1zLuy04GD7oUImI7OEeYINxjwGJpkmK\\\n",
       "pECnBFLQH+m3XUbZSamiia1Lrl6C7W9ut38+l5JemURrDi/bkoFblCzZKcVeph6rGJKoQwp06JmQ\\\n",
       "0P1y8D5lP89FfD73Hj8BJjLYlIwpWJ633NYxxXnFuGHyDbaPm5ox1dbrBzQcbhA6LharXysdrqm9\\\n",
       "Seg42eWPRfS63CofWedFW3b3daO0thTZG7NRvrMc9a312HNkD+pb67F2x1pkb8zGitoVOHvurPA5\\\n",
       "yB9E7yuxFjWy388K0fHgxjjyoj7sEr1f7j22l3MRKYELYCLDiYa32D1u2rhpQuWTHdzhdvCXW8Ej\\\n",
       "ugSjUGJutyUDt0g22aFgboaM6RCSqHromuj9sudcD+ciUgIXwESGEw1vsXtcZlqmUPlkB3e4Hfzl\\\n",
       "VvCILsEolJjbbcnALZJNdiiYmyFjOoQkqh66Jnq/PNd/jnMRKYF7gA3GPQY0XLgrjKp9VWg43GB7\\\n",
       "v1Oi41TZo8o9wMOO4x5g5bjZljrsJyS9id5X3Hq/wdzMxZC5T9mp+hAlugc4gAAisL7sMHUu4vO5\\\n",
       "97gANpjXA0z1gAPVy5eIauV340HbyjXr+IBjBRcy5nCzLXX8xYlqcxuZQ/gXpDlLsL01uV+QmtSv\\\n",
       "94f3Y/aTs105l4m/xPX6+Zy4ADaaVwOsu68bK7etRE1zTdQHvGBKEMV5xdi0dJMnfy5C9fIlonL5\\\n",
       "S2tLsblps/XX55eisqgy4evsXrNoOZwqvyyql4+sc6stC7cWor613vZxg9Na3aLy3EZmEB0PWelZ\\\n",
       "6OjusH1cKCeE5z79nJH9+rpvX2frTyFdFrwMZ/rO2D6PF3OR07gA9h73AJNUqoetqF6+RFQvvxPB\\\n",
       "HSLX7Fbwl9vBI6qXj6xbf/t6y/vmM9MysX7JeqHz6BKepvrcRmZwOySxs6fT2H79yv2v2JrDrr/i\\\n",
       "eqHzMMiRnMAFMEmletiK6uVLRPXyOxHcIXLNbgV/uf3betXLR9aVvVSGzp5OS6/t7OlE2fYyofPo\\\n",
       "Ep6m+txGZnA7JPHtk28b26+zLstC65dakTspN+7rcifl4vBDhzF+zHih8zDIkZzAr0AbzO2vWKi+\\\n",
       "R1H18iWiW/llBHfIuGYng7+8pHr5KDbuAR5Kt7mN9OX2HuCUQAr6I/2WX69rvz4YPojVdaux99he\\\n",
       "9J7vReqoVMydOhcbCjdg1uRZAPSYi9zCr0B7b7TXBSBzVDVV2XqAAS589adqX5Urk5vq5UtEt/JP\\\n",
       "zpiMNQvXJHVuGdcsWg4Z5R/MiQAU/v7yEp0CZkT79Yc3fxi5k3JtXVdJfgke3fWo7cVlyZwSW+Wz\\\n",
       "62D4IFa9uApN7U3o6u3Sam4j/QzMD3Vv1AklEW8o3GA7JNHu4hfQt1/Pmjwr4T5dVeci8id+BZqk\\\n",
       "sfo1n+EaDjfILUgMqpcvEd3LL8KEa+7u60ZpbSmyN2ajfGc56lvrsefIHtS31mPtjrXI3piNFbUr\\\n",
       "cPbcWU/eT3c61odov2472Wb7uqZkTMHyvOW2zlOcV+zYLw06znTgum9fhxuevAHb39yOju4O4f2V\\\n",
       "Ko1zUtPw+WH3H3fbWvwCF8bDDZNvsD2OpmZMtfX6Aab2a9XmIvI3LoBJGtXDVlQvXyK6l1+E7tcs\\\n",
       "O9iHQUFD6VofMvqnnetSJTyt40wHcr6ZYys5Nh5Vxjmpycr8kEgyIYnTxk0TOqfJ/VqVuYiIC2CS\\\n",
       "RvWwFdXLl4ju5Reh+zXLDvZhUNBQutaHzP5p5bpUCU9bsGWB5eAvK1QZ56QmO/PDcDJCEq0mJA9n\\\n",
       "cr9WZS4i4gJYkj179uCTn/wkpkyZgmAwiKysLNx+++149tlnYx7zzDPP4Oabb0ZGRgaysrJw5513\\\n",
       "4tVXX3Wx1HJZ/a3ecItmLpJbkBjyp+QLHXfTlTdJLokY1evXCTq3WXtXO2qaa2wdU91cjXBX2JX3\\\n",
       "053O9SE6lmOxcl3pwXRUFlWibVUbKhZXIJQTwrzp8xDKCaFicQXaVrWhsqjSsQfO/eH90j75HaDz\\\n",
       "3EbOEpkfAgigYEZB3PFgZxzpfP9yktdzERHAECwpfvSjH+HTn/40+vv7cdNNN2HRokU4evQoGhoa\\\n",
       "sGPHDvzzP/8z1q8f+jccV69ejY0bNyI9PR2FhYU4e/Ys6uvrUVdXhx/96Ef4+Mc/7tHViFM+4CAg\\\n",
       "dth//OY/8NrR1zwP1FG+fp0g2GbfP/h9ZKRmeNpeskPLdAtBc5rO9SEyluOxc12yw92sevjFh6W+\\\n",
       "n525TaeANJJDZH6IIILCawrljSPB+5dfeDUXEQH8BDhp586dwxe/+EX09/fjBz/4AX7961/jBz/4\\\n",
       "AXbv3o1f/OIXGDNmDL72ta/hjTfeuHjMjh07sHHjRkycOBG/+c1v8NOf/hTbtm3D7t27MWrUKBQX\\\n",
       "F+O9997z8KrEqB5w0HSsSei4o6eOKhGoo3r9OkG0zQ6fOOx5e8kO8DIhEEwmnetDZCwnosJ1xdPU\\\n",
       "LjaWY7Eyt+kYkEZyqDA/iN6/Xjv6mrQyEFF0XAAnqaWlBe+88w5yc3PxqU99asjP5s+fj49+9KOI\\\n",
       "RCLYu3fvxX9/4oknAADl5eW49tprh7z+wQcfRGdnJ7Zs2eLOBUi2/vb1lve9ZKZlYv2S9YlfKInb\\\n",
       "wTNO8FuARLJt5mV7yQ7w0j0QTDbd68POWLZCleuKRTTpORorc5uuAWkkhwrzgwplIKLouABOUlpa\\\n",
       "mqXXZWVlAQDOnj2Ll156CQBw7733jnjdwL/V1tZKKqG7yl4qsxxy0tnTibLtZQ6X6BK3g2ec4LcA\\\n",
       "CVlt5kV7yQ7w0j0QTDbd68PKWLZDleuKJXVUatLvYWdu0zUgjeRQYX5QoQxEFB0XwEnKyclBTk4O\\\n",
       "Wlpa8F//9V9DftbY2IgXX3wRV199NW699VYAFz4x7unpwRVXXIHp06ePeL/8/AuhCfv373e+8JKp\\\n",
       "HkrjRfCME/wUICGzzdxuL9mhZX4MQYvHhPqINpazx2ULvZdK1xWNaCBQZlqm7blN9XsROU+F+UGF\\\n",
       "MhBRdIFIJGLvL4LTCC+//DKKiorQ2dmJm266Cddccw2OHTuGX/ziF7j55puxdetWvP/97wcAPP/8\\\n",
       "87j77rsxZ84cNDVF3x8yYcIEnDhxAidPnsTYseK/Cbz++usBAK+//rrwe9hRsbsC5TvL7R+3uMKV\\\n",
       "EIT2rnZctfEqacEzgHtl95pXITKy28zN9hIpezAliLZVbVHrVPb76c7U+jD1uvaH92P2k7NtH3fg\\\n",
       "wQOYNXmWrWNUvxfZxRAv+5weR1baxNSxTMlz+/mcRuInwBIsXLgQu3btwtVXX43XXnsNP/zhD7F7\\\n",
       "925cfvnlWLJkCa688sqLr+3q6gIAXHbZZTHf7/LLLx/y2kSuv/76qP8NDt5ygwqhE/H4MXgmWV6H\\\n",
       "yMhuMzfbS3ZomR9D0OIxtT5Mva4bJ9+I3Im5to7JnZRre/ELqH8vssrr+VdnTo0jO21i6lgmMgEX\\\n",
       "wBJ8//vfx0c+8hFcddVV+OUvf4muri787//+Lz7zmc/gq1/9KpYsWYK+vgu/ARz4wD0QiJ2Pr+uH\\\n",
       "8joEPvgteCYZqoTIyGwzt9tLdmiZ30LQEjG1Pky9rlfuf8VWSGJjSaPQeXS4FyWiyvyrM9njSKRN\\\n",
       "TB3LRLrjAjhJv//97/G5z30OV1xxBf7nf/4HN998My6//HJce+21qKysRFFRERobG1FdXQ0AF7/S\\\n",
       "fPr06ZjveebMGQBARkaGpTK8/vrrUf+75pprkrw6e3QIfPBb8EwyVAmRkdlmbreX7NAyv4WgJWJq\\\n",
       "fZh6XVmXZaH1S63InRT/k+DcSbk4/NBhjB8zXug8OtyLElFl/tWZ7HEk0iamjmUi3XEPcJK+8pWv\\\n",
       "4F/+5V/w+c9/Hps3bx7x8+9+97tYtmwZPvOZz+B73/sempubMWfOHFxxxRX405/+NOL1p0+fRkZG\\\n",
       "BsaPH5/03wJ2e49B2fYyPP7K47aPe+SWR/DY7Y85UKL4wl1hVO2rQsPhBrS824K2k22230PVPWPJ\\\n",
       "UnXv0kCbbdm3BW+8Z/8r/l621+D+JmMfn+z3052p9WHqdR0MH8TqutXYe2wves/3InVUKuZOnYsN\\\n",
       "hRuEvvY8mO57gFWdf3WW7DiS0SamjmWyj3uAvTfa6wLo7siRIwCAcePGRf35wL93dHQAAD74wQ8i\\\n",
       "LS0N77zzDo4cOTIiCXogGOvGG290qsjO0exXKZMzJmPNwjVYs3CN8M2tZE6JgyX0TlVTle3gqb7+\\\n",
       "PlTtq3L0AXKgze6fc7/j7SU7eGZwf5NB9vvpztT6MPW6Zk2ehbpldY68d0l+CR7d9ai287mq86/O\\\n",
       "kh1HstqEnzldwnA38hK/Ap2kKVOmAABee+21qD//9a9/DQCYOXMmACA9PR2LFy8GADz77LMjXj/w\\\n",
       "bx/72MdkF9VxTe3RU60Tee1o9LpzE8MqhlI9RMbJ9mLwDJHedJ/PVZ9//SiZNuE9ZSjWB6mAC+Ak\\\n",
       "3X333QCA3bt34zvf+c6Qn+3ZswcbN24EANx7770X/3316tUAgK9+9av4/e9/f/HfGxsbUVlZiXHj\\\n",
       "xqGkRI3fRNuhe/AIwyou0aEtnWgvBs8QmUHn+VyH+ddvROu2s6eT95RBeI8lVXABnKT8/Hz8wz/8\\\n",
       "AwDgC1/4AmbNmoW/+qu/wi233IIFCxbg9OnTKC0txZIlSy4es2TJEqxcuRLHjx9HXl4e7rnnHtx5\\\n",
       "55249dZb0dfXhy1btiArK8urSxKme/AIwyou0aEtnWgvBs8QmUHn+VyH+ddvROv27ZNv854yCO+x\\\n",
       "pAqGYEnyk5/8BE8++ST27t2Lzs5OjB07Fnl5efj85z+Pv/7rv456TE1NDb797W/j0KFDCAaDmDdv\\\n",
       "HsrLy3HLLbdIKZPbm+x1Dx4ZzO9hFbq1pYz2YvAMkZl0m891m3/9QLRNUgIp6I/0W369yfcU3mMv\\\n",
       "YQiW97gANpjbA8zpyY2BCcmzWod+vFHxoVN9OswBOpRRdfHqEIDx9evH+Vd1Im1id/E7wNR7iug9\\\n",
       "NntcNnIn5Ro1zrkA9h4XwAbzYoCV1pZic9PIPwcV8/X5pagsqoz7mu6+bqzcthI1zTVRbz7BlCCK\\\n",
       "84qxaekmpb7GphKROnSiLVVWuLUQ9a31to8L5YQcS7OlC3SYA3Qoo+oS1WEAAQQCgaiLCtPq12/z\\\n",
       "rw7stsm0sdPw9qm3bZ/H1HuK6D12MFPGORfA3uMeYJJKdvAIAxOSJ1qHOofIiGDwjJp0mAN0KKPq\\\n",
       "rNRhBJGYn6iZVr9+m391YLdNpo2bJnQeU+8pMq7LtHFO3uECmKSSHTzCwITkidahziEyIhg8oyYd\\\n",
       "5gAdyqg6O3UYjyn167f5Vwd22yQzLVPoPKbeU2RelynjnLzDr0AbzOuvWCQbPMJ9UMmTVYe6hciI\\\n",
       "4B5g9egwB+hQRtWJ1GE8ptWvH+Zf3VhpE95ThhKtj1h0HudeP58TF8BG032A8eYhbiBEprq5Gm+8\\\n",
       "94bt4/1Yh1zIqEeHOcDpMroZquXVuVrebUHbyTap7+/HOYzU4sY9RafQPdm/6AL0Hee6P5+bgF+B\\\n",
       "JmWJfh2u4XCD3IJopLuvG6W1pcjemI3yneVCi1/An3U4JWMKluctt3VMcV6xcg8ZJtFhDnCqjMPH\\\n",
       "cn1rPfYc2YP61nqs3bEW2RuzsaJ2Bc6eOyt0fpXOJXvxC/hzDiO1OHlPcXPMyiJSH4lwnJMoLoBJ\\\n",
       "WQwlssdKiIxVfq1DBs+oRYc5wIkyuhmqpdq5ZPHrHEZqWX/7est7gTPTMrF+yfqEr9M5dM/OPdYK\\\n",
       "jnMSxQUwKYuhRPbICpEB/FuHDJ5Riw5zgBNldDNUS9VzJcuvcxippeylMnT2dFp6bWdPJ8q2lyV8\\\n",
       "nc6he1busXZwnJMoLoBJWaK/JVw0c5HcgmigvasdNc010t7Pj3U4ID2YjsqiSrStakPF4gqEckKY\\\n",
       "N30eQjkhVCyuQNuqNlQWVXLx6wId5gDZZRQZy9XN1Qh3hW2XQfVzJcPPcxipwYnx5eaYdUq0e2z2\\\n",
       "uGyh9+I4J1FcAJOySvJLbP+GMJgSRMmcEodKpK6qpiqpCap+rMPhJmdMxpqFa1C3rA6NJY2oW1aH\\\n",
       "NQvX+HLPb7grjIrdFSjcWoj5VfNRuLUQj738mOMPVTrMAbLLKDKW+/r7ULWvytYxOpxLFOcwUoET\\\n",
       "48vNMeu0wffYXz3wK+XnejILF8CkLIYSWSfza4V+rUMayeugFR3mANlldDP4S4dzieAcRipwYnzp\\\n",
       "EAwoQoe5nszCBTApjaFE1sgKgvBzHdJQqgSt6DAHyCyjm8FfOpzLLs5hpAonxpcOwYCidJjryRxc\\\n",
       "AJPSGEpkTbJBEKxDGk6VoBUd5gCZZXQz+EuHcw2WghSkBKI/tnjdB4iGc2J86RAMKEqHuZ7MMdrr\\\n",
       "AhAlMhCYsO62dajaV4WGww3K/8F3txXMKEB9a73t494/4f0onlPMOqQhRINW1t22zpF+pMMcIKuM\\\n",
       "omNZJAxGh3Nlj8tG7qTci3UIQNk+QDSYE+PLzTHrBR3mejJDIBKJRLwuBDnj+uuvBwC8/vrrHpfE\\\n",
       "LOGuMJ5uehq73tqlzMTc3tWOqzZeZSscI5gSRNuqNt5M6KKBvl3dXI033nvD9vEViyuwZuEaB0qm\\\n",
       "FifnADfHsqnnskPF+dwqJ8quc32oxok+7/Q4Yvu7g8/n3uMC2GAcYHJ193Vj5baVqGmuiXrzCaYE\\\n",
       "UZxXjE1LN3ny1ZzS2lJsbtps/fX5pagsqnSwRKSLRH3bqlBOCHXL6iSWTC1uzQFujmVTz5WI6vN5\\\n",
       "PE6UXef6UJkTfd6J92T7u4vP597jAthgHGDyDAQCWdkTWTCjAC/c9wLSg+kulOwSu2XkHhoC7PWb\\\n",
       "ROZNn4fGkkYJpVKPm3OAm2PZ1HPJLIcX83ksTpRd5/pQnRN9XvZ7sv3dx+dz7zEEi8gCVQKB4mGA\\\n",
       "BImw07cT0SFoRZSbc4CbY9nUc8Wjw3weixNl17k+VOdEn5f9nmx/8iN+Amww/oZJDlX3rsUT7goz\\\n",
       "QIISEunb8Zi6B9jLOcDNsSz7XPH2EwLehFnpOJ8P0HFPqSpU2NvqxFhO9j390v6q4fO597gANhgH\\\n",
       "mBwVuytQvrPc/nGGLgbIHKJ9OxqTH4o4B9ij8n5CndvSibLrXB9WqNwXVWB6+6uKz+fe41egiRIQ\\\n",
       "/Xpow+EGuQUhkkzWV58BoDiv2MjFL8A5wI6B/YSbmzbH/FSpr78PTzU9hTu+ewe6+7pdLZ/ObelE\\\n",
       "2XWuj0RU74sqMLn9ieLhApgogVO9p1w9jsgtsvpowYwCbFq6Scp7qYhzgHWq7yfUuS2dKLvO9ZGI\\\n",
       "6n1RBSa3P1E8XAATJSAa7GNyIBCZIdk+6pdQNc4B1rR3taOmucbWMdXN1Qh3hZ0pUBQ6t6UTZde5\\\n",
       "PuLRoS+qIDUl1dXjiFTBBTBRAgUzCoSOWzRzkdyCEEkm2rffP+H9qFhcgbZVbagsqjR68QtwDrCq\\\n",
       "qqnKdqBaX38fqvZVOVSikXRuSyfKrnN9xON0Xwx3hVGxuwKFWwsxv2o+CrcW4rGXH9NuAZ06Smwh\\\n",
       "mzY6TXJJhjKlfkldDMEyGDfZy8GURDIV+7Y1rCdrCrcWor613vZxoZwQ6pbVOVCikXRuS6ZAW+dU\\\n",
       "XzQtVKugpgC739pt/7gZBWhY3iC9PKbVbyx8PvcePwEmSmBKxhQsz1tu6xiTA4HIHOzb1rCerNFh\\\n",
       "P6HObelE2XWuj3ic6Ismhmr1nu8VOq7nfI/kkphZv6QuLoCJLNh0xybLXxUzPRCIzMK+bQ3rKTFd\\\n",
       "9pPq3JZOlF3n+ojFib5oYqiWSmPWxPoldXEBTGRBejAdL9z3AkrzSxFMCUZ9jV8Cgcgs7NvWsJ4S\\\n",
       "02U/qc5t6UTZda6PWGT3RVNDtVQZs6bWL6mLe4ANxj0Gzgh3hVG1rwoNhxtwqvcUxqaOxaKZi1Ay\\\n",
       "p0T5r4URhbvCeLrpaex6a9eI/guAfdsCU+eAeH3DynXpuJ80XlsCSKo+nOZEPzSlb8vuixW7K1C+\\\n",
       "s9x2OSoWV2DNwjW2j3OLKmPW1PqNhc/n3uMC2GAcYEQ0wC/hImSfzL5RWluKzU2bLZ+7NL8UlUWV\\\n",
       "tsvsJI4VM8jsizoEvIlSYcyaXL/R8Pnce/wKNBGR4RguQrHI7hu67yflWDGHzL6oQ8CbKBXGrMn1\\\n",
       "S2riApiIyHAMF6FYZPcN3feTcqyYQ2ZfVCksSjYVxqzJ9Utq4legDcavWBCRKnu8SD1O9w3d9pNy\\\n",
       "rJgr2b7olz2qXo1Zv9TvAD6fe48LYINxgDkjUYiQyqEp5D9+e7Ag61TtG8mGcYlStT7Ie/zliLP8\\\n",
       "Vr98PvfeaK8LQKSLeMEo9a31+D87/w8QAfrRP+JnX274MkNTyBNWv845XMPhBj7UG061vpFojnV6\\\n",
       "HlWtPkgdUzKmYHneclthUcV5xVouzrzA+iW3cQ8wkQVWglH6I/0jFr8DGJpCXmG4CMWiUt9QIXxK\\\n",
       "pfog9agQFmUy1i+5iQtgIgvsBKPEw9AUchvDRSgWlfqGCuFTKtUHqUeFsCiTsX7JTVwAEyXQ3tWO\\\n",
       "muYaae9X3VyNcFdY2vsRxWP1N+rDLZq5SG5BSDmq9A2ROdaJeVSV+iB1pQfTUVlUibZVbahYXIFQ\\\n",
       "Tgjzps9DKCeEisUVaFvVhsqiSi7OBLF+yS0MwTIYN9nHZzVoRTQYJZ7BoSluBr54FS5D3vFbuIjX\\\n",
       "dBpjqvQNVcKnVKkPvzgYPohVL65CU3sTes/3InVUKuZOnYsNhRswa/Is2++n09izQ+frYmhodHw+\\\n",
       "9x4XwAbjAIsuXtAKcOGBZnDQSuHWQtS31kstQygnhOc+/ZytciTD7jWTWUprS22Fi5Tml6KyqNLB\\\n",
       "EplH1zGmQt8QnWNDOSHULauTWhYV6sN0HWc6sGDLArQcb4n5mtxJuWgsacT4MeMTvp+uYy8Rna8r\\\n",
       "UdkDCCAQCKA/MjI3ReXrkoXP597jAthgHGAjDQStWNlrVjCjAC/c9wIWP7MYe47skVqOm6fdjPTR\\\n",
       "6bbKkR5MFzqXyDWLnovUZLcPcH+VPTqPMRX6xvyq+UJz7Lzp89BY0ii1LCrUh8k6znQg55s56Ozp\\\n",
       "TPjazLRMtH6pFVmXZcV8jc5jLx6dr8tO2eNR7bpk4vO597gHmHxFJGjFiYCTt0++7VrgiwrhMuQt\\\n",
       "hos4S+cxpkLfUCl8SoX6MNmCLQssLX4BoLOnEwuqF8R9jc5jLx6dr4uhoaQDfgJsMP6GaSjR/V0P\\\n",
       "z38Y619ZL7UsowKjcD5y3lY5RPaZcU8bDRfuCqNqXxUaDjf4bt+VE0waY171DVX2AA/HsSLX/vB+\\\n",
       "zH5ytu3jDjx4IOqeYJPG3mA6X5dI2eNR5bpk4/O590Z7XQAit1Q1VdmelPv6+/DMb55BAAFEIO93\\\n",
       "RXYWvwPlqNpXZflhbyB4orq5Wuia7ZzLVKaGk03OmIw1C9f4vn1lEZ1XVBxjXvWNkvwSPLrrUVv1\\\n",
       "GEAAPz70YzQcbuBYiULF4KSHX3xY6LjVdauj7vU2aewNpvN1iZQ9HlWui8zDT4ANxt8wDeVEmJWb\\\n",
       "rAS+JAqekHkuU7kZPKJzyAldoFKAk87shk8Nx7FygcpzysSvTURHd4ft47LSs3D8n46P+HdTx57O\\\n",
       "1+VUaKjX1yUbn8+9xz3A5Bunek95XYSkJCr/QPDE5qbNSf8GVve6EmWlDvv6+/BU01O447t3oLuv\\\n",
       "W4tzkXNEx4pfx1gsm+7YJPx3eAGOFUD9OaX3fK/U40wdezpflxNlUOG6yDxcAJNvOBGYMlhKIAUp\\\n",
       "Dg6pROWXFTxh5VymcjN4ROeQE7pEpQAnnVkJn7LCz2NF9TkldVSq1ONMHXs6X5cTZVDhusg8XACT\\\n",
       "byTz6UI0AQQwd+pchHJCqFhcgaOrj+Low0dRsbgCt151KwIISD3fopmLYv6svasdNc01rpzLVCJ1\\\n",
       "WN1cjXBXWOlzkbNE5xU/jrFE0oPpqCyqRNuqNlQsrkAoJ4S5U+fankv9OFZ0mFPyp+QLHTd36tyo\\\n",
       "/27q2BOtp5uuvElySeyT/ZwFqN9epCeGYJFviAStxBNBBJ+47hMjwhnWLFyDSCSC3X/cLeU8wIV9\\\n",
       "WyVzSmL+XGbwRKJzOU0kvCXeMQAsvZ+bwSM6h5wMJxq2o2JIjwiRecXrMaa6weFTFbsrsPfYXlvH\\\n",
       "Dx8rpvS1eHSYU5746BNCKdAbCjdc/N+D27Kju8N2QKWssedon5L7u3NXyX7OitZefhjP5DyGYBmM\\\n",
       "m+xHSjZoZbhY4QyygyBK80tRWVQZ8+cyz5foXE4RCW9JdEwAAQQCAfRH+hO+n5vBIzqHnAwQDdtR\\\n",
       "OaRHlN15xasxpqNkxspzn37OuL4Wiy5zynXfvg4tx1ssvz53Ui4OffGQtIDHZMeeG/OXLm0Zi8zn\\\n",
       "rMHtZdK9g8/n3uNXoMlXkg1aGS5WOIPM0IaCGQXYtHSTUDmcOJcTRMJbrBwTQSTq4jfa+7kZPKJz\\\n",
       "yAkgHrajekiPKDvzildjTFeifb6zp9PIvhaLLnPKK/e/gsy0TEuvzUzLRGNJo7SAx2THnlvzly5t\\\n",
       "GYus56zB7WXqvYO8wwUw+YqsoJUBscIZZIQ2BFOCKM0vxbbPbkv428xkz2fnXE4QCW+RFfo18H5u\\\n",
       "Bo/oHHICiIftqB7SI8rKvOL1GNOVaJ9/++TbRva1WHSZU7Iuy0Lrl1qROyk37utyJ+Xi8EOHMX7M\\\n",
       "+KTnelljz635S5e2jMXKfJiCFKQEoi9BorWXqfcO8g4XwOQ70YJWssdlC71XrHAG0d9+Zo/Lvhiq\\\n",
       "1baqDZVFlZZu2KLne/+E99s+l2yi4S3V+6qllaG6uTpm0EoiIgEdOoe3iLbXgfAB5UN6khFtXpk3\\\n",
       "fZ7QeKZLRAOBjp06Zuv1OvW1aHSaU7Iuy8KhLx7CgQcPIJQTQlZ6FjJSM5CVnoVQTggHHjyAQ188\\\n",
       "hPFjxgvNNwEEkD81X+rYczNkTKe2jCXRfHj04aM4uvqopblSh4A30g/3ABuMewysa+9qx1Ubr7Id\\\n",
       "ZNO2qm1I6MJAOEPdG3V4+Y8v2w7nGP5+VskqvxcqdlegfGe5p2UAgLJbyvDEq0+4Uod+bK8lOUuw\\\n",
       "vXW7/fMtrlAu+MtNB8MHserFVWhqb0Lv+V6kjkrF3KlzsaFwA664/Arjw2DKtpfh8Vced+VcuvW1\\\n",
       "wWFAx7uPY9+xfa7dc9wiOt/Ibks3y6Hq/cHN8KnB52p5twVtJ9tsv4fK45nP595jCjQRgCkZU7A8\\\n",
       "b7mt4IbivOKLk76MgI7B72dXsuX3kqy/XZysvUf3ulaHfmyvpmNNQsc1HG5Q9iHGSR1nOrBgy4Ko\\\n",
       "gUH1rfW44ckboh5X31qPLzd8WZswmERE+40IXfqarEAoVeaUeETnG9lt6WY5VLs/xOtvsucbWX0b\\\n",
       "0Gc8kzf4FWiiPxMNspER0CEjGEfXIB5VgjtO9Z5ytQ7X377eVhjM+iXrhc8lk2h79Z7vdfV8Ous4\\\n",
       "04Gcb+bYSssdzKQwGDfbX4e+pkoglFtUCYRyuxyq3M/dDJ+S1bcH6DCeyTtcABP9mWiQTTIBHTKD\\\n",
       "cXQN4lEluGNs6lhX67DspTJ09nRaem1nTyfKtpcJn0sm0fZKHZXq6vl0tmDLAst9Ix4TwmDcbH8d\\\n",
       "+poqgVBuUSUQyu1yqHI/dzN8Slaw5QAdxjN5h1+BJhpkILhh3W3rULWvCg2HG+LudREN6Lh1xq0o\\\n",
       "vKZQ+t4Zu+VXQcGMAql/M1nUQICIG3UoGuqx7rZ1nrefaHvlT80X2gOsUrCLG/aH9wt/8huNKv1G\\\n",
       "lJvzg+p9LZlAqKz0LGXvAfGItr/stvSiHF7fz928T4mcKxHVxzN5iyFYBuMme+epEtDhpWSDMUQD\\\n",
       "PyKRCM5FziVT9CHv52YYjM79RrS99pbuxdyn5ioX7KKa0DMhbH/T/i8K4lGh34hya37Qoa/pOG94\\\n",
       "dX+Q0ZZ+CBkbzqvwKdlhmE5+0CADn8+9x69AEyUhmWAM3XX3daO0thTZG7NRvrMc9a312HNkD+pb\\\n",
       "67F2x1pkb8zGitoVOHvubNz3GQj8sKM4rxjFc4qTKP3I93PzBqlzvxFtrxsm3yB0nGoPLk5rapcf\\\n",
       "+qRCvxHl1vygQ1/Tad7w+v6QTFtGK3vTsSZbi18Z5XBTtGsWWfwCYv1NdhhmBBHsemuXrb5G/sIF\\\n",
       "MFESVAnocJvsYAyRwA87x1h5Pzfp3m9EA7xUCXZRmWhYWDyq9BtRTs8PuvQ1XeYNFe4PovwWMgao\\\n",
       "ET7lZB81KRSQ5OECmCgJqgR0uE12MIZI4IeVY1KQgpRA9GnOyzAY3fuNaICXKsEuKhMNC4tHlX4j\\\n",
       "yqn5Qbe+psu8ocL9QZTfQsYANcKn3OijJoQCkjzcA2ww7jFwno57spLl9J6scFfYduBHvGMAKBcI\\\n",
       "pnO/kdX+Iu3sB9wDHJ/s+UGnvlZWX4bHX33c9nGP3PIIHrv9MQdKNJKK9werRMque8iYyDUnosIe\\\n",
       "4FhU2ZfN53PvcQFsMA4w54neMFUOZ0hE58WbKrwMdkkW299Z+8P7MfvJ2dLeT5V+Q8kr216Gx19R\\\n",
       "ewGs8/ygc9lFyV54is43IvfElEAK+iP9douoRHvx+dx7/Ao0URJEAjp0D2fQKYhFVV4Eu8jC9nfW\\\n",
       "jZNvRO7EXGnvp0q/oeQ1HRMLSHvt6GuSSxKbzvODzmUXJTt8SnS+EbknTs2Yavs8gN7tRfJwAUyU\\\n",
       "pGTCmHQMZ9AliEV1uob0sP2d98r9r1gOGYtHpX5DydNh7OlQRtllUKHsomSWPdn5xu49cdq4aULn\\\n",
       "0bm9SB4ugImSZCWgIxGdwhl0CWJRna4hPWx/52VdloXWL7Uid5LYJ8Eq9htKng5jT4cyyi6DCmUX\\\n",
       "JaPssuYbu/dE0V8S6txeJM9orwtAZIL0YDoqiyqx7rZ1qNpXhRf/8CJe/uPLtv5uYHVzNdbdtk75\\\n",
       "rysWzChAfWu97eMWzVwkvzCaG95vdAjpYfu7I+uyLBz64iEcDB/E6rrV2HtsL3rP9yJ1VCrmTp2L\\\n",
       "DYUbcMXlV2jTbyh5Oow9HcoYi85lFyV6zdnjspE7KVf6fGPnnujH9iJ5GIJlMG6y947JYRpupHw+\\\n",
       "3fQ0dr21iw/1LrNS9zoHeJH+YvXRuz5wF5773XPazhumjD0dyhiLzmUXpfM161x2Pp97jwtgg3GA\\\n",
       "eadwa+H/3969B0dRp/sf/0wgN3IlkQW8IqAgKldFUSHI/VqRq2v9tBBQVnerYKG2lKOoR1f2x0ER\\\n",
       "Of5W5SAX8bflLbIq0eMSUEANshsiotRGFNgD7EpkyUUCSQj4PX9YmSUkk8xMenq6p9+vqvyR7v5O\\\n",
       "nu55vj39ZKafCes/kyO7jtSmuzZFICJrzdk4R6uKVwW/ff85WjlxZbPbVNdVa94H87Ru97omX9Di\\\n",
       "4+I1s+9MrRi7go91WizUYx+J5x9oTks5GojTzxuxOPfcEGMgbo49XG7eZ7fGzvV59FEAxzAmWPQM\\\n",
       "Wj1Inx35LORxN158o3bM3hGBiKxVXVetsX8YG1QHyZzLclq8NyjUx/vv//PfSo5PDilmNC2cYy/J\\\n",
       "0ucfaE4oORqIE88b4cy96rpqdf3PrqqsrWxxTEZihg7OO6j2ye2tCDdoVr8+2MnNsYfLzftcdqrM\\\n",
       "8fOhKVyfRx9NsIAIiPVmGlY3cJr3wbygL27d1DDMDcI59m5t4AV3CiVHA3HieSOcubdwy8KgLvYl\\\n",
       "qbK2Ugs3L2xNiGFx8/nBzbGHy8377Ib5AGfiHeAYxn+YoieW7wE+X2lVaasa8bj5Ph63s+LYt/b5\\\n",
       "B5oTTo4G4qTzRjj71dbXVj6fz1XnSjefH9wce7jctM9uvnbg+jz6KIBjGBMsetx8Yrabl/5ZYJdg\\\n",
       "G4l5/djTcM35ws3RgI/nkNy1er+a/Vvn7bPVee+GeeSGGBEaN79+cX0efRTAMYwJFl1ubc5gt1hv\\\n",
       "GGanUBvqePXY03DNPcLN0UCckrtW71dz6vfZ6rx3wzxyQ4wIj5tfv7g+jz7uAQYiZMWYFcq5LCeo\\\n",
       "bXMuy9GKsSsiHJEznTh9wtZxsaq+kcmq4lUBP3lQ92Od/qv4vzTm/49RdV21J499OMcJ0WN1rjkl\\\n",
       "d+2M48TpE5bnvRvmkRtiRPi8+PoF61AAAxHi5sYSdor1hmF2CaehjhePPQ3X3MXqXHNK7toZR1pC\\\n",
       "muV574Z55IYYET4vvn7BOhTAQAQlxydr5cSVOjz/sBYPW6yRXUfqxotv1MiuI7V42GIdnn9YKyeu\\\n",
       "9GzxKynod8nPN7TLUGsDcbGjVUe1bve6kMas3b1WAzoPCOvvufXYh3ucSqtKIxMQWhTu+SEQp+Su\\\n",
       "1fvVnAEXDrA0790wj9wQI1qHawe0BgUwYIOOqR310OCHtOmuTdoxe4c23bVJDw1+iOYbkmb3nx3w\\\n",
       "HfJA4uPiNbvf7AhF5D6ri1eH3CW37sc6ySdPHftwj9Pqz1dHKCL7lVaVavH2xRr1yigNWj1Io14Z\\\n",
       "pd99/DvHXviHc34IpKncjdbxCGe/2vrahjVfZWRp3rthHkU6RrfNIyt8VfqVRq4fqeyl2Ur7v2nK\\\n",
       "XpqtUa+M0lelX0UlHq4d0BoUwACiqlNqJ93d9+6QxszsO5N/Hpwj3O9I3fWPXZ469uEep61/22pt\\\n",
       "IFFQXVetORvn6JLll2jRR4tUcKBAnx35TAUHCvTwhw/rkuWX6Bcbf6GaMzXRDrWBcM4PgZybu9E+\\\n",
       "HuHs16x+s8Kar7u+2xXSmHqB8t4N8yhSMUY7b6Kh7FSZrvp/V+naF6/V5oObVVZdpqrTVSqrLlPB\\\n",
       "gQJd++K1uur3V6mipsLWuLh2QGtQAAOIuiXDlygjMSOobTMSM7RkxJIIR+QurWkG4qVmbV5tmuL2\\\n",
       "ZkCh5Ggg5+auU45HOOe9cOar1XnvhnkUiRidkjd2KjtVpq7/2VUlx0ua3a7knyXq8mwXlZ0qsymy\\\n",
       "n3jp9QvWogAGEHULtyxUZW1lUNtW1lZq4eaFEY7IXVrTDMRLzdq82jTF7c2AgsnRQJrKXaccj3DO\\\n",
       "e+HMV6vz3g3zKBIxOiVv7HTzmptDytGb194c4Yga8tLrF6xFAXyeXbt2acmSJZo8ebIuuugi+Xw+\\\n",
       "JSW1PGHWr1+vgQMHKjU1VVlZWRo3bpwKCwubHVNYWKhx48YpKytLqampGjhwoF5++WWrdgVwBZqV\\\n",
       "tF5rm4F4pVmbF5umxMr8ailHv7zvy6By1ynHozVxhDpf+3fqH1aM1114XZPL3TCPrI7RKXljpz2l\\\n",
       "e1p85/d8Jf8ssf2eYK+8fsFaPmOMiXYQTnLbbbfpnXfeabAsMTFRNTWB7+dYsGCBli9fruTkZI0a\\\n",
       "NUo1NTXasmWLjDF68803NWnSpEZj/vjHP2ratGn68ccfNWTIEF1wwQXasmWLKioqNH/+fD3zzDOt\\\n",
       "3he+aBtusHj7Yi36aFHo44Yt1kODH4pARO5ztOqoLl1+aUhNX+Lj4nV4/mFP3Q/lxePkxvlVWlWq\\\n",
       "l4pf0rb/2aYTp08oLSFNQ7sM1ex+s1v9PDjleNgZx8LNC/Ufn/5HyH/r3275N/1u+O8aLXfDPLI6\\\n",
       "RqfkjZ1Grh+pzQc3hz6u60htumtTBCKKHVyfRx/vAJ9n0KBBevTRR7Vx40YdPXq0xe0//PBDLV++\\\n",
       "XNnZ2friiy/09ttv64MPPtD27dvVpk0bzZw5U+Xl5Q3GlJeXa+bMmTp79qzy8vK0detW5eXlqaSk\\\n",
       "RN27d9fy5cv10UcfRWoXAUdxQ0MVp6MZSHC8eJzcNL/saDDklONhZxzF3xWH9beK/lHU5HI3zCOr\\\n",
       "Y3RK3tip+Gh4eRNu0zXAThTA53nwwQf1+OOPa8KECerYseWT9bJlyyRJixYt0hVXXOFfPmjQIN13\\\n",
       "332qrKzUmjVrGox56aWXVFlZqdzcXE2ePNm/vGPHjlq6dKkkWfIOMOAGbmio4gY0AwmO146TW+aX\\\n",
       "XQ2GnHI87IwjEn/LDfPIyhidkjd2On32tK3jADtRALdC/UedJWnq1KmN1tcv27hxY4Pl+fn5AceM\\\n",
       "Hz9eSUlJ2rx5c7MfuwZihRsaqrgBzUCC47Xj5Jb5ZVeDIaccDzvjiMTfcsM8sjJGp+SNnRLaJNg6\\\n",
       "DrBT22gH4GYlJSWqra1Vhw4ddPHFFzda37//T40n9uzZ02B5/e/168+VkJCga665RkVFRfr666/V\\\n",
       "p0+fCEQOOEfOZTkqOFAQ8jg3NyaKlPpmIE/c+oRWf75aW/+21fJ7KGOBl46TG+ZXuA2Gnrj1iZCf\\\n",
       "J6ccDzvjiNTfcsM8sipGp+SNnfp36h/WPcADOg+IQDSAtWiC1QKfzxewCda7776r3Nxc9evXT8XF\\\n",
       "Td8r0b59e1VUVOiHH35QWlqafvjhB2Vk/PS9f5WVlUpPT280ZtKkSXr77bf17rvvauLEiWHH7sab\\\n",
       "7CPZ/ATO5IaGKkBrNXdukxSx854b5lekGwyde+zLqstU/F2xjIK/9InE8bDzeXFqDrjp9d6pxzCS\\\n",
       "9pTuUZ8XQ38T5sv7vtQ1Ha+JQESxw43X57GGd4BboaqqSpLUrl27gNukpKSooqJCVVVVSktL849p\\\n",
       "blxKSkqDx29J/UQ63/79+9WtW7egHiPaquuqNe+DeVq3e12jF5iCAwX6963/rpl9Z2rF2BWu/0gi\\\n",
       "GqpvVrKqeFXQY9zemAje0dK5bdGHi+Tz+fSj+bHROivOe26YX61pMNRcAdzcsQ9FJI6Hnc+L03LA\\\n",
       "ja/3TjuGdujdsbd6ZvcM6auQel7Qk+IXrsA9wK1Q/+a5z+drcZtAvwczJtbZ1fwEzrVk+BJlJGYE\\\n",
       "tW1GYoaWjFgS4YiA1gvm3GZkGhW/9aw67zm9YVEkGgwFc+yDEcnjYefz4pQccPPrvVOOoZ0+nfVp\\\n",
       "SK/NO2bviHBEgDUogFshLe2n5gYnT54MuM2pU6ckSampqQ3GnLuupTEt2bt3b5M/bnn3167mJ3Cu\\\n",
       "hVsWqrK2MqhtK2srtXDzwghHBLReKOe25rT2vOf0hkWRaDDU2mNvx/Gw83lxSg64+fXeKcfQTlnt\\\n",
       "snRg7gH1vKBns9v1vKCn/vbrvykzKdOewIBW4h7gFjR3D/Du3bvVr18/dejQQd9//32j9SdPnlRq\\\n",
       "aqoyMzMbfBdwZmamKisrtXfvXvXq1avRuOuvv15FRUXavXt3q5pgueEeAy/eV4OGyAHEonDyujlW\\\n",
       "5XxpVanjGhZZfQ9wOMfeJ5/6de6n7OTsqBwPO5+XaOVALJ3rnTiPIu2r0q+0YNMC7fpul06fPa2E\\\n",
       "Ngka0HmAnhn1DB97DpEbrs9jHQVwC5orgKurq9W+fXvV1tbq8OHDjTpBf/zxxxoyZIiGDBmibdv+\\\n",
       "9R/PnJwcbd++Xa+88oruvPPOBmPq6uqUnp4uY4wqKiqUlBT+fxDdMMEi3fwEzkcOINKsbrYTzOOF\\\n",
       "m9fNidWct7ow4pziTE58XuxsxOWmpl+ILDdcn8c6PgLdCsnJyRo2bJgkKS8vr9H6+mUTJkxosHz8\\\n",
       "+PEBx+Tn56umpkbDhw9vVfHrFq1pfoLYQA4gUqrrqjVn4xxdsvwSLfpokQoOFOizI5+p4ECBHv7w\\\n",
       "YV2y/BL9YuMvVHMmuO9cD+XxrPjo8/liNefrGwyForkGQ5xTnMlJz4vV5wan/C0AwaEAbqUFCxZI\\\n",
       "kp588kl98803/uU7duzQypUrlZ6ertmzZzcYc8899yg9PV3vvPOONmzY4F/+/fff64EHHmjwuLEu\\\n",
       "Es1P4C7kACLB6mY7oT5esPe0hyKWc97KBkOcU5zJKc+LnY243Nz0C4hlFMDnee+993TjjTf6fyTp\\\n",
       "9OnTDZa99957/u1HjBihefPm6fjx4+rbt69uu+02jRs3TkOGDFFdXZ3WrFmjrKysBn8jKytLa9as\\\n",
       "UVxcnKZOnapbb71V06ZNU48ePfTtt99q7ty5Gj58uK37HS2RaH4CdyEHEAlWN9sJ9fH+/sPfg9o2\\\n",
       "FLGc81Y2GOKc4kxOeV7sbMTl5qZfQCyjAD7PsWPHtHPnTv+P9NPXEp277NixYw3GPPvss1q7dq2u\\\n",
       "uuoqFRQUqLCwUMOHD9e2bds0ZcqUJv/OlClTtH37do0ePVq7d+/W+++/r27dumnNmjVascL9rfOD\\\n",
       "Fex//M83tMtQawNB1JADsNrRqqNat3tdSGPW7l6r0qpSyx7vu6rvQto+GLGe88nxyVo5caUOzz+s\\\n",
       "xcMWa2TXkbrx4hs1sutILR62WIfnH9bKiStb7K7LOcWZnPC8WH1ucMrfAhAammDFMDfcZB9LXSER\\\n",
       "HnIAVrO62U64jxfniwv4Hb+hIueDxznFmZzwvNjZiMuJTb/gDG64Po91vAOMqLK6+QnchxyA1axu\\\n",
       "thPu43VO7RzWuKaQ88HjnOJMTnhe7GzE5aSmXwAaogBG1FnZ/ATuRA7ASlY32wn38S5Kvyjsj32e\\\n",
       "i5wPHecUZ4r282JnIy6nNP0C0BgFMKLOyuYncCdyAFayutlOuI+XkZjRYl7HKU5xvqZfisn58HFO\\\n",
       "caZoPy92NuJyStMvAI21jXYAgPSv5idP3PqEVn++Wlv/tpUvivcYcgBWybksRwUHCkIeF6jZTmse\\\n",
       "L5i8lkTORwDnFGeK5vNi9bnBKX8LQGhoghXDuMkegBdZ3WzHCc17ALSenXOZ8wYC4fo8+vgINAAg\\\n",
       "pljdbMcJzXsAtJ6dc5nzBuBcFMAAgJhjdbOdaDfvAWANO+cy5w3AmSiAAQAxx+pmO9Fu3gPAGnbO\\\n",
       "Zc4bgDNxD3AM4x4DAJBKq0otbbZj9eMBiA475zLnDdTj+jz6KIBjGBMMAAAAcA6uz6OPj0ADAAAA\\\n",
       "ADyBAhgAAAAA4AkUwAAAAAAAT6AABgAAAAB4AgUwAAAAAMATKIABAAAAAJ5AAQwAAAAA8AQKYAAA\\\n",
       "AACAJ1AAAwAAAAA8gQIYAAAAAOAJFMAAAAAAAE+gAAYAAAAAeAIFMAAAAADAEyiAAQAAAACeQAEM\\\n",
       "AAAAAPAEnzHGRDsIREZaWprq6urUrVu3aIcCAAAAeN7+/fsVHx+vEydORDsUz+Id4BiWkpKi+Pj4\\\n",
       "aIeh/fv3a//+/dEOAw5EbiAQcgPNIT8QCLmBQJySG/Hx8UpJSYl2GJ7GO8CIuKuvvlqStHfv3ihH\\\n",
       "AqchNxAIuYHmkB8IhNxAIOQG6vEOMAAAAADAEyiAAQAAAACeQAEMAAAAAPAECmAAAAAAgCdQAAMA\\\n",
       "AAAAPIEu0AAAAAAAT+AdYAAAAACAJ1AAAwAAAAA8gQIYAAAAAOAJFMAAAAAAAE+gAAYAAAAAeAIF\\\n",
       "MAAAAADAEyiAETE1NTV67LHHdOWVVyopKUkXXnihZs2apSNHjkQ7NETQqVOn9Pbbb2v27Nnq3bu3\\\n",
       "0tPTlZKSoj59+uiJJ55QVVVVwLHr16/XwIEDlZqaqqysLI0bN06FhYU2Rg+7lZWV6Wc/+5l8Pp96\\\n",
       "9uzZ7Lbkh3ccPXpU8+fP15VXXqnk5GRlZWVpwIABeuCBB5rcntzwhs8++0xTpkxRp06dFB8fr6ys\\\n",
       "LA0fPlx5eXkBx5AbsWPXrl1asmSJJk+erIsuukg+n09JSUktjgsnBwoLCzVu3DhlZWUpNTVVAwcO\\\n",
       "1Msvv2zVriDaDBAB1dXV5qabbjKSTOfOnc306dPNwIEDjSTToUMH8+2330Y7RETIqlWrjCQjyVx9\\\n",
       "9dVm2rRpZvTo0SYtLc1IMj179jSlpaWNxs2fP99IMsnJySY3N9eMHj3atG3b1rRp08Zs2LAhCnsC\\\n",
       "O8yYMcP4fD4jyfTo0SPgduSHdxQWFprMzEwjyfTq1ctMnz7djB071lx22WWmTZs2jbYnN7zhjTfe\\\n",
       "MHFxcUaSue6668ztt99uBg8e7F/24IMPNhpDbsSW3Nxc//VF/U9iYmKzY8LJgQ0bNpg2bdoYn89n\\\n",
       "cnJyzJQpU/znpPnz50di12AzCmBExCOPPGIkmUGDBpkTJ074ly9btsxIMkOGDIlidIikl19+2dx/\\\n",
       "//1m3759DZb/4x//MP369TOSzB133NFg3ZYtW4wkk52d3WBcYWGhSUhIMBkZGaasrMyW+GGfzZs3\\\n",
       "G0lmzpw5zRbA5Id3/P3vfzeZmZkmOTm5yYvTnTt3Nvid3PCGuro606FDByPJvPbaaw3WFRYWmqSk\\\n",
       "JOPz+Rr8c53ciD1Lliwxjz76qNm4caM5evRoiwVwODlQVlZmMjIyjCTz1ltv+ZcfPXrUdO/e3Ugy\\\n",
       "H374ofU7B1tRAMNyp0+f9v+nrLi4uNH63r17G0mmqKgoCtEhmgoLC/0vWLW1tf7l48aNM5LM8uXL\\\n",
       "G42ZO3eukWSefvppGyNFpJ06dcp0797d9OrVy+zbt6/ZApj88I677rrLSDLPPfdcUNuTG97w5Zdf\\\n",
       "+j9B1JT6dwZff/11/zJyI/a1VACHkwNLly41kkxubm6jMRs2bDCSzIQJE1obOqKMe4BhuU8++UQV\\\n",
       "FRXq1q2b+vXr12j91KlTJUkbN260OzREWZ8+fSRJtbW1On78uKSf7hXfsmWLpH/lxrnIl9j0+OOP\\\n",
       "a//+/XrhhRcUHx8fcDvywzvKy8v1xhtvKCMjQ/fcc0+L25Mb3pGYmBjUdllZWZLIDYSfA/n5+QHH\\\n",
       "jB8/XklJSdq8ebNqamqsDhk2ogCG5b744gtJUv/+/ZtcX7+8fjt4x4EDByTJ37xEkkpKSlRbW6sO\\\n",
       "HTro4osvbjSmPl/27NljX6CIqD179mjZsmWaOXOmhgwZ0uy25Id3fPrpp6qtrdUtt9yi+Ph45eXl\\\n",
       "6de//rV+9atf6bnnnlNpaWmD7ckN7+jatau6du2qkpISvfHGGw3W7dixQ3/60590+eWX+88n5AbC\\\n",
       "zYH635u6hk1ISNA111yjmpoaff311xGIGnahAIblDh06JElNnnDOXV6/HbxjxYoVkqQxY8b4/6Pf\\\n",
       "Ur6kpKQoMzNT5eXlOnHihD2BImJ+/PFH3XvvvcrMzNTSpUtb3J788I69e/dKkjp27KjBgwdr2rRp\\\n",
       "WrFihZ5//nnNnTtX3bp105tvvunfntzwjjZt2mjdunXKyMjQ7bffruuvv14///nPlZOTo1tuuUV9\\\n",
       "+/bVpk2blJCQIIncQHg58MMPP6iioqLZcVzDxgYKYFiu/mtu2rVr1+T6lJSUBtvBG95//32tXr1a\\\n",
       "8fHx+u1vf+tf3lK+SORMLHnuuef05z//WU899ZSys7Nb3J788I7y8nJJP31lyZ49e7R69WodO3ZM\\\n",
       "Bw8e1IIFC3Ty5Endeeed/ndoyA1vGTx4sLZt26bLL79cRUVFev3117V9+3alpKRoxIgRuvDCC/3b\\\n",
       "khsIJwfOzQWuYWMbBTAsZ4yRJPl8vmbXwzv++te/6s4775QxRk899ZT/XmCp5Xw5dxu42+HDh7Vo\\\n",
       "0SLl5OTo7rvvDmoM+eEdZ8+elSSdOXNGzzzzjGbNmqULLrhAXbp00bJlyzR16lSdPn3a/8kBcsNb\\\n",
       "Xn31Vd1www269NJLtXPnTlVVVWnfvn2644479OSTT2rEiBGqq6uTRG4gvBwIJifIm9hAAQzLpaWl\\\n",
       "SZJOnjzZ5PpTp05JklJTU22LCdFz5MgRjRkzRuXl5VqwYIHmzZvXYH1L+SKRM7Hil7/8pU6fPq0X\\\n",
       "Xngh6DHkh3fUP9dxcXGaMWNGo/WzZs2SJG3durXB9uRG7Pvmm280Y8YMdejQQe+9954GDhyolJQU\\\n",
       "XXHFFVq5cqUmTpyoHTt2aO3atZLIDYSXA/Vjzl3X0hi4U9toB4DYc+mll0r6qfBpSv3y+u0Qu/75\\\n",
       "z39q5MiROnTokGbOnKmnn3660TYt5cvJkydVUVGhzMzMBi9OcJ/8/HxlZmbq/vvvb7C8vpvmoUOH\\\n",
       "NHToUP+2qamp5IeHdOnSRZLUqVOnJrv+1q///vvvJXHu8JLXXntNdXV1GjNmjP8jqOeaPn26Nm7c\\\n",
       "qK1bt2rOnDnkBsLKgfT0dGVkZKiyslJHjhxRr169Go3jGjY2UADDcvUfby0uLm5yff3y3r172xYT\\\n",
       "7HfixAmNHTtWJSUlmjx5slatWtXkR5F69OihxMREHTt2TEeOHGnUeIJ8iS0VFRXatm1bk+uqq6v9\\\n",
       "686cOSOJ/PCS+q/NKy8vlzGm0fmi/qvT6t95ITe8o77oSE9Pb3J9/fKysjJJ5AbCz4E+ffpo+/bt\\\n",
       "Ki4ublQA19XV6auvvlJiYqJ69OgR2R1ARPERaFju5ptvVkZGhvbv36/PP/+80fq8vDxJ0oQJE+wO\\\n",
       "DTapra1Vbm6uioqKNHr0aL366qtq06ZNk9smJydr2LBhkv6VG+ciX2KHMabJn4MHD0r66YKlfllm\\\n",
       "ZqYk8sNLrr32Wl1++eWqrq7Wzp07G62v/+hz/deTkBve0alTJ0lSUVFRk+v/8pe/SPrXpwTIDYSb\\\n",
       "A+PHjw84Jj8/XzU1NRo+fLiSkpKsDhl2MkAEPPzww0aSuemmm0xVVZV/+bJly4wkc8stt0QxOkTS\\\n",
       "mTNnzKRJk4wkM3jwYHPy5MkWxxQUFBhJJjs72+zbt8+/vLCw0CQmJpr09HRz/PjxSIaNKDp48KCR\\\n",
       "ZHr06NHkevLDO1588UUjyVx//fXm2LFj/uVFRUUmMzPTSDJvvvmmfzm54Q27du0ykowk8/zzzzdY\\\n",
       "t2PHDpOSkmIkmYKCAv9yciP2STKJiYkB14eTA8ePHzfp6elGknnrrbf8y0tLS0337t2NJLN582br\\\n",
       "dwa2ogBGRFRXV5sbbrjBSDKdO3c206dP9/+enZ1tvvnmm2iHiAh59tln/RcqkyZNMjNmzGjy59yL\\\n",
       "W2OMmTdvnpFk2rVrZ3Jzc83YsWNN27ZtTVxcnMnLy4vS3sAOLRXAxpAfXnH27Fkzbdo0I8lkZWWZ\\\n",
       "CRMmmKFDh5qEhAQjydx7772NxpAb3vCb3/zG/9py9dVXm2nTppmbb77ZxMXFGUlmzpw5jcaQG7El\\\n",
       "Pz/f3HDDDf4fScbn8zVYlp+f32BMODmQl5dn4uLijM/nM0OHDjVTp071/wNu7ty5duwqIowCGBFz\\\n",
       "6tQp88gjj5hu3bqZhIQE07FjRzNjxgxz6NChaIeGCHrsscf8FynN/Rw8eLDR2LVr15oBAwaYdu3a\\\n",
       "mYyMDDN69Gjz8ccf278TsFUwBbAx5IdXnD171vz+9783/fr1M+3atTMpKSnmpptuMuvXrw84htzw\\\n",
       "hg0bNphRo0aZ7Oxs07ZtW9O+fXtz6623mj/84Q8Bx5AbsWPt2rUtXlusXbu2yXGh5sAnn3xixowZ\\\n",
       "YzIzM027du3MgAEDzJo1ayK0Z7Cbzxi+0AoAAAAAEPtoggUAAAAA8AQKYAAAAACAJ1AAAwAAAAA8\\\n",
       "gQIYAAAAAOAJFMAAAAAAAE+gAAYAAAAAeAIFMAAAAADAEyiAAQAAAACeQAEMAAAAAPAECmAAAAAA\\\n",
       "gCdQAAMAAAAAPIECGAAAAADgCRTAAAAAAABPoAAGAAAAAHgCBTAAAAAAwBMogAEAAAAAnkABDAAA\\\n",
       "AADwBApgAAAAAIAnUAADAAAAADyBAhgAAAAA4AkUwAAAAAAAT6AABgAAAAB4AgUwAAAAAMATKIAB\\\n",
       "AAAAAJ5AAQwAAAAA8AQKYAAAAACAJ1AAAwAAAAA8gQIYAAAAAOAJFMAAAAAAAE+gAAYAAAAAeAIF\\\n",
       "MAAAAADAEyiAAQAAAACeQAEMAAAAAPAECmAAAAAAgCdQAAMAAAAAPIECGAAAAADgCRTAAAAAAABP\\\n",
       "oAAGAAAAAHgCBTAAAAAAwBMogAEAAAAAnkABDAAAAADwBApgAAAAAIAnUAADAAAAADyBAhgAAAAA\\\n",
       "4AkUwAAAAAAAT6AABgAAAAB4AgUwAAAAAMATKIABAAAAAJ7wv99oD50u2zecAAAAAElFTkSuQmCC\\\n",
       "\"\n",
       "  frames[2] = \"data:image/png;base64,iVBORw0KGgoAAAANSUhEUgAAA8AAAALQCAYAAABfdxm0AAAAOXRFWHRTb2Z0d2FyZQBNYXRwbG90\\\n",
       "bGliIHZlcnNpb24zLjkuMiwgaHR0cHM6Ly9tYXRwbG90bGliLm9yZy8hTgPZAAAACXBIWXMAABcS\\\n",
       "AAAXEgFnn9JSAADRRUlEQVR4nOzdf3xUV4E3/s8EBpo2EAhUSEsoplVTW1oItcJDgZQy6Y81ttru\\\n",
       "+rjKShoNXd2VQnVNIc93tTp9qG6LqLs20pBYXH+sVXdltW2GQqC24ApDhFbiUwm0oSVjS0rKQCCB\\\n",
       "zPcPTID8mNx75txzzzn3895XX6+VzJ177vl178nM+SSUSqVSICIiIiIiIrJclt8FICIiIiIiIlKB\\\n",
       "C2AiIiIiIiIKBC6AiYiIiIiIKBC4ACYiIiIiIqJA4AKYiIiIiIiIAoELYCIiIiIiIgoELoCJiIiI\\\n",
       "iIgoELgAJiIiIiIiokDgApiIiIiIiIgCgQtgIiIiIiIiCgQugImIiIiIiCgQuAAmIiIiIiKiQOAC\\\n",
       "mIiIiIiIiAKBC2AiIiIiIiIKBC6AiYiIiIiIKBC4ACYiIiIiIqJA4AKYiIiIiIiIAoELYCIiIiIi\\\n",
       "IgoELoCJiIiIiIgoELgAJiIiIiIiokDgApiIiIiIiIgCgQtgIiIiIiIiCgQugImIiIiIiCgQuAAm\\\n",
       "IiIiIiKiQOACmIiIiIiIiAKBC2AiIiIiIiIKBC6AiYiIiIiIKBC4ACYiIiIiIqJA4AKYiIiIiIiI\\\n",
       "AoELYCIiIiIiIgoELoCJiIiIiIgoELgAJiIiIiIiokDgApiIiIiIiIgCgQtgIiIiIiIiCgQugImI\\\n",
       "iIiIiCgQuAAmIiIiIiKiQOACmIiIiIiIiAKBC2AiIiIiIiIKBC6AiYiIiIiIKBC4ACYiIiIiIqJA\\\n",
       "4AKYiIiIiIiIAoELYCIiIiIiIgoELoCJiIiIiIgoELgAJiIiIiIiokDgApiIiIiIiIgCgQtgIiIi\\\n",
       "IiIiCgQugImIiIiIiCgQuAAmIiIiIiKiQOACmIiIiIiIiAKBC2AiIiIiIiIKBC6AiYiIiIiIKBC4\\\n",
       "ACYiIiIiIqJA4AKYiIiIiIiIAoELYCIiIiIiIgoELoCJiIjIE42NjQiFQgiFQn4XhYiICAAXwERE\\\n",
       "ZKAjR46grq4On/zkJ/H+978fl1xyCUaPHo0pU6bgrrvuwi9+8Qu/i0hEREQaCqVSqZTfhSAiInIj\\\n",
       "HA7j9OnTff/7oosuwogRI3D8+PG+f7v99tvx1FNP4eKLL/ajiISznwDffPPNAAA+bhARkQ74CTAR\\\n",
       "ERnn9OnTuPHGG/Fv//Zv2L9/Pzo7O5FMJnHgwAFUVFQAAJ5++mksXbrU55ISERGRTvgJMBERGWfL\\\n",
       "li19nywO5r777kNNTQ0A4LXXXkNBQYGqotF5+AkwERHphp8AExGRcdItfgH0fQoMADt37nT9/qdP\\\n",
       "n8b3vvc9lJSUYOLEiQiHw5gwYQLe97734WMf+xjWr18/5LFtbW2oqqrC9ddfj9zcXFx00UUoLCzE\\\n",
       "pz/9afzhD39Ie96enh78x3/8B+666y5cfvnlGD16NC699FLMmjULVVVVeOmllwY9bv/+/fj7v/97\\\n",
       "vOc970F2djbGjh2L4uJiPPTQQ3jnnXcGPaZ/QNWf/vQn3HvvvSgoKOjbT/2Zz3wGr7/+etoyNzc3\\\n",
       "4xOf+AQmT57cd63/+I//iEQikfY4APjtb3+LT3ziE3j3u9+Niy66CJdccgmuuOIKLFiwAF/96ldx\\\n",
       "6NChYd+DiIjIlRQREZFl9uzZkwKQApD66U9/6urY06dPpyKRSN/xAFK5ubmp0aNHX/Bvg9m4cWMq\\\n",
       "Jyen7zXhcDh1ySWX9P3vUaNGpb7//e8Peuybb76Zmj9//oDzhsPhvv995513DjjuJz/5yQVlGzNm\\\n",
       "zAX/u6CgIPWHP/xhwHFbtmzpe83mzZv7yj1mzJjUyJEj+3522WWXpQ4dOjRomZ9++ukLzpWTk5O6\\\n",
       "6KKLUgBS+fn5qfXr1w9ZX/X19alQKNT389GjR6fGjh17wfXX1dUN3VBEREQC+AkwERFZp7Gxse//\\\n",
       "nz59uqtjf/SjHyEWi+Giiy7CE088gWPHjuHo0aPo7OxEIpHAz3/+c9x9990Djvuf//kf3H333Ugm\\\n",
       "k1i6dCn27dvXtzf51VdfxWc/+1l0dXWhoqJiwKfSp0+fxl133YVt27Zh9OjReOSRR/DnP/+577wH\\\n",
       "DhxATU0N3v/+919wXDwexyc/+UmcOnUKc+fOxe9//3u88847OHHiBH75y18iPz8fra2tKCsrQzKZ\\\n",
       "HPKa7777bixcuBD79u3DO++8g+PHj+MnP/kJxowZgzfeeAMPPvjggGMOHTqEj33sYzh16hSuu+46\\\n",
       "/Pa3v8WxY8dw/PhxPP300xgxYgRWrFgx6PlOnDiBf/zHf0QqlcInP/lJ/OlPf8LJkyfR0dGBZDKJ\\\n",
       "nTt34otf/CLe9a53OWkyIiIi5/xegRMREcn09ttvp/Lz81MAUvPmzXN9/N///d+nAKQqKytdHfeB\\\n",
       "D3wgBSD1f/7P/xnyNZ///OcH/ST3iSeeSAFIhUKh1K9+9SvH57zttttSAFJXXXVV6vjx4wN+Ho/H\\\n",
       "+z7N/cY3vnHBz87/BPjmm29OnTlzZsDx3/rWt1IAUtnZ2anu7u4LftZbTxMmTEglEokBx+7du/eC\\\n",
       "T6/P99vf/jYFIHXJJZcMeF8iIiIv8RNgIiKyRk9PDxYvXozDhw9j9OjR+Pa3v+36PcaNGwfg7F5e\\\n",
       "p37/+9/jd7/7HcLhMB544IEhX/d3f/d3AIBNmzbhzJkzff/eu6f4jjvuwB133OHonEePHsWzzz4L\\\n",
       "APjiF7846J97mjlzJj760Y8COPvJ9lBWrlyJrKyBjwR33nknAKCzsxOvvPJK37+nUin85Cc/AXA2\\\n",
       "cGywT2qvvfZa3HPPPYOer7eOu7q6cOTIkSHLRUREJBsXwEREZI1ly5bhv//7vwEA//Zv/4brr7/e\\\n",
       "9XvccccdCIVC+OUvf4nbb78dP/rRj/DGG2+kPeY3v/kNgLML8Pe9732YPHnyoP/ddtttAIDjx4/3\\\n",
       "LfxOnz6N3/3udwCAsrIyx+WMx+N9ycqLFi0a8nWRSAQAsGfPHnR3dw/6mg9+8IOD/vtll13W9/+3\\\n",
       "t7f3/f8HDhzo+98LFy4c8txD/ezKK69EUVERuru78cEPfhCPPPIImpqaLvilABERkRe4ACYiIit8\\\n",
       "4QtfwHe+8x0AwJo1a3DvvfcKvc9NN92ERx55BKNGjcIzzzyDv/3bv8Xll1+OgoIClJeXY8uWLQOO\\\n",
       "6V0gnzlzBolEYsj/3nrrrb5jTpw4AQA4cuRI38L0iiuucFzOP//5z33//+WXXz7k66ZMmQLg7EL7\\\n",
       "/EXs+caMGTPov48cObLv/z9/8ez23P2NGDECP/7xj/Hud78br776KqqqqjBz5kyMHTsWkUgE3/3u\\\n",
       "d/vqh4iISCYugImIyHj/9E//hEcffRQA8I1vfAP3339/Ru/3xS9+EQcOHMCaNWtw11134V3vehcO\\\n",
       "HTqE+vp6LFy4EH/91399wYKw95PLoqIipFIpR/9NmzZtwHl7/ySRV7x4f9H3vP7669Hc3Iyf/exn\\\n",
       "qKysxLXXXovOzk5s2rQJn/3sZ1FUVIS9e/dKLi0REQUdF8BERGS0L37xi/jGN74BAPj617+OL3zh\\\n",
       "C1Le97LLLsP999+PX/ziF0gkEtizZw8+/elPAwCeeuopfPe73+177eTJkwEALS0tOH78uKvzTJgw\\\n",
       "AeFwGABw8OBBx8edv+823d/L7f3ZyJEjMX78eFdly/Tcw/0N4VGjRuGjH/0oampqsHfvXrz55pt4\\\n",
       "/PHHkZeXh9bWVnzqU5+SUl4iIqJeXAATEZGxvvCFL+Bf/uVfAJxd/H7xi1/07FzTp0/HunXrMHfu\\\n",
       "XABALBbr+1nvv3V1deEXv/iFq/cdOXIkbrzxRgDAxo0bHR9XXFzcF1z13HPPDfm6TZs2ATj7iWvv\\\n",
       "QjtT7373u5GXlwcAg34lvNfmzZtdve+ECROwdOlSPPLIIwCA3bt3MySLiIik4gKYiIiM9IUvfKHv\\\n",
       "a8//8i//Im3xe+rUqbQ/z87OBnB2H2uvG264ATNnzgQArFq1Cm+++Wba9+i/F7eiogIA8Otf/xq/\\\n",
       "/vWvHZVz3LhxuPXWWwGc/dr3YHtmf//73+NnP/sZAODjH/+4o/d1IhQK4W/+5m8AAI8//vgFe5t7\\\n",
       "/eEPf8BTTz016PFO6xi4sJ6JiIgyxQUwEREZ50tf+lLf4vexxx5L+6eH3Lrrrrtw77334umnn8bR\\\n",
       "o0f7/r29vR1f+9rX+j5tPf/PFYVCITz++OMYPXo0XnvtNXzwgx/EU089dcGi9PXXX8cPfvADRCIR\\\n",
       "fOlLX7rgnIsXL8ZNN92EVCqFu+++G9/4xjf6FpVnzpzBwYMHsWbNmgHHRaNRhMNh/OlPf8Ktt97a\\\n",
       "t2e2p6cHv/71r3HHHXfg9OnTuPLKK7F06VJpdQQADz74IMaMGYO33noLkUgEO3fuBHD2TyQ1NDTg\\\n",
       "9ttvH/RPMwHAj3/8Y8ydOxc1NTVoaWnp+/czZ87g2WefRVVVFQBgzpw5fX8yiYiISIZQqvdvKBAR\\\n",
       "ERngtdde60tLzsrKwqWXXpr29V/4whdc7QsuKSnB1q1b+/732LFjAQDvvPNO37/dc889+MlPfjLg\\\n",
       "b+fGYjF8/OMf7/va7ogRIzBu3Dh0dnZesBj+9Kc/jXXr1l1w7FtvvYWPfvSjeP755wGcXVTn5ubi\\\n",
       "+PHjfYFbd955J/7zP//zguN+8pOf4O/+7u/Q1dXVV96uri6cPHkSAFBQUIBnn30WV1999QXHNTY2\\\n",
       "4uabbwYApHsU6A252rJlC0pKSi742a9+9SvcfffdfZ/ojhkzBqdPn0ZnZyfy8/MRjUb70rjPP0d9\\\n",
       "fT3Ky8v7/vfo0aORk5ODt99+Gz09PQDO7sF+7rnnUFRUNGTZiIiI3Bo5/EuIiIj00btA6v3/E4lE\\\n",
       "2tcnk0lX7//tb38bTz/9NLZu3YpXXnkFbW1tOHnyJC677DLccMMN+NSnPoWPfvSjgx4biUTwpz/9\\\n",
       "CY8//jh+9atf4Q9/+AOOHj2K7OxsvP/978ecOXNw55139v1t3vNNnDgRjY2N+NGPfoR///d/x65d\\\n",
       "u/D2229j/PjxKCgoQCQSweLFiwcc97GPfQyzZs3Cv/zLv2DTpk04dOgQwuEwZsyYgY985CO4//77\\\n",
       "+xbxsv3VX/0V4vE4vvrVr2Lz5s3o6OhAfn4+PvShD6G6uhr79u0b9LgPf/jDePLJJ7FlyxbE43Ec\\\n",
       "PnwY7e3tGDNmDN73vvehrKwM//AP/8BPf4mISDp+AkxERERERESBwD3AREREREREFAhcABMRERER\\\n",
       "EVEgcAFMREREREREgcAFMBEREREREQUCF8BEREREREQUCFwAExERERERUSBwAUxERERERESBwAUw\\\n",
       "ERERERERBQIXwERERERERBQIXAATERERERFRIIz0uwDkncmTJ+P48eOYOnWq30UhIiIiIgq81157\\\n",
       "DZdccgna2tr8Lkpg8RNgix0/fhzd3d1+F4OIiIiIiAB0d3fj+PHjfhcj0PgJsMV6P/l9+eWXfS4J\\\n",
       "ERERERFdc801fhch8PgJMBEREREREQUCF8BEREREREQUCFwAExERERERUSBwAUxERERERESBwAUw\\\n",
       "ERERERERBQIXwERERERERBQIXAATERERERFRIHABTERERERERIHABTAREREREREFAhfARERERERE\\\n",
       "FAhcABMREREREVEgcAFMREREREREgcAFMBEREREREQUCF8BEREREREQUCFwAExERERERUSBwAUxE\\\n",
       "RERERESBwAWwz06ePIl//ud/xnvf+15cdNFFuOyyy3Dvvffi0KFDfheNiIiIiIjIKiP9LkCQnTx5\\\n",
       "ErfccgtefPFF5Ofn484778TBgwdRV1eH//7v/8b27dtx5ZVX+l1M0lQimcAT8Sew9dWtONZ1DGNG\\\n",
       "jUHJtBJUzKzApJxJfheP+tGlvXQpB+mHfYOIiIIglEqlUn4XIqj+v//v/8NXv/pVzJkzBw0NDcjJ\\\n",
       "yQEAPPbYY3jggQcwf/58bN26Vfj9r7nmGgDAyy+/LKW8pIfO7k4se2YZ6pvq0d3TPeDn4awwymeU\\\n",
       "Y+3ta3HRyIt8KCGdT5f20qUcpB/2DSIidfh87j8ugH3S3d2Nd73rXTh69Cji8Thmzpx5wc+vv/56\\\n",
       "7NmzBzt37sSsWbOEzsEBZp/O7k7c/u+3Y+urw/9iZMEVC/D0J55GdjhbQcloMLq0ly7lIP2wbxAR\\\n",
       "qcXnc/9xD7BPfvOb3+Do0aO48sorByx+AeCee+4BAGzcuFF10Uhjy55Z5uhBFQC2vroV9z9zv7cF\\\n",
       "orR0aS9dykH6Yd8gIqKg4QLYJ7///e8BAMXFxYP+vPffe19H1JZsQ31Tvatj6prqkEgmvCkQpaVL\\\n",
       "e+lSDtIP+wYREQURF8A+ee211wAAU6ZMGfTnvf/e+zqi2njtoPvz0unu6Ubt7lqPSkTp6NJeupSD\\\n",
       "hpZIJhDdFkXphlLMqZ2D0g2lePj5hz1faLJvENH5Xkq8hMiTEUz4+gSM+b9jMOHrE1C6oRQvJV7y\\\n",
       "u2hEUnEB7JNkMgkAuPjiiwf9+SWXXHLB69K55pprBv1v//798gpMvnP6NcX+Gg82yi0IOaJLe+lS\\\n",
       "Dhqos7sTlRsrUbCmANVbqhFriWHHoR2ItcSwavMqFKwpwNKNS3Hy9ElPzs++QUQA0H6iHVd/52pM\\\n",
       "f3w6Nh3YhPbOdiS7kmjvbEesJYbpj0/H1f96NY6ePOp3UYmk4ALYJ73ZY6FQKO3PiXod6zqm9DjK\\\n",
       "jC7tpUs56EK94VPr4uuG/BS2u6cb34t/D7f94DZ0dndKLwP7BhG1n2hH4bcK0XykOe3rmt9qxrRv\\\n",
       "TkP7iXZFJSPyDv8OsE/GjBkDADh+/PigPz9x4gQA9P1ppHSGSpHrTZkjO4wZNUbpcZQZXdpLl3LQ\\\n",
       "hUTCp2rKaqSWgX2DiOaun4uOUx2OXttxqgNz6+Zi3+f2eVwqIm/xE2CfTJ06FQBw6NChQX/e+++9\\\n",
       "ryN9+LVfb8EVC4SOa36rWVkZ6RzR9iqZVmJlOegcXcKn2DeIgm1PYs+wn/z21/xWM/cEk/G4APbJ\\\n",
       "9ddfDwCIx+OD/rz336+77jplZaL0/N6vV1FcgXBW2PVxre+0KisjnSPSXuGsMCpmVlhZDjpHl/Ap\\\n",
       "9g2iYHvg2QeEjlvRsEJySYjU4gLYJ3PnzkVubi7279+P3bt3D/j5U089BQD40Ic+pLpoNAgd9utN\\\n",
       "zpmMJTOWZPQeXpeRzhFpr/IZ5ZiUM8nKctA5uoRPsW8QBVu8bfAPYYaz6/AuySUhUosLYJ+MGjUK\\\n",
       "//AP/wAA+Id/+IcL9gI/9thj2LNnD2666SZ84AMf8KuIdB6R/XpeWHvbWuGvLZ7PyzLSOW7aa8EV\\\n",
       "C7D29rVWl4PO0il8in2DKLi6znQpPY5IF1wA+6i6uhof/OAH8eKLL+I973kPPvaxj2H27Nl44IEH\\\n",
       "MGHCBNTV1fldRII++/UAIDucjac/8TQqiyuFvg59Pq/KSOc4aa9wVhiVxZV45pPP4KKRF1ldDjpL\\\n",
       "p/Ap9g2i4Bo1YpTS44h0EUrx7+34qrOzE//3//5f/PCHP0RrayvGjx+P2267DV/96ldRUFCQ0Xv3\\\n",
       "pkAPlRLttUQygSfiT2Drq1txrOsYxowag5JpJaiYWSH9K3Reniu6LYrqLdXuj1sYxcp5KzM6d7rr\\\n",
       "AoDa3bVoPNiI5rea0fpOqy9l1IHKviYqkUz0tZef4wGAsnKYzNY5JR2VfdRWov1G5DiV5yI7RZ6M\\\n",
       "YNOBTe6PK4ygYXGDByUKBr+fz4kLYKv5NcA6uzux7JllqG+qH3S/bDgrjPIZ5Vh7+9qMP01Qca7S\\\n",
       "DaWItcRcH5fJDcLtdflRRh2o7GsmYH1kTkUdtiXbMHXNVFdBWOGsMFqXt3KBoinRfiNynMpzkd32\\\n",
       "JPbg+sevd33c3vv24tpJ13pQomDgAth//Ao0SaUyLErVuVTv1xO5Lp32FKqiQzCZTlgfmVNVhwyf\\\n",
       "sotovxE5TuW5yH7XTboORROKXB1TNLGIi18yHhfAJJXKsChV51K9X0/kunTaU6iKLsFkumB9ZE5l\\\n",
       "HTJ8yh6i/UbkOJXnomB44d4XkDs619Frc0fnYnvFdo9LROQ9LoBJGpVhUSrPJZq6XDKtxPUxotc1\\\n",
       "K3+W63MBYmXUgU7BZDpgfWROdR0yfMoOov1mb2Kv0HF1u92FY2ZyLs4PwZB3cR5aPt+CoonpPwku\\\n",
       "mliEg/cfxLiLxqkpGJGHuAAmaWrjta72tAFnv3JVu7tW63NVFFe4TlwOZ4X7AoeAs6Ej0W1RlG4o\\\n",
       "xZzaOSjdUIqHn394wAOG6HX1njOTMppEZfubQLQ+PrDuA0P2xaDxow6zw9moKatBvDKORe9ehLzs\\\n",
       "POSMykFedh4ihRHEK+OoKasxdvHrdN4zmWi/mVc3T+i406nTro9Z0bCC8yWllXdxHvZ9bh/23rcX\\\n",
       "kcLIgLlo7317se9z+6QufoMwP5C+GIJlMdWb7FUGMakOfarcWIl18XXOX19ciZqyGqVhVtPGTRMq\\\n",
       "o4mCGvo1FNH6OF/QA3D8qENbQ4lsva7ByOg3XsvLzkN7Z7vr42ydL8lfQZofhsIQLP/xE2CSRmUQ\\\n",
       "k+rQJ5H9eqrDrIK0pzCIoV/pyLiuoAfgqK5DW0OJbL2uoZgwp3Sd6RI6zoRrI7MEbX4gfXEBTNKo\\\n",
       "DGJSHfoksl9PdZhVkPYUBjH0Kx2Z1xXUABzVdWhrKJGt1zUUE+aUUSNGCR1nwrWRWYI2P5C+uAAm\\\n",
       "aVSGRak8V6/e/Xqty1sRXRhFpDCC2VNmI1IYQXRhFK3LW/v26/kVZuWmjCbzo/11JlofQwliAI7K\\\n",
       "OrQ1tMzW60pHdr/xQnF+sdBxts6X5I8gzg+kLy6ASRoZYVE6nqu/STmTsHLeSjQsbsD2iu1oWNyA\\\n",
       "lfNWXvA3OnUIs7J5e7+f7a8jkfpIJ4gBOCrr0NYQN1uvKx3Z/SadcFYYI0MjXR/zWOljnC8FpAtp\\\n",
       "YoCTe37OD2wv6o8LYJJmcs5kLJmxxNUx5TPKL1g46nguEU6/4tPfrsO7Mrquzu5OVG6sRMGaAlRv\\\n",
       "qUasJYYdh3Yg1hLDqs2rULCmAEs3LsXJ0yeFyqcL3dtfNZH6GE7jwUap76c7lXUoOj/o3ia2Xlc6\\\n",
       "XvSboZTPKEf5zHLXx0yfNJ3zpQvD3UfzH83HZY9dZvU91gt+zA9BeSYi97gAJqlUBjHpHPrkR5hV\\\n",
       "0MIldG5/P7ipDyeCGICjqg5tDXGz9bqGI7vfDKZ3DhOd9zhfOuPkPppCCj2pnkF/ZtM9VjbV80PQ\\\n",
       "nonIHS6ASSqVQUw6hz75EWYVtHAJndvfD07qw40gBuCoqkNbQ9xsva7hyO435+s/h4nOe5wvnXFz\\\n",
       "H03HhnusbKrnh6A9E5E7/DvAFvP774wlkgnU7q5F48FGHOs6hjGjxqBkWgkqZlZI/2qVynM5Ed0W\\\n",
       "RfWWavfHLYxi5byVff/b6XW1Jdswdc1UV/trwllhtC5vteJrbrq1v9/Or4/mt5rR+k6r6/fo3xeD\\\n",
       "xss6lDU/6KZqUxUeeeER18c9eNODePiWhz0okXoy+k3B2AIUTSwadg4Tnfc4Xw5O5D6ajk33WBlU\\\n",
       "znu6PxP5/XxOXABbjQPMP6onX1sfqE2TSCbwRPwJbH11qzYPlro+COhYV0ORXYcq2sSP+q2KVeGR\\\n",
       "F4O9AD6frmPPZF72a9H7aNr35D22j8rxoPszEZ/P/cevQBN5QHVIUxDDZ3Sic9CGboFhOtfVUGTX\\\n",
       "oZdt4mf9xtviQsftfGOn5JLoQbexZzIV/VrGV5/74z32HJXjgc9ENBwugIk8ojJ0JKjhMzowIWhD\\\n",
       "lwAcE+pqKLLrcPUtq5E7OtfR++WOzsXqRauHfZ3f9ct5aCBdxp7JVPVrL/qhzX1bhKrxwLmIhsMF\\\n",
       "MJFHVIaOBDV8RgcmBG3oEoBjQl0NRXYdVj1XhY5THY7O3XGqA1WbqoZ9nd/1y3loIF3GnslU9Wsv\\\n",
       "+qHNfVuEqvHAuYiGwz3AFuMeA314HTqi+34XW5m4x8+vABwT62oomdahF3WhQ/1yHkqP4VPumbBv\\\n",
       "NO17BqRvi/ByPOg+F/H53H9cAFuMAyw4dHj4DSKZad+mBEKJ0v2BRCUv6kKH+uU8RLLpnhycDvu2\\\n",
       "f3Sfi/h87j9+BZrIAgxb8UemQRsmBkKJYijJOV7UhQ71y3mIZFPZr0X6bzrs2/7hXETD4QKYyBIM\\\n",
       "W1Evk6ANvwOLVGMoyTle1IUu9ct5iGRS3a/d9N902Lf9x7mI0uECmMgSDFtRL5OgDb8Di1RjKMk5\\\n",
       "XtSFLvXLeYhkUt2vnfTfLGQhKzT44zP7tj44F1E6I/0uABHJkx3ORk1ZDR66+SGGrSiw4IoFiLXE\\\n",
       "XB8367JZePTFR10dU9dUh4dufsjY9hOtq5JpJfIL4zMv6kKn+uU8RLL40a+d9F8A7NsG4FxEQ2EI\\\n",
       "lsW4yZ7IW6JBGw/MeQCrXxj+77r253UglJdhXDJCSWwJC7M1BdpEtvQpW8nq12xn0gmfz/3HBbDF\\\n",
       "OMCIvFe5sRLr4uucv764EgeOHhD6VCNSGEHD4gbXxw2ns7sTy55Zhvqm+kEfNMNZYZTPKMfa29dm\\\n",
       "9DUxkbqqKatRVj6VROtC9XvaysY+ZatM+jXbmXTE53P/cQFsMQ4wIu/1hlk52c+74IoFeOaTz+Dm\\\n",
       "79+MHYd2uD7X7Cmzsb1iu0gxh+S2/E9/4mlkh7OFztV+oh2F3ypEx6mOYV+bOzoXB5YdwEUjL1JW\\\n",
       "PpVE+s1wD+hevKeNVPZ5ypxov2Y7k674fO4/hmAREWVAJGhDl8AiAErDuKqeq3K0+AWAjlMdqNpU\\\n",
       "ZW1YmBcBLQx9ccbWPmUr0X7NdiaiofATYIvxN0xEaiWSCUdBG9FtUVRvqXb9/rL3AKvcNypyrpGh\\\n",
       "kQiFQtbva3Xab/x+Txtwr7TZnPZrtjPpjM/n/uMC2GIcYETi4Se6B0LJoHIhLnouEV6HhdkqCEFB\\\n",
       "uvzySYYgtJco09qZbRksfD73HxfAFuMAoyATDT/RPRBKptINpcrCuETPJcKrsDBbBSkoSGWf90qQ\\\n",
       "2kuUKe3MtgwmPp/7j3uAicg6veEn6+LrhvyUtbunG9+Lfw+3/eA2dHZ3ZnSciLW3rcWCKxY4eu2C\\\n",
       "KxZg7e1rhc81lGNdx5QdJ3ouESrPZTqVfV4HKvu8F4LWXqJMaGe2JZF/uAAmIuuIhp+oDE3RIbBI\\\n",
       "ZRiXFwFeOpzLdEELCtIpgE5E0NpLlAntzLYk8g8XwERklbZkG+qb6l0dU9dUh72JvULHJZIJV8ec\\\n",
       "LzucjZqyGrQub0V0YRSRwghmT5mNSGEE0YVRtC5vRU1ZjWdffXP6CXR/JdNKlJ1LhEj5gkh0rGTS\\\n",
       "5/2mss/LFsT2EqV7O7MtifzFBTCRxhLJBKLboijdUIo5tXNQuqEUDz//MG+CadTGa12FSwFnv2a2\\\n",
       "omGF0HG1u2tdHTOYSTmTsHLeSjQsbsD2iu1oWNyAlfNWeh5+UlFcMeSnz0MJZ4VRMbNCyblGhkYq\\\n",
       "K18QiY4VGX3eLzL6vF/zchDbS5Tu7cy2JPIXF8BEGurs7kTlxkoUrClA9ZZqxFpi2HFoB2ItMaza\\\n",
       "vAoFawqwdONSnDx90u+iasfpV8r6ix+OCx3XeLBR6DgdTM6ZjCUzlrg6pnxGudDCXORc9868V1n5\\\n",
       "gkh0rAS1z/s9LwexvUTp3s5sSyJ/cQFMpBkGY2RGNMSk60yX0vPpQmUYl8i5dAgLs5UJQUFeEOlT\\\n",
       "OszLQW0vUTq3M9uSyF9cABNphsEYmRENMRk1YpTS8+lCZRiXyLl0CAuzlQlBQV4Q6VM6zMtBbS9R\\\n",
       "Orcz25LIX/w7wBbj3xkzT1uyDVPXTHW1NyicFUbr8lZ+7fMvotuiqN5S7fq4RYWLsKllk/vzLYxi\\\n",
       "5byVro/TUSKZQO3uWjQebMSxrmMYM2oMSqaVoGJmhfT+JXIuleULAtGxErQ+r8u8zPYSp1s7sy2D\\\n",
       "jc/n/uMC2GIcYOaRdVNMJBN4Iv4Etr66NXALBdGHmF2VuzDre7N8f8glUkWXhZ0bfsxtuixWTGwv\\\n",
       "k6hsZxVtGeTnAN3x+dx//Ao0kUYyDcbwO6RFB6LhJ9MnTWfgEgWKyhC0TPk5t+kSWGRSe5lIZTt7\\\n",
       "2ZZ8DiAaHhfARBrJJBhDh5AWXYgGJzFwiYLGhD7v99ymU2CRCe1lKtXt7EVb+j1WiEzBBTCRRjIJ\\\n",
       "xtAhpEUXosFJDFyioDGhz/s9t+kUWGRCe5lKdTt70ZZ+jxUiU3APsMW4x8A8VZuq8MgLj7g+7h9v\\\n",
       "/Ec8vvNx7g0bhGhwEgOXKGh07PM67HvVZQ9wfzq2l8n8bGcZbanDWCFn+HzuPy6ALabzAGM4w+Cq\\\n",
       "YlV45EX3C+B5U+fh+deed30cEyWJSGc6LD4ZWKR/+WQwfQGpw1ghZ3R+Pg8KfgWalGI4Q3rxtrjQ\\\n",
       "cS+/KTaJyg5pISKSSYcAqiAHFulePplMDxnTYawQmYILYFKG4QzDEw3T6DrTpfR8REQq6BJAFcTA\\\n",
       "It3L5wWTQ8Z0GStEJuACmJRhOMPwRMM0Ro0YpfR8REQq6BJAFcTAIt3L5wWTQ8Z0GStEJuACmJRo\\\n",
       "S7ahvqne1TF1TXVIJBPeFEhTTn/z3F9xfrHQcSXTSoSOIyJSQXRO9GJuyw5no6asBq3LWxFdGEWk\\\n",
       "MILZU2YjUhhBdGEUrctbUVNW42hRpPs9UffyeUlmO6uk01gh0h1DsCym0yZ7hjM4IxrCsatyF2Z9\\\n",
       "b5ax4R1EtpAdFhSE8KF0TA8mGoru90Tdy0cDeT1Wgj4XyaTT83lQ8RNgUoLhDM6IhnBMnzTd6PAO\\\n",
       "ItPJDgsKUvhQOqYHEw1F93ui7uWjgbwaK5yLyEZcAJMSDGdwTjSEw+TwDiKTyQ4LCmL4UDo2zm26\\\n",
       "3xN1Lx8NTvZY4VxEtuICmJRgOINzoiEcJod3EJlMdlhQEMOH0rFxbtP9nqh7+WhwsscK5yKyFfcA\\\n",
       "W0ynPQZVsSo88uIjro978KYH8fAtD3tQIjMkkgnU7q5F48FGV3tuRI8jIndk77uzdc+rLLbMbbrf\\\n",
       "E7kH2HyZjhXORd7R6fk8qEb6XQAKiJDfBTDTpJxJWDlvpesHCtHjdMCgDdLdS4mXsPzZ5Yi3xZHs\\\n",
       "Srp6QATOfmWwdnftoOOzNl4r9f1sI3tu822+0fSe2FsfDS0NCCGEFJx/RhLOCqNiZoWHpSM3Mh0r\\\n",
       "nIvIZlwAkxLxw3Gh43a+sVNySUhXnd2dWPbMMtQ31Q+46cZaYvhy45dRPqMca29fa8RXHMk+7Sfa\\\n",
       "MXf9XDQfac74vRoPNg76kJhJ+BAfOp3ze77R7Z6Yrj6cMiF8jJzjXEQ24wKYlGCgBqXTG7SR7obb\\\n",
       "G7TxxyN/xNOfeBrZ4WyFJaSgaz/RjsJvFaLjVIeU9xtqbuNc6T0d5hud2tlJfQzHlPAxck6nPkok\\\n",
       "G0OwSAkGalA6DNog3c1dP1fa4hcYem7jXOk9HeYbndrZTX30Z1r4GDmnUx8lko0LYFLCaSx/fyXT\\\n",
       "SuQWhLTTlmxDfVO9q2PqmuqQSCa8KRBRP3sSe6R87fl8Q81tnCu9pct8o0s7i9RHCCHMnzof0YVR\\\n",
       "tC5vRU1ZDRe/FtKljxJ5gV+BJiUqiivwla1fcZ0myECNoaULbwHgOthFdhiM0/fzOmiDoVqUqQee\\\n",
       "fUDq+/Wf287vo0c6jxgXPmTSGNMl2EeXe6JIfaSQwq1X3RrofZ4ifV50nPg1vnTpo0Re4J9Bsphu\\\n",
       "MeuVGyuxLr7O+euLK1FTVuNhicw0XFhJCCGEQiH0pHoG/CycFR4Q7DLc+w12TCbl6/9+pRtKEWuJ\\\n",
       "Obn0C0QKI2hY3CCtHERDmfD1CWjvbJf2fr1zm4zgofPfTzUTx5hX840IHe6JOtWHCUT6vOg40WF8\\\n",
       "6dBHbaTb83kQ8SvQpMza29Y6/koNAzUG1xtWsi6+bsgH5hRSgy5+gXPBLrf94DZ0dnc6er/+x2Ra\\\n",
       "vv7v50XQhuzromDrOtMl7b165zYnfdTN+6lm6hjTKdhHh3uiTvWhO5E+LzpOdBlfq29ZjdzRuY5e\\\n",
       "mzs6F6sXrfakHESycQFMymSHs/H0J55GZXElwlnhQV/DQI30MgkrOV9vsIvsMBiR9/MiaEOHkBuy\\\n",
       "x6gRozJ+j/5zW6Zj2e+50tQxplOwjw73RJ3qQ3cifV50nOgyvqqeq3Ic/tdxqgNVm6o8KQeRbPwK\\\n",
       "tMV0/opFIplA7e5aNB5s1H7PmC7akm2YumZqRp8WnS+cFUYqlcLp1GlXx7Qubx20jUTKF84K44E5\\\n",
       "D2D1C+5/axxdGB10D5poOYa6LqLIkxFsOrDJ9XG5o3Nx4+U3DpjbRPpoCCEU5xcjLzvP97nS5DEW\\\n",
       "3RZF9ZZq98cNMd/I4tc9Udf60I1Inx8ZGolQKOR6nOyq3IVZ35vl+/gyeZzrTufn86BgCBb5YlLO\\\n",
       "JKyctzJQN9BMiYSVpCPyXunCYETDZYCzN01ZQRu6hNy4YVKIUBA9euujuP7x610f95vy3+DaSdcC\\\n",
       "ONvG0W1RbH11K5rfahYKHvro1R/VYs40ObhO12Afv+6JutaHbkT6/OnUabjIsgNwdpyseHaFFvcw\\\n",
       "E++lRE7xK9BEhpDx1WcZGg82DvrvouXbdXgXlsxY4uqY8hnlQz4Ii5ZjqOvyUmd3Jyo3VqJgTQGq\\\n",
       "t1Qj1hLDjkM7EGuJYdXmVShYU4ClG5fi5OmTystG51w36ToUTShydUzRxCJcO+naQdu49Z1WoXL4\\\n",
       "0UcH49UYUzEeJudMljrfmI714YzK+2+8LS50nOz5waR7KZFbXAATGUKX0JGhypFJmIrMMBhTQl10\\\n",
       "CTkhZ1649wVXYTDbK7ZLC7rqpfsckMlxKseDDuFTOmF9DE/l2BMN3ZNdRlPupUQiuAAmMoQuoSND\\\n",
       "lSOTMBWZYTCmhLroEnJCzuRdnIeWz7egaGL6T4KLJhbh4P0HMe6icdJC63rpPgdkcpzK8aBD+JRO\\\n",
       "WB/DUzn2REP3ZJfRlHspkQgugIkM4fQ39F4rmVYy6L+Llq/3/bLD2agpq0Hr8lZEF0YRKYxg9pTZ\\\n",
       "iBRGEF0YRevyVtSU1Qz78JVpOVRoS7ahvqne1TF1TXVIJBPeFIgcybs4D/s+tw9779uLSGEEedl5\\\n",
       "yBmVg7zsPEQKI9h7317s+9w+jLtonFAbD0dlH01H9hjzYzzImm9swfpIT+X9t3hysdBxsucHE+6l\\\n",
       "RKKYAm0xpszZxdYU6CAmVzJ5VT7dgsRE23goOqWryh5jHA/kF6fzBlOg/SuHjfh87j9+AkxkCJGw\\\n",
       "knTKZ5SjfGa562OGurHpEqaiSznSYbiIPLoGickOzdEpeEj2GON4INXczhsiff7emfcKjZPpk6Zr\\\n",
       "cQ8z4V5KJIoLYCKDuAkrSac3yER2+IkuYSq6lGMoDBeRQ+cgMZltpWPwUBCD68gOovOGSJ8XHSe6\\\n",
       "3MN0KQeRbFwAExnESVhJFrKQFRp8aPcPMpEdfqJLmIou5RgKw0Xk0DlITEZb6Rw8FMTgOrKD6Lwh\\\n",
       "0udFx4ku9zBdykEkG/cAW4x7DOyWSCZQu7sWjQcbB+xdAjDkz4b6elK69xP5SpPs9xOlSznOxz2P\\\n",
       "mdN9f5poGxeMLUDRxCLf+6gbmY4xjgdSRda8IdLnRceJLvcwXcphAz6f+48LYItxgFF/ugUFBZXu\\\n",
       "i7f+dOw3ui+aTGtjP7Gu9KFyrPsxr+g+b7il49xMw+Pzuf+4ALYYBxj16uzuxLJnlqG+qX7Qh8xw\\\n",
       "VhjlM8qx9va1/AqTIpUbK7Euvs7564srUVNW42GJBtK535RuKEWsJeb6uEhhBA2LGzwo0UAmtLEu\\\n",
       "WFf+UjnW/ZxXTJg3nNB5bqbh8fncf9wDTGQ5nYOCgkz3cBHd+40JwUm6t7FOWFf+UTnW/Z5XTJg3\\\n",
       "huN3HRLZgAtgIsvpHBQUZLqHi+jeb0wITtK9jXXCuvKPyrHu97xiwrwxHL/rkMgG/Aq0xfgVC+Le\\\n",
       "OjPoFi5iQr8xbS+fF21s6/4/3caDzVSOdT/nld6x8kT8CRzsOOj6+AdvehAP3/JwRmUQdf44b+9s\\\n",
       "R/xwHCk4f3TX9Z4ue/4yaT7k87n/uAC2GAcYmbZIID2Y0G9MWKR7hfv/SBaVY92PeWW4seKUHwtg\\\n",
       "WWUH9Lqny56/TJwP+XzuP34FmshiTr8m1V/jwUa5BSGjmNBvJudMxpIZS1wdUz6j3IrFL/f/kSwq\\\n",
       "x7rqecXJWHFq5xs7MzreLZllB/S5p8uevzgfkigugIksZkPgB6lnSr8JYnAS9/+RTCrHuup5xc1Y\\\n",
       "8aoMomSWHdDnni57/uJ8SKK4AM7QiRMn8J//+Z+oqKjAddddh7Fjx+KSSy7B9ddfj4ceegjJZHLI\\\n",
       "Y5988knceOONyMnJQV5eHu644w68+OKLCktPtrMh8IPUM6XfBC04qS3ZhvqmelfH1DXVIZFMeFMg\\\n",
       "Mp7Ksa7yXCJjRXYZRMkuO6DHPV32/MX5kDLBBXCGfvjDH+IjH/kI1q9fj56eHtx2222YN28eDhw4\\\n",
       "gH/+53/GBz7wAfz5z38ecNyKFSvwqU99Ci+99BIWLVqEG2+8EbFYDPPnz8cvfvELH66E/JJIJhDd\\\n",
       "FkXphlLMqZ2D0g2lePj5h6VM0k4/HeuvZFqJ49d6WX7yh4p+I0t2OBs1ZTVoXd6K6MIoIoURzJ4y\\\n",
       "G5HCCKILo2hd3oqashrjF78AUBuvdf11yO6ebtTurvWoRGQ6lWNd5blExorsMoiSXXbAn7m5P9nz\\\n",
       "F+dDygRDsDL05JNPYseOHVi+fDne85739P374cOH8Vd/9VfYvXs3Pv7xj+OHP/xh3882b96MW265\\\n",
       "BRMmTMD27dv7jtu+fTtKSkqQnZ2NAwcOYPz48RmVjZvs9aYiuMHLoCATgyfImSAHTOmsdEMpYi0x\\\n",
       "18dFCiNoWNzgQYnIdLamQIuOFZllECWz7IA+c7Ps+cvk+ZDP5/7jJ8AZ+ru/+zv827/92wWLXwDI\\\n",
       "z8/Hv/7rvwIAfv7zn6Orq6vvZ48++igAoLq6+oLj5syZg/vuuw8dHR1Yv369gtKTX1QFN3gVFMTg\\\n",
       "CbsFNWBKd6bszSZzqBzrKs8ls8+rnttkj1dd5mbZ8xfnQ8oEF8Aeuv766wEAp06dwpEjRwAAJ0+e\\\n",
       "xHPPPQcAuOeeewYc0/tvGzduVFRK8oPK4AYvgoIYPGG/IAZM6c6UvdlkFpVjXdW5ZPV5P+Y2meNV\\\n",
       "p7lZ9vzF+ZAywQWwh1paWgAA4XAYeXl5AIDm5macOnUKl156KaZMmTLgmOLiYgDAnj171BWUlFId\\\n",
       "3CA7KIjBE8EQtIApE5i0N5vMoXKsqzqX6FiRWQZRmZYd0HNulj1/cT6kTHAPsIc+85nP4IknnkBZ\\\n",
       "WRl++ctfAgB++ctf4s4778TMmTMRj8cHPW78+PE4evQo3nnnHYwZI/6bKhP3GCSSCTwRfwJbX92K\\\n",
       "Y13HMGbUGJRMK0HFzAotvsIjQ3RbFNVbqt0fJ+EP2SeSCdTurkXjwcYB9QvAUd37WX7yR7p+Y8u4\\\n",
       "NIGfe7ODMDeT2rHu5blExkoIIcybOg+3XnWrZ9frZAyJln1m/kxMyJ7gy7h0cm2y5y+TsypMfD63\\\n",
       "DRfAHvn1r3+ND33oQxg5ciR+97vf9X0d+oc//CE+8YlPYO7cufjNb34z6LFTpkzB66+/jjfeeAP5\\\n",
       "+fnDnqt3IPW3f/9+XHnllUYMsCAFKukW3OC27nUrP1GQVG6sxLr4OuevL65ETVmN8PmCNDeTXVSP\\\n",
       "laGIjCFdyj4ct9cm+7pMqaf+uAD2H78C7YF9+/bhk5/8JFKpFL7xjW/0LX4BoPf3DaFQaMjjg/Y7\\\n",
       "iaAFKukU3CBS9zqVnyhoVO7XDNrcTHbRIcdAdAzpUPbhiFyb7OsyoZ5IT1wAS3bo0CHcdtttePvt\\\n",
       "t7FixQosW7bsgp/3fqX5+PHjQ77HiRMnAAA5OTmOzvnyyy8P+t+VV14peBVqBS1QSafgBpG616n8\\\n",
       "REGjcr9m0OZmsosOOQaiY0iHsg9H5NpkX5cJ9UR64legJXrrrbcwb948NDc3o7y8HLW1tQM+6W1q\\\n",
       "asLMmTNx6aWX4s9//vOA9zh+/DhycnIwbtw4vP322xmVx4SvWJi8h0OULntoRev+gTkPYPULq12f\\\n",
       "j3uAieTSbQ+l6XMz2cuPHANZY0jHDAYZ1yb7unSsp6GY8HxuOy6AJTl27BgWLlyInTt34qMf/Sj+\\\n",
       "4z/+AyNGjBjwus7OTowfPx6nTp1Ca2vrgCTo559/HvPnz8f8+fOxdauz36wNxYQBJmsxaFJAiy4P\\\n",
       "lqJ1X3VTFR598VHfyy+DSf2GSCVdflFHpCMn9w5dx5CM+56u12YKE57PbcevQEtw6tQp3Hnnndi5\\\n",
       "cyduvfVW/OhHPxp08QsA2dnZWLhwIQDgqaeeGvDz3n/70Ic+5F2BNeL06zP9NR5sBHB2D0rlxkoU\\\n",
       "rClA9ZZqxFpi2HFoB2ItMazavAoFawqwdONSnDx9UmKpMzM5ZzKWzFji6hgv/pC9aN3vemOXFuXP\\\n",
       "hIn9hkilTOdmIhu5uXfoNoZk3vd0uzYit7gAztCZM2fw8Y9/HFu2bMG8efPw85//HKNGjUp7zIoV\\\n",
       "KwAAX/va1/DKK6/0/fv27dtRU1ODsWPHoqKiwtNy6yKTQCWTA1pW37IauaNzHb02d3QuVi9y/5Xj\\\n",
       "4WRS9zqUX5TJ/YZIFYbdEV3I7b2j41SH0Hl0Cbz0ooycH0gXXABn6Dvf+Q5+8YtfAAAmTpyIz372\\\n",
       "s1iyZMmA/956662+YxYtWoRly5bhyJEjmDFjBu666y7ccccdmD9/Prq7u7F+/Xrk5eX5dUlKZRKo\\\n",
       "ZHJAS9VzVY5vjh2nOlC1qUp6GTKpex3KL8rkfkOkCsPuiC7k9t7x+juvC51Hl8DLdDg/kOm4AM7Q\\\n",
       "+UFVv/jFL/D9739/0P+SyeQFx33zm99EXV0drr76asRiMbz44ou45ZZbsHXrVtx9992qL8M3TuPr\\\n",
       "+5t12SzUN9W7OqauqQ6JZELofDK1Jdu0KHtxfrHQcUUTi7Qovwhd6p5Id6Jzc8m0ErkFIdKAyL3j\\\n",
       "cPKw0LlkjyEv7nucH8h0XABn6Mtf/jJSqdSw/02bNm3AsUuWLMHOnTtx/PhxHD16FM888wxuuukm\\\n",
       "9Rfho4riiiGj64cSzgoDKbgKYQLOvr52d62rY7xQG6/Vo+yC8XdD/cH7dGyq+0Qygei2KEo3lGJO\\\n",
       "7RyUbijFw88/nNEi2Yv3JMqE6NxcMdPZ9h32+cyxDtURuXf0pHqQFXL3mO1mDDkl65nj/P72i+Zf\\\n",
       "IITQEEcPzotrIxI10u8CULD1BkKti69zfEz5jHLsOrxL6HyNBxt9TyDMJDxCZtnjbXGh40T38Jhe\\\n",
       "98tnL8eyZ5YN+guAWEsMX278MspnlGPt7Wsd/63Bzu5O6e9JJIPo3Dxc2B37fOZYh+qJ3jvyc/Lx\\\n",
       "+jHnX4XWKfCy956drr+5oVsYJgUbPwEm3629ba3jr9MsuGIB1t6+1ugABl3KrrouTK77jlMd0oOz\\\n",
       "GMZFuhOZm9Nhn88c69AfoveOy8deLnUMifA6bNQJr66NSBQXwOS77HA2nv7E06gsrhzyK3fhrDAq\\\n",
       "iyvxzCefwUUjLzI6gEGXsquuC5Pr/vV3XpcenMUwLtKdyNycDvt85liH/hC9d+SOzpU6hkSoChsd\\\n",
       "jNfXRiSKC2DSQnY4GzVlNWhd3orowigihRHMnjIbkcIIogujaF3eipqymr4J1OQABl3KLloOUSbX\\\n",
       "fVuyzdXrhwsQYRgXmcLt3DwU9vnMsQ79k8l9W9YYEqUybDSEEIrzi5VdG5GoUCqVEozCId1dc801\\\n",
       "AICXX37Z55LI15Zsw9Q1U119JSecFUbr8lbf96DoUnaRcogyue6zQlnoSfW4Pld0YXTIPc/RbVFU\\\n",
       "b6mW+p5EOtO1zyeSCTwRfwJbX92KY13HMGbUGJRMK0HFzArf56v+dK3DdEyq33R0uW+70Vv3Dfsb\\\n",
       "8PxrzyPlIvkynBXGA3MewOoXVrs+L+9Tw7P5+dwU/ASYjNQb0OKGLgEMupRdpByiTK77/Jx8oXM1\\\n",
       "Hmwc8meZhJIQmUi3Pt/Z3YnKjZUoWFOA6i3ViLXEsOPQDsRaYli1eRUK1hRg6calOHn6pCfnF6Fb\\\n",
       "HaZjYv2mo8t924n+db/ttW2uFr9A5mGjRLrjApiMJTugRSVdyu6mHKJMr/vLx14udJ50wSO6BKER\\\n",
       "qaJTnzc1SEqnOkzH1Podji737XRkhFbZEDZKNBwugMlYsgNaVNKl7E7KIcqWus8dnSt0nnTBI7oE\\\n",
       "oRGpolOfNzVISqc6TMfU+h2OLvftdDIJrbIpbJRoOPw7wGS03nCJh25+CLW7a9F4sNGYfUa6lH2w\\\n",
       "cjS/1YzWd1pdv1fB2AIUTSyyqu4XXLEAsZaY63OkC/3y4j2JdKZLnxcNknro5od8n890qcN0TK5f\\\n",
       "J3S5bw9GpO5DCGH+FfNRemXpgLKb0N+IRDEEy2LcZC/OluAOUSYGfnjFi7pg/VIQnD+PHuk8gt2H\\\n",
       "d7sO4unf5zOdm70OkvLy3mHCvGFiUJctZNe9n/3N9mcwPp/7j58AE52ns7sTy55Zhvqm+gGTfqwl\\\n",
       "hi83fhnlM8qx9va1Wn2tV7bewI918XWOj9El6Eo2L+qC9Us2SzePunF+n5c1N2cSJJVugabi3mHC\\\n",
       "vOFV/dLwZNe9H/2Nz2CkCvcAE/2FrcEdokwI/FBl9S2rHe8Fzh2di9WLhv/TEaxfspGMEB7gwj4v\\\n",
       "c272IthH5b1D93mDwUn+8aLuVfY3PoORSlwAE/2FrcEdokwI/FCl6rkqdJzqcPTajlMdqNpUNezr\\\n",
       "WL9ko0xCeIDB+7zMudmLYB+V9w7d5w0GJ/nHi7pX2d/4DEYqcQ+wxbjHwDkT9lb5KZFMaBf4oYqK\\\n",
       "vhHk+iV7iIyVEEIozi9GXnbeoH1e9vizbZ+kbvMG9wD7R8X+dq/6W9Cewfh87j8ugC3GAeacrjdt\\\n",
       "24MgdNZb93VNddj/9n7Xx/OBTj6OB715MY/qvmDV9d7hF9FfgszMn4kJ2ROsGM9+zVMmLyKDNo74\\\n",
       "fO4/fgWaCJmFR3ihs7sTlRsrUbCmANVbqhFriWHHoR2ItcSwavMqFKwpwNKNS3Hy9ElPzh9k/ete\\\n",
       "ZPELeNc3gojjwQxezKOy37M32MeNdME+ut07/CZSvymkED8cN348+z1Pye7bKnEckWpcABNBr+AO\\\n",
       "BkH4R1aAD8BQF1k4HszhxTyqe7CPTvcOXbip38GYOJ51mad0D0kbCscRqcYFMBH0Cu5gEIR/Mg3w\\\n",
       "OR9DXeTgeDCHF/Oo7sE+Ot07dOGkfp0waTzrMk/pHpI2FI4jUo0LYCJA+LfVJdNKpJajLdmG+qZ6\\\n",
       "V8fUNdUhkUxILUcQidR9OrL7RhBxPJjFi3nUq7k5O5yNmrIatC5vRXRhFJHCCGZPmY1IYQTRhVG0\\\n",
       "Lm9FTVnNsAsEXe4duhmsfmflz0IIIVfvY8J41m2ektW3VeI4ItUYgmUxbrJ3TpfwiKAFQcgiI3RE\\\n",
       "tO4HI5ICzXCngTge1Mq0H3oxj+oyNw9F9/LpxNbxbOt1qRS0ccTnc//xE2Ai6BMewSAId2SGjsj6\\\n",
       "6jPgvG/4HZqiO44HNWT1Qy/mUV3m5qHoXj6d2Dqebb0ulTiOSDUugIn+QofwCAZBOCc7dERWHTrt\\\n",
       "G7qEpuiM48F7svuhF/OoDnNzOrqXTxe2jmdbr0s1jiNSiQtgor/QITyCQRDOyQ4dybQO3fYNXUJT\\\n",
       "dMbx4D3Z/dCLeVSHudnk8unC1vFs63WpxnFEKnEPsMW4x0BcIplA7e5aNB5sVLonk3uJnPFiv5Bo\\\n",
       "3V81/iqUzyx31TeCtt9JFMeDt7zuh17Mo37NzbaUz0+2jmdbr8tPto8jPp/7jwtgi3GAmYcLI2e8\\\n",
       "eOBQWfe6PjDpFsbF8eAtr/uhbv2J/GXreLb1usg7fD73H78CTaQRBkE440XoiMq61y00RdcwLo4H\\\n",
       "b3nVD3XtT+QvW8ezrddFZDMugIk0s/qW1cgdnevotbmjc7F60WqPS6Qfr0JHVIVw6BSaonsYF4NR\\\n",
       "vONFP9S9P5G/bB3Ptl4Xka24ACbSTNVzVeg41eHotR2nOlC1qcrjEunHq9ARVSEcOoWm6B7GxWAU\\\n",
       "73jRD3XvT+QvW8ezrddFZCvuAbYY9xiYh3uJnFGxh9bLEA5d9gCb1t9sD0ZRTXY/NK0/kb9sHc+2\\\n",
       "XhfJw+dz/3EBbDEOsPR0DGjRZWGkO9MftHUpP/tbsMnuh+xPRPLp+KxCmeHzuf/4FWgKHJ0DWnQL\\\n",
       "R9KV6aEjupSf/S3YZPdD9icieXR+ViEyHRfAFCi6B7ToFI6kO9NDR3QoP/sbyeyH7E9Ecuj+rEJk\\\n",
       "Oi6AKVB0D2jRKRxJd6aHjuhQfvY3ktkP2Z+I5ND9WYXIdCP9LgCRKm3JNtQ31bs6pq6pDg/d/JCy\\\n",
       "r84uuGIBYi0x18eVTCuRXxgDZIezUVNWg4dufsjI0BG/y8/+RoC8fsj+RJQ5E55ViEzHECyLcZP9\\\n",
       "Wb0BEnVNddj/9n7Xx6sMaNElHImCQUZ/Y0AL9eL8RZQ5hsnZj8/n/uNXoMla/QMkRBa/gNqAFl3C\\\n",
       "kSgYMulvDGih/jh/EWWOYXJE3uMCmKzkJEDCKdUBLTqEI1FwiPQ3BrTQUDh/EWWGYXJE3uMCmKzk\\\n",
       "JkBiOKoDWnQIR6LgEOlvDGihoXD+IsoMw+SIvMc9wBYL6h4DkX1o6fi5ryaRTBgZ7kRmctLfuM+T\\\n",
       "nOL8ReQe9wDbL6jP5zphCjRZpzZeK23xG84Ko2JmhZT3EjEpZxJWzlvJmxop8ebxN7HlwBbE2+Lo\\\n",
       "OtOFUSNGAQA+/N4P9y1YRMZXd083anfXsh8rpEM4GecvEqFD3/WzHBXFFfjK1q+4/iWjn88qRKbh\\\n",
       "J8AWC+pvmEo3lAr9KY7BVBZXoqasRsp7Eemq/UQ75q6fi+YjzUO+pmhiEbZXbMff/PRvhMZXpDCC\\\n",
       "hsUNmRSTHOjs7sSyZ5ahvql+0AfocFYY5TPKsfb2tfz6MWlFl76rQzkqN1ZiXXyd89fzWcUoQX0+\\\n",
       "1wn3AJN1ZAVBMKCFgqD9RDsKv1WYdvELAM1vNWPaN6fh7c63hc7DgBbvMZyMTKVL39WlHAyTI/IW\\\n",
       "F8BknUyDIBjQQkEyd/1cdJzqcPTajlMd+MNbfxA6DwNavMdwMjKVLn1Xl3IwTI7IW/wKtMWC+hUL\\\n",
       "0QCJq8ZfhfKZ5QxoocDYk9iD6x+/Xsm5GNDiLYaTkal06bu6lKM/hsnZJ6jP5zphCBZZRzRA4jf3\\\n",
       "/oY3EwqUB559QOi4EEJIwfnvThnQ4r2gh5PpEpxE7unSd3UpR38MkyOSj1+BJutMzpmMJTOWuDqm\\\n",
       "fEY5H5IocOJtcaHjetOhneL48p7o3z1vPNgotyCKdXZ3onJjJQrWFKB6SzViLTHsOLQDsZYYVm1e\\\n",
       "hYI1BVi6cSlOnj7pd1FpCLr0XV3KQUTe4wKYrMQACaLhdZ3pEjpuZNZIji/NiIaMmRxOpktgEWVG\\\n",
       "l76rSzmIyHtcAJOVGCBBNDy3n+T2Gj1yNMeXZkRDxkwOJ9MlsIgyo0vf1aUcROQ9LoDJWtnhbNSU\\\n",
       "1aB1eSuiC6OIFEYwe8psRAojiC6MonV5K2rKavhwToFVPLlY6LhZ+bM4vjTj9BP5/kqmlcgtiCJt\\\n",
       "yTbUN9W7OqauqQ6JZMKbApEwXfquLuUgIu8xBdpiTJkjonREU6D33rcX10661oMSkShdE2xl6w27\\\n",
       "qmuqw/6397s+nmnk6fkRJuZn3z3/ets72xE/HHcd8GfaGLKVSUF4fD73H1OgiYgC6rpJ16FoQhGa\\\n",
       "jzQ7PqZoYhEXvxrqDf9bF1/n+BiTwsk6uzux7JllqG+qd53Ue77Gg41cAA8iXf3GWmL4cuOXUT6j\\\n",
       "HGtvXyv9Wx1+9F1Z/cmkMWQrP/sumYtfgSYiCrAX7n0BuaNzHb02d3Qutlds97hEJMrW8D8nYVdO\\\n",
       "MbBoIB3CxFT2XVn9yaQxZCsd+i6ZiQtgIqIAy7s4Dy2fb0HRxKK0ryuaWISD9x/EuIvGqSkYuWZr\\\n",
       "+J+bsKvhMLBoIB3CxFT23Uz7k4ljyFY69F0yE/cAW4x7DIjIjZcSL2FFwwrsOrwLXWe6MGrEKMzK\\\n",
       "n4XHSh/j154Nk0gmULu7Fo0HG7XfD5eOyP7QdLgH+EI67h33su+KXG8IIczMn4kJ2ROMHEO20rHv\\\n",
       "OsXnc/9xDzAREQEArp10LRoWN/hdDJJgUs4krJy30vjFXm28VtriN5wVRsXMigv+zaTgHC+I1G93\\\n",
       "Tzdqd9d61re87Lsi15tCCndffbfxY8k2OvZdMge/Ak1ERERakvXVZ+DCwKLO7k5UbqxEwZoCVG+p\\\n",
       "Rqwlhh2HdiDWEsOqzatQsKYASzcuxcnTJ6WdX0ei9dt4sFFuQRQJ2vXajG1JmeAnwERERKQlWaFV\\\n",
       "uaNzsXrRagDngnPSPUD3Buf88cgf8fQnnkZ2OFtKOXQjWr+mhokF7XptxrakTPATYCIiItKSrNCq\\\n",
       "jlMdqNpUBYDBOecTrV9Tw8SCdr02Y1tSJrgAJiIiIi05/dM4TtQ11WFvYi/qm+pdH5dIJqSVQyei\\\n",
       "9VsyrURuQRQJ2vXajG1JmWAKtMWClDJna5CJrddFROdwnA9Ndgr0osJF2NSyyfVxtqZHm5ykKyJo\\\n",
       "1+s3L+c2k9sySM/nuuIC2GJBGGCd3Z1Y9swy1DfVDzoJhrPCKJ9RjrW3rzXq7/XZel1EdA7HuTOV\\\n",
       "GyuxLr5OynvlZeehvbPd9XGRwoi1Celu67eyuBI1ZTUelshbQbteP6ia20xtyyA8n+uOC2CL2T7A\\\n",
       "nASZ9FpwxQJjgkxsvS4iOofj3Dk3dTWcnFE5SHYlXR83e8psbK/YnvH5deS2Lz7zyWeM/oVM0K5X\\\n",
       "NZVzm6ltafvzuQm4B5iMZWuQia3XRUTncJw7lx3OxtOfeBqVxZUIZ4Uzeq9RI0YJHWdzcI6T+g1n\\\n",
       "hVFZXKnNAiITQbte1VTObWxLEsVPgC1m82+YTN77kY6t10VE53Cci0skE6jdXYv1u9dj/9v7XR9v\\\n",
       "0x7gdPsrAQjtveyt38aDjYHYj67yer3YD6tbfoCfc5tJfdfm53NTcAFsMZsHWHRbFNVbqt0fp+FD\\\n",
       "zPlsvS4iOofjPHOiD9q7Kndh1vdmGf3Lh+H2V2aFsoAU0IOeAT/jvnL1vNgPq2t+AOc2Z2x+PjcF\\\n",
       "vwJNRhLdC9Z4sFFuQSSz9bqI6ByO88xNzpmMJTOWuDqmfEY5pk+aLnScTovf2//9dqyLrxtyEd+T\\\n",
       "6hl08QsA3T3d+F78e7jtB7ehs7vTy6ISnLWX2zbx4j1l4dxGpuACmIx0rOuY0uNUsfW6iOgcjnM5\\\n",
       "1t621vHfAl1wxQKsvX1tRsfpwM3+ynSCvq9cFS/2w+qcH8C5jUzBBTAZSTSQRPcgE1uvi4jO4TiX\\\n",
       "QzQAx9TgnLZkG+qb6qW9X11THRLJhLT3owuJtNdwbeLFe8rEuY1MMdLvAlAwZRrcsOCKBYi1xFyf\\\n",
       "t2RaiUBp1bH1umTRLfCDSATHuTzZ4WzUlNXgoZsfchWAI3qcn2rjta72Lg+nu6cbtbtrA7X3UiWR\\\n",
       "9hquTbx4T5k4t5EpGIJlMR032csKbrA1RdXW68qUroEfRCI4zklE6YZSocVFOpHCCBoWN0h9TzpL\\\n",
       "tL3StYkX7ykT5zZndHw+Dxp+BZqUkRncIBqAovsEa+t1ZULnwA8iERznJMKLfZLce+kdL/bD6r7H\\\n",
       "lnMbmYILYFJGdnCDyUEm6dh6XaJ0DvwgEsVxTm55sU+Sey+948V+WBP22HJuIxNwAUxKeBHcYGqQ\\\n",
       "yXBsvS4Rugd+EIniOCe3nC4q3ODeS++Itle6NvHiPWXj3EYm4B5gi+m0x8DrP46eSCaMCTJxI911\\\n",
       "AVAWCOVX+JSKfsNQLfKbrfMXySWyvzKdIO69VMmL/bAy3lPlfY9z2+B0ej4PKi6ALabTANM9uMEk\\\n",
       "KgOh/A6f8qrf+H1dREQiKjdWYl18nZz3Kq5ETVmNlPeiwbltLydtIvqevO/pQ6fn86DiV6BJCd2D\\\n",
       "G0yhMhBKh/ApL/qNDtdFRCTCzf7KdLj3Ug0v9sOKvCfve0QX4gKYlDAhuMEEKgOhdAif8qLf6HBd\\\n",
       "REQinOyvzAplIWuIxzvuvVTLi/2wIu/J+x7RhfgVaIvp9BULr/dyBoHKv6+ny9/yk91vdLkuIqJM\\\n",
       "DZcRwb2XevFiP6yT9+R9Tz86PZ8HFRfAFtNpgJk2AesYjqTylwgyziWjDmX3G/4iRn+i/UbHMUtE\\\n",
       "5DfR+17B2AIUTSziPOoBnZ7Pg4oLYIvpNsC8CIOQTeeQCJVBYpmc67/+939JrUOZ/YZhbPoSHXs6\\\n",
       "j1kiIr+J3vfOx3lULt2ez4OIe4BJGd3/OLruIREqg8REz9VxqkN6HcrsNwxj05Po2NN9zBIR+U3G\\\n",
       "/YvzKNmGC2BSRvc/jq57SITKIDHRc73+zuvS61Bmv2EYm55Ex57uY5aIyG8y71+cR8kWXAB7oL29\\\n",
       "He9617sQCoVQVFSU9rVPPvkkbrzxRuTk5CAvLw933HEHXnzxRUUlVS87nI2ashq0Lm9FdGEUkcII\\\n",
       "Zk+ZjUhhBNGFUbQub0VNWY3yxW9bsg31TfWujqlrqkMimfCmQIMQ/dMXJdNKlJ2rLdnm6vVO61BW\\\n",
       "v1FZh+SM6Njbm9ir/ZglIvKbjD+bdT7Oo2QD7gH2wJIlS/Dkk08ilUrhfe97H5qbmwd93YoVK7Bm\\\n",
       "zRpkZ2ejtLQUJ0+exHPPPYdUKoWf/vSn+MhHPpJRObjHwDkTwpF0T4HOCmWhJ9Xj6jyAvXVIzoiO\\\n",
       "vUXvXoRNBza5P5/D/sZQrQuxPoi881LiJSx/djnibXF0nenCqBGjMCt/Fh4rfQzXTro2o/cWue8N\\\n",
       "h8GQmeHzuf/4CbBkzz33HL7//e/jM5/5TNrXbd68GWvWrMGECRPw+9//Hv/5n/+JZ555Btu2bcOI\\\n",
       "ESNQXl6Ot99+W1GpyenXKPtrPNgotyBpTM6ZjCUzlrg6pnxGudDDqci58nPyXZ8HsLcOyRnRsRdv\\\n",
       "iwsdN1x/6+zuROXGShSsKUD1lmrEWmLYcWgHYi0xrNq8CgVrCrB041KcPH1S6PymYX0Qeaf9RDuu\\\n",
       "/s7VmP74dGw6sAntne1IdiXR3tmOWEsM0x+fjqv/9WocPXlU+Bwi973hqLxvE3mBC2CJOjs7cd99\\\n",
       "9+H9738/vvCFL6R97aOPPgoAqK6uxnve856+f58zZw7uu+8+dHR0YP369Z6Wl84xJRxJZZCY23Nd\\\n",
       "PvZyofPYXIc0PNH27zrTJf18DNW6EOuDyDvtJ9pR+K1CNB8Z/FuCvZrfasa0b05D+4l24XO5ue85\\\n",
       "wWBIMh0XwBJ95Stfwf79+/Hd734X4fDgYT0A+r7qDAD33HPPgJ/3/tvGjRu9KSgNYEo4ksogMbfn\\\n",
       "yh2dK3Qem+uQhifa/qNGjJJ+PoZqXYj1QeSduevnouNUh6PXdpzqwNy6ucLncnLfc4PBkGQ6LoAl\\\n",
       "2bNnDx599FGUl5dj/vz5aV/b3NyMU6dO4dJLL8WUKVMG/Ly4uLjvPUkNk8KRVAaJuTkX65BEiPab\\\n",
       "4snFQscN1d9MCMJTifVB5J09iT3DfvLbX/NbzXgp8ZLwOQe77xWMLRB6LwZDkukYgiVBT08P5syZ\\\n",
       "g5aWFjQ3N2PChAk4ePAg3v3udw8agvXLX/4Sd955J2bOnIl4fPB9bOPHj8fRo0fxzjvvYMwYsd+0\\\n",
       "mbjJ3q+gFdvCkfyoRxPrkME+/hPtN7sqd2HW92ZJ628mBOGpxPogrwV5/o08GREK8YsURtCwuEFa\\\n",
       "OUTm3xBCmJk/ExOyJwSmvWQz8fncNiP9LoANvv3tb+N//ud/UFdXhwkTJgz7+mQyCQC4+OKLh3zN\\\n",
       "JZdcgqNHjyKZTA67AO4dSP3t378fV1555bDl0UFndyeWPbMM9U31AybiWEsMX278MspnlGPt7Ws9\\\n",
       "+VSuNyRiXXyd42N0DEfysx5NqkO/+xudI9pvpk+aLrW/ZRKEZ+OCj/VBXuH8Kx7it+vwLqnlEJl/\\\n",
       "U0ghfvhs+YPSXmQffgU6Q62traiursaCBQuwZMkSR8f0fugeCoWGfU0Q6BK0Yno4kg71aEId6lBP\\\n",
       "dKHVt6x2vIc8d3QuVi9aDUBufzMlCE8V1gd5gfPvWaIhfqLHpZNpQFYQ2ovswwVwhj772c+iq6sL\\\n",
       "3/3udx0f0/uJ7vHjx4d8zYkTJwAAOTk5w77fyy+/POh/pnz6q0vQiunhSDrUowl1qEM90YWqnqty\\\n",
       "FQZTtakKgNz+ZkoQniqsD/IC59+zREP8RI9LR1ZAls3tRfbhHuAMhUIhjBs3Dtdff/0F/37y5En8\\\n",
       "9re/RXZ2Nm688UYAwH//938jJycHTU1NmDlzJi699FL8+c9/HvCex48fR05ODsaNG5fR3wI2YY+B\\\n",
       "rvtGE8kEanfXovFgoxF7k3SsRx3rUMd6CjpZbZJpf+Oe1wuxPkg2zr/n6LIHuL/z59H2znbED8eR\\\n",
       "gvNlgq3tJZsJz+e24wI4Q+m+xtzf22+/jXHjxqGzsxPjx4/HqVOn0NraOiAJ+vnnn8f8+fMxf/58\\\n",
       "bN0qtg8LMGOA8SFLDtajM6wn/ahok6HCdj783g/jv/74X9j66lY+7PXDxQrJxvn3nD2JPbj+8euH\\\n",
       "f2E/e+/bi2snXetBiQZie3nHhOdz2/Er0BlKpVKD/nfgwAEAwPve976+fxs3bhwAIDs7GwsXLgQA\\\n",
       "PPXUUwPes/ffPvShD6m5CB9lErRC57AenWE96cfLNuns7kTlxkoUrClA9ZZqxFpi2HFoB2ItMaza\\\n",
       "vArTH5/e9++7Du9ytfgF9AzCk6U3HMcNm+uDMsf595zrJl2HoglFro4pmlikbPELsL3IblwA+2TF\\\n",
       "ihUAgK997Wt45ZVX+v59+/btqKmpwdixY1FRUeFX8ZRh0IocrEdnWE/68apNnITtZELHIDzZTAi1\\\n",
       "I3Nw/r3QC/e+4Cr8b3vFdo9LdCG2F9mMC2CfLFq0CMuWLcORI0cwY8YM3HXXXbjjjjswf/58dHd3\\\n",
       "Y/369cjLy/O7mJ5j0IocrEdnWE/68apN3ITtuOF3iJtKJoTakTk4/14o7+I8tHy+BUUT038SXDSx\\\n",
       "CAfvP4hxF41TU7C/YHuRzbgA9tE3v/lN1NXV4eqrr0YsFsOLL76IW265BVu3bsXdd9/td/GUEI3e\\\n",
       "L5lWIrcghmM9OsN60o8XbdKWbEN9U71YgfoJIYTi/GJECiOILoyidXkraspqArPYyw5no6asBq3L\\\n",
       "WxFdGEWkMILZU2YHtj5IHOffgfIuzsO+z+3D3vv2IlIYQV52HnJG5SAvOw+Rwgj23rcX+z63T/ni\\\n",
       "F2B7kd0YgmUxEzbZM2hFjqDX41AhR/0TgINeTzryok1Ew1uGwlCX9JyOP1JHlzY5vxwMmpPPy3bm\\\n",
       "/dI7Jjyf226k3wWgYOsNWlkXX+f4GAatDBTUeuzs7sSyZ5ahvql+wE061hLDlxu/jPIZ5Vh7+1pc\\\n",
       "NPKiwNaTzrxoE9lffW482MgF8CDcjj/yni5tkq4cbnD+HZyKdub9kmzGT4AtZspvmNpPtKPwW4Xo\\\n",
       "ONUx7GtzR+fiwLIDGJ89XkHJzBK0euwNOXKy2FlwxQI8/YmnkR3Odn0c9zZ6T3abzKmdgx2Hdkgr\\\n",
       "3+wps5UH0OhOdPyRd3RpEzflSMeG+5QXVLYz75feMOX53GbcA0y+q3quytGiDQA6TnWgalOVxyUy\\\n",
       "U9Dq0U3I0dZXt+L+Z+4HwGAfHcluE9khLAx1GUh0/JF3dGkTWQF0NtynvKCynXm/JFvxE2CLmfAb\\\n",
       "Ju4xkSNo9SjrehPJBGp316LxYCP3LmpCRptUbarCIy88Iq1M3AN8oaDNNybQpU1EypEO+82F/Gxn\\\n",
       "3i/lMeH53HbcA0y+qo3Xur5Rdvd0o3Z3LR9Iz2NTPToJ9ZB1vZNyJmHlvJXa1UGQSWkTib/WDWeF\\\n",
       "UTHT/r/J7oZp840ugVBe8rpNnNahSDlklVF3Mvqhn2OP90uyCb8CTb4S/ZpU48FGuQUxnA312Nnd\\\n",
       "icqNlShYU4DqLdWItcSw49AOxFpiWLV5FQrWFGDpxqU4efqkFddL3om3xaW9F0NdBjJl/LmZU0zn\\\n",
       "VZu4rUMv/va26fO2zH5oytgj0h0/ASZfHes6pvQ4W5lej06CNrp7uvG9+PfwxyN/ROfpTqHz6HK9\\\n",
       "5C1Z7bzgigVYe/taKe9lExPmG7dziukhXV60iUgdetHGJs/bsvuhCWOPyAT8BJh8JRouw1CaC5le\\\n",
       "j25DPV5/53Wh8+hyveStTNuZoS7pmTDf6BIIpYoXbSJSh160scnztux+aMLYIzIBF8DkqwVXLBA6\\\n",
       "rmRaidyCGK54crHQcTdcdoPkkrjXlmxDfVO9q2PeOPaG0Ll0uF7ynui8ctX4qxBdGEXr8lbUlNVw\\\n",
       "8TsE3edtkTmlrqkOiWTCmwIpILtNROtwVv4soXKkY+q87UU/1H3sEZmCC2DyTCKZQHRbFKUbSjGn\\\n",
       "dg5KN5Ti4ecfvmByryiuGDJafygMpRlEyO8CiBMJ9UgJphx9//ffH7Qfkl1E55Xf3PsbrJy3knt+\\\n",
       "hyFSvyGE8Oyfnu0be07uD26c/343rrtROCjIS7Kv+Xyy76WiYUu970uZBVYNhc9MRHJwAUzSuQl8\\\n",
       "mJwzGUtmLHH1/gylGSh+WCz0Z+cbOyWXxD0vQlOG8saxN6wMwKELcV7xlkj9ppDCtte2YdXmVch/\\\n",
       "NB+XPXaZlGCqwe43re+0ClyVd0FBKsK4ZPd50Xl51+FdrssxHB3uUyK8CKzi3EYkBxfAJFVv4MO6\\\n",
       "+Lohf/PZG/hw2w9uQ2d3J9bettbx13oYSjM4k4Mx/CpD/35IduG84i039dtfCin0pHoG/Zmbcenk\\\n",
       "fuOGF3ORyD1RlMw+n8k9JZO+IbMsfvPqvsy5jShzXACTVCKBD9nhbDz9iadRWVw55Fd7GEqTnsnB\\\n",
       "GH6XwYYAHBqI84q3nNRvJpyMSzf3Gye8mItUhnHJ7POZ3FNk9w2/7xGivLovc24jylwolUqJbaYj\\\n",
       "7V1zzTUAgJdfflnJ+dqSbZi6Zqqr38SHs8JoXd7a9/WcRDKB2t21aDzYKPyH4oMoui2K6i3V7o9b\\\n",
       "GPX9j9qLll2m/v2Q7MJ5xVu99fvs/mfx/KvPC+/R7y/duBS53wxH9nwo454oKtM+L+uecn45mt9q\\\n",
       "Fvp6ug73KREq7suc28yk+vmcBuIC2GKqB5jJizDTiTxohRDCvKnzcOtVt/p6sxQp+8jQSIRCIa0f\\\n",
       "fsleiWQCT8SfwNZXt/Kh8zxe/DJrqHEp+1xe/BJM5iJSdX8TvacU5xcjLztv0PL5+QsBPwTtesk5\\\n",
       "LoD9x69AkzReBD6QM5mG0vgZCCVS9ntn3is9aIX9kIajIszIZF4E2g01LmWfy4ugoEzviX72N9F7\\\n",
       "yq7Du4YsX9ACnIJ2vUQm4QKYpDE5iMkGmQSP+B0IJRLqwaAVUkllmJGpvBhDQ72nzHN5FRSUyT1R\\\n",
       "h/6W6Rw7WPmCFuAUtOslMgUXwCSNyUFMNpARPOJXIJRIqAeDVkgllWFGpvJiDA31njLO5XVQUCb3\\\n",
       "RB36m6w59vzyBS3AKWjXS2QK7gG2GPcAB1cmoTR+70ESCfUIctAKeY97+ZwxYQ9wwdgCFE0sUrJn\\\n",
       "W7SMVXOr8Oj2R7Xqb+fPsUc6j2D34d0Z31eCFuAUtOuloXEPsP+4ALaYiSnQJFcQfynBfhhMXgYF\\\n",
       "yRhHQQjOkp3MPNSi6Yn4E2hoadD+l3uic9EDcx7A6hdWuz6fqnk7iPcVPwVh7ggaLoD9x69AkzQM\\\n",
       "fNBPEIPJ2A+DRUVQUCbjKEjBWSJjL53zx2X/etz26jbXf25J9TgXnYt2Hd4ldD5V83YQ7yt+CNLc\\\n",
       "QaQaF8AkFQMf9BLUYDL2w2BQFRQkOh46TnX4HmSk2upbViN3dG7G73P+uHTSzm7eTyWRuUj3eVv3\\\n",
       "8tlAhxA0IptxAUxSMfBBL0ENJmM/DAZVQUGi4+H1d173PchItarnqtBxqkP4+MHGpZt2dvJ+KonM\\\n",
       "RbrP27qXzwY6hKAR2Wyk3wUg+2SHs1FTVoOHbn6IgQ8+W3DFAsRaYq6PK5lWIr8wirEf2q0t2Yb6\\\n",
       "pnpXx9Q11eGhmx9y3e6i4+hw8rCr14uWTxcibRJCCDPzZ2JC9oRBx6Xoe86bOg+3XnWrFuPc7Vyk\\\n",
       "+7xdPLlYqHw3XHaDB6Wxj8q5jSiouAAmz0zKmYSV81Yy9MJHFcUV+MrWr7gOYamYWeFhqdRiP7RT\\\n",
       "bbzW9ddhu3u6Ubu71nVfEBlHWaEs9KR6PC2fbuE4Im2SQgp3X333kNcs+p63XnWrdmPe6Vyk/bwd\\\n",
       "UnOaoFI5txEFFb8CTWQxBkKRrVQG8YiMo/ycfNfnAZyVT9dwHC/aJIiBS7rP2/HDcaHjdr6xU3JJ\\\n",
       "7BTEPk+kGhfARJZjIBTZSHUQj9txdPnYy4XOM1z5dA7H8aJNghq4pPO8HdQ2UYX1S+Q9LoCJLMdA\\\n",
       "KLKR6iAet+NINAl5uPLpHI7jRZsENXBJ53k7qG2iCuuXyHvcA0wUAAyEItv4ERTkZhx5UT7dw3G8\\\n",
       "uGbdA6G8pOu8HeQ2UYH1S+Q9LoCJAiaVSvldBKKM+RkU5CTMyIvy6R6O48U1ax8I1Y9XwWSq5m0n\\\n",
       "5fe6TXQLd1PNtD6vi6D3G3InlOLTsLWuueYaAMDLL7/sc0nIb53dnVj2zDLUN9UPelMNZ4VRPqMc\\\n",
       "a29fy69AkzEqN1ZiXXyd89cXV6KmrMbDEvU7n+TylW4oFfpkKFIYQcPiBtfHifCiTXRvZ8CbOVbl\\\n",
       "vO32XF60Ce9T55jQ53VhYr/h87n/uAC2GAcYAedCc5zsG1xwxQI8/YmnkR3OVlAyosy47duq90rK\\\n",
       "Lt+c2jnYcWiH63LMnjIb2yu2uz5OhBdtYls7O5ljVc7bIucCILVNeJ+6kO59Xhem9hs+n/uPIVhE\\\n",
       "ltM5NIcoEzoHBXlRPhPCcbxoE93b2Ys5VuW8LXIu2W3C+9SFdO/zumC/IVH8BNhi/A0TtSXbMHXN\\\n",
       "VNd7iVqXt3LPDBklkUxoFRTkRfmi26Ko3lLt+tzRhVEle4D786JNdGtnL+ZYlfO2jHNl2ia8T6Wn\\\n",
       "W5/Xhcn9hs/n/uMC2GIcYGcFORjBtAdmkiPIfd5mJj/w2cqLOVblvK3DPUKHMpB5TO43fD73H78C\\\n",
       "Tdbq7O5E5cZKFKwpQPWWasRaYthxaAdiLTGs2rwKBWsKsHTjUpw8fdLvonrG6VeD+ms82Ci3IKQE\\\n",
       "+7zdJudMxpIZS1wdUz6jnItfD3kxx6qct3W4R+hQBjIP+w1lggtgslJvMMK6+LohPy3p7unG9+Lf\\\n",
       "w20/uA2d3Z2KS6jGsa5jSo8j/7DPB8Pa29ZiwRULHL12wRULsPb2tR6XKNi8mGNVzts63CN0KAOZ\\\n",
       "h/2GMsEFMFmJwQhnmRCaQ3KwzwcDw3H04sUcq3Le1uEeoUMZyDzsN5QJLoDJOm3JNtQ31bs6pq6p\\\n",
       "DolkwpsC+cjpJ0X9lUwrkVsQ8hT7fLBkh7NRU1aD1uWtiC6MIlIYwewpsxEpjCC6MIrW5a2oKavh\\\n",
       "4lcBL+bY4snFQu95w2U3uD5Gh3uEDmUg87DfUCYYgmUxvzfZ+xXE42cwgm7hQwzNCQav+7wu/VqX\\\n",
       "cqRjQhlJHi/m2KpNVXjkhUdcl2XauGn4TPFnXPU1He4ROpSBzGNyv/H7+Zy4ALaaXwOss7sTy55Z\\\n",
       "hvqm+kEnpnBWGOUzyrH29rWefEJRuqEUsZaY6+MihRE0LG4QOqff15xO5cZKrIuvc/764krUlNV4\\\n",
       "WCKSzas+r0u/1qUc6ZhQRvKG7DlWdDz3ctvXdLhH6FAGMo+p/YYLYP/xK9AklQ5BPKqDEXS45nQY\\\n",
       "mmM/L/q8Lv1al3KkY0IZyTurb1mN3NG5jl6bOzoXqxetTvuaTEN63PY1He4ROpSBzMN+Q6K4ACap\\\n",
       "dAjiUR2MoMM1p8PQHPt50ed16de6lCMdE8pI3ql6rgodpzocvbbjVAeqNlWlfY2skB6nfU2He4QO\\\n",
       "ZSDzsN+QKH4F2mKqv2Khy34MlXuAdblmpxLJBGp316LxYCP3J1qkKlaFR150v2fwwZsexMO3PDzg\\\n",
       "33Xp17qUIx0Tykje8aL9Re9hIufqT4d7hA5lIPOY1G/4FWj/jfS7AGSP2nitq4cA4OxXtWp312Yc\\\n",
       "PnW+iuIKfGXrV1w/kFTMrHB9Ll2u2alJOZOwct5KX85NHgrJeZveAKe6pjot+rUJ48vPMtoauJXu\\\n",
       "ugBodc1etL/IPUz0XP2pvEeka2cdygDo1dd0psNcxOcbcoOfAFtM9W+Y/AifGoqqYASdrpmCK9N+\\\n",
       "OFyAk9v3k8WE8cXQPXmGu64QQgiFQuhJ9Qz4mV/X7FX7u72HZXIu1XTov8OVISuUBaSAHujT13Sk\\\n",
       "Q1uaiJ8A+497gEka1eFT6agKRtDpmim4MumHTgKcvC6H7PdTOb4YuieHk+tKITXo4hfw75q9an83\\\n",
       "97BMz6WSDv3XSRl6Uj2DLn5VlM8UOrQlkSgugEka1eFT6agKRtDpmim4MumHbgKcvCqH7PdTOb4Y\\\n",
       "uieHrH6o+pq9an8n9zBZ51JJh/5ral/TjQ5tSSSKC2CSRvS31SXTSuQW5C+yw9moKatB6/JWRBdG\\\n",
       "ESmMYPaU2YgURhBdGEXr8lbUlNVk9LUc3a5ZJ40HGnHVt65C+KthjHhoBMJfDeM933oPGg80+l00\\\n",
       "64j2w1mXzUJ9U720csju1yaMr+L8YqHjbrjsBtfHtCXbXLdXXVMdEsmE63P1l0gmEN0WRemGUsyp\\\n",
       "nYPSDaV4+PmHpby3yHWlsy6+DgvqFkgrXzpe9tH+97Arx1/p2blU8LP/ZlKGdGSXT6aXEi8h8mQE\\\n",
       "E74+AWP+7xhM+PoElG4oxUuJlzJ+bx3akigTXACTNBXFFa5/Uy0aPuVGbzBCw+IGbK/YjobFDVg5\\\n",
       "b6WUYAZdr9lPr3e8jnGrx+HmJ2/G/rf343TPafSkenC65zT+9PafcPOTN2P8I+PRlmzzu6jWEO2H\\\n",
       "SEFK0E7v+8nu10aML4UpGpkELonq7O5E5cZKFKwpQPWWasRaYthxaAdiLTGs2rwKBWsKsHTjUpw8\\\n",
       "fVL4HCLXlU4KKWx7bZu08qWjoo/23sN+c+9v9B8PafjRf2WUIR3Z5ZOh/UQ7rv7O1Zj++HRsOrAJ\\\n",
       "7Z3tSHYl0d7ZjlhLDNMfn46r//VqHD15VPgcOrQlUSa4ACZpJudMxpIZS1wdUz6j3Og0xSBeczqv\\\n",
       "d7yOK9ZeMezfxDx68iimPDYFr3e8rqhkdhPth7sO75JWBi/6tQnjK94WFzpu5xs7XR8j+rXNxoON\\\n",
       "Qsep2uMn6yv4g/F6D6LKPmrCeEhHdf+VWYZ0ZJYvU+0n2lH4rUI0H2lO+7rmt5ox7ZvT0H6iXeg8\\\n",
       "OrQlUSa4ACapVIVP6SSI1zyUa757Dc6kzjh67ZnUGVz7+LUelyg4RPqhrHAcL/u17uNLZQiW6sAt\\\n",
       "VXv8VIQ0ebkHUWUf1X08pKNDqJ0XfU2nkLG56+cO+wvoXh2nOjC3bq7QeXRoS6JMcAFMUqkKn9JJ\\\n",
       "EK95MJsPbHZ84+119ORR7gmWRKQfZhqOo6Jf6z6+VIZgqTyXyj1+qkKavNqDqLKP6j4e0tEh1M6L\\\n",
       "vqZLyNiexJ5hP/ntr/mtZqE9wTq0JVEmRvpdALJPb3DHQzc/hNrdtWg82Gj9H5EP4jX3V7mxUui4\\\n",
       "z2z8DF75/CuSS2OWRDKBJ+JPYOurWzPqN2774YIrFgj9DdOrxl+F8pnlyvq1zuNLtA5FgolUniuT\\\n",
       "PX4r5610dZzodbklWj4nVPZRncdDOjL6b6ZzpRd9TZeQsQeefUDouBUNK1z/nWiVc1F/su6XFGyh\\\n",
       "VCqlMMKDVOIf2iaVwl8N43TPadfHjcwaie7/Iy+UxCSd3Z1Y9swy1DfVD7rYCGeFUT6jHGtvX+vJ\\\n",
       "JzltyTZMXTPV1UInnBVG6/JWPmj8hco6VHmu0g2lQg+4kcKI64dpkesSJVI+kiOT/jt29Fgpc6Xs\\\n",
       "vqbTfDjh6xPQ3ul+T29edh6O/NMRV8f4ce/w+34pE5/P/cevQBORFD2pHqXHmU5VwFA6pofq6MDW\\\n",
       "ECSVe/xErksU9yD6R7T/jh09VtpcKbuv6TQfdp3pUnac6nuHDvdLsgsXwEQkRVZIbDoRPc50qgKG\\\n",
       "hmNyqI4ubAxBUr3Hz811ZYJ7EP0l0n9lz5Wy+ppu8+GoEaOUHqdy3tPlfkn2COaTJxFJd0XuFULH\\\n",
       "TcudJrcgBlAZMDQck0N1dGFjCJLoAkF0j5+T68pCVsa/MNNlv2ZQue2/R08elT5XOuproSxkDfGI\\\n",
       "rOt8WDy5WOi4WfmzhI5TNRfpdL8ke3APsMW4x4BU6A2k+HnzzxE/7P5vom75uy0oeXeJ9HLpLLot\\\n",
       "iuot1e6PWxjNOMAnXYAIAKNCdXSUSCYGrcMPv/fD+K8//pfU4JahziWjvUT2+IUQQnF+MfKy8zIq\\\n",
       "R7rrAs720Wf3P4vnX30eKTh/hPF7vybDey7kpP96PVc66WuyxpfX7b8nsQfXP3696+P23rcX1066\\\n",
       "NqMyejkX+Xm/9Aqfz/3HBbDFOMDIS8MFUjgx7qJxePtLb0sumf5UBgz1silAxCQm13vlxkqsi68T\\\n",
       "Pt7ra3NbvsriStSU1Ugvx3BM7gN+82OulE1l+1/9natd/SmkoolF2Pe5fVr3URv6QH98PvcfvwJN\\\n",
       "RK45CaQYzojQCOz73D7JJTODyoAhgAEifjG93jPdK+n1tZmwf930PuA31XOlbKrb/4V7X0Du6FxH\\\n",
       "r80dnYvtFdu176Om9wHSExfAROSam0CKwYy7aBwOrTiEyTmTJZbKHKoDhhgg4g/T693JHj8nvLo2\\\n",
       "E/avm94H/KZ6rpRNdfvnXZyHls+3oGhiUdrXFU0swsH7D2LcReO076Om9wHSExfAROSKSCAFcPbv\\\n",
       "/V41/ips+bstePtLbwd28QuoDRhigIg/bKn37HA2aspq0Lq8FdGFUUQKIyjOL0YIIVfv42WIW//y\\\n",
       "zZ4yG5HCCKILo2hd3oqashpfFr+29AE/qQ5jk8mv9s+7OA/7PrcPe+/bi0hhBHnZecgZlYO87DxE\\\n",
       "CiPYe99e7PvcPoy7aJwRfdTkPkD64gKYiFypjdcKfe35KyVfwSuffyVwgVeDqSiucP2JWjgr3BfM\\\n",
       "4oZIe3X3dKN2d63rc3ktkUwgui2K0g2lmFM7B6UbSvHw8w9ruWCwqd4BYFLOJKyctxINixvw0aKP\\\n",
       "ugqfAry/tvPLt71iOxoWN2DlvJW+hkvZ1gf8oHKulKV3nrpp/U2+tv+1k65Fw+IGHPmnIzj24DEc\\\n",
       "+acjaFjc0Bd4BZjRR03sA6Q/LoCJyBXRrz43HmyUWxCDTc6ZjCUzlrg6pnxGudDDvA3t1dndicqN\\\n",
       "lShYU4DqLdWItcSw49AOxFpiWLV5FQrWFGDpxqU4efqk30XtY0O9D8Xma5OJ9ZQ5lXNlpvrPU/vf\\\n",
       "3i/0Pirb34Q+alIfIHNwAUxErjCQQg5VAT6mt5fuAS1DMb3e07H52mRiPclhS9iZUyrb35Q+akIf\\\n",
       "ILNwAUxErjCQQg5VAT6mt5fuAS1DMb3e07H52mRiPclhW9jZcFS2vyl91IQ+QGYZ6XcBiMgsC65Y\\\n",
       "IPQ3+RhIMVBvgM9DNz+E2t21aDzYiGNdxzBm1BiUTCtBxcyKjL/GZXJ7iQa0PHTzQ75//c3keh+O\\\n",
       "zdcmE+tJHhVzpSjRYMihqGx/k/qozn2AzBNKpVLukizIGLb9oe1EMoEn4k9g66tbPZ/0Xkq8hOXP\\\n",
       "Lke8LY6uM10YNWIUZuXPwmOlj10QIBFEbck2TF0z1dXXvMJZYbQub+XNyQcmt1d0WxTVW6rdH7cw\\\n",
       "ipXzVnpQorOczEUm1/tgzr/mI51HsPvwbldBWDpfm1ds6wM0ONF5ajCq25991B+2PZ+biJ8Ak/Y6\\\n",
       "uzux7JllqG+qHzBJx1pi+HLjl1E+oxxrb1+b8dde2k+0Y+76uWg+0jzgZ7GWGKY/Ph1FE4uwvWI7\\\n",
       "xl00LqNzmao3kGJdfJ3jYxhI4R+T2yuTgBYvFsBu5iKT6/186a7ZDR2vzWu29AFKT9ZXnwH17c8+\\\n",
       "SkHFPcCkNZUBOO0n2lH4rcJBF7/na36rGdO+OQ3tJ9qFz2U6BlKYxdT20imgRWQuMrXee8kK9skd\\\n",
       "nYvVi1ZLLJk5TO8DNDxZ841f7c8+SkHEBTBpTWUAztz1c9FxqsPRaztOdWBu3Vzhc5mOgRRmMbW9\\\n",
       "dApoEZmLTK33XrKCfTpOdaBqU5WEEpnH9D5Aw8t0vvG7/dlHKYi4B9hipu8xULk3ZU9iD65//Hq3\\\n",
       "RcTe+/YGfk9wIplgIIVBTGovXfYAy5iLTKp3QOya0+G+QfP6ADlTFavCIy8+4vq4abnT8JlZn9Gq\\\n",
       "/dlH1TD9+dwGXABbzPQBpvLhN/JkBJsObHJ9rkhhBA2LG/r+t8qgLpOprCdb28TW6zqfLgEtuizE\\\n",
       "VZIZ7NP3nh7WRxDGA+mpalMVHnnB/QL4wZsexMO3POxBiexmw1g3/fncBlwAW8z0AVa6oVQonr//\\\n",
       "otSJCV+fgPZO93t687LzcOSfjgwbFBPOCksL6jKZynqytU1sva6hVG6sdBXQUllciZqyGqllUDkX\\\n",
       "6UL0mtPxoj6CNh5IP0GcH/xg01g3/fncBtwDTNpSGYDTdaZL6FxdZ7qUBnWZTGU92domtl5XOjoE\\\n",
       "tOgUxqWKF2WX/Z5BHA+knyDOD6pxrJNsXACTtlQG4IwaMUroXKNGjFIa1GUylfVka5vYel3p6BDQ\\\n",
       "olMYlypelF32ewZxPJB+gjg/qMaxTrJxAUzacvqpT38l00pcH1M8uVjoXNdeei3qm+pdHVPXVIdE\\\n",
       "MiF0PlO1JduU1ZPKc6lk63U5kR3ORk1ZDVqXtyK6MIpIYQSzp8xGpDCC6MIoWpe3oqasxrOvvamc\\\n",
       "i3Qhes3pyKyPII8H0ksQ5weVONbJC1wAk7YqiiuG/MRnKOGsMCpmVrg+16O3Pur6GAC4ftL1rlNS\\\n",
       "u3u6Ubu7Vuh8pqqN1yqrJ9FzfWDdB1C6oRQPP/+w8htnIplAdFsUpRtKMad2zqDlUFmHupqUMwkr\\\n",
       "561Ew+IGbK/YjobFDVg5b6XnwScq5yJdiFxzOrLrw8RxbjInc1RQBWV+8KsP8N5HXuACmLQ1OWcy\\\n",
       "lsxY4uqY8hnlQg/D1026DkUTilwdUzSxCM1Hml2fCwAaDzYKHWcq0b8lKlJPoudqfacVsZYYVm1e\\\n",
       "hYI1BVi6cSlOnj4p9F5OdXZ3onJjJQrWFKB6SzViLTHsOLRj0HKorEO6kMq5SBci15yO7PowaZyb\\\n",
       "zM0cFVS2zw9+9wHe+8gLXACT1lQG4Lxw7wvIHZ3r6LW5o3OxvWI7wy8cUllPMupWRZiG21CPjlMd\\\n",
       "QucJWl/zig5hXKq5ueZ0ckfnYvWi1RJKdI4p49xkDB5yztb5QYc+wOcs8gIXwKQ1lQE4eRfnoeXz\\\n",
       "LSiamP6T4KKJRTh4/0GMu2gcwy8cUllPMuvWyzANt6Eer7/zutB5gtbXvKJDGJdqTq7ZiY5THaja\\\n",
       "VCWxZOaMc5MxeMg5W+cHHfoAn7PIC1wAS9TW1obly5fjve99L7Kzs5GXl4dZs2bhn/7pnwZ9/ZNP\\\n",
       "Pokbb7wROTk5yMvLwx133IEXX3xRcan1pzIAJ+/iPOz73D7svW8vIoUR5GXnIWdUDvKy8xApjGDv\\\n",
       "fXux73P7MO6icQAYfuGUynqSHd7jRZiGSKjH4eRhoXMFra95ye8wLj8Mds2z8mchhJCr95E9jorz\\\n",
       "xYILh8LQnAsxeMg92+YHXfoAn7PIC6FUKpXyuxA22L59O+644w4cPXoU73//+3Httdfi2LFj+MMf\\\n",
       "/oBDhw7h9OnTF7x+xYoVWLNmDbKzs1FaWoqTJ0/iueeeQyqVwk9/+lN85CMfybhM/EPb3mtLtmHq\\\n",
       "mqmuAhrCWWG0Lm/Vbv9PIpnAE/EnsPXVrTjWdQxjRo1BybQSVMysyLisKutJ5FzDiS6MYuW8lfLe\\\n",
       "b1sU1VuqXR+XFcpCT6rH8etV9DUv+w3pSbT/yhxHVbEqPPLiI1Leq5fscS6LH2NMhzY2lS5zYqbl\\\n",
       "0KUP2PSc1YvP5/7jAliCN954A9dccw1OnTqFf//3fx+weP2f//kf3HjjjX3/e/PmzbjlllswYcIE\\\n",
       "bN++He95z3sAnF1El5SUIDs7GwcOHMD48eMzKhcHmBqVGyuxLr7O+euLK1FTVuNhidzp7O7EsmeW\\\n",
       "ob6pftAbTDgrjPIZ5Vh7+9qMfnOtsp7cnms4kcIIGhY3SHu/0g2liLXEXB93+ZjL8fox51+F9rKv\\\n",
       "qeo3pB/R/itzHImWIR3Z4zxTfo4xHdrYNLrMibLKoVMfMP05qz8+n/uPX4GWoKqqCkePHsXXv/71\\\n",
       "QT+5PX/xCwCPPnr2T+5UV1f3LX4BYM6cObjvvvvQ0dGB9evXe1tokmb1LatdhWfJDoPJhMqAC5Uh\\\n",
       "IbLCe3rJDtMQfb/Lx16uRdCKDsEo5B8dQmm8CLjRKTTH7zGmQxubxO/28qIcOvUBW0PGyD9cAGfo\\\n",
       "7bffxn/8x38gNzcXn/70p4d9fe9XnQHgnnvuGfDz3n/buHGj3IKSZ6qeq3Kc0OtFGEwmVAZcqAwJ\\\n",
       "kRXe00t2mIbo++WOztUiaEWHYBTyjw6hNF4E3OgUmuP3GNOhjU3id3t5UQ6d+oCtIWPkHy6AM/TC\\\n",
       "Cy/g1KlTuOmmmxAOh/HUU0/h/vvvx+c+9zl8+9vfRiJxYRhAc3MzTp06hUsvvRRTpkwZ8H7FxWeD\\\n",
       "Pfbs2aOk/JQZXUIiRPhRdpUhIYOdq2BsgdB7yQ7TyCTUw++gFZP7PMmhQyiN7LA7QJ/QHB3GWPFk\\\n",
       "sZCxGy67QVoZTKFDe3lRDh3G+fn8vveRXUb6XQDT9X5/f9KkSZg3bx62b99+wc8ffPBB1NXV4a//\\\n",
       "+q8BAK+99hoADLr4BYBLLrkE48aNw9tvv41jx45hzJhg/jZVBRlBFbXxWtdhS9093ajdXet7UIif\\\n",
       "ZZ+UMwkr561UVge9UQfvuuRdOPTOIaTgPPognBVGxcwKqeWpKK7AV7Z+xXWox/nlUF2HvUzu8ySH\\\n",
       "jP7rRxnSCSGEn+37GRoPNvoe4qbFGHMX8h1oWrSXB+XQYZwPRuTep0swGemDnwBn6O233wZw9k8a\\\n",
       "7dmzB7W1tXjzzTdx4MABrFixAsePH8cnP/nJvk90k8kkAODiiy8e8j0vueSSC147nGuuuWbQ//bv\\\n",
       "35/JpVmrs7sTlRsrUbCmANVbqhFriWHHoR2ItcSwavMqFKwpwNKNS3Hy9Mlh38vpV436azzYKHSc\\\n",
       "TCaX3YnB2nnX4V2uFr8AUD6jXPoNcnLOZCyZscT3coiwvd/Q8HTovyJlSCeFFOKH40L3Adl0GGPx\\\n",
       "w3Gh43a+sVNaGUyhQ3t5UQ4dxnmmZD7vkV24AM7QmTNnAACnT5/GY489hnvvvRcTJ07EtGnT8Oij\\\n",
       "j+Kee+5BV1cXvv71rwM490lUKDT0r1cZzO0d2UEVOoVEqCqDDmUfjpN2dsLLMA1TQz1s7jfknA79\\\n",
       "V3bY3fn8DHHTYYzpUAZT6FJXXpRDh3EuSpdgMtITF8AZ6v2KclZWFj71qU8N+Pm9994LAGhsbLzg\\\n",
       "9cePHx/yPU+cOAEAyMnJcVSGl19+edD/rrzySsfXERSygyp0ColQVQYdyj4cN+08GBVhGqaGetjc\\\n",
       "b8g5HfqvkzJkIQtZIfFHHT9C3HQYYzqUwRS61JUX5dBhnIvSJZiM9MQ9wBmaNm0aAGDy5MkYPXr0\\\n",
       "kD//85//DACYOnUqAODQoUODvt/x48dx9OhRjBs3jvt/JRMNiHjo5oeG/ErPgisWCP2dPB3CVkwu\\\n",
       "ezoi7RxCCDPzZ2JC9gSl+4J6Qz0euvkh1O6uRePBRu33J9nab8g9HfqvkzIA6PtZe2c74ofjrrZC\\\n",
       "DHcfkE2HMaZDGUyhS115VQ4dxrlbXjzvkV1CKX7fNiN79+7Fddddh+zsbBw/fnzAV5t/85vfYN68\\\n",
       "eRg/fjza29vR2dmJ8ePH49SpU2htbR0QhvX8889j/vz5mD9/PrZuFf8EC+Af2u4vui2K6i3V7o9b\\\n",
       "GB0ybKEt2Yapa6a6+pptCCHMv2I+Sq8s9fXGIVL2cFYYrctbtb5BeNHOdI6t/YbU8iuUxoT5QYcx\\\n",
       "pqIMtgQT6dBeOpVDB7qPcz6f+49fgc7Q9OnT8e53vxudnZ347W9/O+DnvV997v3zRtnZ2Vi4cCEA\\\n",
       "4Kmnnhrw+t5/+9CHPuRRiYPLi6AKkZCIFFLY+upW3wMYbAi4GIwugSS2srXfkBp+h9KYMD/oMMa8\\\n",
       "LIPffUA2HdpLp3LowIRxTv7iAliCL33pSwCAz3/+83jrrbf6/n3Xrl149NFHAQD33Xdf37+vWLEC\\\n",
       "APC1r30Nr7zySt+/b9++HTU1NRg7diwqKryNkQ8ir4IqMgli8TuAweSAi6HoEkhiMxv7DXlPh1Aa\\\n",
       "U+aH1besRu7oXEevzR2di9WLVksvgxfjXIc+4AVd5kRdyuE3U8Y5+YcLYAk+85nP4K//+q/xu9/9\\\n",
       "Du973/tQVlaGm2++Gf/rf/0vHD16FJ/5zGdwzz339L1+0aJFWLZsGY4cOYIZM2bgrrvuwh133IH5\\\n",
       "8+eju7sb69evR15eno9XZCevgiqchEQMx68ABpMDLoaiSyCJzWzsN+Q9HUJpTJkfqp6rQsepDkev\\\n",
       "7TjVgapNVdLL4MU416EPeEGXOVGXcvjNlHFO/uEeYEl6enrw+OOP44knnsAf//hHhEIhXH/99bjv\\\n",
       "vvuwePHiQY+pr6/Hd77zHezbtw/hcBizZ89GdXU1brrpJill4h6DC6nYE5JIJlC7uxbP/ulZPP/a\\\n",
       "866CVvzei9NbdhMCLtLRfe+PbWzpN+QtXfYnmjA/6FJX55MxznW8Li/oMifqUg4/6D7O+XzuPy6A\\\n",
       "Leb3ANMt4ELWzdfJdek++frtpcRLWP7scsTb4ug604VRI0ZhVv4sPFb6GK6ddG1G7x2khyydxtdg\\\n",
       "TCgjqaHLnGjC/KBLXclm63WRfnQf534/nxO/Ak0e0DXgItOACDfXxQCGwbWfaMfV37ka0x+fjk0H\\\n",
       "NqG9sx3JriTaO9sRa4lh+uPTcfW/Xo2jJ48Kn8P2IBBdx5dpZSS1dJkTTZgfdKkr2Wy9LtKPCeOc\\\n",
       "/MUFMEmle8CFaECE2+tyunerP5sDGNpPtKPwW4VoPtKc9nXNbzVj2jenof1Eu/C5bA0C0X18AWaU\\\n",
       "kdTTKZRG9/lBp7qSydbrIj3pPs7JX1wAk1S6B1yIBkS4va7X33ldqHw2BzDMXT/XVajL3Lq5wuey\\\n",
       "NQhE9/EFmFFGUk+nUBrd5wed6komW6+L9KT7OCd/cQ+wxVTvMdB9z0V/TgMiRK4rK5SFnlSP6zLZ\\\n",
       "utdpT2IPrn/8etfH7b1vb8Z7gm0JAjFhfJlQRvKHrvs/dZwfdK2rTNl6XaQ/3cY59wD7jwtgi6ke\\\n",
       "YLbe3ESvy+0i2OaFQOTJCDYd2OT+uMIIGhY3eFAi88gaX14GU8koI4OzvOVX/fKXI87JqCsdx5Fp\\\n",
       "16VjHZIduAD2HxfAFlM9wEo3lCLWEnN9nO6LHNHrunzM5Xj9mPOvQlcWV6KmrMb1eUww4esT0N7p\\\n",
       "fk9vXnYejvzTEQ9KZJ5Mx1dndyeWPbMM9U31gz6AhrPCKJ9RjrW3rxX+KlgmZfyv//1fnpcvyFS0\\\n",
       "/3AqN1ZiXXyd89dbPCcOR7SudGjntOU04Lp0r0MyHxfA/uMeYJLG1oAL0fJdPvZyBjD8RdeZLqXH\\\n",
       "2SiT8aUqmEq0jB2nOhic5SFdgskYSuOcSF3p0s7p6H5dJtQhEWWOC2CSxtaAC9Hy5Y7OZQDDX4wa\\\n",
       "MUrpcTbKZHypCqYSLePr77zO4CwP6RJMxlAa50TqSpd2Tkf36zKhDokoc/wKtMW4B1gOWfsadQpg\\\n",
       "UI17gDMn2g+r5lbh0e2PKtl7yf3y+tF1723Q50Q3nNSVru2cjm7XZWIdkpn4FWj/cQFssSClQHsZ\\\n",
       "VsGbYub8TIG2hWg/fGDOA1j9wmrX5xP5xZSfiekic0AQQm78/MVkEOpXF/wFdL/jBK7L1jok/XAB\\\n",
       "7D9+BZqkmZwzGUtmLHF1TPmM8owehDq7O1G5sRIFawpQvaUasZYYdhzagVhLDKs2r0LBmgIs3bgU\\\n",
       "J0+fFD6HH9dlm+smXYeiCUWujimaWMTF73lE++Guw7uEztd4sNH1MSJlzM/Jd30e4Fz5ROYAFfOG\\\n",
       "Lpx+nbM/kfbvFaT61YUf7ayCyuuytQ6JaCAugEmq1besRu7oXEevzR2di9WL3H8y1UtlWAXDWzL3\\\n",
       "wr0vuOob2yu2e1wi84j0Q9XhdG7ngPwxYgtg0XCvoIXcqG7/oNWvLhhCmflxttYhEQ3EBTBJVfVc\\\n",
       "FTpOdTh6bcepDlRtqhI+l8qwCoa3ZC7v4jy0fL4FRRPTfxJcNLEIB+8/iHEXjVNTMIOI9EPV4XRu\\\n",
       "54DDxw4LnUc03CtoITeq2z9o9asLhlBmfpytdUhEA3EBTNK0JdtQ31Tv6pi6pjokkgmtz9UrO5yN\\\n",
       "mrIatC5vRXRhFJHCCGZPmY1IYQTRhVG0Lm9FTVkNF79p5F2ch32f24e99+1FpDCCvOw85IzKQV52\\\n",
       "HiKFEey9by/2fW4fF79puO2HTj8x7q9kWonrY0TG5eGk2AJ41mWzhOaAut11ro/JZN7wm+7tb3r9\\\n",
       "6kJlO6uk8rpsrUMiGoghWBazOQWaYRXyMbDGP7aEuImOyxGhETiTOuP49ZmEe4kwORBKpP1DCGFm\\\n",
       "/kxMyJ7gqoy6zstBmNtsDWtkCjTZiCFY/uMnwCQNwyrMxMAa/9gW4iY6LifnTHb1+kzCvUSYHAgl\\\n",
       "0v4ppBA/HHddRt3mZb/rXiVbwxpVXpetdUhEA3EBTNIwrMI8DKzxj8q6VxVOJzq+Lh97ubJwLxGm\\\n",
       "B0K5CU8bjNMy6jQv61L3Ktka1qjyumytQyK6EBfAJA3DKszDwBr/qKx7VeF0ouMrd3SusnAvEaYH\\\n",
       "QjkJT3NiuDLqNC/rUvcq2RrWqPK6bK1DIroQ9wBbjHuA5ZzLVtzv5B9b97XJGJeJZAK1u2vReLAx\\\n",
       "7X5N0XOJEJk3dB1f59dve2c74ofjSMH5Y0C6MuoyL+ta9yo5HUemUXldttYh+Y97gP3HBbDFVA8w\\\n",
       "Wx/qbaXLw2oQ2frLIt3ngBBCrhZ7mZTPhPElu4y6zMsm1L2fdA8F0718JEeQ25kLYP/xK9AkDcMq\\\n",
       "zKJbYE2Q2BoYp/sc4HbxC6gPBFM5vmSXUZd52YS694PuoWC6l4/kYDuTDrgAJqkYVmEOnQJrgsbm\\\n",
       "wDhd5wARmZTPhPHlRRl1mJdNqHvVdA8F0718JAfbmXTBBTBJxbAKc+gUWBM0NgfG6TYHiJBRPhPG\\\n",
       "lxdl1GFeNqHuVdM9FEz38pEcbGfSxUi/C0D2yQ5no6asBg/d/JDnARIqz2Wb4snFiLXEXB93w2U3\\\n",
       "eFCaYFlwxQKhui+ZVqL1uXr5PQeIhDuFEML8K+aj9MpSKeXzo97d8qqMfs/LJtS9Sm3JNtQ31bs6\\\n",
       "pq6pDg/d/JCS+6fu5SM52M6kE4ZgWcy2TfaigQlBDlpIp2pTFR554RHXxz1404N4+JaHPSiR+Zz2\\\n",
       "Nd3DokwPjNMhBEk0pKs4vxh52XlK5igTyigiiH0+Ha/HQ6b3WB3GK3mP7XyObc/nJuJXoEl7ooEJ\\\n",
       "DFpIL344LnTczjd2Si6J+dz2Nd3DokwPjNMhBEk0pGvX4V3K5igTyigiiH0+Ha/Gg6x7rA7jlbzH\\\n",
       "diadcAFMWhMNTGDQwvAYFCOHaF/TNSzKhsA4Xfp2piFdKuYoE8ooImh9Ph0vxoPMe6wu45W8xXYm\\\n",
       "nXABTFoTDUxg0MLwGBQjh2hf0y0syqbAOF36tqyQLi/nKBPKKCJofT4dL8aDzHusLuOVvMV2Jp1w\\\n",
       "AUzaEg1M2JvYK3RcIplwdYzpRD/1sTUoRoRoH+3ta71hQa3LWxFdGEWkMILZU2YjUhhBdGEUrctb\\\n",
       "UVNWI+XhXOW5/KZT3x6s3ovzixFCyNX7eDlHmVBGEUHq8+nIHg+Zznv96TReyTtsZ9IJQ7AsZvom\\\n",
       "e9HAhEWFi7CpZZP781kYtJCOn0ExtgSaBSXUQ7d6H47uIUgm9BsTykjOyB4PsvuG7uOVhufkHsF2\\\n",
       "Psf053Mb8BNg0pZoYIJouFPQghb8CIqxLdDM9lAPXet9OLqHIJnQb0woIzkjezzI7hu6j1campt7\\\n",
       "BNuZdMIFMGlLNPig60yX0vOZTGVQjI2BZjaHeuhc707oHIJkQr8xoYzknMzx4EXf0Hm80uBE7hFs\\\n",
       "Z9IFF8CkLdHgg1EjRik9n8lUBsXYGGhmc6iHzvXuhM4hSCb0GxPKSM7JHA9e9A2dxysNTuQewXYm\\\n",
       "XXAPsMVM32PAPcBqJZIJ1O6uRePBRun7PEX3/uyq3IVZ35ul7Z4hW/dJ2rZXy8u+LcKEfmNCGb1m\\\n",
       "2t53pzIdD173Dd3GKw0k4x4R5HY2/fncBlwAW8z0AWbroimIbP1lhm0LxV5c/HjLhH5jQhm90tnd\\\n",
       "iWXPLEN9U/2g1x/OCqN8RjnW3r42kJ9QBblv0Fm8R2TG9OdzG/Ar0KQt0cCE6ZOmM2hBM7YGmtka\\\n",
       "6sEAJG+Z0G9MKKMXTN/7rkJQ+wadw3sEmY4LYNKaaGACgxb0YnOgmY19jQFI3jOh35hQRtlM3/uu\\\n",
       "ShD7Bp3DewSZjgtg0ppoYAKDFvRic6CZjX2NAUjeM6HfmFBGmdqSbahvqnd1TF1THRLJhDcF0ljQ\\\n",
       "+gZdiPcIMh33AFvMtj0GooEJQQ5a0IWte4D7k93X/Arh4f4utUyYo0wo41DSjSMAfT9rfqsZre+0\\\n",
       "un7/oPd7W+Y923hZj6L3iKvGX4XymeWBb0vbns9NxAWwxTjASBcMNHPH7xAehtyQDYYbRyGEEAqF\\\n",
       "0JPqyeg8kcIIGhY3ZPQe5P+8ZwsV9Shyj5BdBpPx+dx//Ao0EXmOgWbO6RDCw5AbMp2TcZRCKuPF\\\n",
       "L8B9jTLoMO/ZQFU9itwjZJeBKBNcABOREgw0c0aXEJ6g1TvZxc04yhT3NWZOl3nPdCrr0c09wqsy\\\n",
       "EIniApiIlGCg2fB0CuEJUr2TXUTGUSZuuOwGZeeykU7znslU16OTe4TXZSASNdLvApC9GGRhD1lt\\\n",
       "mR3ORk1ZDR66+SFXoSmix5mmNl7rek9Vd083anfXehLCE5R6J7uIjKMg0e3erNu8Zyo/6rH/PWL9\\\n",
       "7vXY//Z+pWUgEsEQLIv5tcmeQRb2YFuqVbqhFLGWmOvjGMJDdI7oOBJlyvjTdT7nvCeHDvWoQxlM\\\n",
       "wBAs//ETYJKqN4Ah3R6U3vCDPx75I57+xNPIDmcrLCE5xbZUTzRMhyE8ROeoHg8mjD+d53POe3Lo\\\n",
       "UI86lIHICe4BJqkYZGEPtqV6omE6DOEhOkf1eDBh/Ok8n3Pek0OHetShDEROcAFM0jDIwh5sS3+I\\\n",
       "JmqWTCuRWxAig2WaTOuW7uNP9/mc854cOtSjDmUgcoJfgSZpvA5gSBfcAUCrUI/+RENHVB/Xy6ZQ\\\n",
       "Et0CX9KpKK7AV7Z+xVXdh7PCfWOAiMTGkSgTxp/u87mu895LiZew/NnliLfF0XWmC6NGjMKs/Fl4\\\n",
       "rPQxXDvpWk/PLUJGPWb6zNGwvwEhhJCC83ihEEL42b6fofFgo7b3ZrIPQ7AspnqTvVfhB8MFd4QQ\\\n",
       "QigUQk+qZ8DP/A5pEg0dUX1cfzYEWega+DKcyo2VWBdf5/z1xZWoKavxsERE5nE7joTPY8D4M2E+\\\n",
       "12neaz/Rjrnr56L5SPOQrymaWITtFdsx7qJxnpRBlGg9evXMIULXe7NMDMHyH78CTdJ4EX7QG9yx\\\n",
       "Lr5uyMk1hdSgi1/gXKjHbT+4DZ3dnULlE+Wk7IOVT/VxgzE9yEJmXai29ra1jr9GtuCKBVh7+1qP\\\n",
       "S0RkHjfjSJQp48+E+VyXea/9RDsKv1WYdvELAM1vNWPaN6eh/US7J+UQJVKPXj5ziND13kx24QKY\\\n",
       "pPEi/MBNcEc6foQ0iYaOqD5uMKYHWegc+DKc7HA2nv7E06gsrkQ4Kzzoa8JZYVQWV+KZTz5j7W/I\\\n",
       "iTLhZBxlIQtZocEfg7JCWcga4hHJtPFnwnyuy7w3d/1cdJzqcPTajlMdmFs315NyiBKpRxXPHCJ0\\\n",
       "uzeTXfgVaIup/opFdFsU1Vuq3R+3MDroPqO2ZBumrpkq9Ws1rctblewtESl7OCuMXZW7MOt7s5Qd\\\n",
       "N1R9yG5LlUTrXlXfcCORTKB2dy0aDzZqv3+ZSFfpxhEAoZ+ZNP5Mm8/9mvf2JPbg+sevd33c3vv2\\\n",
       "arkn2Ek9qnxWAeB6f7Cu9+ZM8SvQ/uMC2GKqB5jshYfoTTsdVTd00bIvKlyETS2b3B/37kXYdMD9\\\n",
       "cTJ/+aDLjcq0hz0iIi+ZPJ/352WoYeTJiNB9VKfsC7eEn1UEnzlE2Hhv5gLYf/wKNEkzOWcylsxY\\\n",
       "4uqY8hnlQ960vPhqTePBRunvORjRsscPx8WOaxM7bqj6kN2WKonWvaq+QUSkksnzea/O7k5UbqxE\\\n",
       "wZoCVG+pRqwlhh2HdiDWEsOqzatQsKYASzcuxcnTJ4XPIXof3XV4l/A5/Sb8rCJYVyJ4byYvcAFM\\\n",
       "UskMsvAigENVqIfoebrOdCk9Ll05dQklccuEwBciIpVMnc8BdaGGqu+/OlD9rCKC92byAhfAJJXM\\\n",
       "IAsvAjhUhXqInmfUiFFKj0tXTl1CSdwyIfCFiEglU+dzQF2ooer7rw5UP6uI4L2ZvMAFMEmXHc5G\\\n",
       "TVkNWpe3IrowikhhBLOnzEakMILowihal7eipqxm2BusF3/ComRaifT3HIxo2Yvzi8WOmyx23HD1\\\n",
       "IastVRKte1V9g4jIDybO523JNtQ31bs6pq6pDolkwvW5RO+js/JnCR2nA+FnFcG6EsF7M3mBIVgW\\\n",
       "M32TfdBSoEMI4dp3XYuX/vyS65RE2SnQJhOt+5n5MzEhe4KRKa9EfvIymIiCTWWooW0p0E6oTIEe\\\n",
       "GRqJUCjE5xSY/3xuA34CTNoSCe5IR2Woh0jZU0hh75/3ulr8Ameva/qk6caHnMgiWvfxw3GpgSpE\\\n",
       "tlMRTETBpjLU8LpJ16FoQpGrY4omFhm7+AXEA9JEnjnunXkvn1NIG1wAk9bcBHek40eoh6yyp3P+\\\n",
       "dZkcciJbpnUvI1CFyGaqgoko2FSHGr5w7wvIHZ3r6LW5o3OxvWK70Hl0IvrsIHIcn1NIF1wAk9ac\\\n",
       "BHdkIQtZocG7sp+hHk7KLmqw6zI55EQ2WXWfSaAKkc1UBRNRsKkONcy7OA8tn29B0cT0nwQXTSzC\\\n",
       "wfsPYtxF44TOoxPRZweR4/icQrrgHmCL2bbHIJFMoHZ3LRoPNg7YZwZgyJ/p8PWZ88ve3tmO+OG4\\\n",
       "q686hxBCcX4x8rLzHF1XurrSoT5UyrTubd2DRCRKdN8gxxG5pXIPcH8vJV7CioYV2HV4F7rOdGHU\\\n",
       "iFGYlT8Lj5U+ZvTXntMRfXYQOS7Izym2PZ+biAtgi9k2wGwJWvHzhq6LdG0JwLN2Zt2bzZY5wE8y\\\n",
       "6tDrccR2pl5B+WWLF30+aOPIpOu17fncRFwAW8yWAdbZ3YllzyxDfVP9oDfBcFYY5TPKsfb2tUZ8\\\n",
       "XaZ0QyliLTHXx0UKI2hY3OBBidQZri2zQllACuhBz4CfyWjnINe9yWybA/wgsw69GkdsZxpM5cZK\\\n",
       "rIuvc/764krUlNV4WCJ5vOjzQRtHJl6vLc/nJuMeYNKajUErqkM9dOGkLXtSPYMufgE57RzUujeZ\\\n",
       "jXOAarLr0ItxxHamodganORFnw/aOAra9ZI8XACT1mwMWlEd6qELN22ZTibtHNS6N5mNc4BqsuvQ\\\n",
       "i3HEdqah2Bqc5EWfD9o4Ctr1kjxcAJO22pJtqG+qd3VMXVMdEsmENwWSRPTP85RMK5FbEIVE2jId\\\n",
       "0XYOYt2bzNY5QCUv6lD2OGI703Cyw9moKatB6/JWRBdGESmMYPaU2YgURhBdGEXr8lbUlNUYs/j1\\\n",
       "os8HbRwF7XpJLi6ASVu18VpXwRfA2a+61O6u9ahEclQUV7j+0zzhrHBfQJSJRNoyHdF2DmLd95dI\\\n",
       "JhDdFkXphlLMqZ2D0g2lePj5h7V8KLB1DlDJizqUPY7YzsEkMhdNypmElfNWomFxA7ZXbEfD4gas\\\n",
       "nLdSu5Cj4XjR54M2joJ2vSQXF8CkLdGvyzYebJRbEMkm50zGkhlLXB1TPqPcuBv8+WR89bk/kXYO\\\n",
       "Yt336uzuROXGShSsKUD1lmrEWmLYcWgHYi0xrNq8CgVrCrB041KcPH3S76L2sXUOUMmLOpQ9jtjO\\\n",
       "wWLiXCSbF30+aOMoaNdLcnEBTNqyObDI1lCPoXjRJqLvGbS6B8wNCrF5DlDFqzqUOY7YzsFh6lwk\\\n",
       "mxd9PmjjKGjXS3JxAUzasjmwyNZQj6F40Sai7xm0ugfMDQqxeQ5Qxas6lDmO2M7BYepcJJsXfT5o\\\n",
       "4yho10tycQFM2iqeXCx03A2X3SC5JN6wLdQjHdHQnHQyCaYKUt2bHBTC0LLMeVmHssYR2zkYTJ6L\\\n",
       "ZPOizwdtHAXtekmuUCqVSvldCPKG6X9ou2pTFR554RHXxz1404N4+JaHPSjR8BLJBJ6IP4Gtr27F\\\n",
       "sa5jGDNqDEqmlaBiZsWQ+99EjjFNW7INU9dMlRaEFc4Ko3V5qzX146Xotiiqt1S7P25hFCvnrfSg\\\n",
       "RM6J9Bvb+kam84Ofdei07GznYDB5LpLNiz5v2jgyeW7LlOnP5zbgJ8CkrfjhuNBxO9/YKbkkwxMJ\\\n",
       "9QhSEIhIaE46tgRTqWByUAhDyzKfH/yoQ7dlD3I7B4nJc5FsXvR5U8aRyXMb2YMLYNKWKQEHIqEe\\\n",
       "QQwCcROak44twVSqmDKOhsLQssznB5V1KFr2ILZz0Jg+F8nmRZ/XfRyZPLeRXbgAJm2ZEnAgEuoR\\\n",
       "xCAQJ6E5WaEsZA0xLdkWTKWKKeNoKAwtS8/J/KCyDkXLHsR2DhrT5yLZvOjzuo8jk+c2sgv3AFvM\\\n",
       "9D0GVbEqPPKi3nuARfegpFIpnE6ddnWMDvtWZEkkE6jdXYvGg40D9v4AGPJntly/Sjbtu0vXb2zp\\\n",
       "G17va/OyDmWVPQjtHEQ2zUWyedHndRtHJs9tspn+fG4DLoAt5vcAyzTgwIQQLNEbutC5AvAQIMqL\\\n",
       "IDFbwslMDgoJIpMXCaJlLxhbgKKJRUaOL3KOc5G9nNwvTZ7bZPP7+Zy4ALaaXwOss7sTy55Zhvqm\\\n",
       "+kFvdOGsMMpnlGPt7WvTfh2ldEMpYi0x1+ePFEbQsLjB9XEiRMsoQuV1mUJWX/P6Pf1WubES6+Lr\\\n",
       "nL++uBI1ZTUeloiGYsK8NxQZ86GJ44uc41xkFzf3yw//6MPGzm2ycQHsP+4BJqlkBhyYEJhh67lM\\\n",
       "4EWQmK3hZAwKMYcJ856XZTBxfJFznIvs4fZ+2XGqQ+g8OsxtZB8ugEkqmQEHJgRm2HouE3gRJGZr\\\n",
       "OBmDQsxhwrynogwmjS9yjnORPdzeL19/53Wh8+gwt5F9uACWZMeOHbj77rsxefJkhMNh5OXl4ZZb\\\n",
       "bsFTTz015DFPPvkkbrzxRuTk5CAvLw933HEHXnzxRYWllqst2Yb6pnpXx9Q11SGRTAz6M9E/mVMy\\\n",
       "rUToOBEy/qyPUyqvS3ey+5pX76mT7HA2aspq0Lq8FdGFUUQKI5g9ZTYihRFEF0bRurwVNWU1fOD0\\\n",
       "mQnz3lBkz4cmjS9yjnOR+UTul4eTh4XOpcPcRvYZ6XcBbPDTn/4U//t//2/09PTghhtuQElJCd54\\\n",
       "4w00NjZi8+bN+NKXvoTVq1dfcMyKFSuwZs0aZGdno7S0FCdPnkQsFkNDQwN++tOf4iMf+YhPVyOu\\\n",
       "Nl7rKtwCOPv1mNrdtYMGHFQUV+ArW7/iOjCjN0lYBdEyiqRAq7wur2UaMCW7r3n1nl7KpA5NjX4Q\\\n",
       "vWaTAs1kzXt+XLNI2dPxc3yRHMP1w5XzVrJ9DSRyv+xJ9WBEaATOpM44Psa2Zx/SB0OwMnT69Glc\\\n",
       "dtllePPNN/HjH/8YH/vYx/p+tn37dixcuBCnTp3CK6+8giuvvBIAsHnzZtxyyy2YMGECtm/fjve8\\\n",
       "5z19ry8pKUF2djYOHDiA8ePHZ1Q21ZvsvQhvMSEwQ6SMKaS0vy4v6ByQZkr4kGgdmhzuFbRrzmTe\\\n",
       "8/ua3ZZ9ODYG4ASB3/2QvCV6v7x8zOV4/Zjzr0Lb8uzTH0Ow/MevQGeoubkZb775JoqKii5Y/ALA\\\n",
       "nDlzcOuttyKVSmHXrl19//7oo48CAKqrq/sWv72vv++++9DR0YH169eruQCJvAhvMSEwQ6SMJlyX\\\n",
       "bLoHpJkQPiRahyaHewXxmkXnBx2u2U3ZnWAAjnl06IfkLdFxmT8mH7mjcx29Nnd0LlYvWj38C4kE\\\n",
       "cAGcodGjRzt6XV5eHgDg5MmTeO655wAA99xzz4DX9f7bxo0bJZVQHS/CW0wIzBApownXJZvuAWkm\\\n",
       "hA+J1qHJ4V5BvGbR+UGHa3ZSdjcYgGMeHfoheUt0XB4+dthxGnTHqQ5UbaoSOg/RcPgV6AydOXMG\\\n",
       "733ve9HS0oKf/OQn+Ju/+Zu+n/V+BTo/Px/Nzc0YNWoUmpqaMHPmTFx66aX485//POD9jh8/jpyc\\\n",
       "HIwfPx7t7e0ZlU31Vyy8/iPniWQCtbtr0XiwUdt9fCJlNOG6MtWWbMPUNVNd72tsXd46aB140de8\\\n",
       "7r+ZEq3DXZW7MOt7s6TVvUpBvOb+nM4PsseYDOeXvfmtZrS+0+r6PVSNL5JDx35I8oneL7NCWehJ\\\n",
       "9Th+va19g1+B9h8XwBI8//zzKCsrQ0dHB2644QZceeWVOHz4MH7zm9/gxhtvxIYNG3DVVVcBAH75\\\n",
       "y1/izjvvxMyZMxGPxwd9v/Hjx+Po0aN45513MGaM+G+/VQ8wP2986YI2ABgTgGMrWYvL3nZu2N+A\\\n",
       "5197Hik4n75CCGFm/kxMyJ4waN9o72xH/HDc1XuqvDmL1uGiwkXY1LLJ/fk0WHgIX/O7F2HTATOv\\\n",
       "WZSOv8A5f17WfXyRHDr2Q5JP5HnP7eK3l419gwtg/zEFWoJ58+Zh69at+MhHPoKdO3di586dAIAx\\\n",
       "Y8Zg0aJFuOyyy/pem0wmAQAXX3zxkO93ySWX4OjRo0gmk44WwL0Dqb/9+/f3BW+pMDlnMpbMWOIq\\\n",
       "AKV8RnlGDzfpgjZiLTFUb65GKBQaMOnGWmL4cuOXGcKhiNOvw/XXeLARK+etHDZQxYkUUogfPvtL\\\n",
       "p3R9w41M+68bonXYe81u9da9n4Svuc3caxaV6RiTScZ4BdSOL5JDp35I3hF53svPyXcVgNWLfYO8\\\n",
       "wD3AEvzoRz/CBz/4QUydOhW//e1vkUwm8f/+3//Dxz/+cXzta1/DokWL0N199iGg9wP3UCg05PuZ\\\n",
       "/KG8ynAnJ0EbKaSGXOAwhEOdTAKmnLSziHR9wwnV4WSiddh1pkvp+WQK4jWL0iXETdZ4ZQCOmXTp\\\n",
       "h+Q9t897l4+9XOg87BvkBS6AM/TKK6/gU5/6FC699FL86le/wo033ohLLrkE73nPe1BTU4OysjJs\\\n",
       "374ddXV1AND3ie7x48eHfM8TJ04AAHJychyV4eWXXx70P5Wf/vZSGe7kJmgjHYZweC+TgClZ7SyL\\\n",
       "X+FkonU4asQopeeTKYjXLEqXEDdZ45UBOGbSpR+S99w+7zlNf+6PfYO8wAVwhn784x+ju7sbt912\\\n",
       "Gy655JIBP+8NxWpsbAQATJ06FQBw6NChQd/v+PHjOHr0KMaNG5fR/l8/ZYezUVNWg9blrYgujCJS\\\n",
       "GMHsKbMRKYwgujCK1uWtqCmryWjx0JZsQ31TvbQy1zXVIZFMSHs/upDon0WZlT/LdTuH/vJ/soQQ\\\n",
       "QnF+sdT+K0K0Dovzi4WOK5lWInScTMLXPNncaxYlWlcyr5nzMunQD0kdN8977BukEy6AM9S7kB07\\\n",
       "duygP+/9995E5/e9730YPXo03nzzzUEXwb3BWNddd50XxVVqUs4krJy3Eg2LG7C9YjsaFjdg5byV\\\n",
       "UvZ01cZrpX4dtrunG7W7a6W9H12oorjC9Z9E6X2923ZO/eX/ZEkhhbuvvltq/xUhWoePlT4mdFxv\\\n",
       "SJifhK/5Vm+vOZFMILotitINpZhTOwelG0rx8PMP+7pYE60rme3MeZl06IeknpPnPfYN0gkXwBma\\\n",
       "PHkyAPQFX/X3u9/9DgAwbdo0AEB2djYWLlwIAHjqqacGvL733z70oQ/JLqpVvPhKbOPBRunvSWf1\\\n",
       "Bma4UT6jHLsO7/KmQC7p0DdE63D6pOlCx+kQPqTbNXd2d6JyYyUK1hSgeks1Yi0x7Di0A7GWGFZt\\\n",
       "XoWCNQVYunEpTp4+6ercMojWlcx25rxMOvRD0hP7BumEC+AM3XnnnQCAbdu24bvf/e4FP9uxYwfW\\\n",
       "rFkDALjnnnv6/n3FihUAgK997Wt45ZVX+v59+/btqKmpwdixY1FRwd94peNFKAKDFry1+pbVjvcA\\\n",
       "9Qbg6NImupRDNGROZTidbCL9BpB/zU7CnfwO1vO7nTkvE+B/PyR9sW+QLrgAzlBxcTG+8IUvAAA+\\\n",
       "+9nP4tprr8Xf/M3f4KabbsLcuXNx/PhxVFZWYtGiRX3HLFq0CMuWLcORI0cwY8YM3HXXXbjjjjsw\\\n",
       "f/58dHd3Y/369cjLy/PrkozgRSgCgxa8VfVcFTpOdTh6bW8Aji5toks5REPmVIbTySbSbwD51+wm\\\n",
       "3MmvYD2/25nzMgH+90PSF/sG6SKUMvlv7mjkF7/4BR5//HHs2rULHR0dGDNmDGbMmIFPf/rT+Nu/\\\n",
       "/dtBj6mvr8d3vvMd7Nu3D+FwGLNnz0Z1dTVuuukmKWWy+Q9tR7dFUb2lWu57WvjH1nXRlmzD1DVT\\\n",
       "Xe0PDGeF8cCcB7D6Bf//FIqOfSORTKB2dy0aDzbiWNcxjBk1BiXTSlAxsyLtV8ZEj/ODaL9pXd56\\\n",
       "wbVkes2yyqGSH+3MeZn6M2m+IbWC3Ddsfj43BRfAFrN5gIk8kKbj98Oq7UQfjKtuqsKjLz7qeuGR\\\n",
       "SqVwOnXa9fmGej/2DX+I9hvZiyZdyqE72fNyCCHMzJ+JCdkTAvNgTNRfIpnAE/EnsPXVrYFbKNrK\\\n",
       "5udzU/Ar0GQkkTCFdBi04C3RcJxdb+wSCs0on1kudL6h3o99wx+i/UZ2cJIu5dCd7Hk5hRTih+Na\\\n",
       "hIwRqaZz6B6R6bgAJmO5CVNIh0EL3hMNsjnWdUwoNIN9ww6Z9Bsby2ECWWNvMH6HjBGpYkLoHpHJ\\\n",
       "uAAmYzkJU8hCFrJCg3dzBi2oIxpkM2bUGKHQDPYNO2TSb2wshwkcjb1QFrIyePzwK2SMSBUTQveI\\\n",
       "TMY9wBYL0h6DdGEKAAIbtKALWXsoRUIz2DfMpcveW13KYRqnY6+9sx3xw3Gk4PxxhHvzyVYmhu6R\\\n",
       "O0F6PtcVF8AW4wA7iwES/vP6hm5CG5tQRt3o8iCoSzlsxV8wkI78mrM5HtITaRfd7r98PvcfF8AW\\\n",
       "C/oA6+zuxLJnlqG+qX7QB9dwVhjlM8qx9va1/JqrApUbK7Euvs7564srUVNWk/Y1JrSxCWXUmRf9\\\n",
       "xuRy2Kh0QyliLTHXx0UKI2hY3OBBiSjI/J6zOR4GJ9IufrflUIL+fK4D7gEmKzFAQj8iYVbpmNDG\\\n",
       "JpRRd7L7jenlsBFDxkgXOszZHA8DibSLDm1J+uICmKzEAAn9iIRZpWNCG5tQRt3J7jeml8NGDBkj\\\n",
       "XegwZ3M8DCTSLjq0JemLX4G2WFC/YsH9evoTCbM6nwltbEIZTZNpv7GtHLbgnkfSgS5zNsfDhUTa\\\n",
       "ZWRoJEKhkO9tOZSgPp/rhAtgiwV1gPHmYT9d2/j8oI3mt5rR+k6r6/c4v4y6BXeQekHoA7osPMhe\\\n",
       "TsaRLvcVjocLibaL0LkUPQcG9flcJ/wKNFnH6Vde+ms82Ci3IOQZ3dq4s7sTlRsrUbCmANVbqhFr\\\n",
       "iQktfoGzZRzs/XYc2oFYSwyrNq9CwZoCLN24FCdPn5R8JaSLIPWByTmTsWTGElfHlM8ot/Jhn+Ry\\\n",
       "M450ua9wPFxItF1E8DkwOEb6XQAi2RggYT+d2rg3aEPWTbrjVMew79cb3PHHI3/E0594GtnhbCnn\\\n",
       "Jj046VO29YG1t63F/zvy/xyNI4aMkRNux1HnabEQJC/uKxwP56h8NuNzYHDwE2CyDgMk7KdTG7sJ\\\n",
       "2nDi9XdeZ3BHwAUxvIUhYySb23H0+juvC53Hi/sKx8M5Kp/N+BwYHFwAk3Wc/qmS/kqmlcgtCHlG\\\n",
       "lzZuS7ahvqle6nseTh529fq6pjokkgmpZSD/iPQpW/pAdjgbNWU1aF3eiujCKCKFEcyeMhuRwgii\\\n",
       "C6NoXd6KmrIaqx/2SQ6RceR27u3l1bMDx8NZovd7EXwODA6GYFksqJvsGSAhX7oAEQDKQ3p0aWPZ\\\n",
       "4RxZoSz0pHrcl6NfcEcQgpNk0LGedAnioWDScUyIEB1HI0IjcCZ1xvHr+ezgPaZAkxe4ALZYkAdY\\\n",
       "5cZKrIuvc/764krUlNV4WCIzdXZ3Ytkzy1DfVD/ojSSEEEKh0KCLtnBWGOUzyrH29rWe/IZahzYu\\\n",
       "3VCKWEtM2vtdPuZyvH7M/dfwIoURNCxuGLa9vG4TU+hcT6J9qrcPEInQeUyIEB1HbudgPjuoIXK/\\\n",
       "TyHl+zPCUIL8fK4LfgWarLT2trWOvzZje4CEqN4AkXXxdUP+FjWF1JCfWPaGi9z2g9vQ2S0WLpKO\\\n",
       "Dm0sMzBjwRULcPnYy4XL4aS9vG4TE+heTzoFvFEw6D4mRIiOh/wx+cgdnevotbmjc7F60Wqh85A7\\\n",
       "Ivd7HZ4RSF9cAJOVGCCROVnhTl6F9OjQxjICM84vo9MHr8HKEcTgJBG615NOAW8UDLqPCRGi4+Hw\\\n",
       "scPoONXh6LUdpzpQtalK6Dzkjsj9XodnBNIXvwJtMX7F4qxEMoHa3bVoPNh4wZ6mD7/3w/ivP/6X\\\n",
       "8XudBpPpPi6RPTfpeL23Zqg29rotRfeZFYwtQNHEogFlFH2/qpuq8OiLj2q730kXuuwdT4d7gMXY\\\n",
       "sndVNRPGhIig7AEOYr8Xud/79YwwFD6f+48LYItxgA3Otr1O55N1bbLDnQA7H9BlPzyKvt8Dcx7A\\\n",
       "6hfcfxXPxjZJx4TFpa0LEq/YPJ+rYMKYECEyjmSFEKrAfm82Pp/7j1+BpkCxca9TL5nXJvPv2vZq\\\n",
       "PNgo/T39NjlnMpbMWOLqmPIZ5UMuVETfb9fhXa6O6WVjm6Qj2q9V1pPsPmUzm+dzVUwYEyJExlF+\\\n",
       "Tr7QuVTXBfs9Uea4AKZAsXGvUy+Z1+ZFoI6tIT2ygzZE3o/BSc6YUk8Mb3HG5vlcFVPGhAi34yiT\\\n",
       "EEKV2O+JMscFMAVGW7IN9U31ro6pa6pDIpnwpkASyb42LwJ1bA3pkR20IfJ+DE5yxpR6YnjL8Gye\\\n",
       "z1UyZUyIcDuOMgkhVIX9nkiOkX4XgEiV2nit61Cn7p5u1O6uzXh/j9dBFbKvbcEVC6T+fVsAKJlW\\\n",
       "0vf/mxzcMVTZH7r5ITx080NSgjayw9moKatx/H6i7XV+mwSBSfXktg+YJtM5wOb5XGU5TBoTItyM\\\n",
       "IxPqws9+T2QThmBZjJvsL1S6oVTo5hYpjKBhcYPQOVUFVci+Nq9SoMeOHmtscIfOoSMMTnKG9eQ/\\\n",
       "WePI5vlcZTk4Js4xoS786PckH5/P/cevQFNgqN7rpDKoQva1iQSIpFM+oxxjR481NrhD99ARBic5\\\n",
       "w3ryl8xxZPN8rrIcHBPnmFAXNu/ZJlKJC2AKDNV7nVQGVXhxbW4CRNLpDekxObjDhLIzOMkZ1pN/\\\n",
       "ZI4jm+dz1eXgmDhH97qwec82kUpcAFNgiC7mRPb3qA6qKJ5cLHTcDZfdMOTPnASIZCELWaHBp5Hz\\\n",
       "w0WOnjxqbHCHKaEjDE5yhvXkD9njyOb5XHU5OCbO0b0uVPZ7IpsxBIsCo6K4Al/Z+hVX+3tCCOHn\\\n",
       "+36OxoONege0hNwf4oSTABEAw4aLmBzcYVLZbQ9OkoX1pJ7scSQyn4ezwn1zlhu6zAFeliOoY0JF\\\n",
       "qKFMKvu9DLoExhH1xxAsi3GT/UCVGyuxLr5O+HhdA1p0D8bQvXzpmFx2Il14MY7czueVxZWoKatx\\\n",
       "XQZd5gBdymEDXQLNRKjq95kwuX5V4PO5//gVaAqUTPe16hrQonswhu7l86IMOpSdSBdejCNV+zV1\\\n",
       "mQN0KYfpdAk0E6X7PmXT65eCgQtgChQn+3uc0C2gRfdgDN3L50UZdCg7kS68GEeq9mvqMgfoUg7T\\\n",
       "6RJoJkr3fcqm1y8FAxfAFDi9e51al7ciujCKSGEExfnFCLncSKtLQAvgTQiWTLqXLx2GjhBlzqtx\\\n",
       "NNh8PnvKbEQKI4gujKJ1eStqymoyWgToMgfoUg6T6RJolikV/V6ELfVL9mMIFllBJGhhUs4krJy3\\\n",
       "EivnrUR0WxTxw3FX55Qd0BJCCD/b9zPXgVt/OVhvupcvDdNCR8h7IvON6WEwmZbf63F0/nwumy5z\\\n",
       "gC7lMJkugWb9iY4vL/u9CF3rl6g/fgJMRuvs7kTlxkoUrClA9ZZqxFpi2HFoB2ItMazavAoFawqw\\\n",
       "dONSnDx9Mu37OP26Tn+NBxsH/ffJOZOxZMYSV++VQgrxw3HXZQfgevHea+cbO4WOc0v38qUj0pbl\\\n",
       "M8qNWNSQOyLzjaw5yi+yym/yONKl7LqUw2Sy7/WZMn1+6E+3+iUaChfAZCyZQQt+B7QMxk1IhO7h\\\n",
       "KLqXbzi6h46Q90TmG9PDYGSX3+RxpEvZdSmHqXS6F5k+PwxGp/olSocLYDKWzKAFvwJanHASEqF7\\\n",
       "OIru5RuO7qEj5D2R+cb0MBjZ5Td5HOlSdl3KYSqd7kWmzw+D0al+idLh3wG2mM1/Z6wt2Yapa6a6\\\n",
       "3gvVurx10K+DRbdFUb2l2nU5ogujjvatJJIJ1O6uRePBRrR3tiN+OI4UnA+9dGUHvC9/pnQvnxvn\\\n",
       "t6WJeznJPZH5ZmRoJEKhkLQ5SjXZc2x/Jo8jXcquSzlMosu9yOvx5Rdd6ld3Nj+fm4ILYIvZPMBk\\\n",
       "T7Iqb0Ze3CB0v5nqXj43TA8zIvdEx6yIgrEFKJpY5Huf4oMs2aR33m7Y34DnX3ve1S+gQwhhZv5M\\\n",
       "TMieIG1c2jq+VNzrbbgH2/x8bgp+BZqMpENolWi4iBchEbqHo+hePidsCysh50THrIjWd1q16FMM\\\n",
       "syEb9J+3t722zdXiF8gsoHIoto4vL+/1vAeTTFwAk5H8Dq3KJFzEq5AI3cNRdC9fOjaGlZBzfgW0\\\n",
       "+NmnGGZDpnMyb4uQMS5tHl9e3Ot5DybZuAAmI/kVWiUjXMSrkAjdw1F0L186NoaVkHN+B7T40acY\\\n",
       "ZkOmczNvi8hkXNo8vry41/MeTLJxAUxGEv3zQiXTStL+PDucjZqyGrQub0V0YRSRwghmT5mNSGEE\\\n",
       "0YVRtC5vRU1ZTUaLM6/KDqgpfyZ0L99g2pJtqG+qd3VMXVMdEsmENwUi5TL5c2ayqO5TXs5TRF4T\\\n",
       "mbeBs/t93RAdl7aPL5n3et6DyQsMwbKYiZvsnYYbmByqZHLZg8jWsBK/mRRkoioFejgq+xTnKTqf\\\n",
       "SeMVUBtcJzIuZY0v09pFhI33YBOfz23DT4BJC27DDUwOVTK57EFka1iJX0wMMhEZs/fOvNf1McNR\\\n",
       "2ac4TxFg5ngF1AbXiYzLTMeXqe0igvdg8gIXwOQ70XADk0OVTC570NgcVqKayUEmImPWzTFOqO5T\\\n",
       "nKeCzeTxqnKsiJ5LdHyZ3C4ieA8mL3ABTL4TDTcwOVTJ5LIHjc1hJaqZHGQiMmadHOOG6j7FeSrY\\\n",
       "TB6vKseK6LlEx5fJ7SKC92DyAvcAW8yEPQYy98HU7q5F48FG4/bBmFz2ILBx/5EfbNpTKjJmzz+m\\\n",
       "+a1mtL7T6vq8fvYpzlPBYvp41X0PcH9Ox5fp7SLCxnuwCc/ntuMC2GImDDAbJzaZXkq8hOXPLke8\\\n",
       "LY6uM10YNWIUZuXPwmOlj+HaSdf6XbxACOIDhxc41s9hnyLdiY7XgrEFKJpYlNEvR2QEO4mMMeBs\\\n",
       "CnQKzh+LQwihOL8Yedl5Sn4h5PU8qmOolo3zpQnP57bjV6DJVww3GFz7iXZc/Z2rMf3x6dh0YBPa\\\n",
       "O9uR7EqivbMdsZYYpj8+HVf/69U4evKo30W1HsOA5OBYP4d9inQnOl5b32kVDmKSGewkMsYAuFr8\\\n",
       "9r5+1+FdysKnvJpHdQ7V4nxJXuACmHzFcIOB2k+0o/BbhWg+0pz2dc1vNWPaN6eh/US7opIFF8OA\\\n",
       "MsexfiH2KdKZjHHnJojJi2An2SF0TngdPuXFPGpCqBbnS5KNC2DyFcMNBpq7fi46TnU4em3HqQ7M\\\n",
       "rZvrcYmIYUCZ41i/EPsU6UzmuHMSxORFsJPsEDo3vAqf8mIeNSFUi/MlycYFMPlK9LezJdNK5BZE\\\n",
       "E3sSe4b95Le/5rea8VLiJY9KRL2yw9moKatB6/JWRBdGESmMYPaU2YgURhBdGEXr8lbUlNXwxjsE\\\n",
       "jvWB2KdIV7I/Oa1rqkMimRj0Z23JNtQ31Ut7v/P1H2Pzp85HCCFX5wohhOvedZ3r45yW0Q3Z86iX\\\n",
       "dS8b50uSiSFYFjNhk72N4QaDcRosEXkygk0HNrl+/0hhBA2LG6SVg0g208a66WPF9PKTv0RDpNIZ\\\n",
       "KohJZUCe6LkWFS7Cphb392bZIX6y51GGE/rDhOdz2/ETYPKV7eEGboMl4m1xofPsOrxLajmIZDNl\\\n",
       "rJs+VkwvP+lBNEQqnaGCmFQG5ImeK35Y7N4sO8RP9jzKcEIKKi6AyXe2hhuIBEt0nekSOle640wI\\\n",
       "uKBg0H2smz5WTC8/6UV2iNRQQUwqA/JEzyV6b/YixE/mPMpwQgoqLoDJd7aGG4gES4waMUroXOmO\\\n",
       "MyHggoJB97Fu+lgxvfykF9khUkMFMakMyBM9l+i92YsQP5nzKMMJKai4ACYt2BZuIBosce2l1wqd\\\n",
       "b1b+LKnl8CPggoJB17Fu+lgxvfykp8HGa8HYAqH3GiqISWVAnui5ivOLhY7zKsRP1jzKcEIKKoZg\\\n",
       "WYyb7NNLFxIDIKMAGdFgiX/4wD/gO7/7juvj9t63F9dOGrh4ZsCFGRhY5D/Tx4pp5WefN5fsICaV\\\n",
       "AXmi59pVuQuzvjfLmBA/p0wLJ7QFn8/9x0+AKXCGC4m57LHLcNmjl2UUICMaLPHHI39E0YQiV8cU\\\n",
       "TSwadPGbSTkYcKEGA4v0YfpYMaX87PPmkx3EpDIgT/Rc0ydNNyLEzy1TwgmJZOMCmALFSUhMT6oH\\\n",
       "PegZ9GdOA2QyCZZ44d4XkDs619Hrc0fnYnvFdk/KQd5iYJFeTB8rJpSffd4esgPtVAbkiZ5L9xA/\\\n",
       "UbZeF1E6XABToLgJiUlnuACZTIIl8i7OQ8vnW1A0Mf0nwUUTi3Dw/oMYd9E4T8pB3mJgkV5MHysm\\\n",
       "lJ993h6yA+1UBuSJnkv3ED9Rtl4XUTrcA2wx7jG4kMhel3TS7YOpilXhkRcfcf2eD970IB6+5eG+\\\n",
       "//1S4iWsaFiBXYd3oetMF0aNGIVZ+bPwWOljQ37t+Xym7QsMCu670o/pY0X38rPP2yuRTKB2dy0a\\\n",
       "DzZK2c8t+/28OJfKMqpk63Xphs/n/uMC2GIcYBcSfUBM+55DPDxWbarCIy9kvgBOx0mIDB869aT7\\\n",
       "YiWIZI0Vv8KdZJRfx2DAgrEFKJpYxIdwIrIGn8/9xwWwxTjALlS6oRSxlpjU94wURtCwuEHauYZ6\\\n",
       "v/N1dndi2TPLUN9UP+jDbjgrjPIZ5Vh7+1pcNPIiVG6sxLr4OsdlqCyuRE1Zjeuyk3Ne9g8Sl8lY\\\n",
       "cTsuvSBa/uHKHkIIoVAIPamB2QhOr0vG/KuiDomIvMbnc/9xDzAFhhdhL0O9p1eBNCIhMgy40I8J\\\n",
       "gUVBJDpWdAl3Eim/k7KnkBp08Qt4Hwwoci4iIqJ0uACmwPAi7GWo9/QqkEYkRIYBF/oxIbAoiETH\\\n",
       "ii7hTiLl1z0YUORcRERE6XABTIHh9JMRN0qmlUg911DvB5zd41ffVO/q/eqa6pBIJpAdzkZNWQ1a\\\n",
       "l7ciujCKSGEEs6fMRqQwgujCKFqXt6KmrIaLX0W86B8kh9uxksm49IKb8ouUPZ101yV7/vWyDomI\\\n",
       "yG7cA2wxv/cY+BUGMxSVKdBehE8xOGlouvW14ZgWTmZa/apk8rhUGQwoe/5Ndy4iP8meL4M4/9p+\\\n",
       "zX4/nxMXwFbza4DpEAYzFLchMWnfa5iwKNnhUwxOGkjnvjYcE8LJ/v/27j24qvLc4/hvJ+QOSUyk\\\n",
       "gAWUi4KgXBURucr94uAFsM7YgaDSWmagMB31HFFHimc4KlCPVuVYLtLpeItUJ7HTmqCIGsCGqFQr\\\n",
       "okAHUk20JEECuYHv+cOzdwk71521915rv9/PTIZhrfXuvGut533XerLXfraXj2+keHlcRrIwoOTs\\\n",
       "/Nva7wIizen50sb515Z9JgGOPh6BhqPcUgymOe0pEtOSthSLcrr4FIWTGnN7rLXG7cXJvH58I8XL\\\n",
       "4zKShQEl5+bftvwuIJKcni9tnH9t3GdEDwkwHOWWYjDNaUuRmDhfnOKaGRrtKRbldPEpCic15vZY\\\n",
       "a43bi5N5/fhGipfHZSQLA0pti3mnfhcQSU7PlzbOvzbuM6KHR6BjWKQfsfDi5xo3fbhJO/+xM+gz\\\n",
       "JpKaXRfqZ3g6+npe/qyh07wWa61xIj6cFGvHN5y8PC4j+Rng850b8wf+dUDHvjsWtt8FhJPT86WN\\\n",
       "869t+8wj0NFHAhzDIj3AvHwj6AW2XSBaQqyFF8e37ZwYl9Eq+BLJwoBO9yNW5zZ4j9PzpY3zr237\\\n",
       "TAIcfTwCDceE+l2SO/+x09mOxKjunbtr0bBF7WqTMywnJm8QibXw4vi2XUfGZU1DjZbkLVGvDb20\\\n",
       "6u1VKjhcoD2le1RwuED3v3W/em3opZ/l/Uy1Z2pd0/eWhDrfMLfBy5yeL22cf23cZ0QXCTAc4+Vi\\\n",
       "MF7h9sJJkUKshRfHt31CGZduKfiydvJaZSRldPh1OjrfMLfBq5yeL22cf23cZ0QXCTAc4+ViMF7h\\\n",
       "9sJJkUKshRfHt31CGZduKfhy3477dKLuRMjtnZpvmNvgVU7PlzbOvzbuM6KrU7Q7gNgx4eIJIX2n\\\n",
       "5MRLJjrfmRiWkpCijTds1OpJq11VOCmSiLXw4vi2X3vGZVl1mbZ+tLVdr7/loy1aPWm1o2M7lH74\\\n",
       "5NPwHsOVnZLt+HzD3AYvGtF9REjz5VUXXdXkchvnXxv3GdFFEawYZlMV6GgVkYmV/nmNW4vmxMp5\\\n",
       "DuX4+uTTiB4jlJWS5cl9jiS3FHxxSz8QmpbmG0kxMRd5wX2F9+m/3//vdrf7j7H/of+a/F9By916\\\n",
       "fQtFW6+JsbTPbUERrOgjAY5h0RhgS/KW6LmS59q+/Ygl2njDxpB/X01DjZb/ebm2frS1yYkzIS5B\\\n",
       "OcNy9MTMJ6LyyJzb++dlkY61lsTieW7v8T2fF/c5Uqb9flpI73ZM7TtVb/70zZjrB9qntfnGJ598\\\n",
       "Pp++N98HrWNcOi8c48hN17dQhHJN9Po+twcJcPTxGWA4KpKFTNxSRMar/fM6txTNidXz3J7j2xQv\\\n",
       "7nOkuKXgi1v6gbZry3xjZJpMfiXGZTiEYxy55foWilCvie0pyJeRlKG1U9Y61mfYhwQYjopkIRO3\\\n",
       "FJFpjtv753VuKZoTq+e5Lce3Lby0z5HiloIvbukH2q49801LGJfOCcc4csv1LRShXhPbU5DvRN0J\\\n",
       "3Vd4X6hdBHgE+nz79u1TQUGBPvjgA+3du1dfffWVkpKSVFvb8vcwbtu2TU899ZT+/ve/KzExUaNH\\\n",
       "j9aqVas0ZsyYZtsUFRVpzZo12rNnj+rr6zVo0CAtXbpUCxcudGRfov2IRXl1edgKmbj98yJu71+s\\\n",
       "CWestcSW83zu8T1ec1wffv2hjNp+6fDiPoeTWz5765Z+oG1CmW9awrh0RrjHUbSub6EI9Zq4b8k+\\\n",
       "jfzfkTF/LfWL9v05SICD3HjjjXr99dcbLWstAV65cqU2bNiglJQUTZs2TbW1tdqxY4eMMXrllVd0\\\n",
       "0003BbX54x//qPnz5+v777/X+PHjdeGFF2rHjh2qqqrSihUrtH79+g7vSywPMLffuLm9f02JlQJO\\\n",
       "keTF89xRNu6z09zyh5Nw94M5xVmhjr0WX5Nx2WEUAP23UGN0Sp8pKjxS2P7f144/IrjpOMXy/blX\\\n",
       "8Aj0ea699lo9+OCDysvLU1lZWavbv/XWW9qwYYOys7P18ccf67XXXtOf//xn7dq1S/Hx8crJyVFl\\\n",
       "ZWWjNpWVlcrJydHZs2eVm5urnTt3Kjc3VwcOHFD//v21YcMGvf322+HaxZgQ6iNgO/+x09mONMPt\\\n",
       "/TtXTUONluQtUa8NvbTq7VUqOFygPaV7VHC4QPe/db96beiln+X9TLVnWn4KwkZeOs9OsXGfnda9\\\n",
       "c3ctGraoXW1yhuU4fqMWrn4wp4SHE48+n49x2XHRGM9uHWOhxmhJWUlI7VqLX7ceJ0QfCfB57r33\\\n",
       "Xj388MOaM2eOunVrfXJat26dJGnVqlW69NJLA8uvvfZa/fznP9eJEye0efPmRm1+97vf6cSJE5o7\\\n",
       "d65uvvnmwPJu3brp0UcflSRH3gGOZW4v3uL2/vnFagGnSPHKeXaSjfscDm4pcuN0P5hTwiccY4hx\\\n",
       "6QwKgP4g1HiqP1vv+O9z83FC9JEAd4D/UWdJmjdvXtB6/7K8vLxGy/Pz85ttM3v2bCUnJ6uwsLDV\\\n",
       "zx3bzO3FW9zeP79YLeAUKV45z06ycZ/DwS1FbpzuB3NK+IRjDDEunUEB0B+EGk+J8YmO/z43HydE\\\n",
       "HwlwBxw4cEB1dXXq2rWrevbsGbR+xIgRkqT9+/c3Wu7/v3/9uRITE3XFFVeotrZWn3/+eRh6HRtG\\\n",
       "dA8+dm1x1UVXOdyTpoX69TETL5nobEdaUFZdpq0fbW1Xmy0fbVF5dXl4OuRBXjjPTrNxn8MlJSFF\\\n",
       "G2/YqGMrjumR6x/R1L5TNbrnaE3tO1WPXP+Ijq04po03bAx7hVen+sGcEl4jeoR23WsJ49I5kRjP\\\n",
       "bh9joV4fQr2nay5+3X6cEH2dot0BLzt69KgkNZn8SlJaWpoyMzNVWVmpkydPqkuXLvruu+9UVVXV\\\n",
       "YruePXuquLhYR48e1dChQ8PSd8/zRbsDLbtjxB16+J2H210U447hd4SxV41tKtnU7mqiDd83aNOH\\\n",
       "myia8v+8cJ6dZuM+h1u3zt30n+P+09FxFUrRl472gzklzBwuWRqJcflJ+Sda8ZcVKikrUf3ZeiXG\\\n",
       "J2pkj5FaP229uqZ1dVVhIqeEYzz7uX2MhXp9WD99fUhVoJuLX7cfJ0Qf7wB3QHV1tSQpNTW12W3S\\\n",
       "0tIabev/t6V257dpzeDBg5v8OXToUJvae1HJ16EVTCj+qtjhnjTNLUVuWkIxo47zwnl2mo377CXR\\\n",
       "LPrCnBJeoRYKak44x2XF6Qpd/tTluvLZK1V4pFAVNRWqrq9WRU2FCg4X6Mpnr1T3dd0pTNRObh9j\\\n",
       "oV4frux2paPXFbcfJ0QfCXAH+L9Byudr/u3I879lqi3fOsU3U7XOC4V43FLkpjleOIZe4PbzHA42\\\n",
       "7rMXRLvoC3NKeDl5nMI5LitOV6jv//TVgeMHQmpPYaLmeWGMhXp9cPK64oXjhOgiAe6ALl1++PD9\\\n",
       "qVOnmt3m9OnTkqTOnTs3anPuutbatObTTz9t8qdfv35tau9FXijE45YiN83xwjH0Aref53CwcZ+9\\\n",
       "INpFX5hTwsuJ4xSJcXnd5ut0ou5Eh1+HwkTBvDDGQr0+OHld8cJxQnTxGeAO6N27tySptLS0yfWn\\\n",
       "Tp1SVVWVMjMzA4lvenq6MjIydOLECZWWlmrQoEFB7fyv5399BJtw8QQVHC5od7tIF/zwF8VYPWm1\\\n",
       "Nn24STv/sdM1n3XyyjH0Ajef53CxcZ/dLNSiL6snrXbsPDGnhFeox7dXei8NvHBgRMbl/vL9Ib/z\\\n",
       "2xSnY9TrvDLGQr0+OHVd8cpxQvT4DM/btsjn8ykpKanJrySqqanRBRdcoLq6Oh07diyoqNW7776r\\\n",
       "8ePHa/z48XrnnX//VX7ChAnatWuXfv/73+v2229v1KahoUHp6ekyxqiqqkrJyaH/hXbw4MGSfniH\\\n",
       "ONaUVZep94be7S6YcGzFMS6k/y+UY+iTT8N7DFd2SjZJjkVCKaiEyHpk1yNa9faq9re7/hHHir4w\\\n",
       "L4d3rHjh+E7dNlWFRwodfU0nY9TrvBADbuD24xTL9+dewSPQHZCSkqLrr79ekpSbmxu03r9szpw5\\\n",
       "jZbPnj272Tb5+fmqra3V5MmTO5T8xjoK8XRcKMfQyKjk6xKKlVgimgWV0D5uKPpi87wcibHihePr\\\n",
       "dKEuicJE5/JCDLgBxwmtIQHuoJUrV0qS1qxZoy+++CKwfPfu3dq4caPS09N1xx2Ny7TfeeedSk9P\\\n",
       "1+uvv67t27cHln/zzTe65557Gr0umkchno5rzzFsCsVKYle0CyqhfdxS9MXGeTmSY8Xtx7f+bL3j\\\n",
       "r0lhosbcHgNuwXFCS0iAz/PGG29o9OjRgR9Jqq+vb7TsjTfeCGw/ZcoULV++XMePH9ewYcN04403\\\n",
       "atasWRo/frwaGhq0efNmZWVlNfodWVlZ2rx5s+Li4jRv3jxNmjRJ8+fP14ABA/Tll19q2bJlmjx5\\\n",
       "ckT324soxNNxbTmGbUGxktgT7YJKaB+3FH2xcV6O5Fhx+/FNjE90/DUpTNSY22PALThOaAmfAT7P\\\n",
       "1q1blZOT0+I2W7Zs0aJFi4LaPfXUU/rss8+UkJCg0aNHa9WqVRo7dmyzr/P+++9rzZo12rNnj+rr\\\n",
       "63X55Zdr6dKlrf7+trLpMwbl1eUU4umgc49hRU2FSr4ukVHbpwcbP2cUq9z++SkEc8NngM9nw7wc\\\n",
       "zbHixuPLZ4Ajy40x4EZuO0423Z+7FQlwDGOAIVRuvJlG5HD+vYc/WkQHY6Wx/eX7NfTZoY69HjGK\\\n",
       "WMT9efTxCDSAIG4oqIPo4fx7D0VfooOx0tiQbkM0MHugY69HjAIIBxJgAEHcUlAH0cH59yaKvkQe\\\n",
       "YyXY+4vfV0ZSRodfhxgFEC4kwACCuKWgDqKD8+9NFH2JPMZKsKzULB1edlgDLwztnWBiFEC4dYp2\\\n",
       "BwC4z4SLJ6jgcEG72028ZKLznUHEcf69KyUhRRtv2KjVk1a7quhLrGKsNC0rNUufLf1Mn5R/opVv\\\n",
       "rtS+r/ep/my9EuMTNbLHSK2ftl5d07oSowCigiJYMYwP2SNUFNSxG+cfaBvGCoD24v48+ngEGkAQ\\\n",
       "CurYjfMPtA1jBQC8hwQYQJMoqGM3zj/QNowVAPAWEmAATaKgjt04/0DbMFYAwFv4DHAM4zMGcEp5\\\n",
       "dTnFSizG+QfahrECoDXcn0cfCXAMY4ABAAAA7sH9efTxCDQAAAAAwAokwAAAAAAAK5AAAwAAAACs\\\n",
       "QAIMAAAAALACCTAAAAAAwAokwAAAAAAAK5AAAwAAAACsQAIMAAAAALACCTAAAAAAwAokwAAAAAAA\\\n",
       "K5AAAwAAAACsQAIMAAAAALACCTAAAAAAwAokwAAAAAAAK5AAAwAAAACs4DPGmGh3AuHRpUsXNTQ0\\\n",
       "qF+/ftHuCgAAAGC9Q4cOKSEhQSdPnox2V6zFO8AxLC0tTQkJCdHuhg4dOqRDhw5FuxtwIWIDzSE2\\\n",
       "0BLiA80hNtAct8RGQkKC0tLSot0Nq/EOMMJu8ODBkqRPP/00yj2B2xAbaA6xgZYQH2gOsYHmEBvw\\\n",
       "4x1gAAAAAIAVSIABAAAAAFYgAQYAAAAAWIEEGAAAAABgBRJgAAAAAIAVqAINAAAAALAC7wADAAAA\\\n",
       "AKxAAgwAAAAAsAIJMAAAAADACiTAAAAAAAArkAADAAAAAKxAAgwAAAAAsAIJMMKmtrZWDz30kC67\\\n",
       "7DIlJyfroosu0uLFi1VaWhrtriGMTp8+rddee0133HGHhgwZovT0dKWlpWno0KFavXq1qqurm227\\\n",
       "bds2jRo1Sp07d1ZWVpZmzZqloqKiCPYekVZRUaEf/ehH8vl8GjhwYIvbEh/2KCsr04oVK3TZZZcp\\\n",
       "JSVFWVlZGjlypO65554mtyc27LBnzx7dcsst6t69uxISEpSVlaXJkycrNze32TbERuzYt2+f1q5d\\\n",
       "q5tvvlk//vGP5fP5lJyc3Gq7UGKgqKhIs2bNUlZWljp37qxRo0bp+eefd2pXEG0GCIOamhozZswY\\\n",
       "I8n06NHDLFiwwIwaNcpIMl27djVffvlltLuIMHnuueeMJCPJDB482MyfP99Mnz7ddOnSxUgyAwcO\\\n",
       "NOXl5UHtVqxYYSSZlJQUM3fuXDN9+nTTqVMnEx8fb7Zv3x6FPUEkLFy40Ph8PiPJDBgwoNntiA97\\\n",
       "FBUVmczMTCPJDBo0yCxYsMDMnDnTXHzxxSY+Pj5oe2LDDi+//LKJi4szksxVV11lbr31VjNu3LjA\\\n",
       "snvvvTeoDbERW+bOnRu4v/D/JCUltdgmlBjYvn27iY+PNz6fz0yYMMHccsstgTlpxYoV4dg1RBgJ\\\n",
       "MMLigQceMJLMtddea06ePBlYvm7dOiPJjB8/Poq9Qzg9//zz5u677zYHDx5stPyrr74yw4cPN5LM\\\n",
       "bbfd1mjdjh07jCSTnZ3dqF1RUZFJTEw0GRkZpqKiIiL9R+QUFhYaSWbJkiUtJsDEhz3++c9/mszM\\\n",
       "TJOSktLkzenevXsb/Z/YsENDQ4Pp2rWrkWRefPHFRuuKiopMcnKy8fl8jf64TmzEnrVr15oHH3zQ\\\n",
       "5OXlmbKyslYT4FBioKKiwmRkZBhJ5tVXXw0sLysrM/379zeSzFtvveX8ziGiSIDhuPr6+sBfykpK\\\n",
       "SoLWDxkyxEgyxcXFUegdoqmoqChwwaqrqwssnzVrlpFkNmzYENRm2bJlRpJ5/PHHI9hThNvp06dN\\\n",
       "//79zaBBg8zBgwdbTICJD3v89Kc/NZLMk08+2abtiQ07/O1vfws8QdQU/zuDL730UmAZsRH7WkuA\\\n",
       "Q4mBRx991Egyc+fODWqzfft2I8nMmTOno11HlPEZYDjuvffeU1VVlfr166fhw4cHrZ83b54kKS8v\\\n",
       "L9JdQ5QNHTpUklRXV6fjx49L+uGz4jt27JD079g4F/ESmx5++GEdOnRIzzzzjBISEprdjviwR2Vl\\\n",
       "pV5++WVlZGTozjvvbHV7YsMeSUlJbdouKytLErGB0GMgPz+/2TazZ89WcnKyCgsLVVtb63SXEUEk\\\n",
       "wHDcxx9/LEkaMWJEk+v9y/3bwR6HDx+WpEDxEkk6cOCA6urq1LVrV/Xs2TOojT9e9u/fH7mOIqz2\\\n",
       "79+vdevWKScnR+PHj29xW+LDHu+//77q6uo0duxYJSQkKDc3V7/85S+1dOlSPfnkkyovL2+0PbFh\\\n",
       "j759+6pv3746cOCAXn755Ubrdu/erb/85S/q06dPYD4hNhBqDPj/39Q9bGJioq644grV1tbq888/\\\n",
       "D0OvESkkwHDc0aNHJanJCefc5f7tYI8nnnhCkjRjxozAX/Rbi5e0tDRlZmaqsrJSJ0+ejExHETbf\\\n",
       "f/+97rrrLmVmZurRRx9tdXviwx6ffvqpJKlbt24aN26c5s+fryeeeEJPP/20li1bpn79+umVV14J\\\n",
       "bE9s2CM+Pl5bt25VRkaGbr31Vl199dX6yU9+ogkTJmjs2LEaNmyY3nzzTSUmJkoiNhBaDHz33Xeq\\\n",
       "qqpqsR33sLGBBBiO83/NTWpqapPr09LSGm0HO/zpT3/Spk2blJCQoF//+teB5a3Fi0TMxJInn3xS\\\n",
       "H3zwgR577DFlZ2e3uj3xYY/KykpJP3xlyf79+7Vp0yZ9++23OnLkiFauXKlTp07p9ttvD7xDQ2zY\\\n",
       "Zdy4cXrnnXfUp08fFRcX66WXXtKuXbuUlpamKVOm6KKLLgpsS2wglBg4Nxa4h41tJMBwnDFGkuTz\\\n",
       "+VpcD3t89tlnuv3222WM0WOPPRb4LLDUerycuw287dixY1q1apUmTJigRYsWtakN8WGPs2fPSpLO\\\n",
       "nDmj9evXa/Hixbrwwgt1ySWXaN26dZo3b57q6+sDTw4QG3Z54YUXdM0116h3797au3evqqurdfDg\\\n",
       "Qd12221as2aNpkyZooaGBknEBkKLgbbEBHETG0iA4bguXbpIkk6dOtXk+tOnT0uSOnfuHLE+IXpK\\\n",
       "S0s1Y8YMVVZWauXKlVq+fHmj9a3Fi0TMxIpf/OIXqq+v1zPPPNPmNsSHPfznOi4uTgsXLgxav3jx\\\n",
       "YknSzp07G21PbMS+L774QgsXLlTXrl31xhtvaNSoUUpLS9Oll16qjRs36oYbbtDu3bu1ZcsWScQG\\\n",
       "QosBf5tz17XWBt7UKdodQOzp3bu3pB8Sn6b4l/u3Q+z617/+palTp+ro0aPKycnR448/HrRNa/Fy\\\n",
       "6tQpVVVVKTMzs9HFCd6Tn5+vzMxM3X333Y2W+6tpHj16VBMnTgxs27lzZ+LDIpdccokkqXv37k1W\\\n",
       "/fWv/+abbyQxd9jkxRdfVENDg2bMmBF4BPVcCxYsUF5ennbu3KklS5YQGwgpBtLT05WRkaETJ06o\\\n",
       "tLRUgwYNCmrHPWxsIAGG4/yPt5aUlDS53r98yJAhEesTIu/kyZOaOXOmDhw4oJtvvlnPPfdck48i\\\n",
       "DRgwQElJSfr2229VWloaVHiCeIktVVVVeuedd5pcV1NTE1h35swZScSHTfxfm1dZWSljTNB84f/q\\\n",
       "NP87L8SGPfxJR3p6epPr/csrKiokERsIPQaGDh2qXbt2qaSkJCgBbmho0CeffKKkpCQNGDAgvDuA\\\n",
       "sOIRaDjuuuuuU0ZGhg4dOqQPP/wwaH1ubq4kac6cOZHuGiKkrq5Oc+fOVXFxsaZPn64XXnhB8fHx\\\n",
       "TW6bkpKi66+/XtK/Y+NcxEvsMMY0+XPkyBFJP9yw+JdlZmZKIj5scuWVV6pPnz6qqanR3r17g9b7\\\n",
       "H332fz0JsWGP7t27S5KKi4ubXP/Xv/5V0r+fEiA2EGoMzJ49u9k2+fn5qq2t1eTJk5WcnOx0lxFJ\\\n",
       "BgiD+++/30gyY8aMMdXV1YHl69atM5LM2LFjo9g7hNOZM2fMTTfdZCSZcePGmVOnTrXapqCgwEgy\\\n",
       "2dnZ5uDBg4HlRUVFJikpyaSnp5vjx4+Hs9uIoiNHjhhJZsCAAU2uJz7s8eyzzxpJ5uqrrzbffvtt\\\n",
       "YHlxcbHJzMw0kswrr7wSWE5s2GHfvn1GkpFknn766Ubrdu/ebdLS0owkU1BQEFhObMQ+SSYpKanZ\\\n",
       "9aHEwPHjx016erqRZF599dXA8vLyctO/f38jyRQWFjq/M4goEmCERU1NjbnmmmuMJNOjRw+zYMGC\\\n",
       "wP+zs7PNF198Ee0uIkx+85vfBG5UbrrpJrNw4cImf869uTXGmOXLlxtJJjU11cydO9fMnDnTdOrU\\\n",
       "ycTFxZnc3Nwo7Q0iobUE2BjiwxZnz5418+fPN5JMVlaWmTNnjpk4caJJTEw0ksxdd90V1IbYsMOv\\\n",
       "fvWrwLVl8ODBZv78+ea6664zcXFxRpJZsmRJUBtiI7bk5+eba665JvAjyfh8vkbL8vPzG7UJJQZy\\\n",
       "c3NNXFyc8fl8ZuLEiWbevHmBP8AtW7YsEruKMCMBRticPn3aPPDAA6Zfv34mMTHRdOvWzSxcuNAc\\\n",
       "PXo02l1DGD300EOBm5SWfo4cORLUdsuWLWbkyJEmNTXVZGRkmOnTp5t333038juBiGpLAmwM8WGL\\\n",
       "s2fPmt/+9rdm+PDhJjU11aSlpZkxY8aYbdu2NduG2LDD9u3bzbRp00x2drbp1KmTueCCC8ykSZPM\\\n",
       "H/7wh2bbEBuxY8uWLa3eW2zZsqXJdu2Ngffee8/MmDHDZGZmmtTUVDNy5EizefPmMO0ZIs1nDF9o\\\n",
       "BQAAAACIfRTBAgAAAABYgQQYAAAAAGAFEmAAAAAAgBVIgAEAAAAAViABBgAAAABYgQQYAAAAAGAF\\\n",
       "EmAAAAAAgBVIgAEAAAAAViABBgAAAABYgQQYAAAAAGAFEmAAAAAAgBVIgAEAAAAAViABBgAAAABY\\\n",
       "gQQYAAAAAGAFEmAAAAAAgBVIgAEAAAAAViABBgAAAABYgQQYAAAAAGAFEmAAAAAAgBVIgAEAAAAA\\\n",
       "ViABBgAAAABYgQQYAAAAAGAFEmAAAAAAgBVIgAEAAAAAViABBgAAAABYgQQYAAAAAGAFEmAAAAAA\\\n",
       "gBVIgAEAAAAAViABBgAAAABYgQQYAAAAAGAFEmAAAAAAgBVIgAEAAAAAViABBgAAAABYgQQYAAAA\\\n",
       "AGAFEmAAAAAAgBVIgAEAAAAAViABBgAAAABYgQQYAAAAAGAFEmAAAAAAgBVIgAEAAAAAViABBgAA\\\n",
       "AABYgQQYAAAAAGAFEmAAAAAAgBVIgAEAAAAAViABBgAAAABYgQQYAAAAAGAFEmAAAAAAgBVIgAEA\\\n",
       "AAAAVvg/y/GWLJXTwrIAAAAASUVORK5CYII=\\\n",
       "\"\n",
       "\n",
       "\n",
       "    /* set a timeout to make sure all the above elements are created before\n",
       "       the object is initialized. */\n",
       "    setTimeout(function() {\n",
       "        anim371f62c512dc43638cafc61e9bb8bb48 = new Animation(frames, img_id, slider_id, 200.0,\n",
       "                                 loop_select_id);\n",
       "    }, 0);\n",
       "  })()\n",
       "</script>\n"
      ],
      "text/plain": [
       "<matplotlib.animation.FuncAnimation at 0x15c8178c0>"
      ]
     },
     "execution_count": 817,
     "metadata": {},
     "output_type": "execute_result"
    }
   ],
   "source": [
    "animate_robots(robots, range(3))"
   ]
  },
  {
   "cell_type": "markdown",
   "id": "6f722d21-dc5e-473c-b9d1-c71915cbeb6f",
   "metadata": {},
   "source": [
    "The animations take up a lot of space in the stored `.ipynb` file, so I only show 3 frames here. I looked at hundreds of frames, but no Christmas tree emerged. \n",
    "\n",
    "So, on to the second idea. If the hint had mentioned \"*all of the robots*\", I would look for an image frame with the minimum bounding box. But for \"*most of the robots*,\" I'll look for a frame that minimizes the mean distance from the centroid.  "
   ]
  },
  {
   "cell_type": "code",
   "execution_count": 819,
   "id": "9563d49c-54a3-439f-a833-f48c2a070609",
   "metadata": {},
   "outputs": [],
   "source": [
    "def mean_distance_to_centroid(points, distance=taxi_distance) -> float:\n",
    "    \"\"\"The mean of each point's distance to the centroid.\"\"\"\n",
    "    centroid = (mean(Xs(points)), mean(Ys(points)))\n",
    "    return mean(distance(p, centroid) for p in points)\n",
    "\n",
    "def most_clustered_time(robots, times=range(10_000)) -> int:\n",
    "    \"\"\"Out of all the given time steps, the one that has the robots clustered closest together.\"\"\"\n",
    "    return min(times, key=lambda t: mean_distance_to_centroid(robot_dance(robots, t)))"
   ]
  },
  {
   "cell_type": "code",
   "execution_count": 820,
   "id": "ab8c7e3b-f400-4976-ad0d-5f92cbadec02",
   "metadata": {},
   "outputs": [
    {
     "data": {
      "text/html": [
       "\n",
       "<link rel=\"stylesheet\"\n",
       "href=\"https://maxcdn.bootstrapcdn.com/font-awesome/4.4.0/css/font-awesome.min.css\">\n",
       "<script language=\"javascript\">\n",
       "  function isInternetExplorer() {\n",
       "    ua = navigator.userAgent;\n",
       "    /* MSIE used to detect old browsers and Trident used to newer ones*/\n",
       "    return ua.indexOf(\"MSIE \") > -1 || ua.indexOf(\"Trident/\") > -1;\n",
       "  }\n",
       "\n",
       "  /* Define the Animation class */\n",
       "  function Animation(frames, img_id, slider_id, interval, loop_select_id){\n",
       "    this.img_id = img_id;\n",
       "    this.slider_id = slider_id;\n",
       "    this.loop_select_id = loop_select_id;\n",
       "    this.interval = interval;\n",
       "    this.current_frame = 0;\n",
       "    this.direction = 0;\n",
       "    this.timer = null;\n",
       "    this.frames = new Array(frames.length);\n",
       "\n",
       "    for (var i=0; i<frames.length; i++)\n",
       "    {\n",
       "     this.frames[i] = new Image();\n",
       "     this.frames[i].src = frames[i];\n",
       "    }\n",
       "    var slider = document.getElementById(this.slider_id);\n",
       "    slider.max = this.frames.length - 1;\n",
       "    if (isInternetExplorer()) {\n",
       "        // switch from oninput to onchange because IE <= 11 does not conform\n",
       "        // with W3C specification. It ignores oninput and onchange behaves\n",
       "        // like oninput. In contrast, Microsoft Edge behaves correctly.\n",
       "        slider.setAttribute('onchange', slider.getAttribute('oninput'));\n",
       "        slider.setAttribute('oninput', null);\n",
       "    }\n",
       "    this.set_frame(this.current_frame);\n",
       "  }\n",
       "\n",
       "  Animation.prototype.get_loop_state = function(){\n",
       "    var button_group = document[this.loop_select_id].state;\n",
       "    for (var i = 0; i < button_group.length; i++) {\n",
       "        var button = button_group[i];\n",
       "        if (button.checked) {\n",
       "            return button.value;\n",
       "        }\n",
       "    }\n",
       "    return undefined;\n",
       "  }\n",
       "\n",
       "  Animation.prototype.set_frame = function(frame){\n",
       "    this.current_frame = frame;\n",
       "    document.getElementById(this.img_id).src =\n",
       "            this.frames[this.current_frame].src;\n",
       "    document.getElementById(this.slider_id).value = this.current_frame;\n",
       "  }\n",
       "\n",
       "  Animation.prototype.next_frame = function()\n",
       "  {\n",
       "    this.set_frame(Math.min(this.frames.length - 1, this.current_frame + 1));\n",
       "  }\n",
       "\n",
       "  Animation.prototype.previous_frame = function()\n",
       "  {\n",
       "    this.set_frame(Math.max(0, this.current_frame - 1));\n",
       "  }\n",
       "\n",
       "  Animation.prototype.first_frame = function()\n",
       "  {\n",
       "    this.set_frame(0);\n",
       "  }\n",
       "\n",
       "  Animation.prototype.last_frame = function()\n",
       "  {\n",
       "    this.set_frame(this.frames.length - 1);\n",
       "  }\n",
       "\n",
       "  Animation.prototype.slower = function()\n",
       "  {\n",
       "    this.interval /= 0.7;\n",
       "    if(this.direction > 0){this.play_animation();}\n",
       "    else if(this.direction < 0){this.reverse_animation();}\n",
       "  }\n",
       "\n",
       "  Animation.prototype.faster = function()\n",
       "  {\n",
       "    this.interval *= 0.7;\n",
       "    if(this.direction > 0){this.play_animation();}\n",
       "    else if(this.direction < 0){this.reverse_animation();}\n",
       "  }\n",
       "\n",
       "  Animation.prototype.anim_step_forward = function()\n",
       "  {\n",
       "    this.current_frame += 1;\n",
       "    if(this.current_frame < this.frames.length){\n",
       "      this.set_frame(this.current_frame);\n",
       "    }else{\n",
       "      var loop_state = this.get_loop_state();\n",
       "      if(loop_state == \"loop\"){\n",
       "        this.first_frame();\n",
       "      }else if(loop_state == \"reflect\"){\n",
       "        this.last_frame();\n",
       "        this.reverse_animation();\n",
       "      }else{\n",
       "        this.pause_animation();\n",
       "        this.last_frame();\n",
       "      }\n",
       "    }\n",
       "  }\n",
       "\n",
       "  Animation.prototype.anim_step_reverse = function()\n",
       "  {\n",
       "    this.current_frame -= 1;\n",
       "    if(this.current_frame >= 0){\n",
       "      this.set_frame(this.current_frame);\n",
       "    }else{\n",
       "      var loop_state = this.get_loop_state();\n",
       "      if(loop_state == \"loop\"){\n",
       "        this.last_frame();\n",
       "      }else if(loop_state == \"reflect\"){\n",
       "        this.first_frame();\n",
       "        this.play_animation();\n",
       "      }else{\n",
       "        this.pause_animation();\n",
       "        this.first_frame();\n",
       "      }\n",
       "    }\n",
       "  }\n",
       "\n",
       "  Animation.prototype.pause_animation = function()\n",
       "  {\n",
       "    this.direction = 0;\n",
       "    if (this.timer){\n",
       "      clearInterval(this.timer);\n",
       "      this.timer = null;\n",
       "    }\n",
       "  }\n",
       "\n",
       "  Animation.prototype.play_animation = function()\n",
       "  {\n",
       "    this.pause_animation();\n",
       "    this.direction = 1;\n",
       "    var t = this;\n",
       "    if (!this.timer) this.timer = setInterval(function() {\n",
       "        t.anim_step_forward();\n",
       "    }, this.interval);\n",
       "  }\n",
       "\n",
       "  Animation.prototype.reverse_animation = function()\n",
       "  {\n",
       "    this.pause_animation();\n",
       "    this.direction = -1;\n",
       "    var t = this;\n",
       "    if (!this.timer) this.timer = setInterval(function() {\n",
       "        t.anim_step_reverse();\n",
       "    }, this.interval);\n",
       "  }\n",
       "</script>\n",
       "\n",
       "<style>\n",
       ".animation {\n",
       "    display: inline-block;\n",
       "    text-align: center;\n",
       "}\n",
       "input[type=range].anim-slider {\n",
       "    width: 374px;\n",
       "    margin-left: auto;\n",
       "    margin-right: auto;\n",
       "}\n",
       ".anim-buttons {\n",
       "    margin: 8px 0px;\n",
       "}\n",
       ".anim-buttons button {\n",
       "    padding: 0;\n",
       "    width: 36px;\n",
       "}\n",
       ".anim-state label {\n",
       "    margin-right: 8px;\n",
       "}\n",
       ".anim-state input {\n",
       "    margin: 0;\n",
       "    vertical-align: middle;\n",
       "}\n",
       "</style>\n",
       "\n",
       "<div class=\"animation\">\n",
       "  <img id=\"_anim_imged69eeb3dff848aba82de90936e3b8cc\">\n",
       "  <div class=\"anim-controls\">\n",
       "    <input id=\"_anim_slidered69eeb3dff848aba82de90936e3b8cc\" type=\"range\" class=\"anim-slider\"\n",
       "           name=\"points\" min=\"0\" max=\"1\" step=\"1\" value=\"0\"\n",
       "           oninput=\"animed69eeb3dff848aba82de90936e3b8cc.set_frame(parseInt(this.value));\">\n",
       "    <div class=\"anim-buttons\">\n",
       "      <button title=\"Decrease speed\" aria-label=\"Decrease speed\" onclick=\"animed69eeb3dff848aba82de90936e3b8cc.slower()\">\n",
       "          <i class=\"fa fa-minus\"></i></button>\n",
       "      <button title=\"First frame\" aria-label=\"First frame\" onclick=\"animed69eeb3dff848aba82de90936e3b8cc.first_frame()\">\n",
       "        <i class=\"fa fa-fast-backward\"></i></button>\n",
       "      <button title=\"Previous frame\" aria-label=\"Previous frame\" onclick=\"animed69eeb3dff848aba82de90936e3b8cc.previous_frame()\">\n",
       "          <i class=\"fa fa-step-backward\"></i></button>\n",
       "      <button title=\"Play backwards\" aria-label=\"Play backwards\" onclick=\"animed69eeb3dff848aba82de90936e3b8cc.reverse_animation()\">\n",
       "          <i class=\"fa fa-play fa-flip-horizontal\"></i></button>\n",
       "      <button title=\"Pause\" aria-label=\"Pause\" onclick=\"animed69eeb3dff848aba82de90936e3b8cc.pause_animation()\">\n",
       "          <i class=\"fa fa-pause\"></i></button>\n",
       "      <button title=\"Play\" aria-label=\"Play\" onclick=\"animed69eeb3dff848aba82de90936e3b8cc.play_animation()\">\n",
       "          <i class=\"fa fa-play\"></i></button>\n",
       "      <button title=\"Next frame\" aria-label=\"Next frame\" onclick=\"animed69eeb3dff848aba82de90936e3b8cc.next_frame()\">\n",
       "          <i class=\"fa fa-step-forward\"></i></button>\n",
       "      <button title=\"Last frame\" aria-label=\"Last frame\" onclick=\"animed69eeb3dff848aba82de90936e3b8cc.last_frame()\">\n",
       "          <i class=\"fa fa-fast-forward\"></i></button>\n",
       "      <button title=\"Increase speed\" aria-label=\"Increase speed\" onclick=\"animed69eeb3dff848aba82de90936e3b8cc.faster()\">\n",
       "          <i class=\"fa fa-plus\"></i></button>\n",
       "    </div>\n",
       "    <form title=\"Repetition mode\" aria-label=\"Repetition mode\" action=\"#n\" name=\"_anim_loop_selected69eeb3dff848aba82de90936e3b8cc\"\n",
       "          class=\"anim-state\">\n",
       "      <input type=\"radio\" name=\"state\" value=\"once\" id=\"_anim_radio1_ed69eeb3dff848aba82de90936e3b8cc\"\n",
       "             >\n",
       "      <label for=\"_anim_radio1_ed69eeb3dff848aba82de90936e3b8cc\">Once</label>\n",
       "      <input type=\"radio\" name=\"state\" value=\"loop\" id=\"_anim_radio2_ed69eeb3dff848aba82de90936e3b8cc\"\n",
       "             checked>\n",
       "      <label for=\"_anim_radio2_ed69eeb3dff848aba82de90936e3b8cc\">Loop</label>\n",
       "      <input type=\"radio\" name=\"state\" value=\"reflect\" id=\"_anim_radio3_ed69eeb3dff848aba82de90936e3b8cc\"\n",
       "             >\n",
       "      <label for=\"_anim_radio3_ed69eeb3dff848aba82de90936e3b8cc\">Reflect</label>\n",
       "    </form>\n",
       "  </div>\n",
       "</div>\n",
       "\n",
       "\n",
       "<script language=\"javascript\">\n",
       "  /* Instantiate the Animation class. */\n",
       "  /* The IDs given should match those used in the template above. */\n",
       "  (function() {\n",
       "    var img_id = \"_anim_imged69eeb3dff848aba82de90936e3b8cc\";\n",
       "    var slider_id = \"_anim_slidered69eeb3dff848aba82de90936e3b8cc\";\n",
       "    var loop_select_id = \"_anim_loop_selected69eeb3dff848aba82de90936e3b8cc\";\n",
       "    var frames = new Array(1);\n",
       "    \n",
       "  frames[0] = \"data:image/png;base64,iVBORw0KGgoAAAANSUhEUgAAA8AAAALQCAYAAABfdxm0AAAAOXRFWHRTb2Z0d2FyZQBNYXRwbG90\\\n",
       "bGliIHZlcnNpb24zLjkuMiwgaHR0cHM6Ly9tYXRwbG90bGliLm9yZy8hTgPZAAAACXBIWXMAABcS\\\n",
       "AAAXEgFnn9JSAACaGklEQVR4nOzde3gU9d3//1cCC0QSTh6ISoBiLVaqDbFSPEAiECRW1Fat+lMr\\\n",
       "MTX0dDWCvVsb0t5KG+/WVtNc7X23MURSD7Wtp7tNW1K2QoIW6K2G1JYWtSAYWrMqAmZxA4vM7w++\\\n",
       "SQk57U5mdk7Px3VxXbq7s/vO7OczO++dmdemGYZhCAAAAAAAn0t3ugAAAAAAAFKBBhgAAAAAEAg0\\\n",
       "wAAAAACAQKABBgAAAAAEAg0wAAAAACAQaIABAAAAAIFAAwwAAAAACAQaYAAAAABAINAAAwAAAAAC\\\n",
       "gQYYAAAAABAINMAAAAAAgECgAQYAAAAABAINMAAAAAAgEGiAAQAAAACBQAMMAAAAAAgEGmAAAAAA\\\n",
       "QCDQAAMAAAAAAoEGGAAAAAAQCDTAAAAAAIBAoAEGAAAAAAQCDTAAAAAAIBBogAEAAAAAgUADDAAA\\\n",
       "AAAIBBpgAAAAAEAg0AADAAAAAAKBBhgAAAAAEAg0wAAAAACAQKABBgAAAAAEAg0wAAAAACAQaIAB\\\n",
       "AAAAAIFAAwwAAAAACAQaYAAAAABAINAAAwAAAAACgQYYAAAAABAINMAAAAAAgECgAQYAAAAABAIN\\\n",
       "MAAAAAAgEGiAAQAAAACBQAMMAAAAAAgEGmAAAAAAQCDQAAMAAAAAAoEGGAAAAAAQCDTAAAAAAIBA\\\n",
       "oAEGAAAAAAQCDTAAAAAAIBBogAEAAAAAgUADDAAAAAAIBBpgAAAAAEAg0AADAAAAAAKBBhgAAAAA\\\n",
       "EAg0wAAAAACAQKABBgAAAAAEAg0wAAAAACAQaIABAAAAAIFAAwwAADxpyZIlSktL05IlS5wuBQDg\\\n",
       "ETTAAABbvfvuu/rud7+rCy+8UCeffLJGjhypSZMm6ZJLLtFdd92lffv29bvsE088ocWLF+u0007T\\\n",
       "iBEjNHr0aE2fPl233XabWltb+1ymqalJaWlpCf+7++67B6x/y5Yt+vznP6/p06crMzNTY8aM0Yc+\\\n",
       "9CFdf/31euyxx4awZgAAQKoNd7oAAIB/rV+/XjfccIMikYgkafjw4crMzNQ///lP/fOf/1RTU5Ou\\\n",
       "uuoq5ebm9lju4MGDuvbaa9XQ0NB9W2Zmpg4dOqRXXnlFr7zyih588EF9//vf17Jly3osO2LECE2c\\\n",
       "OHHAug4cOKBoNCpJOv/88/t8jGEY+trXvqb77rtPR44ckSSNHj1a77//vl599VW9+uqr2rZtm264\\\n",
       "4Yak1gkAAHAOR4ABALb44x//qE984hOKRCJasGCBnnvuOR08eFB79+7Ve++9pxdeeEErVqzQ2LFj\\\n",
       "ey17zz33dDe/X/jCF7R79251dHQoFovphRde0MUXX6wjR47ojjvu0AsvvNBj2QsvvFDt7e0D/iso\\\n",
       "KJAknX766br00kv7rL+srEzf+973NGzYMH3jG9/Qrl27FI1GdeDAAb399tt6+umndfXVV1u70gAA\\\n",
       "gK04AgwAsNx7772nz3zmM4rFYrr66qv1y1/+Uunp//7ONSMjQ+edd57OO++8Ppd/6KGHJEn5+fn6\\\n",
       "7//+7+7b09PTdd555+k3v/mNJk2apGg0qieffFIf+9jHEq7tX//6l9asWSNJKi4u1rBhw3o9prGx\\\n",
       "UT/84Q8lSY8//riuvPLKHvefeOKJuuqqq3TVVVcl/LoAAMB5HAEGAFju4Ycf1o4dO5SRkaGf/OQn\\\n",
       "PZrfRLzxxhuS1G9jO3bsWH3oQx+SpO5TmRNVX1+v999/X2lpabr11lv7fEzXdcHXXnttr+bXCrt3\\\n",
       "79ayZcs0Y8YMjR49WiNHjtRpp52m8847T8uWLdPzzz/f77JNTU264YYbNHnyZI0aNUpjx47VrFmz\\\n",
       "dO+99+rAgQMDvu6ePXu0cuVKffzjH9eECRM0atQoTZ06VZdeeql+8pOfaP/+/X0u99RTT+nyyy/X\\\n",
       "xIkTu08xv/zyy/X000/3+1rHB1Q98cQTKigo0IQJE3TCCScoNzdX1dXV3aeX9+fRRx/VRRddpKys\\\n",
       "LI0dO1Yf//jH9cADD8gwjAGXO3z4sB544AEVFBTopJNOUigU0oknnqjp06fruuuu04MPPjjg8gAA\\\n",
       "nzIAALDYhRdeaEgyrr/+elPLf/jDHzYkGQUFBX3ev2/fPiMzM9OQZNTX1yf8vEeOHDHOOOMMQ5Kx\\\n",
       "YMGCPh/zyiuvGJIMSUZjY6Op+gfS2tpqjB8/vvs1hg0bZowfP95IS0vrvu2WW27ptVw8Hjc++9nP\\\n",
       "dj9GkpGZmWkMGzas+/+nT59u7Ny5s8/X/f3vf9/jdYcPH26MGzeux/M9/fTTPZY5ePCgcd1113Xf\\\n",
       "n56ebowfP95IT0/vvu2GG24wDh061Ov1brnllu6/5Ytf/GL38se/5mc+85k+6z1y5IhRXFzc/bi0\\\n",
       "tLQer3399df3eI1jHT582CgsLOzxOmPHjjVGjhzZ4zYAQPBwBBgAYKmDBw92X5ebn5+vHTt2qKSk\\\n",
       "RJMmTdLIkSOVnZ2tK6+8svs05L58/vOfl3T0aOcXv/hF/fOf/5R0NJiqpaVFl19+uaLRqGbPnq0b\\\n",
       "b7wx4dqampq0fft2SdJnP/vZPh/z3HPPSTp6uvXFF1+sp556SpdcconGjRunE044QWeddZbKysr0\\\n",
       "+uuvJ/y6x7rjjju0d+9e5eXladOmTYrH43rnnXfU2dmpV155Rd///vc1Y8aMXst95Stf0apVqzRx\\\n",
       "4kT9z//8j/bs2dN9XfT69es1c+ZMvfzyy/rUpz7V66jqli1bdOWVV2rv3r2aMWOGfve73+m9997T\\\n",
       "3r17deDAAT3//PO64447lJWV1WO58vJy/eIXv1BaWpq+8Y1vaM+ePXrnnXf09ttvq7y8XJL02GOP\\\n",
       "6Rvf+Ea/f++vf/1r1dbW6v7779fevXu1d+9evf32293r/6GHHtK6det6LffDH/5Qq1evliR96Utf\\\n",
       "0ptvvql33nlH77zzju666y794he/0K9+9as+X/Oxxx5TOBzWqFGjtGrVKnV0dGjfvn2KxWKKRCJ6\\\n",
       "6qmnuH4bAILK6Q4cAOAv27Zt6z7CtmLFCmP06NGGJGPEiBG9jv597nOf6/M53n//feOrX/1qjyON\\\n",
       "mZmZxogRIwxJRnZ2tnHnnXca7733XlK13XjjjYYk48QTTzQ6Ozv7fMydd95pSDJOO+0040tf+lL3\\\n",
       "648ZM8bIyMjo/v+srCzj97//fdLrp+s5Nm7cmPAyf/nLX4y0tDTjhBNOMF566aU+H/Puu+8akyZN\\\n",
       "6vNI7sUXX2xIMs4880xj3759Cb3m7t27jeHDhxuSjK9//et9Pmb58uWGJCMUChn/+te/etzXdXRW\\\n",
       "krF69eo+lz/vvPMMScZnP/vZHrfHYjFjwoQJhiTj5ptv7nPZrvdJfRwB/vznP29IMkpLSxP6WwEA\\\n",
       "wcERYACApfbu3dv93//1X/+lUCikxx57TNFoVHv37tXrr7+u66+/XpL0k5/8RNXV1b2eIz09Xf/1\\\n",
       "X/+lBx98UJmZmZKOXut76NAhSVJnZ6f2798/6DWvx9q3b5+efPJJSdJNN92kkSNHDlh/e3u7fvSj\\\n",
       "H2nu3Ln6y1/+ov379ysajeoPf/iDpk6dqo6ODl177bVJHwkeN26cpH9f55yIuro6GYahT3ziEzrn\\\n",
       "nHP6fExWVlZ3KNfvf//77ttfffXV7qPa99xzT5+p23158skndfjwYY0aNUp33nlnn4+pqKjQyJEj\\\n",
       "FY/H9cQTT/T5mJycHH3mM5/p874rrrhCkvTSSy/1uH3t2rV65513JEnf/OY3+1z2zjvv1KhRo/q8\\\n",
       "r2sdt7e393k/ACC4aIABAJY69vTbI0eO6Cc/+Ymuv/56hUIhSUcbokcffVQzZ86UJH3729/W4cOH\\\n",
       "ezzH22+/rfnz52vJkiW64IIL9Nxzz2nfvn1644039NRTT+nkk0/Wj3/8Y3384x/vPj16MI8++qg6\\\n",
       "Ozsl9X/687H1HzlyRKeccooaGhr0kY98RNLRxnz+/Pl68sknlZaWpnfffVf3339/gmvmqMsvv1yS\\\n",
       "dMstt+iOO+5Qc3Oz3nvvvQGX6Wpg16xZo+zs7H7/dZ0yvGvXru5lN27cKEkaNmyYioqKEq6z6zT2\\\n",
       "888/X2PGjOnzMePHj+8OKjv+56i6nH/++f2GoJ122mmS1N3sHv/aOTk5+uAHP9jnsmPHju03Rfyy\\\n",
       "yy5TWlqafv3rX6uoqEiPPfaY/vWvf/X5WABAsNAAAwAsdex1pDk5Obruuut6PSY9PV133HGHpKPN\\\n",
       "7osvvtjj/ltuuUVNTU3Kz8/X73//e1100UUaO3assrOz9clPflLPPfecTjrpJO3YsaPfo5PHq6ur\\\n",
       "kyR9/OMf725oB6u/tLS0z+YvLy9P8+fPl9TzaGsi7r33Xl1yySWKRqO6//77VVBQoDFjxuhjH/uY\\\n",
       "/vM//7PPhr6reYtGo4pEIv3+6zoifmxD3XUU9KSTTtLo0aMTrvPNN9+UdPS3kgcyadKkHo8/3vHX\\\n",
       "FR9r+PCjv8YYj8eH9NrHu/jii/Xd735XI0aMUGNjo/6//+//0+mnn66cnBwVFxdr/fr1Az4vAMC/\\\n",
       "aIABAJY6tmk566yz+n3chz/84e7/PvaI5d///nf97ne/k3Q0MCotLa3Xsqecckr3abVPPfXUoD+J\\\n",
       "09LSoi1btkga+Ojv8fUfW2N/9R9beyLGjRundevW6dlnn9VXv/pVXXTRRRo+fLhefPFFrVy5Umee\\\n",
       "eaYee+yxHsu8//77kqTvfOc7Mgxj0H9NTU29Xrev9ZiIRJcz+/x2Ped//Md/6LXXXlNVVZWuuuoq\\\n",
       "nXLKKdq9e7fq6+s1b948XXvttb0abwCA/9EAAwAsNWHChO4mcqAG5tim9djH/e1vf+v+7zPOOKPf\\\n",
       "5c8880xJR4929nf0sUvX0d/Ro0d3X3/cn3PPPbfPuo7XVb/ZJq3rKGXX6d2/+tWvdM455ygWi+nW\\\n",
       "W29VJBLpfmx2drYk6S9/+UvSr3PqqadKkt56662krpk+5ZRTJEltbW0DPm737t2SpJNPPjnp2gZ7\\\n",
       "7a7n7s9gp7+fdtppuv322/X0008rEonopZde6v4C5IknntCPf/xjawoGAHgGDTAAwHILFy6UdPRo\\\n",
       "bn9HZ//+9793//cHPvCB7v8+9nrRgY6uHtsgdgVl9SUWi+lnP/uZJOm6664b8LGSdNFFF3WfKnxs\\\n",
       "M368rvqPrd2sUaNG6YorrtBTTz0l6WjIV9d1v101SdJvf/tbRaPRpJ77wgsvlHT0KPJAPz11vGOv\\\n",
       "7d2/f3+fj9m3b1+Pa4Wt0vXabW1t3T9bdbx3332316nzgznnnHNUW1vbvT7D4fDQCgUAeA4NMADA\\\n",
       "csXFxZKONjC/+MUvet1/5MiR7vCo008/XXl5ed33Hfvf/R2hO3DggB566CFJR4/YDnRt65NPPql9\\\n",
       "+/ZJGvz0Z0nKyMjovm65pqZG7777bq/HtLS0dP927eLFiwd9zi6HDx/u9Ru9x792l2HDhnX/9223\\\n",
       "3aa0tDTt27dP//Ef/zHga8Tj8R5N8gc/+EHNnTtX0tHf9e3r7+nL1VdfreHDh6uzs1Pf/e53+3zM\\\n",
       "Pffco4MHDyoUCln6u7qFhYUaP368JOlb3/pWn4+59957FYvF+rzv4MGDAz5/13o+dh0DAALCid9e\\\n",
       "AgD43zXXXGNIMsaNG2f8/Oc/Nw4dOmQYhmG8/vrrxvXXX9/9G6719fW9ll28eHH3/TfddJPxj3/8\\\n",
       "wzhy5Ihx6NAh449//KPxsY99rPv+n/70pwPWkZ+fb0gyzj777IRr3717tzF27FhDkpGfn2/89a9/\\\n",
       "NQzDMI4cOWI888wzxtSpUw1JximnnGK8+eabCT/va6+9ZkybNs341re+ZbS0tBjxeLz7vj//+c9G\\\n",
       "QUGBIckYPXq0sWfPnh7LLlu2rPtvvuaaa4wtW7YYR44cMQzDMA4fPmy0trYaK1euNHJycoxnn322\\\n",
       "x7JbtmwxRo0aZUgyPvKRjxhr1qzpfj8OHDhgbN682Vi6dKkRDod7LHfHHXcYkoy0tDTjm9/8prF3\\\n",
       "717DMAxj7969RkVFRXc9X/va13r9rV2/A3z8b/Qea/Xq1YYkY8qUKb3uu//++7ufv6yszHj77bcN\\\n",
       "wzCM/fv3GytXrjTS0tK6f1f6+NdYtGiRUVxcbPzud7/rrtkwDGPPnj3Gt771LSMtLc2QZNTU1PRb\\\n",
       "GwDAn2iAAQC2iEajxty5c7ubmJEjRxrjx4/v/n9Jxje/+c0+l33rrbeM8847r8djTzjhBGP48OE9\\\n",
       "bvvKV74yYA2vvvpqd7Nz//33J1X/hg0buhssScbYsWONE044ofv/TznlFONPf/pTUs/52muv9ah/\\\n",
       "2LBhxoQJE4wRI0Z03zZixAjj8ccf77Xs4cOHjdtvv73H8qNGjTJOPPHEXuvlueee67X873//++6m\\\n",
       "XpIRCoV6vR9PP/10j2UOHjxofPrTn+6+Pz093Rg/fryRnp7efdsNN9zQ3Uwfa6gN8Pvvv2/cfPPN\\\n",
       "vV572LBhhiTj+uuv7/c1ur706Po3ZswYY8yYMT1uu+aaa4z333+/39oAAP7EKdAAAFuMHj1a69ev\\\n",
       "V21trebOnavRo0crGo3q9NNP1/XXX68//vGPuvvuu/tc9qSTTtLmzZu1atUqXXrppZo4caLi8biG\\\n",
       "Dx+uadOm6aabbtKzzz6r733vewPW8OCDD8owDI0YMUI333xzUvXPmTNHf/vb37R8+XJNnz69OzH4\\\n",
       "nHPOUXl5uf76179q1qxZST3n6aefrl//+tdatmyZZs+erVNPPVXRaFTDhw/X2WefrS9+8Yv661//\\\n",
       "qmuuuabXssOGDVNVVZVaWlpUWlqq6dOna9iwYdq/f7/Gjx+viy66SHfddZdaW1u7r3E91sKFC/Xq\\\n",
       "q69qxYoVmjlzpjIyMhSLxTR16lRdeumlqqmp0bx583osM2LECP3iF7/Qk08+qaKiIp144onq6OjQ\\\n",
       "iSeeqKKiIj311FP62c9+1v0bz1ZKT0/XQw89pIceekizZ89WRkaGDh8+rLy8PP3kJz/pvq67Lz/8\\\n",
       "4Q/13e9+V5dddpnOPPNMGYahWCym0047TVdccYWefPJJPf744/3+PjEAwL/SDGOQ344AAAAAAMAH\\\n",
       "+OoTAAAAABAINMAAAAAAgECgAQYAAAAABAINMAAAAAAgEGiAAQAAAACBQAMMAAAAAAgEGmAAAAAA\\\n",
       "QCDQAAMAAAAAAoEGGAAAAAAQCDTAAAAAAIBAGO50AbBPdna2Dhw4oMmTJztdCgAAABB4r7/+ukaP\\\n",
       "Hq329nanSwksjgD72IEDBxSPx50uAwAAAICkeDyuAwcOOF1GoHEE2Me6jvxu3brV4UoAAAAAzJgx\\\n",
       "w+kSAo8jwAAAAACAQKABBgAAAAAEAg0wAAAAACAQaIABAAAAAIFAAwwAAAAACAQaYAAAAABAINAA\\\n",
       "AwAAAAACgQYYAAAAABAINMAAAAAAgECgAQYAAAAABAINMAAAAAAgEGiAAQAAAACBQAMMAAAAAAgE\\\n",
       "GmAAAAAAQCDQAAMAAAAAAoEGGAAAAAAQCDTADuvs7NR//ud/6kMf+pBGjRql0047Tbfeeqt2797t\\\n",
       "dGkAAAAA4CvDnS4gyDo7OzV//nxt3LhRp556qq688krt3LlTq1ev1m9+8xtt2rRJZ5xxhtNlwoMi\\\n",
       "0YhWtaxS865mdRzqUNaILBVMLVDJzBJNzJzodHm+wDoGAMD9+LzG8dIMwzCcLiKovvnNb+pb3/qW\\\n",
       "LrjgAq1du1aZmZmSpPvvv1933HGH5s6dq+bmZtPPP2PGDEnS1q1bLakX7heLx1TWWKb61nrFj8R7\\\n",
       "3R9KD6k4t1jVRdUaNXyUAxV6H+sYAAD3c+vnNfvnzqMBdkg8Htcpp5yiffv2qaWlRTNnzuxx/0c/\\\n",
       "+lG99NJLeuGFF3TeeeeZeg0mWLDE4jEVPVqk5l2Df2mSPyVfa25co4xQRgoq8w/WMQAA7ufmz2v2\\\n",
       "z53HNcAOee6557Rv3z6dccYZvZpfSbrmmmskSQ0NDakuDR5V1liW0IZekpp3Nev2xtvtLciHWMcA\\\n",
       "ALgfn9cYCA2wQ/785z9LkvLy8vq8v+v2rscBA2mPtqu+tT6pZVa3rlYkGrGnIB9iHQMA4H58XmMw\\\n",
       "NMAOef311yVJkyZN6vP+rtu7HgcMpK6lrs/rWwYSPxJX3ZY6myryh0g0osoNlVr48ELNqp3FOgYA\\\n",
       "wOXYJ8JgSIF2SDQalSSdcMIJfd4/evToHo8bSNe1BMfbvn07KdIBkehpPsdr2tmk8jnlFlfjfYMF\\\n",
       "ZySDdQwAQOqwT4TB0AA7pCt7LC0tbcD7gUR0HOpI6XJ+lkxwRiJYxwAApA77RBgMDbBDsrKyJEkH\\\n",
       "Dhzo8/733ntPkrp/Gmkg/aXI9XdkGP6TNSIrpcv5WTLBGYlgHQMAkDrsE2EwXAPskMmTJ0uSdu/e\\\n",
       "3ef9Xbd3PQ4YSP6UfFPLFUwtsLYQjzMTnDEY1jEAAKnDPhEGQwPskI9+9KOSpJaWlj7v77r93HPP\\\n",
       "TVlNQXRsyNEFdRdo4cMLdc+z93guCbAkr0Sh9FBSy4TSQyqZWWJTRd5kJjhjIKxjAABSi30iDIYG\\\n",
       "2CEXXXSRxo4dq+3bt2vLli297n/iiSckSZdffnmqSwuEWDym0oZS5VTlqGJ9hcI7wtq8e7PCO8Ja\\\n",
       "sW6FcqpytLRhqToPdzpdakKyM7O1JHdJUssU5xZrYuZEewryKCtPfZZYxwAApBr7RBgMDbBDRowY\\\n",
       "oS996UuSpC996Us9rgW+//779dJLL+niiy/W+eef71SJvtUVclTbUtvv0b74kbgeaHlAix5ZpFg8\\\n",
       "luIKzaleVJ3waT/5U/JVXVRtc0XeY2UABusYAABnsE+EgdAAO6iiokIf//jHtXHjRp155pm67rrr\\\n",
       "NHv2bN1xxx068cQTtXr1aqdL9KVkQo6adzXr9sbb7S3IIhmhDK25cY1K80r7PfUnlB5SaV6pGm9q\\\n",
       "1Kjho1JcoftZEYDBOgYAwFnsE2EgaQa/t+OoWCym//qv/9LPfvYztbW1afz48Vq0aJG+9a1vKScn\\\n",
       "Z0jP3ZUC3V9KdBC1R9s1uWpyUtd5htJDalvW5qlTYyLRiOq21KlpZ5M6DnUoa0SWCqYWqGRmiaf+\\\n",
       "jlSr3FCpivUVSS+XMyZHZ510FusYAACXcds+EfvnzqMB9jEmWG9mG5zKeZX8OHoABOULEgAA4Az2\\\n",
       "z53HKdAIFLMhR007m6wtBK5EcAYAAIC/0QAjUMyGHFkZjgR3IzgDAADAv2iAEShmQ46sCEeCNxCc\\\n",
       "AQAA4F/DnS4ASKX8KfkK7wgnvVzB1ALri4FrZYQyVLO4RisvWemq4AwAAAAMDSFYPsZF9r0RcgQA\\\n",
       "3hKJRrSqZZWadzXzRRQAz2P/3HkcAUagdIUc1bbUJrwMIUcAkHqxeExljWWqb63v9aVleEdYdzXd\\\n",
       "peLcYlUXVXMpAgAgYVwDjMAh5AgA3C0Wj6no0SLVttT2e8ZO/EhcD7Q8oEWPLFIsHktxhQAAr6IB\\\n",
       "RuAQcgQA7lbWWJbwz9Y172rW7Y2321sQAMA3uAbYx7jGYHCRaISQIwBwEbIaAPgZ++fO4xpgBNrE\\\n",
       "zIkqn1Ou8jnljtZByAsAHFXXUpdU8ysdPR26bkud49ty+B+f14D3cQTYx/iGyf0GCnmRjh7VIOQF\\\n",
       "QJAsfHihqZ+rK5xWqLU3r7WhIoDPa1iH/XPncQQYcEhXyMtA17l1hby8vOdlrblxjTJCGSmsEABS\\\n",
       "r+NQR0qXAwbD5zXgL4RgAQ4h5AUAessakZXS5YDB8HkN+AsNMOCA9mi76lvrk1pmdetqRaIRewoC\\\n",
       "AJdI9GfqjlcwtcDaQgDxeQ34EQ0w4IChhLwAgJ+V5JX0+xN1/UlTmp76+1Na+PBC3fPsPTQfsAyf\\\n",
       "14D/0AADDkj0VKrjNe1ssrYQAHCZ7MxsLcldktQyhgy9+MaLCu8Ia8W6FcqpytHShqXqPNxpT5EI\\\n",
       "DD6vAf+hAQYcQMgLAPSvelG16VOhpX8HEi16ZJFi8ZiFlSFo+LwG/IcGGHAAIS8A0L+MUIbW3LhG\\\n",
       "pXmlSZ8OfSwCiTBUfF4D/kMDDDiAkBcAGFhGKEM1i2vUtqxNlfMqVTitUHmn5ilNaUk9D4FEGAo+\\\n",
       "rwH/STMMw3C6CNgjSD+0HYlGtKpllZp3NavjUIeyRmSpYGqBSmaWaGLmRKfL66U92q7JVZOTCtYI\\\n",
       "pYfUtqzNsb/Ha+vYi1jHwMAqN1SqYn1F8svNq1T5nHIbKoLfefHzGu4WpP1zt6IB9rEgTLBYPKay\\\n",
       "xjLVt9b3+eEUSg+pOLdY1UXVGjV8lAMV9q+0oVS1LbWJPz6vVDWLa2ysqG9eXsdewToGErPw4YUK\\\n",
       "7wgnvVzhtEKtvXmtDRUhCLzyeQ1vCML+udtxCjQ8KxaPqejRItW21Pb7zaybg1CSCXnJn5Kv6qJq\\\n",
       "myvqzevr2AtYx0DiCCSCE7zweQ0gcTTA8KyyxrKEf57AjUEoiYS8hNJDKs0rVeNNjY4c+fP6OvYC\\\n",
       "1jGQOAKJ4AQvfF4DSBynQPuYn0+x8Ns1OZFoRHVb6tS0s8k11376bR27EesYSA7XAMNpbvy8hrf4\\\n",
       "ef/cK4Y7XQBgRl1LXVJNg3T0NNK6LXWu3AmamDlR5XPKXVWb39axG7GOgeSU5JXo7ua7k/7SqGRm\\\n",
       "iY1VIUjc+HkNIDmcAg1PSvSU0eM17WyythAfYx3bj3UMJCc7M1tLcpcktUxxbjFH5gAA3WiA4UkE\\\n",
       "odiPdWw/1jGQPAKJAABDQQMMTyIIxX6sY/uxjoHkEUgEABgKGmB4UqLf/h+vYGqBtYX4GOvYfqxj\\\n",
       "wJyMUIZqFteobVmbKudVqnBaoWZPmq3CaYWqnFeptmVtqllcQ/MLAOiFFGgf82LKXCQa0aqWVWre\\\n",
       "1TxguqKZ9Nw0pSnv1DxNyJhAYmMCSCi2H+sYAIBg8eL+ud9wBBiuEIvHVNpQqpyqHFWsr1B4R1ib\\\n",
       "d29WeEdYK9atUE5VjpY2LFXn4U5J5oJQDBl68Y0X+31O9ETYjP1YxwAAAKlFAwzHxeIxFT1apNqW\\\n",
       "2n6PhMWPxPVAywNa9MgixeIxSckFoST6nOiJsBn7sY4BAABShwYYjitrLEv452CadzXr9sbbJSUW\\\n",
       "hJLsc6InwmbsxzoGAABIHa4B9jEvXGNg1TWQkWhEdVvq1LSzSXtie7TljS0ylPjQ5rrKwR27jge6\\\n",
       "PhvmsY4BAPA3L+yf+x0NsI85PcESCbSq3FCpivUVST935bxKlc8p7/s+G54TAJyWaEggAMC9nN4/\\\n",
       "Bw2wrzk1wWLxmMoay1TfWt/nkd1QekjFucWqLqrWFY9dofCOcNKvUTitUGtvXtvnfQsfXmj5cwKA\\\n",
       "U5LZpnKKPAC4Gw2w84Y7XQD8pSvQaqBrervCp17e87Jih82FT3Uc6jB1n9nnBAAnJLtNXXPjGmWE\\\n",
       "MlJYIQAA3kIIFiyVbKDVP9/9p6nXyRqRZeo+s88JAE4wGxIIAAD6RgMMy7RH21XfWp/UMm9E3zD1\\\n",
       "WgVTC/q9z+xPIw30nAC8IxKNqHJDpRY+vFAX1F2ghQ8v1D3P3qNINOJ0aUkxs01d3brac38nAACp\\\n",
       "RAMMy9S11CWV5ixJR4wjGpY2LKllQukhlcws6ff+krySpH8WabDnBOB+sXhMpQ2lyqnKUcX6CoV3\\\n",
       "hLV592aFd4S1Yt0K5VTlaGnDUnUe7nS61ISY2abGj8RVt6XOpooAAPA+GmBYJtHT9I6XnZmd1OOL\\\n",
       "c4sHTDzNzszWktwllj4nAHfrula2tqW236ax61rZRY8sUixuLn8glcxuU5t2NllbCAAAPkIDDMuY\\\n",
       "DZE6fczpCZ+2nD8lX9VF1YM+rnpRteXPCcC9/HitLIF+AABYjwYYljEbIjV25FituXGNSvNK+z11\\\n",
       "OZQeUmleqRpvakzoZz4yQhmWPycAd/LrtbIE+gEAYD1+BgmWyZ+Sb+r3dwumFigjlKGaxTVaeclK\\\n",
       "1W2pU9POJnUc6lDWiCwVTC1QycySpE9RtuM5gS6RaESrWlapeVcz48phZq+VPb/2fJ110lmufd+G\\\n",
       "sk0FAAB9SzMMw3C6CNgj1T+03R5t1+SqyUntiIbSQ2pb1ua6HU+gP7F4TGWNZapvre9zrIfSQyrO\\\n",
       "LVZ1UTVnFqTIwocXmmoUj+XG941tKgD4T6r3z9Ebp0DDMoRPwe/8GLTkB1Zc8+rG941tKgAA1qMB\\\n",
       "hqUIn4Kf+TFoyQ+svObVbe8b21QAAKxFAwxLET4Fv/Jr0JIfJNogJspN7xvbVAAArMU1wD7m9DUG\\\n",
       "kWiE8Cn4RuWGSlWsr0h6uZwxObYGLRHGZe5a2cFUzqtU+Zxyy57PCl7YpjIe4RWMVTjF6f1z0AD7\\\n",
       "GhMMsI7bgpYI4+qptKFUtS21lj1f4bRCrb15rWXP53eMR3gFYxVOY//ceZwCDQAJcFPQEmFcvSVz\\\n",
       "rWwirHi/g4LxCK9grAKQaIABICFuCloijKu3RK6VTYaV77ffMR7hFYxVABINMAAkxC1BS4Rx9S8j\\\n",
       "lKGaxTVqW9amynmVKpxWqJwxOaaeq2BqgbXF+RTjEV7BWAXQhQYYvheJRlS5oVILH16oC+ou0MKH\\\n",
       "F+qeZ+/hQw1JKckrseTIYpf4kbjqttQl/PiucXzxgxcnHfaU7Gt53cTMiSqfU661N6/V/932f0m/\\\n",
       "b6H0kEpmlthUnb/UtdQxHuEJjNXBsb+EoKABhm/F4jGVNpQqpypHFesrFN4R1ubdmxXeEdaKdSuU\\\n",
       "U5WjpQ1L1Xm40+lS4QHZmdlakrvE0uds2tk06GOOH8fb92637bX8yMz7VpxbTApsghI9nfR4QR2P\\\n",
       "cA5jtX/sLyFoaIDhSwRdwA6pDlpKZBxb9Vp+lsz7lj8lX9VF1TZX5B9mx1WQxyOcwVjtG/tLCCIa\\\n",
       "YPgSQRewQ6qDlpIZx0N9LT9L5H0LpYdUmleqxpsa+emTJJgdV0Eej3AGY7Vv7C8hiGiA4TsEXcBO\\\n",
       "qQpaMjOOzb5WEPT1vs2eNFuF0wpVOa9SbcvaVLO4huY3SWbPiAj6eETqMVZ7Y38JQZVmGIbhdBGw\\\n",
       "R1B/aLtyQ6Uq1lckv9y8SpXPKbehIrhdJBrRqpZVat7VrI5DHcoakaWCqQUqmVmS0LWg7dF2Ta6a\\\n",
       "nNRpyqH0kNqWtfX7/GbHsZnXAsyyY+wDdkjFWB3qZ0mqsb/kjKDun7sJR4DhOwRdIFFWBX/YEbRk\\\n",
       "1anPibwWYBYhY/AKO8eqV0Ok2F9CUNEAw3cIukAirA7+sDpoyarxSKgT7EbIGLzCjrHq5RAp9pcQ\\\n",
       "VDTA8B2CLpAIq4M/rA5aGup4JNQJqULIGLzCjrHq5RAp9pcQVFwD7GNBvcaAa1owGLuvBYtEI6rb\\\n",
       "UqemnU2mrwMzO44/OP6DKp5Z7NprzuBvVox9IBWsGKtevwae/SVnBHX/3E1ogH0sqBPM6x9IsJ8X\\\n",
       "PvT9NI69FgwDAInwwmfJQPz0OeMlQd0/dxNOgYbvEMqCwXgh+MMP49irwTAAkAgvfJYMxA+fM4AZ\\\n",
       "NMDwJUJZMBCvBH94eRx7ORgGABLhlc+SgXj5cwYwiwYYvkQoCwbileAPL49jLwfDAEAivPJZMhAv\\\n",
       "f84AZnENsI9xjcFRhLLgeF68bstL45jrygAEgRc/Swbipc8ZL2P/3Hk0wD7GBAP65tYGzS9hUX7b\\\n",
       "KYSz/DIv4D9OfpYwL7yL/XPn0QD7GBMM6F9pQ6lqW2oTf3xeqWoW19hSSyweU1ljmepb6/vckQql\\\n",
       "h1ScW6zqompPnH628OGFCu8IJ71c4bRCrb15rQ0VwYv8Ni/gT6n+LGFeeB/7587jGmAAgeSW4A8/\\\n",
       "hkX5IRgGzvLjvIA/pfKzhHkBWIMGGEAguSX4w49hUX4IhoGz/Dgv4E+p/CxhXgDW4BRoH+MUCyAx\\\n",
       "TgV/uPVa5KHiGmAMhV/nBfzPzs8S5oV/sH/uvOFOFwAATpuYOVHlc8pT3nzVtdQltTMjHT29rW5L\\\n",
       "nasbxZK8Et3dfHfSO2olM0tsrMoeBNFYz6/zAv5n52cJ8wKwDqdAA4BDEj2V7XhNO5usLcRi2ZnZ\\\n",
       "WpK7JKllinOLPdUwxuIxlTaUKqcqRxXrKxTeEdbm3ZsV3hHWinUrlFOVo6UNS9V5uNPpUj3Hr/MC\\\n",
       "GArmBWAdGmAAcIifw6LcEjJmB4Jo7OXneQGYxbwArEMDDAAO8XNYlFtCxuxAEI29/DwvALOYF4B1\\\n",
       "aIABwCGJHiE9XsHUAmsLsUlGKEM1i2vUtqxNlfMqVTitULMnzVbhtEJVzqtU27I21Syu8VTz2x5t\\\n",
       "V31rfVLLrG5drUg0Yk9BPuT3eQGYwbwArEMKtI+RMge4G6me3kPCtf2YF0BvzAv/YP/ceRwBBgCH\\\n",
       "BCEsym8IorEf8wLojXkBWIcGGAAc5OewKD8iiCY1mBdAb8wLwBo0wADgID+HRfkRQTSpwbwAemNe\\\n",
       "ANbgGuAheu+997R27Vo1NDTo+eef186dO/X+++/rgx/8oK6++motX75cmZmZfS770EMP6Uc/+pH+\\\n",
       "9re/acSIEZo9e7YqKip04YUXWlIb1xgA3hKJRlS3pU5NO5vUcahDWSOyVDC1QCUzSziNzSW4Bjj1\\\n",
       "mBdAb8wL72L/3Hk0wEO0atUq3XbbbZKODuizzz5b7777rjZu3KiOjg6dddZZam5u1imnnNJjueXL\\\n",
       "l6uqqkoZGRlauHChOjs79cwzz8gwDD3++OP65Cc/OeTamGAAYC2CaBA0kWhEq1pWqXlXM40WYAH2\\\n",
       "z51HAzxEDz30kDZv3qxly5bpzDPP7L79jTfe0Cc+8Qlt2bJFN9xwg372s59137du3TrNnz9fJ554\\\n",
       "ojZt2tS93KZNm1RQUKCMjAy99tprGj9+/JBqY4IBgPVKG0pV21Kb+OPzSlWzuMbGigDrxeIxlTWW\\\n",
       "qb61vs8vfELpIRXnFqu6qJpTbYEksH/uPK4BHqLPfOYz+p//+Z8eza8knXrqqfrv//5vSdJTTz2l\\\n",
       "Q4cOdd933333SZIqKip6LHfBBRfoc5/7nPbv368HH3wwBdUDAJJFEA38LhaPqejRItW21PZ7tkP8\\\n",
       "SFwPtDygRY8sUiweS3GFAGAeDbCNPvrRj0qSDh48qD179khS96nOknTNNdf0WqbrtoaGhhRVCQBI\\\n",
       "BkE08LuyxrKEf/KreVezbm+83d6CAMBCnAJto7/+9a8655xzFAqF1NHRoZEjR6q1tVUzZ87UySef\\\n",
       "rDfffLPXMgcOHFBmZqbGjx+vd955Z0ivzykWAGAvgmjgN1znDtiL/XPnDXe6AD+rrj562tuiRYs0\\\n",
       "cuRISdLrr78uSZo0aVKfy4wePVrjxo3T3r171dHRoawsfjoDANxqYuZElc8pJ+EZvlHXUpdU8ysd\\\n",
       "PR26bksd8wCAJ9AA2+R3v/ud6urqFAqF9K1vfav79mg0Kkk64YQT+l129OjR2rdvn6LRaEINcNc3\\\n",
       "Scfbvn27zjjjjCQrBwAAQZXoqc/Ha9rZRAMMwBO4BtgGf//733XTTTfJMAx973vf674WWJK6zjhP\\\n",
       "S0vrd3nOSgcAAE7oONSR0uUAINU4Amyx3bt3a9GiRdq7d6+WL1+usrKyHvd3HdE9cOBAv8/x3nvv\\\n",
       "SZIyMzMTes3+riHo78gwAABAX7JGmLv0yuxyAJBqHAG20Ntvv63CwkK9/vrrKi4u1ve///1ej5k8\\\n",
       "ebKko41yXw4cOKB9+/Zp3LhxXP8LAABSKtGf+DpewdQCawsBAJtwBNgiHR0dKioq0rZt2/SpT31K\\\n",
       "tbW1fZ7mPH36dI0cOVJvvfWWdu/e3SsMq6WlRZJ07rnnpqRu+FMkGtGqllVq3tVMMi0AIGEleSW6\\\n",
       "u/nupFOgS2aW2FgVAFiHI8AWOHjwoK688kq98MILuvTSS/XYY49p2LBhfT42IyND8+bNkyQ98cQT\\\n",
       "ve7vuu3yyy+3r2D4ViweU2lDqXKqclSxvkLhHWFt3r1Z4R1hrVi3QjlVOVrasFSdhzudLhUA4ELZ\\\n",
       "mdlakrskqWWKc4v5chWAZ/A7wEP0/vvv69prr9XTTz+tOXPmqLGxccCEZ0n6wx/+oMLCQp144ona\\\n",
       "tGmTzjzzTEnSpk2bdMkll2jkyJF67bXXNGHChCHVxu+MBUssHlPRo0UJJXjmT8nXmhvXKCOUkYLK\\\n",
       "AABekuznSeNNjRo1fFQKKgO8j/1z53EK9BD96Ec/0tNPPy1JOumkk/SFL3yhz8d9//vf10knnSRJ\\\n",
       "WrBggcrKylRdXa3c3FwVFhbq0KFDCofDOnLkiB599NEhN78InrLGsoR/vqJ5V7Nub7xdNYtrbK4K\\\n",
       "AOA1GaEMrblxjW5vvF2rW1f3eTp0KD2k4txiVRdV0/wC8BSOAA/RXXfdpbvvvnvQx7322muaOnVq\\\n",
       "j9vq6+v1ox/9SH//+98VCoU0e/ZsVVRU6OKLL7akNr5hCo72aLsmV01O+pqttmVtnLYGAOhXJBpR\\\n",
       "3ZY6Ne1sIlMCsAD7586jAfYxJlhwVG6oVMX6iuSXm1ep8jnlNlQEAACQGl4K/2T/3HmcAg34QKKn\\\n",
       "Ph+vaWcTDTAAAPCkWDymssYy1bfW9zoLLrwjrLua7uJUffRCAwz4QMehjpQuBwAA4KREwtriR+J6\\\n",
       "oOUBvbznZcI/0Y2fQQJ8IGtEVkqXAwAAcJKZ8E9AogEGfCF/Sr6p5QqmFlhbCAAAgM3ao+2qb61P\\\n",
       "apnVrasViUbsKQieQgMM+EBJXolC6aGklgmlh1Qys8SmigAA0tFwnsoNlVr48EJdUHeBFj68UPc8\\\n",
       "ew874sAQ1LXUJfXLF9LR06HrttTZVBG8hAYY8IHszGwtyV2S1DLFucWuS0YEAL+IxWMqbShVTlWO\\\n",
       "KtZXKLwjrM27Nyu8I6wV61YopypHSxuWqvNwp9OlAp4zlPBPgAYY8InqRdUJnwqdPyVf1UXVNlcE\\\n",
       "AMHUFc5T21Lb71GqrnCeRY8sUiweS3GFgLcR/omhoAEGfCIjlKE1N65RaV5pv6dDh9JDKs0rVeNN\\\n",
       "jfwcAADYhHAewF6Ef2Io+BkkwEcyQhmqWVyjlZesVN2WOjXtbHL9D8IDgJ+YDedZeclKts9AgvKn\\\n",
       "5Cu8I5z0coR/QpLSDMMwnC4C9pgxY4YkaevWrQ5XAgBAMFRuqFTF+orkl5tXqfI55TZUBPhPe7Rd\\\n",
       "k6smJxWEFUoPqW1Zm+NfNLF/7jxOgQYAALAI4TyA/Qj/xFDQAAMAAFiEcB4gNQj/hFk0wAAAABYh\\\n",
       "nAdIDcI/YRYhWAAAABYhnAdIHcI/YQYhWD7GRfYA4JxINKJVLavUvKuZHbIA8XI4D+B2ftiusn/u\\\n",
       "PBpgH2OCAUDqxeIxlTWWqb61vs8mKJQeUnFusaqLqjklz6dKG0pV21Kb+OPzSlWzuMbGigBv89N2\\\n",
       "lf1z53ENMAAAFonFYyp6tEi1LbX9HgGMH4nrgZYHtOiRRYrFYymuEKlAOA9gHbarsBoNMAAAFilr\\\n",
       "LEv4Z3CadzXr9sbb7S0IjiCcB7AO21VYjVOgfYxTLAAgdbj2E32JRCOE8wAm+XG7yv6580iBBgAP\\\n",
       "80MgiJcdu/63vb0tqZ006ehpe3Vb6lQ+p9ymCpEKg83D8jnlvMeACXUtdWxXYTmOAPsY3zAB/uWn\\\n",
       "QBAvGmz9J6NwWqHW3rzWosqQSsxDwF4LH15o6mfF3LxdZf/ceRwBBgCP6QoEGeiaqK5AkJf3vKw1\\\n",
       "N65RRigjhRX6WyLrPxkdhzoseR6kFvMQsJ/Z7SPbVQyEECwA8BgCQZyVzPpPRNaILMueC6nDPATs\\\n",
       "Z3b7yHYVA6EBBgAPaY+2q761PqllVreuViQasaeggDGz/gdTMLXA0ueD/ZiHQGrknZpnarmPnfYx\\\n",
       "iyuBn3AKNAB4CIEgzjKz/gcSSg+pZGaJZc/nR2aD3uwMiPPiPCQwD55EUhFsQAMMAB5i9tTbpp1N\\\n",
       "NMAWsPLUZ0kqzi2m+ejHQAFT4R1h3dV0V58BU2aXS4aX5mEq1gdgl5b2FlPLvfCvFyyuBH5CAwwA\\\n",
       "HkIgiLOsXI/5U/JVXVRt2fP5idmAqVQFU3llHhLUBa/zylyDt3ANMAB4CIEgzrJiPYbSQyrNK1Xj\\\n",
       "TY0cceuH2YCpVAVTeWUeEtQFr/PKXIO30AADgIfkT8k3tRxBS9Ywu/5zxuSocFqhKudVqm1Zm2oW\\\n",
       "19D89sNswNRfIn9JWTCVF+YhQV3wAy/MNXgPDTAAeEhJXolC6aGkliFoyTpm1//ztz2vtTevVfmc\\\n",
       "cq75HYTZgKnla5ebDqZKlhfm4VCCuoYqEo2ockOlFj68UBfUXaCFDy/UPc/eQ3ONpHlhrsF7aIAB\\\n",
       "wEOyM7O1JHdJUssQtGQd1r/9zAZMtbxhLiynaWdT0st4YRwMJajLrFg8ptKGUuVU5ahifYXCO8La\\\n",
       "vHuzwjvCWrFuhXKqcrS0Yak6D3eafg0EixfmGryHBhgAPKZ6UXXCp4URtGQ91r+9zIbXHHr/UEpf\\\n",
       "z+3jINXhQV2BW7Uttf0eee4K3Fr0yCLF4jFTr4Pgcftcg/fQAAOAx2SEMrTmxjUqzSvt99Qwgpbs\\\n",
       "w/q3l9nwmhHDRqT09dw+DlIdHkTgFuzi9rkG70kzDIOfmPapGTNmSJK2bt3qcCUA7BKJRlS3pU5N\\\n",
       "O5vUcahDWSOyVDC1QCUzSzgFLAVY/9ar3FCpivUVSS+3YNoC/WHHH5J/vXmVQ/5tXjeOA7Pr0cz6\\\n",
       "aI+2a3LV5KSuOQ6lh9S2rI15gqS4ca4li/1z59EA+xgTDLBPJBrRqpZVat7V7NkPYfwb76d7mG2m\\\n",
       "Xix9Uec9cB5N2P+TyqY0lc024HXsnzuPU6ABIAmEvPgL76f7mA29OWfiOYTlHCOV4UFOBG4BgFk0\\\n",
       "wACQIEJe/IX3073Mht4QltNTqtZHqgO3AGAoaIABIEGEvPgL76d7mQ29ISynp1Stj1QHbgHAUHAN\\\n",
       "sI9xjQFgHUJe/IX30zvMht74ISzHSnauD64BBhLH/rnzaIB9jAkGWIcdPH/h/USqBCFgjS+UgMSx\\\n",
       "f+48ToEGgAQQ8uIvvJ+wW5AC1lIZuAUAQ0UDDAAJIOTFX3g/YacgBqwRQAbAK2iAASABhLz4C+8n\\\n",
       "7BTEgDUCyAB4BQ0wACQg0SMbxyuYWmBtIbAE7yfs0h5tV31rfVLLrG5drUg0Yk9BKZQRylDN4hq1\\\n",
       "LWtT5bxKFU4r1OxJs1U4rVCV8yrVtqxNNYtraH4BOIoQLB/jInvAOoS8+Avvpz+4MWCKgDUAA2H/\\\n",
       "3HkcAQaABBDy4i+8n97m5oApAtYAwN1ogAEgQYS8+Avvpze5PWCKgDUAcDcaYABIECEv/sL76U1u\\\n",
       "D5giYA0A3I1rgH2MawwA+0SiEdVtqVPTzibXXHsI83g/vcEL125zDTCAgbB/7jwaYB9jggEA/MQL\\\n",
       "zaUXmnQAzmH/3HmcAg0AADzBCwFTBKwBgLvRAAMAAE/wSsAUAWsA4F40wAAAwBO8EjBFwBoAuNdw\\\n",
       "pwsAAABIRP6UfIV3hJNermBqgfXFDCIjlKGaxTVaeclKAtYAwEUIwfIxLrJHqkSiEa1qWaXmXc3s\\\n",
       "4AGwDQFTbG9xFOPAu9g/dx4NsI8xwWC3WDymssYy1bfW97lDGkoPqTi3WNVF1ZziB8ASpQ2lqm2p\\\n",
       "TfzxeaWqWVxjY0WpwfYWEuPAD9g/dx4NsI8xwWCnWDymokeLEkplzZ+SrzU3rlFGKCMFlQHws2S3\\\n",
       "PX64xpbtLSTGgV+wf+48QrAAmFLWWJbwT5I072rW7Y2321sQgEAIYsAU21tIjAPAKhwB9jG+YYJd\\\n",
       "uA4PgBtEohHfB0yxvYXEOPAT9s+dRwo0gKTVtdQl9SEsSfEjcdVtqVP5nHKbqgIQNBMzJ6p8Tnmf\\\n",
       "2xW/hASxvYXEOACsxCnQAJKW6ClYx2va2WRtIQBwnFg8ptKGUuVU5ahifYXCO8LavHuzwjvCWrFu\\\n",
       "hXKqcrS0Yak6D3c6XWpC2N5CYhwAVuIIMICkdRzqSOlyAJCIREKC4kfieqDlAb2852VPhASxvYXE\\\n",
       "OACsxBFgAEnLGpGV0uUAIBF+DAliewuJcQBYiQYYQNLyp+SbWq5gaoG1hQDA/9MebVd9a31Sy6xu\\\n",
       "Xa1INGJPQRZhewuJcQBYiRRoHwtSypwXwk68UGOiSKME3MVP2xezKjdUqmJ9RfLLzat0dUhQkLa3\\\n",
       "jOP+BWkc+F2Q9s/digbYx4IwwWLxmMoay1TfWt/nh0IoPaTi3GJVF1U79luQXqjRjNKGUtW21Cb+\\\n",
       "+LxS1SyusbEiIHj8un0xY+HDCxXeEU56ucJphVp781obKrKO37e3jOPE+H0cBEUQ9s/djlOg4Vld\\\n",
       "YSe1LbX9fiPaFXay6JFFisVjKa7QGzWaVb2oOuFTsvKn5Ku6qNrmioBg8fP2xQw/hwT5eXvLOE6c\\\n",
       "n8cBkEo0wPAsL4SdeKFGszJCGVpz4xqV5pUqlB7q8zGh9JBK80rVeFNjoL+1B+zg5+2LGX4OCfLz\\\n",
       "9pZxnDg/jwMglTgF2sf8fIqFF66F8UKNVolEI6rbUqemnU1ctwWkQJC2L4ny6zXAx/PT9pZxbJ6f\\\n",
       "xkHQ+Hn/3CtogH3MzxPMCzs6XqgxFQg1QaoFYcyxfemNZsobjp2f297eprZ325J+Dj+PY/ifn/fP\\\n",
       "vYJToOFJiZ4udbymnU3WFjIAL9Rop1g8ptKGUuVU5ahifYXCO8LavHuzwjvCWrFuhXKqcrS0Yak6\\\n",
       "D3c6XSp8IkhjLujbl75kZ2ZrSe6SpJYpzi2m+U2RvuanmeZX8vc4BmC/4U4XAJjhhbATL9Rol65Q\\\n",
       "k4F20rtCTV7e87LW3LhGGaGMFFYIvwnamAvy9mUg1Yuq9cqeVxL6goCQoNRJZH4mw+/jGIC9OAIM\\\n",
       "T/JC2IkXarQLoSZItaCNuSBvXwZCSJA7JTM/E+H3cQzAXjTA8KREfwbgeAVTC6wtZABeqNEO7dF2\\\n",
       "1bfWJ7XM6tbVikQj9hQE3wvimAvq9iURGaEM1SyuUduyNlXOq1ThtELNnjRbhdMKVTmvUm3L2lSz\\\n",
       "uIbmN0XMzM/BBGEcA7APDTA8qSSvpN9v9/sTSg+pZGaJTRX15oUa7VDXUpdUCI109NTUui11NlUE\\\n",
       "vwvimAvq9iUZEzMnqnxOudbevFabSjZp7c1rVT6nnGt+U8zM/BxI0MYxAOvRAMOTvBB24oUa7UA4\\\n",
       "D1ItiGMuqNsXeI+Vpz5LjGMAQ0cDDM+qXlSd8GmAToWdeKFGqxHOg1QL6pgL4vYF3mPlPGMcA7AC\\\n",
       "DTA8ywthJ16o0WqE8yDVgjrmgrh9gfdYMc8YxwCsxM8gwdO6wk5WXrJSdVvq1LSzSR2HOpQ1IksF\\\n",
       "UwtUMrPE8VOlvFCjlfKn5Cu8I5z0coSawKwgj7mgbV/gPWbnZ86YHJ110lmMYwCWSzMMw3C6CNhj\\\n",
       "xowZkqStW7c6XAmCpD3arslVk5MKPQmlh9S2rI0dHJjCmJMi0YhWtaxS865mGmC4CvMT6In9c+dx\\\n",
       "CjQASxHOg1QL8piLxWMqbShVTlWOKtZXKLwjrM27Nyu8I6wV61YopypHSxuWqvNwp9OlIqCCPD8B\\\n",
       "uBMNMADLEc6DVAvimIvFYyp6tEi1LbX9Hl2LH4nrgZYHtOiRRYrFYymuEDgqiPMTgHvRAAOwHOE8\\\n",
       "SLUgjrmyxrKEf2KmeVezbm+83d6CgH4EcX4CcC+uAbbBO++8o7POOktvvfWWpk+frm3btvX72Ice\\\n",
       "ekg/+tGP9Le//U0jRozQ7NmzVVFRoQsvvHDIdXCNAdwgEo0QzoOUCsKY47pKeFUQ5icwEPbPnUcK\\\n",
       "tA2WL1+ut99+O6HHVVVVKSMjQwsXLlRnZ6fC4bDWrl2rxx9/XJ/85CdTUC0wdAMF8EhSX9+zvXXg\\\n",
       "rQGXccN9V3zoCv3q5V85Xgc1Jn9ff9/t9jdW3bQeE2kC6lrqkmp+paOnQ9dtqVP5nPKklksGYVwY\\\n",
       "zMTMiSqfU27rOASAgXAE2GLPPPOMFixYoNLSUj3wwAP9HgFet26d5s+frxNPPFGbNm3SmWeeKUna\\\n",
       "tGmTCgoKlJGRoddee03jx483XQvfMMFusXhMZY1lqm+t73NnPD0tXTKkIzqS8HOmKU1paWk6YvRe\\\n",
       "xux9A9VhpsaBljFbh9m/rT+prsNMjalej255rwe6L5QeUnFusaqLqgc8DXThwwtN/bRM4bRCrb15\\\n",
       "bdLLDWawbUGifxcA+B37587jGmALxWIxfe5zn9PZZ5+tr3zlKwM+9r777pMkVVRUdDe/knTBBRfo\\\n",
       "c5/7nPbv368HH3zQ1nqBoUgkgOeIcSSpZkOSDBn9NlFm7xuoDjM1DrSM2TrM/m39SXUdZmpM9Xp0\\\n",
       "y3s90H2JhlZ1HOoYpHJrlxsIYVwAAC+hAbbQ3Xffre3bt+vHP/6xQqG+Qx4kqbOzU88884wk6Zpr\\\n",
       "rul1f9dtDQ0N9hQKWCCZAB4AyRkstCprRJap5zW73EAI4wIAeAkNsEVeeukl3XfffSouLtbcuXMH\\\n",
       "fOy2bdt08OBBnXzyyZo0aVKv+/Py8rqfE3Cj9mi76lvrnS4D8LXVrasViUb6vC/Rn5Q5XsHUgiFU\\\n",
       "1JuZbcFAfxcAAHajAbbAkSNHdNttt2ncuHG69957B33866+/Lkl9Nr+SNHr0aI0bN0579+5VR4f1\\\n",
       "p6sBQ2UmgAdAcrpCq/pSklfS78/J9CeUHuoO4LLKUMK4AABwAg2wBX74wx/q//7v//S9731PJ554\\\n",
       "4qCPj0ajkqQTTjih38eMHj26x2MHMmPGjD7/bd++PcG/AEgOpz4DqdG0s6nP27Mzs7Ukd0lSz1Wc\\\n",
       "W2x5ErPZbUF/fxcAAHajAR6itrY2VVRUKD8/X0uWLEloma7g7bS0tEEfA7iRHUE6AHobaK5VL6pO\\\n",
       "+FTo/Cn5qi6qtqqsbm4K4wIAIBH8DvAQfeELX9ChQ4f04x//OOFlsrKOhpAcOHCg38e89957kqTM\\\n",
       "zMxBn6+/GPWumHXAanYE6QDobaC5lhHK0Job1+j2xtu1unW1Iz8/5KYwLgAAEkEDPES/+c1vNG7c\\\n",
       "OH3+85/vcXtnZ6eko9f7FhQUdD82MzNTkydPliTt3r27z+c8cOCA9u3bp3HjxnU3y4Cb5GXnmfoN\\\n",
       "UgDJ+dhpHxvw/oxQhmoW12jlJStVt6VOTTub1HGoQ1kjslQwtUAlM0ssP+35WPlT8k1tC6wO4wIA\\\n",
       "IFE0wBbYt2+fmpv7vg4qFot133f48GFJ0vTp0zVy5Ei99dZb2r17d68wrJaWFknSueeea2PVSLVI\\\n",
       "NKJVLavUvKs5pTuotuj/7H0ADpiYOVHlc8pVPqc8pa9bkleiu5vvTioIy44wLgAAEsU1wENkGEaf\\\n",
       "/1577TVJR5vdrtvGjRsnScrIyNC8efMkSU888USv5+y67fLLL0/NHwFbxeIxlTaUKqcqRxXrKxTe\\\n",
       "Edbm3ZsV3hHWinUrlFOVo6UNS9V5uNPpUhPW8kaL0yUAgfDCv15wuoQBuSWMCwCARNEAO2T58uWS\\\n",
       "pG9/+9t69dVXu2/ftGmTampqNGbMGJWU8A2518XiMRU9WqTaltp+j5DEj8T1QMsDWvTIIsXisRRX\\\n",
       "aA4BNkBqeGGuuSGMCwCARNEAO2TBggUqKyvTnj17lJubq6uuukqXXXaZ5s6dq3g8rgcffFATJkxw\\\n",
       "ukwMUVljWcI/E9K8q1m3N95ub0EWsTPAJl3pSk/re9Nk+r60dKX3s7kb6L5+axzo+czWYfJv67fG\\\n",
       "FNdhqsZUr0eXvNfJ8EJYVFcYV2leab+/TRxKD6k0r1SNNzXaEsYFAECiuAbYQT/4wQ+Um5urH/3o\\\n",
       "RwqHwwqFQpo/f74qKip08cUXO10ehqg92q761vqkllndulorL1np+tMD8041F4J1WtZpmnHyDBVM\\\n",
       "LdAVH7pCv37l132G9kjqN9AnlfdRIzVa9Vpb39yqf0X/lfScGSwEyy2cDuMCACBRaQY/OOtbXT+D\\\n",
       "1N/PJMFelRsqVbG+Ivnl5lWmPMgmWXeG79R3N3436eW+fvHXdc/8e2yoCHC3O/9wp777R+ZMEPkq\\\n",
       "ABHAkLF/7jyOAAM2SfTU5+M17WxyfQPc0m4uBMvtgT6AXcwGxzFnvCsWj6mssUz1rfW9MiDCO8K6\\\n",
       "q+kuW3+jGQDQNxpgwCZmw2u8EHrj578NsANzJli6AhAH+iK0KwDx5T0va82Na5QRykhhhQAQXIRg\\\n",
       "ATYxG17jhdAbP/9tgB2YM8Hi1wBEAPADGmDAJon+LMjxCqYWWFuIDfJOzTO1nFcCfQCrMWeCw2wA\\\n",
       "YiQasacgAEAPnAKNQLMznKQkr0R3N9/d7+//9iWUHupOj3U1ovOA5DBnAqOupS6p7b509HToui11\\\n",
       "rs9/AI5HyBu8iAYYgZSKcJLszGwtyV2i2pbahJcpzi32xAcGIVhAcpgzweHnAESgCyFv8DJOgUbg\\\n",
       "dIWT1LbU9vstfVc4yaJHFikWj5l+repF1QmfCp0/JV/VRdWmXyuVCPQBksOcCQ7ea/hdKvejADvQ\\\n",
       "ACNwUhlOkhHK0Job16g0r1Sh9FCfjwmlh1SaV6rGmxo98y0pgT5AcpgzwcF7Db8j5A1eRwOMQHEi\\\n",
       "nCQjlKGaxTVqW9amynmVKpxWqNmTZqtwWqEq51WqbVmbahbXeKb5laS8bAJ9gGQwZ4LDzwGIACFv\\\n",
       "8AOuAYYjnApNcDKcZGLmRJXPKffHNV5pTheARBBO4iLMmcDwdQAiAo+QN/gBDTBSyunQBMJJrNHy\\\n",
       "BoE+bub0PENvzJng8HMAIsB+FPyAU6CRMm4ITSCcxBqsR/dywzxDb8yZYPFrACLAtgx+QAOMlHFD\\\n",
       "aALhJNZgPbqXG+YZemPOBItfAxABtmXwAxpgpIRbQhMIJ7EGgT7u5JZ5ht7yTmXOBI0fAxAB9qPg\\\n",
       "B1wDjJRwS2gC4SQWIdDHNY4Nutr29jZT8+z82vN11klnEZBlJ8PpAuAUXwUgIvDYj4IfcAQYKTGU\\\n",
       "0AQrdYWTJINwkt4I9HFeLB5TaUOpcqpyVLG+QuEdYbW922bqudrebVN4R1gr1q1QTlWOljYsVefh\\\n",
       "TosrDraWduYMAO9jPwp+QAOMlHBTaALhJEPnpvcziBIJujKLgCx7MGcA+AX7UfA6GmCkhJtCEwgn\\\n",
       "GTo3vZ9BlEzQlVkEZFmLOQPAL9iPgtdxDTBSIn9KvsI7wkkvZ1doQlc4ycpLVqpuS52adjap41CH\\\n",
       "skZkcR1kAvJOzTP1fhLoM3Rmgq7MWt26WisvWclcsEBeNnMGgH+wHwUvowFGSrg1NIFwEpMI9Em5\\\n",
       "rrCr1a2rLT/tuT8EZFmI4LgBHRvmxk40vCqI45j9KHgRDTBSois0obalNuFlCE1wLwJ9UicWj6ms\\\n",
       "sUz1rfUpa3yP1fZuW3dI1l1Nd6k4t1jVRdWc0pYkguP6NtD4ZszBKxjHgLdwDTBShtAE/yDQJzXs\\\n",
       "DLsyg4As85gzvSUyvhlzcDvGMeA9NMBIGUIT/INAn9RIRdiVGQRkJY8501sy45sxB7diHAPeQwOM\\\n",
       "lOoKTWhb1qbKeZUqnFao2ZNmq3BaoSrnVaptWZtqFtfQ/Lpc3ql5ppYj0CdxqQy7MmN162pFohGn\\\n",
       "y/CMvGzmzLHMjG/GHNyGcQx4E9cAwxFWhyaYDZ4IYmCFJQjBssWx43Hb29tccdpzfwjIShIhWD3U\\\n",
       "tdQlPb7jR+Kq21JH2A5cg3EMeBMNMDzNbPAEgRVDQwiWtZwOujKLgKzEEYLVk9lT+5t2NtE4wDUY\\\n",
       "x4A30QDDs7qCJwb6AOoKnnh5z8tac+MaZYQyTC+HfyPQxzqJjEcvYM4MjDnTE+sDfsA4BryJa4Dh\\\n",
       "WWaDJwisGDoCfazj1qArs5gzfWPO9MT6gB8wjgFvogGGJ5kNnvhL5C8EVliAQB9ruD3oyizmTG/M\\\n",
       "mZ4S/Um84xVMLbC2EGAIGMeAN3EKNBwx1PAps8ETy3+/nMAKKxDoY5qXgq7MIiCrD8yZHkrySnR3\\\n",
       "891Jjf9QekglM0t63EaQYU+sj9SyahwDSC0aYKSUVeFTZk8ZNRveRGBFTwT6JM+rQVdmEZDVE3Om\\\n",
       "p+zMbC3JXaLaltqElynOLe5u4ggy7In14YyhjmMAzuAUaKRMV9hPbUttvw1AV5DOokcWKRaP9ftc\\\n",
       "ZgMkDr1/yNRyBFb0RPBHchIZ+36W6Lz2M+ZMb9WLqhM+hTR/Sr6qi6olWftZ4gesD2eZHccAnEMD\\\n",
       "jJSxMnzKbIDEiGEjTC1HYEVPBH8kx29BV2YFOSCLOdNbRihDa25co9K8UoXSQ30+JpQeUmleqRpv\\\n",
       "auw+ckmQYU+sD2eZHccAnEMDjJQwG1rVX5CO2eAJs0E0BFb0RKBP4vwadGVWUAOy8k5lzvQlI5Sh\\\n",
       "msU1alvWpsp5lSqcVqjZk2arcFqhKudVqm1Zm2oW13Q3DVZ/lngd68Mdkh3HAJzFNcBICbOhVf2F\\\n",
       "T5kNnrj/0vt13gPnEVgxVAT6JMzM2PezwIbKGU4X4G4TMyeqfE75oOPC6s8Sr2N9uEui4xgEtsFZ\\\n",
       "HAFGSpg9/bNpZ1Oft3cFTySjOLdY50w8x9RybIx7ItAncZz63Ft/89rPzAbwBXHODMTqzxKvY33A\\\n",
       "a2LxmEobSpVTlaOK9RUK7whr8+7NCu8Ia8W6FcqpytHShqXqPNzpdKnwMRpgpIQdATBmgycIrBg6\\\n",
       "An0SF8S/eTBBXCfMGWuwHntifcBLCGyDW9AAIyXsCIAxGzxBYMXQEeiTuCD+zYMJ4jphzliD9dgT\\\n",
       "6wNeQmAb3IIGGClhNrRqsPAps8ETBFYMDSFYiTM79v0siKFyhGBZw67PEq9ifcArCGyDmxCChZQw\\\n",
       "G1qVaPiU2eAJAitMIgQrYWbGvp8FNlSOECxL2P1ZYgc7w368uD4QTAS2wU04AoyUMBtaRfiUOxGC\\\n",
       "lTgzY9/PgjqvCcGyhpc+S1IR9uOl9YFgI7ANbkIDjJQhfMo/CF5JTjJj38+CPK+ZM9bxwmdJKsN+\\\n",
       "vLA+ALaBcBMaYKQM4VP+QfBKchIZ+37GvGbOWMkLnyWpDPvxwvoA2AbCTbgGGCnVFT618pKVqttS\\\n",
       "p6adTfwAugflnZqn8I5w0ssFOdCnr7G/J7ZHW97YIsNnF4imKU15p+ZpQsYE5vX/w5yxlps/S8yG\\\n",
       "/ay8ZKXpmt28PgDp6NkHZraBBLbBDjTAcAThUx7nr34t5Qzj6Ap868Bbvmt+JcmQoTcPvKkJGROc\\\n",
       "LsU9/Pc2u4IbP0ucDPtxy/qwM/gL3kRgG9yEBhhA0gj0SV4sHlNZY5nqW+sDkQjd9m6b2t5tU3hH\\\n",
       "WHc13aXi3GJVF1UH9vRL5kxwDCXsx+nGdagG2s6xLQi2rsC22pbahJchsA124RpgAEkjzCI5iQTi\\\n",
       "+JlVYT9expwJjqC+16kM/oI3EdgGt6ABBpA0wiySk0wgjp8NNezHy5gzwRHU9zqVwV/wJgLb4BY0\\\n",
       "wACSlndqnqnlghjoYyYQx89Wt65WJBpxuoyUy8tmzgSF2Z8883LYj9ngryBuC4KuK7CtbVmbKudV\\\n",
       "qnBaoWZPmq3CaYWqnFeptmVtqllcQ/MLW3ENMIDkEegzoGMDYLa9vS2Qpz33J34krosfvFjFM4uD\\\n",
       "FYiT5nQBSBW7w37cGDDlZPAXvMktgW0IJo4AA0gagT59i8VjKm0oVU5VjirWVyi8I6y2d9ucLst1\\\n",
       "/rH3H1qxboVyqnK0tGGpOg93Ol2S7VreYM4ERVfYTzISCfvpa/uyefdmhXeEHZ9PQwn+AoBUowEG\\\n",
       "kLSghrwMJOhBV2YEKRCHORMsVof9uD1givENwEtogAEkLaghLwMh6Mq8IATiMGeCxeqwH7cHTDG+\\\n",
       "AXgJDTCApBHo0xNBV0Pn90Ac5kzwWBX244WAqSAGfwHwLkKwACSPQB+CriwWPxLX+bXn66yTznI8\\\n",
       "0McWzJnAGmrYjxcCpuwO/gIAK3EEGEDSghzoQ9CVfdrebXNFoI8dgjxnMDReCJiyK/gLAOxAAwwg\\\n",
       "aUENPCHoKnX8FpAV1DmDofPK2LE6+AsA7EIDDCBpQQ08Iegq9fwSkBXUOYOh88rYsTr4CwDsQgMM\\\n",
       "IGl5pwYv0IegK+f4ISAriHMG1vBSwJRVwV8AYCdCsAAkz3C6gNQzE0QDa6Q60McWAZwzsIYXA6aG\\\n",
       "GvwFZxwb7thxqENZI7JsCyVM5WsBx6MBBpC0lvbgBfpw6rOzmnY2eXpnOohzBtboCpiqbalNeBkC\\\n",
       "ppCMWDymssYy1bfW9/qiJbwjrLua7lJxbrGqi6qHfPQ+la8F9IdToAEkzSuhLFbycu1+4PX1H8Q5\\\n",
       "A+sQMAW7JBLuaFUoYSpfCxgIDTCApHkllMVKXq7dD7y+/oM4Z2AdAqZgl2TCHYcaSpjK1wIGQgMM\\\n",
       "IGl52cEL9DEbRANrOBHoY6UgzhlYi4ApWM1MuKPZUMJUvhYwGK4BBpC8NKcLSD0zQTSwhtOBPpZw\\\n",
       "cM4QNuMvBEzBKmbCHc2GEqbytYDBcAQYQNJa3gheoE9XEA1Szw+BPk7MmVg8ptKGUuVU5ahifYXC\\\n",
       "O8LavHuzwjvCWrFuhXKqcrS0Yak6D3eafg0A3mU23LFpZ5OrXwsYDA0wgKQFNdAnmSAaWMMvgT6p\\\n",
       "njOEzQAYTCq3S0Hdb4A70QADSFpQA30SCaKBNfwW6JPqOUPYDIDBpHK7FNT9BrgTDTCApAU50Kev\\\n",
       "IJrzTj1PaUG8MNpCaUpT3ql5vg30SeWcIWwGQCLMntFkJpQwla8FDIYGGEDy6PUkSYZhSJLePPCm\\\n",
       "DBkOV+Nthgy9deAtp8uwTwrnzFDCZgAER0leSdJnM5kNJUzlawGDoQEGkLQghmB16StYqO3dNqfL\\\n",
       "8oW2d9t8G9CUyjlD2AyARJgJdzQbSpjK1wIGQwMMIGlBDbNIJFgI1vBbQBNhMwDcKJlwx6GGEqby\\\n",
       "tYCB0AADSFpQwyySCRaCNfwS0ETYDAA3SiTc0apQwlS+FjCQ4U4XAMB78k7NU3hHOOnlvByCZSZY\\\n",
       "CNZY3bpaKy9Z6elT4VI5Z/Kn5Jt6LcJmgGDqCndceclK1W2pU9POJnUc6lDWiCwVTC1QycwSy7a/\\\n",
       "qXwtoD80wACSF5C8p0g0olUtq9S8q1nb3t7Gac8OiR+J6/za83XWSWd5dwcphXOmJK9EdzffndR4\\\n",
       "JWwGgPTvcEe7TcycqPI55SqfU56S1wOORQMMIGkt7f4OwYrFYyprLFN9az1Nr0u0vdvWHZJ1V9Nd\\\n",
       "Ks4tVnVRtWdOkUvlnOkKm6ltqU14GcJmgOAa6DPPq9tcYCBcAwwgaX4O2SHoyv28GJCV6jlD2AyA\\\n",
       "RCTymefFbS4wEBpgAEnzc8gOQVfe4aWArFTPGcJmACQimc88L21zgYHQAANIWl52nqnl3B6CRdCV\\\n",
       "96xuXa1INOJ0GYPKOzX1c6YrbKZtWZsq51WqcFqhZk+arcJphaqcV6m2ZW2qWVxD8wsElJnPPK9s\\\n",
       "c4GBcA0wgOSlOV2AtbrCrla3rua0Z4/xTECWg8FxhM0A6EtdS13Sn3nxI3HVbaljewJP4wgwgKS1\\\n",
       "vOGPEKxYPKbShlLlVOWoYn2Ftu/d7nRJMKErHGvFuhXKqcrR0oal6jzc6XRZPfg9OA6A95i93Kdp\\\n",
       "Z5O1hQApxhFgAEnzQwhWV/AH1/v6S1dYy8t7XtaaG9coI5ThdEmS/DFnAPgL2yUEFUeAASTNDyFY\\\n",
       "hF35m9vCWvwwZwD4C9slBBUNsIXa29u1bNkyfehDH1JGRoYmTJig8847T1/96lf7fPxDDz2kWbNm\\\n",
       "KTMzUxMmTNBll12mjRs3prhqIHlOBPpYibCrYHBTWItfg+MAeFeiP5V2vIKpBdYWAqQYDbBFNm3a\\\n",
       "pA9/+MP6wQ9+oFAopCuuuEKzZ8/Wnj17dP/99/d6/PLly3XLLbfor3/9qxYsWKBZs2YpHA5r7ty5\\\n",
       "evrppx34C4AkOBjoYwUzwR/wnq6wFlfwWXAcAO8rySvp92fS+hNKD6lkZolNFQGpQQNsgX/961+6\\\n",
       "7LLLdPDgQT311FPaunWrfvGLX+h3v/uddu7c2euo7rp161RVVaUTTzxRf/7zn/W///u/amxs1IYN\\\n",
       "GzRs2DAVFxdr7969Dv01wOC8HujDqc/B4ZawFr8ExwHwj+zMbC3JXZLUMsW5xe5M2geSQANsgTvv\\\n",
       "vFP79u3Tvffeq09+8pO97p81a1aP/7/vvvskSRUVFTrzzDO7b7/gggv0uc99Tvv379eDDz5ob9HA\\\n",
       "EHg9OMMtdcB+bnmvvT5nAPhT9aLqhE+Fzp+Sr+qiapsrAuxHAzxEe/fu1S9/+UuNHTtWn/3sZwd9\\\n",
       "fGdnp5555hlJ0jXXXNPr/q7bGhoarC0UsJDXgzPcUgfs55b32utzBoA/ZYQytObGNSrNK+33dOhQ\\\n",
       "ekileaVqvKlRo4aPSnGFgPX4GaQh+uMf/6iDBw9qwYIFCoVCeuKJJ/Tcc88pHo/rrLPO0qc//WlN\\\n",
       "nPjvU0W2bdumgwcP6uSTT9akSZN6PV9e3tGglJdeeillfwOQrLzsPIV3hJNezi2BPvlT8k3VD+9x\\\n",
       "S1hL3qnenjMA/CsjlKGaxTVaeclK1W2pU9POJnUc6lDWiCwVTC1QycwSTnuGr9AAD9HWrVslSRMn\\\n",
       "TtScOXO0adOmHvd//etf1+rVq3XttddKkl5//XVJ6rP5laTRo0dr3Lhx2rt3rzo6OpSVxbf/cCGP\\\n",
       "B/qU5JXo7ua7CcLyOVeFtXg8OA6A/03MnKjyOeUqn1PudCmArTgFeoi6wqoeeughvfTSS6qrq9Nb\\\n",
       "b72l1157TcuXL9eBAwd00003dR/RjUajkqQTTjih3+ccPXp0j8cOZsaMGX3+2759+1D+NKBfXg/0\\\n",
       "MRP8Ae9xU1iL14PjAADwCxrgIXr//fclSYcPH9b999+vW2+9VSeddJKmTp2q++67T9dcc40OHTqk\\\n",
       "e++9V5JkGEcPA6Sl9X8IresxgFv5IdAnmeAPeI/bwlr8MGcAAPADToEeoq5TlNPT03XLLbf0uv/W\\\n",
       "W2/VE088oaamph6PP3DgQL/P+d5770mSMjMzE6qh6zTs482YMSOh5YFk+SHQpyv44/bG27W6dTWn\\\n",
       "Q/tEKD2k4txiVRdVuyqsxQ9zBgAAP+AI8BBNnTpVkpSdna2RI0f2e/+bb74pSZo8ebIkaffu3X0+\\\n",
       "34EDB7Rv3z6NGzeO63/hWnmn5plazm2BPl3BH23L2lQ5r1JzJ89VmtcvcA6YNKXpvFPPU+G0QlXO\\\n",
       "q1TbsjbVLK5xVfMrHQ2OM8NtcwYAAK/jCPAQzZw5U9LRa4ENw+h1avOePXsk/fto7vTp0zVy5Ei9\\\n",
       "9dZb2r17d68wrJaWo9eJnXvuuXaXDpjnw7P0DcPQPzv+KcOPf5yPGTL05oE3NSFjgtOlDMyl36tE\\\n",
       "ohGtalml5l3NpL4CAAKBI8BDdM455+gDH/iAYrGY/vSnP/W6v+vU566fN8rIyNC8efMkSU888USv\\\n",
       "x3fddvnll9tUMTB0fgn0icVjKm0oVU5VjirWV2j7XoLjvKjt3TaFd4S1Yt0K5VTlaGnDUnUe7nS6\\\n",
       "rB7cFhx3/NgP7whr8+7Nrl+PAAAMFQ2wBb72ta9Jkr785S/r7bff7r79xRdf1H333SdJ+tznPtd9\\\n",
       "+/LlyyVJ3/72t/Xqq692375p0ybV1NRozJgxKilxyU93AH3wQ6BPLB5T0aNFqm2p5fpfH4kfieuB\\\n",
       "lge06JFFisVjTpfTzU1zJpGx79b1CADAUNEAW+C2227Ttddeq+eff17Tp0/X4sWLdckll+jCCy/U\\\n",
       "vn37dNttt+maa67pfvyCBQtUVlamPXv2KDc3V1dddZUuu+wyzZ07V/F4XA8++KAmTHD56XwIND8E\\\n",
       "+pQ1lql5V7PTZcAmzbuadXvj7U6X0c1NcyaZse+29QgAwFDRAFsgPT1dP//5z/Xf//3fmjJlitat\\\n",
       "W6fnn39eH/vYx/TQQw/pgQce6LXMD37wA61evVof/vCHFQ6HtXHjRs2fP1/Nzc26+uqrHfgrgMR5\\\n",
       "PQSrPdqu+tZ6p8uAzVa3rlYkGnG6DEnumTNmxr6b1iMAAENFCJZF0tPT9YUvfEFf+MIXEl5myZIl\\\n",
       "WrJkiX1FAXbxYE7UsWE/297exmnPARA/Etf5tefrrJPOcj7YyYI5Y0VgVV1LXdJj31XrMSC8Hk7m\\\n",
       "9foB+FuaYRge3JVFIrp+B7i/3wkGzFr48EKFd4STXq5wWqHW3rzWhor6F4vHVNZYpvrWepregHPy\\\n",
       "N4KHMmd+df2vBhzDyfxdZusw+3pIzmDbK7eve6/XD6QC++fO4xRoAElzU6DPQAi6wrGcDHYyO/b3\\\n",
       "H9xvaWCVFXOQgCx7eD2czOv1AwgOGmAASXNToM9ACLpCX5wIdjI79v/57j8tDayycg4SkGUtr4eT\\\n",
       "eb1+AMFBAwwgaXnZ7gj0GQhBVxhIqoOdzM6ZN6JvJPX4wf6u/Cn5puow+3pIjNfDybxeP4BgoQEG\\\n",
       "UiQSjahyQ6UWPrxQF9RdoIUPL9Q9z97jzR2ANKcL6Nux63hW7SxOe0a/uoKdUjYPTc6ZI8aRpB4f\\\n",
       "PxJX3Za6fu8vyStRKD1krhgTr3csX20DLWY2nCzRdW83r9cPIFhogAGbxeIxlTaUKqcqRxXrKxTe\\\n",
       "Edbm3ZsV3hHWinUrlFOVo6UNS9V5uNPpUhPW8kaLqeVe+NcLFldyVF/ruO3dNlteC/7R9m5byuah\\\n",
       "2TljRtPOpn7vy87M1pLcJSl7Pcmf20Crmb1UY7B1nyperx9AsNAAAzbyayiIm0KwCLqCFeyeh6kM\\\n",
       "gBvstaoXVVt6KvRAr+fXbaDV3LRNNcPr9QMIFhpgwEZ+DQVxUwgWQVewkl3zMJUBcIO9VkYoQ2tu\\\n",
       "XKPSvFJLToce6PX8ug20mpu2qWZ4vX4AwUIDDNjEz6Egeae6IwSLoCvYwY55aDYEy4yCqQWDPiYj\\\n",
       "lKGaxTVqW9amynmVKpxWqJwxOZa+np+3gVYze0Q+kfc6FbxeP4BgoQEGbOLrUBDD6QKOMrOOgcHY\\\n",
       "Mg9NhmClpyX3MR1KD6lkZknCj5+YOVHlc8q19ua1+r/b/i/pI8IDvZ6vt4EWMxNOlux7bSev1w/v\\\n",
       "IEwPVqABBmzi51CQlnZ3hGBx6jPsYvU8NBuCdWrmqUk9vji3WBMzJ5p6LTMBWQO9np+3gVazet2n\\\n",
       "mtfrh/sRpgcr0QADNvFzKIhb/jYvrCt4k1vG6uljTk/49NL8KfmqLqo29TpdkgnIGuz13LKd8Aor\\\n",
       "170TvF4/3IswPViNBhiwiZ9DQdzyt3lhXcGb3DJWx44cO2hgVSg9pNK8UjXe1KhRw0cNpcyEArIS\\\n",
       "fT23bCe8wsp17wSv1w/3IkwPVhvudAGAX+VPyVd4Rzjp5bwQCpKXnWfqb7M6BMvsOgYGY/U8HMqc\\\n",
       "6QqsWnnJStVtqVPTziZ1HOpQ1ogsFUwtUMnMEktPJbXq9fy8DbRLqt9rq3m9friP2TC9lZesZKyh\\\n",
       "X2mGYbgkzgZWmzFjhiRp69atDlcSTO3Rdk2umpxUCEwoPaS2ZW2u32jf+Yc79d0/fjfp5b5+8dd1\\\n",
       "z/x7LKvDzDoGBmPHPHTLnEklP28DgVSIRCNa1bJKzbuaA/tFQuWGSlWsr0h+uXmVKp9TbkNFQ8f+\\\n",
       "ufM4BRqwiZ9DQcwG+lgdgmVmHQODsWMeumXOpJKft4GAnQh8+jfC9GAHGmDARn4NBXFTuE0y6xgY\\\n",
       "jF3z0E1zJpX8ug0E7ELgU09B3XbCXjTAgI38GgripnCbRNZxelq60vvZ3A10X3/MPl+60vv9XdcB\\\n",
       "7zNRox3M1m/185ldVwPdZ/c8dNOcSSW/bgMBuxD41FNQt52wFyFYgM38GArilhCsLomsY0lJ33fF\\\n",
       "h67Qr1/5tWXPZ8V9tS/Wauf+nbasx76clnWaZpw8w3frMdXz0G1zJpX8uA0E7EDgU2+E6cEOhGD5\\\n",
       "GBfZwy5BDPRxC7Pr3izeM2swZwAMxo+BT0PlxzA99s+d5/w5dQA8J4iBPm5hdt2bxXtmDeYMgMEQ\\\n",
       "+NQbYXqwAw0wgKQRSuGcVK9D3jNrMGcADIbtRN8I04PVaIABJI1QCuekeh3ynlmDOQNgMGwn+kaY\\\n",
       "HqxGAwwgaXmn5plazg+BPk7Lyza37s3iPbMGcwbAYMz+pF8QAp+6wvTalrWpcl6lCqcVavak2Sqc\\\n",
       "VqjKeZVqW9ammsU1NL9ICCnQAJJHdJ5z0pwuAKYwZwAMoiSvRHc335104FNXwn0QTMycqPI55b4N\\\n",
       "/UJqcAQYQNJa2gn0cQohWN7EnAEwGAKfgNSgAQaQNII6nEMIljcxZwAkgsAnwH40wACSRlCHcwjB\\\n",
       "8ibmDIBEEPgE2I8GGEDSCPRxjtmQFLOCEK6SCmbDy5gzQPAQ+ATYixAsAMkj0McxZkJSzApauIqt\\\n",
       "CC8DkCQvBD5FohGtalml5l3N6jjUoawRWSqYWqCSmSVcmwzXogEGkDQCfZzTFZJS21Jr+2sRrmId\\\n",
       "s+FlzBkAbhSLx1TWWKb61vpeX8iGd4R1V9NdKs4tVnVRNUeq4TqcAg0gaQT6OCuZkBSzCFexFnMG\\\n",
       "gF/E4jEVPVqk2pbafs9Gih+J64GWB7TokUWKxWMprhAYGA0wgKQR6OOsREJS0tPSld7PJj5d6UpP\\\n",
       "6/s+wlXswZwB4BdljWVq3tWc0GObdzXr9sbb7S0ISBKnQANIWl52nsI7wkkvR6CPdbpCUlZeslJ1\\\n",
       "W+rUtLOp1/VXkkzdx2nP1mPOAPCD9mi76lvrk1pmdetqrbxkJZ8tcA0aYDiC0AR72b5+CfRxjcFC\\\n",
       "UszeB4v5bM6wDQeS45c5U9dSl3QIY/xIXHVb6vi8gWukGYZBnqtPzZgxQ5K0detWhyv5t4FCE6Sj\\\n",
       "p18SmmBeqtbvwocXmjqaVTitUGtvXmv6dQGv8sucYRsOJMdvc8Yv2zInuXH/PGg4AoyU6QpNGOi6\\\n",
       "ka7QhJf3vKw1N65RRigjhRV6WyrXL4E+QHL8MGfYhgPJ8eOc8cO2DCAECylDaIK9Url+CfQBkuOH\\\n",
       "OcM2HEiOH+eMH7ZlAA0wUsJsaEIkGrGnIJ9J9frNy84ztRyBPggqr88ZtuFAcvw6Z8z+BF/B1AJr\\\n",
       "CwGGgAYYKTGU0AQMLuXr12eBPoDtPD5n2IYfDTGq3FCphQ8v1AV1F2jhwwt1z7P3uL5hQd/sfj/9\\\n",
       "OmdK8kr6/fm9/oTSQ92/PgC4AQ0wUiLRU4CO17SzydpCfCrV67fljRZTy73wrxdMLQd4ndfnTJC3\\\n",
       "4bF4TKUNpcqpylHF+gqFd4S1efdmhXeEtWLdCuVU5Whpw1J1Hu50ulQkIFXvp1/nTHZmtpbkLklq\\\n",
       "meLcYk8lXcP/aICREoQm2CvV65f3E0iO1+eM1+s3qyvEqLaltt+jeV0hRoseWaRYPJbiCpGMVL6f\\\n",
       "fp4z1YuqEz4VOn9KvqqLqm2uCEgODTBSgtAEe6V6/fJ+Asnx+pzxev1m+THEKMgIi7RGRihDa25c\\\n",
       "o9K80n5Phw6lh1SaV6rGmxo98fNOCBYaYKQEoQn2SvX6zTvV24E+QKp5fc4EcRvu1xCjoEr1++n3\\\n",
       "OZMRylDN4hq1LWtT5bxKFU4r1OxJs1U4rVCV8yrVtqxNNYtraH7hSvwOMFKiJK9EdzffnVQgBKEJ\\\n",
       "iUv5+jXMLfbT1p/qhX+9oIKpBbriQ1foVy//Ss27mtVxqENZI7JUMLWgu6ZVLascv48aqdGq19r6\\\n",
       "5lZzk8YlnNyGR6KRftexndcVDiXEqHxOuU1VwaxUv59B2e+ZmDlR5XPKGfPwlDTDMEzuysLtZsyY\\\n",
       "IUnautUdO16lDaWqbalN/PF5papZXGNjRf6SyvW78OGFCu8Im1p2MGlKU1pamo4YR3rdl56WLhnS\\\n",
       "EfW+z47l+jPQ85l9LbP1m6nR7GtZvR7tWB9mn9NMjWbXVTIKpxVq7c1rh/QcVkn1NjwWj6mssUz1\\\n",
       "rfV9NhGh9JCKc4tVXVRty1Ems9s5N71n+Dcn3k/2e9AXt+2fBxGnQCNlCE2wVyrXr50hHYaMfhuU\\\n",
       "I8aRfhsKO5brz0DPZ/a1zNZvpkazr2X1erRjfZh9TjM1ml1XyXBTIE4qtzFuCJ/yc4hREDnxfrLf\\\n",
       "A7gTDTBShtAEe6Vy/XohpAPwAzfNtVRuY9wQPuXnEKMgcuL9ZL8HcCeuAUZKdYUmrLxkpeq21Klp\\\n",
       "Z1NKr+nyu1St37xT82w7BRrAv7klBKtLKrYxZsOKVl6y0tLPj/wp+aa2c14JMQoap95P9nsA9+Ea\\\n",
       "YB/jGgPvcCrkxaw7w3fquxu/63QZgO99/eKv65759zhdRkpVbqhUxfqK5JebV2lpEE97tF2TqyYn\\\n",
       "HWLUtqzNldvtoOP9hFuwf+48ToEGHBSLx1TaUKqcqhxVrK9QeEdYm3dvVnhHWCvWrVBOVY6WNixV\\\n",
       "5+FOp0vtoaW9xekSgEB44V8vOF1CyiV66vPxmnY2WVpHdma2luQuSWqZ4tximiWX4v0E0IUGGHCI\\\n",
       "G0JezCLkBUiNIM41N4VPEWLkL7yfACQaYMAxbgh5MYuQFyA1gjjX3BQ+RYiRv/B+ApAIwQIc4ZaQ\\\n",
       "F7PMhokASE4QA5XcFj5FiJG/8H4CIATLx7jI3r3cEvJilpkwEQDJCWoAD2FFAPyM/XPncQo04AC3\\\n",
       "hLyYZSZMBEByghrAQ1gRAMBONMCAA9wU8mJWMmEiAJIT9AAewooAAHahAQYc4KaQF7MSCRNJT0tX\\\n",
       "epKbmXSlKz2t72UGej47luu3xoGez2yNJus3VaPZdWX1erRhfZh9TlM12rCuCOA5irAiAIBdCMEC\\\n",
       "HOC2kBezEgkTkdTnfVd86Ar9+pVfJ7VMqu+jRmp0okZO5T2KsCIAgB0IwfIxLrJ3L0JeAGDoItGI\\\n",
       "VrWsUvOuZppj+A7j25/YP3ceDbCPMcHcrbShVLUttYk/Pq9UNYtrbKwIALwhFo+prLFM9a31fX6R\\\n",
       "GEoPqTi3WNVF1ZweDc9hfPsb++fO4xpgwCGEvABA8mLxmIoeLVJtS22/Z9HEj8T1QMsDWvTIIsXi\\\n",
       "sRRXCJjH+AbsRwMMOISQFwBIXlljWcI/Jde8q1m3N95ub0GAhRjfgP04BdrHOMXCOyLRCCEvADAI\\\n",
       "8hPgZ4zvYGD/3HmkQMM2hDckbmLmRJXPKVf5nHKnSwEASQNvwyU5sn2va6lLqjmQjp4uWrelju0r\\\n",
       "XI/xDaQGR4B9zKlvmAhvAADvGmwbnqY0paWl6YhxpNd9dm/fFz680NRPyBVOK9Tam9daXg9gJcZ3\\\n",
       "MHAE2HkcAYalusIbBrp+pSu84eU9L2vNjWuUEcpIYYUAgP4ksg03ZKi/787t3r53HOpI6XJAKjG+\\\n",
       "gdQgBAuWIrwBALwrmW34QOzavmeNyErpckAqMb6B1KABhmXao+2qb61PapnVrasViUbsKQgAkDAz\\\n",
       "2/CB2LF9T/Sn445XMLXA0joAOzC+gdSgAYZlhhLeAABwlplt+EDs2L6X5JX0+7Nx/Qmlh7qDuwA7\\\n",
       "RaIRVW6o1MKHF+qCugu08OGFuufZexL+IojxDaQGDTAsY/a0uaadTdYWAgBImhWnPh/P6u17dma2\\\n",
       "luQuSWqZ4txifnkAtorFYyptKFVOVY4q1lcovCOszbs3K7wjrBXrViinKkdLG5aq83DngM/D+AZS\\\n",
       "gwYYliG8AQC8y45tsR3PWb2oOuFTRfOn5Ku6qNryGoAuXcFxtS21/Z5B0RUOt+iRRYrFYwM+H+Mb\\\n",
       "sB8NMCxDeAMAeJcd22I7njMjlKE1N65RaV5pv6eLhtJDKs0rVeNNjfzcHmxldfgn4xuwHz+DBMvk\\\n",
       "T8k39ft1hDcAgPPMbsMHYtf2PSOUoZrFNVp5yUrVbalT084mdRzqUNaILBVMLVDJzBJOC4XtzIZ/\\\n",
       "rrxk5YDjk/EN2CvN6O/H/OB5qf6h7fZouyZXTU4qRCWUHlLbsjY25ABgk0g0olUtq9S8q3nAnWgz\\\n",
       "2/CBsH2H31VuqFTF+orkl5tXqfI55TZUBC9I9f45euMUaFiG8AYAcI9kg3nMbMMHwvYdfkf4J+BN\\\n",
       "NMCwFOENAOA8s8E8yWzDB8L2HUFA+CfgTTTAsBThDQDgPLPBPIlsw9OVrvS0vncf2L4jSAj/BLyJ\\\n",
       "a4B9zOlrDCLRCOENAJBiVuUxDLQNl8T2HYHHNcAww+n9c9AA+xoTDACCx+xOec6YHJ110lk0simU\\\n",
       "aEBZUHhtfRD+CTPYP3ceDbCPMcEAIHgWPrxwyD9nFEoPqTi3WNVF1ZzKbINYPKayxjLVt9b32TwF\\\n",
       "bf17eX2UNpSqtqU28cfnlapmcY2NFcHt2D93HtcAAwDgI1YE7PQVkAVrmA0o8yuvrw/CPwHvoQEG\\\n",
       "AMBHrAzYOTYgC9YwG1DmV15fH4R/At5DA2yRzZs36+qrr1Z2drZCoZAmTJig+fPn64knnuh3mYce\\\n",
       "ekizZs1SZmamJkyYoMsuu0wbN25MYdUAAL+x4meMjrW6dbUi0YilzxlU7dF21bfWJ7WMn9e/X9ZH\\\n",
       "RihDNYtr1LasTZXzKlU4rVCzJ81W4bRCVc6rVNuyNtUsrqH5BVyCBtgCjz/+uC666CI99dRTysnJ\\\n",
       "0dVXX62PfOQjampq0rXXXqs777yz1zLLly/XLbfcor/+9a9asGCBZs2apXA4rLlz5+rpp5924K8A\\\n",
       "APhBSV5Jv0eizIgfiatuS51lzxdkdS11SQUmSf5e/35bHxMzJ6p8TrnW3rxWm0o2ae3Na1U+p5zA\\\n",
       "K8BlaICH6PDhw/riF7+oI0eO6Oc//7mef/55/fznP9eGDRv03HPPadSoUbr33nu1ffv27mXWrVun\\\n",
       "qqoqnXjiifrzn/+s//3f/1VjY6M2bNigYcOGqbi4WHv37nXwrwIAeFV2ZraW5C6x9DmbdjZZ+nxB\\\n",
       "leipvsfz6/pnfQBwAg3wEG3btk1vvfWWzjrrLF133XU97rvgggt06aWXyjAMvfjii92333fffZKk\\\n",
       "iooKnXnmmT0e/7nPfU779+/Xgw8+mJo/AADgO8kE8yTCimAtmF+Pfl3/rA8ATqABHqKRI0cm9LgJ\\\n",
       "EyZIkjo7O/XMM89Ikq655ppej+u6raGhwaIKAQBBk0gwTzKsDNYKMrPr0a/rn/UBwAk0wEM0bdo0\\\n",
       "TZs2Tdu2bdMvf/nLHvdt2rRJv//97/WBD3xAc+fOlXT0iPHBgwd18skna9KkSb2eLy8vT5L00ksv\\\n",
       "2V88AMC3+grmyRmTY+q5CqYWWFtcQJk9Ku/X9c/6AOCENMMwDKeL8Lpnn31Wixcv1v79+/Wxj31M\\\n",
       "Z5xxht544w0999xzmjVrlh5++GF98IMflCT9+te/1pVXXqmZM2eqpaWlz+cbP3689u3bp3fffVdZ\\\n",
       "Wea/5eSHtuFHkWhEq1pWqXlXszoOdShrRJYKphaoZGYJQSMBwjgwpz3arslVk5MKHgqlh9S2rI31\\\n",
       "agHWf0+sj+AK8jac/XPnDXe6AD+YM2eOmpub9clPflIvvPCCXnjhBUlSVlaWFixYoNNOO637sdFo\\\n",
       "VJJ0wgkn9Pt8o0eP1r59+xSNRhNqgLsm0vG2b9+uM844I5k/BXCtWDymssYy1bfW99pZCu8I666m\\\n",
       "u1ScW6zqomp+asLHGAdD0xWQVdtSm/AyxbnFvt8hTRXWf0+sj+BhGw434BRoCzz22GP6+Mc/rsmT\\\n",
       "J+tPf/qTotGoXnnlFd1www369re/rQULFigePzrJuw64p6Wl9ft8HJQHeorFYyp6tEi1LbX9HimI\\\n",
       "H4nrgZYHtOiRRYrFYymuEKnAOLBGMgFZ+VPyVV1UbXNFwcL674n1ERxsw+EWNMBD9Oqrr+qWW27R\\\n",
       "ySefrN/+9reaNWuWRo8erTPPPFM1NTVavHixNm3apNWrV0tS9xHdAwcO9Puc7733niQpMzMzoRq2\\\n",
       "bt3a5z+O/sIvyhrLEv65jOZdzbq98XZ7C4IjGAfWSCQgK5QeUmleqRpvauQojMVY/z2xPoKDbTjc\\\n",
       "gmuAh+hb3/qWvvnNb+qzn/2samt7n8LzyCOP6Oabb9YNN9ygn/3sZ2ptbdXMmTN18skn68033+z1\\\n",
       "+AMHDigzM1Pjxo0b8m8Bc40B/IBrxCAxDuwSiUZUt6VOTTubAncdnhuw/ntiffgX2/B/Y//ceVwD\\\n",
       "PES7d++WJI0ZM6bP+7tuf+eddyRJ06dP18iRI/XWW29p9+7dvZKgu4Kxzj33XLtK9qwgByYEWV1L\\\n",
       "XVIfmNLRU6jqttSpfE65TVUh1RgH9piYOVHlc8pZRw5h/ffE+vAvtuFwE06BHqLs7GxJ6g6+Ot7z\\\n",
       "zz8vSZo6daokKSMjQ/PmzZMkPfHEE70e33Xb5ZdfbnWpnhWLx1TaUKqcqhxVrK9QeEdYm3dvVnhH\\\n",
       "WCvWrVBOVY6WNixV5+FOp0uFDRI9Xep4TTubrC0EjmIcAIB3sQ2Hm9AAD9GVV14pSdqwYYN+/OMf\\\n",
       "97hv8+bNqqqqkiRdc8013bcvX75ckvTtb39br776avftmzZtUk1NjcaMGaOSkhK7S/cEAhPQcagj\\\n",
       "pcvBnRgHAOBdbMPhJjTAQ5SXl6evfOUrkqQvfOEL+shHPqJPf/rTuvjii3XRRRfpwIEDKi0t1YIF\\\n",
       "C7qXWbBggcrKyrRnzx7l5ubqqquu0mWXXaa5c+cqHo/rwQcf1IQJE5z6k1yFwARkjTD3W9hml4M7\\\n",
       "MQ4AwLvYhsNNaIAt8L3vfU9PPfWUFi5cqPb2dj399NP629/+pvz8fD366KOqqanptcwPfvADrV69\\\n",
       "Wh/+8IcVDoe1ceNGzZ8/X83Nzbr66qsd+Cvcpz3arvrW+qSWWd26WpFoxJ6C4IhEfx7jeAVTC6wt\\\n",
       "BI5iHACAd7ENh5uQAu1jXkyZOzboatvb29T2blvSz1E5r5LABB8hOdL7rAiwYxwAgHexDf83L+6f\\\n",
       "+w1HgOEKfQVdmWl+JQIT/CY7M1tLcpcktUxxbrHvPjC9yMoAO8YBAHgX23C4CQ0wHJdI0FUyCEzw\\\n",
       "n+pF1QmfPpU/JV/VRdU2V4TB2BFgxzgAAO9iGw63oAGG45IJukoEgQn+kxHK0Job16g0r1Sh9FCf\\\n",
       "jwmlh1SaV6rGmxo1avioFFeI49kRYMc4AADvYhsOt+AaYB/zwjUGZq4JGQzXAPtbJBpR3ZY6Ne1s\\\n",
       "Mn09KeyVimu9GAcA4F1B3oZ7Yf/c72iAfcwLE6xyQ6Uq1ldY9nx+DUwAvMTsvObLKwCA33lh/9zv\\\n",
       "OAUajrLy1GeJwATADczOawLsAACA3WiA4SgrA6sITADcwey8JsAOAADYjQYYjrIisIrABMBdzM5r\\\n",
       "AuwAAIDdhjtdAIItf0q+wjvCSS+XMyZHZ510VmACEwAvMTuvC6YWWF8MAADAMQjB8jEvXGSfirRY\\\n",
       "AKnFvAYAoG9e2D/3O06BhqOyM7O1JHdJUssQdAW4G/MaAAC4FQ0wHFe9qFr5U/ITeixBV4A3MK8B\\\n",
       "AIAb0QDDcRmhDK25cY1K80oVSg/1+RiCrgBvYV4DAAA34hpgH/PiNQaRaER1W+rUtLNJHYc6lDUi\\\n",
       "i6ArwOOY1wAAHOXF/XO/oQH2MSYYgiYSjWhVyyo172qm0fI53muYxdgB4CT2z51HA+xjTDAERSwe\\\n",
       "U1ljmepb6/tMHg6lh1ScW6zqompOtfU43muYxdgB4AbsnzuPBtjHmGAIglg8pqJHi9S8q3nQx+ZP\\\n",
       "ydeaG9coI5SRgspgNd5rmMXYAeAW7J87jxAsAJ5W1liW0E6tJDXvatbtjbfbWxBsw3sNsxg7AIAu\\\n",
       "NMAAPKs92q761vqkllndulqRaMSegmAb3muYxdgBAByLBhiArSLRiCo3VGrhwwt1Qd0FWvjwQt3z\\\n",
       "7D2W7FzWtdT1eS3fQOJH4qrbUjfk10ZqufW9tnN8wxpuHTsAAGfQAAOwRSweU2lDqXKqclSxvkLh\\\n",
       "HWFt3r1Z4R1hrVi3QjlVOVrasFSdhztNv0aipzQer2lnk+nXhDPc9l6nYnzDGm4bOwAAZw13ugAA\\\n",
       "/pNI4Ez8SFwPtDygl/e8bDpwpuNQh6n6zC4H57jpvU7V+IY13DR2AADO4wgwAMulKnAma0RWSpeD\\\n",
       "c9z0XhOo5C1uGjsAAOfRAAOwVCoDZ/Kn5Ce9jCQVTC0wtRyc45b3mkAl73HL2AEAuAMNMABLpTJw\\\n",
       "piSvRKH0UFLLhNJDKplZkvRrwVluea8JVPIet4wd+APBd4D30QADsFQqA2eyM7O1JHdJUssU5xZr\\\n",
       "YubEpF8LznLLe02gkve4ZezA2wi+A/yDBhiApVIdOFO9qDrhUxzzp+Sruqja1OvAeW54rwlU8iY3\\\n",
       "jB14V1fwXW1Lbb9ngHQF3y16ZJFi8ViKKwSQDBpgAJZKdeBMRihDa25co9K80n5Pcwylh1SaV6rG\\\n",
       "mxo1avgoU68D57nhvSZQyZvcMHbgXQTfAf6SZhiG4XQRsMeMGTMkSVu3bnW4EgRJ5YZKVayvSH65\\\n",
       "eZUqn1M+pNeORCOq21Knpp1N6jjUoawRWSqYWqCSmSWczugzTr3XTo5vWIPtBJLRHm3X5KrJSV37\\\n",
       "H0oPqW1ZG+MJfWL/3Hk0wD7GBIMT2FmAnzG+gWDhS6+BRaIRrWpZpeZdzXyhlCD2z53HKdAALEXg\\\n",
       "DPyM8Q0EC8F3fSMUDF5GAwzAcgTOwM8Y30BwEHzXG6Fg8DoaYACWI3AGfsb4BoKD4LveCAWD13EN\\\n",
       "sI9xjQHcgMAZ+BnjG/A3rgHuiRyEoWP/3Hk0wD7GBPM/L4dPeLl2AEAw0PD1xBcCQ8f+ufNogH2M\\\n",
       "CeZfsXhMZY1lqm+t7/NDOZQeUnFusaqLql13+qWXawcABE9pQ6lqW2oTf3xeqWoW19hYkXMWPrxQ\\\n",
       "4R3hpJcrnFaotTevtaEi72H/3HlcAwx4jJfDJ7xcOwAgmAi++zdCweAHNMCAx3g5fMLLtQMAgong\\\n",
       "u38jFAx+QAMMeEh7tF31rfVJLbO6dbUi0Yg9BSXBy7UDAIItI5ShmsU1alvWpsp5lSqcVqjZk2ar\\\n",
       "cFqhKudVqm1Zm2oW1/i6+ZWU8JHw4xVMLbC2EGAIhjtdAIDE1bXUJRXEIR09pbhuS53j4RNerh3B\\\n",
       "RmAbgC4TMyeqfE55YD+XSvJKdHfz3UmHgpXMLLGxKiA5HAEGPCTR04eP17SzydpCTPBy7QimWDym\\\n",
       "0oZS5VTlqGJ9hcI7wtq8e7PCO8JasW6FcqpytLRhqToPdzpdKgCkRHZmtpbkLklqmeLcYr4shKvQ\\\n",
       "AAMe4uXwCS/XjuAhsA0A+kYoGLyOBhjwEC+HT3i5dgQPgW0A0DdCweB1NMCAh3g5fMLLtSNYCGwD\\\n",
       "gIERCgYvowEGUiQSjahyQ6UWPrxQF9RdoIUPL9Q9z96T1E5zSV5Jv9+29sct4RNerh3BMpTANgD2\\\n",
       "sOIzFPYwDMPpEoCkpBmMWt+aMWOGJGnr1q0OVxJssXhMZY1lqm+t73OnOpQeUnFusaqLqhP6prS0\\\n",
       "oVS1LbUJv35pXqlqFtckVbNdvFw7gmPhwwsV3hFOernCaYVae/NaGyoCgsvqz1BYg/fFPPbPnccR\\\n",
       "YMBGdgTpeDl8wsu1IzgIbAPcgTA6d+J9gdfRAAM2siNIx8vhE16uHcFBYBvgDoTRuRPvC7yOU6B9\\\n",
       "jFMsnNUebdfkqslJ/1h827K2hH8vLxKNqG5LnZp2NqnjUIeyRmSpYGqBSmaWuP4397xcO/ytckOl\\\n",
       "KtZXJL/cvEqVzym3oSIgeFLxGYrk8b4MHfvnzhvudAGAXw0lSCfRneiJmRNVPqfckzvdXq4d/laS\\\n",
       "V6K7m+9OegfPb4FtkWhEq1pWqXlXM19SIeVS8RmK5PG+wA84BRqwSaKnBx2vaWeTtYUASEp2ZraW\\\n",
       "5C5Japni3GLfNIWxeEylDaXKqcpRxfoKhXeEtXn3ZoV3hLVi3QrlVOVoacNSdR7udLpU+Bifoe7E\\\n",
       "+wI/oAEGbEKQDuBdQQ1sI9wGbsFnqDvxvsAPaIABmxCkA3hXUAPbCLeBW/AZ6k68L/ADGmDAJoke\\\n",
       "PTpewdQCawsBYEpGKEM1i2vUtqxNlfMqVTitULMnzVbhtEJVzqtU27I21Syu8U3z2x5tV31rfVLL\\\n",
       "rG5drUg0Yk9BCDQ+Q92J9wV+QAq0j5Ey5yySEgF4CenXcBM+Q92J92Xo2D93HkeAAZsEPUgHgLcQ\\\n",
       "bgM34TPUnXhf4Ac0wICNghqkA8B7CLeB2/AZ6k68L/A6GmDARkEN0gHgPYTbwG34DHUn3hd4HdcA\\\n",
       "+xjXGLhLJBpR3ZY6Ne1sUsehDmWNyFLB1AKVzCzh1CAAjuMaYLgZn6HuxPuSPPbPnUcD7GNMMABB\\\n",
       "FIlGtKpllZp3NbNDlgTCbbyB8Y1UY8xZi/1z59EA+xgTDECQxOIxlTWWqb61vs8mLpQeUnFusaqL\\\n",
       "qjklrx+lDaWqbalN/PF5papZXGNjRejC+EaqMebswf6582iAfYwJBiAoYvGYih4tSijJOH9Kvtbc\\\n",
       "uEYZoYwUVOYtya5Hru9LDcY3Uo0xZx/2z51HCBYAwPPKGssS/hmf5l3Nur3xdnsL8ijCbdyJ8Y1U\\\n",
       "Y8zBzzgC7GN8wwQgCLh21R6E27gD4xupxpizF/vnzhvudAEAECSEiVivrqUuqR01SYofiev82vN1\\\n",
       "1klnuW79u2WMTMycqPI55Y4nPLtlfTjF7Piu21Ln+HsHb2LMwe84AuxjfMMEuAdhIvZZ+PBChXeE\\\n",
       "h/Qcblj/jJGeWB9HmR3fhdMKtfbmtTZUBL9jzNmL/XPncQ0wANisK0yktqW232/V40fieqDlAS16\\\n",
       "ZJFi8ViKK/S2jkMdQ34Op9c/Y6Qn1se/mR3fVswLBBNjDn5HAwwANiNMxF5ZI7Isey6n1j9jpCfW\\\n",
       "x7+ZHd9WzgsEC2MOfkcDDAA2ao+2q761PqllVreuViQasacgH8qfkm/p86V6/TNGemJ99GR2fBdM\\\n",
       "LbC2EAQGYw5+RwMMADYaSpgIElOSV9LvT/aYker1zxjpifXRk5nxHUoPqWRmiU0Vwe0i0YgqN1Rq\\\n",
       "4cMLdUHdBVr48ELd8+w9CX9JxJiD39EAA4CNEj2N83hNO5usLcTHsjOztSR3iaXPmcr1zxjpifXR\\\n",
       "k5nxXZxbHIiEbPQUi8dU2lCqnKocVayvUHhHWJt3b1Z4R1gr1q1QTlWOljYsVefhzgGfhzEHv6MB\\\n",
       "BgAbESaSGtWLqi09FTqV658x0hPro7dkxnf+lHxVF1XbXBHcxurgOMYc/IwGGABsRJhIamSEMrTm\\\n",
       "xjUqzSu15HToVK5/xkhPrI/eEhnfofSQSvNK1XhTo69/Fgp9szo4jjEHP6MBBgAbESaSOhmhDNUs\\\n",
       "rlHbsjZVzqtU4bRC5YzJMfVcqVz/jJGeWB9962t8z540W4XTClU5r1Jty9pUs7iGRiSA7AqOY8zB\\\n",
       "r9IMwzCcLgL24Ie2Aee1R9s1uWpyUqE+ofSQ2pa1cT2VBbyw/r1QYyqxPhAkkWhEq1pWqXlXszoO\\\n",
       "dShrRJYKphaoZGZJwuO5ckOlKtZXJP3alfMqVT6nPOnlMDTsnzuPI8AAYCPCRJzlhfXvhRpTifWB\\\n",
       "ILAqsEoiOA5IFg0wANiMMBFnfWf+dzR25NiEHjt25Fh9Z8F3bK6oN8ZIT6wP+JnVgVUExwHJoQEG\\\n",
       "AJsRJuKsO5+5U/sP7k/osfsP7tedf7jT5op6Y4z0xPqAn1kdWEVwHJAcrgH2Ma4xANwnEo2obkud\\\n",
       "mnY2mb7eC4nz4vWkjJGeWB/wEzu2SVwD7C3snzuPBtjHmGBIFStCPAA7sGMIwE3s2CZ58Yu+IGP/\\\n",
       "3HmcAg3ANCtDPAA7EA4DwE3s2CYRHAckhwYYgClWh3gAdiAcBoCb2LVNIjgOSBwNMABTrA7xAOxA\\\n",
       "OAwAN7Frm0RwHJA4GuDjvPjii/rOd76jT33qUzr99NOVlpamUaMG30g89NBDmjVrljIzMzVhwgRd\\\n",
       "dtll2rhx44DLbNy4UZdddpkmTJigzMxMzZo1Sz/96U+t+lMA27RH21XfWp/UMqtbVysSjdhTENCP\\\n",
       "RI+IHK9gaoG1hQCA7N0mZYQyVLO4Rm3L2lQ5r1KF0wo1e9JsFU4rVOW8SrUta1PN4hqaXwQeIVjH\\\n",
       "ueqqq/SrX/2qx20jR45UZ2f/1zAuX75cVVVVysjI0MKFC9XZ2alnnnlGhmHo8ccf1yc/+cleyzz9\\\n",
       "9NO69tprdeTIEc2dO1cnnXSSnnnmGe3bt0/Lli3T/fffP+S/hYvsYaVjg662vb1Nbe+2Jf0cBAsh\\\n",
       "1QiHIaQOcBO2SWD/3Hk0wMf57ne/q/fee0/nn3++zj//fGVnZw/YAK9bt07z58/XiSeeqE2bNunM\\\n",
       "M8+UJG3atEkFBQXKyMjQa6+9pvHjx3cvs3fvXn3gAx/Q/v379eSTT+pTn/qUJCkSiejiiy/WP/7x\\\n",
       "D61bt06XXHLJkP4WJhisEIvHVNZYpvrW+qQ+sPtSOK1Qa29ea1FlQGJKG0pV21Kb+OPzSlWzuMbG\\\n",
       "ilJjsLkbSg+pOLdY1UXVHBECUiio2yQcxf658zgF+jhf+9rXdPfdd+vyyy/XxImDf9N23333SZIq\\\n",
       "Kiq6m19JuuCCC/S5z31O+/fv14MPPthjmVWrVmn//v268soru5tfSZo4caLuvfdeSbLkCDAwVIkE\\\n",
       "XSWDYCE4IYjhMITUAe4VxG0S4CY0wEPQdaqzJF1zzTW97u+6raGhocftv/nNb/pd5hOf+IRGjRql\\\n",
       "P/zhDwOedg2kQjJBV4kgWAhOCGI4DCF1gHsFcZsEuAmnQA8iLS2t31OgW1tbNXPmTJ188sl68803\\\n",
       "e91/4MABZWZmavz48XrnnXe6bx8/frz27dunrVu36uyzz+613Pnnn68XXnhBra2t+uhHP2q6dk6x\\\n",
       "wFCYuU5pMFwDDKdFohHVbalT084m314PyzWGgHcEYZuEntg/d95wpwvwstdff12SNGnSpD7vHz16\\\n",
       "tMaNG6e9e/eqo6NDWVlZevfdd7Vv374Bl5s0aZJeeOEFvf7660NqgIGhqGups7T5DaWHVDKzxLLn\\\n",
       "czNCh9xrYuZElc8p9/UXMWbmbvxIXHVb6ny9XgA3SvU2ic8ngAZ4SKLRqCTphBNO6Pcxo0eP1r59\\\n",
       "+xSNRpWVldW9zEDLjR49usfzD6brm6Tjbd++XWeccUZCzwEcz8pTnyWpOLfY9x+uA4UOhXeEdVfT\\\n",
       "XYQOwXZm527TziYaYMCn+HwC/o0GeAi6zh5PS0sb9DH9/X8iywBOsDKwKgghHl2hQwM1H12hQy/v\\\n",
       "eVlrblyjjFBGCitEUJidu4TUAf7E5xPQEyFYQ5CVdTTQ58CBA/0+5r333pMkZWZm9ljm2PsGW2Yw\\\n",
       "W7du7fMfR38xFFYEVgUpxIPQIbiF2blLSB3gT3w+AT3RAA/B5MmTJUm7d+/u8/4DBw5o3759Gjdu\\\n",
       "XHfjO2bMGI0dO3bA5bpu73p+wAmJ/kTD8XLG5KhwWqEq51WqbVmbahbX+L75bY+2q761PqllVreu\\\n",
       "ViQasacgBJrZuVswtcDaQgA4js8noDca4CGYPn26Ro4cqbfeeqvPZralpUWSdO655/a4vSvYquv+\\\n",
       "Y8Xjcf31r3/VyJEjNX36dBuqBhJTklfS788z9CeUHtLztz2vtTevVfmcct9f89tlKKFDgNXMzt2g\\\n",
       "hNQBQcLnE9AbDfAQZGRkaN68eZKkJ554otf9XbddfvnlPW7/xCc+0e8yv/nNb9TZ2an58+dr1Ch/\\\n",
       "HzWDu2VnZmtJ7pKklglC0FVfhhI6BFiNuQugC59PQG80wEO0fPlySdK3v/1tvfrqq923b9q0STU1\\\n",
       "NRozZoxKSnp+q/7Zz35WY8aM0a9+9Ss99dRT3be/+eab+upXv9rjeQEnVS+qTvh0yiAEXfWH0CG4\\\n",
       "DXMXgMTnE9AXGuDj/Pa3v9Xs2bO7/0nSoUOHetz229/+tvvxCxYsUFlZmfbs2aPc3FxdddVVuuyy\\\n",
       "yzR37lzF43E9+OCDmjBhQo/XmDBhgh588EGlp6frmmuu0SWXXKJrr71W06dP1z/+8Q99+ctf1vz5\\\n",
       "81P6dwN9yQhlaM2Na1SaV9rvKZVBCrrqD6FDcBvmLgCJzyegL/wM0nHeeust/elPf+pxm2EYPW57\\\n",
       "6623etz/gx/8QLm5ufrRj36kcDisUCik+fPnq6KiQhdffHGfr3P11Vdrw4YN+va3v63Nmzfr0KFD\\\n",
       "+vCHP6wvfvGLKi4utv4PA0zKCGWoZnGNVl6yUnVb6tS0s0kdhzqUNSJLBVMLVDKzJPCnTuZPyVd4\\\n",
       "Rzjp5Qgdgp2YuwD4fAJ6SzP40VnfmjFjhqSjP5MEwD7t0XZNrpqcVNBIKD2ktmVtNCAAANvw+eQ+\\\n",
       "7J87j1OgAWCICB0CALgRn09AbzTAAGABQocAAG7E5xPQEw0wAFiA0CEAgBvx+QT0xDXAPsY1BoAz\\\n",
       "ItEIoUMAANfh88l57J87jwbYx5hgAAAAgHuwf+48ToEGAAAAAAQCDTAAAAAAIBBogAEAAAAAgUAD\\\n",
       "DAAAAAAIBBpgAAAAAEAg0AADAAAAAAKBBhgAAAAAEAg0wAAAAACAQKABBgAAAAAEAg0wAAAAACAQ\\\n",
       "aIABAAAAAIFAAwwAAAAACAQaYAAAAABAINAAAwAAAAACgQYYAAAAABAIaYZhGE4XAXtkZWUpHo/r\\\n",
       "jDPOcLoUAAAAIPC2b9+uUCikjo4Op0sJLI4A+9jo0aMVCoWcLkPbt2/X9u3bnS4DLsX4wGAYIxgM\\\n",
       "YwQDYXxgMKkcI6FQSKNHj07Ja6FvHAGG7WbMmCFJ2rp1q8OVwI0YHxgMYwSDYYxgIIwPDIYxEiwc\\\n",
       "AQYAAAAABAINMAAAAAAgEGiAAQAAAACBQAMMAAAAAAgEGmAAAAAAQCCQAg0AAAAACASOAAMAAAAA\\\n",
       "AoEGGAAAAAAQCDTAAAAAAIBAoAEGAAAAAAQCDTAAAAAAIBBogAEAAAAAgUADDNt0dnbqP//zP/Wh\\\n",
       "D31Io0aN0mmnnaZbb71Vu3fvdro0pMB7772n//3f/1VJSYnOPfdcjRkzRqNHj9ZHP/pRrVy5UtFo\\\n",
       "tN9lH3roIc2aNUuZmZmaMGGCLrvsMm3cuDGF1cMJ77zzjk455RSlpaXprLPOGvCxjJFgaW9v17Jl\\\n",
       "y/ShD31IGRkZmjBhgs477zx99atf7fPxjI/g2Lx5s66++mplZ2crFAppwoQJmj9/vp544ol+l2F8\\\n",
       "+MuLL76o73znO/rUpz6l008/XWlpaRo1atSgy5kZBxs3btRll12mCRMmKDMzU7NmzdJPf/pTq/4U\\\n",
       "pIoB2CAWixkXXnihIck49dRTjU9/+tPGrFmzDEnGySefbPzjH/9wukTYrLa21pBkSDJmzJhhXHvt\\\n",
       "tcall15qZGVlGZKMs846y4hEIr2WW7ZsmSHJyMjIMK688krj0ksvNYYPH24MGzbMeOqppxz4S5Aq\\\n",
       "t9xyi5GWlmZIMqZPn97v4xgjwbJx40Zj3LhxhiTj7LPPNj796U8bRUVFxpQpU4xhw4b1ejzjIzh+\\\n",
       "+ctfGunp6YYk42Mf+5hx3XXXGXPmzOm+7Wtf+1qvZRgf/nPllVd27290/Rs5cuSAy5gZB0899ZQx\\\n",
       "bNgwIy0tzcjPzzeuvvrq7m3TsmXL7PjTYBMaYNjiG9/4hiHJuOCCC4yOjo7u2++77z5DkjF37lwH\\\n",
       "q0Mq/PSnPzU+//nPG6+88kqP2//1r38ZM2fONCQZN9xwQ4/7nnnmGUOSceKJJ/ZYbuPGjcaIESOM\\\n",
       "sWPHGu+8805K6kdq/eEPfzAkGaWlpQM2wIyRYPnnP/9pjBs3zsjIyOhzp/RPf/pTj/9nfARHPB43\\\n",
       "Tj75ZEOS8fOf/7zHfRs3bjRGjRplpKWl9fjCnfHhT9/5zneMb37zm0ZDQ4PR3t4+aANsZhy88847\\\n",
       "xtixYw1JxpNPPtl9e3t7u/HBD37QkGSsW7fO+j8OtqABhuUOHTrU/Y1YS0tLr/vPPfdcQ5Lxwgsv\\\n",
       "OFAd3GDjxo3dH1AHDx7svv2yyy4zJBlVVVW9lvnyl79sSDK+//3vp7BSpMJ7771nfPCDHzTOPvts\\\n",
       "45VXXhmwAWaMBMvNN99sSDJ++MMfJvR4xkdw/OUvf+k+m6gvXUcFf/GLX3TfxvgIhsEaYDPj4N57\\\n",
       "7zUkGVdeeWWvZZ566ilDknH55ZcPtXSkCNcAw3LPPfec9u3bpzPOOEMzZ87sdf8111wjSWpoaEh1\\\n",
       "aXCJj370o5KkgwcPas+ePZKOXjP+zDPPSPr3GDkW48a/7r77bm3fvl0//vGPFQqF+n0cYyRY9u7d\\\n",
       "q1/+8pcaO3asPvvZzw76eMZHsIwcOTKhx02YMEES4wNHmR0Hv/nNb/pd5hOf+IRGjRqlP/zhD+rs\\\n",
       "7LS6ZNiABhiW+/Of/yxJysvL6/P+rtu7Hofg2bFjhyR1B5ZI0rZt23Tw4EGdfPLJmjRpUq9lusbN\\\n",
       "Sy+9lLpCYbuXXnpJ9913n4qLizV37twBH8sYCZY//vGPOnjwoC6++GKFQiE98cQTuv322/XFL35R\\\n",
       "P/zhDxWJRHo8nvERLNOmTdO0adO0bds2/fKXv+xx36ZNm/T73/9eH/jAB7q3K4wPSObHQdf/97Vv\\\n",
       "O2LECH3kIx9RZ2enXn75ZRuqhtVogGG5119/XZL63LAce3vX4xA81dXVkqRFixZ1f4s/2LgZPXq0\\\n",
       "xo0bp71796qjoyM1hcJWR44c0W233aZx48bp3nvvHfTxjJFg2bp1qyRp4sSJmjNnjq699lpVV1fr\\\n",
       "f/7nf/TlL39ZZ5xxhh5//PHuxzM+gmXYsGGqr6/X2LFjdd111+n888/X9ddfr/z8fF188cXKzc3V\\\n",
       "2rVrNWLECEmMDxxlZhy8++672rdv34DLsW/rLTTAsFzXz9uccMIJfd4/evToHo9DsPzud79TXV2d\\\n",
       "QqGQvvWtb3XfPti4kRg7fvPDH/5Q//d//6fvfe97OvHEEwd9PGMkWPbu3Svp6E+VvPTSS6qrq9Nb\\\n",
       "b72l1157TcuXL9eBAwd00003dR+ZYXwEz5w5c9Tc3KwPfOADeuGFF/SLX/xCGzZs0OjRo7VgwQKd\\\n",
       "dtpp3Y9lfEAyNw6OHQ/s2/oDDTAsZxiGJCktLW3A+xE8f//733XTTTfJMAx973vf674WWBp83Bz7\\\n",
       "GHhfW1ubKioqlJ+fryVLliS0DGMkWN5//31J0uHDh3X//ffr1ltv1UknnaSpU6fqvvvu0zXXXKND\\\n",
       "hw51nz3A+Aiexx57TB//+Mc1efJk/elPf1I0GtUrr7yiG264Qd/+9re1YMECxeNxSYwPHGVmHCQy\\\n",
       "Lhg73kIDDMtlZWVJkg4cONDn/e+9954kKTMzM2U1wXm7d+/WokWLtHfvXi1fvlxlZWU97h9s3EiM\\\n",
       "HT/5whe+oEOHDunHP/5xwsswRoKl6/1OT0/XLbfc0uv+W2+9VZLU1NTU4/GMj2B49dVXdcstt+jk\\\n",
       "k0/Wb3/7W82aNUujR4/WmWeeqZqaGi1evFibNm3S6tWrJTE+cJSZcdC1zLH3DbYM3G240wXAfyZP\\\n",
       "nizpaMPTl67bux4H/3v77bdVWFio119/XcXFxfr+97/f6zGDjZsDBw5o3759GjduXI8PI3jTb37z\\\n",
       "G40bN06f//zne9zelaD5+uuvq6CgoPuxmZmZjJGAmTp1qiQpOzu7z8TfrvvffPNNSWxDgubnP/+5\\\n",
       "4vG4Fi1a1H366bE+/elPq6GhQU1NTSotLWV8QJK57cSYMWM0duxY7d+/X7t379bZZ5/dazn2bb2F\\\n",
       "BhiW6zqttaWlpc/7u24/99xzU1YTnNPR0aGioiJt27ZNn/rUp1RbW9vnqUfTp0/XyJEj9dZbb2n3\\\n",
       "7t29giYYN/6zb98+NTc393lfLBbrvu/w4cOSGCNB0/Uzenv37pVhGL22G10/odZ1xIXxESxdDceY\\\n",
       "MWP6vL/r9nfeeUcS4wNHmR0HH/3oR7Vhwwa1tLT0aoDj8bj++te/auTIkZo+fbq9fwAswSnQsNxF\\\n",
       "F12ksWPHavv27dqyZUuv+5944glJ0uWXX57q0pBiBw8e1JVXXqkXXnhBl156qR577DENGzasz8dm\\\n",
       "ZGRo3rx5kv49Ro7FuPEXwzD6/Pfaa69JOrqT0nXbuHHjJDFGguacc87RBz7wAcViMf3pT3/qdX/X\\\n",
       "qc9dP0vC+AiW7Oxs/f/t3T1rVFsUgOE1Q0hkAjE6hVgrWFhJCIGoEBH8wIAEjG0qLWOTLgR/gWCj\\\n",
       "WDkgWBmtphs7RQvjH9AikE4knV+FYd1u7g0m13vFScD1PHCK7MOGs2FBzjsMSUTE2trajvffvHkT\\\n",
       "EX9/U8B8EPHrc3DlypVd93S73fj27VucP38+Dhw48LsfmUFIGIDl5eWMiJyens5Pnz711+/cuZMR\\\n",
       "kWfOnNnHp2MvfP/+Pefm5jIi8uzZs/n58+ef7un1ehkR2W638927d/31V69e5cjISI6NjeXm5uYg\\\n",
       "H5t9tr6+nhGRJ06c2PG+GanlwYMHGRE5OTmZHz9+7K+vra3l+Ph4RkQ+efKkv24+6nj79m1GREZE\\\n",
       "3r9/f9u9169f5+joaEZE9nq9/rr5qCEicmRkZNf7vzIHm5ubOTY2lhGRT58+7a9/+PAhjx8/nhGR\\\n",
       "z58///2HYSAEMAPx9evXnJqayojIo0eP5vXr1/s/t9vtfP/+/X4/IgN29+7d/svJ3NxcLiws7Hj9\\\n",
       "86U2M/PWrVsZEdlqtfLq1at5+fLlHBoaymazmaurq/t0GvbKzwI404xUsrW1lfPz8xkRefjw4Zyd\\\n",
       "nc2ZmZkcHh7OiMgbN278sMd81LG0tNT/PXPy5Mmcn5/P06dPZ7PZzIjImzdv/rDHfPx5ut1uTk1N\\\n",
       "9a+IyEajsW2t2+1u2/Mrc7C6uprNZjMbjUbOzMzktWvX+h/ELS4u7sVR+U0EMAPz5cuXXFlZyWPH\\\n",
       "juXw8HAeOXIkFxYWcmNjY78fjT1w+/bt/ovJv13r6+s/7O10OjkxMZGtVisPHjyYFy9ezBcvXuz9\\\n",
       "Idhz/yWAM81IJVtbW3nv3r08depUtlqtHB0dzenp6Xz06NGue8xHHc+ePcsLFy5ku93OoaGhPHTo\\\n",
       "UJ47dy4fP3686x7z8WfpdDo/fdfodDo77vu/c/Dy5cu8dOlSjo+PZ6vVyomJiXz48OGATsagNDL9\\\n",
       "4yoAAAD+fP4IFgAAACUIYAAAAEoQwAAAAJQggAEAAChBAAMAAFCCAAYAAKAEAQwAAEAJAhgAAIAS\\\n",
       "BDAAAAAlCGAAAABKEMAAAACUIIABAAAoQQADAABQggAGAACgBAEMAABACQIYAACAEgQwAAAAJQhg\\\n",
       "AAAAShDAAAAAlCCAAQAAKEEAAwAAUIIABgAAoAQBDAAAQAkCGAAAgBIEMAAAACUIYAAAAEoQwAAA\\\n",
       "AJQggAEAAChBAAMAAFCCAAYAAKAEAQwAAEAJAhgAAIASBDAAAAAlCGAAAABKEMAAAACUIIABAAAo\\\n",
       "QQADAABQggAGAACgBAEMAABACQIYAACAEgQwAAAAJQhgAAAAShDAAAAAlCCAAQAAKEEAAwAAUIIA\\\n",
       "BgAAoAQBDAAAQAkCGAAAgBL+Ap8zXoBZuc9NAAAAAElFTkSuQmCC\\\n",
       "\"\n",
       "\n",
       "\n",
       "    /* set a timeout to make sure all the above elements are created before\n",
       "       the object is initialized. */\n",
       "    setTimeout(function() {\n",
       "        animed69eeb3dff848aba82de90936e3b8cc = new Animation(frames, img_id, slider_id, 200.0,\n",
       "                                 loop_select_id);\n",
       "    }, 0);\n",
       "  })()\n",
       "</script>\n"
      ],
      "text/plain": [
       "<matplotlib.animation.FuncAnimation at 0x168352c00>"
      ]
     },
     "execution_count": 820,
     "metadata": {},
     "output_type": "execute_result"
    }
   ],
   "source": [
    "t = most_clustered_time(robots)\n",
    "animate_robots(robots, [t])"
   ]
  },
  {
   "cell_type": "markdown",
   "id": "6a4794b4-1d3e-4d82-b886-4416ef5b6453",
   "metadata": {},
   "source": [
    "**It worked!** \n",
    "\n",
    "(At first I had a **bug**: the Christmas tree was upside down, because the Y-axis was upside down. So I added the `yaxis.set_inverted` call to `animate_robots`.)\n",
    "\n",
    "Although there was a human in the loop to verify the output, I can make this official with this call to `answer`:"
   ]
  },
  {
   "cell_type": "code",
   "execution_count": 822,
   "id": "75434bc8-35ae-4d8b-b747-01d773472541",
   "metadata": {},
   "outputs": [
    {
     "data": {
      "text/plain": [
       "Puzzle 14.2:  1.833 seconds, answer 6876              ok"
      ]
     },
     "execution_count": 822,
     "metadata": {},
     "output_type": "execute_result"
    }
   ],
   "source": [
    "answer(14.2, 6876, lambda:\n",
    "       most_clustered_time(robots, range(7000)))"
   ]
  },
  {
   "cell_type": "markdown",
   "id": "08cae29b-9b07-4e8d-b2d1-f3798f6c7cd0",
   "metadata": {},
   "source": [
    "# [Day 15](https://adventofcode.com/2024/day/15): Warehouse Woes\n",
    "\n",
    "Today's input is in two sections: the first section is a grid map describing a warehouse with walls (`#`) and boxes (`O`) and one robot (`@`). The second part is a set of instructions for how the robot moves (arrows). I'll parse the two sections as paragraphs, then parse each paragraph:"
   ]
  },
  {
   "cell_type": "code",
   "execution_count": 824,
   "id": "20be45ec-f6fc-472c-9b49-872b7334528c",
   "metadata": {},
   "outputs": [
    {
     "name": "stdout",
     "output_type": "stream",
     "text": [
      "────────────────────────────────────────────────────────────────────────────────────────────────────\n",
      "Puzzle input ➜ 71 strs:\n",
      "────────────────────────────────────────────────────────────────────────────────────────────────────\n",
      "##################################################\n",
      "#..OO..O.O....O...O..O...O.......O...OO##....O.OO#\n",
      "#O.#..#OOO#..O..OO...O.O.....OO..O#O#.OOO.....#..#\n",
      "#.....O.......OO.#OO....#O.OO.O..OO.O.O.O..##....#\n",
      "#.O....O...O#...#...OO..#..O........#O..#..O..O..#\n",
      "#O....O...O.O..OO..OO..#OO.#OO.O......##..O..O...#\n",
      "#..O.##..#O...O...#.#.O.O..O.#......O..#.#...O...#\n",
      "#O.O.........O..O........OO....OO......O.....O#..#\n",
      "...\n",
      "────────────────────────────────────────────────────────────────────────────────────────────────────\n",
      "Parsed representation ➜ 2 strs:\n",
      "────────────────────────────────────────────────────────────────────────────────────────────────────\n",
      "##################################################\n",
      "#..OO..O.O....O...O..O...O.......O...OO##.... ...\n",
      ">><^v><>^v<<vv<>vv><v><<^^>>>>^^><>^<^^vvv>>><><>v^^^^<<^<^><>>>v><><vv^v^<>>>^>><>v>v>^v>>v>>>v ...\n"
     ]
    }
   ],
   "source": [
    "warehouse_woes = parse(15, sections=paragraphs)\n",
    "warehouse = Grid(parse(warehouse_woes[0]))\n",
    "arrows    = cat(parse(warehouse_woes[1]))"
   ]
  },
  {
   "cell_type": "markdown",
   "id": "9a4aed93-5205-4946-b04c-637f3b095e4b",
   "metadata": {},
   "source": [
    "### Part 1: What is the sum of all boxes' GPS coordinates after moving?\n",
    "\n",
    "The robot attempts to follow each instruction arrow (for example, moving East when the arrow is `>`). The robot is strong enough to push a line of any number of boxes sitting in front of it; that's its job. However, if a push is blocked by a wall, then neither the robot nor any boxes will move.\n",
    "\n",
    "The **GPS coordinate** of a box at (*x*, *y*) is defined to be *x* + 100*y*.\n",
    "\n",
    "I'll implement `obey_arrows` to make the arrow moves on a copy of the warehouse. For each arrow it finds all boxes that might move (and the robot) with `moveables`, then `make_movement` checks if they would bump into a wall, and if not, they all move."
   ]
  },
  {
   "cell_type": "code",
   "execution_count": 826,
   "id": "248d51c0-424e-4bbb-bbf4-37cdc18313e1",
   "metadata": {},
   "outputs": [],
   "source": [
    "def gps_coordinate(box: Point) -> int: return X_(box) + 100 * Y_(box)\n",
    "\n",
    "def obey_arrows(warehouse: Grid, arrows: str) -> Grid:\n",
    "    \"\"\"Return a grid in which the robot has followed `arrows`, pushing boxes around.\"\"\"\n",
    "    grid = warehouse.copy()\n",
    "    robot_pos = the(grid.findall('@'))\n",
    "    for arrow in arrows:\n",
    "        dir = arrow_direction[arrow]\n",
    "        robot_and_boxes = moveables(grid, robot_pos, dir)\n",
    "        if make_movement(grid, robot_and_boxes, dir):\n",
    "            robot_pos = add2(robot_pos, dir)\n",
    "    return grid\n",
    "\n",
    "def moveables(grid, start: Point, dir: Vector) -> List[Point]:\n",
    "    \"\"\"The positions of moveable things (the robot and maybe boxes) going in direction `dir` from the `start`.\"\"\"\n",
    "    def moveable(pos): return grid[pos] in ('@', 'O')\n",
    "    return list(takewhile(moveable, grid.follow_line(start, dir)))\n",
    "\n",
    "def make_movement(grid, to_move: List[Point], dir: Vector) -> bool:\n",
    "    \"\"\"Try to move the objects in the `to_move` positions in direction `dir`; return True if they move.\"\"\"\n",
    "    if grid[add2(to_move[-1], dir)] == '#':\n",
    "        return False\n",
    "    else:\n",
    "        for p in reversed(to_move):\n",
    "            grid[add2(p, dir)] = grid[p]\n",
    "            grid[p] = '.'\n",
    "        return True"
   ]
  },
  {
   "cell_type": "code",
   "execution_count": 827,
   "id": "52e93218-6ac2-4cf7-aced-f4f3a3df77b5",
   "metadata": {},
   "outputs": [
    {
     "data": {
      "text/plain": [
       "Puzzle 15.1:   .025 seconds, answer 1563092           ok"
      ]
     },
     "execution_count": 827,
     "metadata": {},
     "output_type": "execute_result"
    }
   ],
   "source": [
    "answer(15.1, 1563092, lambda:\n",
    "       sum(map(gps_coordinate, obey_arrows(warehouse, arrows).findall('O'))))"
   ]
  },
  {
   "cell_type": "markdown",
   "id": "84dcd7fd-0f4a-4377-b61e-22bd5a0a51a9",
   "metadata": {},
   "source": [
    "### Part 2: What is the sum of all boxes' final GPS coordinates on the double-wide grid?\n",
    "\n",
    "In Part 2, there is another warehouse that is similar to the first, but twice as wide. Each position in the original warehouse is replaced by two copies of the contents, except that the robot is replaced by `@.` and a box, `O`, is replaced by `[]`, indicating the two halves of a double-wide box. The rules for movement and pushing are the same, except that when the robot is moving North or South and is pushing a box, that box, since it is two positions wide, can push *two* boxes if they are lined up right. (Presumably, those two boxes could then push three boxes in the next row, and so on, although the puzzle description did not explicitly specify that). Finally, the GPS coordinates are taken for the `[` part of the box. Here's what it looks like before and after the robot moves \"^\":\n",
    "\n",
    "        ##############        ##############\n",
    "        ##......##..##        ##......##..##\n",
    "        ##..........##        ##...[][]...##\n",
    "        ##...[][]...##        ##....[]....##\n",
    "        ##....[]....##        ##.....@....##\n",
    "        ##.....@....##        ##..........##\n",
    "        ##############        ##############\n",
    "\n",
    "So this is mostly the same as Part 1, but the criteria of what to move is different. Here are the changes I'll make:\n",
    "- I'll need to make the double-wide grid, by applying `doublewide` to the original text to get `warehouse2`.\n",
    "- I'll redefine `make_movement` to check for a wall in front of *any* of the boxes, not just the last one, and to move them all in one `update`, rather than one at a time.\n",
    "- I'll redefine `moveables` to deal with either regular or double-wide boxes (but not both in one maze).\n",
    "\n",
    "The redefinitions are backwards-comnpatible, which I'll demonstrate by re-running Part 1 before running Part 2:"
   ]
  },
  {
   "cell_type": "code",
   "execution_count": 829,
   "id": "2d9afbc1-75b2-479d-81fc-fbab69d25753",
   "metadata": {},
   "outputs": [],
   "source": [
    "def doublewide(text: str) -> str:\n",
    "    \"\"\"Make the grid (described in text) twice as wide.\"\"\"\n",
    "    return text.replace('#', '##').replace('O', '[]').replace('.', '..').replace('@', '@.')\n",
    "    \n",
    "warehouse2 = Grid(parse(doublewide(warehouse_woes[0])))\n",
    "\n",
    "def make_movement(grid, to_move: Collection[Point], dir: Vector) -> bool:\n",
    "    \"\"\"Try to move the objects in the `to_move` positions in direction `dir`; return True if they move.\"\"\"\n",
    "    def go(p): return add2(p, dir)\n",
    "    if any(grid[go(p)] == '#' for p in to_move):\n",
    "        return False\n",
    "    else:\n",
    "        updates = {go(p): grid[p] for p in to_move}\n",
    "        grid.update({p: '.' for p in to_move})\n",
    "        grid.update(updates)\n",
    "        return True\n",
    "\n",
    "def moveables(grid, start_pos, dir) -> Set[Point]:\n",
    "    \"\"\"The positions of moveable things (robot and maybe boxes) going in direction from the start.\"\"\" \n",
    "    ahead = add2(start_pos, dir)\n",
    "    if dir in (East, West) or grid[ahead] == 'O': # Single line push\n",
    "        def moveable(pos): return grid[pos] in ('@', 'O', '[', ']')\n",
    "        return set(takewhile(moveable, grid.follow_line(start_pos, dir)))\n",
    "    else: # Potential non-linear push\n",
    "        results = {start_pos}\n",
    "        if grid[ahead] in ('[', ']'): results |= moveables(grid, ahead, dir) \n",
    "        if grid[ahead] == '[':        results |= moveables(grid, add2(ahead, East), dir)\n",
    "        if grid[ahead] == ']':        results |= moveables(grid, add2(ahead, West), dir)\n",
    "        return results"
   ]
  },
  {
   "cell_type": "code",
   "execution_count": 830,
   "id": "7af49bbf-dd10-4221-9096-6f548dec44c0",
   "metadata": {},
   "outputs": [
    {
     "data": {
      "text/plain": [
       "Puzzle 15.1:   .029 seconds, answer 1563092           ok"
      ]
     },
     "execution_count": 830,
     "metadata": {},
     "output_type": "execute_result"
    }
   ],
   "source": [
    "answer(15.1, 1563092, lambda:\n",
    "       sum(map(gps_coordinate, obey_arrows(warehouse, arrows).findall('O'))))"
   ]
  },
  {
   "cell_type": "code",
   "execution_count": 831,
   "id": "99246602-a51e-41aa-a7e9-7cdbc8d449ca",
   "metadata": {},
   "outputs": [
    {
     "data": {
      "text/plain": [
       "Puzzle 15.2:   .042 seconds, answer 1582688           ok"
      ]
     },
     "execution_count": 831,
     "metadata": {},
     "output_type": "execute_result"
    }
   ],
   "source": [
    "answer(15.2, 1582688, lambda:\n",
    "       sum(map(gps_coordinate, obey_arrows(warehouse2, arrows).findall('['))))"
   ]
  },
  {
   "cell_type": "markdown",
   "id": "4361f8c3-1d15-441e-9a41-b1ea20707651",
   "metadata": {},
   "source": [
    "I had a frustrating time **debugging** this one; this was by far my worst performance of the year. First I had a silly typo in `moveables`; I was able to fix it after looking at the results on the smaller test puzzle:"
   ]
  },
  {
   "cell_type": "code",
   "execution_count": 833,
   "id": "47c99f0f-ab65-4ae1-a308-42668feacdd5",
   "metadata": {},
   "outputs": [
    {
     "name": "stdout",
     "output_type": "stream",
     "text": [
      "##############\n",
      "##...[].##..##\n",
      "##...@.[]...##\n",
      "##....[]....##\n",
      "##..........##\n",
      "##..........##\n",
      "##############\n"
     ]
    }
   ],
   "source": [
    "xwarehouse = Grid(parse(doublewide(\"\"\"\\\n",
    "#######\n",
    "#...#.#\n",
    "#.....#\n",
    "#..OO@#\n",
    "#..O..#\n",
    "#.....#\n",
    "#######\"\"\")))\n",
    "\n",
    "xarrows = \"<vv<<^^<<^^\"\n",
    "\n",
    "obey_arrows(xwarehouse, xarrows).print()"
   ]
  },
  {
   "cell_type": "markdown",
   "id": "30a6d933-8969-427d-b82f-c5fb95d10164",
   "metadata": {},
   "source": [
    "That's the correct final grid, so I couldn't see what I had done wrong. It turns out that I had the movements correct, but I my **bug** was summing the GPS coordinates of *both* sides of the boxes when I should have been using just the *left* sides. Lesson learned: read the instructions carefully!"
   ]
  },
  {
   "cell_type": "markdown",
   "id": "9b4132fb-6365-4aed-bd11-aedf560933e1",
   "metadata": {},
   "source": [
    "# [Day 16](https://adventofcode.com/2024/day/16): Reindeer Maze\n",
    "\n",
    "Today's input is yet another 2D grid, this one a maze that reindeer run through:"
   ]
  },
  {
   "cell_type": "code",
   "execution_count": 836,
   "id": "03255fd5-95d9-4a90-b1bb-abdf6bbf1d85",
   "metadata": {},
   "outputs": [
    {
     "name": "stdout",
     "output_type": "stream",
     "text": [
      "────────────────────────────────────────────────────────────────────────────────────────────────────\n",
      "Puzzle input ➜ 141 strs:\n",
      "────────────────────────────────────────────────────────────────────────────────────────────────────\n",
      "################################################################################################ ...\n",
      "#.................#.................#.............#.......#...................#.......#......... ...\n",
      "#.#.###############.#####.#####.###.#.#########.###.#.###.#.#################.#.#####.#.#.#####. ...\n",
      "#.#.#.....#.........#...#.#...#.#.#.#.........#.....#.#...#.....#...#.........#.#.......#.#..... ...\n",
      "###.#.###.#.#########.#.###.#.#.#.#.###.#############.#.###.###.#.###.#########.#.#####.#.###### ...\n",
      "#...#...#...#...#...#.#.#...#...#.....#.#...#.........#...#...#.#.#...#.......#.#...#.....#..... ...\n",
      "#.#####.#####.###.#.#.#.#.###.#######.###.#.#.###########.#####.#.#.###.#####.#.###.#.#.###.#### ...\n",
      "#.......#...#...#.#.#.#...#...#...#.................................#...#...#...#...#.#.#.....#. ...\n",
      "...\n"
     ]
    }
   ],
   "source": [
    "maze = Grid(parse(16))"
   ]
  },
  {
   "cell_type": "markdown",
   "id": "74e37bd1-f994-4e98-b6ed-8469ca7f3805",
   "metadata": {},
   "source": [
    "<img src=\"https://files.mastodon.social/media_attachments/files/113/665/139/461/284/421/small/fbe45a948b982c5a.jpg\" width=400>\n",
    "\n",
    "\n",
    "\n",
    "### Part 1: What is the lowest score a Reindeer could possibly get?\n",
    "\n",
    "The race through the maze starts at the `S` position and ends at the `E`.  A reindeer is allowed to take a step forward (as long as there isn't a `#` wall there) or to turn 90 degrees right or left. The reindeer is initially facing East.  The **score** for a path is one point for every forward step and 1000 points for every turn.\n",
    "\n",
    "We're asked to find the path with the minimum score. My [AdventUtils](AdventUtils.ipynb) notebook already contains an `A_star_search` function for finding least-cost paths, and a `GridProblem` class. By default, a `GridProblem` counts one point for a move in any direction, so we'll have to create a subclass, `MazeSearchProblem`. This is straightforward but a bit tedious; I had a **bug** where I accepted the default `is_goal` and `h` methods; that doesn't work because they assume the state is just a position; but for this problem the state contains both the position and the facing direction. Another **bug** was that I left out the `goal=end` in the call to `MazeSearchProblem`. I thought I wouldn't need it because I wrote an `is_goal` method, but the `goal` is needed in the `h` (heuristic estimate) method."
   ]
  },
  {
   "cell_type": "code",
   "execution_count": 838,
   "id": "e6e4bfba-0170-436a-961b-d4749f2cd66e",
   "metadata": {},
   "outputs": [],
   "source": [
    "State = namedtuple('State', 'pos, facing')\n",
    "\n",
    "def reindeer_path(maze) -> Node:\n",
    "    \"\"\"The lowest-cost path through the maze.\"\"\"\n",
    "    start, end = the(maze.findall('S')), the(maze.findall('E'))\n",
    "    problem = MazeSearchProblem(grid=maze, initial=State(start, East), goal=end)\n",
    "    return A_star_search(problem)\n",
    "\n",
    "class MazeSearchProblem(GridProblem):\n",
    "    \"\"\"A GridProblem where a turn costs 1000 points, a step ahead 1.\"\"\"\n",
    "    \n",
    "    def actions(self, state):\n",
    "        ahead = add2(state.pos, state.facing)\n",
    "        return ['L', 'R'] + ([ahead] if self.grid[ahead] != '#' else [])\n",
    "                \n",
    "    def result(self, state, action) -> State:\n",
    "        return (State(state.pos, make_turn(state.facing, action))   if action in ('L', 'R') else\n",
    "                State(add2(state.pos, state.facing), state.facing))\n",
    "            \n",
    "    def action_cost(self, s1, action, s2) -> int: return 1000 if action in ('L', 'R') else 1\n",
    "\n",
    "    def is_goal(self, state) -> bool: return self.grid[state.pos] == 'E'\n",
    "\n",
    "    def h(self, node) -> int: return taxi_distance(node.state.pos, self.goal)"
   ]
  },
  {
   "cell_type": "code",
   "execution_count": 839,
   "id": "4974c14c-86da-4b86-a55c-6ae8781df207",
   "metadata": {},
   "outputs": [
    {
     "data": {
      "text/plain": [
       "Puzzle 16.1:   .139 seconds, answer 103512            ok"
      ]
     },
     "execution_count": 839,
     "metadata": {},
     "output_type": "execute_result"
    }
   ],
   "source": [
    "answer(16.1, 103512, lambda:\n",
    "       reindeer_path(maze).path_cost)"
   ]
  },
  {
   "cell_type": "markdown",
   "id": "030e5786-cd2a-405f-b4d4-460cefab7e32",
   "metadata": {},
   "source": [
    "### Part 2: How many tiles are part of at least one of the best paths through the maze?\n",
    "\n",
    "In Part 2 we're asked to find the total number of positions that are part of *any* best path from start to end. I'll write a new version of `best_first_search` to return all the paths that have the same cost as the best path. I thought this would be easy, but I had **another bug** where I forgot to change the `<` to a `<=` in the fourth-to-last line of `all_paths_best_first_search`:"
   ]
  },
  {
   "cell_type": "code",
   "execution_count": 841,
   "id": "692abfea-f9c8-477c-8369-386cdd2a7606",
   "metadata": {},
   "outputs": [],
   "source": [
    "def reindeer_best_positions(maze) -> Node:\n",
    "    \"\"\"All the positions on any best path from start to end.\"\"\"\n",
    "    start, end = the(maze.findall('S')), the(maze.findall('E'))\n",
    "    problem = MazeSearchProblem(grid=maze, initial=State(start, East), goal=end)\n",
    "    paths = list(all_paths_best_first_search(problem, f=lambda n: n.path_cost + problem.h(n)))\n",
    "    return union({state.pos for state in path_states(path)} for path in paths)\n",
    "\n",
    "def all_paths_best_first_search(problem, f) -> List[Node]:\n",
    "    \"Search nodes with minimum f(node) value first, return all paths with minimum cost.\"\n",
    "    node = Node(problem.initial)\n",
    "    frontier = PriorityQueue([node], key=f)\n",
    "    reached = {problem.initial: node}\n",
    "    while frontier:\n",
    "        node = frontier.pop()\n",
    "        if problem.is_goal(node.state):\n",
    "            return [node] + [path for (cost, path) in frontier.items\n",
    "                             if cost == node.path_cost and problem.is_goal(path.state)]\n",
    "        for child in expand(problem, node):\n",
    "            s = child.state\n",
    "            if s not in reached or child.path_cost <= reached[s].path_cost:\n",
    "                reached[s] = child\n",
    "                frontier.add(child)\n",
    "    return []"
   ]
  },
  {
   "cell_type": "code",
   "execution_count": 842,
   "id": "ea9bf9f3-0e6b-4949-a641-6b3db2fd9d32",
   "metadata": {},
   "outputs": [
    {
     "data": {
      "text/plain": [
       "Puzzle 16.2:   .985 seconds, answer 554               ok"
      ]
     },
     "execution_count": 842,
     "metadata": {},
     "output_type": "execute_result"
    }
   ],
   "source": [
    "answer(16.2, 554, lambda:\n",
    "    len(reindeer_best_positions(maze)))"
   ]
  },
  {
   "cell_type": "markdown",
   "id": "91607c18-56c3-4432-8da8-cfe570887bc0",
   "metadata": {},
   "source": [
    "# [Day 17](https://adventofcode.com/2024/day/17): Chronospatial Computer\n",
    "\n",
    "Today we have to help debug a faulty computer. This particular computer has three registers, A, B, and C, and a program consisting of a sequence of octal digits. The input is a description of the state of the computer; the values in the register and the stored program."
   ]
  },
  {
   "cell_type": "code",
   "execution_count": 844,
   "id": "50fd3cb8-0a6f-4edd-b5cb-f7b1e6f9d987",
   "metadata": {},
   "outputs": [
    {
     "name": "stdout",
     "output_type": "stream",
     "text": [
      "────────────────────────────────────────────────────────────────────────────────────────────────────\n",
      "Puzzle input ➜ 5 strs:\n",
      "────────────────────────────────────────────────────────────────────────────────────────────────────\n",
      "Register A: 52042868\n",
      "Register B: 0\n",
      "Register C: 0\n",
      "\n",
      "Program: 2,4,1,7,7,5,0,3,4,4,1,7,5,5,3,0\n",
      "────────────────────────────────────────────────────────────────────────────────────────────────────\n",
      "Parsed representation ➜ 5 tuples:\n",
      "────────────────────────────────────────────────────────────────────────────────────────────────────\n",
      "('Register', 'A', 52042868)\n",
      "('Register', 'B', 0)\n",
      "('Register', 'C', 0)\n",
      "()\n",
      "('Program', 2, 4, 1, 7, 7, 5, 0, 3, 4, 4, 1, 7, 5, 5, 3, 0)\n"
     ]
    }
   ],
   "source": [
    "Computer = namedtuple('Computer', 'A, B, C, prog')\n",
    "    \n",
    "def initialize_computer(information) -> Computer:\n",
    "    \"\"\"Initialize the computer with the debugging information.\"\"\"\n",
    "    kwds = {}\n",
    "    for info in information:\n",
    "        match info:\n",
    "            case ['Register', L, val]: kwds[L] = val\n",
    "            case ['Program', *vals]:   kwds['prog'] = vals\n",
    "    return Computer(**kwds)\n",
    "    \n",
    "computer = initialize_computer(parse(17, atoms))"
   ]
  },
  {
   "cell_type": "code",
   "execution_count": 845,
   "id": "c23b8a44-e352-4a30-abe5-3c939ffc743c",
   "metadata": {},
   "outputs": [
    {
     "data": {
      "text/plain": [
       "Computer(A=52042868, B=0, C=0, prog=[2, 4, 1, 7, 7, 5, 0, 3, 4, 4, 1, 7, 5, 5, 3, 0])"
      ]
     },
     "execution_count": 845,
     "metadata": {},
     "output_type": "execute_result"
    }
   ],
   "source": [
    "computer"
   ]
  },
  {
   "cell_type": "markdown",
   "id": "031ec910-e249-487b-ae95-b98abae3b9cf",
   "metadata": {},
   "source": [
    "### Part 1: Run the Program. What do you get if you use commas to join the output values?\n",
    "\n",
    "Now we have to run the program. The computer has eight opcodes; each opcode operates on the following value in memory; some instructions take the operand literally, and some compute a **combo** value from it (equal to register A, B, or C if the value is 4, 5, or 6, respectively; otherwise the value itself). There is a program counter (pc) that increments by 2, unless there is a branch instuction (opcode 3). See the [day's description](https://adventofcode.com/2024/day/17) for details on how the opcodes work. Or look at my `run_program` function, which yields the outputs from running the program:"
   ]
  },
  {
   "cell_type": "code",
   "execution_count": 847,
   "id": "d98f88cc-c435-43fc-bcb5-52e6dd70fdb1",
   "metadata": {},
   "outputs": [],
   "source": [
    "def run_program(computer) -> Iterable[int]:\n",
    "    \"\"\"Run the program on the computer, yielding each output.\"\"\"\n",
    "    A, B, C, prog = computer\n",
    "    pc = 0\n",
    "    while pc < len(prog):\n",
    "        op, val = prog[pc:pc+2]\n",
    "        pc += 2\n",
    "        combo = (A if val == 4 else B if val == 5 else C if val == 6 else val)\n",
    "        match op:\n",
    "            case 0: A = A // (2 ** combo)\n",
    "            case 6: B = A // (2 ** combo)\n",
    "            case 7: C = A // (2 ** combo)\n",
    "            case 1: B = B ^ val\n",
    "            case 4: B = B ^ C\n",
    "            case 2: B = combo % 8\n",
    "            case 5: yield combo % 8\n",
    "            case 3: \n",
    "                if A: pc = val"
   ]
  },
  {
   "cell_type": "markdown",
   "id": "6348d561-9ac9-437c-8bcd-6fbd91d1ebf5",
   "metadata": {},
   "source": [
    "The answer for Part 1 is easy:"
   ]
  },
  {
   "cell_type": "code",
   "execution_count": 849,
   "id": "860f24e5-92ad-4361-8920-102ebc573598",
   "metadata": {},
   "outputs": [
    {
     "data": {
      "text/plain": [
       "Puzzle 17.1:   .000 seconds, answer 2,1,0,1,7,2,5,0,3 ok"
      ]
     },
     "execution_count": 849,
     "metadata": {},
     "output_type": "execute_result"
    }
   ],
   "source": [
    "answer(17.1, '2,1,0,1,7,2,5,0,3', lambda:\n",
    "       cat(run_program(computer), ','))"
   ]
  },
  {
   "cell_type": "markdown",
   "id": "d3248e42-ab8e-4fdb-8e19-439766275c37",
   "metadata": {},
   "source": [
    "### Part 2: What is the lowest positive initial value for register A that causes the program to output a copy of itself?\n",
    "\n",
    "In Part 2, we find that register A has been corrupted, and we need to restore it to the value that will make the program output a copy of itself (a [Quine](https://en.wikipedia.org/wiki/Quine_%28computing%29)). I was afraid of this! AoC always has a puzzle where you have to write an interpreter for a program in some obscure language, but then in Part 2 you have to actually understand what the program is doing; you can't use brute force. (I tried brute force up to A=10,000,000 with no luck.)\n",
    "\n",
    "To try to understand my program, here it is in pseudocode:\n",
    "\n",
    "    top: B = A % 8        # 2, 4\n",
    "         B = B ^ 7        # 1, 7\n",
    "         C = A / 2 ** B   # 7, 5\n",
    "         A = A / 2 ** 3   # 0, 3\n",
    "         B = B ^ C        # 4, 4\n",
    "         B = B ^ 7        # 1, 7\n",
    "         output B         # 5, 5\n",
    "         if A: goto top   # 3, 0\n",
    "\n",
    "I can summarize that as:\n",
    "\n",
    "    top: B and C are defined in terms of the last octal digit of A, and prior value of B\n",
    "         A is shifted to eliminate the last octal digit\n",
    "         output B       \n",
    "         if A: goto top \n",
    "\n",
    "So I realized that one octal digit of `A` is eliminated on each pass through the loop, and when `A` hits zero, we exit. Each pass outputs one octal digit, so `A` in octal has to be the same number of digits as my program; 16 octal digits is somewhere in the hundred trillion range. Good thing I gave up on brute force. \n",
    "\n",
    "I realized that I should go right-to-left, outputing one octal digit at a time, and appending one octal digit at a time to `A`. \n",
    "\n",
    "I started playing around like this and found a pattern:"
   ]
  },
  {
   "cell_type": "code",
   "execution_count": 851,
   "id": "bb745303-dd20-486f-bbdd-7ae77f995c2c",
   "metadata": {},
   "outputs": [],
   "source": [
    "def run_with(computer=computer, **kwds) -> Ints: \n",
    "    \"\"\"Run the program with registers set to the given values.\"\"\"\n",
    "    return list(run_program(computer._replace(**kwds)))"
   ]
  },
  {
   "cell_type": "code",
   "execution_count": 852,
   "id": "54ac9b9c-70d9-4356-91c5-40fb285634b4",
   "metadata": {},
   "outputs": [
    {
     "data": {
      "text/plain": [
       "[2, 4, 1, 7, 7, 5, 0, 3, 4, 4, 1, 7, 5, 5, 3, 0]"
      ]
     },
     "execution_count": 852,
     "metadata": {},
     "output_type": "execute_result"
    }
   ],
   "source": [
    "computer.prog"
   ]
  },
  {
   "cell_type": "code",
   "execution_count": 853,
   "id": "36d89d9a-c8fc-41be-820b-cb13e40793c0",
   "metadata": {},
   "outputs": [
    {
     "data": {
      "text/plain": [
       "[0]"
      ]
     },
     "execution_count": 853,
     "metadata": {},
     "output_type": "execute_result"
    }
   ],
   "source": [
    "run_with(A=0o7)   # match the last digit of program"
   ]
  },
  {
   "cell_type": "code",
   "execution_count": 854,
   "id": "892fef38-5f9b-4370-a242-f7a10df5487b",
   "metadata": {},
   "outputs": [
    {
     "data": {
      "text/plain": [
       "[3, 0]"
      ]
     },
     "execution_count": 854,
     "metadata": {},
     "output_type": "execute_result"
    }
   ],
   "source": [
    "run_with(A=0o72)   # match the last two digits of program"
   ]
  },
  {
   "cell_type": "code",
   "execution_count": 855,
   "id": "b3d11d5e-30c2-419f-bc11-3f26fbdddfbb",
   "metadata": {},
   "outputs": [
    {
     "data": {
      "text/plain": [
       "[5, 3, 0]"
      ]
     },
     "execution_count": 855,
     "metadata": {},
     "output_type": "execute_result"
    }
   ],
   "source": [
    "run_with(A=0o726)   # match the last three digits of program"
   ]
  },
  {
   "cell_type": "markdown",
   "id": "f40f775f-bb9d-459c-80c3-ac09b6b42904",
   "metadata": {},
   "source": [
    "That is, if I can pick the right octal digits, then each time I append a digit to the right of `A`, the run of the program outputs one more correct digit of the tail of my program. But there might be several digit values that work for the current digit, but might screw up later. So here's my approach for finding the Quine program:\n",
    "- I'm going to keep a **set** of candidate values for `A` as the set `As` (because there may be several good digits at each step).\n",
    "- The set starts with no digits, so just `{0}`.\n",
    "- On each iteration I try appending each octal digit to each element of the set `As`.\n",
    "- I keep the candidate `A` values whose output matches the tail of the program's output.\n",
    "- Iterate this for each digit and return the set of `A` values that produce the whole program.\n",
    "- Take the minimum of the set."
   ]
  },
  {
   "cell_type": "code",
   "execution_count": 857,
   "id": "a49c6de9-4e6b-47e5-bcf0-2972a95c1af3",
   "metadata": {},
   "outputs": [
    {
     "data": {
      "text/plain": [
       "Puzzle 17.2:   .004 seconds, answer 267265166222235   ok"
      ]
     },
     "execution_count": 857,
     "metadata": {},
     "output_type": "execute_result"
    }
   ],
   "source": [
    "def quine(computer) -> Set[int]:\n",
    "    \"\"\"Find the values of `A` that cause the output to match the program.\"\"\"\n",
    "    As = {0}\n",
    "    for place in reversed(range(len(computer.prog))):\n",
    "        tail = computer.prog[place:]\n",
    "        candidates = {(A * 8) + d for A in As for d in range(8)}\n",
    "        As = {A for A in candidates if run_with(A=A) == tail}\n",
    "    return As\n",
    "\n",
    "answer(17.2, 267265166222235, \n",
    "       lambda: min(quine(computer)))"
   ]
  },
  {
   "cell_type": "markdown",
   "id": "c7f9e900-45be-401f-a6f2-a1d7b751fae6",
   "metadata": {},
   "source": [
    "# [Day 18](https://adventofcode.com/2024/day/18): RAM Run\n",
    "\n",
    "In today's narrative, we're inside a computer, on a 2D memory board, and bytes are falling down, at specified (x, y) positions, as given in our input:"
   ]
  },
  {
   "cell_type": "code",
   "execution_count": 859,
   "id": "d14e1966-2feb-4553-9a0a-12595ef4f7d7",
   "metadata": {},
   "outputs": [
    {
     "name": "stdout",
     "output_type": "stream",
     "text": [
      "────────────────────────────────────────────────────────────────────────────────────────────────────\n",
      "Puzzle input ➜ 3450 strs:\n",
      "────────────────────────────────────────────────────────────────────────────────────────────────────\n",
      "40,65\n",
      "17,1\n",
      "34,45\n",
      "31,51\n",
      "29,43\n",
      "25,9\n",
      "14,27\n",
      "5,29\n",
      "...\n",
      "────────────────────────────────────────────────────────────────────────────────────────────────────\n",
      "Parsed representation ➜ 3450 tuples:\n",
      "────────────────────────────────────────────────────────────────────────────────────────────────────\n",
      "(40, 65)\n",
      "(17, 1)\n",
      "(34, 45)\n",
      "(31, 51)\n",
      "(29, 43)\n",
      "(25, 9)\n",
      "(14, 27)\n",
      "(5, 29)\n",
      "...\n"
     ]
    }
   ],
   "source": [
    "falling_bytes = parse(18, ints)"
   ]
  },
  {
   "cell_type": "markdown",
   "id": "1229cec7-a456-4dd6-a668-8a00591c63f7",
   "metadata": {},
   "source": [
    "<img src=\"https://files.mastodon.social/media_attachments/files/113/675/173/635/175/528/small/844f7f437bf670c7.jpg\" width=400>\n",
    "\n",
    "### Part 1: What is the minimum number of steps needed to reach the exit?\n",
    "\n",
    "When a byte falls it creates a barrier. Our task is to find a path that avoids the barriers, from the start in the upper left to the exit in the lower right of a 71 x 71 grid that is the memory board. \n",
    "\n",
    "This is another search puzzle, like the maze in Day 16, but without the complications (e.g. costs for turning right or left). The puzzle description for today says that we should first consider just the first kilobyte (1024 falling bytes), and I was worried that if I just hand those points to my `Grid` class, it wouldn't cover the whole 71 x 71 grid. Therefore, I created a grid with empty spaces, and then updated with the falling bytes. The function `memory_path` returns a path, and we can then ask for its length to get the answer."
   ]
  },
  {
   "cell_type": "code",
   "execution_count": 861,
   "id": "83af4751-38c9-4830-a2fa-78515b59bc97",
   "metadata": {},
   "outputs": [],
   "source": [
    "def memory_path(falling_bytes: Tuple[Point], width=71, height=71) -> Grid:\n",
    "    \"\"\"Make a Grid of the given size with the points as obstacles.\"\"\"\n",
    "    grid = Grid(['.' * width] * height)\n",
    "    grid.update({p: '#' for p in falling_bytes})\n",
    "    problem = GridProblem(grid=grid, initial=(0, 0), goal=(width - 1, height - 1))\n",
    "    return A_star_search(problem)"
   ]
  },
  {
   "cell_type": "code",
   "execution_count": 862,
   "id": "29da25e2-f3c2-43e3-8769-1d4fcecb807b",
   "metadata": {},
   "outputs": [
    {
     "data": {
      "text/plain": [
       "Puzzle 18.1:   .014 seconds, answer 344               ok"
      ]
     },
     "execution_count": 862,
     "metadata": {},
     "output_type": "execute_result"
    }
   ],
   "source": [
    "answer(18.1, 344, lambda:\n",
    "       len(memory_path(falling_bytes[:1024])))"
   ]
  },
  {
   "cell_type": "markdown",
   "id": "792bc31e-964d-47fe-a09b-6a95724e641e",
   "metadata": {},
   "source": [
    "### Part 2: What are the coordinates of the first byte that will prevent the exit from being reachable from your starting position?\n",
    "\n",
    "After 1024 bytes fall there is a path from start to exit, but as more bytes fall we might have to switch to a different path, and eventually there will be no path. We're asked for the `x,y` position of the first falling byte that blocks off all paths. I can think of two ways to handle this:\n",
    "1) Add falling bytes one at a time and repeat the A-star search each time. **Slow!**\n",
    "2) Add falling bytes in **binary search** fashion: We know adding no bytes is **good** for getting a path and adding all of them is **bad**; try half way and then update **good** or **bad** depending on whether we found a path. **Fast!**"
   ]
  },
  {
   "cell_type": "code",
   "execution_count": 864,
   "id": "4c0a8dcb-c3af-45e7-9273-8776e8c3ea1d",
   "metadata": {},
   "outputs": [],
   "source": [
    "def memory_blocker(falling_bytes, good=1024) -> Point:\n",
    "    \"\"\"Which falling byte is the first to block a path to the exit? Do binary search.\"\"\"\n",
    "    bad  = len(falling_bytes)\n",
    "    while bad - good > 1:\n",
    "        mid = (good + bad) // 2\n",
    "        if memory_path(falling_bytes[:mid]) == search_failure:\n",
    "            bad = mid\n",
    "        else:\n",
    "            good = mid\n",
    "    return falling_bytes[bad - 1]"
   ]
  },
  {
   "cell_type": "code",
   "execution_count": 865,
   "id": "22371144-5d51-440a-918f-a63de73b13ad",
   "metadata": {},
   "outputs": [
    {
     "data": {
      "text/plain": [
       "Puzzle 18.2:   .032 seconds, answer 46,18             ok"
      ]
     },
     "execution_count": 865,
     "metadata": {},
     "output_type": "execute_result"
    }
   ],
   "source": [
    "answer(18.2, '46,18', lambda:\n",
    "       cat(memory_blocker(falling_bytes), ','))"
   ]
  },
  {
   "cell_type": "markdown",
   "id": "552f1c6e-052e-43d0-b13f-e8f66f274d63",
   "metadata": {},
   "source": [
    "I admit I initially had an off-by-one **bug** here. I was inconsistent on whether `bad` should be an index into the falling bytes, or the stop of a slice.\n",
    "\n",
    "I realize that for Part 1 I should have had separate functions for making the grid and solving it; then in Part 2 I could have incrementally modified the grid each time rather than creating a whole new Grid (and Problem). But it runs in under 1/10 second, so it is not worth changing it."
   ]
  },
  {
   "cell_type": "markdown",
   "id": "702d6ea3-bcb1-4c90-8d67-9e686cd0155f",
   "metadata": {},
   "source": [
    "# [Day 19](https://adventofcode.com/2024/day/19): Linen Layout\n",
    "\n",
    "Today's input is in two sections, the first a list of towel designs (with each letter of a word specifying a color), and the second section a list of desired patterns to be made by adjoining towels."
   ]
  },
  {
   "cell_type": "code",
   "execution_count": 868,
   "id": "689df92b-92d7-44e6-8b4e-d67bf3f153df",
   "metadata": {},
   "outputs": [
    {
     "name": "stdout",
     "output_type": "stream",
     "text": [
      "────────────────────────────────────────────────────────────────────────────────────────────────────\n",
      "Puzzle input ➜ 402 strs:\n",
      "────────────────────────────────────────────────────────────────────────────────────────────────────\n",
      "rub, wugrr, gww, wgurb, urur, ggb, bw, uubbu, uw, uggru, gwwgrgb, wbbb, rgb, wuuur, bgruggug, ru ...\n",
      "\n",
      "rurgggubugbuwugbwgggwbwwwrbrbgwwwwuwuugrwbrbwgguwr\n",
      "ruurbrwgrurubwrurugubgurgruurwgugwgrwuwbrww\n",
      "gwbrwwruwubrwgubggggubwwrurugbbuuugwwburbw\n",
      "wwgwugrrrbwbgwburguwgbrgrwurugbbgubuuugbguur\n",
      "ubgbbrruwbgbrrgwwwwwrwgggggrwbgwuwgrwrbwbrg\n",
      "rurbbgrbwbggugrbwwbwrwuwuwbwwbwugwrubbww\n",
      "...\n",
      "────────────────────────────────────────────────────────────────────────────────────────────────────\n",
      "Parsed representation ➜ 2 tuples:\n",
      "────────────────────────────────────────────────────────────────────────────────────────────────────\n",
      "('rub', 'wugrr', 'gww', 'wgurb', 'urur', 'ggb', 'bw', 'uubbu', 'uw', 'uggru', 'gwwgrgb', 'wbbb', ...\n",
      "('rurgggubugbuwugbwgggwbwwwrbrbgwwwwuwuugrwbrbwgguwr', 'ruurbrwgrurubwrurugubgurgruurwgugwgrwuwb ...\n"
     ]
    }
   ],
   "source": [
    "patterns, designs = parse(19, atoms, sections=paragraphs)"
   ]
  },
  {
   "cell_type": "markdown",
   "id": "581ff31b-ec09-4ae5-84c7-3b3ffbbd9362",
   "metadata": {},
   "source": [
    "### Part 1: How many designs are possible?\n",
    "\n",
    "The task is to see how many of the designs can posibly be made by concatenating one or more of the patterns (with repetitions allowed). I can do this by checking if some pattern starts the design and recursively checking if the rest of the design is possible:"
   ]
  },
  {
   "cell_type": "code",
   "execution_count": 870,
   "id": "e0b96545-5f60-4c8e-9a0f-c77608c19128",
   "metadata": {},
   "outputs": [],
   "source": [
    "def is_possible_design(design, patterns=patterns) -> bool:\n",
    "    \"\"\"Is it possible to make `design` by concatenating some of the `patterns`?\"\"\"\n",
    "    return (design == '' \n",
    "            or any(design.startswith(p) and is_possible_design(design[len(p):], patterns) \n",
    "                   for p in patterns))"
   ]
  },
  {
   "cell_type": "code",
   "execution_count": 871,
   "id": "3c3fba1b-d3e5-494e-aad0-42ca0566ae1f",
   "metadata": {},
   "outputs": [
    {
     "data": {
      "text/plain": [
       "Puzzle 19.1:   .040 seconds, answer 242               ok"
      ]
     },
     "execution_count": 871,
     "metadata": {},
     "output_type": "execute_result"
    }
   ],
   "source": [
    "answer(19.1, 242, lambda:\n",
    "        quantify(designs, is_possible_design))"
   ]
  },
  {
   "cell_type": "markdown",
   "id": "c7a03f27-c1af-4561-a887-ff4f9b7b0b51",
   "metadata": {},
   "source": [
    "### Part 2: What do you get if you add up the number of different ways you could make each design?\n",
    "\n",
    "For Part 2 we need to count all the ways that each design can be made. Since there can be an exponential number of ways for each design, I'm going to `cache` intermediate results. The number of ways is computed by consiering each pattern that starts the design and recursively summing up the count of the number of ways for the rest of the design."
   ]
  },
  {
   "cell_type": "code",
   "execution_count": 873,
   "id": "77d4fae1-d506-4733-9bb2-467619012f97",
   "metadata": {},
   "outputs": [],
   "source": [
    "@cache\n",
    "def count_ways(design, patterns=patterns) -> int:\n",
    "    \"\"\"How many ways can the design be made from the patterns?\"\"\"\n",
    "    return (1 if design == '' else\n",
    "            sum(count_ways(design[len(p):], patterns)\n",
    "                for p in patterns if design.startswith(p)))"
   ]
  },
  {
   "cell_type": "code",
   "execution_count": 874,
   "id": "14116eca-0b0f-484a-a169-9726e4ac7fbf",
   "metadata": {},
   "outputs": [
    {
     "data": {
      "text/plain": [
       "Puzzle 19.2:   .185 seconds, answer 595975512785325   ok"
      ]
     },
     "execution_count": 874,
     "metadata": {},
     "output_type": "execute_result"
    }
   ],
   "source": [
    "answer(19.2, 595975512785325, lambda:\n",
    "       sum(map(count_ways, designs)))"
   ]
  },
  {
   "cell_type": "markdown",
   "id": "b1199e79-bb09-4d68-89e6-b235c5f987c5",
   "metadata": {},
   "source": [
    "That was so easy that I'm willing to explore a bit more. First, here's a check that says a design is possible if and only if there is at least one way to make it: "
   ]
  },
  {
   "cell_type": "code",
   "execution_count": 876,
   "id": "f992b197-be14-47dc-8678-10cc63a1afd7",
   "metadata": {},
   "outputs": [],
   "source": [
    "for d in designs:\n",
    "    assert is_possible_design(d) == (count_ways(d) >= 1)"
   ]
  },
  {
   "cell_type": "markdown",
   "id": "a003849a-ae35-4c86-8d48-b954908d636b",
   "metadata": {},
   "source": [
    "Here is an alternative approach to Part 1 that turns out to be faster. It uses one big regular expression to match against all the designs. The regular expression matches one or more repetitions of one of the patterns, as a whole-line match. This is matched against all the designs, concatened together with newlines. We do this all in one call to `re.compile` and one call to `findall`, to keep as much as possible running in the C library rather than in user-written Python code. (Unfortunately, this approach cannot be applied directly to Part 2.)"
   ]
  },
  {
   "cell_type": "code",
   "execution_count": 878,
   "id": "57296f79-d0a0-4de3-bb1c-b3ed84ba1a59",
   "metadata": {},
   "outputs": [
    {
     "data": {
      "text/plain": [
       "Puzzle 19.1:   .002 seconds, answer 242               ok"
      ]
     },
     "execution_count": 878,
     "metadata": {},
     "output_type": "execute_result"
    }
   ],
   "source": [
    "def possible_designs(designs, patterns) -> List[str]:\n",
    "    \"\"\"All the `designs` that can be made by concatenating `patterns`.\"\"\"\n",
    "    regex = re.compile(r\"^(\" + \"|\".join(patterns) + r\")+$\", re.MULTILINE)\n",
    "    return regex.findall('\\n'.join(designs))\n",
    "\n",
    "answer(19.1, 242, lambda:\n",
    "       len(possible_designs(designs, patterns)))"
   ]
  },
  {
   "cell_type": "markdown",
   "id": "efc9dc54-cdcc-40d5-85d5-b8ed8da61ba2",
   "metadata": {},
   "source": [
    "# [Day 20](https://adventofcode.com/2024/day/20): Race Condition\n",
    "\n",
    "Yet another puzzle with a grid, this one depicting a racetrack:"
   ]
  },
  {
   "cell_type": "code",
   "execution_count": 880,
   "id": "156dcbf7-79ec-41a7-a9f2-397a827b9856",
   "metadata": {},
   "outputs": [
    {
     "name": "stdout",
     "output_type": "stream",
     "text": [
      "────────────────────────────────────────────────────────────────────────────────────────────────────\n",
      "Puzzle input ➜ 141 strs:\n",
      "────────────────────────────────────────────────────────────────────────────────────────────────────\n",
      "################################################################################################ ...\n",
      "#...#...#...........#...#...#...#...#.....#...###...#...###.........#...#...#.......#...#...#... ...\n",
      "#.#.#.#.#.#########.#.#.#.#.#.#.#.#.#.###.#.#.###.#.#.#.###.#######.#.#.#.#.#.#####.#.#.#.#.#.#. ...\n",
      "#.#...#.#...#.....#...#...#...#.#.#.#...#...#...#.#...#...#.......#...#...#.#.....#.#.#...#.#.#. ...\n",
      "#.#####.###.#.###.#############.#.#.###.#######.#.#######.#######.#########.#####.#.#.#####.#.#. ...\n",
      "#.#.....###...###.......#.......#.#.....#.......#.......#...#.....#...#.....#...#.#.#.....#...#. ...\n",
      "#.#.###################.#.#######.#######.#############.###.#.#####.#.#.#####.#.#.#.#####.#####. ...\n",
      "#.#.#...###...#...#.....#.......#.......#.###...#...###...#.#...#...#...###...#.#.#...###.....#. ...\n",
      "...\n"
     ]
    }
   ],
   "source": [
    "racetrack = Grid(parse(20))"
   ]
  },
  {
   "cell_type": "markdown",
   "id": "57918fd0-bb72-4c5e-8e1f-3bcf164a1d72",
   "metadata": {},
   "source": [
    "### Part 1: How many cheats would save you at least 100 picoseconds?\n",
    "\n",
    "We are told that the grid depicts a single path from start (`S`) to end (`E`). Each step (in one of the four cardinal directions) takes one picosecond. But you are allowed to cheat once during the race by going through a wall: you can take two steps where the first step is into a wall and the second is back on the track. We are asked how many such cheats would save 100 picoseconds or more.\n",
    "\n",
    "This is an all-paths-to-the-goal puzzle, which should make you think [Dijkstra's algorithm](https://en.wikipedia.org/wiki/Dijkstra%27s_algorithm). My function `dijkstra` will return a dict of `{(x, y): distance_to_end}`. It works by maintaining a queue, `Q` of points to be considered, and one at a time popping a point off the queue, and for each neighbor that is not a wall, add the neighbor to the queue and record the distance to the neighbor as being one more than the distance to the point in the dict `D`. Since we are told the grid is single-path, we don't have to worry about updating entries in `D` for a second path to a point.\n",
    "\n",
    "Then my function `cheats` yields all `(start_position, end_position, time_saved)` tuples where the time saved is at least the given lower bound."
   ]
  },
  {
   "cell_type": "code",
   "execution_count": 882,
   "id": "4c4ef05c-b548-49f9-b092-847e9752e745",
   "metadata": {},
   "outputs": [],
   "source": [
    "def dijkstra(grid, end_char='E') -> Dict[Point, int]:\n",
    "    \"\"\"All-paths distances from each point to the end square on the grid: {(x, y): distance}.\"\"\"\n",
    "    end = the(grid.findall(end_char))\n",
    "    D = {end: 0}\n",
    "    Q = [end]\n",
    "    while Q:\n",
    "        p = Q.pop()\n",
    "        for p2 in grid.neighbors(p):\n",
    "            if grid[p2] != '#' and p2 not in D:\n",
    "                Q.append(p2)\n",
    "                D[p2] = D[p] + 1\n",
    "    return D\n",
    "\n",
    "def cheats(racetrack, lower_bound=1) -> Iterable[Tuple[Point, Point, int]]:\n",
    "    \"\"\"All ways of cheating by taking one step onto a wall (at p2) and a second step back on track (at p3).\"\"\"\n",
    "    D = dijkstra(racetrack, 'E')\n",
    "    return ((p1, p3, t)\n",
    "            for p1 in D\n",
    "            for p2 in racetrack.neighbors(p1) if racetrack[p2] == '#'\n",
    "            for p3 in racetrack.neighbors(p2)\n",
    "            if  p3 in D and (t := D[p1] - D[p3] - 2) >= lower_bound)"
   ]
  },
  {
   "cell_type": "code",
   "execution_count": 883,
   "id": "1bbd8b72-c503-4384-aaea-a5bed45a4491",
   "metadata": {},
   "outputs": [
    {
     "data": {
      "text/plain": [
       "Puzzle 20.1:   .029 seconds, answer 1343              ok"
      ]
     },
     "execution_count": 883,
     "metadata": {},
     "output_type": "execute_result"
    }
   ],
   "source": [
    "answer(20.1, 1343, lambda:\n",
    "       quantify(cheats(racetrack, 100)))"
   ]
  },
  {
   "cell_type": "markdown",
   "id": "0f86c3a4-47e7-4731-8acf-9133b3e41838",
   "metadata": {},
   "source": [
    "At first I had a puzzling **bug**. I had a lot of confidence in my code, so I addressed it by carefully re-reading the puzzle description. Then I realized my mistake: I didn't count the 2 picoseconds of cheating as part of the total time. I fixed that by inserting the \"`-2`\" in the last line of `cheats`. In the process of carefully re-reading, I realized that the path through the grid is a single path; I didn't need a queue of points in `dijkstra`; the queue will always be just one point. But changing it wouldn't have a big effect on efficiency, so I'll keep it as is.\n",
    "\n",
    "<img src=\"https://files.mastodon.social/media_attachments/files/113/686/544/560/665/267/small/41dc36dd2b873d41.jpg\" width=400>\n",
    "\n",
    "\n",
    "### Part 2: How many big cheats would save you at least 100 picoseconds?\n",
    "\n",
    "In Part 2 you can use a much bigger cheat, of up to 20 steps (and thus 20 picoseconds). But you can still only use one cheat. I'll tackle this by looking at all points in a neighborhood of radius 20 from each starting point on the path."
   ]
  },
  {
   "cell_type": "code",
   "execution_count": 885,
   "id": "d370e24c-9b82-4415-82a5-7afe2be17654",
   "metadata": {},
   "outputs": [
    {
     "data": {
      "text/plain": [
       "Puzzle 20.2:   .757 seconds, answer 982891            ok"
      ]
     },
     "execution_count": 885,
     "metadata": {},
     "output_type": "execute_result"
    }
   ],
   "source": [
    "def big_cheats(racetrack, lower_bound=1, radius=20) -> Iterable[Tuple[Point, Point, int]]:\n",
    "    \"\"\"All ways of cheating by taking up to `radius` steps through walls and back to the track.\"\"\"\n",
    "    D = dijkstra(racetrack, 'E')\n",
    "    return ((p1, p2, t)\n",
    "            for p1 in D\n",
    "            for p2 in neighborhood(p1, radius)\n",
    "            if  p2 in D and (t := D[p1] - D[p2] - taxi_distance(p1, p2)) >= lower_bound)\n",
    "\n",
    "def neighborhood(point, radius) -> List[Point]:\n",
    "    \"\"\"All points within `radius` of `point` (using taxi distance).\"\"\"\n",
    "    (x, y) = point\n",
    "    return [(x + dx, y + dy) \n",
    "            for dx in range(-radius, radius + 1)\n",
    "            for dy in range(-(radius - abs(dx)), radius - abs(dx) + 1)]\n",
    "\n",
    "answer(20.2, 982891, lambda:\n",
    "       quantify(big_cheats(racetrack, 100, 20)))"
   ]
  },
  {
   "cell_type": "markdown",
   "id": "0022ec12-5359-455f-ace8-c8615d7cd1d2",
   "metadata": {},
   "source": [
    "This solution is backwards-compatible with Part 1:"
   ]
  },
  {
   "cell_type": "code",
   "execution_count": 887,
   "id": "332e9c72-db9a-4b90-a649-45f7bf955e84",
   "metadata": {},
   "outputs": [
    {
     "data": {
      "text/plain": [
       "Puzzle 20.1:   .023 seconds, answer 1343              ok"
      ]
     },
     "execution_count": 887,
     "metadata": {},
     "output_type": "execute_result"
    }
   ],
   "source": [
    "answer(20.1, 1343, lambda:\n",
    "       quantify(big_cheats(racetrack, 100, 2)))"
   ]
  },
  {
   "cell_type": "markdown",
   "id": "6f136dce-d68b-47b1-9b2e-31293f73ed6c",
   "metadata": {},
   "source": [
    "# [Day 21](https://adventofcode.com/2024/day/21): Keypad Conundrum\n",
    "\n",
    "Today's puzzle is simple: unlock the door to Santa's starship by entering some lock codes on a **numeric keypad**. Here are the lock codes:"
   ]
  },
  {
   "cell_type": "code",
   "execution_count": 889,
   "id": "9d0eea9f-9d8f-4410-97ec-13d8b136925b",
   "metadata": {},
   "outputs": [
    {
     "name": "stdout",
     "output_type": "stream",
     "text": [
      "────────────────────────────────────────────────────────────────────────────────────────────────────\n",
      "Puzzle input ➜ 5 strs:\n",
      "────────────────────────────────────────────────────────────────────────────────────────────────────\n",
      "839A\n",
      "169A\n",
      "579A\n",
      "670A\n",
      "638A\n"
     ]
    }
   ],
   "source": [
    "codes = parse(21)"
   ]
  },
  {
   "cell_type": "markdown",
   "id": "adeabd3b-f534-4457-ab7e-3f057c34600f",
   "metadata": {},
   "source": [
    "### Part 1: What is the sum of the complexities of the five codes on your list?\n",
    "\n",
    "We know the codes, so what is the difficulty? Unfortunately, the numeric keypad is inaccessible, so we have to get a **robot** to press the buttons, and we have to command the robot's arm by pressing some buttons on a **remote control directional keypad**: arrow keys to move the arm, and the \"`A`\" (activate) button to make the arm press the button it is currently pointing at. Here are the two keypads:\n",
    "\n",
    "        +---+---+---+            +---+---+\n",
    "        | 7 | 8 | 9 |            | ^ | A |\n",
    "        +---+---+---+        +---+---+---+\n",
    "        | 4 | 5 | 6 |        | < | v | > |\n",
    "        +---+---+---+        +---+---+---+\n",
    "        | 1 | 2 | 3 |\n",
    "        +---+---+---+\n",
    "            | 0 | A |\n",
    "            +---+---+\n",
    "        \n",
    "Long story short: it turns out the robot's remote keypad is *also* inaccessible, and we end up needing **three robots**, each pressing buttons on the next keypad, so there are **four levels** of button pressing all together:\n",
    "\n",
    "- You press some buttons on Robot 3's remote keypad (e.g. \"<vA<<A\"...)\n",
    "- Robot 3 presses some buttons on Robot 2's remote keypad (e.g. \"v<<A>>\"...)\n",
    "- Robot 2 presses some buttons on Robot 1's remote keypad (e.g. \"<A^A^^AvvvA\")\n",
    "- Robot 1 presses some buttons on the door's numeric keypad (e.g. \"029A\").\n",
    "\n",
    "The robots all initially have their arm pointing at the `'A'` key of their respective target keypads. You command them to move the arm by pressing an arrow key on their remote, and command them to press the current button by pressing the `'A'` key.\n",
    "\n",
    "We'd like to find the shortest possible sequence of button presses at the top level. Once we've figured out the shortest button sequence to enter each of the codes, we have to compute the **complexity** of each code, which is defined as the integer part of the code times the length of the shortest possible sequence.\n",
    "\n",
    "Here are some considerations:\n",
    "- To get from one button to the next there can be several paths.\n",
    "- For example, to get from \"A\" to \"7\" the shortest paths include \"^^^<<\" and \"^<^<^\" and \"<^<^^\" (but not \"<<^^^\", because that would hit the empty position, which is forbidden.\n",
    "- Each of these paths have the same length, so if we were directly pressing Robot 1's remote control, any path would do.\n",
    "- However, it might take the robot at the next level a different number of presses to command each of these paths.\n",
    "- To command \"^^^\" the next robot has to command this robot to the \"^\" key and then press \"AAA\". If the \"^\" and \"<\" keys are interspersed, the commands will take more buttons, because there will be navigation between each \"A\". Therefore, I will consider at most two paths: all the horizontal arrows first, then all the veertical, or vice versa.\n",
    "- Fortunately, whenever there is a button press on the numeric keypad, we know that the robots on all the higher-level remote keypads are at \"A\", because each one must have activated a button press to make it all happen.\n",
    "- Therefore, the parts of the problem are *decomposible*: we can optimize \"get the robot arm from the current position to the desired position\" and that will not depend on the solutions to other subparts of the problem.\n",
    "- I'm guessing that in Part 2 the button sequences will be ridiculously long, so I'll look for an efficient representations.\n",
    "    - If Part 2 needs to know something about the actual presses, we could represent it as a `Counter` of start+destination subtasks. For example, if the task is to press \"0909A\", and we always start at \"A\", then we can represent this as `{'A0': 1, '09: 2, '90': 2, '9A': 1}`.\n",
    "    - If Part 2 only needs to know the total number of button presses, then we don't need to explicitly represent the button presses, we just need to count them. I'm going to guess that that will be the case; we're likely to get many more robots and/or keyboards.\n",
    "\n",
    "I could represent a keypad with my `Grid` class, but I don't need what the Grid provides, all I need is a way to look up the (x, y) location of each key. I'll also explicitly save the (x, y) position of the forbidden empty spot as `keypad.avoid`."
   ]
  },
  {
   "cell_type": "code",
   "execution_count": 891,
   "id": "779c6b4c-ceb0-49ac-96f2-4700835c70ea",
   "metadata": {},
   "outputs": [],
   "source": [
    "class Keypad(dict):\n",
    "    \"\"\"A representation of the key positions in a keypad.\"\"\"\n",
    "    def __init__(self, rows):\n",
    "        self.update({char: (x, y) for (y, row) in enumerate(rows) for (x, char) in enumerate(row)})\n",
    "        self.avoid = self['_']\n",
    "        del self['_']\n",
    "\n",
    "numeric_keypad = Keypad(['789', '456', '123', '_0A'])\n",
    "remote_keypad  = Keypad(['_^A', '<v>'])"
   ]
  },
  {
   "cell_type": "markdown",
   "id": "486ae303-36cf-4750-965b-3402eec2b625",
   "metadata": {},
   "source": [
    "Now I can compute the possible paths from any starting key to any destination key on a keypad, and press the destination key. There will be either one or two paths, depending on whether one of them hits the `avoid` spot."
   ]
  },
  {
   "cell_type": "code",
   "execution_count": 893,
   "id": "c915ada2-9dfe-42fe-bd08-855ff5d0e837",
   "metadata": {},
   "outputs": [],
   "source": [
    "def possible_paths(key1, key2, keypad) -> Iterable[str]:\n",
    "    \"\"\"Should we try, e.g. \">>^\" or \"^>>\", or both, to get from key1 to key2 on keypad?\"\"\"\n",
    "    pos1, pos2 = keypad[key1], keypad[key2]\n",
    "    (dx, dy) = sub(pos2, pos1)\n",
    "    horizontal = abs(dx) * ('>' if dx > 0 else '<')\n",
    "    vertical   = abs(dy) * ('v' if dy > 0 else '^')\n",
    "    if add(pos1, (dx, 0)) != keypad.avoid:\n",
    "        yield horizontal + vertical + 'A'\n",
    "    if add(pos1, (0, dy)) != keypad.avoid: \n",
    "        yield vertical + horizontal + 'A'"
   ]
  },
  {
   "cell_type": "code",
   "execution_count": 894,
   "id": "391f6120-6373-43f2-b697-585c90e45e54",
   "metadata": {},
   "outputs": [],
   "source": [
    "assert list(possible_paths('A', '7', numeric_keypad)) == ['^^^<<A']\n",
    "assert list(possible_paths('8', 'A', numeric_keypad)) == ['>vvvA', 'vvv>A']\n",
    "assert list(possible_paths('v', 'A', remote_keypad))  == ['>^A', '^>A']"
   ]
  },
  {
   "cell_type": "markdown",
   "id": "74f1f872-5c0c-4baa-a941-d910dc9c1048",
   "metadata": {},
   "source": [
    "We need to compute the **complexity** of a code for our final answer:"
   ]
  },
  {
   "cell_type": "code",
   "execution_count": 896,
   "id": "1e2e8c59-744f-4f36-9251-c8ea5fd60aed",
   "metadata": {},
   "outputs": [],
   "source": [
    "def complexity(code, num_presses: int): \n",
    "    \"\"\"The integer part of the code times the (niminimum) number of key presses.\"\"\"\n",
    "    return int(cat(digits(code))) * num_presses"
   ]
  },
  {
   "cell_type": "markdown",
   "id": "975b5719-9afc-4b0a-9e07-c1c2b38059f7",
   "metadata": {},
   "source": [
    "And here's how we compute the minimum number of keypresses. Normally I would do this with a `@cache` decorator, but I was encountering **bugs** doing it that way and got confused (off-by-one errors, maybe?), so I refactored to explicitly create a cache of path lengths. The cache says  how many button presses it takes at each level to command a single button press, getting you from the start button to the destination button and pressing the destination button. This approach made debugging  easier for me, or maybe it was just starting over fresh that made it easier."
   ]
  },
  {
   "cell_type": "code",
   "execution_count": 898,
   "id": "704ade67-31e6-4f39-b48c-0a7185c42c48",
   "metadata": {},
   "outputs": [],
   "source": [
    "def min_keypresses(code: str, levels: int, numeric_keypad=numeric_keypad, remote_keypad=remote_keypad) -> int:\n",
    "    \"\"\"The number of keypresses to type `code`, going through `levels`.\"\"\"\n",
    "    def total_presses(keys: str, level: int) -> int:\n",
    "        return sum(one_button_path_lengths[level, key1, key2] \n",
    "                   for key1, key2 in sliding_window('A' + keys, 2))\n",
    "    ## Initializing the one_button_path_lengths[level, key1, key2] dict\n",
    "    one_button_path_lengths = {(0, key1, key2): 1\n",
    "                               for key1 in remote_keypad for key2 in remote_keypad}\n",
    "    for level in range(1, levels):\n",
    "        keypad = numeric_keypad if level == levels - 1 else remote_keypad\n",
    "        for key1 in keypad:\n",
    "            for key2 in keypad:\n",
    "                paths = possible_paths(key1, key2, keypad)\n",
    "                one_button_path_lengths[level, key1, key2] = min(total_presses(path, level - 1) for path in paths)\n",
    "    ## The cache is built, so just add up the one_button_path_lengths.\n",
    "    return total_presses(code, levels - 1)"
   ]
  },
  {
   "cell_type": "code",
   "execution_count": 899,
   "id": "4d8c8659-52d3-4349-8465-7003e880502f",
   "metadata": {},
   "outputs": [],
   "source": [
    "assert list(sliding_window('A029A', 2)) == ['A0', '02', '29', '9A'] # All the start+destination pairs from the code."
   ]
  },
  {
   "cell_type": "markdown",
   "id": "696ad2eb-244a-4ed1-ac0b-d40a0556090f",
   "metadata": {},
   "source": [
    "Here is the answer, which turns out to be a fairly small number:"
   ]
  },
  {
   "cell_type": "code",
   "execution_count": 901,
   "id": "393a8c6b-6a1c-4495-aad5-92f48711fbf1",
   "metadata": {},
   "outputs": [
    {
     "data": {
      "text/plain": [
       "Puzzle 21.1:   .002 seconds, answer 205160            ok"
      ]
     },
     "execution_count": 901,
     "metadata": {},
     "output_type": "execute_result"
    }
   ],
   "source": [
    "answer(21.1, 205160, lambda:\n",
    "       sum(complexity(code, min_keypresses(code, levels=4)) for code in codes))"
   ]
  },
  {
   "cell_type": "markdown",
   "id": "2a16c8f8-e1e5-47f8-b6c6-4a7500a457e6",
   "metadata": {},
   "source": [
    "### Part 2: Now, what is the sum of the complexities of the five codes on your list?\n",
    "\n",
    "As I suspected, Part 2 gets us into the ridiculous number of button presses. The problem is the same, but now there are **27** levels, not 4. No new code, just sum the complexity of the `min_keypresses` again:"
   ]
  },
  {
   "cell_type": "code",
   "execution_count": 903,
   "id": "563c5959-692d-4368-8c0b-469fa0142678",
   "metadata": {},
   "outputs": [
    {
     "data": {
      "text/plain": [
       "Puzzle 21.2:   .008 seconds, answer 252473394928452   ok"
      ]
     },
     "execution_count": 903,
     "metadata": {},
     "output_type": "execute_result"
    }
   ],
   "source": [
    "answer(21.2, 252473394928452, lambda:\n",
    "       sum(complexity(code, min_keypresses(code, levels=27)) for code in codes))"
   ]
  },
  {
   "cell_type": "markdown",
   "id": "56db891e-56c4-4f0a-bab8-545c2ccdbb2c",
   "metadata": {},
   "source": [
    "That's the sum of the complexities, but how many button presses are there?"
   ]
  },
  {
   "cell_type": "code",
   "execution_count": 905,
   "id": "f2d29a66-5420-4fc1-8586-1570ed5ac0a8",
   "metadata": {},
   "outputs": [
    {
     "data": {
      "text/plain": [
       "439646398242"
      ]
     },
     "execution_count": 905,
     "metadata": {},
     "output_type": "execute_result"
    }
   ],
   "source": [
    "sum(min_keypresses(code, levels=27) for code in codes)"
   ]
  },
  {
   "cell_type": "markdown",
   "id": "1cf2d848-2f43-48dc-8862-493cebd94558",
   "metadata": {},
   "source": [
    "If we could press one button per millisecondsecond, it would only take 14 years to do this number of button presses."
   ]
  },
  {
   "cell_type": "markdown",
   "id": "ab5218d4-3c0c-47d8-a105-d0dbced92cd4",
   "metadata": {},
   "source": [
    "# [Day 22](https://adventofcode.com/2024/day/22): Monkey Market\n",
    "\n",
    "Today we are introduced to the monkey exchange market. The monkeys are **buyers** of hiding spots,  offering **bananas** as payment. We need bananas, and fortunately we have many hiding spots to sell. Each monkey has a **secret number** (today's input):"
   ]
  },
  {
   "cell_type": "code",
   "execution_count": 908,
   "id": "2c1e7612-4ec5-4ce1-b591-5c3a14f8ea61",
   "metadata": {},
   "outputs": [
    {
     "name": "stdout",
     "output_type": "stream",
     "text": [
      "────────────────────────────────────────────────────────────────────────────────────────────────────\n",
      "Puzzle input ➜ 1685 strs:\n",
      "────────────────────────────────────────────────────────────────────────────────────────────────────\n",
      "9524047\n",
      "7448470\n",
      "4573369\n",
      "4782321\n",
      "14221799\n",
      "5609429\n",
      "16652319\n",
      "2515459\n",
      "...\n",
      "────────────────────────────────────────────────────────────────────────────────────────────────────\n",
      "Parsed representation ➜ 1685 ints:\n",
      "────────────────────────────────────────────────────────────────────────────────────────────────────\n",
      "9524047\n",
      "7448470\n",
      "4573369\n",
      "4782321\n",
      "14221799\n",
      "5609429\n",
      "16652319\n",
      "2515459\n",
      "...\n"
     ]
    }
   ],
   "source": [
    "secrets = parse(22, int)"
   ]
  },
  {
   "cell_type": "markdown",
   "id": "b7f4cf5f-0e07-4e61-88ce-c3dfd6e3f0c8",
   "metadata": {},
   "source": [
    "### Part 1: What is the sum of the 2000th secret number generated by each buyer?\n",
    "\n",
    "Each buyer's secret number changes on each time step. There is a detailed process for generating the next secret number from the previous secret number, involving dividing, multiplying, XOR-ing, and taking modulos. We are asked for the sum of each buyer's 2000th next secret number. Easy enough:"
   ]
  },
  {
   "cell_type": "code",
   "execution_count": 910,
   "id": "3807adbc-261a-4108-88ba-6e2b061526b5",
   "metadata": {},
   "outputs": [],
   "source": [
    "def nth_secret(secret: int, n=2000) -> int:\n",
    "    \"\"\"Compute the `n`th next secret number after this secret number.\"\"\"\n",
    "    for _ in range(n):\n",
    "        secret ^= (secret *   64) % 16777216\n",
    "        secret ^= (secret //  32) % 16777216\n",
    "        secret ^= (secret * 2048) % 16777216\n",
    "    return secret"
   ]
  },
  {
   "cell_type": "code",
   "execution_count": 911,
   "id": "fce754cd-f6da-4e7d-b406-3314c9c28ca8",
   "metadata": {},
   "outputs": [
    {
     "data": {
      "text/plain": [
       "Puzzle 22.1:   .305 seconds, answer 14273043166       ok"
      ]
     },
     "execution_count": 911,
     "metadata": {},
     "output_type": "execute_result"
    }
   ],
   "source": [
    "answer(22.1, 14273043166, lambda:\n",
    "       sum(map(nth_secret, secrets)))"
   ]
  },
  {
   "cell_type": "markdown",
   "id": "80fea986-b9f3-4184-94b5-5fda551ce115",
   "metadata": {},
   "source": [
    "I note that all the the integer constants in `nth_secret` are powers of 2, so they could be replaced by bit operations. I wonder if I will have to analyze exactly what is going on with these bit operations for Part 2. \n",
    "\n",
    "### Part 2: What is the most bananas you can get?\n",
    "\n",
    "Knowing the timeline of secret numbers is not the whole story. Each buyer monkey has a **price** in bananas that they are offering at each time step. The price is the ones digit of their secret number (e.g., for secret number 9524047 the price is 7 bananas). Each monkey wants to buy exactly one hiding spot. We would like to wait for the highest price from each monkey, but we don't speak monkeese. We do have a translator who speaks a few words, put unfortunately, the translator doesn't know enough to help us sell as soon as the price hits 9 (or 8, or whatever). The translator has only the ability to help as follows:\n",
    "- We tell the translator to watch for a specific sequence of four deltas in price from one time step to the next for the first monkey.\n",
    "    -  For example, watch for the deltas (**+1, -2, 0, +3**) in the price timeline.\n",
    "- As soon as that sequence of 4 deltas appears in a monkey's price timeline, we sell that monkey  a hiding spot for the current price.\n",
    "    - For example, if the prices are (3, 3, 3, 5, 6, 4, 4, 7, ...) then the deltas are (0, 0, +2, **+1, -2, 0, +3**, ...) and we sell for 7 bananas.\n",
    "- The translator simultaneously monitors all the monkeys.\n",
    "\n",
    "Our task is to get the most possible bananas under these constraints. \n",
    "\n",
    "Can we brute-force it? Each delta is between -9 and +9, so the number of possible 4-tuples of deltas is 19<sup>4</sup> or about 100,000; a small number. However, if for each possible 4-tuple of deltas I looked at all 2000 steps of all 1685 monkeys, then 19<sup>4</sup> * 2000 * 1685 is more than 400 billion, which is a medium-large number. So instead I'll do this:\n",
    "\n",
    "    For each monkey:\n",
    "        For each 4-tuple of price deltas in the monkey's price timeline:\n",
    "            If this is the first time this 4-tuple appeared in this monkey's timeline:\n",
    "                then increment the total number of bananas for this 4-tuple by the current price\n",
    "    Finally, take the maximum of the numbers of bananas, across all the recorded 4-tuples\n",
    "\n",
    "Some details:\n",
    "- A `defaultdict(int)` is a great data structure for the 4-tuple to bananas mapping (a `Counter` is also good).\n",
    "- A `deque` with `maxlen=4` is a good data structure for keeping the evolving 4-tuple; just append to the deque and it drops old deltas.\n",
    "- I now call `nth_secret(secret, 1)`, so I wish I had made a separate `next_secret` function in Part 1; it would probably speed things up by a percent or two.\n",
    "- `price_timeline` returns a dict of `{delta-4-tuple: price}` for all the first appearances of a 4-tuple in a given monkey's timeline.\n",
    "- `total_bananas` returns a dict of `{delta-4-tuple: total_price}`, computing the total across all monkeys.\n",
    "- Then we just take the `max` of the `values` of the result of `total_bananas`."
   ]
  },
  {
   "cell_type": "code",
   "execution_count": 913,
   "id": "cbbb4793-b13d-4a95-ba03-673b3ebaa229",
   "metadata": {},
   "outputs": [],
   "source": [
    "Deltas = Tuple[int, int, int, int]\n",
    "\n",
    "def total_bananas(secrets: Ints, n=2000) -> Dict[Deltas, int]:\n",
    "    \"\"\"Pairs of {delta-4-tuple: total_bananas_gained} over all secret numbers,\n",
    "    for the first `n` 4-tuples of deltas.\"\"\"\n",
    "    bananas = defaultdict(int)  # {deltas: total_bananas}\n",
    "    for secret in secrets: # For each monkey ...\n",
    "        for deltas, price in price_timeline(secret, n).items():\n",
    "            bananas[deltas] += price\n",
    "    return bananas\n",
    "    \n",
    "def price_timeline(secret, n=2000) -> Dict[Deltas, int]:\n",
    "    \"\"\"Each {delta-4-tuple: price} in the timeline of this secret number for `n` steps.\"\"\"\n",
    "    timeline = {}             # {delta-4-tuple: price} pairs\n",
    "    deltas = deque(maxlen=4)  # The 4 most recent price deltas  \n",
    "    price = secret % 10       # Initial price\n",
    "    for _ in range(n):\n",
    "        secret = nth_secret(secret, 1)\n",
    "        price, previous_price = secret % 10, price\n",
    "        deltas.append(price - previous_price)\n",
    "        D = tuple(deltas)\n",
    "        if len(D) == 4 and D not in timeline:\n",
    "            timeline[D] = price\n",
    "    return timeline"
   ]
  },
  {
   "cell_type": "code",
   "execution_count": 914,
   "id": "34eaf7fe-fe9b-4858-b1e8-e4c3713ea093",
   "metadata": {},
   "outputs": [
    {
     "data": {
      "text/plain": [
       "Puzzle 22.2:  1.295 seconds, answer 1667              ok"
      ]
     },
     "execution_count": 914,
     "metadata": {},
     "output_type": "execute_result"
    }
   ],
   "source": [
    "answer(22.2, 1667, lambda:\n",
    "    max(total_bananas(secrets).values()))"
   ]
  },
  {
   "cell_type": "markdown",
   "id": "bfc067a9-e6de-4390-bf78-3da283d68465",
   "metadata": {},
   "source": [
    "I'm surprised the answer is so low; less than one banana per monkey. And yet it is the correct answer. Let's investigate. First, what is the best 4-tuple of deltas?"
   ]
  },
  {
   "cell_type": "code",
   "execution_count": 916,
   "id": "a2da8c78-d240-4c52-a83a-f3599f4f69a4",
   "metadata": {},
   "outputs": [
    {
     "data": {
      "text/plain": [
       "(-3, 2, -1, 2)"
      ]
     },
     "execution_count": 916,
     "metadata": {},
     "output_type": "execute_result"
    }
   ],
   "source": [
    "bananas = total_bananas(secrets)\n",
    "best = max(bananas, key=bananas.get) \n",
    "best"
   ]
  },
  {
   "cell_type": "markdown",
   "id": "1e1c48b3-bfff-4e5d-8f6f-9c9fff5f6baa",
   "metadata": {},
   "source": [
    "Now, how many monkeys had this 4-tuple in their timeline, and what prices did each buy at? What was the mean price?"
   ]
  },
  {
   "cell_type": "code",
   "execution_count": 918,
   "id": "9de3f365-c546-494a-a18c-2ae58d88792b",
   "metadata": {},
   "outputs": [
    {
     "name": "stdout",
     "output_type": "stream",
     "text": [
      "271 monkeys (16%), price 6.2 mean: {1: 0, 2: 0, 3: 43, 4: 34, 5: 33, 6: 32, 7: 37, 8: 42, 9: 50}\n"
     ]
    }
   ],
   "source": [
    "prices = [p for secret in secrets for d, p in price_timeline(secret).items() if d == best]\n",
    "histo  = {p: prices.count(p) for p in range(1, 10)}\n",
    "print(f'{len(prices)} monkeys ({len(prices)/len(secrets):.0%}), price {mean(prices):3.1f} mean: {histo}')"
   ]
  },
  {
   "cell_type": "markdown",
   "id": "7fac136e-b676-49c9-91f1-a209b9ef53fa",
   "metadata": {},
   "source": [
    "We do pretty well on prices, getting a lot of 8 and 9 prices, but only 16% of monkeys every get this sequence of price deltas.\n",
    "\n",
    "Do any 4-tuples show up in more timelines?"
   ]
  },
  {
   "cell_type": "code",
   "execution_count": 920,
   "id": "4fc191f9-62d8-47ef-a571-8c0541e25f4d",
   "metadata": {},
   "outputs": [
    {
     "data": {
      "text/plain": [
       "[((0, -1, 1, -1), 322),\n",
       " ((-1, 0, 0, 0), 315),\n",
       " ((0, -1, 0, 0), 315),\n",
       " ((-1, 0, 1, 0), 312),\n",
       " ((1, -2, 1, 0), 303),\n",
       " ((0, 1, -1, 0), 302),\n",
       " ((0, 0, 0, 0), 297),\n",
       " ((0, 1, 0, 0), 295),\n",
       " ((0, 1, 0, -1), 295),\n",
       " ((1, -1, 0, 0), 292)]"
      ]
     },
     "execution_count": 920,
     "metadata": {},
     "output_type": "execute_result"
    }
   ],
   "source": [
    "counts = Counter(delta for secret in secrets for delta in price_timeline(secret))\n",
    "counts.most_common(10)"
   ]
  },
  {
   "cell_type": "markdown",
   "id": "1fa741c6-ecf7-4459-a017-ffa574352d7e",
   "metadata": {},
   "source": [
    "Yes, but not by much, and they are mostly negative-trending 4-tuples. I guess that's why they yielded lower totals."
   ]
  },
  {
   "cell_type": "markdown",
   "id": "bd6330b8-9ddd-4d58-9314-83b47cb2fb78",
   "metadata": {},
   "source": [
    "# [Day 23](https://adventofcode.com/2024/day/23): LAN Party\n",
    "\n",
    "We see that there is a LAN party scheduled for today. Our input is a network map of bidirectional connections between computers:"
   ]
  },
  {
   "cell_type": "code",
   "execution_count": 923,
   "id": "85f5b145-8c5e-448c-8b45-ad5750252ff2",
   "metadata": {},
   "outputs": [
    {
     "name": "stdout",
     "output_type": "stream",
     "text": [
      "────────────────────────────────────────────────────────────────────────────────────────────────────\n",
      "Puzzle input ➜ 3380 strs:\n",
      "────────────────────────────────────────────────────────────────────────────────────────────────────\n",
      "ht-nz\n",
      "pt-uj\n",
      "nr-me\n",
      "qq-up\n",
      "zr-pa\n",
      "ly-wv\n",
      "ei-ry\n",
      "sm-md\n",
      "...\n",
      "────────────────────────────────────────────────────────────────────────────────────────────────────\n",
      "Parsed representation ➜ 3380 tuples:\n",
      "────────────────────────────────────────────────────────────────────────────────────────────────────\n",
      "('ht', 'nz')\n",
      "('pt', 'uj')\n",
      "('nr', 'me')\n",
      "('qq', 'up')\n",
      "('zr', 'pa')\n",
      "('ly', 'wv')\n",
      "('ei', 'ry')\n",
      "('sm', 'md')\n",
      "...\n"
     ]
    }
   ],
   "source": [
    "network = parse(23, atoms)"
   ]
  },
  {
   "cell_type": "markdown",
   "id": "a22e4214-736c-477a-810c-e77fcd68f1b4",
   "metadata": {},
   "source": [
    "### Part 1: Find all the sets of three inter-connected computers. How many contain at least one computer with a name that starts with t?\n",
    "\n",
    "We're asked to find three inter-connected computers, e.g., three computers A, B, C, such that A-B, B-C, and C-A are all in the list of connections (but connections are bidirectional, so either C-A or A-C could be in the input). A set where every node is connected to every other is called a **clique**. I'll represent the network **graph** as a dict of the form `{A: {B, C}}` to denote that node `A` is connected to `B` and `C`. The function `bidrected_graph` forms a graph from an iterable of (A, B) connections. Then `triples_starting_with` finds all cliques of size 3, where at least one of them starts with the given letter. The answer for Part 1 is then the number of triples that start with `t`."
   ]
  },
  {
   "cell_type": "code",
   "execution_count": 925,
   "id": "289d2325-1e58-41f5-b4b2-b90ae26e7887",
   "metadata": {},
   "outputs": [],
   "source": [
    "Clique = set\n",
    "\n",
    "def bidirected_graph(connections) -> dict:\n",
    "    \"\"\"A graph where, e.g., {A: {B, C}} means A is connected to B and C.\"\"\"\n",
    "    graph = defaultdict(set)\n",
    "    for (A, B) in connections:\n",
    "        graph[A].add(B)\n",
    "        graph[B].add(A)\n",
    "    return graph\n",
    "\n",
    "def triples_starting_with(graph, start='') -> Set[Clique]:\n",
    "    \"\"\"All cliques of 3 nodes, where one starts with `start`.\"\"\"\n",
    "    return {frozenset((A, B, C)) \n",
    "            for A in graph if A.startswith(start)\n",
    "            for B in graph[A]\n",
    "            for C in graph[B] if C in graph[A]}"
   ]
  },
  {
   "cell_type": "code",
   "execution_count": 926,
   "id": "6425577d-4ca9-45de-9698-cd9b026f7ce6",
   "metadata": {},
   "outputs": [
    {
     "data": {
      "text/plain": [
       "Puzzle 23.1:   .001 seconds, answer 1170              ok"
      ]
     },
     "execution_count": 926,
     "metadata": {},
     "output_type": "execute_result"
    }
   ],
   "source": [
    "answer(23.1, 1170, lambda:\n",
    "       len(triples_starting_with(bidirected_graph(network), 't')))"
   ]
  },
  {
   "cell_type": "markdown",
   "id": "af420aeb-314b-4750-a424-7daad0ffdd62",
   "metadata": {},
   "source": [
    "### Part 2: What is the password to get into the LAN party?\n",
    "\n",
    "In Part 2 we learn two important facts. First, the LAN party is the largest **clique** in the graph. Second, the **password** is formed by listing the names of all the computers in the LAN party in alphabetical order, and separating them by commas. The function `maximum_clique` finds the largest clique; and `password` creates the password. The function `expand_clique` takes a node, a graph, and a partially-formed clique. It adds the node to the clique, and recursively looks for and adds any other nodes that should be added, finally returning the clique."
   ]
  },
  {
   "cell_type": "code",
   "execution_count": 928,
   "id": "88811073-22b2-4378-afa5-9d38462c63b5",
   "metadata": {},
   "outputs": [],
   "source": [
    "def maximum_clique(graph) -> Clique: \n",
    "    \"\"\"The clique in `graph` with the most members.\"\"\"\n",
    "    return max((expand_clique(A, graph, clique=set()) for A in graph), key=len)\n",
    "\n",
    "def password(names) -> str: return ','.join(sorted(names))\n",
    "    \n",
    "def expand_clique(A, graph, clique) -> Clique:\n",
    "    \"\"\"Expand out from A, adding nodes to `clique` as long as they form a clique.\"\"\"\n",
    "    clique.add(A)\n",
    "    for B in graph[A]:\n",
    "        if B not in clique and clique.issubset(graph[B]):\n",
    "            expand_clique(B, graph, clique)\n",
    "    return clique"
   ]
  },
  {
   "cell_type": "code",
   "execution_count": 929,
   "id": "0b5f08ac-18e2-4933-9737-cdbc842c5809",
   "metadata": {},
   "outputs": [
    {
     "data": {
      "text/plain": [
       "Puzzle 23.2:   .003 seconds, answer bo,dd,eq,ik,lo,lu,ph,ro,rr,rw,uo,wx,yg ok"
      ]
     },
     "execution_count": 929,
     "metadata": {},
     "output_type": "execute_result"
    }
   ],
   "source": [
    "answer(23.2, 'bo,dd,eq,ik,lo,lu,ph,ro,rr,rw,uo,wx,yg', lambda:\n",
    "       password(maximum_clique(bidirected_graph(network))))"
   ]
  },
  {
   "cell_type": "markdown",
   "id": "afa122bf-4459-49c8-98bf-ddc3667fa50c",
   "metadata": {},
   "source": [
    "*Terminology note:* A **maximum clique** is a largest clique in the graph. A **maximal clique** is a clique to which no other node can be added to form a larger clique. Say there are 3 nodes that form a triangle. That's a clique. But if there is a fourth node that is connected to all three noddes in the triangle, then that too is a clique, and it means the triangle is not a maximal clique.\n",
    "\n",
    "*Second thoughts:* I got the right answer, and I coded it up quickly (for me) without errors, but now I'm not sure it handles all possible inputs. Consider the following network, where `{BCD}` means the three nodes form a (non-maximal) clique, and a dashed line means all nodes on each side are connected.\n",
    "\n",
    "    {BCD}--{A}--{EF}\n",
    "\n",
    "The call to `expand_cliqe(A, ...)` might return either `{ABCD}` or `{AEF}`, so it might miss the maximum clique. For this case, `expand_cliqe(B, ...)` will indeed always `{ABCD}`. But I'm not quite sure there can't be some more complex configuration where my algorithm fails."
   ]
  },
  {
   "cell_type": "markdown",
   "id": "88d8883e-922a-4d08-bbec-a01d5bf225ef",
   "metadata": {},
   "source": [
    "# [Day 24](https://adventofcode.com/2024/day/24): Crossed Wire\n",
    "\n",
    "Today we are trying to help the historian to debug a malfunctioning monitoring device, which consistes of some wires and logic gates. Some of the wires have been misrouted. The day's input described the connections in the device. There are two types of inputs: an input wire is described with its name and its bit value: `x00: 1`, and a logic gate is described with the two input wire names, the operation, and the output wire name: `x00 AND y00 -> z00`.\n",
    "\n",
    "<img src=\"https://files.mastodon.social/media_attachments/files/113/709/889/001/483/227/small/5803deed6973ab22.jpg\" width=400>\n",
    "\n",
    "For now I'll just parse each line as a sequence of atoms: "
   ]
  },
  {
   "cell_type": "code",
   "execution_count": 932,
   "id": "47421581-71df-4c72-a62e-c40d0596fdbb",
   "metadata": {},
   "outputs": [
    {
     "name": "stdout",
     "output_type": "stream",
     "text": [
      "────────────────────────────────────────────────────────────────────────────────────────────────────\n",
      "Puzzle input ➜ 313 strs:\n",
      "────────────────────────────────────────────────────────────────────────────────────────────────────\n",
      "x00: 1\n",
      "x01: 1\n",
      "x02: 0\n",
      "x03: 0\n",
      "x04: 0\n",
      "x05: 1\n",
      "x06: 0\n",
      "x07: 1\n",
      "...\n",
      "────────────────────────────────────────────────────────────────────────────────────────────────────\n",
      "Parsed representation ➜ 313 tuples:\n",
      "────────────────────────────────────────────────────────────────────────────────────────────────────\n",
      "('x00', 1)\n",
      "('x01', 1)\n",
      "('x02', 0)\n",
      "('x03', 0)\n",
      "('x04', 0)\n",
      "('x05', 1)\n",
      "('x06', 0)\n",
      "('x07', 1)\n",
      "...\n"
     ]
    }
   ],
   "source": [
    "connections = parse(24, atoms)"
   ]
  },
  {
   "cell_type": "markdown",
   "id": "354dd8da-2737-45c2-af8c-b4b30584ae9a",
   "metadata": {},
   "source": [
    "### Part 1: Simulate the system of gates and wires. What decimal number does it output on the wires starting with z?\n",
    "\n",
    "We can't just treat the device as a program where we execute statements in order, because in a statement like `z01 = bfn XOR y33`, the values of `bfn` and `y33` may not yet be determined. But we can execute *backwards*, as a [dataflow architecture](https://en.wikipedia.org/wiki/Dataflow_architecture). To go backwards we'll need a mapping from each output wire to where it comes from: either a bit value or a gate. I'll define `Device` as a subclass of `dict` where the keys are wire names and the values are either bits or gates."
   ]
  },
  {
   "cell_type": "code",
   "execution_count": 934,
   "id": "43b29260-d912-4cfc-91ce-d303ec1c86df",
   "metadata": {},
   "outputs": [],
   "source": [
    "class Device(dict):\n",
    "    \"\"\"A mapping of {wire_name: bit_value_or_gate}, assembled from a device specification.\"\"\"\n",
    "    def __init__(self, lines: Tuple[Tuple]):\n",
    "        for line in lines:\n",
    "            match line: \n",
    "                case (wire, bit):          # e.g., ('x00', 1)\n",
    "                    self[wire] = bit\n",
    "                case (x, op, y, wire):      # e.g., ('y33', 'AND', 'x33', 'bfn')\n",
    "                    self[wire] = (x, op, y)"
   ]
  },
  {
   "cell_type": "markdown",
   "id": "ff09bc35-43a4-45c1-bc00-c9cd6a1d7f69",
   "metadata": {},
   "source": [
    "Next, the function `simulate` does the dataflow computation. We start from the outputs (the wires whose first letter is `'z'`) and try to **get** their values. If the value is a bit, great, we got it. If the value is a gate, then we recursively **get** the values of both of the gate's input wires, and perform the gate's boolean operation on them. When we're done calculating all the output variables, the function `simulate` returns their values as a string of `'0'` or `'1'` characters."
   ]
  },
  {
   "cell_type": "code",
   "execution_count": 936,
   "id": "a9a4780f-6033-452f-b49c-74b97c9e2440",
   "metadata": {},
   "outputs": [],
   "source": [
    "def simulate(device: Device) -> str:\n",
    "    \"\"\"Use dataflow to get the values of the output bits of this device (as a \"01\" str).\"\"\"\n",
    "    def get(w) -> int: \n",
    "        match device[w]:\n",
    "            case (x, op, y): return operators[op](get(x), get(y))\n",
    "            case bit:        return bit\n",
    "    return cat(map(get, wires(device, 'z')))\n",
    "\n",
    "operators = dict(XOR=operator.xor, AND=min, OR=max)\n",
    "\n",
    "def wires(device: Device, letter: str) -> List[str]: \n",
    "    \"\"\"The names of all the wires that start with the given letter, in sorted order.\"\"\"\n",
    "    return sorted([w for w in device if w.startswith(letter)], reverse=True)"
   ]
  },
  {
   "cell_type": "code",
   "execution_count": 937,
   "id": "72437439-dddf-4202-9944-36e796800304",
   "metadata": {},
   "outputs": [
    {
     "data": {
      "text/plain": [
       "Puzzle 24.1:   .001 seconds, answer 36035961805936    ok"
      ]
     },
     "execution_count": 937,
     "metadata": {},
     "output_type": "execute_result"
    }
   ],
   "source": [
    "answer(24.1, 36035961805936, lambda:\n",
    "   int(simulate(Device(connections)), base=2))"
   ]
  },
  {
   "cell_type": "markdown",
   "id": "7ddc7897-5ff2-46bc-999d-302c92c137da",
   "metadata": {},
   "source": [
    "At first I fell victim to one of the [**classic blunders**](https://youtu.be/RWW6aDpUvbQ?si=0uvZFEYgY9i_441N): using the wrong [**endianness**](https://en.wikipedia.org/wiki/Endianness) of my bits. After re-reading the puzzle description, I fixed the **bug** by adding `reverse=True` to `wires`."
   ]
  },
  {
   "cell_type": "markdown",
   "id": "c42bd211-b999-4dd8-9e34-aebf042e55e4",
   "metadata": {},
   "source": [
    "### Part 2: What do you get if you sort the names of the eight wires involved in a swap and then join those names with commas?\n",
    "\n",
    "In Part 2 we are told that the system is attempting to do addition: treating the `x` wires as a binary number and the `y` wires as another binary number, and computing their sum and outputting it to the `z` wires. But four pairs of output wires are swapped with each other. Our job is to find all eight swapped wires. For example, one pair might be `(z01, z02)` if we detect the following fault:\n",
    "\n",
    "      Faulty gates:              Corrected gates:\n",
    "      a XOR b -> z01             a XOR b -> z02\n",
    "      c XOR d -> z02             c XOR d -> z01\n",
    "\n",
    "I have four ideas of how to proceed, none of them completely compelling:\n",
    "1) Plot the circuit diagram and see if anythng looks funny.\n",
    "    - Making a nice plot might be tedious, and I'm worried about the ordering of the two input wires to each gate being confusing.\n",
    "2) Examine the structure of the device and look for something that breaks the pattern.\n",
    "    - For example, calculate the depth, number of transitive inputs, number of transitive outputs, etc. for each gate, and look for broken patterns.\n",
    "    - This might help me, as a detective, uncover the answer, but if I was given another input device I'd have to start all over.\n",
    "3) Choose `x` and `y` numbers as input, run the simulation, and compare the resulting `z` values to the correct answer.\n",
    "    - If I chose random numbers it might take a long time to isolate the faults.\n",
    "    - It is easy to identify faulty output (`z`) values; trickier to identify faults in internal gates.\n",
    "    - I could test the one-bit adders one at a time (with and without carry). But I don't know if that would always work.\n",
    "4) I know how an adder circuit is conventionally built; if our device is like that, we should be able to see if each bit conforms to the pattern.\n",
    "    - When it doesn't, I can swap wires to make it conform.\n",
    "    - I don't know if this approach will find all faults.\n",
    "    - It could be that the device is a correct adder, but is built in a non-conventional way.\n",
    " \n",
    "Here's a picture of a (one-bit) full adder; we have two XOR gates, two AND gates, and one OR gate for every output wire (except for `z00`, which doesn't have a carry bit). \n",
    "![Adder from Wikipedia](https://blogger.googleusercontent.com/img/b/R29vZ2xl/AVvXsEhCXZpXA19TudYZz-S51V6WZ_b1HPAbA-uozACxQdnavllWn9oUrVwID5eOmtOhUhFHZZKadar5TY3os2H-Vs4uiCK92wEERCFSOAamOTwOZTQ_q034zdMUhSmxYNihUHWRIRVwLJVoR7Zo1u7-dPL9gysEifyvQqO8AnTvGv9oEAgkxTZMuVyNVN-D/w400-h245/nbit_1.png) \n",
    "\n",
    "Let's see if this matches the number of gates in our device:"
   ]
  },
  {
   "cell_type": "code",
   "execution_count": 940,
   "id": "3b41a166-d33b-402b-971b-1dc1d33135ec",
   "metadata": {},
   "outputs": [
    {
     "data": {
      "text/plain": [
       "Counter({'AND': 89, 'XOR': 89, 'OR': 44})"
      ]
     },
     "execution_count": 940,
     "metadata": {},
     "output_type": "execute_result"
    }
   ],
   "source": [
    "Counter(val[1] for val in Device(connections).values() if val not in (0, 1))"
   ]
  },
  {
   "cell_type": "markdown",
   "id": "c1f072b2-8c7f-40b2-9712-d0fc0dee62e7",
   "metadata": {},
   "source": [
    "It does match, so I guess our device is probably implementing the conventional circuit layout. Therefore I'll try approach (4). \n",
    " \n",
    "The first trouble I ran into was that the two inputs to a gate could be in either order. I will canonicalize this, so that the first input wire is always alphabetically before the second one. The function `canon` enforces this canonicalization. I'll redefine `Device` to use it, and also to cache the **inverse** mapping: from gates to output wires rather than from output wires to gates/bits."
   ]
  },
  {
   "cell_type": "code",
   "execution_count": 942,
   "id": "ec8d86d4-8caf-40f2-b516-c7da4acbda19",
   "metadata": {},
   "outputs": [],
   "source": [
    "class Device(dict):\n",
    "    \"\"\"A mapping of {wire_name: bit_value_or_gate}, assembled from a device specification.\n",
    "    Also caches the inverse as a dict under self.inverse.\"\"\"\n",
    "    def __init__(self, lines: Tuple[Tuple]):\n",
    "        for line in lines:\n",
    "            match line: \n",
    "                case (wire, bit):          # e.g., ('x00', 1)\n",
    "                    self[wire] = bit\n",
    "                case (x, op, y, out):      # e.g., ('y33', 'AND', 'x33', 'bfn')\n",
    "                    self[out] = canon(x, op, y) # canonicalize order \n",
    "        self.inverse = {self[w]: w for w in self if self[w] not in (0, 1)} # Inverse mapping\n",
    "                    \n",
    "def canon(x, op, y) -> Tuple: \n",
    "    \"\"\"The canonical ordering of the two input wires (and the operator).\"\"\"\n",
    "    return (min(x, y), op, max(x, y))"
   ]
  },
  {
   "cell_type": "markdown",
   "id": "47ef587b-d8de-401d-9015-e4b81e1eef96",
   "metadata": {},
   "source": [
    "Here's the code to walk through the diagram, looking for the XOR and AND gates for each input, finding misplaced wires, and swapping them."
   ]
  },
  {
   "cell_type": "code",
   "execution_count": 944,
   "id": "7ed8f8e6-c3e1-4c22-b812-e1a201afec3d",
   "metadata": {},
   "outputs": [],
   "source": [
    "def find_swaps(device):\n",
    "    \"\"\"For each bit position in the inputs, x and y, look forward for the\n",
    "    XOR and AND gates they participate in, then look backwards from the \n",
    "    corresponding z output, and see where they fail to match up,\n",
    "    and swap wires accordingly, yielding each swapped wire.\"\"\"\n",
    "    \n",
    "    def wire(x, op, y): return device.inverse.get(canon(x, op, y), None)\n",
    "        \n",
    "    for i in range(len(wires(device, 'x'))):\n",
    "        x, y, z = [f'{v}{i:02d}' for v in 'xyz']\n",
    "        if x == 'x00':\n",
    "            carry = wire(x, 'AND', y)\n",
    "        else:\n",
    "            a, b = carry, wire(x, 'XOR', y)\n",
    "            if not wire(a, 'XOR', b):\n",
    "                a2, op, b2, = device[z] # Look backwards from z to see if they hook up\n",
    "                once = [w for w in (a, b, a2, b2) if [a, b, a2, b2].count(w) == 1]\n",
    "                if len(once) == 2: # Wires that appear once in the two gates; they don't connect properly\n",
    "                  yield from swap(*once, device)\n",
    "            elif wire(a, 'XOR', b) != z:\n",
    "                yield from swap(z, wire(a, 'XOR', b), device)\n",
    "            carry = wire(carry, 'AND', wire(x, 'XOR', y)) # The carry gets propagated through two gates\n",
    "            carry = wire(carry, 'OR',  wire(x, 'AND', y))\n",
    "\n",
    "def swap(a: str, b: str, device: dict) -> Set[str]:\n",
    "    \"\"\"Swap wires `a` and `b` in device (and also update the inverse mapping).\"\"\"\n",
    "    inv = device.inverse\n",
    "    device[a], device[b] = device[b], device[a]\n",
    "    inv[device[a]], inv[device[b]] = inv[device[b]], inv[device[a]]\n",
    "    return a, b"
   ]
  },
  {
   "cell_type": "code",
   "execution_count": 945,
   "id": "e9b87c38-f67c-4948-9af6-251021747e9d",
   "metadata": {},
   "outputs": [
    {
     "data": {
      "text/plain": [
       "Puzzle 24.2:   .000 seconds, answer jqf,mdd,skh,wpd,wts,z11,z19,z37 ok"
      ]
     },
     "execution_count": 945,
     "metadata": {},
     "output_type": "execute_result"
    }
   ],
   "source": [
    "answer(24.2, 'jqf,mdd,skh,wpd,wts,z11,z19,z37', lambda:\n",
    "       ','.join(sorted(find_swaps(Device(connections)))))"
   ]
  },
  {
   "cell_type": "markdown",
   "id": "b8d3967e-3473-47b0-b1b8-687c56e49138",
   "metadata": {},
   "source": [
    "# [Day 25](https://adventofcode.com/2024/day/25): Code Chronicle\n",
    "\n",
    "We're trying to get into the Chief Historian's office, but the door is locked. We have the schematics of all the locks and keys on the floor we're on, and we need to see which key could fit which lock. A lock is described with 5 columns of different length growing down from the top, and a key has five columns growing up from the bottom. A key and a lock are a possible fit if none of the five lines overlap; that is, since the lock cylinder has height 7 units, it is a possible fit if none of the five columns has more than 7 total `'#'` marks for the lock and the key combined.\n",
    "\n",
    "We'll parse the schematics into paragraphs, where each one is a list of lines."
   ]
  },
  {
   "cell_type": "code",
   "execution_count": 947,
   "id": "f5971853-7139-4f17-bdc5-6c51e12a928d",
   "metadata": {},
   "outputs": [
    {
     "name": "stdout",
     "output_type": "stream",
     "text": [
      "────────────────────────────────────────────────────────────────────────────────────────────────────\n",
      "Puzzle input ➜ 3999 strs:\n",
      "────────────────────────────────────────────────────────────────────────────────────────────────────\n",
      "#####\n",
      "####.\n",
      "####.\n",
      "####.\n",
      "##.#.\n",
      "#....\n",
      ".....\n",
      "\n",
      "...\n",
      "────────────────────────────────────────────────────────────────────────────────────────────────────\n",
      "Parsed representation ➜ 500 lists:\n",
      "────────────────────────────────────────────────────────────────────────────────────────────────────\n",
      "['#####', '####.', '####.', '####.', '##.#.', '#....', '.....']\n",
      "['#####', '####.', '##.#.', '##.#.', '.#.#.', '.#.#.', '.....']\n",
      "['.....', '.....', '#..#.', '#..#.', '##.##', '#####', '#####']\n",
      "['#####', '###.#', '#.#.#', '#.#.#', '#.#..', '#....', '.....']\n",
      "['#####', '##.#.', '#..#.', '#..#.', '#..#.', '#..#.', '.....']\n",
      "['#####', '#####', '#####', '#.##.', '..##.', '...#.', '.....']\n",
      "['#####', '#.###', '...#.', '.....', '.....', '.....', '.....']\n",
      "['.....', '.....', '.....', '.#.#.', '##.#.', '#####', '#####']\n",
      "...\n"
     ]
    }
   ],
   "source": [
    "schematics = parse(25, lines, sections=paragraphs)"
   ]
  },
  {
   "cell_type": "markdown",
   "id": "3bece291-f0e6-463a-9ac9-401563c5184b",
   "metadata": {},
   "source": [
    "### Part 1: How many unique lock/key pairs fit together without overlapping in any column?\n",
    "\n",
    "First we separate the schematics into locks and keys, transforming each one into a list of column heights. To begin with, each schematic is a list of rows. The function `heights` takes the transpose, `T(schematic)`, to get a list of columns, then uses `count` to count the number of `'#'` characters in each column. For example, the first lock is:\n",
    "\n",
    "     ['#####', '####.', '####.', '####.', '##.#.', '#....', '.....']\n",
    "\n",
    "We transpose that to get a list of columns, and count the number of `'#'` characters in each column:\n",
    "\n",
    "     [6, 5, 4, 5, 1]\n",
    "\n",
    "Then for each lock/key pair, we see if they can fit by checking that all columns have no more than 7 total `'#'` characters."
   ]
  },
  {
   "cell_type": "code",
   "execution_count": 949,
   "id": "5302ac58-91fc-475a-83d9-cea91457df3b",
   "metadata": {},
   "outputs": [],
   "source": [
    "def count_fits(schematics) -> List:\n",
    "    \"\"\"Try all key/lock combinations and count how many fit each other.\"\"\"\n",
    "    locks = [heights(s) for s in schematics if s[0] == '#####']\n",
    "    keys  = [heights(s) for s in schematics if s[0] != '#####']\n",
    "    return quantify(can_fit(key, lock) for lock in locks for key in keys)\n",
    "    \n",
    "def can_fit(key: Ints, lock: Ints): \n",
    "    \"\"\"The key can fit the lock if the sum of the '#' count in each column is <= 7.\"\"\"\n",
    "    return all(lock[c] + key[c] <= 7 for c in range(5))\n",
    "\n",
    "def heights(schematic) -> List[int]:\n",
    "    \"\"\"A counter of {column_number: (number of '#' in that column)}.\"\"\"\n",
    "    return [column.count('#') for column in T(schematic)] # Remember, `T` is transpose"
   ]
  },
  {
   "cell_type": "code",
   "execution_count": 950,
   "id": "c415f5c1-76c3-486c-9075-c46a5a8c5bcb",
   "metadata": {},
   "outputs": [],
   "source": [
    "assert heights(['#####', '####.', '####.', '####.', '##.#.', '#....', '.....']) == [6, 5, 4, 5, 1]"
   ]
  },
  {
   "cell_type": "code",
   "execution_count": 951,
   "id": "89c28b74-ed31-4bb5-b463-7177952a95ae",
   "metadata": {},
   "outputs": [
    {
     "data": {
      "text/plain": [
       "Puzzle 25.1:   .022 seconds, answer 3196              ok"
      ]
     },
     "execution_count": 951,
     "metadata": {},
     "output_type": "execute_result"
    }
   ],
   "source": [
    "answer(25.1, 3196, lambda:\n",
    "       count_fits(schematics))"
   ]
  },
  {
   "cell_type": "markdown",
   "id": "ce1c8e04-5297-4798-969d-3cc9210bfd9a",
   "metadata": {},
   "source": [
    "And with that, we're done! \n",
    "\n",
    "Thanks, [Eric Wastl](https://adventofcode.com/2024/about)!\n",
    "\n",
    "<img src=\"https://files.mastodon.social/media_attachments/files/113/714/790/660/920/471/small/c34a34c48bad3d94.jpg\" width=400>"
   ]
  },
  {
   "cell_type": "markdown",
   "id": "3e78ac0f-5866-4620-8114-1b05b5c44de1",
   "metadata": {},
   "source": [
    "# Summary\n",
    "\n",
    "Here are all the puzzle answers and timings. I got all the puzzles right! And I did it before midnight on December 25th, a rarity for me. \n",
    "\n",
    "The median run time is under 10 milliseconds, with 4 puzzles taking over a second. I didn't count the time that `parse` takes, but that is less than a millisecond per day."
   ]
  },
  {
   "cell_type": "code",
   "execution_count": 954,
   "id": "34813fc9-a000-4cd8-88ae-692851b3242c",
   "metadata": {},
   "outputs": [
    {
     "name": "stdout",
     "output_type": "stream",
     "text": [
      "Puzzle  1.1:   .000 seconds, answer 1830467           ok\n",
      "Puzzle  1.2:   .000 seconds, answer 26674158          ok\n",
      "Puzzle  2.1:   .000 seconds, answer 257               ok\n",
      "Puzzle  2.2:   .002 seconds, answer 328               ok\n",
      "Puzzle  3.1:   .001 seconds, answer 156388521         ok\n",
      "Puzzle  3.2:   .000 seconds, answer 75920122          ok\n",
      "Puzzle  4.1:   .022 seconds, answer 2401              ok\n",
      "Puzzle  4.2:   .016 seconds, answer 1822              ok\n",
      "Puzzle  5.1:   .001 seconds, answer 5762              ok\n",
      "Puzzle  5.2:   .001 seconds, answer 4130              ok\n",
      "Puzzle  6.1:   .002 seconds, answer 5329              ok\n",
      "Puzzle  6.2:  1.976 seconds, answer 2162              ok\n",
      "Puzzle  7.1:   .014 seconds, answer 1985268524462     ok\n",
      "Puzzle  7.2:   .593 seconds, answer 150077710195188   ok\n",
      "Puzzle  8.1:   .003 seconds, answer 220               ok\n",
      "Puzzle  8.2:   .003 seconds, answer 813               ok\n",
      "Puzzle  9.1:   .020 seconds, answer 6332189866718     ok\n",
      "Puzzle  9.2:  2.748 seconds, answer 6353648390778     ok\n",
      "Puzzle 10.1:   .005 seconds, answer 744               ok\n",
      "Puzzle 10.2:   .006 seconds, answer 1651              ok\n",
      "Puzzle 11.1:   .002 seconds, answer 194482            ok\n",
      "Puzzle 11.2:   .055 seconds, answer 232454623677743   ok\n",
      "Puzzle 12.1:   .030 seconds, answer 1402544           ok\n",
      "Puzzle 12.2:   .042 seconds, answer 862486            ok\n",
      "Puzzle 13.1:   .000 seconds, answer 29598             ok\n",
      "Puzzle 13.2:   .000 seconds, answer 93217456941970    ok\n",
      "Puzzle 14.1:   .000 seconds, answer 216027840         ok\n",
      "Puzzle 14.2:  1.833 seconds, answer 6876              ok\n",
      "Puzzle 15.1:   .029 seconds, answer 1563092           ok\n",
      "Puzzle 15.2:   .042 seconds, answer 1582688           ok\n",
      "Puzzle 16.1:   .139 seconds, answer 103512            ok\n",
      "Puzzle 16.2:   .985 seconds, answer 554               ok\n",
      "Puzzle 17.1:   .000 seconds, answer 2,1,0,1,7,2,5,0,3 ok\n",
      "Puzzle 17.2:   .004 seconds, answer 267265166222235   ok\n",
      "Puzzle 18.1:   .014 seconds, answer 344               ok\n",
      "Puzzle 18.2:   .032 seconds, answer 46,18             ok\n",
      "Puzzle 19.1:   .002 seconds, answer 242               ok\n",
      "Puzzle 19.2:   .185 seconds, answer 595975512785325   ok\n",
      "Puzzle 20.1:   .023 seconds, answer 1343              ok\n",
      "Puzzle 20.2:   .757 seconds, answer 982891            ok\n",
      "Puzzle 21.1:   .002 seconds, answer 205160            ok\n",
      "Puzzle 21.2:   .008 seconds, answer 252473394928452   ok\n",
      "Puzzle 22.1:   .305 seconds, answer 14273043166       ok\n",
      "Puzzle 22.2:  1.295 seconds, answer 1667              ok\n",
      "Puzzle 23.1:   .001 seconds, answer 1170              ok\n",
      "Puzzle 23.2:   .003 seconds, answer bo,dd,eq,ik,lo,lu,ph,ro,rr,rw,uo,wx,yg ok\n",
      "Puzzle 24.1:   .001 seconds, answer 36035961805936    ok\n",
      "Puzzle 24.2:   .000 seconds, answer jqf,mdd,skh,wpd,wts,z11,z19,z37 ok\n",
      "Puzzle 25.1:   .022 seconds, answer 3196              ok\n",
      "\n",
      "Correct: 49/49\n",
      "\n",
      "Time in seconds: 0.006 median, 0.229 mean, 11.227 total.\n"
     ]
    }
   ],
   "source": [
    "summary(answers)"
   ]
  }
 ],
 "metadata": {
  "kernelspec": {
   "display_name": "Python 3 (ipykernel)",
   "language": "python",
   "name": "python3"
  },
  "language_info": {
   "codemirror_mode": {
    "name": "ipython",
    "version": 3
   },
   "file_extension": ".py",
   "mimetype": "text/x-python",
   "name": "python",
   "nbconvert_exporter": "python",
   "pygments_lexer": "ipython3",
   "version": "3.12.7"
  }
 },
 "nbformat": 4,
 "nbformat_minor": 5
}
