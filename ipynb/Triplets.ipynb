{
 "cells": [
  {
   "cell_type": "code",
   "execution_count": 7,
   "id": "15a565d8-b9ee-427d-8631-6e1a26089b7f",
   "metadata": {},
   "outputs": [
    {
     "data": {
      "text/plain": [
       "(0, 4, 7, 5, 2, 6, 1, 3)"
      ]
     },
     "execution_count": 7,
     "metadata": {},
     "output_type": "execute_result"
    }
   ],
   "source": [
    "from itertools import permutations\n",
    "from typing import *\n",
    "\n",
    "def nqueens(n=8) -> Iterable[Sequence[int]]:\n",
    "    \"\"\"All ways of arranging `n` non-attacking queens on an `n` x `n` board.\n",
    "    Each way is a sequence of `n` column numbers, one for each row\"\"\"\n",
    "    return (cols for cols in permutations(range(n))\n",
    "            if  different(diagonal1(cols)) \n",
    "            and different(diagonal2(cols)))\n",
    "\n",
    "def different(items) -> bool: return len(items) == len(set(items))\n",
    "def diagonal1(cols): return [col - row for row, col in enumerate(cols)]\n",
    "def diagonal2(cols): return [col + row for row, col in enumerate(cols)]\n",
    "\n",
    "assert len(set(nqueens(8))) == 92\n",
    "\n",
    "next(nqueens(8))"
   ]
  },
  {
   "cell_type": "code",
   "execution_count": 8,
   "id": "fd7a971c-d3f4-4f2e-89db-777fb2a208d4",
   "metadata": {},
   "outputs": [
    {
     "name": "stdout",
     "output_type": "stream",
     "text": [
      "Q . . . . . . . \n",
      ". . . . Q . . . \n",
      ". . . . . . . Q \n",
      ". . . . . Q . . \n",
      ". . Q . . . . . \n",
      ". . . . . . Q . \n",
      ". Q . . . . . . \n",
      ". . . Q . . . . \n"
     ]
    }
   ],
   "source": [
    "def show(queens, dot='. ', Q='Q ') -> None:\n",
    "    \"\"\"Print the board.\"\"\"\n",
    "    m = max(queens)\n",
    "    for col in queens:\n",
    "        print(dot * col + Q + dot * (m - col))\n",
    "\n",
    "show(next(nqueens()))    "
   ]
  },
  {
   "cell_type": "code",
   "execution_count": 6,
   "id": "f8a27ed0-c2b1-47a0-bdf0-c6a8cd789dc5",
   "metadata": {},
   "outputs": [
    {
     "data": {
      "text/plain": [
       "[(1, 2, 54),\n",
       " (1, 3, 36),\n",
       " (1, 4, 27),\n",
       " (1, 6, 18),\n",
       " (1, 9, 12),\n",
       " (2, 3, 18),\n",
       " (2, 6, 9),\n",
       " (3, 4, 9)]"
      ]
     },
     "execution_count": 6,
     "metadata": {},
     "output_type": "execute_result"
    }
   ],
   "source": [
    "import math\n",
    "from itertools import combinations\n",
    "\n",
    "def find_product(n, k) -> List[Tuple[int, ...]]:\n",
    "    \"\"\"A list of all ways in which `k` distinct positive integers have a product of `n`.\"\"\" \n",
    "    factors = {i for i in range(1, n + 1) if n % i == 0}\n",
    "    return [tup for tup in combinations(factors, k) if math.prod(tup) == n]\n",
    "\n",
    "find_product(108, 3)"
   ]
  },
  {
   "cell_type": "code",
   "execution_count": 4,
   "id": "c248a136-5ed5-40dd-ad48-b303e99c3675",
   "metadata": {},
   "outputs": [
    {
     "name": "stdout",
     "output_type": "stream",
     "text": [
      "Triplets with product 108:\n",
      "(1, 2, 54)\n",
      "(1, 3, 36)\n",
      "(1, 4, 27)\n",
      "(1, 6, 18)\n",
      "(1, 9, 12)\n",
      "(2, 3, 18)\n",
      "(2, 6, 9)\n",
      "(3, 4, 9)\n"
     ]
    }
   ],
   "source": [
    "def find_triplets(target_product):\n",
    "    triplets = []\n",
    "    for a in range(1, target_product + 1):\n",
    "        for b in range(a + 1, target_product + 1):  # Ensure distinctness (b > a)\n",
    "            c = target_product // (a * b)\n",
    "            if a * b * c == target_product and c > b:  # Ensure distinctness (c > b)\n",
    "                triplets.append((a, b, c))\n",
    "    return triplets\n",
    "\n",
    "target_product = 108\n",
    "triplets = find_triplets(target_product)\n",
    "\n",
    "if triplets:\n",
    "    print(f\"Triplets with product {target_product}:\")\n",
    "    for triplet in triplets:\n",
    "        print(triplet)\n",
    "else:\n",
    "    print(f\"No triplets found with product {target_product}\")"
   ]
  },
  {
   "cell_type": "code",
   "execution_count": null,
   "id": "6db0bbe1-5156-4e05-9a02-bbe3ed156f89",
   "metadata": {},
   "outputs": [],
   "source": []
  }
 ],
 "metadata": {
  "kernelspec": {
   "display_name": "Python 3 (ipykernel)",
   "language": "python",
   "name": "python3"
  },
  "language_info": {
   "codemirror_mode": {
    "name": "ipython",
    "version": 3
   },
   "file_extension": ".py",
   "mimetype": "text/x-python",
   "name": "python",
   "nbconvert_exporter": "python",
   "pygments_lexer": "ipython3",
   "version": "3.8.15"
  }
 },
 "nbformat": 4,
 "nbformat_minor": 5
}
